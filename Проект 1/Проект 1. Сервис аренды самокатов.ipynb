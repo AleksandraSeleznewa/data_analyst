{
 "cells": [
  {
   "cell_type": "markdown",
   "id": "c66cdf26",
   "metadata": {},
   "source": [
    "<div class=\"alert alert-success\">\n",
    "<font size=\"5\", color= \"seagreen\"><b>✔️ Комментарий ревьюера в2</b></font>\n",
    "    <br /> \n",
    "    <font size=\"3\", color = \"black\">\n",
    "<br />  Привет, Александра :) \n",
    "        \n",
    "Спасибо за все исправления и комментарий\n",
    "        \n",
    "Основные навыки, тестируемые на проекте:\n",
    "        \n",
    " + внимательное чтение технического задания проекта \n",
    " + объединение разных таблиц в единый датасет, — на рабочих проектах стоит уделить особое внимание на способы объединения (left или inner, можно кого-нить забыть, значение параметра how по умолчанию), на пропуски и возможные дубликаты\n",
    " + формирование, чтение и сравнение показателей на графике двух выборок, \n",
    " + формирование выводов о данных по статистическим показателям,\n",
    " + формулирование и проверка односторонних и двусторонних гипотез,\n",
    " + формирование рекомендаций для бизнеса \n",
    "        \n",
    "        \n",
    "<b>Поздравляю со сданным проектом на факультете дата-аналитики Я.Практикум</b>\n",
    "\n",
    "<div class=\"alert alert-success\">\n",
    "    <font size=\"5\", color= \"seagreen\"><b>Успехов в дальнейшей учебе 🤝</b></font><br />\n",
    "    \n",
    "добавил бонус и может пригодиться\n",
    "    \n",
    "[Объяснение P-значений и статистической значимости](https://www.codecamp.ru/blog/p-values-statistical-significance/?ysclid=lm88qnc76l397155692)    \n",
    " "
   ]
  },
  {
   "cell_type": "markdown",
   "id": "90796d3e",
   "metadata": {},
   "source": [
    "<div class=\"alert alert-success\">\n",
    "<font size=\"4\"><b>Комментарий ревьюера</b></font>\n",
    "    <br /> \n",
    "    <font size=\"3\", color = \"black\">\n",
    "<br />\n",
    "    Привет, Александра :) Спасибо, что прислала задание 🤝 Меня зовут Ринат Хисамов и я буду проверять твой проект. Предлагаю обращаться друг к другу на ты. Так нам будет гораздо проще и удобней общаться\n",
    "\n",
    "Мои комментарии обозначены пометкой <b>Комментарий ревьюера</b>. Далее в файле сможешь найти их в похожих ячейках (если фон комментария зелёный — всё сделано правильно (✔️), рекомендации таким же цветом. Отдельным цветом — блок ссылок (примеры ниже, 🍕). Оранжевым или светло желтым рекомендации, которые, хоть и не обязательны, но точно сделают ревью лучше. (⚠️); <u> красный комментарий</u>: код, график или вывод стоит переделать (❌)). \n",
    "\n",
    "Не удаляй все эти комментарии и постарайся учесть их в ходе выполнения данного проекта. \n",
    "Будет замечательно, если добавишь свои комментарии и пояснения✍\n",
    "        \n",
    "Поехали 🚀\n",
    "    <br />\n",
    "    </font>\n",
    "\n",
    "</div>"
   ]
  },
  {
   "cell_type": "markdown",
   "id": "21e982c4",
   "metadata": {},
   "source": [
    "<div style=\"border:solid steelblue 1px; padding: 20px\">\n",
    "    \n",
    "<font size=\"4\"><p style=\"text-align:center\"><b>Примеры комментариев </b></p></font>\n",
    "    \n",
    "<div style=\"border:solid steelblue 3px; padding: 20px\">\n",
    "<font size=\"4\"><b>🍕 Пример комментария - совета, здесь м.б. просто ссылка</b></font>\n",
    "    <br /> \n",
    "        <font size=\"3\", color = \"black\">\n",
    "<br />\n",
    "    Тут всего такого разного и вкусного :), есть способы прокачать проект визуализациями (ценит большинство \"боссов\")  <br /><br />\n",
    "        <a href=\"https://devpractice.ru/matplotlib-book/\">“Библиотека Matplotlib” доступна для скачивания БЕСПЛАТНО!</a>\n",
    "        На сайте много полезных материалов, мне самому очень помогло в свое время, до сих пор подсматриваю :)\n",
    "\n",
    "\n",
    "</div>\n",
    "    \n",
    "<div class=\"alert alert-warning\", style=\"border:solid coral 3px; padding: 20px\">\n",
    "    <font size=\"3\"><b>⚠️ Пример оформления некритичного комментария</b>\n",
    "    <br /> \n",
    "    <font size=\"2\", color = \"black\">\n",
    "<br />\n",
    "    Рекомендации, которые, хоть и не обязательны, но точно сделают ревью лучше\n",
    "    <br />\n",
    "    </font>\n",
    "\n",
    "</div>\n",
    "    \n",
    "<div class=\"alert alert-danger\">\n",
    "<font size=\"3\"><b>❌ Пример оформления комментария к блоку(строке) программного кода (или выводу), который стоит переделать</b></font>\n",
    "    <br /> \n",
    "    <font size=\"2\", color = \"black\">\n",
    "<br />\n",
    "    Отправлен не тот проект, напиши в своих комментариях, что случилось? жду — <b>это пример</b>\n",
    "    <br />\n",
    "    </font>\n",
    "\n",
    "</div>\n",
    "    \n",
    "<div class=\"alert alert-success\">\n",
    "<font size=\"4\"><b>✔️ Пример оформления комментария, который нравится большинству студентов</b></font>\n",
    "    <br /> \n",
    "    <font size=\"3\", color = \"black\">\n",
    "<br />\n",
    "    Круто, молодец, отлично, логично, или — 👌, 👍, или — выводы отвечают на все вопросы к данным и проекту\n",
    "    <br />\n",
    "    </font>\n",
    "\n",
    "</div>"
   ]
  },
  {
   "cell_type": "markdown",
   "id": "067d4699",
   "metadata": {},
   "source": [
    "# Для твоих вопросов или комментариев оставлю такую ячейку, чтобы было удобнее взаимодействовать на проекте"
   ]
  },
  {
   "cell_type": "markdown",
   "id": "2aef17b7",
   "metadata": {},
   "source": [
    "<div class=\"alert alert-info\">\n",
    "<font size=\"4\", color = \"black\"><b>✍ Комментарий студента</b></font>\n",
    "    <br /> \n",
    "    <font size=\"3\", color = \"black\">\n",
    "<br /> ... , вот мой вопрос ...\n",
    "        \n",
    "        "
   ]
  },
  {
   "cell_type": "code",
   "execution_count": null,
   "id": "2be9301b",
   "metadata": {},
   "outputs": [],
   "source": []
  },
  {
   "cell_type": "markdown",
   "id": "1eab00ef",
   "metadata": {},
   "source": [
    "<div class=\"alert alert-dan ger\">\n",
    "<font size=\"4\"><b>❌ Комментарий ревьюера</b></font>\n",
    "    <br /> \n",
    "    <font size=\"3\", color = \"black\">\n",
    "<br />\n",
    "Название придаст вес проекту\n",
    "         "
   ]
  },
  {
   "cell_type": "markdown",
   "id": "182cffe6",
   "metadata": {},
   "source": [
    "<div class=\"alert alert-info\">\n",
    "<font size=\"4\", color = \"black\"><b>✍ Комментарий студента</b></font>\n",
    "    <br /> \n",
    "    <font size=\"3\", color = \"black\">\n",
    "<br /> Привет, Ринат! Добавила название проекта"
   ]
  },
  {
   "cell_type": "markdown",
   "id": "4e5107cb",
   "metadata": {},
   "source": [
    "# Анализ деятельности и повышение показателей эффективности сервиса аренды самокатов GoFast"
   ]
  },
  {
   "cell_type": "markdown",
   "id": "f1f808df",
   "metadata": {},
   "source": [
    "## Описание проекта"
   ]
  },
  {
   "cell_type": "markdown",
   "id": "1d51c849",
   "metadata": {},
   "source": [
    "**Цель проекта:** проанализировать данные пользователей сервиса аренды самокатов GoFast и протестировать гипотезы по пользователям с платной подпиской и без неё с целью улучшения показателей деятельности компании."
   ]
  },
  {
   "cell_type": "markdown",
   "id": "2a9b85b6",
   "metadata": {},
   "source": [
    "**Переменные:**\n",
    "1. **база данных users:**\n",
    "    1. *user_id* - уникальный идентификатор пользователя;\n",
    "    2. *name* - имя пользователя;\n",
    "    3. *age* - возраст;\n",
    "    4. *city* - город;\n",
    "    5. *subscription_type* - тип подписки (free, ultra);\n",
    "2. **база данных rides:**\n",
    "    1. *user_id* - уникальный идентификатор пользователя;\n",
    "    2. *distance* - расстояние, которое пользователь проехал в текущей сессии (в метрах);\n",
    "    3. *duration* - продолжительность сессии (в минутах) — время с того момента, как пользователь нажал кнопку «Начать поездку» до момента, как он нажал кнопку «Завершить поездку»;\n",
    "    4. *date* - дата совершения поездки;\n",
    "3. **база данных sibscriptions:**\n",
    "    1. *subscription_type* - тип подписки;\n",
    "    2. *minute_price* - стоимость одной минуты поездки по данной подписке;\n",
    "    3. *start_ride_price* - стоимость начала поездки;\n",
    "    4. *subscription_fee* - стоимость ежемесячного платежа."
   ]
  },
  {
   "cell_type": "markdown",
   "id": "178346d9",
   "metadata": {},
   "source": [
    "**Алгоритм исследования:**\n",
    "1. Загрузка данных.\n",
    "2. Предобработка данных.\n",
    "3. Исследовательский анализ данных.\n",
    "4. Объединение данных.\n",
    "5. Подсчёт выручки.\n",
    "6. Проверка гипотез.\n",
    "7. Анализ распределений."
   ]
  },
  {
   "cell_type": "markdown",
   "id": "a9adede8",
   "metadata": {},
   "source": [
    "## Исследование"
   ]
  },
  {
   "cell_type": "markdown",
   "id": "085b5950",
   "metadata": {},
   "source": [
    "### Шаг 1. Загрузка данных"
   ]
  },
  {
   "cell_type": "code",
   "execution_count": 1,
   "id": "72576667",
   "metadata": {},
   "outputs": [],
   "source": [
    "# импортируем необходимые библиотеки\n",
    "\n",
    "import pandas as pd\n",
    "import matplotlib.pyplot as plt\n",
    "from scipy import stats as st\n",
    "from scipy.stats import binom, norm\n",
    "import numpy as np\n",
    "import math\n",
    "from math import factorial\n",
    "from math import sqrt"
   ]
  },
  {
   "cell_type": "markdown",
   "id": "119afeaf",
   "metadata": {},
   "source": [
    "<div class=\"alert alert-success\">\n",
    "<font size=\"4\", color= \"seagreen\"><b>✔️ Комментарий ревьюера</b></font>\n",
    "    <br /> \n",
    "    <font size=\"3\", color = \"black\">\n",
    "<br />Молодец, что делишь блоки загрузки библиотек и датасета, в случае необходимости добавления новых библиотек не придется загружать весь датасет заново и перезапускать проект целиком"
   ]
  },
  {
   "cell_type": "markdown",
   "id": "0cd66045",
   "metadata": {},
   "source": [
    "<div class=\"alert alert-info\">\n",
    "<font size=\"4\", color = \"black\"><b>✍ Комментарий студента</b></font>\n",
    "    <br /> \n",
    "    <font size=\"3\", color = \"black\">\n",
    "<br /> Спасибо!"
   ]
  },
  {
   "cell_type": "markdown",
   "id": "459273e1",
   "metadata": {},
   "source": [
    "#### users"
   ]
  },
  {
   "cell_type": "code",
   "execution_count": 2,
   "id": "eff9f206",
   "metadata": {},
   "outputs": [],
   "source": [
    "# сохраним поочерёдно каждый CSV-файл в переменную, выведем на экран 5 первых строк датафрейма\n",
    "# и общую информацию о нём\n",
    "\n",
    "#users = pd.read_csv('/datasets/users_go.csv')\n",
    "#users.head()"
   ]
  },
  {
   "cell_type": "code",
   "execution_count": 3,
   "id": "2082eec7",
   "metadata": {},
   "outputs": [
    {
     "data": {
      "text/html": [
       "<div>\n",
       "<style scoped>\n",
       "    .dataframe tbody tr th:only-of-type {\n",
       "        vertical-align: middle;\n",
       "    }\n",
       "\n",
       "    .dataframe tbody tr th {\n",
       "        vertical-align: top;\n",
       "    }\n",
       "\n",
       "    .dataframe thead th {\n",
       "        text-align: right;\n",
       "    }\n",
       "</style>\n",
       "<table border=\"1\" class=\"dataframe\">\n",
       "  <thead>\n",
       "    <tr style=\"text-align: right;\">\n",
       "      <th></th>\n",
       "      <th>user_id</th>\n",
       "      <th>name</th>\n",
       "      <th>age</th>\n",
       "      <th>city</th>\n",
       "      <th>subscription_type</th>\n",
       "    </tr>\n",
       "  </thead>\n",
       "  <tbody>\n",
       "    <tr>\n",
       "      <th>0</th>\n",
       "      <td>1</td>\n",
       "      <td>Кира</td>\n",
       "      <td>22</td>\n",
       "      <td>Тюмень</td>\n",
       "      <td>ultra</td>\n",
       "    </tr>\n",
       "    <tr>\n",
       "      <th>1</th>\n",
       "      <td>2</td>\n",
       "      <td>Станислав</td>\n",
       "      <td>31</td>\n",
       "      <td>Омск</td>\n",
       "      <td>ultra</td>\n",
       "    </tr>\n",
       "    <tr>\n",
       "      <th>2</th>\n",
       "      <td>3</td>\n",
       "      <td>Алексей</td>\n",
       "      <td>20</td>\n",
       "      <td>Москва</td>\n",
       "      <td>ultra</td>\n",
       "    </tr>\n",
       "    <tr>\n",
       "      <th>3</th>\n",
       "      <td>4</td>\n",
       "      <td>Константин</td>\n",
       "      <td>26</td>\n",
       "      <td>Ростов-на-Дону</td>\n",
       "      <td>ultra</td>\n",
       "    </tr>\n",
       "    <tr>\n",
       "      <th>4</th>\n",
       "      <td>5</td>\n",
       "      <td>Адель</td>\n",
       "      <td>28</td>\n",
       "      <td>Омск</td>\n",
       "      <td>ultra</td>\n",
       "    </tr>\n",
       "  </tbody>\n",
       "</table>\n",
       "</div>"
      ],
      "text/plain": [
       "   user_id        name  age            city subscription_type\n",
       "0        1        Кира   22          Тюмень             ultra\n",
       "1        2   Станислав   31            Омск             ultra\n",
       "2        3     Алексей   20          Москва             ultra\n",
       "3        4  Константин   26  Ростов-на-Дону             ultra\n",
       "4        5       Адель   28            Омск             ultra"
      ]
     },
     "execution_count": 3,
     "metadata": {},
     "output_type": "execute_result"
    }
   ],
   "source": [
    "try:\n",
    "    users = pd.read_csv('/datasets/users_go.csv')\n",
    "except:\n",
    "    users = pd.read_csv('C:/Users/Александра/practicum/users_go.csv')\n",
    "\n",
    "users.head()"
   ]
  },
  {
   "cell_type": "code",
   "execution_count": 4,
   "id": "3a1ccf2d",
   "metadata": {
    "scrolled": true
   },
   "outputs": [
    {
     "name": "stdout",
     "output_type": "stream",
     "text": [
      "<class 'pandas.core.frame.DataFrame'>\n",
      "RangeIndex: 1565 entries, 0 to 1564\n",
      "Data columns (total 5 columns):\n",
      " #   Column             Non-Null Count  Dtype \n",
      "---  ------             --------------  ----- \n",
      " 0   user_id            1565 non-null   int64 \n",
      " 1   name               1565 non-null   object\n",
      " 2   age                1565 non-null   int64 \n",
      " 3   city               1565 non-null   object\n",
      " 4   subscription_type  1565 non-null   object\n",
      "dtypes: int64(2), object(3)\n",
      "memory usage: 61.3+ KB\n"
     ]
    }
   ],
   "source": [
    "users_count1 = len(users)\n",
    "users.info()"
   ]
  },
  {
   "cell_type": "markdown",
   "id": "a862030c",
   "metadata": {},
   "source": [
    "#### rides"
   ]
  },
  {
   "cell_type": "code",
   "execution_count": 5,
   "id": "eea4e032",
   "metadata": {},
   "outputs": [
    {
     "data": {
      "text/html": [
       "<div>\n",
       "<style scoped>\n",
       "    .dataframe tbody tr th:only-of-type {\n",
       "        vertical-align: middle;\n",
       "    }\n",
       "\n",
       "    .dataframe tbody tr th {\n",
       "        vertical-align: top;\n",
       "    }\n",
       "\n",
       "    .dataframe thead th {\n",
       "        text-align: right;\n",
       "    }\n",
       "</style>\n",
       "<table border=\"1\" class=\"dataframe\">\n",
       "  <thead>\n",
       "    <tr style=\"text-align: right;\">\n",
       "      <th></th>\n",
       "      <th>user_id</th>\n",
       "      <th>distance</th>\n",
       "      <th>duration</th>\n",
       "      <th>date</th>\n",
       "    </tr>\n",
       "  </thead>\n",
       "  <tbody>\n",
       "    <tr>\n",
       "      <th>0</th>\n",
       "      <td>1</td>\n",
       "      <td>4409.919140</td>\n",
       "      <td>25.599769</td>\n",
       "      <td>2021-01-01</td>\n",
       "    </tr>\n",
       "    <tr>\n",
       "      <th>1</th>\n",
       "      <td>1</td>\n",
       "      <td>2617.592153</td>\n",
       "      <td>15.816871</td>\n",
       "      <td>2021-01-18</td>\n",
       "    </tr>\n",
       "    <tr>\n",
       "      <th>2</th>\n",
       "      <td>1</td>\n",
       "      <td>754.159807</td>\n",
       "      <td>6.232113</td>\n",
       "      <td>2021-04-20</td>\n",
       "    </tr>\n",
       "    <tr>\n",
       "      <th>3</th>\n",
       "      <td>1</td>\n",
       "      <td>2694.783254</td>\n",
       "      <td>18.511000</td>\n",
       "      <td>2021-08-11</td>\n",
       "    </tr>\n",
       "    <tr>\n",
       "      <th>4</th>\n",
       "      <td>1</td>\n",
       "      <td>4028.687306</td>\n",
       "      <td>26.265803</td>\n",
       "      <td>2021-08-28</td>\n",
       "    </tr>\n",
       "  </tbody>\n",
       "</table>\n",
       "</div>"
      ],
      "text/plain": [
       "   user_id     distance   duration       date\n",
       "0        1  4409.919140  25.599769 2021-01-01\n",
       "1        1  2617.592153  15.816871 2021-01-18\n",
       "2        1   754.159807   6.232113 2021-04-20\n",
       "3        1  2694.783254  18.511000 2021-08-11\n",
       "4        1  4028.687306  26.265803 2021-08-28"
      ]
     },
     "execution_count": 5,
     "metadata": {},
     "output_type": "execute_result"
    }
   ],
   "source": [
    "try:\n",
    "    rides = pd.read_csv('/datasets/rides_go.csv', parse_dates=['date'])\n",
    "except:\n",
    "    rides = pd.read_csv('C:/Users/Александра/practicum/rides_go.csv', \n",
    "                        parse_dates=['date'])\n",
    "\n",
    "rides.head()"
   ]
  },
  {
   "cell_type": "markdown",
   "id": "c4b65c1d",
   "metadata": {},
   "source": [
    "<div class=\"alert alert-warning\", style=\"border:solid coral 3px; padding: 20px\">\n",
    "<font size=\"4\"><b>⚠️ Комментарий ревьюера</b></font>\n",
    "    <br /> \n",
    "    <font size=\"3\", color = \"black\">\n",
    "<br />\n",
    "        \n",
    "Если при загрузке данных добавить параметр `parse_dates: parse_dates=['date']` то тип данных автоматически переведется в даты. Подробнее про это можно прочитать по ссылке ниже\n",
    "\n",
    "https://newtechaudit.ru/gruzi-daty-krasivo/"
   ]
  },
  {
   "cell_type": "markdown",
   "id": "3283dae2",
   "metadata": {},
   "source": [
    "<div class=\"alert alert-info\">\n",
    "<font size=\"4\", color = \"black\"><b>✍ Комментарий студента</b></font>\n",
    "    <br /> \n",
    "    <font size=\"3\", color = \"black\">\n",
    "<br /> Спасибо! Добавила этот параметр при загрузке. Тогда нет необходимости в п. 2.2.1 \"Корректировка типа данных\", т.к. в нём корректируется как раз только дата. Убрала этот пункт из проекта."
   ]
  },
  {
   "cell_type": "code",
   "execution_count": 6,
   "id": "a646f22e",
   "metadata": {
    "scrolled": true
   },
   "outputs": [
    {
     "name": "stdout",
     "output_type": "stream",
     "text": [
      "<class 'pandas.core.frame.DataFrame'>\n",
      "RangeIndex: 18068 entries, 0 to 18067\n",
      "Data columns (total 4 columns):\n",
      " #   Column    Non-Null Count  Dtype         \n",
      "---  ------    --------------  -----         \n",
      " 0   user_id   18068 non-null  int64         \n",
      " 1   distance  18068 non-null  float64       \n",
      " 2   duration  18068 non-null  float64       \n",
      " 3   date      18068 non-null  datetime64[ns]\n",
      "dtypes: datetime64[ns](1), float64(2), int64(1)\n",
      "memory usage: 564.8 KB\n"
     ]
    }
   ],
   "source": [
    "rides_count1 = len(rides)\n",
    "rides.info()"
   ]
  },
  {
   "cell_type": "markdown",
   "id": "580e1699",
   "metadata": {},
   "source": [
    "#### subscriptions"
   ]
  },
  {
   "cell_type": "code",
   "execution_count": 7,
   "id": "9c37d7c8",
   "metadata": {},
   "outputs": [
    {
     "data": {
      "text/html": [
       "<div>\n",
       "<style scoped>\n",
       "    .dataframe tbody tr th:only-of-type {\n",
       "        vertical-align: middle;\n",
       "    }\n",
       "\n",
       "    .dataframe tbody tr th {\n",
       "        vertical-align: top;\n",
       "    }\n",
       "\n",
       "    .dataframe thead th {\n",
       "        text-align: right;\n",
       "    }\n",
       "</style>\n",
       "<table border=\"1\" class=\"dataframe\">\n",
       "  <thead>\n",
       "    <tr style=\"text-align: right;\">\n",
       "      <th></th>\n",
       "      <th>subscription_type</th>\n",
       "      <th>minute_price</th>\n",
       "      <th>start_ride_price</th>\n",
       "      <th>subscription_fee</th>\n",
       "    </tr>\n",
       "  </thead>\n",
       "  <tbody>\n",
       "    <tr>\n",
       "      <th>0</th>\n",
       "      <td>free</td>\n",
       "      <td>8</td>\n",
       "      <td>50</td>\n",
       "      <td>0</td>\n",
       "    </tr>\n",
       "    <tr>\n",
       "      <th>1</th>\n",
       "      <td>ultra</td>\n",
       "      <td>6</td>\n",
       "      <td>0</td>\n",
       "      <td>199</td>\n",
       "    </tr>\n",
       "  </tbody>\n",
       "</table>\n",
       "</div>"
      ],
      "text/plain": [
       "  subscription_type  minute_price  start_ride_price  subscription_fee\n",
       "0              free             8                50                 0\n",
       "1             ultra             6                 0               199"
      ]
     },
     "execution_count": 7,
     "metadata": {},
     "output_type": "execute_result"
    }
   ],
   "source": [
    "try:\n",
    "    subscriptions = pd.read_csv('/datasets/subscriptions_go.csv')\n",
    "except:\n",
    "    subscriptions = pd.read_csv('C:/Users/Александра/practicum/subscriptions_go.csv')\n",
    "\n",
    "subscriptions.head()"
   ]
  },
  {
   "cell_type": "code",
   "execution_count": 8,
   "id": "657c9b54",
   "metadata": {
    "scrolled": true
   },
   "outputs": [
    {
     "name": "stdout",
     "output_type": "stream",
     "text": [
      "<class 'pandas.core.frame.DataFrame'>\n",
      "RangeIndex: 2 entries, 0 to 1\n",
      "Data columns (total 4 columns):\n",
      " #   Column             Non-Null Count  Dtype \n",
      "---  ------             --------------  ----- \n",
      " 0   subscription_type  2 non-null      object\n",
      " 1   minute_price       2 non-null      int64 \n",
      " 2   start_ride_price   2 non-null      int64 \n",
      " 3   subscription_fee   2 non-null      int64 \n",
      "dtypes: int64(3), object(1)\n",
      "memory usage: 192.0+ bytes\n"
     ]
    }
   ],
   "source": [
    "subscriptions_count1 = len(subscriptions)\n",
    "subscriptions.info()"
   ]
  },
  {
   "cell_type": "markdown",
   "id": "c5f54cff",
   "metadata": {},
   "source": [
    "Зафиксируем наблюдения после загрузки данных:\n",
    "- датафрейм **users** содержит данные о пользователях: уникальный идентификатор пользователя, имя пользователя, возраст, город и тип подписки (free, ultra). В датафрейме **1 565 записей**, пропущенных значений по переменным не наблюдается. Среди переменных присутствуют 2 целочисленных параметра *(user_id, age)* и 3 строковых *(name, city, subscription_type)*;\n",
    "- датафрейм **rides** содержит данные о поездках: уникальный идентификатор пользователя; расстояние, которое пользователь проехал в текущей сессии; продолжительность сессии; дата совершения поездки. В таблице **18 068 записей** - пропущенных значений на первый взгляд также не наблюдается. Среди параметров: одна целочисленная переменная *(user_id)*, 2 переменные с плавающей точкой *(distance, duration)* и одна строковая переменная *(date)*;\n",
    "- датафрейм **subscriptions** содержит всего **2 записи**, соответствющих двум вариантам использования сервиса: тип подписки, стоимость одной минуты поездки по данной подписке, стоимость начала поездки, стоимость ежемесячного платежа. Датафрейм содержит 3 целочисленных параметра *(minute_price, start_ride_price, subscription_fee)* и одну переменную строкового типа *(subscription_type)*."
   ]
  },
  {
   "cell_type": "markdown",
   "id": "194c48fa",
   "metadata": {},
   "source": [
    "<div class=\"alert alert-success\">\n",
    "<font size=\"4\", color= \"seagreen\"><b>✔️ Комментарий ревьюера</b></font>\n",
    "    <br /> \n",
    "    <font size=\"3\", color = \"black\">\n",
    "<br /> Обзор данных проведен корректно, применены методы .head() и .info(), промежуточный вывод добавлен, молодец\n",
    "        \n",
    "        осталось поправить сетевую загрузку данных"
   ]
  },
  {
   "cell_type": "markdown",
   "id": "c3605024",
   "metadata": {},
   "source": [
    "<div class=\"alert alert-info\">\n",
    "<font size=\"4\", color = \"black\"><b>✍ Комментарий студента</b></font>\n",
    "    <br /> \n",
    "    <font size=\"3\", color = \"black\">\n",
    "<br /> Не совсем поняла, что означает \"сетевая загрузка данных\". Добавление параметра parse_dates? На всякий случай дополнила загрузку данных блоком try-except."
   ]
  },
  {
   "cell_type": "markdown",
   "id": "13f73d74",
   "metadata": {},
   "source": [
    "<div class=\"alert alert-success\">\n",
    "<font size=\"4\", color= \"seagreen\"><b>✔️ Комментарий ревьюера в2 </b></font>\n",
    "    <br /> \n",
    "    <font size=\"3\", color = \"black\">\n",
    "<br />  Сорри, забылся когда писал комментарий 🤝😔"
   ]
  },
  {
   "cell_type": "markdown",
   "id": "e95ebca7",
   "metadata": {},
   "source": [
    "### Шаг 2. Предобработка данных"
   ]
  },
  {
   "cell_type": "markdown",
   "id": "a80651e3",
   "metadata": {},
   "source": [
    "#### Создание нового столбца"
   ]
  },
  {
   "cell_type": "markdown",
   "id": "8ee76ed0",
   "metadata": {},
   "source": [
    "Для удобства дальнейшего анализа создадим в датафрейме **rides** новый столбец *month*, который будет содержать номер месяца на основе даты поездки из столбца *date*."
   ]
  },
  {
   "cell_type": "code",
   "execution_count": 9,
   "id": "e9608c8f",
   "metadata": {},
   "outputs": [
    {
     "data": {
      "text/html": [
       "<div>\n",
       "<style scoped>\n",
       "    .dataframe tbody tr th:only-of-type {\n",
       "        vertical-align: middle;\n",
       "    }\n",
       "\n",
       "    .dataframe tbody tr th {\n",
       "        vertical-align: top;\n",
       "    }\n",
       "\n",
       "    .dataframe thead th {\n",
       "        text-align: right;\n",
       "    }\n",
       "</style>\n",
       "<table border=\"1\" class=\"dataframe\">\n",
       "  <thead>\n",
       "    <tr style=\"text-align: right;\">\n",
       "      <th></th>\n",
       "      <th>user_id</th>\n",
       "      <th>distance</th>\n",
       "      <th>duration</th>\n",
       "      <th>date</th>\n",
       "      <th>month</th>\n",
       "    </tr>\n",
       "  </thead>\n",
       "  <tbody>\n",
       "    <tr>\n",
       "      <th>0</th>\n",
       "      <td>1</td>\n",
       "      <td>4409.919140</td>\n",
       "      <td>25.599769</td>\n",
       "      <td>2021-01-01</td>\n",
       "      <td>1</td>\n",
       "    </tr>\n",
       "    <tr>\n",
       "      <th>1</th>\n",
       "      <td>1</td>\n",
       "      <td>2617.592153</td>\n",
       "      <td>15.816871</td>\n",
       "      <td>2021-01-18</td>\n",
       "      <td>1</td>\n",
       "    </tr>\n",
       "    <tr>\n",
       "      <th>2</th>\n",
       "      <td>1</td>\n",
       "      <td>754.159807</td>\n",
       "      <td>6.232113</td>\n",
       "      <td>2021-04-20</td>\n",
       "      <td>4</td>\n",
       "    </tr>\n",
       "    <tr>\n",
       "      <th>3</th>\n",
       "      <td>1</td>\n",
       "      <td>2694.783254</td>\n",
       "      <td>18.511000</td>\n",
       "      <td>2021-08-11</td>\n",
       "      <td>8</td>\n",
       "    </tr>\n",
       "    <tr>\n",
       "      <th>4</th>\n",
       "      <td>1</td>\n",
       "      <td>4028.687306</td>\n",
       "      <td>26.265803</td>\n",
       "      <td>2021-08-28</td>\n",
       "      <td>8</td>\n",
       "    </tr>\n",
       "  </tbody>\n",
       "</table>\n",
       "</div>"
      ],
      "text/plain": [
       "   user_id     distance   duration       date  month\n",
       "0        1  4409.919140  25.599769 2021-01-01      1\n",
       "1        1  2617.592153  15.816871 2021-01-18      1\n",
       "2        1   754.159807   6.232113 2021-04-20      4\n",
       "3        1  2694.783254  18.511000 2021-08-11      8\n",
       "4        1  4028.687306  26.265803 2021-08-28      8"
      ]
     },
     "execution_count": 9,
     "metadata": {},
     "output_type": "execute_result"
    }
   ],
   "source": [
    "rides['month'] = rides['date'].dt.month\n",
    "rides.head()"
   ]
  },
  {
   "attachments": {
    "image-2.png": {
     "image/png": "[encoded data removed]"
    }
   },
   "cell_type": "markdown",
   "id": "06452b61",
   "metadata": {},
   "source": [
    "<div class=\"alert alert-warning\", style=\"border:solid coral 3px; padding: 20px\">\n",
    "<font size=\"4\", color = \"DimGrey\"><b>⚠️ Комментарий ревьюера</b></font>\n",
    "    <br /> \n",
    "    <font size=\"3\", color = \"black\">\n",
    "<br /> Стоит проверить — за какой период у нас собраны данные\n",
    "        \n",
    "![image-2.png](attachment:image-2.png)       "
   ]
  },
  {
   "cell_type": "markdown",
   "id": "c5039a58",
   "metadata": {},
   "source": [
    "<div class=\"alert alert-info\">\n",
    "<font size=\"4\", color = \"black\"><b>✍ Комментарий студента</b></font>\n",
    "    <br /> \n",
    "    <font size=\"3\", color = \"black\">\n",
    "<br /> Добавила ниже описание переменной date."
   ]
  },
  {
   "cell_type": "code",
   "execution_count": 10,
   "id": "8237c6c6",
   "metadata": {},
   "outputs": [
    {
     "name": "stdout",
     "output_type": "stream",
     "text": [
      "Начало сбора данных: 2021-01-01 00:00:00\n",
      "Окончание сбора данных: 2021-12-30 00:00:00\n",
      "Данные собраны за период: 363 days 00:00:00\n"
     ]
    }
   ],
   "source": [
    "first_date = rides['date'].min()\n",
    "last_date = rides['date'].max()\n",
    "\n",
    "print('Начало сбора данных:', first_date)\n",
    "print('Окончание сбора данных:', last_date)\n",
    "print('Данные собраны за период:', last_date-first_date)"
   ]
  },
  {
   "cell_type": "markdown",
   "id": "66671bac",
   "metadata": {},
   "source": [
    "Отметим, что **датафрейм rides содержит данные о поездках, совершённых в течение 2021 года**."
   ]
  },
  {
   "cell_type": "markdown",
   "id": "b81abe1d",
   "metadata": {},
   "source": [
    "#### Проверка на наличие пропущенных значений и дубликатов"
   ]
  },
  {
   "cell_type": "markdown",
   "id": "8fb331fa",
   "metadata": {},
   "source": [
    "##### users"
   ]
  },
  {
   "cell_type": "code",
   "execution_count": 11,
   "id": "f9e87f4d",
   "metadata": {},
   "outputs": [
    {
     "data": {
      "text/plain": [
       "user_id              0\n",
       "name                 0\n",
       "age                  0\n",
       "city                 0\n",
       "subscription_type    0\n",
       "dtype: int64"
      ]
     },
     "execution_count": 11,
     "metadata": {},
     "output_type": "execute_result"
    }
   ],
   "source": [
    "users.isna().sum()"
   ]
  },
  {
   "cell_type": "markdown",
   "id": "c7e78991",
   "metadata": {},
   "source": [
    "Пропущенных значений в датафрейме **users** нет. Проверим наличие явных дубликатов."
   ]
  },
  {
   "cell_type": "code",
   "execution_count": 12,
   "id": "56f923b3",
   "metadata": {},
   "outputs": [
    {
     "data": {
      "text/plain": [
       "31"
      ]
     },
     "execution_count": 12,
     "metadata": {},
     "output_type": "execute_result"
    }
   ],
   "source": [
    "users.duplicated().sum()"
   ]
  },
  {
   "cell_type": "code",
   "execution_count": 13,
   "id": "ea2ee600",
   "metadata": {},
   "outputs": [
    {
     "name": "stdout",
     "output_type": "stream",
     "text": [
      "Из датафрейма users был удалён 31 дубликат, что составляет 0.02% изначальной выборки.\n",
      "\n",
      "<class 'pandas.core.frame.DataFrame'>\n",
      "Int64Index: 1534 entries, 0 to 1533\n",
      "Data columns (total 5 columns):\n",
      " #   Column             Non-Null Count  Dtype \n",
      "---  ------             --------------  ----- \n",
      " 0   user_id            1534 non-null   int64 \n",
      " 1   name               1534 non-null   object\n",
      " 2   age                1534 non-null   int64 \n",
      " 3   city               1534 non-null   object\n",
      " 4   subscription_type  1534 non-null   object\n",
      "dtypes: int64(2), object(3)\n",
      "memory usage: 71.9+ KB\n"
     ]
    }
   ],
   "source": [
    "# избавимся от дубликатов и выведем на экран новое количество записей в датафрейме\n",
    "\n",
    "users = users.drop_duplicates()\n",
    "users_count2 = len(users)\n",
    "\n",
    "print(f'Из датафрейма users был удалён {users_count1 - users_count2} дубликат, \\\n",
    "что составляет {round((users_count1 - users_count2)/users_count1, 2)}% \\\n",
    "изначальной выборки.')\n",
    "print()\n",
    "users.info()"
   ]
  },
  {
   "cell_type": "markdown",
   "id": "9185a573",
   "metadata": {},
   "source": [
    "<div class=\"alert alert-success\">\n",
    "<font size=\"4\", color= \"seagreen\"><b>✔️ Комментарий ревьюера</b></font>\n",
    "    <br /> \n",
    "    <font size=\"3\", color = \"black\">\n",
    "<br />Проверка на поиск дубликатов выполнена, молодец\n",
    "        \n",
    "Особенно это станет важным, когда мы перейдем к более сложным задачам на втором модуле курса\n",
    "          "
   ]
  },
  {
   "cell_type": "markdown",
   "id": "0c9937ec",
   "metadata": {},
   "source": [
    "##### rides"
   ]
  },
  {
   "cell_type": "code",
   "execution_count": 14,
   "id": "7635a84a",
   "metadata": {},
   "outputs": [
    {
     "data": {
      "text/plain": [
       "user_id     0\n",
       "distance    0\n",
       "duration    0\n",
       "date        0\n",
       "month       0\n",
       "dtype: int64"
      ]
     },
     "execution_count": 14,
     "metadata": {},
     "output_type": "execute_result"
    }
   ],
   "source": [
    "rides.isna().sum()"
   ]
  },
  {
   "cell_type": "code",
   "execution_count": 15,
   "id": "fef8d1e8",
   "metadata": {},
   "outputs": [
    {
     "data": {
      "text/plain": [
       "0"
      ]
     },
     "execution_count": 15,
     "metadata": {},
     "output_type": "execute_result"
    }
   ],
   "source": [
    "rides.duplicated().sum()"
   ]
  },
  {
   "cell_type": "markdown",
   "id": "786d2dcd",
   "metadata": {},
   "source": [
    "В датафрейме **rides** нет ни пропущенных значений, ни дубликатов."
   ]
  },
  {
   "cell_type": "markdown",
   "id": "8c4a5bdb",
   "metadata": {},
   "source": [
    "##### subscriptions"
   ]
  },
  {
   "cell_type": "code",
   "execution_count": 16,
   "id": "bbd0e56c",
   "metadata": {},
   "outputs": [
    {
     "data": {
      "text/plain": [
       "subscription_type    0\n",
       "minute_price         0\n",
       "start_ride_price     0\n",
       "subscription_fee     0\n",
       "dtype: int64"
      ]
     },
     "execution_count": 16,
     "metadata": {},
     "output_type": "execute_result"
    }
   ],
   "source": [
    "subscriptions.isna().sum()"
   ]
  },
  {
   "cell_type": "code",
   "execution_count": 17,
   "id": "b94b3dc0",
   "metadata": {},
   "outputs": [
    {
     "data": {
      "text/plain": [
       "0"
      ]
     },
     "execution_count": 17,
     "metadata": {},
     "output_type": "execute_result"
    }
   ],
   "source": [
    "subscriptions.duplicated().sum()"
   ]
  },
  {
   "cell_type": "markdown",
   "id": "3ff40df4",
   "metadata": {},
   "source": [
    "В датафрейме **subscriptions** также нет ни пропущенных значений, ни дубликатов.\n",
    "\n",
    "Можно переходить к исследовательскому анализу данных."
   ]
  },
  {
   "cell_type": "markdown",
   "id": "212593c7",
   "metadata": {},
   "source": [
    "### Шаг 3. Исследовательский анализ данных"
   ]
  },
  {
   "cell_type": "markdown",
   "id": "d51a0f42",
   "metadata": {},
   "source": [
    "В исследовательском анализе данных оценим распределение различных переменных и проверим их на наличие возможных выбросов."
   ]
  },
  {
   "cell_type": "markdown",
   "id": "497fbcd1",
   "metadata": {},
   "source": [
    "#### частота встречаемости городов (city)"
   ]
  },
  {
   "cell_type": "code",
   "execution_count": 18,
   "id": "f516cb13",
   "metadata": {},
   "outputs": [
    {
     "name": "stdout",
     "output_type": "stream",
     "text": [
      "8\n"
     ]
    },
    {
     "data": {
      "text/plain": [
       "Пятигорск         219\n",
       "Екатеринбург      204\n",
       "Ростов-на-Дону    198\n",
       "Краснодар         193\n",
       "Сочи              189\n",
       "Омск              183\n",
       "Тюмень            180\n",
       "Москва            168\n",
       "Name: city, dtype: int64"
      ]
     },
     "execution_count": 18,
     "metadata": {},
     "output_type": "execute_result"
    }
   ],
   "source": [
    "# выведем список уникальных значений переменной city датафрейма users\n",
    "\n",
    "print(users['city'].nunique())\n",
    "users['city'].value_counts()"
   ]
  },
  {
   "cell_type": "code",
   "execution_count": 19,
   "id": "da7ce48c",
   "metadata": {
    "scrolled": false
   },
   "outputs": [
    {
     "data": {
      "image/png": "[encoded data removed]",
      "text/plain": [
       "<Figure size 576x288 with 1 Axes>"
      ]
     },
     "metadata": {
      "needs_background": "light"
     },
     "output_type": "display_data"
    }
   ],
   "source": [
    "# построим гистограмму распределения переменной на основе сводной таблицы\n",
    "\n",
    "users_pivot = (users\n",
    " .pivot_table(index='city', values='user_id', aggfunc='count')\n",
    " .sort_values(by='user_id')\n",
    ")\n",
    "\n",
    "users_pivot.columns = ['count']\n",
    "\n",
    "plt.figure(figsize=(8, 4))\n",
    "plt.barh(users_pivot.index, users_pivot['count'])\n",
    "plt.title('Частота встречаемости городов', fontsize=14, pad=10)\n",
    "plt.ylabel('Город', labelpad=10)\n",
    "plt.xlabel('Частота', labelpad=10)\n",
    "plt.show()"
   ]
  },
  {
   "cell_type": "code",
   "execution_count": 20,
   "id": "65fbb79c",
   "metadata": {},
   "outputs": [
    {
     "data": {
      "text/html": [
       "<div>\n",
       "<style scoped>\n",
       "    .dataframe tbody tr th:only-of-type {\n",
       "        vertical-align: middle;\n",
       "    }\n",
       "\n",
       "    .dataframe tbody tr th {\n",
       "        vertical-align: top;\n",
       "    }\n",
       "\n",
       "    .dataframe thead th {\n",
       "        text-align: right;\n",
       "    }\n",
       "</style>\n",
       "<table border=\"1\" class=\"dataframe\">\n",
       "  <thead>\n",
       "    <tr style=\"text-align: right;\">\n",
       "      <th></th>\n",
       "      <th>count</th>\n",
       "      <th>city_share</th>\n",
       "    </tr>\n",
       "    <tr>\n",
       "      <th>city</th>\n",
       "      <th></th>\n",
       "      <th></th>\n",
       "    </tr>\n",
       "  </thead>\n",
       "  <tbody>\n",
       "    <tr>\n",
       "      <th>Москва</th>\n",
       "      <td>168</td>\n",
       "      <td>11.0</td>\n",
       "    </tr>\n",
       "    <tr>\n",
       "      <th>Тюмень</th>\n",
       "      <td>180</td>\n",
       "      <td>11.7</td>\n",
       "    </tr>\n",
       "    <tr>\n",
       "      <th>Омск</th>\n",
       "      <td>183</td>\n",
       "      <td>11.9</td>\n",
       "    </tr>\n",
       "    <tr>\n",
       "      <th>Сочи</th>\n",
       "      <td>189</td>\n",
       "      <td>12.3</td>\n",
       "    </tr>\n",
       "    <tr>\n",
       "      <th>Краснодар</th>\n",
       "      <td>193</td>\n",
       "      <td>12.6</td>\n",
       "    </tr>\n",
       "    <tr>\n",
       "      <th>Ростов-на-Дону</th>\n",
       "      <td>198</td>\n",
       "      <td>12.9</td>\n",
       "    </tr>\n",
       "    <tr>\n",
       "      <th>Екатеринбург</th>\n",
       "      <td>204</td>\n",
       "      <td>13.3</td>\n",
       "    </tr>\n",
       "    <tr>\n",
       "      <th>Пятигорск</th>\n",
       "      <td>219</td>\n",
       "      <td>14.3</td>\n",
       "    </tr>\n",
       "  </tbody>\n",
       "</table>\n",
       "</div>"
      ],
      "text/plain": [
       "                count  city_share\n",
       "city                             \n",
       "Москва            168        11.0\n",
       "Тюмень            180        11.7\n",
       "Омск              183        11.9\n",
       "Сочи              189        12.3\n",
       "Краснодар         193        12.6\n",
       "Ростов-на-Дону    198        12.9\n",
       "Екатеринбург      204        13.3\n",
       "Пятигорск         219        14.3"
      ]
     },
     "execution_count": 20,
     "metadata": {},
     "output_type": "execute_result"
    }
   ],
   "source": [
    "# посчитаем долю пользователей по городам\n",
    "\n",
    "users_pivot['city_share'] = round(users_pivot['count'] / len(users), 3) * 100\n",
    "users_pivot"
   ]
  },
  {
   "cell_type": "markdown",
   "id": "2476733d",
   "metadata": {},
   "source": [
    "Можно отметить, что **больше всего пользователей за период наблюдений было зафиксировано в Пятигорске** (219 человек), **в то время меньше всего - в Москве** (168 человек)."
   ]
  },
  {
   "cell_type": "markdown",
   "id": "c3e209bb",
   "metadata": {},
   "source": [
    "<div class=\"alert alert-warning\", style=\"border:solid coral 3px; padding: 20px\">\n",
    "<font size=\"4\", color = \"DimGrey\"><b>⚠️ Комментарий ревьюера</b></font>\n",
    "    <br />  \n",
    "    <font size=\"3\", color = \"black\">\n",
    "<br /> Стоит сортировать значения для графиков и развернуть график в горизонтальные бары, если надписи оси Х не умещаются в горизонтальном виде"
   ]
  },
  {
   "cell_type": "markdown",
   "id": "e0e74079",
   "metadata": {},
   "source": [
    "<div class=\"alert alert-da nger\">\n",
    "<font size=\"4\"><b>❌ Комментарий ревьюера</b></font>\n",
    "    <br /> \n",
    "     <font size=\"3\", color = \"black\">\n",
    "<br /> Стоит полностью оформить все графики на проекте\n",
    "\n",
    "Подписи осей на графиках и название добавят ясности и читабельности.\n",
    "Это важные элементы любой визуализации. Как добавить подписи и названия, смотри [здесь](https://proproprogs.ru/modules/matplotlib-razmeshchaem-standartnye-tekstovye-elementy-na-grafike?ysclid=l6agtioc6f299002507)"
   ]
  },
  {
   "cell_type": "markdown",
   "id": "03d80fc9",
   "metadata": {},
   "source": [
    "<div class=\"alert alert-info\">\n",
    "<font size=\"4\", color = \"black\"><b>✍ Комментарий студента</b></font>\n",
    "    <br /> \n",
    "    <font size=\"3\", color = \"black\">\n",
    "<br /> Здесь и далее - отредактировала графики."
   ]
  },
  {
   "cell_type": "markdown",
   "id": "0e6a98b9",
   "metadata": {},
   "source": [
    "#### соотношение пользователей с подпиской и без подписки (subscription_type)"
   ]
  },
  {
   "cell_type": "code",
   "execution_count": 21,
   "id": "946614dd",
   "metadata": {},
   "outputs": [
    {
     "data": {
      "text/plain": [
       "free     835\n",
       "ultra    699\n",
       "Name: subscription_type, dtype: int64"
      ]
     },
     "execution_count": 21,
     "metadata": {},
     "output_type": "execute_result"
    }
   ],
   "source": [
    "# изучим количество пользователей с платной подпиской (ultra) и без неё (free)\n",
    "\n",
    "users['subscription_type'].value_counts()"
   ]
  },
  {
   "cell_type": "code",
   "execution_count": 22,
   "id": "116177b3",
   "metadata": {},
   "outputs": [
    {
     "data": {
      "text/plain": [
       "45.6"
      ]
     },
     "execution_count": 22,
     "metadata": {},
     "output_type": "execute_result"
    }
   ],
   "source": [
    "# посмотрим, какую долю всех пользователей сервиса составляют владельцы платной подписки\n",
    "\n",
    "round(users[users['subscription_type'] == 'ultra']['user_id'].count() / len(users), 3) * 100"
   ]
  },
  {
   "cell_type": "markdown",
   "id": "98946c38",
   "metadata": {},
   "source": [
    "Количество пользователей с платной подпиской и без неё примерно одинаково, однако владельцев платной подписки всё же меньше: они составляют 45,6% от всей выборки."
   ]
  },
  {
   "cell_type": "markdown",
   "id": "737e21c3",
   "metadata": {},
   "source": [
    "<div class=\"alert alert-d anger\">\n",
    "<font size=\"4\"><b>❌ Комментарий ревьюера</b></font>\n",
    "    <br /> \n",
    "    <font size=\"3\", color = \"black\">\n",
    "<br /> Стоит  добавить график, чтобы показать соотношение разных (по типу подписки) пользователей"
   ]
  },
  {
   "cell_type": "markdown",
   "id": "7ac388b0",
   "metadata": {},
   "source": [
    "<div class=\"alert alert-info\">\n",
    "<font size=\"4\", color = \"black\"><b>✍ Комментарий студента</b></font>\n",
    "    <br /> \n",
    "    <font size=\"3\", color = \"black\">\n",
    "<br /> Добавила круговую диаграмму ниже."
   ]
  },
  {
   "cell_type": "markdown",
   "id": "b67839ec",
   "metadata": {},
   "source": [
    "Отобразим соотношение пользователей с платной подпиской и без неё на графике."
   ]
  },
  {
   "cell_type": "code",
   "execution_count": 23,
   "id": "d9961321",
   "metadata": {},
   "outputs": [
    {
     "data": {
      "image/png": "[encoded data removed]",
      "text/plain": [
       "<Figure size 504x504 with 1 Axes>"
      ]
     },
     "metadata": {},
     "output_type": "display_data"
    }
   ],
   "source": [
    "share_ultra = round(users[users['subscription_type'] == 'ultra']['user_id'].count() \\\n",
    "                    / len(users), 3) * 100\n",
    "share_free = round(users[users['subscription_type'] == 'free']['user_id'].count() \\\n",
    "                    / len(users), 3) * 100\n",
    "\n",
    "shares = [share_free, share_ultra]\n",
    "\n",
    "plt.figure(figsize=(7, 7))\n",
    "cmap = plt.get_cmap('tab20b')\n",
    "b_colors = cmap(np.array([3, 6]))\n",
    "plt.pie(shares, labels=['free', 'ultra'], autopct='%1.1f%%', colors=b_colors)\n",
    "plt.title('Доли пользователей по типу подписки (free, ultra)')\n",
    "plt.show()"
   ]
  },
  {
   "cell_type": "markdown",
   "id": "46a277ba",
   "metadata": {},
   "source": [
    "<div class=\"alert alert-success\">\n",
    "<font size=\"4\", color= \"seagreen\"><b>✔️ Комментарий ревьюера в2</b></font>\n",
    "    <br /> \n",
    "    <font size=\"3\", color = \"black\">\n",
    "<br />Отлично, молодец"
   ]
  },
  {
   "cell_type": "markdown",
   "id": "2e70bdcf",
   "metadata": {},
   "source": [
    "#### возраст пользователей (age)"
   ]
  },
  {
   "cell_type": "code",
   "execution_count": 24,
   "id": "75b4b4fa",
   "metadata": {},
   "outputs": [
    {
     "data": {
      "image/png": "[encoded data removed]",
      "text/plain": [
       "<Figure size 720x360 with 1 Axes>"
      ]
     },
     "metadata": {
      "needs_background": "light"
     },
     "output_type": "display_data"
    }
   ],
   "source": [
    "# визуализируем распределение переменной age датафрейма users\n",
    "\n",
    "plt.figure(figsize=(10, 5))\n",
    "plt.hist(users['age'], bins=30, width=0.8)\n",
    "plt.title('Частота распределения возраста пользователей', fontsize=14)\n",
    "plt.xlabel('Возраст', fontsize=12, labelpad=10)\n",
    "plt.ylabel('Частота', fontsize=12, labelpad=10)\n",
    "plt.show()"
   ]
  },
  {
   "cell_type": "markdown",
   "id": "db6e9ef1",
   "metadata": {},
   "source": [
    "Распределение переменной *age* напоминает нормальное с центром в значении 25. Явных выбросов при этом не наблюдается. Проверим это на графике боксплот."
   ]
  },
  {
   "cell_type": "markdown",
   "id": "c5c86b94",
   "metadata": {},
   "source": [
    "<div class=\"alert alert-warning\", style=\"border:solid coral 3px; padding: 20px\">\n",
    "<font size=\"4\", color = \"DimGrey\"><b>⚠️ Комментарий ревьюера</b></font>\n",
    "    <br /> \n",
    "    <font size=\"3\", color = \"black\">\n",
    "<br /> Можно увеличить кол-во корзин у  гистограмм и изменить размер у графиков (увеличить ширину)\n",
    "        "
   ]
  },
  {
   "cell_type": "markdown",
   "id": "7930c971",
   "metadata": {},
   "source": [
    "<div class=\"alert alert-info\">\n",
    "<font size=\"4\", color = \"black\"><b>✍ Комментарий студента</b></font>\n",
    "    <br /> \n",
    "    <font size=\"3\", color = \"black\">\n",
    "<br /> Поправила гистограммы."
   ]
  },
  {
   "cell_type": "code",
   "execution_count": 25,
   "id": "15f6c0c0",
   "metadata": {
    "scrolled": false
   },
   "outputs": [
    {
     "name": "stdout",
     "output_type": "stream",
     "text": [
      "count    1534.000000\n",
      "mean       24.903520\n",
      "std         4.572367\n",
      "min        12.000000\n",
      "25%        22.000000\n",
      "50%        25.000000\n",
      "75%        28.000000\n",
      "max        43.000000\n",
      "Name: age, dtype: float64\n",
      "\n",
      "Минимальный возраст пользователей составляет 12 лет.\n",
      "Максимальный возраст пользователей составляет 43 года.\n"
     ]
    },
    {
     "data": {
      "image/png": "[encoded data removed]",
      "text/plain": [
       "<Figure size 720x144 with 1 Axes>"
      ]
     },
     "metadata": {
      "needs_background": "light"
     },
     "output_type": "display_data"
    }
   ],
   "source": [
    "# построим боксплот для переменной age, проанализируем пятичисловую сводку\n",
    "# и выведем минимальное и максимальное значения, которые принимает переменная\n",
    "\n",
    "print(users['age'].describe())\n",
    "print()\n",
    "print('Минимальный возраст пользователей составляет', users['age'].min(), 'лет.')\n",
    "print('Максимальный возраст пользователей составляет', users['age'].max(), 'года.')\n",
    "\n",
    "plt.figure(figsize=(10, 2))\n",
    "plt.boxplot(users['age'], vert=False, showmeans=True)\n",
    "plt.title('Диаграмма размаха для переменной age', fontsize=14, pad=10)\n",
    "plt.xlabel('Возраст', fontsize=12, labelpad=10)\n",
    "plt.yticks([0])\n",
    "plt.show()"
   ]
  },
  {
   "cell_type": "markdown",
   "id": "367170c6",
   "metadata": {},
   "source": [
    "Несмотря на то, что на графике некоторые значения вышли за пределы интервала [Q1 - 1.5IQR; Q3 + 1.5IQR], мы не можем отнести их к аномальным значениям. Арендателю самоката может быть как 43 года, так и 12 лет. Вопрос возраста, с которого клиенты могут начать пользоваться сервисом, стоит адресовать службе тех. поддержки."
   ]
  },
  {
   "cell_type": "markdown",
   "id": "d6cc44dd",
   "metadata": {},
   "source": [
    "<div class=\"alert alert-success\">\n",
    "<font size=\"4\", color= \"seagreen\"><b>✔️ Комментарий ревьюера</b></font>\n",
    "    <br /> \n",
    "    <font size=\"3\", color = \"black\">\n",
    "<br /> Возможно и не позволяют, стоит отнести подобный факт в службу тех. поддержки сервиса\n",
    "        \n",
    "        (если того позволяют правила пользования сервисом)."
   ]
  },
  {
   "cell_type": "markdown",
   "id": "a931a860",
   "metadata": {},
   "source": [
    "<div class=\"alert alert-info\">\n",
    "<font size=\"4\", color = \"black\"><b>✍ Комментарий студента</b></font>\n",
    "    <br /> \n",
    "    <font size=\"3\", color = \"black\">\n",
    "<br /> Дополнила вывод соответствующим комментарием. Также заинтересовало распределение возраста пользователей в зависимости от типа подписки. Создала графики и вывод ниже (спойлер: существенных различий в возрасте пользователей по типу подписки не обнаружено :) )."
   ]
  },
  {
   "cell_type": "code",
   "execution_count": 26,
   "id": "428f0223",
   "metadata": {},
   "outputs": [
    {
     "data": {
      "image/png": "[encoded data removed]",
      "text/plain": [
       "<Figure size 720x360 with 1 Axes>"
      ]
     },
     "metadata": {
      "needs_background": "light"
     },
     "output_type": "display_data"
    }
   ],
   "source": [
    "# посмотрим на распределение возраста пользователей в разбивке по типу подписки\n",
    "\n",
    "free_users = users[users['subscription_type'] == 'free']\n",
    "ultra_users = users[users['subscription_type'] == 'ultra']\n",
    "\n",
    "plt.figure(figsize=(10, 5))\n",
    "plt.hist([free_users['age'], ultra_users['age']], label=['free', 'ultra'], bins=30)\n",
    "plt.title('Частота распределения возраста пользователей \\n по типу подписки \\\n",
    "(free, ultra)', fontsize=14)\n",
    "plt.xlabel('Возраст', fontsize=12, labelpad=10)\n",
    "plt.ylabel('Частота', fontsize=12, labelpad=10)\n",
    "plt.legend(loc='upper right')\n",
    "plt.show()"
   ]
  },
  {
   "cell_type": "code",
   "execution_count": 27,
   "id": "075d2cfc",
   "metadata": {},
   "outputs": [
    {
     "data": {
      "image/png": "[encoded data removed]",
      "text/plain": [
       "<Figure size 720x288 with 1 Axes>"
      ]
     },
     "metadata": {
      "needs_background": "light"
     },
     "output_type": "display_data"
    }
   ],
   "source": [
    "# изучим данное распределение на боксплотах\n",
    "\n",
    "plt.figure(figsize=(10, 4))\n",
    "plt.boxplot([free_users['age'], ultra_users['age']], labels=['free', ' ultra'], \n",
    "            vert=False, showmeans=True)\n",
    "plt.title('Диаграмма размаха для переменной age \\n в разбивке по типу подписки \\\n",
    "пользователя (free, ultra)', fontsize=14, pad=10)\n",
    "plt.xlabel('Возраст', fontsize=12)\n",
    "plt.ylabel('Тип подписки', fontsize=12)\n",
    "plt.grid()\n",
    "plt.show()"
   ]
  },
  {
   "cell_type": "markdown",
   "id": "61c4d7a0",
   "metadata": {},
   "source": [
    "Можно отметить, что средний возраст обеих подгрупп находится на уровне 25 лет. В выборке пользователей без платной подписки находится чуть больше людей старше 38 лет, однако это не представляет собой один из факторов различия для обозначенных подгрупп."
   ]
  },
  {
   "cell_type": "markdown",
   "id": "f771bb18",
   "metadata": {},
   "source": [
    "#### расстояние, которое пользователь преодолел за одну поездку (distance)"
   ]
  },
  {
   "cell_type": "code",
   "execution_count": 28,
   "id": "dee6faa8",
   "metadata": {},
   "outputs": [
    {
     "data": {
      "image/png": "[encoded data removed]",
      "text/plain": [
       "<Figure size 720x360 with 1 Axes>"
      ]
     },
     "metadata": {
      "needs_background": "light"
     },
     "output_type": "display_data"
    }
   ],
   "source": [
    "# изучим распределение переменной distance датафрейма rides\n",
    "\n",
    "plt.figure(figsize=(10, 5))\n",
    "plt.hist(rides['distance'], bins=30, width=200)\n",
    "plt.title('Частота распределения расстояния, преодолеваемого за одну поездку',\n",
    "         fontsize=14, pad=10)\n",
    "plt.ylabel('Частота', fontsize=12, labelpad=10)\n",
    "plt.xlabel('Расстояние, м', fontsize=12, labelpad=10)\n",
    "plt.show()"
   ]
  },
  {
   "cell_type": "markdown",
   "id": "9ba6bde9",
   "metadata": {},
   "source": [
    "В переменной *distance* отражено то расстояние, которое пользователь проехал за одну сессию (в метрах). Распределение меньше напоминает нормальное: несмотря на пик частоты на уровне **3 100 метров**, в левой части графика наблюдается небольшое увеличение частоты на уровне **700 метров**."
   ]
  },
  {
   "cell_type": "markdown",
   "id": "c09a65f8",
   "metadata": {},
   "source": [
    "<div class=\"alert alert-warning\", style=\"border:solid coral 3px; padding: 20px\">\n",
    "<font size=\"4\", color = \"DimGrey\"><b>⚠️ Комментарий ревьюера</b></font>\n",
    "    <br />\n",
    "<font size=\"3\", color = \"black\">\n",
    "<br />Можно добавить свои предположения, по какой причине у нас пользователи разделились на две части: совершают короткие и длинные поездки, с пиками около 700-а и 3100-а метров "
   ]
  },
  {
   "cell_type": "markdown",
   "id": "7c7613c4",
   "metadata": {},
   "source": [
    "<div class=\"alert alert-info\">\n",
    "<font size=\"4\", color = \"black\"><b>✍ Комментарий студента</b></font>\n",
    "    <br /> \n",
    "    <font size=\"3\", color = \"black\">\n",
    "<br /> Можно предположить, что более короткие поездки чаще совершают пользователи без подписки, чтобы сэкономить на поездке. Т.к. поездок, совершённых пользователями без подписки, в датафрейме rides существенно больше, то из-за них мы видим второй пик частоты на уровне 700 м."
   ]
  },
  {
   "cell_type": "code",
   "execution_count": 29,
   "id": "d1016392",
   "metadata": {},
   "outputs": [
    {
     "name": "stdout",
     "output_type": "stream",
     "text": [
      "count    18068.000000\n",
      "mean      3070.659976\n",
      "std       1116.831209\n",
      "min          0.855683\n",
      "25%       2543.226360\n",
      "50%       3133.609994\n",
      "75%       3776.222735\n",
      "max       7211.007745\n",
      "Name: distance, dtype: float64\n"
     ]
    },
    {
     "data": {
      "image/png": "[encoded data removed]",
      "text/plain": [
       "<Figure size 720x144 with 1 Axes>"
      ]
     },
     "metadata": {
      "needs_background": "light"
     },
     "output_type": "display_data"
    }
   ],
   "source": [
    "# проанализируем пятичисловую сводку переменной и построим боксплот\n",
    "\n",
    "print(rides['distance'].describe())\n",
    "\n",
    "plt.figure(figsize=(10, 2))\n",
    "plt.boxplot(rides['distance'], vert=False, showmeans=True)\n",
    "plt.title('Диаграмма размаха для переменной distance', fontsize=14, pad=10)\n",
    "plt.xlabel('Расстояние, м', fontsize=12, labelpad=10)\n",
    "plt.yticks([0])\n",
    "plt.show()"
   ]
  },
  {
   "cell_type": "code",
   "execution_count": 30,
   "id": "3c5e91fe",
   "metadata": {},
   "outputs": [
    {
     "name": "stdout",
     "output_type": "stream",
     "text": [
      "Значения ниже, чем 693.7 м, и выше, чем 5625.7 м, считаются выбросами.\n"
     ]
    }
   ],
   "source": [
    "# посчитаем границы интервала [Q1 - 1.5IQR; Q3 + 1.5IQR]\n",
    "\n",
    "percentile_75 = 0.75\n",
    "percentile_25 = 0.25\n",
    "\n",
    "q3 = rides['distance'].quantile(percentile_75)\n",
    "q1 = rides['distance'].quantile(percentile_25)\n",
    "iqr = q3 - q1\n",
    "\n",
    "high_limit = q3 + 1.5 * iqr\n",
    "low_limit = q1 - 1.5 * iqr\n",
    "\n",
    "print(f'Значения ниже, чем {round(low_limit, 1)} м, \\\n",
    "и выше, чем {round(high_limit, 1)} м, считаются выбросами.')"
   ]
  },
  {
   "cell_type": "markdown",
   "id": "efdc1269",
   "metadata": {},
   "source": [
    "Исходя из графика и пятичисловой сводки, по переменной присутствуют выбросы на уровне **меньше 693.7 м** и **больше 5625.7 м**. Однако не все такие значения можно считать аномальными.\n",
    "\n",
    "Максимальное значение переменной - чуть больше 7 км. Такое расстояние вполне можно проехать на самокате за одну поездку. Что касается минимального значения (менее 1 м) - такие поездки тоже могли быть (например, пользователь взял самокат и после передумал, или его что-то отвлекло от поездки).\n",
    "\n",
    "Чтобы точно понять, избавляться ли от выбросов по переменной, проанализируем, как связаны между собой переменные *distance* и *duration* с помощью диаграммы рассеяния."
   ]
  },
  {
   "cell_type": "code",
   "execution_count": 31,
   "id": "9f203ec8",
   "metadata": {},
   "outputs": [
    {
     "data": {
      "image/png": "[encoded data removed]",
      "text/plain": [
       "<Figure size 720x504 with 1 Axes>"
      ]
     },
     "metadata": {
      "needs_background": "light"
     },
     "output_type": "display_data"
    },
    {
     "data": {
      "text/plain": [
       "0.54"
      ]
     },
     "execution_count": 31,
     "metadata": {},
     "output_type": "execute_result"
    }
   ],
   "source": [
    "plt.figure(figsize=(10, 7))\n",
    "plt.scatter(rides['duration'], rides['distance'], alpha=0.5)\n",
    "plt.title('Диаграмма рассеяния для переменных duration и distance',\n",
    "         fontsize=14, pad=10)\n",
    "plt.xlabel('Продолжительность поездки, мин', fontsize=12, labelpad=10)\n",
    "plt.ylabel('Расстояние, м', fontsize=12, labelpad=10)\n",
    "plt.show()\n",
    "\n",
    "rides['duration'].corr(rides['distance']).round(2)"
   ]
  },
  {
   "cell_type": "markdown",
   "id": "c747c049",
   "metadata": {},
   "source": [
    "Между переменными наблюдается средняя корреляция (коэффициент корреляции равен 0.54): по мере увеличения продолжительности поездки расстояние, которое преодолел пользователь за это время, имеет тенденцию к увеличению.\n",
    "\n",
    "Тем не менее, **на графике отчётливо видны аномалии: поездки, в которых пользователь проехал более 4 км меньше, чем за 1 минуту**. Стоит обратиться к команде тех.поддержки сервиса: возможно, стоит проверить модуль определения расстояния. От данных аномалий избавляться не целесообразно: выручка компании рассчитывается на основе количества поездок и их продолжитьльности, поэтому некорректно рассчитанное расстояние не искажает картину."
   ]
  },
  {
   "cell_type": "markdown",
   "id": "ec151325",
   "metadata": {},
   "source": [
    "<div class=\"alert alert-warning\", style=\"border:solid coral 3px; padding: 20px\">\n",
    "<font size=\"4\", color = \"DimGrey\"><b>⚠️ Комментарий ревьюера </b></font>\n",
    "    <br /> \n",
    "    <font size=\"3\", color = \"black\">\n",
    "<br />Удалять не стоит, может сбоить модуль определения расстояния, а выручка у нас считается только от времени, по этой причине мы можем испортить финансовый отчет в части выручки (наша работа может быть составляющей большого проекта)"
   ]
  },
  {
   "cell_type": "markdown",
   "id": "30e8c5c6",
   "metadata": {},
   "source": [
    "<div class=\"alert alert-info\">\n",
    "<font size=\"4\", color = \"black\"><b>✍ Комментарий студента</b></font>\n",
    "    <br /> \n",
    "    <font size=\"3\", color = \"black\">\n",
    "<br /> Поняла, спасибо! Удалила блоки с исключением аномалий, скорректировала вывод."
   ]
  },
  {
   "cell_type": "markdown",
   "id": "dd33dff6",
   "metadata": {},
   "source": [
    "#### продолжительность поездок (duration)"
   ]
  },
  {
   "cell_type": "code",
   "execution_count": 32,
   "id": "4575cdbc",
   "metadata": {},
   "outputs": [
    {
     "data": {
      "image/png": "[encoded data removed]",
      "text/plain": [
       "<Figure size 720x360 with 1 Axes>"
      ]
     },
     "metadata": {
      "needs_background": "light"
     },
     "output_type": "display_data"
    }
   ],
   "source": [
    "plt.figure(figsize=(10, 5))\n",
    "plt.hist(rides['duration'], bins=40)\n",
    "plt.title('Частота распределения продолжительности поездок', fontsize=14, pad=10)\n",
    "plt.ylabel('Частота', fontsize=12, labelpad=10)\n",
    "plt.xlabel('Продолжительность поездок, мин', fontsize=12, labelpad=10)\n",
    "plt.show()"
   ]
  },
  {
   "cell_type": "markdown",
   "id": "417d17ba",
   "metadata": {},
   "source": [
    "Распределение переменной напоминает нормальное с центром в районе 18 мин. Однако наблюдается небольшое увеличение частоты на уровне 0.5 мин."
   ]
  },
  {
   "cell_type": "code",
   "execution_count": 33,
   "id": "039ed144",
   "metadata": {
    "scrolled": true
   },
   "outputs": [
    {
     "data": {
      "text/plain": [
       "0.500000     95\n",
       "22.184080     1\n",
       "25.866000     1\n",
       "22.837062     1\n",
       "19.173800     1\n",
       "Name: duration, dtype: int64"
      ]
     },
     "execution_count": 33,
     "metadata": {},
     "output_type": "execute_result"
    }
   ],
   "source": [
    "rides['duration'].value_counts().head()"
   ]
  },
  {
   "cell_type": "markdown",
   "id": "cb91307f",
   "metadata": {},
   "source": [
    "В датафрейме обнаружено 95 поездок длительностью ровно 30 сек. Это может быть связано с правилами пользования сервисом: например, у пользователя, взявшего самокат в аренду, может быть возможность отменить заказ в течение 0.5 мин. Или же пользователь может проверить самокат на технические неисправности в течение 30 секунд, и если за это время клиент решит не ехать на неисправном самокате, деньги за поездку с него списаны не будут."
   ]
  },
  {
   "cell_type": "code",
   "execution_count": 34,
   "id": "e3a4274c",
   "metadata": {},
   "outputs": [
    {
     "name": "stdout",
     "output_type": "stream",
     "text": [
      "count    18068.000000\n",
      "mean        17.805011\n",
      "std          6.091051\n",
      "min          0.500000\n",
      "25%         13.597563\n",
      "50%         17.678395\n",
      "75%         21.724800\n",
      "max         40.823963\n",
      "Name: duration, dtype: float64\n"
     ]
    },
    {
     "data": {
      "image/png": "[encoded data removed]",
      "text/plain": [
       "<Figure size 720x144 with 1 Axes>"
      ]
     },
     "metadata": {
      "needs_background": "light"
     },
     "output_type": "display_data"
    }
   ],
   "source": [
    "print(rides['duration'].describe())\n",
    "\n",
    "plt.figure(figsize=(10, 2))\n",
    "plt.boxplot(rides['duration'], vert=False, showmeans=True)\n",
    "plt.title('Диаграмма размаха для переменной duration', fontsize=14, pad=10)\n",
    "plt.xlabel('Продолжительность поездки, мин', fontsize=12, labelpad=10)\n",
    "plt.yticks([0])\n",
    "plt.show()"
   ]
  },
  {
   "cell_type": "markdown",
   "id": "ddb255b5",
   "metadata": {},
   "source": [
    "Исходя из графика, поездки длительностью больше ~ 33 мин относятся к выбросам при максимальной длительности поездки почти 41 мин. Однако избавляться от таких записей нет необходимости, т.к. подобные значения не являюстя аномальными."
   ]
  },
  {
   "cell_type": "markdown",
   "id": "c65113cd",
   "metadata": {},
   "source": [
    "<div class=\"alert alert-success\">\n",
    "<font size=\"4\", color= \"seagreen\"><b>✔️ Комментарий ревьюера</b></font>\n",
    "    <br /> \n",
    "    <font size=\"3\", color = \"black\">\n",
    "<br /> Исследование данных в целом выполнено корректно, молодец, применены основные методы изучения стат данных — гистограммы, диаграммы размаха и метод describe()\n",
    "       "
   ]
  },
  {
   "cell_type": "markdown",
   "id": "1e623250",
   "metadata": {},
   "source": [
    "<div class=\"alert alert-warning\", style=\"border:solid coral 3px; padding: 20px\">\n",
    "<font size=\"4\", color = \"DimGrey\"><b>⚠️  Комментарий ревьюера</b></font>\n",
    "    <br /> \n",
    "    <font size=\"3\", color = \"black\">\n",
    "<br /> \n",
    "        \n",
    "__Стоит добавить промежуточный вывод для всего исследовательского раздела__"
   ]
  },
  {
   "cell_type": "markdown",
   "id": "0113a5ce",
   "metadata": {},
   "source": [
    "<div class=\"alert alert-info\">\n",
    "<font size=\"4\", color = \"black\"><b>✍ Комментарий студента</b></font>\n",
    "    <br /> \n",
    "    <font size=\"3\", color = \"black\">\n",
    "<br /> Добавила промежуточный вывод ниже."
   ]
  },
  {
   "cell_type": "markdown",
   "id": "2eea9b2a",
   "metadata": {},
   "source": [
    "По результатам исследовательского анализа можно сформулировать следующие выводы:\n",
    "- в датафрейме **rides** агрегирована информация о поездках, совершённых **в течение 2021 года в восьми городах**. За этот период **больше всего поездок было совершено в Пятигорске, меньше всего - в Москве**;\n",
    "- **пользователей с платной подпиской чуть меньше**, чем пользователей без неё (доли распределены как **45.6%** и 54.4% соответственно);\n",
    "- среднему пользователю сервиса вне зависимости от типа подписки - **25 лет**;\n",
    "- **расстояние, которое проезжают пользователи, сконцентрировано в двух пиках: ~700 м и ~3100 м**. Это может объясняться тем, что пользователи без подписки чаще совершают более короткие поездки, нежели пользователи с подпиской. Т.к. информации о поездках, совершённых пользователями без подписки, в датафрейме существенно больше, мы можем наблюдать пик более коротких поездок на уровне ~700 м;\n",
    "- в среднем каждый пользователь тратит на одну поездку **почти 18 мин**."
   ]
  },
  {
   "cell_type": "markdown",
   "id": "4f59be3f",
   "metadata": {},
   "source": [
    "<div class=\"alert alert-success\">\n",
    "<font size=\"4\", color= \"seagreen\"><b>✔️ Комментарий ревьюера в2</b></font>\n",
    "    <br /> \n",
    "    <font size=\"3\", color = \"black\">\n",
    "<br />Замечательно, молодец"
   ]
  },
  {
   "cell_type": "markdown",
   "id": "4ef51331",
   "metadata": {},
   "source": [
    "### Шаг 4. Объединение данных"
   ]
  },
  {
   "cell_type": "markdown",
   "id": "e08938b7",
   "metadata": {},
   "source": [
    "#### Объединение датафреймов"
   ]
  },
  {
   "cell_type": "code",
   "execution_count": 35,
   "id": "0b472eab",
   "metadata": {},
   "outputs": [
    {
     "data": {
      "text/html": [
       "<div>\n",
       "<style scoped>\n",
       "    .dataframe tbody tr th:only-of-type {\n",
       "        vertical-align: middle;\n",
       "    }\n",
       "\n",
       "    .dataframe tbody tr th {\n",
       "        vertical-align: top;\n",
       "    }\n",
       "\n",
       "    .dataframe thead th {\n",
       "        text-align: right;\n",
       "    }\n",
       "</style>\n",
       "<table border=\"1\" class=\"dataframe\">\n",
       "  <thead>\n",
       "    <tr style=\"text-align: right;\">\n",
       "      <th></th>\n",
       "      <th>user_id</th>\n",
       "      <th>name</th>\n",
       "      <th>age</th>\n",
       "      <th>city</th>\n",
       "      <th>subscription_type</th>\n",
       "      <th>distance</th>\n",
       "      <th>duration</th>\n",
       "      <th>date</th>\n",
       "      <th>month</th>\n",
       "      <th>minute_price</th>\n",
       "      <th>start_ride_price</th>\n",
       "      <th>subscription_fee</th>\n",
       "    </tr>\n",
       "  </thead>\n",
       "  <tbody>\n",
       "    <tr>\n",
       "      <th>0</th>\n",
       "      <td>1</td>\n",
       "      <td>Кира</td>\n",
       "      <td>22</td>\n",
       "      <td>Тюмень</td>\n",
       "      <td>ultra</td>\n",
       "      <td>4409.919140</td>\n",
       "      <td>25.599769</td>\n",
       "      <td>2021-01-01</td>\n",
       "      <td>1</td>\n",
       "      <td>6</td>\n",
       "      <td>0</td>\n",
       "      <td>199</td>\n",
       "    </tr>\n",
       "    <tr>\n",
       "      <th>1</th>\n",
       "      <td>1</td>\n",
       "      <td>Кира</td>\n",
       "      <td>22</td>\n",
       "      <td>Тюмень</td>\n",
       "      <td>ultra</td>\n",
       "      <td>2617.592153</td>\n",
       "      <td>15.816871</td>\n",
       "      <td>2021-01-18</td>\n",
       "      <td>1</td>\n",
       "      <td>6</td>\n",
       "      <td>0</td>\n",
       "      <td>199</td>\n",
       "    </tr>\n",
       "    <tr>\n",
       "      <th>2</th>\n",
       "      <td>1</td>\n",
       "      <td>Кира</td>\n",
       "      <td>22</td>\n",
       "      <td>Тюмень</td>\n",
       "      <td>ultra</td>\n",
       "      <td>754.159807</td>\n",
       "      <td>6.232113</td>\n",
       "      <td>2021-04-20</td>\n",
       "      <td>4</td>\n",
       "      <td>6</td>\n",
       "      <td>0</td>\n",
       "      <td>199</td>\n",
       "    </tr>\n",
       "    <tr>\n",
       "      <th>3</th>\n",
       "      <td>1</td>\n",
       "      <td>Кира</td>\n",
       "      <td>22</td>\n",
       "      <td>Тюмень</td>\n",
       "      <td>ultra</td>\n",
       "      <td>2694.783254</td>\n",
       "      <td>18.511000</td>\n",
       "      <td>2021-08-11</td>\n",
       "      <td>8</td>\n",
       "      <td>6</td>\n",
       "      <td>0</td>\n",
       "      <td>199</td>\n",
       "    </tr>\n",
       "    <tr>\n",
       "      <th>4</th>\n",
       "      <td>1</td>\n",
       "      <td>Кира</td>\n",
       "      <td>22</td>\n",
       "      <td>Тюмень</td>\n",
       "      <td>ultra</td>\n",
       "      <td>4028.687306</td>\n",
       "      <td>26.265803</td>\n",
       "      <td>2021-08-28</td>\n",
       "      <td>8</td>\n",
       "      <td>6</td>\n",
       "      <td>0</td>\n",
       "      <td>199</td>\n",
       "    </tr>\n",
       "  </tbody>\n",
       "</table>\n",
       "</div>"
      ],
      "text/plain": [
       "   user_id  name  age    city subscription_type     distance   duration  \\\n",
       "0        1  Кира   22  Тюмень             ultra  4409.919140  25.599769   \n",
       "1        1  Кира   22  Тюмень             ultra  2617.592153  15.816871   \n",
       "2        1  Кира   22  Тюмень             ultra   754.159807   6.232113   \n",
       "3        1  Кира   22  Тюмень             ultra  2694.783254  18.511000   \n",
       "4        1  Кира   22  Тюмень             ultra  4028.687306  26.265803   \n",
       "\n",
       "        date  month  minute_price  start_ride_price  subscription_fee  \n",
       "0 2021-01-01      1             6                 0               199  \n",
       "1 2021-01-18      1             6                 0               199  \n",
       "2 2021-04-20      4             6                 0               199  \n",
       "3 2021-08-11      8             6                 0               199  \n",
       "4 2021-08-28      8             6                 0               199  "
      ]
     },
     "execution_count": 35,
     "metadata": {},
     "output_type": "execute_result"
    }
   ],
   "source": [
    "# объединим 3 датафрейма в одну таблицу\n",
    "\n",
    "data = users.merge(rides, on='user_id').merge(subscriptions, on='subscription_type')\n",
    "data.head()"
   ]
  },
  {
   "cell_type": "markdown",
   "id": "3b2d1e0e",
   "metadata": {},
   "source": [
    "<div class=\"alert alert-success\">\n",
    "<font size=\"4\", color= \"seagreen\"><b>✔️ Комментарий ревьюера</b></font>\n",
    "    <br /> \n",
    "    <font size=\"3\", color = \"black\">\n",
    "<br /> Объединение данных прошло по плану, молодец\n",
    "         \n",
    "        \n",
    "        \n",
    "Обрати внимание на параметры, которые пандас выставляет по умолчанию при merge (для справки в join такая же «засада» по характеру, но другая по исполнению)\n",
    "        \n",
    "Использование параметров по умолчанию может привести к потере данных при объединении        \n",
    "     \n",
    "        \n",
    "[Примеры объединения таблиц, общая справка](https://pandas.pydata.org/pandas-docs/stable/user_guide/merging.html)        "
   ]
  },
  {
   "cell_type": "markdown",
   "id": "c091d25e",
   "metadata": {},
   "source": [
    "<div class=\"alert alert-info\">\n",
    "<font size=\"4\", color = \"black\"><b>✍ Комментарий студента</b></font>\n",
    "    <br /> \n",
    "    <font size=\"3\", color = \"black\">\n",
    "<br /> Спасибо! Добавила материал в закладки"
   ]
  },
  {
   "cell_type": "markdown",
   "id": "7c122828",
   "metadata": {},
   "source": [
    "<div class=\"alert alert-dan ger\">\n",
    "<font size=\"4\"><b>❌ Комментарий ревьюера</b></font>\n",
    "    <br /> \n",
    "    <font size=\"3\", color = \"black\">\n",
    "<br />  Стоит проверить размерность  до объединения и после у полученной таблицы, чтобы размерность ДО == размерности после (по кол-ву строк), и наличие пропусков после объединения.\n",
    "        \n",
    "Можно добавить минивывод о результатах этой важной операции\n",
    "        \n",
    " "
   ]
  },
  {
   "cell_type": "markdown",
   "id": "2be26afa",
   "metadata": {},
   "source": [
    "<div class=\"alert alert-info\">\n",
    "<font size=\"4\", color = \"black\"><b>✍ Комментарий студента</b></font>\n",
    "    <br /> \n",
    "    <font size=\"3\", color = \"black\">\n",
    "<br /> Добавила проверку ниже"
   ]
  },
  {
   "cell_type": "markdown",
   "id": "460a901f",
   "metadata": {},
   "source": [
    "В самом \"длинном\" датафрейме **rides** изначально было **18 068 записей**. Следовательно, стоит ориентироваться на эту итоговую размерность после объединения таблиц. Проверим размерность объединённой таблицы и возможные пропуски в ней."
   ]
  },
  {
   "cell_type": "code",
   "execution_count": 36,
   "id": "3b9ee03e",
   "metadata": {},
   "outputs": [
    {
     "data": {
      "text/plain": [
       "(18068, 12)"
      ]
     },
     "execution_count": 36,
     "metadata": {},
     "output_type": "execute_result"
    }
   ],
   "source": [
    "data.shape"
   ]
  },
  {
   "cell_type": "code",
   "execution_count": 37,
   "id": "0d73fb38",
   "metadata": {},
   "outputs": [
    {
     "data": {
      "text/plain": [
       "user_id              0\n",
       "name                 0\n",
       "age                  0\n",
       "city                 0\n",
       "subscription_type    0\n",
       "distance             0\n",
       "duration             0\n",
       "date                 0\n",
       "month                0\n",
       "minute_price         0\n",
       "start_ride_price     0\n",
       "subscription_fee     0\n",
       "dtype: int64"
      ]
     },
     "execution_count": 37,
     "metadata": {},
     "output_type": "execute_result"
    }
   ],
   "source": [
    "data.isna().sum()"
   ]
  },
  {
   "cell_type": "markdown",
   "id": "81f27d9d",
   "metadata": {},
   "source": [
    "Объединённая таблица содержит столько же записей, сколько изначально было в самом длинном датафрейме - **18 068**.\n",
    "\n",
    "**Пропусков в объединённой таблице не обнаружено - следовательно, можно говорить об успешном завершении объединения датафреймов.**"
   ]
  },
  {
   "cell_type": "markdown",
   "id": "970f247c",
   "metadata": {},
   "source": [
    "#### Создание новых датафреймов"
   ]
  },
  {
   "cell_type": "code",
   "execution_count": 38,
   "id": "268beb48",
   "metadata": {},
   "outputs": [
    {
     "name": "stdout",
     "output_type": "stream",
     "text": [
      "<class 'pandas.core.frame.DataFrame'>\n",
      "Int64Index: 11568 entries, 6500 to 18067\n",
      "Data columns (total 12 columns):\n",
      " #   Column             Non-Null Count  Dtype         \n",
      "---  ------             --------------  -----         \n",
      " 0   user_id            11568 non-null  int64         \n",
      " 1   name               11568 non-null  object        \n",
      " 2   age                11568 non-null  int64         \n",
      " 3   city               11568 non-null  object        \n",
      " 4   subscription_type  11568 non-null  object        \n",
      " 5   distance           11568 non-null  float64       \n",
      " 6   duration           11568 non-null  float64       \n",
      " 7   date               11568 non-null  datetime64[ns]\n",
      " 8   month              11568 non-null  int64         \n",
      " 9   minute_price       11568 non-null  int64         \n",
      " 10  start_ride_price   11568 non-null  int64         \n",
      " 11  subscription_fee   11568 non-null  int64         \n",
      "dtypes: datetime64[ns](1), float64(2), int64(6), object(3)\n",
      "memory usage: 1.1+ MB\n",
      "\n",
      "<class 'pandas.core.frame.DataFrame'>\n",
      "Int64Index: 6500 entries, 0 to 6499\n",
      "Data columns (total 12 columns):\n",
      " #   Column             Non-Null Count  Dtype         \n",
      "---  ------             --------------  -----         \n",
      " 0   user_id            6500 non-null   int64         \n",
      " 1   name               6500 non-null   object        \n",
      " 2   age                6500 non-null   int64         \n",
      " 3   city               6500 non-null   object        \n",
      " 4   subscription_type  6500 non-null   object        \n",
      " 5   distance           6500 non-null   float64       \n",
      " 6   duration           6500 non-null   float64       \n",
      " 7   date               6500 non-null   datetime64[ns]\n",
      " 8   month              6500 non-null   int64         \n",
      " 9   minute_price       6500 non-null   int64         \n",
      " 10  start_ride_price   6500 non-null   int64         \n",
      " 11  subscription_fee   6500 non-null   int64         \n",
      "dtypes: datetime64[ns](1), float64(2), int64(6), object(3)\n",
      "memory usage: 660.2+ KB\n"
     ]
    }
   ],
   "source": [
    "# для дальнейшего анализа создадим два отдельных датафрейма:\n",
    "# с данными о пользователях с подпиской и без неё\n",
    "\n",
    "free = data[data['subscription_type'] == 'free']\n",
    "ultra = data[data['subscription_type'] == 'ultra']\n",
    "\n",
    "free.info()\n",
    "print()\n",
    "ultra.info()"
   ]
  },
  {
   "cell_type": "markdown",
   "id": "8eb600db",
   "metadata": {},
   "source": [
    "Получили два датафрейма с данными о поездках в разбивке по типу подписки пользователя.\n",
    "\n",
    "В датафрейме с данными о пользователях без подписки содержится **11 568 записей**, с данными о пользователях с подпиской - **6 500 записей**."
   ]
  },
  {
   "cell_type": "markdown",
   "id": "1cc135dc",
   "metadata": {},
   "source": [
    "<div class=\"alert alert-success\">\n",
    "<font size=\"4\", color= \"seagreen\"><b>✔️ Комментарий ревьюера</b></font>\n",
    "    <br /> \n",
    "    <font size=\"3\", color = \"black\">\n",
    "<br />Молодец, что проверила размерность таблиц и общую информацию, в отчете стоит отметить, что пропусков в данных после объединения не появилось"
   ]
  },
  {
   "cell_type": "markdown",
   "id": "6d82e107",
   "metadata": {},
   "source": [
    "<div class=\"alert alert-info\">\n",
    "<font size=\"4\", color = \"black\"><b>✍ Комментарий студента</b></font>\n",
    "    <br /> \n",
    "    <font size=\"3\", color = \"black\">\n",
    "<br /> Спасибо! Наблюдение о том, что пропусков данных после объединения таблиц не появилось, добавила выше в п. 2.4.1."
   ]
  },
  {
   "cell_type": "markdown",
   "id": "d5030925",
   "metadata": {},
   "source": [
    "#### Визуализация информации"
   ]
  },
  {
   "cell_type": "markdown",
   "id": "648596c4",
   "metadata": {},
   "source": [
    "##### distance"
   ]
  },
  {
   "cell_type": "code",
   "execution_count": 39,
   "id": "6a68db7d",
   "metadata": {},
   "outputs": [
    {
     "data": {
      "image/png": "[encoded data removed]",
      "text/plain": [
       "<Figure size 720x360 with 1 Axes>"
      ]
     },
     "metadata": {
      "needs_background": "light"
     },
     "output_type": "display_data"
    }
   ],
   "source": [
    "# отобразим распределение переменной distance в разбивке по типу подписки\n",
    "\n",
    "plt.figure(figsize=(10, 5))\n",
    "plt.hist([free['distance'], ultra['distance']], label=['free', 'ultra'], bins=50)\n",
    "plt.title('Частота распределения переменной distance в разбивке по типу подписки',\n",
    "         fontsize=14, pad=10)\n",
    "plt.xlabel('Расстояние, м', fontsize=12, labelpad=10)\n",
    "plt.ylabel('Частота', fontsize=12, labelpad=10)\n",
    "plt.legend(loc='upper right')\n",
    "plt.show()"
   ]
  },
  {
   "cell_type": "markdown",
   "id": "b0f6616d",
   "metadata": {},
   "source": [
    "<div class=\"alert alert-success\">\n",
    "<font size=\"4\", color= \"seagreen\"><b>✔️ Комментарий ревьюера в2</b></font>\n",
    "    <br /> \n",
    "    <font size=\"3\", color = \"black\">\n",
    "<br />Изменим легенду"
   ]
  },
  {
   "cell_type": "code",
   "execution_count": 40,
   "id": "cf22b211",
   "metadata": {},
   "outputs": [
    {
     "data": {
      "image/png": "[encoded data removed]",
      "text/plain": [
       "<Figure size 720x360 with 1 Axes>"
      ]
     },
     "metadata": {
      "needs_background": "light"
     },
     "output_type": "display_data"
    }
   ],
   "source": [
    "# отобразим распределение переменной distance в разбивке по типу подписки\n",
    "\n",
    "plt.figure(figsize=(10, 5))\n",
    "plt.hist([free['distance'], ultra['distance']], label=['Без подписки', 'ultra'], bins=50)\n",
    "plt.title('Частота распределения переменной distance в разбивке по типу подписки',\n",
    "         fontsize=14, pad=10)\n",
    "plt.xlabel('Расстояние, м', fontsize=12, labelpad=10)\n",
    "plt.ylabel('Частота', fontsize=12, labelpad=10)\n",
    "plt.legend(loc='upper right')\n",
    "plt.show()"
   ]
  },
  {
   "cell_type": "markdown",
   "id": "8fedd765",
   "metadata": {},
   "source": [
    "Центр распределения с наибольшей частотой для пользователей **без платной подписки (free) находится на уровне 2,5 км**, в то время как центр распределения для пользователей **с платной подпиской находится правее - на уровне 3,1 км**.\n",
    "\n",
    "Интересно, что в обоих подвыборках наблюдается пик \"коротких дистанций\": для пользователей без подписки - на уровне 600 м, для пользователей с подпиской - на уровне 1 км. Это может быть связано с целью поездки пользователя. Более длинные поездки пользователи совершают, скорее всего, с целью прогулки, встречи с друзьями и т.д. (чем обусловлен пик в районе 3 км), в то время как более короткие поездки могут быть \"деловыми\": например, с целью добраться от метро до работы / места встречи и т.д."
   ]
  },
  {
   "cell_type": "markdown",
   "id": "bfbf02b2",
   "metadata": {},
   "source": [
    "<div class=\"alert alert-success\">\n",
    "<font size=\"4\", color= \"seagreen\"><b>✔️ Комментарий ревьюера</b></font>\n",
    "    <br /> \n",
    "    <font size=\"3\", color = \"black\">\n",
    "<br />Молодец, что совместила оба графика, так их проще сравнить друг с другом"
   ]
  },
  {
   "cell_type": "markdown",
   "id": "39b0b2e6",
   "metadata": {},
   "source": [
    "<div class=\"alert alert-info\">\n",
    "<font size=\"4\", color = \"black\"><b>✍ Комментарий студента</b></font>\n",
    "    <br /> \n",
    "    <font size=\"3\", color = \"black\">\n",
    "<br /> Спасибо! Добавила на график больше корзин и дополнила вывод выше предположением о том, чем может быть обусловлен второй пик \"коротких дистанций\"."
   ]
  },
  {
   "cell_type": "markdown",
   "id": "e1a71c16",
   "metadata": {},
   "source": [
    "##### duration"
   ]
  },
  {
   "cell_type": "code",
   "execution_count": 41,
   "id": "24d075ff",
   "metadata": {},
   "outputs": [
    {
     "data": {
      "image/png": "[encoded data removed]",
      "text/plain": [
       "<Figure size 720x360 with 1 Axes>"
      ]
     },
     "metadata": {
      "needs_background": "light"
     },
     "output_type": "display_data"
    }
   ],
   "source": [
    "# отобразим распределение переменной duration в разбивке по типу подписки\n",
    "\n",
    "plt.figure(figsize=(10, 5))\n",
    "plt.hist([free['duration'], ultra['duration']], label=['free', 'ultra'], bins=50)\n",
    "plt.title('Частота распределения переменной duration в разбивке по типу подписки',\n",
    "         fontsize=14, pad=10)\n",
    "plt.xlabel('Продолжительность поездки, мин', fontsize=12, labelpad=10)\n",
    "plt.ylabel('Частота', fontsize=12, labelpad=10)\n",
    "plt.legend(loc='upper right')\n",
    "plt.show()"
   ]
  },
  {
   "cell_type": "markdown",
   "id": "a5b7eec7",
   "metadata": {},
   "source": [
    "По графикам видно, что распределение переменной *duration* для пользователей без платной подписки имеет чуть более короткий правый хвост, чем распределение той же переменной для пользователей с платной подпиской. При этом центр распределения продолжительности поездки для пользователей с платной подпиской находится чуть правее, чем для пользователей без подписки. Проверим данное наблюдение с помощью пятичисловых сводок по переменной duration для двух подвыборок: пользователи без подписки (FREE) и пользователи с платной подпиской (ULTRA)."
   ]
  },
  {
   "cell_type": "markdown",
   "id": "c4ccded1",
   "metadata": {},
   "source": [
    "<div class=\"alert alert-warning\", style=\"border:solid coral 3px; padding: 20px\">\n",
    "<font size=\"4\", color = \"DimGrey\"><b>⚠️ Комментарий ревьюера</b></font>\n",
    "    <br /> \n",
    "    <font size=\"3\", color = \"black\">\n",
    "<br /> Стоит добавить в исследование описательные статистики при помощи метода descibe()"
   ]
  },
  {
   "cell_type": "markdown",
   "id": "d966f4ac",
   "metadata": {},
   "source": [
    "<div class=\"alert alert-info\">\n",
    "<font size=\"4\", color = \"black\"><b>✍ Комментарий студента</b></font>\n",
    "    <br /> \n",
    "    <font size=\"3\", color = \"black\">\n",
    "<br /> Добавила ниже описательные статистики, поправила вывод."
   ]
  },
  {
   "cell_type": "code",
   "execution_count": 42,
   "id": "01faee76",
   "metadata": {},
   "outputs": [
    {
     "name": "stdout",
     "output_type": "stream",
     "text": [
      "FREE: пятичисловая сводка для переменной duration\n",
      "count    11568.000000\n",
      "mean        17.390909\n",
      "std          6.326803\n",
      "min          0.500000\n",
      "25%         12.958437\n",
      "50%         17.326890\n",
      "75%         21.594071\n",
      "max         34.948498\n",
      "Name: duration, dtype: float64\n",
      "\n",
      "ULTRA: пятичисловая сводка для переменной duration\n",
      "count    6500.000000\n",
      "mean       18.541985\n",
      "std         5.572048\n",
      "min         3.760353\n",
      "25%        14.524654\n",
      "50%        18.178153\n",
      "75%        21.884129\n",
      "max        40.823963\n",
      "Name: duration, dtype: float64\n"
     ]
    }
   ],
   "source": [
    "print('FREE: пятичисловая сводка для переменной duration')\n",
    "print(free['duration'].describe())\n",
    "print()\n",
    "print('ULTRA: пятичисловая сводка для переменной duration')\n",
    "print(ultra['duration'].describe())"
   ]
  },
  {
   "cell_type": "markdown",
   "id": "34719d2d",
   "metadata": {},
   "source": [
    "На основе пятичисловых сводок можем сделать вывод о том, что **в среднем пользователи с подпиской тратят чуть больше времени на одну поездку, чем пользователи без подписки**.\n",
    "\n",
    "Медианное время одной поездки для пользователей **без подписки составляет 17.3 мин**, для пользователей **с подпиской - 18.2 мин**."
   ]
  },
  {
   "cell_type": "markdown",
   "id": "402d620f",
   "metadata": {},
   "source": [
    "### Шаг 5. Подсчёт выручки"
   ]
  },
  {
   "cell_type": "markdown",
   "id": "24e384ae",
   "metadata": {},
   "source": [
    "#### Создание агрегированного датафрейма"
   ]
  },
  {
   "cell_type": "markdown",
   "id": "0e7a3c3e",
   "metadata": {},
   "source": [
    "<div class=\"alert alert-dang er\">\n",
    "<font size=\"4\"><b>❌ Комментарий ревьюера</b></font>\n",
    "    <br /> \n",
    "    <font size=\"3\", color = \"black\">\n",
    "<br /> \n",
    "        \n",
    "Стоит выполнить округление длительности до агрегации данных\n",
    "        "
   ]
  },
  {
   "cell_type": "markdown",
   "id": "d70f6f27",
   "metadata": {},
   "source": [
    "<div class=\"alert alert-info\">\n",
    "<font size=\"4\", color = \"black\"><b>✍ Комментарий студента</b></font>\n",
    "    <br /> \n",
    "    <font size=\"3\", color = \"black\">\n",
    "<br /> Добавила блок с округлением ниже."
   ]
  },
  {
   "cell_type": "code",
   "execution_count": 43,
   "id": "a05d0426",
   "metadata": {},
   "outputs": [
    {
     "data": {
      "text/plain": [
       "0    26.0\n",
       "1    16.0\n",
       "2     7.0\n",
       "3    19.0\n",
       "4    27.0\n",
       "Name: duration, dtype: float64"
      ]
     },
     "execution_count": 43,
     "metadata": {},
     "output_type": "execute_result"
    }
   ],
   "source": [
    "# для переменной duration выполним округление вверх в изначальном датафрейме\n",
    "\n",
    "data['duration'] = np.ceil(data['duration'])\n",
    "data['duration'].head()"
   ]
  },
  {
   "cell_type": "markdown",
   "id": "e72dd7ac",
   "metadata": {},
   "source": [
    "Создадим датафрейм с агрегированными данными по каждому пользователю за каждый месяц. Новая таблица будет содержать для каждого пользователя за каждый месяц:\n",
    "- количество поездок *(count)*,\n",
    "- суммарное расстояние *(sum_distance)*,\n",
    "- суммарное время *(sum_duration)*,\n",
    "- тип подписки *(subscription_type)*."
   ]
  },
  {
   "cell_type": "code",
   "execution_count": 44,
   "id": "e6381b3e",
   "metadata": {
    "scrolled": false
   },
   "outputs": [
    {
     "data": {
      "text/html": [
       "<div>\n",
       "<style scoped>\n",
       "    .dataframe tbody tr th:only-of-type {\n",
       "        vertical-align: middle;\n",
       "    }\n",
       "\n",
       "    .dataframe tbody tr th {\n",
       "        vertical-align: top;\n",
       "    }\n",
       "\n",
       "    .dataframe thead th {\n",
       "        text-align: right;\n",
       "    }\n",
       "</style>\n",
       "<table border=\"1\" class=\"dataframe\">\n",
       "  <thead>\n",
       "    <tr style=\"text-align: right;\">\n",
       "      <th></th>\n",
       "      <th>user_id</th>\n",
       "      <th>month</th>\n",
       "      <th>count</th>\n",
       "      <th>sum_distance</th>\n",
       "      <th>sum_duration</th>\n",
       "      <th>subscription_type</th>\n",
       "    </tr>\n",
       "  </thead>\n",
       "  <tbody>\n",
       "    <tr>\n",
       "      <th>0</th>\n",
       "      <td>1</td>\n",
       "      <td>1</td>\n",
       "      <td>2</td>\n",
       "      <td>7027.511294</td>\n",
       "      <td>42.0</td>\n",
       "      <td>ultra</td>\n",
       "    </tr>\n",
       "    <tr>\n",
       "      <th>1</th>\n",
       "      <td>1</td>\n",
       "      <td>4</td>\n",
       "      <td>1</td>\n",
       "      <td>754.159807</td>\n",
       "      <td>7.0</td>\n",
       "      <td>ultra</td>\n",
       "    </tr>\n",
       "    <tr>\n",
       "      <th>2</th>\n",
       "      <td>1</td>\n",
       "      <td>8</td>\n",
       "      <td>2</td>\n",
       "      <td>6723.470560</td>\n",
       "      <td>46.0</td>\n",
       "      <td>ultra</td>\n",
       "    </tr>\n",
       "    <tr>\n",
       "      <th>3</th>\n",
       "      <td>1</td>\n",
       "      <td>10</td>\n",
       "      <td>2</td>\n",
       "      <td>5809.911100</td>\n",
       "      <td>32.0</td>\n",
       "      <td>ultra</td>\n",
       "    </tr>\n",
       "    <tr>\n",
       "      <th>4</th>\n",
       "      <td>1</td>\n",
       "      <td>11</td>\n",
       "      <td>3</td>\n",
       "      <td>7003.499363</td>\n",
       "      <td>56.0</td>\n",
       "      <td>ultra</td>\n",
       "    </tr>\n",
       "    <tr>\n",
       "      <th>...</th>\n",
       "      <td>...</td>\n",
       "      <td>...</td>\n",
       "      <td>...</td>\n",
       "      <td>...</td>\n",
       "      <td>...</td>\n",
       "      <td>...</td>\n",
       "    </tr>\n",
       "    <tr>\n",
       "      <th>11326</th>\n",
       "      <td>1534</td>\n",
       "      <td>6</td>\n",
       "      <td>2</td>\n",
       "      <td>3409.468534</td>\n",
       "      <td>26.0</td>\n",
       "      <td>free</td>\n",
       "    </tr>\n",
       "    <tr>\n",
       "      <th>11327</th>\n",
       "      <td>1534</td>\n",
       "      <td>8</td>\n",
       "      <td>2</td>\n",
       "      <td>7622.453034</td>\n",
       "      <td>48.0</td>\n",
       "      <td>free</td>\n",
       "    </tr>\n",
       "    <tr>\n",
       "      <th>11328</th>\n",
       "      <td>1534</td>\n",
       "      <td>9</td>\n",
       "      <td>1</td>\n",
       "      <td>4928.173852</td>\n",
       "      <td>23.0</td>\n",
       "      <td>free</td>\n",
       "    </tr>\n",
       "    <tr>\n",
       "      <th>11329</th>\n",
       "      <td>1534</td>\n",
       "      <td>11</td>\n",
       "      <td>4</td>\n",
       "      <td>13350.015305</td>\n",
       "      <td>78.0</td>\n",
       "      <td>free</td>\n",
       "    </tr>\n",
       "    <tr>\n",
       "      <th>11330</th>\n",
       "      <td>1534</td>\n",
       "      <td>12</td>\n",
       "      <td>1</td>\n",
       "      <td>2371.711192</td>\n",
       "      <td>16.0</td>\n",
       "      <td>free</td>\n",
       "    </tr>\n",
       "  </tbody>\n",
       "</table>\n",
       "<p>11331 rows × 6 columns</p>\n",
       "</div>"
      ],
      "text/plain": [
       "       user_id  month  count  sum_distance  sum_duration subscription_type\n",
       "0            1      1      2   7027.511294          42.0             ultra\n",
       "1            1      4      1    754.159807           7.0             ultra\n",
       "2            1      8      2   6723.470560          46.0             ultra\n",
       "3            1     10      2   5809.911100          32.0             ultra\n",
       "4            1     11      3   7003.499363          56.0             ultra\n",
       "...        ...    ...    ...           ...           ...               ...\n",
       "11326     1534      6      2   3409.468534          26.0              free\n",
       "11327     1534      8      2   7622.453034          48.0              free\n",
       "11328     1534      9      1   4928.173852          23.0              free\n",
       "11329     1534     11      4  13350.015305          78.0              free\n",
       "11330     1534     12      1   2371.711192          16.0              free\n",
       "\n",
       "[11331 rows x 6 columns]"
      ]
     },
     "execution_count": 44,
     "metadata": {},
     "output_type": "execute_result"
    }
   ],
   "source": [
    "agg_data = (data\n",
    "            .pivot_table(\n",
    "                index=['user_id', 'month'],\n",
    "                values=['distance', 'duration', 'subscription_type'],\n",
    "                aggfunc={'distance': ['count', 'sum'], 'duration': 'sum', \n",
    "                         'subscription_type': 'first'})\n",
    "            .reset_index()\n",
    "            .droplevel(1, axis=1)\n",
    "           )\n",
    "\n",
    "agg_data.columns = ['user_id', 'month', 'count', 'sum_distance', \n",
    "                    'sum_duration', 'subscription_type']\n",
    "agg_data"
   ]
  },
  {
   "cell_type": "markdown",
   "id": "9deef0a1",
   "metadata": {},
   "source": [
    "<div class=\"alert alert-d anger\">\n",
    "<font size=\"4\"><b>❌ Комментарий ревьюера</b></font>\n",
    "    <br /> \n",
    "    <font size=\"3\", color = \"black\">\n",
    "<br />Сама сводная таблица составлена корректно, молодец \n",
    "        \n",
    "Стоит проверить агрегированные данные на пропуски\n",
    "        "
   ]
  },
  {
   "cell_type": "markdown",
   "id": "9aee2caf",
   "metadata": {},
   "source": [
    "<div class=\"alert alert-info\">\n",
    "<font size=\"4\", color = \"black\"><b>✍ Комментарий студента</b></font>\n",
    "    <br /> \n",
    "    <font size=\"3\", color = \"black\">\n",
    "<br /> Добавила проверку ниже."
   ]
  },
  {
   "cell_type": "code",
   "execution_count": 45,
   "id": "e2a06bbd",
   "metadata": {},
   "outputs": [
    {
     "data": {
      "text/plain": [
       "user_id              0\n",
       "month                0\n",
       "count                0\n",
       "sum_distance         0\n",
       "sum_duration         0\n",
       "subscription_type    0\n",
       "dtype: int64"
      ]
     },
     "execution_count": 45,
     "metadata": {},
     "output_type": "execute_result"
    }
   ],
   "source": [
    "# проверим сводную таблицу на наличие пропусков\n",
    "\n",
    "agg_data.isna().sum()"
   ]
  },
  {
   "cell_type": "markdown",
   "id": "845821ed",
   "metadata": {},
   "source": [
    "**В агрегированных данных пропусков не обнаружено** - можем работать с ними дальше."
   ]
  },
  {
   "cell_type": "markdown",
   "id": "c7e5b8dc",
   "metadata": {},
   "source": [
    "#### Дополнение агрегированного датафрейма"
   ]
  },
  {
   "cell_type": "markdown",
   "id": "7c63d421",
   "metadata": {},
   "source": [
    "Добавим в агрегированный датафрейм столбец с ежемесячной выручкой на каждого пользователя. Для этого сначала добавим в датафрейм информацию о параметрах оплаты."
   ]
  },
  {
   "cell_type": "markdown",
   "id": "81444dbf",
   "metadata": {},
   "source": [
    "<div class=\"alert alert-warning\", style=\"border:solid coral 3px; padding: 20px\">\n",
    "<font size=\"4\", color = \"DimGrey\"><b>⚠️Комментарий ревьюера</b></font>\n",
    "    <br /> \n",
    "    <font size=\"3\", color = \"black\">\n",
    "<br />\n",
    " Стоит добавить данные о параметрах оплаты в таблицу, чтобы избежать неоптимальных шагов по объединению таблиц, а выручку можно будет рассчитать при помощи функции"
   ]
  },
  {
   "cell_type": "markdown",
   "id": "c67b8bb1",
   "metadata": {},
   "source": [
    "<div class=\"alert alert-info\">\n",
    "<font size=\"4\", color = \"black\"><b>✍ Комментарий студента</b></font>\n",
    "    <br /> \n",
    "    <font size=\"3\", color = \"black\">\n",
    "<br /> Ниже выполнила шаги по добавлению параметров оплаты в агрегированную таблицу."
   ]
  },
  {
   "cell_type": "code",
   "execution_count": 46,
   "id": "3e966337",
   "metadata": {},
   "outputs": [
    {
     "data": {
      "text/html": [
       "<div>\n",
       "<style scoped>\n",
       "    .dataframe tbody tr th:only-of-type {\n",
       "        vertical-align: middle;\n",
       "    }\n",
       "\n",
       "    .dataframe tbody tr th {\n",
       "        vertical-align: top;\n",
       "    }\n",
       "\n",
       "    .dataframe thead th {\n",
       "        text-align: right;\n",
       "    }\n",
       "</style>\n",
       "<table border=\"1\" class=\"dataframe\">\n",
       "  <thead>\n",
       "    <tr style=\"text-align: right;\">\n",
       "      <th></th>\n",
       "      <th>user_id</th>\n",
       "      <th>month</th>\n",
       "      <th>count</th>\n",
       "      <th>sum_distance</th>\n",
       "      <th>sum_duration</th>\n",
       "      <th>subscription_type</th>\n",
       "      <th>minute_price</th>\n",
       "      <th>start_ride_price</th>\n",
       "      <th>subscription_fee</th>\n",
       "    </tr>\n",
       "  </thead>\n",
       "  <tbody>\n",
       "    <tr>\n",
       "      <th>0</th>\n",
       "      <td>1</td>\n",
       "      <td>1</td>\n",
       "      <td>2</td>\n",
       "      <td>7027.511294</td>\n",
       "      <td>42.0</td>\n",
       "      <td>ultra</td>\n",
       "      <td>6</td>\n",
       "      <td>0</td>\n",
       "      <td>199</td>\n",
       "    </tr>\n",
       "    <tr>\n",
       "      <th>1</th>\n",
       "      <td>1</td>\n",
       "      <td>4</td>\n",
       "      <td>1</td>\n",
       "      <td>754.159807</td>\n",
       "      <td>7.0</td>\n",
       "      <td>ultra</td>\n",
       "      <td>6</td>\n",
       "      <td>0</td>\n",
       "      <td>199</td>\n",
       "    </tr>\n",
       "    <tr>\n",
       "      <th>2</th>\n",
       "      <td>1</td>\n",
       "      <td>8</td>\n",
       "      <td>2</td>\n",
       "      <td>6723.470560</td>\n",
       "      <td>46.0</td>\n",
       "      <td>ultra</td>\n",
       "      <td>6</td>\n",
       "      <td>0</td>\n",
       "      <td>199</td>\n",
       "    </tr>\n",
       "    <tr>\n",
       "      <th>3</th>\n",
       "      <td>1</td>\n",
       "      <td>10</td>\n",
       "      <td>2</td>\n",
       "      <td>5809.911100</td>\n",
       "      <td>32.0</td>\n",
       "      <td>ultra</td>\n",
       "      <td>6</td>\n",
       "      <td>0</td>\n",
       "      <td>199</td>\n",
       "    </tr>\n",
       "    <tr>\n",
       "      <th>4</th>\n",
       "      <td>1</td>\n",
       "      <td>11</td>\n",
       "      <td>3</td>\n",
       "      <td>7003.499363</td>\n",
       "      <td>56.0</td>\n",
       "      <td>ultra</td>\n",
       "      <td>6</td>\n",
       "      <td>0</td>\n",
       "      <td>199</td>\n",
       "    </tr>\n",
       "    <tr>\n",
       "      <th>...</th>\n",
       "      <td>...</td>\n",
       "      <td>...</td>\n",
       "      <td>...</td>\n",
       "      <td>...</td>\n",
       "      <td>...</td>\n",
       "      <td>...</td>\n",
       "      <td>...</td>\n",
       "      <td>...</td>\n",
       "      <td>...</td>\n",
       "    </tr>\n",
       "    <tr>\n",
       "      <th>11326</th>\n",
       "      <td>1534</td>\n",
       "      <td>6</td>\n",
       "      <td>2</td>\n",
       "      <td>3409.468534</td>\n",
       "      <td>26.0</td>\n",
       "      <td>free</td>\n",
       "      <td>8</td>\n",
       "      <td>50</td>\n",
       "      <td>0</td>\n",
       "    </tr>\n",
       "    <tr>\n",
       "      <th>11327</th>\n",
       "      <td>1534</td>\n",
       "      <td>8</td>\n",
       "      <td>2</td>\n",
       "      <td>7622.453034</td>\n",
       "      <td>48.0</td>\n",
       "      <td>free</td>\n",
       "      <td>8</td>\n",
       "      <td>50</td>\n",
       "      <td>0</td>\n",
       "    </tr>\n",
       "    <tr>\n",
       "      <th>11328</th>\n",
       "      <td>1534</td>\n",
       "      <td>9</td>\n",
       "      <td>1</td>\n",
       "      <td>4928.173852</td>\n",
       "      <td>23.0</td>\n",
       "      <td>free</td>\n",
       "      <td>8</td>\n",
       "      <td>50</td>\n",
       "      <td>0</td>\n",
       "    </tr>\n",
       "    <tr>\n",
       "      <th>11329</th>\n",
       "      <td>1534</td>\n",
       "      <td>11</td>\n",
       "      <td>4</td>\n",
       "      <td>13350.015305</td>\n",
       "      <td>78.0</td>\n",
       "      <td>free</td>\n",
       "      <td>8</td>\n",
       "      <td>50</td>\n",
       "      <td>0</td>\n",
       "    </tr>\n",
       "    <tr>\n",
       "      <th>11330</th>\n",
       "      <td>1534</td>\n",
       "      <td>12</td>\n",
       "      <td>1</td>\n",
       "      <td>2371.711192</td>\n",
       "      <td>16.0</td>\n",
       "      <td>free</td>\n",
       "      <td>8</td>\n",
       "      <td>50</td>\n",
       "      <td>0</td>\n",
       "    </tr>\n",
       "  </tbody>\n",
       "</table>\n",
       "<p>11331 rows × 9 columns</p>\n",
       "</div>"
      ],
      "text/plain": [
       "       user_id  month  count  sum_distance  sum_duration subscription_type  \\\n",
       "0            1      1      2   7027.511294          42.0             ultra   \n",
       "1            1      4      1    754.159807           7.0             ultra   \n",
       "2            1      8      2   6723.470560          46.0             ultra   \n",
       "3            1     10      2   5809.911100          32.0             ultra   \n",
       "4            1     11      3   7003.499363          56.0             ultra   \n",
       "...        ...    ...    ...           ...           ...               ...   \n",
       "11326     1534      6      2   3409.468534          26.0              free   \n",
       "11327     1534      8      2   7622.453034          48.0              free   \n",
       "11328     1534      9      1   4928.173852          23.0              free   \n",
       "11329     1534     11      4  13350.015305          78.0              free   \n",
       "11330     1534     12      1   2371.711192          16.0              free   \n",
       "\n",
       "       minute_price  start_ride_price  subscription_fee  \n",
       "0                 6                 0               199  \n",
       "1                 6                 0               199  \n",
       "2                 6                 0               199  \n",
       "3                 6                 0               199  \n",
       "4                 6                 0               199  \n",
       "...             ...               ...               ...  \n",
       "11326             8                50                 0  \n",
       "11327             8                50                 0  \n",
       "11328             8                50                 0  \n",
       "11329             8                50                 0  \n",
       "11330             8                50                 0  \n",
       "\n",
       "[11331 rows x 9 columns]"
      ]
     },
     "execution_count": 46,
     "metadata": {},
     "output_type": "execute_result"
    }
   ],
   "source": [
    "# добавим в agg_data столбцы с параметрами оплаты\n",
    "\n",
    "agg_data['minute_price'] = np.where(agg_data['subscription_type'] == 'free',\n",
    "    subscriptions.loc[0, 'minute_price'], subscriptions.loc[1, 'minute_price'])\n",
    "agg_data['start_ride_price'] = np.where(agg_data['subscription_type'] == 'free',\n",
    "    subscriptions.loc[0, 'start_ride_price'], subscriptions.loc[1, 'start_ride_price'])\n",
    "agg_data['subscription_fee'] = np.where(agg_data['subscription_type'] == 'free',\n",
    "    subscriptions.loc[0, 'subscription_fee'], subscriptions.loc[1, 'subscription_fee'])\n",
    "agg_data"
   ]
  },
  {
   "cell_type": "markdown",
   "id": "91891d82",
   "metadata": {},
   "source": [
    "<div class=\"alert alert-warning\", style=\"border:solid coral 3px; padding: 20px\">\n",
    "<font size=\"4\", color = \"DimGrey\"><b>⚠️ Комментарий ревьюера</b></font>\n",
    "    <br /> \n",
    "    <font size=\"3\", color = \"black\">\n",
    "<br />\n",
    "Стоит исключить предупреждения. Иногда их бывает слишком много, поэтому важно уметь их скрывать. В этом тебе поможет библиотека warnings. Попробуй найти подходящий метод и убрать предупреждения. "
   ]
  },
  {
   "cell_type": "markdown",
   "id": "e7370169",
   "metadata": {},
   "source": [
    "<div class=\"alert alert-info\">\n",
    "<font size=\"4\", color = \"black\"><b>✍ Комментарий студента</b></font>\n",
    "    <br /> \n",
    "    <font size=\"3\", color = \"black\">\n",
    "<br /> Спасибо! Ушла от разделения и нового объединения таблиц, поэтому предупреждений больше не появляется."
   ]
  },
  {
   "cell_type": "markdown",
   "id": "a10c64c2",
   "metadata": {},
   "source": [
    "<div class=\"alert alert-warning\", style=\"border:solid coral 3px; padding: 20px\">\n",
    "<font size=\"4\", color = \"DimGrey\"><b>⚠️Комментарий ревьюера</b></font>\n",
    "    <br /> \n",
    "    <font size=\"3\", color = \"black\">\n",
    "<br />Из-за некорректного округления длительности, мы недосчитались выручки"
   ]
  },
  {
   "cell_type": "markdown",
   "id": "4d8a7e48",
   "metadata": {},
   "source": [
    "<div class=\"alert alert-info\">\n",
    "<font size=\"4\", color = \"black\"><b>✍ Комментарий студента</b></font>\n",
    "    <br /> \n",
    "    <font size=\"3\", color = \"black\">\n",
    "<br /> Пересчитала выручку в агрегированной таблице."
   ]
  },
  {
   "cell_type": "code",
   "execution_count": 47,
   "id": "ad6c7b45",
   "metadata": {},
   "outputs": [
    {
     "data": {
      "text/html": [
       "<div>\n",
       "<style scoped>\n",
       "    .dataframe tbody tr th:only-of-type {\n",
       "        vertical-align: middle;\n",
       "    }\n",
       "\n",
       "    .dataframe tbody tr th {\n",
       "        vertical-align: top;\n",
       "    }\n",
       "\n",
       "    .dataframe thead th {\n",
       "        text-align: right;\n",
       "    }\n",
       "</style>\n",
       "<table border=\"1\" class=\"dataframe\">\n",
       "  <thead>\n",
       "    <tr style=\"text-align: right;\">\n",
       "      <th></th>\n",
       "      <th>user_id</th>\n",
       "      <th>month</th>\n",
       "      <th>count</th>\n",
       "      <th>sum_distance</th>\n",
       "      <th>sum_duration</th>\n",
       "      <th>subscription_type</th>\n",
       "      <th>minute_price</th>\n",
       "      <th>start_ride_price</th>\n",
       "      <th>subscription_fee</th>\n",
       "      <th>revenue</th>\n",
       "    </tr>\n",
       "  </thead>\n",
       "  <tbody>\n",
       "    <tr>\n",
       "      <th>0</th>\n",
       "      <td>1</td>\n",
       "      <td>1</td>\n",
       "      <td>2</td>\n",
       "      <td>7027.511294</td>\n",
       "      <td>42.0</td>\n",
       "      <td>ultra</td>\n",
       "      <td>6</td>\n",
       "      <td>0</td>\n",
       "      <td>199</td>\n",
       "      <td>451.0</td>\n",
       "    </tr>\n",
       "    <tr>\n",
       "      <th>1</th>\n",
       "      <td>1</td>\n",
       "      <td>4</td>\n",
       "      <td>1</td>\n",
       "      <td>754.159807</td>\n",
       "      <td>7.0</td>\n",
       "      <td>ultra</td>\n",
       "      <td>6</td>\n",
       "      <td>0</td>\n",
       "      <td>199</td>\n",
       "      <td>241.0</td>\n",
       "    </tr>\n",
       "    <tr>\n",
       "      <th>2</th>\n",
       "      <td>1</td>\n",
       "      <td>8</td>\n",
       "      <td>2</td>\n",
       "      <td>6723.470560</td>\n",
       "      <td>46.0</td>\n",
       "      <td>ultra</td>\n",
       "      <td>6</td>\n",
       "      <td>0</td>\n",
       "      <td>199</td>\n",
       "      <td>475.0</td>\n",
       "    </tr>\n",
       "    <tr>\n",
       "      <th>3</th>\n",
       "      <td>1</td>\n",
       "      <td>10</td>\n",
       "      <td>2</td>\n",
       "      <td>5809.911100</td>\n",
       "      <td>32.0</td>\n",
       "      <td>ultra</td>\n",
       "      <td>6</td>\n",
       "      <td>0</td>\n",
       "      <td>199</td>\n",
       "      <td>391.0</td>\n",
       "    </tr>\n",
       "    <tr>\n",
       "      <th>4</th>\n",
       "      <td>1</td>\n",
       "      <td>11</td>\n",
       "      <td>3</td>\n",
       "      <td>7003.499363</td>\n",
       "      <td>56.0</td>\n",
       "      <td>ultra</td>\n",
       "      <td>6</td>\n",
       "      <td>0</td>\n",
       "      <td>199</td>\n",
       "      <td>535.0</td>\n",
       "    </tr>\n",
       "    <tr>\n",
       "      <th>...</th>\n",
       "      <td>...</td>\n",
       "      <td>...</td>\n",
       "      <td>...</td>\n",
       "      <td>...</td>\n",
       "      <td>...</td>\n",
       "      <td>...</td>\n",
       "      <td>...</td>\n",
       "      <td>...</td>\n",
       "      <td>...</td>\n",
       "      <td>...</td>\n",
       "    </tr>\n",
       "    <tr>\n",
       "      <th>11326</th>\n",
       "      <td>1534</td>\n",
       "      <td>6</td>\n",
       "      <td>2</td>\n",
       "      <td>3409.468534</td>\n",
       "      <td>26.0</td>\n",
       "      <td>free</td>\n",
       "      <td>8</td>\n",
       "      <td>50</td>\n",
       "      <td>0</td>\n",
       "      <td>308.0</td>\n",
       "    </tr>\n",
       "    <tr>\n",
       "      <th>11327</th>\n",
       "      <td>1534</td>\n",
       "      <td>8</td>\n",
       "      <td>2</td>\n",
       "      <td>7622.453034</td>\n",
       "      <td>48.0</td>\n",
       "      <td>free</td>\n",
       "      <td>8</td>\n",
       "      <td>50</td>\n",
       "      <td>0</td>\n",
       "      <td>484.0</td>\n",
       "    </tr>\n",
       "    <tr>\n",
       "      <th>11328</th>\n",
       "      <td>1534</td>\n",
       "      <td>9</td>\n",
       "      <td>1</td>\n",
       "      <td>4928.173852</td>\n",
       "      <td>23.0</td>\n",
       "      <td>free</td>\n",
       "      <td>8</td>\n",
       "      <td>50</td>\n",
       "      <td>0</td>\n",
       "      <td>234.0</td>\n",
       "    </tr>\n",
       "    <tr>\n",
       "      <th>11329</th>\n",
       "      <td>1534</td>\n",
       "      <td>11</td>\n",
       "      <td>4</td>\n",
       "      <td>13350.015305</td>\n",
       "      <td>78.0</td>\n",
       "      <td>free</td>\n",
       "      <td>8</td>\n",
       "      <td>50</td>\n",
       "      <td>0</td>\n",
       "      <td>824.0</td>\n",
       "    </tr>\n",
       "    <tr>\n",
       "      <th>11330</th>\n",
       "      <td>1534</td>\n",
       "      <td>12</td>\n",
       "      <td>1</td>\n",
       "      <td>2371.711192</td>\n",
       "      <td>16.0</td>\n",
       "      <td>free</td>\n",
       "      <td>8</td>\n",
       "      <td>50</td>\n",
       "      <td>0</td>\n",
       "      <td>178.0</td>\n",
       "    </tr>\n",
       "  </tbody>\n",
       "</table>\n",
       "<p>11331 rows × 10 columns</p>\n",
       "</div>"
      ],
      "text/plain": [
       "       user_id  month  count  sum_distance  sum_duration subscription_type  \\\n",
       "0            1      1      2   7027.511294          42.0             ultra   \n",
       "1            1      4      1    754.159807           7.0             ultra   \n",
       "2            1      8      2   6723.470560          46.0             ultra   \n",
       "3            1     10      2   5809.911100          32.0             ultra   \n",
       "4            1     11      3   7003.499363          56.0             ultra   \n",
       "...        ...    ...    ...           ...           ...               ...   \n",
       "11326     1534      6      2   3409.468534          26.0              free   \n",
       "11327     1534      8      2   7622.453034          48.0              free   \n",
       "11328     1534      9      1   4928.173852          23.0              free   \n",
       "11329     1534     11      4  13350.015305          78.0              free   \n",
       "11330     1534     12      1   2371.711192          16.0              free   \n",
       "\n",
       "       minute_price  start_ride_price  subscription_fee  revenue  \n",
       "0                 6                 0               199    451.0  \n",
       "1                 6                 0               199    241.0  \n",
       "2                 6                 0               199    475.0  \n",
       "3                 6                 0               199    391.0  \n",
       "4                 6                 0               199    535.0  \n",
       "...             ...               ...               ...      ...  \n",
       "11326             8                50                 0    308.0  \n",
       "11327             8                50                 0    484.0  \n",
       "11328             8                50                 0    234.0  \n",
       "11329             8                50                 0    824.0  \n",
       "11330             8                50                 0    178.0  \n",
       "\n",
       "[11331 rows x 10 columns]"
      ]
     },
     "execution_count": 47,
     "metadata": {},
     "output_type": "execute_result"
    }
   ],
   "source": [
    "# с помощью отдельной функции создадим столбец для подсчёта выручки \n",
    "# по каждому пользователю в каждый месяц\n",
    "\n",
    "def revenue(row):\n",
    "    revenue = (row['subscription_fee'] + row['start_ride_price'] * row['count'] +\n",
    "               row['minute_price'] * row['sum_duration'])\n",
    "    return revenue\n",
    "    \n",
    "agg_data['revenue'] = agg_data.apply(revenue, axis=1)\n",
    "agg_data"
   ]
  },
  {
   "cell_type": "code",
   "execution_count": 48,
   "id": "bee3fe62",
   "metadata": {},
   "outputs": [
    {
     "name": "stdout",
     "output_type": "stream",
     "text": [
      "Суммарная выручка компании за 2021 год: 3878641.0 руб.\n"
     ]
    },
    {
     "data": {
      "text/html": [
       "<div>\n",
       "<style scoped>\n",
       "    .dataframe tbody tr th:only-of-type {\n",
       "        vertical-align: middle;\n",
       "    }\n",
       "\n",
       "    .dataframe tbody tr th {\n",
       "        vertical-align: top;\n",
       "    }\n",
       "\n",
       "    .dataframe thead th {\n",
       "        text-align: right;\n",
       "    }\n",
       "</style>\n",
       "<table border=\"1\" class=\"dataframe\">\n",
       "  <thead>\n",
       "    <tr style=\"text-align: right;\">\n",
       "      <th></th>\n",
       "      <th>revenue</th>\n",
       "      <th>rev_share</th>\n",
       "    </tr>\n",
       "    <tr>\n",
       "      <th>subscription_type</th>\n",
       "      <th></th>\n",
       "      <th></th>\n",
       "    </tr>\n",
       "  </thead>\n",
       "  <tbody>\n",
       "    <tr>\n",
       "      <th>free</th>\n",
       "      <td>2234104.0</td>\n",
       "      <td>57.6</td>\n",
       "    </tr>\n",
       "    <tr>\n",
       "      <th>ultra</th>\n",
       "      <td>1644537.0</td>\n",
       "      <td>42.4</td>\n",
       "    </tr>\n",
       "  </tbody>\n",
       "</table>\n",
       "</div>"
      ],
      "text/plain": [
       "                     revenue  rev_share\n",
       "subscription_type                      \n",
       "free               2234104.0       57.6\n",
       "ultra              1644537.0       42.4"
      ]
     },
     "execution_count": 48,
     "metadata": {},
     "output_type": "execute_result"
    }
   ],
   "source": [
    "# посчитаем суммарную выручку сервиса за 2021 год в разбивке по типу подписки\n",
    "\n",
    "agg_revenue = agg_data.pivot_table(\n",
    "    index='subscription_type', \n",
    "    values='revenue', \n",
    "    aggfunc='sum'\n",
    ")\n",
    "\n",
    "sum_rev = agg_revenue['revenue'].sum()\n",
    "\n",
    "agg_revenue['rev_share'] = np.where(agg_revenue.index == 'free', \n",
    "    round(agg_revenue.iloc[0, 0] / sum_rev, 3) * 100,\n",
    "    round(agg_revenue.iloc[1, 0] / sum_rev, 3) * 100)\n",
    "\n",
    "print('Суммарная выручка компании за 2021 год:', sum_rev, 'руб.')\n",
    "agg_revenue"
   ]
  },
  {
   "cell_type": "markdown",
   "id": "e987cd50",
   "metadata": {},
   "source": [
    "<div class=\"alert alert-info\">\n",
    "<font size=\"4\", color = \"black\"><b>✍ Комментарий студента</b></font>\n",
    "    <br /> \n",
    "    <font size=\"3\", color = \"black\">\n",
    "<br /> Уверена, что процент в сводной таблице можно посчитать более оптимальным способом и без логической индексации, но у меня, к сожалению, пока получилось только так :( Буду рада, если подскажешь, как можно автоматизировать это действие"
   ]
  },
  {
   "cell_type": "markdown",
   "id": "1c38a5ab",
   "metadata": {},
   "source": [
    "<div style=\"border:solid steelblue 3px; padding: 20px\">\n",
    "<font size=\"4\">🍕<b> Комментарий ревьюера в2</b></font>\n",
    "<br /> \n",
    "<font size=\"3\", color = \"black\">\n",
    "<br />    Стоит посмотреть на пример с assign() или  transform()\n",
    "     \n",
    "        \n",
    "[Подробное руководство по группировке и агрегированию с помощью pandas](https://dfedorov.spb.ru/pandas/%D0%9F%D0%BE%D0%B4%D1%80%D0%BE%D0%B1%D0%BD%D0%BE%D0%B5%20%D1%80%D1%83%D0%BA%D0%BE%D0%B2%D0%BE%D0%B4%D1%81%D1%82%D0%B2%D0%BE%20%D0%BF%D0%BE%20%D0%B3%D1%80%D1%83%D0%BF%D0%BF%D0%B8%D1%80%D0%BE%D0%B2%D0%BA%D0%B5%20%D0%B8%20%D0%B0%D0%B3%D1%80%D0%B5%D0%B3%D0%B8%D1%80%D0%BE%D0%B2%D0%B0%D0%BD%D0%B8%D1%8E%20%D1%81%20%D0%BF%D0%BE%D0%BC%D0%BE%D1%89%D1%8C%D1%8E%20pandas.html) \n",
    "        \n",
    "[Понимание функции transform в Pandas](https://dfedorov.spb.ru/pandas/%D0%9F%D0%BE%D0%BD%D0%B8%D0%BC%D0%B0%D0%BD%D0%B8%D0%B5%20%D1%84%D1%83%D0%BD%D0%BA%D1%86%D0%B8%D0%B8%20transform%20%D0%B2%20Pandas.html)\n",
    "     \n",
    "     "
   ]
  },
  {
   "cell_type": "markdown",
   "id": "71f3e315",
   "metadata": {},
   "source": [
    "Из сводной таблицы видим, что **суммарная выручка сервиса аренды самокатов GoFast за 2021 год составила 3 878 641 руб.**, из которых:\n",
    "- **57.6%** поступило от пользователей без подписки;\n",
    "- **42.4%** поступило от пользователей с платной подпиской.\n",
    "\n",
    "Составив агрегированную таблицу по всем пользователям, можно переходить к статистическому анализу и проверке гипотез исследования."
   ]
  },
  {
   "cell_type": "markdown",
   "id": "41545ac0",
   "metadata": {},
   "source": [
    "### Шаг 6. Проверка гипотез"
   ]
  },
  {
   "cell_type": "markdown",
   "id": "951b6697",
   "metadata": {},
   "source": [
    "#### Гипотеза 1: о равенстве средних по переменной sum_duration для двух подвыборок"
   ]
  },
  {
   "cell_type": "markdown",
   "id": "fc7b2b51",
   "metadata": {},
   "source": [
    "Перед нами стоит задача проверить гипотезу о равенстве средних по переменной duration для двух подвыборок: пользователей с платной подпиской и без неё.\n",
    "\n",
    "**Нулевая гипотеза** примет вид: \"пользователи с подпиской тратят столько же времени на поездки, сколько и пользователи без подписки\".\n",
    "\n",
    "В качестве **альтернативной гипотезы** выберем правостороннюю: \"пользователи с подпиской тратят БОЛЬШЕ времени на поездки, чем пользователи без подписки\"."
   ]
  },
  {
   "cell_type": "markdown",
   "id": "6df051af",
   "metadata": {},
   "source": [
    "<div class=\"alert alert-success\">\n",
    "<font size=\"4\", color= \"seagreen\"><b>✔️ Комментарий ревьюера</b></font>\n",
    "    <br /> \n",
    "    <font size=\"3\", color = \"black\">\n",
    "<br /> Гипотезы сформулированы верно"
   ]
  },
  {
   "cell_type": "code",
   "execution_count": 49,
   "id": "f2290fc3",
   "metadata": {},
   "outputs": [
    {
     "name": "stdout",
     "output_type": "stream",
     "text": [
      "p-значение: 2.4959453720736625e-34\n",
      "Отвергаем нулевую гипотезу\n"
     ]
    }
   ],
   "source": [
    "# установим уровень статистической значимости 0.05\n",
    "alpha = .05\n",
    "\n",
    "# разделим датафрейм data на 2: содержащий информацию о поездках пользователей\n",
    "# без подсписки и с платной подпиской\n",
    "data_free = data[data['subscription_type'] == 'free']\n",
    "data_ultra = data[data['subscription_type'] == 'ultra']\n",
    "\n",
    "# проведём тест для независимых выборок о равенстве средних \n",
    "#двух генеральных совокупностей\n",
    "results = st.ttest_ind(\n",
    "    data_ultra['duration'], \n",
    "    data_free['duration'], \n",
    "    alternative='greater'\n",
    ")\n",
    "\n",
    "# сравним полученный p-value с установленным уровнем статистической значимости\n",
    "print('p-значение:', results.pvalue)\n",
    "if results.pvalue < alpha:\n",
    "    print('Отвергаем нулевую гипотезу')\n",
    "else:\n",
    "    print('Не получилось отвергнуть нулевую гипотезу')"
   ]
  },
  {
   "cell_type": "markdown",
   "id": "b44317cf",
   "metadata": {},
   "source": [
    "<div class=\"alert alert-dan ger\">\n",
    "<font size=\"4\"><b>❌ Комментарий ревьюера</b></font>\n",
    "    <br /> \n",
    "    <font size=\"3\", color = \"black\">\n",
    "<br />\n",
    "Стоит поправить \n",
    "        \n",
    "+ выборки. В этой гипотезе мы сравниваем все поездки, поэтому агрегирования быть не должно\n",
    "        \n",
    "+ и вывод        "
   ]
  },
  {
   "cell_type": "markdown",
   "id": "2ece3e94",
   "metadata": {},
   "source": [
    "<div class=\"alert alert-info\">\n",
    "<font size=\"4\", color = \"black\"><b>✍ Комментарий студента</b></font>\n",
    "    <br /> \n",
    "    <font size=\"3\", color = \"black\">\n",
    "<br /> Поняла ошибку. Здесь и далее поправлены тесты и выводы."
   ]
  },
  {
   "cell_type": "markdown",
   "id": "9da121c7",
   "metadata": {},
   "source": [
    "Исходя из результатов теста, на 5%-ном уровне значимости мы отвергаем нулевую гипотезу о том, что средняя продолжительность поездки пользователей с подпиской равна средней продолжительности поездки пользователей без подписки.\n",
    "\n",
    "На основе проведённого теста есть основания сформулировать вывод в пользу альтернативной гипотезы: **пользователи с платной подпиской в среднем тратят больше времени на одну поездку, чем пользователи без подписки**.\n",
    "\n",
    "Не учитывая стоимость подписки и старта поездки, за каждую минуту поездки пользователь с подпиской приносит компании меньше денег (6 р.), чем пользователь без подписки (8 р.). Тем не менее, с учётом стоимости подписки (199 р. / мес.) и того, что пользователи с платной подпиской в среднем тратят больше времени на одну поездку, то в расчёте на поездку (а не на минуту) пользователь с платной подпиской приносит бизнесу больше денег, чем пользователь без неё.\n",
    "\n",
    "Проверим данный вывод, рассчитав среднюю выручку, которую приносят пользователи с подпиской и без неё в расчёте на одну поездку."
   ]
  },
  {
   "cell_type": "code",
   "execution_count": 50,
   "id": "cfcf2d43",
   "metadata": {},
   "outputs": [
    {
     "data": {
      "text/html": [
       "<div>\n",
       "<style scoped>\n",
       "    .dataframe tbody tr th:only-of-type {\n",
       "        vertical-align: middle;\n",
       "    }\n",
       "\n",
       "    .dataframe tbody tr th {\n",
       "        vertical-align: top;\n",
       "    }\n",
       "\n",
       "    .dataframe thead th {\n",
       "        text-align: right;\n",
       "    }\n",
       "</style>\n",
       "<table border=\"1\" class=\"dataframe\">\n",
       "  <thead>\n",
       "    <tr style=\"text-align: right;\">\n",
       "      <th></th>\n",
       "      <th>count</th>\n",
       "      <th>revenue</th>\n",
       "      <th>rev_per_ride</th>\n",
       "    </tr>\n",
       "    <tr>\n",
       "      <th>subscription_type</th>\n",
       "      <th></th>\n",
       "      <th></th>\n",
       "      <th></th>\n",
       "    </tr>\n",
       "  </thead>\n",
       "  <tbody>\n",
       "    <tr>\n",
       "      <th>free</th>\n",
       "      <td>11568</td>\n",
       "      <td>2234104.0</td>\n",
       "      <td>193.127939</td>\n",
       "    </tr>\n",
       "    <tr>\n",
       "      <th>ultra</th>\n",
       "      <td>6500</td>\n",
       "      <td>1644537.0</td>\n",
       "      <td>253.005692</td>\n",
       "    </tr>\n",
       "  </tbody>\n",
       "</table>\n",
       "</div>"
      ],
      "text/plain": [
       "                   count    revenue  rev_per_ride\n",
       "subscription_type                                \n",
       "free               11568  2234104.0    193.127939\n",
       "ultra               6500  1644537.0    253.005692"
      ]
     },
     "execution_count": 50,
     "metadata": {},
     "output_type": "execute_result"
    }
   ],
   "source": [
    "rev_per_ride = agg_data.pivot_table(\n",
    "                index='subscription_type',\n",
    "                values=['revenue', 'count'],\n",
    "                aggfunc='sum'\n",
    ")\n",
    "\n",
    "rev_per_ride['rev_per_ride'] = rev_per_ride['revenue'] / rev_per_ride['count']\n",
    "rev_per_ride"
   ]
  },
  {
   "cell_type": "markdown",
   "id": "6a71c642",
   "metadata": {},
   "source": [
    "На основе полученных данных делаем вывод: **в среднем пользователь с платной подпиской совершает более длинные поездки и приносит сервису больше выручки в расчёте на одну поездку**."
   ]
  },
  {
   "cell_type": "markdown",
   "id": "271123a2",
   "metadata": {},
   "source": [
    "<div class=\"alert alert-da nger\">\n",
    "<font size=\"4\"><b>❌ Комментарий ревьюера</b></font>\n",
    "    <br /> \n",
    "    <font size=\"3\", color = \"black\">\n",
    "<br />\n",
    "Стоит дополнить вывод\n",
    "        \n",
    "        Есть основания говорить, что пользователи с подпиской больше времени тратят на поездки.\n",
    "        \n",
    "выгодно ли это бизнесу или нет        "
   ]
  },
  {
   "cell_type": "markdown",
   "id": "9563f004",
   "metadata": {},
   "source": [
    "<div class=\"alert alert-info\">\n",
    "<font size=\"4\", color = \"black\"><b>✍ Комментарий студента</b></font>\n",
    "    <br /> \n",
    "    <font size=\"3\", color = \"black\">\n",
    "<br /> Дополнила вывод выше."
   ]
  },
  {
   "cell_type": "markdown",
   "id": "0258b195",
   "metadata": {},
   "source": [
    "<div class=\"alert alert-success\">\n",
    "<font size=\"4\", color= \"seagreen\"><b>✔️ Комментарий ревьюера в2</b></font>\n",
    "    <br /> \n",
    "    <font size=\"3\", color = \"black\">\n",
    "<br />Отлично, молодец"
   ]
  },
  {
   "cell_type": "markdown",
   "id": "c3c98381",
   "metadata": {},
   "source": [
    "#### Гипотеза 2: о равенстве переменной distance заданному числу для пользователей с подпиской"
   ]
  },
  {
   "cell_type": "markdown",
   "id": "66a4d801",
   "metadata": {},
   "source": [
    "Проверим **нулевую гипотезу**: \"пользователи с подпиской проезжают в среднем 3 130 метров за одну поездку\".\n",
    "\n",
    "**Альтернативной гипотезой** станет правосторонняя: \"пользователи с подпиской проезжают в среднем БОЛЬШЕ, чем 3130 метров за одну поездку\"."
   ]
  },
  {
   "cell_type": "code",
   "execution_count": 51,
   "id": "0fea08c2",
   "metadata": {},
   "outputs": [
    {
     "name": "stdout",
     "output_type": "stream",
     "text": [
      "p-значение: 0.9195368847849785\n",
      "Не получилось отвергнуть нулевую гипотезу\n"
     ]
    }
   ],
   "source": [
    "mu = 3130\n",
    "alpha = .05\n",
    "\n",
    "results_2 = st.ttest_1samp(data_ultra['distance'], mu, alternative='greater')\n",
    "\n",
    "print('p-значение:', results_2.pvalue)\n",
    "\n",
    "if results_2.pvalue < alpha:\n",
    "    print('Отвергаем нулевую гипотезу')\n",
    "else:\n",
    "    print('Не получилось отвергнуть нулевую гипотезу')"
   ]
  },
  {
   "cell_type": "markdown",
   "id": "2efe40e2",
   "metadata": {},
   "source": [
    "По результатам теста нам не удалось отвергнуть нулевую гипотезу в пользу альтернативной на 5%-ном уровне значимости."
   ]
  },
  {
   "cell_type": "markdown",
   "id": "3c55ba5b",
   "metadata": {},
   "source": [
    "<div class=\"alert alert-warning\", style=\"border:solid coral 3px; padding: 20px\">\n",
    "<font size=\"4\", color = \"DimGrey\"><b>⚠️ Комментарий ревьюера</b></font>\n",
    "    <br /> \n",
    "    <font size=\"3\", color = \"black\">\n",
    "<br />В данном случае стоит использовать параметр alternative = 'greater'. Поскольку оптимальное расстояние по износу составляет 3130 м, значит большее расстояние приводит к повышенному износу самоката. Следовательно, имеет смысл сформулировать альтернативную гипотезу \"Подписчики в среднем проезжают расстояние больше оптимального\"\n",
    "</div>"
   ]
  },
  {
   "cell_type": "markdown",
   "id": "a09e5739",
   "metadata": {},
   "source": [
    "<div class=\"alert alert-info\">\n",
    "<font size=\"4\", color = \"black\"><b>✍ Комментарий студента</b></font>\n",
    "    <br /> \n",
    "    <font size=\"3\", color = \"black\">\n",
    "<br /> Скорректировала альтернативную гипотезу и провела дополнительный тест с левосторонней гипотезой."
   ]
  },
  {
   "cell_type": "markdown",
   "id": "368f1ab4",
   "metadata": {},
   "source": [
    "Проведём дополнительный тест с левосторонней гипотезой.\n",
    "\n",
    "**H0**: пользователи с подпиской проезжают в среднем 3 130 метров за одну поездку.\n",
    "\n",
    "**H1**: пользователи с подпиской проезжают в среднем МЕНЬШЕ, чем 3130 метров за одну поездку."
   ]
  },
  {
   "cell_type": "code",
   "execution_count": 52,
   "id": "1a51f37f",
   "metadata": {},
   "outputs": [
    {
     "name": "stdout",
     "output_type": "stream",
     "text": [
      "p-значение: 0.08046311521502146\n",
      "Не удалось отвергнуть нулевую гипотезу\n"
     ]
    }
   ],
   "source": [
    "alpha = .05\n",
    "mu = 3130\n",
    "\n",
    "results = st.ttest_1samp(data_ultra['distance'], mu, alternative='less')\n",
    "\n",
    "print('p-значение:', results.pvalue)\n",
    "\n",
    "if results.pvalue < alpha:\n",
    "    print('Отвергаем нулевую гипотезу')\n",
    "else:\n",
    "    print('Не удалось отвергнуть нулевую гипотезу')"
   ]
  },
  {
   "cell_type": "markdown",
   "id": "74807523",
   "metadata": {},
   "source": [
    "При использовании левосторонней альтернативной гипотезы нам также не удалось отвергнуть нулевую гипотезу. Тем не менее, отметим, что при 10%-ном уровне значимости (alpha = .1) p-value окажется уже меньше alpha => нулевую гипотезу удастся отвергнуть в пользу альтернативной.\n"
   ]
  },
  {
   "cell_type": "code",
   "execution_count": 53,
   "id": "0716302a",
   "metadata": {},
   "outputs": [
    {
     "name": "stdout",
     "output_type": "stream",
     "text": [
      "p-значение: 0.08046311521502146\n",
      "Отвергаем нулевую гипотезу\n"
     ]
    }
   ],
   "source": [
    "alpha = .1\n",
    "mu = 3130\n",
    "\n",
    "results = st.ttest_1samp(data_ultra['distance'], mu, alternative='less')\n",
    "\n",
    "print('p-значение:', results.pvalue)\n",
    "\n",
    "if results.pvalue < alpha:\n",
    "    print('Отвергаем нулевую гипотезу')\n",
    "else:\n",
    "    print('Не удалось отвергнуть нулевую гипотезу')"
   ]
  },
  {
   "cell_type": "markdown",
   "id": "004a1d59",
   "metadata": {},
   "source": [
    "Формулируем вывод: **с 90%-ной вероятностью в генеральной совокупности пользователи с подпиской проезжают в среднем меньше 3 130 метров за одну поездку**."
   ]
  },
  {
   "cell_type": "markdown",
   "id": "4c0dbeed",
   "metadata": {},
   "source": [
    "<div class=\"alert alert-d anger\">\n",
    "<font size=\"4\"><b>❌ Комментарий ревьюера</b></font>\n",
    "    <br /> \n",
    "    <font size=\"3\", color = \"black\">\n",
    "<br />\n",
    "Стоит поправить выборки. В этой гипотезе мы сравниваем все поездки, поэтому агрегирования быть не должно, плюс вывод\n",
    "        \n",
    "        Таким образом, с 95% вероятностью можно утверждать, что истинное среднее расстояние, которое проезжают пользователи с подпиской за одну поездку, больше, чем 3 130 м."
   ]
  },
  {
   "cell_type": "markdown",
   "id": "240455c9",
   "metadata": {},
   "source": [
    "<div class=\"alert alert-info\">\n",
    "<font size=\"4\", color = \"black\"><b>✍ Комментарий студента</b></font>\n",
    "    <br /> \n",
    "    <font size=\"3\", color = \"black\">\n",
    "<br /> Скорректировала тест и вывод."
   ]
  },
  {
   "cell_type": "markdown",
   "id": "2e74fed5",
   "metadata": {},
   "source": [
    "<div class=\"alert alert-warning\", style=\"border:solid coral 3px; padding: 20px\">\n",
    "<font size=\"4\", color = \"DimGrey\"><b>⚠️ Комментарий ревьюера в2</b></font>\n",
    "    <br /> \n",
    "    <font size=\"3\", color = \"black\">\n",
    "<br /> Стоит поправить \n",
    "        \n",
    "    с 90%-ной вероятностью в генеральной совокупности пользователи с подпиской проезжают в среднем меньше 3 130 метров за одну поездку        "
   ]
  },
  {
   "cell_type": "markdown",
   "id": "f94b485a",
   "metadata": {},
   "source": [
    "<div style=\"border:solid steelblue 3px; padding: 20px\">\n",
    "<font size=\"4\">🍕<b> Комментарий ревьюера в2</b></font>\n",
    "<br /> \n",
    "<font size=\"3\", color = \"black\">\n",
    "<br />\n",
    "Приведу пример и теорию для понимания формулировок и интерпретации итогов проведения гипотез</b>\n",
    "        \n",
    "      \n",
    "Задача. Приведены два датасета: сумма покупок, совершённых за месяц посетителями, привлечёнными по двум разным каналам. В вашем распоряжении случайная выборка из 30 покупок для каждого канала.\n",
    "        \n",
    "H0 - средние чеки равны\n",
    "        \n",
    "        \n",
    "H1 - средние чеки НЕ равны\n",
    "\n",
    "Да сама формулировка нулевой и альтернативной гипотезы звучит именно так, но результат теста интерпретируется другими словами\n",
    "        \n",
    "\n",
    "<b>Из теории на тренажере</b>\n",
    "        \n",
    "Формулирование двусторонних гипотез. <br>\n",
    "        \n",
    "<b>Никакие экспериментально полученные данные никогда не подтвердят какую-либо гипотезу. Это наше фундаментальное ограничение. </b>Данные могут лишь не противоречить ей или, наоборот, показывать крайне маловероятные результаты (при условии, что гипотеза верна). Но и в том, и в другом случае нет оснований утверждать, что выдвинутая гипотеза доказана.\n",
    "Допустим, данные гипотезе не противоречат, тогда мы её не отвергаем. Если же мы приходим к выводу, что получить такие данные в рамках этой гипотезы вряд ли возможно, у нас появляется основание отбросить эту гипотезу.\n",
    "    \n",
    "P-значение (англ. P-value) — величина, используемая при тестировании статистических гипотез. <b>Фактически это вероятность ошибки при отклонении нулевой гипотезы (ошибки первого рода)</b> пример ниже"
   ]
  },
  {
   "cell_type": "code",
   "execution_count": 54,
   "id": "22686cf1",
   "metadata": {},
   "outputs": [
    {
     "name": "stdout",
     "output_type": "stream",
     "text": [
      "p-значение: 0.1912450522572209\n",
      "Не получилось отвергнуть нулевую гипотезу\n"
     ]
    }
   ],
   "source": [
    "# Приведены два датасета: сумма покупок, совершённых за месяц посетителями ...\n",
    "\n",
    "sample_1 = [3071, 3636, 3454, 3151, 2185, 3259, 1727, 2263, 2015,\n",
    "2582, 4815, 633, 3186, 887, 2028, 3589, 2564, 1422, 1785,\n",
    "3180, 1770, 2716, 2546, 1848, 4644, 3134, 475, 2686,\n",
    "1838, 3352]\n",
    "sample_2 = [1211, 1228, 2157, 3699, 600, 1898, 1688, 1420, 5048, 3007,\n",
    "509, 3777, 5583, 3949, 121, 1674, 4300, 1338, 3066,\n",
    "3562, 1010, 2311, 462, 863, 2021, 528, 1849, 255,\n",
    "1740, 2596]\n",
    "alpha = .05 # критический уровень статистической значимости\n",
    "# если p-value окажется меньше него - отвергнем гипотезу\n",
    "results = st.ttest_ind(\n",
    "sample_1,\n",
    "sample_2)\n",
    "print('p-значение:', results.pvalue)\n",
    "if (results.pvalue < alpha):\n",
    "    print(\"Отвергаем нулевую гипотезу\")\n",
    "else:\n",
    "    print(\"Не получилось отвергнуть нулевую гипотезу\")"
   ]
  },
  {
   "cell_type": "markdown",
   "id": "915001c2",
   "metadata": {},
   "source": [
    "<div style=\"border:solid steelblue 3px; padding: 20px\">\n",
    "<font size=\"4\">🍕<b> Комментарий ревьюера в2</b></font>\n",
    "<br /> \n",
    "<font size=\"3\", color = \"black\">\n",
    "<br />\n",
    "Интерпретация результата:\n",
    "\n",
    "Полученное значение p-value говорит о том, что хотя средний чек пришедших из разных каналов и неодинаков, <b>с вероятностью в почти 19% такое или большее различие можно получить случайно. </b>Это явно слишком большая вероятность, чтобы делать вывод о значимом различии между средними чеками.\n",
    "        \n",
    "А если p-value  будет равно 0,9999, то это значит, что с вероятностью почти 100% <u>такое различие</u> можно получить случайно — то есть почти никогда :)  (но учитываем, что тест проводится на выборке из генеральной совокупности, все может поменяться)\n"
   ]
  },
  {
   "cell_type": "markdown",
   "id": "c858d623",
   "metadata": {},
   "source": [
    "<div class=\"alert alert-dan ger\">\n",
    "<font size=\"4\"><b>❌ Комментарий ревьюера</b></font>\n",
    "    <br /> \n",
    "    <font size=\"3\", color = \"black\">\n",
    "<br /> \n",
    "Стоит подправить некоторые моменты\n",
    "        \n",
    "        можно утверждать\n",
    "\n",
    "<b>Из теории на тренажере</b>\n",
    "        \n",
    "Формулирование двусторонних гипотез. <br>\n",
    "        \n",
    "<b>Никакие экспериментально полученные данные никогда не подтвердят какую-либо гипотезу. Это наше фундаментальное ограничение. </b>Данные могут лишь не противоречить ей или, наоборот, показывать крайне маловероятные результаты (при условии, что гипотеза верна). Но и в том, и в другом случае нет оснований утверждать, что выдвинутая гипотеза доказана.\n",
    "Допустим, данные гипотезе не противоречат, тогда мы её не отвергаем. Если же мы приходим к выводу, что получить такие данные в рамках этой гипотезы вряд ли возможно, у нас появляется основание отбросить эту гипотезу.\n",
    "        \n",
    "https://allatambov.github.io/psms/pdf/hypo-test.pdf\n"
   ]
  },
  {
   "cell_type": "markdown",
   "id": "407720a5",
   "metadata": {},
   "source": [
    "<div class=\"alert alert-info\">\n",
    "<font size=\"4\", color = \"black\"><b>✍ Комментарий студента</b></font>\n",
    "    <br /> \n",
    "    <font size=\"3\", color = \"black\">\n",
    "<br /> Спасибо! Скорректировала формулировки."
   ]
  },
  {
   "cell_type": "markdown",
   "id": "3af42730",
   "metadata": {},
   "source": [
    "#### Гипотеза 3: о равенстве средних по переменной revenue для двух подвыборок"
   ]
  },
  {
   "cell_type": "markdown",
   "id": "39384581",
   "metadata": {},
   "source": [
    "Необходимо протестировать гипотезу о равенстве средних ежемесячной выручки, которую получает компания от пользователей с платной подпиской и без неё.\n",
    "\n",
    "**Нулевая гипотеза**: \"ежемесячная выручка, полученная от пользователей с платной подпиской, равна ежемесячной выручке, полученной от пользователей без платной подписки\".\n",
    "\n",
    "**Альтернативная гипотеза (правосторонняя)**: \"ежемесячная выручка, полученная от пользователей с платной подпиской, БОЛЬШЕ ежемесячной выручки, полученной от пользователей без платной подписки\"."
   ]
  },
  {
   "cell_type": "code",
   "execution_count": 55,
   "id": "58932896",
   "metadata": {
    "scrolled": true
   },
   "outputs": [
    {
     "name": "stdout",
     "output_type": "stream",
     "text": [
      "p-значение: 1.8850394384715216e-31\n",
      "Отвергаем нулевую гипотезу\n"
     ]
    }
   ],
   "source": [
    "# разделим агрегированный датафрейм agg_data на 2: с информацией о пользователях\n",
    "# с платной подпиской и без неё\n",
    "agg_data_free = agg_data.query('subscription_type == \"free\"')\n",
    "agg_data_ultra = agg_data.query('subscription_type == \"ultra\"')\n",
    "\n",
    "alpha = .05\n",
    "\n",
    "results_3 = st.ttest_ind(\n",
    "    agg_data_ultra['revenue'], agg_data_free['revenue'], \n",
    "    alternative='greater')\n",
    "\n",
    "print('p-значение:', results_3.pvalue)\n",
    "\n",
    "if results_3.pvalue < alpha:\n",
    "    print('Отвергаем нулевую гипотезу')\n",
    "else:\n",
    "    print('Не получилось отвергнуть нулевую гипотезу')"
   ]
  },
  {
   "cell_type": "markdown",
   "id": "e740641f",
   "metadata": {},
   "source": [
    "На основе результатов теста мы отвергаем нулевую гипотезу о том, что ежемесячная выручка, полученная от пользователей с платной подпиской, равна ежемесячной выручке, полученной от пользователей без платной подписки.\n",
    "\n",
    "Нулевая гипотеза отвергается в пользу альтернативной: **ежемесячная выручка, получаемая от пользователей с платной подпиской, БОЛЬШЕ ежемесячной выручки, получаемой от пользователей без платной подписки**."
   ]
  },
  {
   "cell_type": "markdown",
   "id": "f97c97e1",
   "metadata": {},
   "source": [
    "<div class=\"alert alert-dan ger\">\n",
    "<font size=\"4\"><b>❌ Комментарий ревьюера</b></font>\n",
    "    <br /> \n",
    "    <font size=\"3\", color = \"black\">\n",
    "<br />\n",
    "Стоит поправить выборки. В этой гипотезе мы сравниваем все поездки, поэтому агрегирования по месяцам И по всем пользователям быть не должно, для стат теста используем выборки\n",
    "        \n",
    "        agg_data_free\n",
    "        agg_data_ultra\n",
    "        "
   ]
  },
  {
   "cell_type": "markdown",
   "id": "22b60882",
   "metadata": {},
   "source": [
    "<div class=\"alert alert-info\">\n",
    "<font size=\"4\", color = \"black\"><b>✍ Комментарий студента</b></font>\n",
    "    <br /> \n",
    "    <font size=\"3\", color = \"black\">\n",
    "<br /> Поправила выборки и вывод."
   ]
  },
  {
   "cell_type": "code",
   "execution_count": 56,
   "id": "4acf04a2",
   "metadata": {
    "scrolled": false
   },
   "outputs": [
    {
     "data": {
      "image/png": "[encoded data removed]",
      "text/plain": [
       "<Figure size 720x360 with 1 Axes>"
      ]
     },
     "metadata": {
      "needs_background": "light"
     },
     "output_type": "display_data"
    }
   ],
   "source": [
    "plt.figure(figsize=(10, 5))\n",
    "plt.hist([agg_data_free['revenue'], agg_data_ultra['revenue']], \n",
    "         label=['free', 'ultra'], bins=30)\n",
    "plt.title('Ежемесячная выручка компании на одного пользователя \\n \\\n",
    "в разбивке по типу подписки (free, ultra)', fontsize=14, pad=10)\n",
    "plt.xlabel('Ежемесячная выручка на одного пользователя, руб.', fontsize=12, labelpad=10)\n",
    "plt.legend()\n",
    "plt.show()"
   ]
  },
  {
   "cell_type": "markdown",
   "id": "b2f13ec4",
   "metadata": {},
   "source": [
    "С помощью графика можно наглядно увидеть превосходство выручки, получаемой на ежемесячной основе от пользователей с платной подпиской, над ежемесячной выручкой, которую получает компания от пользователей без платной подписки.\n",
    "\n",
    "В соответствии с полученным результатом, **компании имеет смысл распространять информацию о платной подписке среди потенциальных клиентов и проводить мероприятия, направленные на увеличение пользователей, подключивших платную подписку**."
   ]
  },
  {
   "cell_type": "markdown",
   "id": "83070886",
   "metadata": {},
   "source": [
    "<div class=\"alert alert-da nger\">\n",
    "<font size=\"4\"><b>❌ Комментарий ревьюера</b></font>\n",
    "    <br /> \n",
    "    <font size=\"3\", color = \"black\">\n",
    "<br />\n",
    "Стоит поправить все стат тесты и все выборки для стат тестов"
   ]
  },
  {
   "cell_type": "markdown",
   "id": "ed08d76d",
   "metadata": {},
   "source": [
    "<div class=\"alert alert-info\">\n",
    "<font size=\"4\", color = \"black\"><b>✍ Комментарий студента</b></font>\n",
    "    <br /> \n",
    "    <font size=\"3\", color = \"black\">\n",
    "<br /> Всё поправила, спасибо! Ещё во время первого анализа возникли вопросы к результатам: мне казалось, что они получились нелогичными. Но ошибку найти не могла."
   ]
  },
  {
   "cell_type": "markdown",
   "id": "059f9f7a",
   "metadata": {},
   "source": [
    "#### Гипотеза 4: о сокращении кол-ва обращений в техподдержку"
   ]
  },
  {
   "cell_type": "markdown",
   "id": "55acdfe7",
   "metadata": {},
   "source": [
    "**Задача:** Представьте такую ситуацию: техническая команда сервиса обновила сервера, с которыми взаимодействует мобильное приложение. Она надеется, что из-за этого количество обращений в техподдержку значимо снизилось. Некоторый файл содержит для каждого пользователя данные о количестве обращений до обновления и после него. Какой тест вам понадобился бы для проверки этой гипотезы?"
   ]
  },
  {
   "cell_type": "markdown",
   "id": "f80fe12c",
   "metadata": {},
   "source": [
    "**Решение:**\n",
    "\n",
    "Т.к. необходимо проверить гипотезу на одной и той же выборке после внесения изменений (в данном кейсе - обновление серверов), то необходимо применить t-тест для двух зависимых выборок. В связи с тем, что техническая команда предполагает существенное снижение количества обращений в техподдержку после обновления серверов, в качестве альтернативной гипотезы будем использовать левостороннюю гипотезу.\n",
    "\n",
    "**H0:** число обращений в техподдержку после обновления серверов не изменилось.\n",
    "\n",
    "**H1:** число обращений в техподдержку после обновления серверов стало меньше, чем число обращений в техподдержку до обновления.\n",
    "\n",
    "Предположим, что в датафрейме количество обращений пользователя в техподдержку до и после обновления серверов зафиксировано соответственно в столбцах *support_tickets_before* и *support_tickets_after*.\n",
    "\n",
    "Код для проведения теста будет выглядеть следующим образом:\n",
    "\n",
    "```python\n",
    "# импортируем необходимую библиотеку\n",
    "from scipy import stats as st\n",
    "\n",
    "# задаём уровень значимости\n",
    "alpha = .05\n",
    "\n",
    "# проводим t-тест для зависимых выборок\n",
    "results = st.ttest_rel(data['support_tickets_after'], data['support_tickets_before'], alternative='less')\n",
    "\n",
    "# находим p-value\n",
    "print('p-значение:', results.pvalue)\n",
    "\n",
    "# сравниваем p-value с заданным уровнем значимости и интерпретируем результаты теста\n",
    "if results.pvalue < alpha:\n",
    "    print('Отвергаем нулевую гипотезу')\n",
    "else:\n",
    "    print('Не получилось отвергнуть нулевую гипотезу')\n",
    "```"
   ]
  },
  {
   "cell_type": "markdown",
   "id": "88760bf1",
   "metadata": {},
   "source": [
    "<div class=\"alert alert-success\">\n",
    "<font size=\"4\", color= \"seagreen\"><b>✔️ Комментарий ревьюера</b></font>\n",
    "    <br /> \n",
    "    <font size=\"3\", color = \"black\">\n",
    "<br /> Тест спроектирован корректно, молодец, в любом случае для достоверности придется проверить и правостороннюю гипотезу"
   ]
  },
  {
   "cell_type": "markdown",
   "id": "61213c5e",
   "metadata": {},
   "source": [
    "### Шаг 7. Анализ распределений"
   ]
  },
  {
   "cell_type": "markdown",
   "id": "adab10f3",
   "metadata": {},
   "source": [
    "#### Доп. задание отделу маркетинга 1"
   ]
  },
  {
   "cell_type": "markdown",
   "id": "0c763cc5",
   "metadata": {},
   "source": [
    "**Задание**:\n",
    "\n",
    "Отделу маркетинга GoFast поставили задачу: нужно провести акцию с раздачей промокодов на один бесплатный месяц подписки, в рамках которой как минимум 100 существующих клиентов должны продлить эту подписку. То есть по завершении периода действия подписки пользователь может либо отказаться от неё, либо продлить, совершив соответствующий платёж.\n",
    "\n",
    "Эта акция уже проводилась ранее и по итогу выяснилось, что после бесплатного пробного периода подписку продлевают 10 % пользователей. Выясните, какое минимальное количество промокодов нужно разослать, чтобы вероятность не выполнить план была примерно 5 %. Подберите параметры распределения, описывающего эту ситуацию, постройте график распределения и сформулируйте ответ на вопрос о количестве промокодов."
   ]
  },
  {
   "cell_type": "markdown",
   "id": "d5dc88c5",
   "metadata": {},
   "source": [
    "**Решение:**\n",
    "\n",
    "В задаче говорится о том, что у пользователя всего два варианта действий после окончания пробного бесплатного периода: либо отказаться от подписки, либо продлить её. Следовательно, в отдельном кейсе мы имеем дело с экспериментом Бернулли, а исход такого эксперимента для всех существующих клиентов представляет собой **биномиальное распределение**.\n",
    "\n",
    "Основываясь на исторических данных, нам известна вероятность \"успеха\" (продления подписки) в рамках эксперимента: она равна 10% (значение *p*). Следовательно, вероятность \"неудачи\" (отказа от продления подписки) равна 100%-10% = 90% (значение *1-p*).\n",
    "\n",
    "Предположим (умышленно неверно), что если процент успеха равен 10% и нам достаточно, чтобы 100 пользователей продлили подписку, то необходимо разослать промокоды 100 * 10 = 1 000 пользователям.\n",
    "\n",
    "С помощью метода *cdf* проверим, какова вероятность того, что случайная величина *X* (кол-во пользователей, продливших подписку) окажется >= 100. Для этого посчитаем вероятность, что *X* <= 99, и отнимем полученное значение из 1."
   ]
  },
  {
   "cell_type": "code",
   "execution_count": 57,
   "id": "2d5f9812",
   "metadata": {},
   "outputs": [
    {
     "data": {
      "text/plain": [
       "0.5154177095659206"
      ]
     },
     "execution_count": 57,
     "metadata": {},
     "output_type": "execute_result"
    }
   ],
   "source": [
    "1 - st.binom.cdf(99, 1000, 0.1)"
   ]
  },
  {
   "cell_type": "markdown",
   "id": "91865b29",
   "metadata": {},
   "source": [
    "Если разослать промокоды 1 000 пользователям, то вероятность того, что как минимум 100 пользователей продлят подписку, будет чуть более 50%. Этого недостаточно - из условия задачи нам необходимо получить вероятность того, что 100 и более пользователей продлят подписку, на уровне 95% (100% - 5%).\n",
    "\n",
    "\"Подкрутим\" *n* (количество промокодов, которое необходимо разослать пользователям) так, чтобы вероятность того, что случайная величина *X* >= 100, была в районе 95%."
   ]
  },
  {
   "cell_type": "code",
   "execution_count": 58,
   "id": "cb8428f4",
   "metadata": {},
   "outputs": [
    {
     "data": {
      "text/plain": [
       "0.9502390990500975"
      ]
     },
     "execution_count": 58,
     "metadata": {},
     "output_type": "execute_result"
    }
   ],
   "source": [
    "1 - st.binom.cdf(99, 1161, 0.1)"
   ]
  },
  {
   "cell_type": "markdown",
   "id": "9d4ded8d",
   "metadata": {},
   "source": [
    "С помощью подбора значений n было определено: **чтобы вероятность того, что как минимум 100 пользователей продлят подписку после бесплатного периода, была примерно 95%, необходимо разослать как минимум 1 161 промокод для текущих пользователей**.\n",
    "\n",
    "Чтобы убедиться в полученном результате, проанализируем график кумулятивной функции биномиального распределения *(cdf)* при *n* = 1 161 и *p* = 0.1."
   ]
  },
  {
   "cell_type": "code",
   "execution_count": 59,
   "id": "dcc5475c",
   "metadata": {},
   "outputs": [
    {
     "data": {
      "image/png": "[encoded data removed]",
      "text/plain": [
       "<Figure size 1080x360 with 1 Axes>"
      ]
     },
     "metadata": {
      "needs_background": "light"
     },
     "output_type": "display_data"
    }
   ],
   "source": [
    "x = np.arange(0, 1161, 1)\n",
    "y = binom.cdf(x, 1161, 0.1)\n",
    "\n",
    "plt.figure(figsize=(15, 5))\n",
    "plt.plot(x, y)\n",
    "plt.title('Кумулятивная функция биномиального распределения при n = 1 161 и p = 0.1',\n",
    "         fontsize=16, pad=10)\n",
    "plt.xlabel('Количество пользователей, продливших подписку (k)', \n",
    "           fontsize=12, labelpad=10)\n",
    "plt.ylabel('Кумулятивная вероятность P(X<=k)', fontsize=12, labelpad=10)\n",
    "plt.xticks(range(0, 1300, 100))\n",
    "plt.grid()\n",
    "plt.show()"
   ]
  },
  {
   "cell_type": "markdown",
   "id": "f0829024",
   "metadata": {},
   "source": [
    "На графике видим: при k = 100 вероятность того, что X <= 99 действительно лежит в районе 5%, чего и требовалось достичь."
   ]
  },
  {
   "cell_type": "markdown",
   "id": "94f599de",
   "metadata": {},
   "source": [
    "#### Доп. задание отделу маркетинга 2"
   ]
  },
  {
   "cell_type": "markdown",
   "id": "fc8c7d68",
   "metadata": {},
   "source": [
    "**Задание:**\n",
    "\n",
    "Отдел маркетинга рассылает клиентам push-уведомления в мобильном приложении. Клиенты могут открыть его или не открывать. Известно, что уведомления открывают около 40 % получивших клиентов. Отдел планирует разослать 1 млн уведомлений. С помощью аппроксимации постройте примерный график распределения и оцените вероятность того, что уведомление откроют не более 399,5 тыс. пользователей."
   ]
  },
  {
   "cell_type": "markdown",
   "id": "739938fe",
   "metadata": {},
   "source": [
    "**Решение:**\n",
    "\n",
    "В поставленной задаче мы вновь имеем дело с биномиальным распределением с параметрами n = 1 млн. и p = 0.4.\n",
    "\n",
    "При таком большой выборке (n) имеет смысл аппроксимировать биномиальное распределение. Вероятность \"успеха\" (открытия push-уведомления) довольно велика, поэтому в данном случае условие хорошей аппроксимации биномиального распределения распределением Пуассона не соблюдается.\n",
    "\n",
    "Проверим, можем ли мы аппроксимировать данное биномиальное распределение нормальным. Условием хорошей аппроксимации в данном случае считается то, что промежуток E[X] +- 3 * сигма биномиального распределения лежит в пределах от 0 до n (т.е. там, где биномиальное распределение определено).\n",
    "\n",
    "Для биномиального распределения:\n",
    "- **мат. ожидание** E[X] = n * p;\n",
    "- **дисперсия** Var[X] = n * p * (1 - p);\n",
    "- **станд. отклон.** sigma[X] = sqrt(n * p * (1 - p)).\n",
    "\n",
    "Посчитаем данные значения."
   ]
  },
  {
   "cell_type": "code",
   "execution_count": 60,
   "id": "36a48f6d",
   "metadata": {},
   "outputs": [
    {
     "name": "stdout",
     "output_type": "stream",
     "text": [
      "Мат. ожидание биномиального распределения: 400000.0\n",
      "Стандартное отклонение биномиального распределения: 489.9\n"
     ]
    }
   ],
   "source": [
    "n = 1000000\n",
    "p = 0.4\n",
    "\n",
    "exp_value = n * p\n",
    "var = n * p * (1 - p)\n",
    "sigma = sqrt(var)\n",
    "\n",
    "print('Мат. ожидание биномиального распределения:', exp_value)\n",
    "print('Стандартное отклонение биномиального распределения:', round(sigma, 2))"
   ]
  },
  {
   "cell_type": "code",
   "execution_count": 61,
   "id": "7c2f9453",
   "metadata": {},
   "outputs": [
    {
     "name": "stdout",
     "output_type": "stream",
     "text": [
      "Нижняя граница интервала E[X]-3*сигма: 398530.31\n",
      "Врехняя граница интервала E[X]+3*сигма: 401469.69\n",
      "\n",
      "Условие хорошей аппроксимации соблюдается\n"
     ]
    }
   ],
   "source": [
    "# проверим, соблюдается ли условие хорошей аппроксимации\n",
    "\n",
    "low_limit = exp_value - 3 * sigma\n",
    "high_limit = exp_value + 3 * sigma\n",
    "\n",
    "print('Нижняя граница интервала E[X]-3*сигма:', round(low_limit, 2))\n",
    "print('Врехняя граница интервала E[X]+3*сигма:', round(high_limit, 2))\n",
    "print()\n",
    "\n",
    "if low_limit >= 0 and high_limit <= n:\n",
    "    print('Условие хорошей аппроксимации соблюдается')\n",
    "else:\n",
    "    print('Условие хорошей аппроксимации не соблюдается')"
   ]
  },
  {
   "cell_type": "markdown",
   "id": "fa98e93f",
   "metadata": {},
   "source": [
    "Как видим из результатов проверки, **биномиальное распределение в рамках задачи можно аппроксимировать нормальным**.\n",
    "\n",
    "В таком случае нам необходимо проанализировать нормальное распределение случайной переменной *X* ~ *N*(400000, 489.9) и выяснить, какова вероятность того, что X <= 399,5 тыс (т.е. вероятность того, что push-уведомление откроют не более 399,5 тыс. пользователей)."
   ]
  },
  {
   "cell_type": "code",
   "execution_count": 62,
   "id": "e5bd7d00",
   "metadata": {},
   "outputs": [
    {
     "name": "stdout",
     "output_type": "stream",
     "text": [
      "Вероятность того, что письмо откроют не более 399,5 тыс. пользователей: 15.4 %\n"
     ]
    }
   ],
   "source": [
    "# зададим нормальное распределение с тем же мат. ожиданием и станд. отклонением,\n",
    "# что и у изначального биномиального распределения\n",
    "norm_distr = st.norm(exp_value, sigma)\n",
    "\n",
    "# зададим границу интервала, которая нас интересует (X <= x)\n",
    "x = 399500\n",
    "\n",
    "# найдём вероятность того, что X <= x\n",
    "result = norm_distr.cdf(x)\n",
    "print('Вероятность того, что письмо откроют не более 399,5 тыс. пользователей:',\n",
    "      round(result*100, 1), '%')"
   ]
  },
  {
   "cell_type": "markdown",
   "id": "a719dee0",
   "metadata": {},
   "source": [
    "Осталось отобразить на графике оба распределения: биномиальное и нормальное."
   ]
  },
  {
   "cell_type": "code",
   "execution_count": 63,
   "id": "2e043f35",
   "metadata": {},
   "outputs": [
    {
     "data": {
      "image/png": "[encoded data removed]",
      "text/plain": [
       "<Figure size 720x504 with 1 Axes>"
      ]
     },
     "metadata": {
      "needs_background": "light"
     },
     "output_type": "display_data"
    }
   ],
   "source": [
    "# зададим функцию, которая выдаёт <num> чисел,\n",
    "# равномерно распределённых от <start> до <stop>,\n",
    "# для визуализации нормального распределения\n",
    "def linspace(start, stop, num):\n",
    "    step = (stop - start) / (num - 1)\n",
    "    result = []\n",
    "    for i in range(num):\n",
    "        result.append(start + step * i)\n",
    "    return result\n",
    " \n",
    "# задаём параметры биномиального распределения\n",
    "n = 1000000\n",
    "p = 0.4\n",
    "\n",
    "# границы промежутка, в котором будем строить аппроксимацию -\n",
    "# от n*p минус 4 ст.отклонения бином.распределения\n",
    "# до n*p плюс 4 ст.отклонения бином.распределения\n",
    "# (там, где вероятности значений почти не равны нулю)\n",
    "left = int(exp_value - 4 * sigma)\n",
    "right = int(exp_value + 4 * sigma)\n",
    " \n",
    "# зададим набор значений биномиальной величины на выбранном промежутке:\n",
    "# все неотрицательные целые числа от left до right\n",
    "x = list(range(max(0, left), right))\n",
    "\n",
    "# рисуем график биномиального распределения\n",
    "plt.subplots(figsize=(10, 7))\n",
    "ax = plt.subplot()\n",
    "\n",
    "# используем синие о-образные маркеры и размер маркера 1\n",
    "ax.plot(x, binom.pmf(x, n, p), 'bo', ms=1, label='вероятности биномиального распределения')\n",
    " \n",
    "# рисуем график нормального распределения:\n",
    "# получим список из 100 чисел от left до right\n",
    "x = linspace(left, right, 100)\n",
    "# используем красную линию ширины 2 и прозрачности 0.5\n",
    "ax.plot(x, norm.pdf(x, exp_value, sigma), 'r-', lw=2, alpha=0.5, \\\n",
    "        label='плотность вероятности нормального распределения')\n",
    "\n",
    "# задаём название графика и осей\n",
    "plt.title('Аппроксимация биномиального распределения нормальным',\n",
    "         fontsize=14, pad=10)\n",
    "plt.xlabel('Количество push-уведомлений', fontsize=12, labelpad=10)\n",
    "plt.ylabel('Плотность распределения', fontsize=12, labelpad=10)\n",
    "\n",
    "# настраиваем оптимальное расположение легенды и выводим график\n",
    "ax.legend(loc='best')\n",
    "plt.show()"
   ]
  },
  {
   "cell_type": "markdown",
   "id": "b86e049a",
   "metadata": {},
   "source": [
    "На графике видно, что биномиальное распределение было очень хорошо аппроксимировано нормальным распределением: графики практически совпадают."
   ]
  },
  {
   "cell_type": "markdown",
   "id": "ac463015",
   "metadata": {},
   "source": [
    "<div class=\"alert alert-success\">\n",
    "<font size=\"4\", color= \"seagreen\"><b>✔️ Комментарий ревьюера</b></font>\n",
    "    <br /> \n",
    "    <font size=\"3\", color = \"black\">\n",
    "<br />Дополнительные задания выполнены верно, молодец"
   ]
  },
  {
   "cell_type": "markdown",
   "id": "68ec1a90",
   "metadata": {},
   "source": [
    "## Выводы исследования"
   ]
  },
  {
   "cell_type": "markdown",
   "id": "e66686ff",
   "metadata": {},
   "source": [
    "В результате проведённого исследования было проанализировано три датафрейма:\n",
    "1. users (информация о пользователях),\n",
    "2. rides (информация о поездках),\n",
    "3. subscriptions (информация о типах подписки).\n",
    "\n",
    "На каждом из шагов исследования были достигнуты следующие результаты:\n",
    "1. **Загрузка данных.** Импортированы необходимые библиотеки, загружены датафреймы.\n",
    "2. **Предобработка данных:**\n",
    "    1. Скорректирован тип данных переменной date (дата поездки);\n",
    "    2. Создан новый столбец *month* с указанием месяца поездки;\n",
    "    3. Удалён 31 явный дубликат из датафрейма **users** и 95 аномальных значений в датафрейме **rides**.\n",
    "3. **Исследовательский анализ данных.** Проанализированы переменные *city* (город совершения поездки), *subscription_type* (тип подписки), *age* (возраст пользователей), *distance* (расстояние, преодолённое в течение поездки), *duration* (длительность поездки).\n",
    "4. **Объединение данных:**\n",
    "    1. Три датафрейма объединены в один (**data**);\n",
    "    2. На основе датафрейма *data* созданы 2 датафрейма: с информацией о пользователях с платной подпиской (*ultra*) и без платной подписки (*free*);\n",
    "    3. Визуализированы параметры *distance* и *duration* в разрезе типа подписки пользователей.\n",
    "5. **Подсчёт выручки:**\n",
    "    1. Создан агрегированный датафрейм (**agg_data**), содержащий информацию о поездках: суммарное расстояние, количество поездок и суммарное время для каждого пользователя за каждый месяц.\n",
    "    2. В новый датафрейм добавлен столбец *revenue*, рассчитывающий выручку на каждого пользователя в каждый месяц.\n",
    "6. **Проверка гипотез.** Протестированы гипотезы:\n",
    "    1. о равенстве средней длительности поездки для пользователей с платной подпиской и без неё;\n",
    "    2. о равенстве среднего расстояния поездки для пользователя с платной подпиской конкретному числу (3 130 м);\n",
    "    3. о равенстве средней выручки, полученной от пользователей с платной подпиской, и без неё.\n",
    "7. **Анализ распределений:**\n",
    "    1. Выявлено количество промокодов на бесплатную подписку, которые необходимо разослать пользователям, чтобы с 95% вероятностью не менее 100 пользователей продлили подписку;\n",
    "    2. Выявлена вероятность того, что при рассылке 1 млн. push-уведомлений в мобильном приложении уведомление откроют не более 399,5 тыс. пользователей."
   ]
  },
  {
   "cell_type": "markdown",
   "id": "31c2543d",
   "metadata": {},
   "source": [
    "**Основные выводы** исследования можно сформулировать следующим образом:\n",
    "- **доля пользователей с подпиской составляет 45.6%** от всех пользователей сервиса;\n",
    "- **больше всего пользователей находится в Пятигорске (14.3%)**, меньше - в Москве (11.0%);\n",
    "- **половина всех пользователей** находится в возрастном диапазоне **от 22 до 28 лет**. **Средний возраст пользователя - 25 лет**;\n",
    "- **расстояние**, которое проезжают пользователи, **сконцентрировано в двух пиках: ~700 м и ~3100 м**;\n",
    "- в среднем каждый пользователь тратит на одну поездку **почти 18 мин**. Однако **пользователи с платной подпиской тратят на одну поездку больше времени**, чем пользователи без подписки;\n",
    "-  с 90%-ной вероятностью в генеральной совокупности **пользователи с подпиской проезжают в среднем меньше 3 130 м за одну поездку** (оптимальное расстояние с точки зрения износа самоката);\n",
    "- **ежемесячная выручка, получаемая от пользователей с платной подпиской, больше ежемесячной выручки, получаемой от пользователей без платной подписки**.\n",
    "\n",
    "Полученные выводы говорят о **целесообразности распространения платной подписки** на сервис и **проведения мероприятий, направленных на увеличение количества пользователей, приобретающих платную подписку**."
   ]
  },
  {
   "cell_type": "markdown",
   "id": "6de65355",
   "metadata": {},
   "source": [
    "<div class=\"alert alert-warning\", style=\"border:solid coral 3px; padding: 20px\">\n",
    "<font size=\"4\", color = \"DimGrey\"><b>⚠️ Комментарий ревьюера</b></font>\n",
    "    <br /> \n",
    "    <font size=\"3\", color = \"black\">\n",
    "<br />Кажется отличие не столь значительно, чтобы об этом говорить в итоговом выводе, или стоит добавить % отличия Москвы от Пятигорска\n",
    "        \n",
    "        больше всего пользователей нахохится в Пятигорске, меньше - в Москве;"
   ]
  },
  {
   "cell_type": "markdown",
   "id": "3cadac56",
   "metadata": {},
   "source": [
    "<div class=\"alert alert-info\">\n",
    "<font size=\"4\", color = \"black\"><b>✍ Комментарий студента</b></font>\n",
    "    <br /> \n",
    "    <font size=\"3\", color = \"black\">\n",
    "<br /> Добавила процентное соотношение."
   ]
  },
  {
   "cell_type": "markdown",
   "id": "8f156e37",
   "metadata": {},
   "source": [
    "<div class=\"alert alert-dan ger\">\n",
    "<font size=\"4\"><b>❌ Комментарий ревьюера</b></font>\n",
    "    <br /> \n",
    "    <font size=\"3\", color = \"black\">\n",
    "<br />Итоговый вывод технически составлен грамотно\n",
    "        \n",
    "стоит перепроверить результаты после исправления всех комментариев и поправить рекомендацию бизнесу"
   ]
  },
  {
   "cell_type": "markdown",
   "id": "87e489e2",
   "metadata": {},
   "source": [
    "<div class=\"alert alert-success\">\n",
    "<font size=\"5\", color= \"seagreen\"><b>✔️ Комментарий ревьюера</b></font>\n",
    "    <br /> \n",
    "    <font size=\"3\", color = \"black\">\n",
    "<br />   \n",
    "Ты выполнила практически все пункты проекта, молодец! Проведен значительный объем исследования деятельности компании \n",
    "        \n",
    "Критические ❌ комментарии: \n",
    " \n",
    " + добавить название проекту  \n",
    " + поправить графики        \n",
    " + проверить размерность таблиц и  пропуски после объединения таблиц\n",
    " + в разделе проверки гипотез поправить выборки, выводы\n",
    " + прочие        \n",
    " \n",
    "Если будут вопросы про мои комментарии - задавай, если какой-то формат взаимодействия не устраивает или есть какие-то другие пожелания - пиши :)\n",
    "\n",
    "<div class=\"alert alert-success\">\n",
    "    <font size=\"5\", color= \"seagreen\"><b>Жду твой проект и твои комментарии 🤝</b></font><br />"
   ]
  },
  {
   "cell_type": "markdown",
   "id": "735f3e78",
   "metadata": {},
   "source": [
    "<div class=\"alert alert-info\">\n",
    "<font size=\"4\", color = \"black\"><b>✍ Комментарий студента</b></font>\n",
    "    <br /> \n",
    "    <font size=\"3\", color = \"black\">\n",
    "<br /> Спасибо большое! Постаралась исправить проект по всем комментариям."
   ]
  },
  {
   "cell_type": "markdown",
   "id": "cde47f49",
   "metadata": {},
   "source": [
    "<div style=\"border:solid steelblue 3px; padding: 20px\">\n",
    "<font size=\"4\">🍕<b> Комментарий ревьюера</b></font>\n",
    "<br /> \n",
    "<font size=\"3\", color = \"black\">\n",
    "<br />\n",
    "    \n",
    "[Подробное руководство по группировке и агрегированию с помощью pandas](https://dfedorov.spb.ru/pandas/%D0%9F%D0%BE%D0%B4%D1%80%D0%BE%D0%B1%D0%BD%D0%BE%D0%B5%20%D1%80%D1%83%D0%BA%D0%BE%D0%B2%D0%BE%D0%B4%D1%81%D1%82%D0%B2%D0%BE%20%D0%BF%D0%BE%20%D0%B3%D1%80%D1%83%D0%BF%D0%BF%D0%B8%D1%80%D0%BE%D0%B2%D0%BA%D0%B5%20%D0%B8%20%D0%B0%D0%B3%D1%80%D0%B5%D0%B3%D0%B8%D1%80%D0%BE%D0%B2%D0%B0%D0%BD%D0%B8%D1%8E%20%D1%81%20%D0%BF%D0%BE%D0%BC%D0%BE%D1%89%D1%8C%D1%8E%20pandas.html)    \n",
    "\n",
    "[Примеры объединения таблиц, Федоров Д.](https://dfedorov.spb.ru/pandas/08.%20%D0%9A%D0%B0%D0%BA%20%D0%BE%D0%B1%D1%8A%D0%B5%D0%B4%D0%B8%D0%BD%D0%B8%D1%82%D1%8C%20%D0%B4%D0%B0%D0%BD%D0%BD%D1%8B%D0%B5%20%D0%B8%D0%B7%20%D0%BD%D0%B5%D1%81%D0%BA%D0%BE%D0%BB%D1%8C%D0%BA%D0%B8%D1%85%20%D1%82%D0%B0%D0%B1%D0%BB%D0%B8%D1%86_.html?ysclid=lklv5hyic8790467123)\n",
    "    \n",
    "    \n",
    "    \n",
    "[Искусство статистики](https://www.mann-ivanov-ferber.ru/books/iskusstvo-statistiki/)\n",
    "        \n",
    "    \n",
    "В помощь — как реализовать интерактивный план проекта вручную, смотри по <a href=\"https://stackoverflow.com/questions/49535664/how-to-hyperlink-in-a-jupyter-notebook/49717704\">ссылке</a>\n",
    "    \n",
    "пара ссылок и по разделам проекта можно будет переходить без пролистывания всего кода, особенно актуально на проектах длина которых >  10 страниц (и там где не установлен плагин TOC)\n",
    "     "
   ]
  },
  {
   "cell_type": "markdown",
   "id": "4a8ef70f",
   "metadata": {},
   "source": [
    "### Бонус"
   ]
  },
  {
   "cell_type": "code",
   "execution_count": 64,
   "id": "bdcbfcf5",
   "metadata": {},
   "outputs": [],
   "source": [
    "df1 = pd.DataFrame(\n",
    "    {\n",
    "        \"A\": [\"A0\", \"A1\", \"A2\", \"A3\"],\n",
    "        \"B\": [\"B0\", \"B1\", \"B2\", \"B3\"],\n",
    "        \"C\": [\"C0\", \"C1\", \"C2\", \"C3\"],\n",
    "        \"D\": [\"D0\", \"D1\", \"D2\", \"D3\"],\n",
    "    },\n",
    "    index=[0, 1, 2, 3],\n",
    ")\n",
    "\n",
    "df4 = pd.DataFrame(\n",
    "    {\n",
    "        \"B\": [\"B2\", \"B3\", \"B6\", \"B7\"],\n",
    "        \"D\": [\"D2\", \"D3\", \"D6\", \"D7\"],\n",
    "        \"F\": [\"F2\", \"F3\", \"F6\", \"F7\"],\n",
    "    },\n",
    "    index=[2, 3, 6, 7],\n",
    ")"
   ]
  },
  {
   "cell_type": "code",
   "execution_count": 65,
   "id": "687fcad8",
   "metadata": {},
   "outputs": [
    {
     "data": {
      "text/html": [
       "<div>\n",
       "<style scoped>\n",
       "    .dataframe tbody tr th:only-of-type {\n",
       "        vertical-align: middle;\n",
       "    }\n",
       "\n",
       "    .dataframe tbody tr th {\n",
       "        vertical-align: top;\n",
       "    }\n",
       "\n",
       "    .dataframe thead th {\n",
       "        text-align: right;\n",
       "    }\n",
       "</style>\n",
       "<table border=\"1\" class=\"dataframe\">\n",
       "  <thead>\n",
       "    <tr style=\"text-align: right;\">\n",
       "      <th></th>\n",
       "      <th>A</th>\n",
       "      <th>B</th>\n",
       "      <th>C</th>\n",
       "      <th>D</th>\n",
       "    </tr>\n",
       "  </thead>\n",
       "  <tbody>\n",
       "    <tr>\n",
       "      <th>0</th>\n",
       "      <td>A0</td>\n",
       "      <td>B0</td>\n",
       "      <td>C0</td>\n",
       "      <td>D0</td>\n",
       "    </tr>\n",
       "    <tr>\n",
       "      <th>1</th>\n",
       "      <td>A1</td>\n",
       "      <td>B1</td>\n",
       "      <td>C1</td>\n",
       "      <td>D1</td>\n",
       "    </tr>\n",
       "    <tr>\n",
       "      <th>2</th>\n",
       "      <td>A2</td>\n",
       "      <td>B2</td>\n",
       "      <td>C2</td>\n",
       "      <td>D2</td>\n",
       "    </tr>\n",
       "    <tr>\n",
       "      <th>3</th>\n",
       "      <td>A3</td>\n",
       "      <td>B3</td>\n",
       "      <td>C3</td>\n",
       "      <td>D3</td>\n",
       "    </tr>\n",
       "  </tbody>\n",
       "</table>\n",
       "</div>"
      ],
      "text/plain": [
       "    A   B   C   D\n",
       "0  A0  B0  C0  D0\n",
       "1  A1  B1  C1  D1\n",
       "2  A2  B2  C2  D2\n",
       "3  A3  B3  C3  D3"
      ]
     },
     "metadata": {},
     "output_type": "display_data"
    },
    {
     "data": {
      "text/html": [
       "<div>\n",
       "<style scoped>\n",
       "    .dataframe tbody tr th:only-of-type {\n",
       "        vertical-align: middle;\n",
       "    }\n",
       "\n",
       "    .dataframe tbody tr th {\n",
       "        vertical-align: top;\n",
       "    }\n",
       "\n",
       "    .dataframe thead th {\n",
       "        text-align: right;\n",
       "    }\n",
       "</style>\n",
       "<table border=\"1\" class=\"dataframe\">\n",
       "  <thead>\n",
       "    <tr style=\"text-align: right;\">\n",
       "      <th></th>\n",
       "      <th>B</th>\n",
       "      <th>D</th>\n",
       "      <th>F</th>\n",
       "    </tr>\n",
       "  </thead>\n",
       "  <tbody>\n",
       "    <tr>\n",
       "      <th>2</th>\n",
       "      <td>B2</td>\n",
       "      <td>D2</td>\n",
       "      <td>F2</td>\n",
       "    </tr>\n",
       "    <tr>\n",
       "      <th>3</th>\n",
       "      <td>B3</td>\n",
       "      <td>D3</td>\n",
       "      <td>F3</td>\n",
       "    </tr>\n",
       "    <tr>\n",
       "      <th>6</th>\n",
       "      <td>B6</td>\n",
       "      <td>D6</td>\n",
       "      <td>F6</td>\n",
       "    </tr>\n",
       "    <tr>\n",
       "      <th>7</th>\n",
       "      <td>B7</td>\n",
       "      <td>D7</td>\n",
       "      <td>F7</td>\n",
       "    </tr>\n",
       "  </tbody>\n",
       "</table>\n",
       "</div>"
      ],
      "text/plain": [
       "    B   D   F\n",
       "2  B2  D2  F2\n",
       "3  B3  D3  F3\n",
       "6  B6  D6  F6\n",
       "7  B7  D7  F7"
      ]
     },
     "metadata": {},
     "output_type": "display_data"
    }
   ],
   "source": [
    "display(df1, df4)"
   ]
  },
  {
   "cell_type": "code",
   "execution_count": 66,
   "id": "88b7b88b",
   "metadata": {},
   "outputs": [
    {
     "data": {
      "text/html": [
       "<div>\n",
       "<style scoped>\n",
       "    .dataframe tbody tr th:only-of-type {\n",
       "        vertical-align: middle;\n",
       "    }\n",
       "\n",
       "    .dataframe tbody tr th {\n",
       "        vertical-align: top;\n",
       "    }\n",
       "\n",
       "    .dataframe thead th {\n",
       "        text-align: right;\n",
       "    }\n",
       "</style>\n",
       "<table border=\"1\" class=\"dataframe\">\n",
       "  <thead>\n",
       "    <tr style=\"text-align: right;\">\n",
       "      <th></th>\n",
       "      <th>key_0</th>\n",
       "      <th>A</th>\n",
       "      <th>B_x</th>\n",
       "      <th>C</th>\n",
       "      <th>D_x</th>\n",
       "      <th>B_y</th>\n",
       "      <th>D_y</th>\n",
       "      <th>F</th>\n",
       "    </tr>\n",
       "  </thead>\n",
       "  <tbody>\n",
       "    <tr>\n",
       "      <th>0</th>\n",
       "      <td>0</td>\n",
       "      <td>A0</td>\n",
       "      <td>B0</td>\n",
       "      <td>C0</td>\n",
       "      <td>D0</td>\n",
       "      <td>NaN</td>\n",
       "      <td>NaN</td>\n",
       "      <td>NaN</td>\n",
       "    </tr>\n",
       "    <tr>\n",
       "      <th>1</th>\n",
       "      <td>1</td>\n",
       "      <td>A1</td>\n",
       "      <td>B1</td>\n",
       "      <td>C1</td>\n",
       "      <td>D1</td>\n",
       "      <td>NaN</td>\n",
       "      <td>NaN</td>\n",
       "      <td>NaN</td>\n",
       "    </tr>\n",
       "    <tr>\n",
       "      <th>2</th>\n",
       "      <td>2</td>\n",
       "      <td>A2</td>\n",
       "      <td>B2</td>\n",
       "      <td>C2</td>\n",
       "      <td>D2</td>\n",
       "      <td>B2</td>\n",
       "      <td>D2</td>\n",
       "      <td>F2</td>\n",
       "    </tr>\n",
       "    <tr>\n",
       "      <th>3</th>\n",
       "      <td>3</td>\n",
       "      <td>A3</td>\n",
       "      <td>B3</td>\n",
       "      <td>C3</td>\n",
       "      <td>D3</td>\n",
       "      <td>B3</td>\n",
       "      <td>D3</td>\n",
       "      <td>F3</td>\n",
       "    </tr>\n",
       "    <tr>\n",
       "      <th>4</th>\n",
       "      <td>6</td>\n",
       "      <td>NaN</td>\n",
       "      <td>NaN</td>\n",
       "      <td>NaN</td>\n",
       "      <td>NaN</td>\n",
       "      <td>B6</td>\n",
       "      <td>D6</td>\n",
       "      <td>F6</td>\n",
       "    </tr>\n",
       "    <tr>\n",
       "      <th>5</th>\n",
       "      <td>7</td>\n",
       "      <td>NaN</td>\n",
       "      <td>NaN</td>\n",
       "      <td>NaN</td>\n",
       "      <td>NaN</td>\n",
       "      <td>B7</td>\n",
       "      <td>D7</td>\n",
       "      <td>F7</td>\n",
       "    </tr>\n",
       "  </tbody>\n",
       "</table>\n",
       "</div>"
      ],
      "text/plain": [
       "   key_0    A  B_x    C  D_x  B_y  D_y    F\n",
       "0      0   A0   B0   C0   D0  NaN  NaN  NaN\n",
       "1      1   A1   B1   C1   D1  NaN  NaN  NaN\n",
       "2      2   A2   B2   C2   D2   B2   D2   F2\n",
       "3      3   A3   B3   C3   D3   B3   D3   F3\n",
       "4      6  NaN  NaN  NaN  NaN   B6   D6   F6\n",
       "5      7  NaN  NaN  NaN  NaN   B7   D7   F7"
      ]
     },
     "execution_count": 66,
     "metadata": {},
     "output_type": "execute_result"
    }
   ],
   "source": [
    "df1.merge(df4, left_on=df1.index, right_on=df4.index, how='outer')"
   ]
  },
  {
   "cell_type": "code",
   "execution_count": 67,
   "id": "6bea9427",
   "metadata": {
    "scrolled": true
   },
   "outputs": [
    {
     "data": {
      "text/html": [
       "<div>\n",
       "<style scoped>\n",
       "    .dataframe tbody tr th:only-of-type {\n",
       "        vertical-align: middle;\n",
       "    }\n",
       "\n",
       "    .dataframe tbody tr th {\n",
       "        vertical-align: top;\n",
       "    }\n",
       "\n",
       "    .dataframe thead th {\n",
       "        text-align: right;\n",
       "    }\n",
       "</style>\n",
       "<table border=\"1\" class=\"dataframe\">\n",
       "  <thead>\n",
       "    <tr style=\"text-align: right;\">\n",
       "      <th></th>\n",
       "      <th>A</th>\n",
       "      <th>B</th>\n",
       "      <th>C</th>\n",
       "      <th>D</th>\n",
       "      <th>F</th>\n",
       "    </tr>\n",
       "  </thead>\n",
       "  <tbody>\n",
       "    <tr>\n",
       "      <th>0</th>\n",
       "      <td>A0</td>\n",
       "      <td>B0</td>\n",
       "      <td>C0</td>\n",
       "      <td>D0</td>\n",
       "      <td>NaN</td>\n",
       "    </tr>\n",
       "    <tr>\n",
       "      <th>1</th>\n",
       "      <td>A1</td>\n",
       "      <td>B1</td>\n",
       "      <td>C1</td>\n",
       "      <td>D1</td>\n",
       "      <td>NaN</td>\n",
       "    </tr>\n",
       "    <tr>\n",
       "      <th>2</th>\n",
       "      <td>A2</td>\n",
       "      <td>B2</td>\n",
       "      <td>C2</td>\n",
       "      <td>D2</td>\n",
       "      <td>F2</td>\n",
       "    </tr>\n",
       "    <tr>\n",
       "      <th>3</th>\n",
       "      <td>A3</td>\n",
       "      <td>B3</td>\n",
       "      <td>C3</td>\n",
       "      <td>D3</td>\n",
       "      <td>F3</td>\n",
       "    </tr>\n",
       "    <tr>\n",
       "      <th>4</th>\n",
       "      <td>NaN</td>\n",
       "      <td>B6</td>\n",
       "      <td>NaN</td>\n",
       "      <td>D6</td>\n",
       "      <td>F6</td>\n",
       "    </tr>\n",
       "    <tr>\n",
       "      <th>5</th>\n",
       "      <td>NaN</td>\n",
       "      <td>B7</td>\n",
       "      <td>NaN</td>\n",
       "      <td>D7</td>\n",
       "      <td>F7</td>\n",
       "    </tr>\n",
       "  </tbody>\n",
       "</table>\n",
       "</div>"
      ],
      "text/plain": [
       "     A   B    C   D    F\n",
       "0   A0  B0   C0  D0  NaN\n",
       "1   A1  B1   C1  D1  NaN\n",
       "2   A2  B2   C2  D2   F2\n",
       "3   A3  B3   C3  D3   F3\n",
       "4  NaN  B6  NaN  D6   F6\n",
       "5  NaN  B7  NaN  D7   F7"
      ]
     },
     "execution_count": 67,
     "metadata": {},
     "output_type": "execute_result"
    }
   ],
   "source": [
    "df1.merge(df4, 'outer')"
   ]
  },
  {
   "cell_type": "code",
   "execution_count": null,
   "id": "1169a61c",
   "metadata": {},
   "outputs": [],
   "source": []
  }
 ],
 "metadata": {
  "ExecuteTimeLog": [
   {
    "duration": 63,
    "start_time": "2023-09-11T12:27:22.781Z"
   },
   {
    "duration": 457,
    "start_time": "2023-09-11T12:27:34.939Z"
   },
   {
    "duration": 221,
    "start_time": "2023-09-11T12:27:36.279Z"
   },
   {
    "duration": 87,
    "start_time": "2023-09-11T12:28:01.919Z"
   },
   {
    "duration": 82,
    "start_time": "2023-09-11T12:28:19.195Z"
   },
   {
    "duration": 84,
    "start_time": "2023-09-11T12:28:33.273Z"
   },
   {
    "duration": 2,
    "start_time": "2023-09-11T12:31:53.918Z"
   },
   {
    "duration": 75,
    "start_time": "2023-09-11T12:32:33.342Z"
   },
   {
    "duration": 74,
    "start_time": "2023-09-11T12:34:05.443Z"
   },
   {
    "duration": 16,
    "start_time": "2023-09-11T12:34:07.822Z"
   },
   {
    "duration": 12,
    "start_time": "2023-09-11T12:34:09.139Z"
   },
   {
    "duration": 33,
    "start_time": "2023-09-11T12:34:29.646Z"
   },
   {
    "duration": 34,
    "start_time": "2023-09-11T12:34:58.685Z"
   },
   {
    "duration": 42,
    "start_time": "2023-09-11T12:35:03.399Z"
   },
   {
    "duration": 11,
    "start_time": "2023-09-11T12:35:08.782Z"
   },
   {
    "duration": 15,
    "start_time": "2023-09-11T12:35:22.408Z"
   },
   {
    "duration": 10,
    "start_time": "2023-09-11T12:35:29.707Z"
   },
   {
    "duration": 49,
    "start_time": "2023-09-11T12:38:33.443Z"
   },
   {
    "duration": 15,
    "start_time": "2023-09-11T12:38:34.885Z"
   },
   {
    "duration": 34,
    "start_time": "2023-09-11T15:01:56.038Z"
   },
   {
    "duration": 6,
    "start_time": "2023-09-11T15:01:58.529Z"
   },
   {
    "duration": 11,
    "start_time": "2023-09-11T15:02:05.369Z"
   },
   {
    "duration": 4,
    "start_time": "2023-09-11T15:02:14.850Z"
   },
   {
    "duration": 10,
    "start_time": "2023-09-11T15:03:55.381Z"
   },
   {
    "duration": 8,
    "start_time": "2023-09-11T15:04:05.605Z"
   },
   {
    "duration": 51,
    "start_time": "2023-09-11T15:04:16.168Z"
   },
   {
    "duration": 10,
    "start_time": "2023-09-11T15:06:14.849Z"
   },
   {
    "duration": 12,
    "start_time": "2023-09-11T15:06:17.232Z"
   },
   {
    "duration": 6,
    "start_time": "2023-09-11T15:06:27.509Z"
   },
   {
    "duration": 7,
    "start_time": "2023-09-11T15:08:07.154Z"
   },
   {
    "duration": 13,
    "start_time": "2023-09-11T15:09:25.852Z"
   },
   {
    "duration": 49,
    "start_time": "2023-09-11T19:16:18.518Z"
   },
   {
    "duration": 410,
    "start_time": "2023-09-11T19:16:32.193Z"
   },
   {
    "duration": 86,
    "start_time": "2023-09-11T19:16:32.605Z"
   },
   {
    "duration": 11,
    "start_time": "2023-09-11T19:16:32.692Z"
   },
   {
    "duration": 151,
    "start_time": "2023-09-11T19:16:32.704Z"
   },
   {
    "duration": 11,
    "start_time": "2023-09-11T19:16:32.856Z"
   },
   {
    "duration": 77,
    "start_time": "2023-09-11T19:16:32.868Z"
   },
   {
    "duration": 10,
    "start_time": "2023-09-11T19:16:32.947Z"
   },
   {
    "duration": 150,
    "start_time": "2023-09-11T19:16:32.959Z"
   },
   {
    "duration": 69,
    "start_time": "2023-09-11T19:16:33.110Z"
   },
   {
    "duration": 45,
    "start_time": "2023-09-11T19:16:33.181Z"
   },
   {
    "duration": 81,
    "start_time": "2023-09-11T19:16:33.228Z"
   },
   {
    "duration": 6,
    "start_time": "2023-09-11T19:16:44.132Z"
   },
   {
    "duration": 6,
    "start_time": "2023-09-11T19:18:03.701Z"
   },
   {
    "duration": 5,
    "start_time": "2023-09-11T19:18:13.722Z"
   },
   {
    "duration": 6,
    "start_time": "2023-09-11T19:19:00.332Z"
   },
   {
    "duration": 7,
    "start_time": "2023-09-11T19:19:25.186Z"
   },
   {
    "duration": 13,
    "start_time": "2023-09-11T19:19:28.442Z"
   },
   {
    "duration": 13,
    "start_time": "2023-09-11T19:19:35.192Z"
   },
   {
    "duration": 12,
    "start_time": "2023-09-11T19:20:57.723Z"
   },
   {
    "duration": 94,
    "start_time": "2023-09-12T10:18:59.940Z"
   },
   {
    "duration": 506,
    "start_time": "2023-09-12T10:19:09.707Z"
   },
   {
    "duration": 89,
    "start_time": "2023-09-12T10:19:10.216Z"
   },
   {
    "duration": 16,
    "start_time": "2023-09-12T10:19:10.307Z"
   },
   {
    "duration": 119,
    "start_time": "2023-09-12T10:19:10.326Z"
   },
   {
    "duration": 16,
    "start_time": "2023-09-12T10:19:10.447Z"
   },
   {
    "duration": 76,
    "start_time": "2023-09-12T10:19:10.465Z"
   },
   {
    "duration": 13,
    "start_time": "2023-09-12T10:19:10.544Z"
   },
   {
    "duration": 25,
    "start_time": "2023-09-12T10:19:10.559Z"
   },
   {
    "duration": 27,
    "start_time": "2023-09-12T10:19:10.587Z"
   },
   {
    "duration": 20,
    "start_time": "2023-09-12T10:19:10.617Z"
   },
   {
    "duration": 14,
    "start_time": "2023-09-12T10:19:10.639Z"
   },
   {
    "duration": 31,
    "start_time": "2023-09-12T10:19:10.655Z"
   },
   {
    "duration": 54,
    "start_time": "2023-09-12T10:19:10.687Z"
   },
   {
    "duration": 61,
    "start_time": "2023-09-12T10:19:10.743Z"
   },
   {
    "duration": 34,
    "start_time": "2023-09-12T10:19:10.806Z"
   },
   {
    "duration": 54,
    "start_time": "2023-09-12T10:19:36.829Z"
   },
   {
    "duration": 140,
    "start_time": "2023-09-12T10:20:49.249Z"
   },
   {
    "duration": 13,
    "start_time": "2023-09-12T10:21:04.168Z"
   },
   {
    "duration": 17,
    "start_time": "2023-09-12T10:21:12.047Z"
   },
   {
    "duration": 18,
    "start_time": "2023-09-12T10:21:20.189Z"
   },
   {
    "duration": 18,
    "start_time": "2023-09-12T10:21:23.573Z"
   },
   {
    "duration": 17,
    "start_time": "2023-09-12T10:21:29.556Z"
   },
   {
    "duration": 17,
    "start_time": "2023-09-12T10:21:56.802Z"
   },
   {
    "duration": 13,
    "start_time": "2023-09-12T10:22:33.787Z"
   },
   {
    "duration": 9,
    "start_time": "2023-09-12T10:22:38.317Z"
   },
   {
    "duration": 6,
    "start_time": "2023-09-12T10:23:22.079Z"
   },
   {
    "duration": 188,
    "start_time": "2023-09-12T10:28:41.658Z"
   },
   {
    "duration": 3139,
    "start_time": "2023-09-12T10:28:45.658Z"
   },
   {
    "duration": 231,
    "start_time": "2023-09-12T10:29:06.619Z"
   },
   {
    "duration": 227,
    "start_time": "2023-09-12T10:29:15.168Z"
   },
   {
    "duration": 236,
    "start_time": "2023-09-12T10:29:19.009Z"
   },
   {
    "duration": 191,
    "start_time": "2023-09-12T10:29:26.042Z"
   },
   {
    "duration": 177,
    "start_time": "2023-09-12T10:29:35.415Z"
   },
   {
    "duration": 162,
    "start_time": "2023-09-12T10:29:40.775Z"
   },
   {
    "duration": 171,
    "start_time": "2023-09-12T10:29:43.372Z"
   },
   {
    "duration": 167,
    "start_time": "2023-09-12T10:29:46.981Z"
   },
   {
    "duration": 164,
    "start_time": "2023-09-12T10:29:51.750Z"
   },
   {
    "duration": 9,
    "start_time": "2023-09-12T10:31:01.300Z"
   },
   {
    "duration": 212,
    "start_time": "2023-09-12T10:31:21.360Z"
   },
   {
    "duration": 9,
    "start_time": "2023-09-12T10:31:43.259Z"
   },
   {
    "duration": 230,
    "start_time": "2023-09-12T10:31:51.190Z"
   },
   {
    "duration": 186,
    "start_time": "2023-09-12T10:31:55.914Z"
   },
   {
    "duration": 197,
    "start_time": "2023-09-12T10:33:38.699Z"
   },
   {
    "duration": 258,
    "start_time": "2023-09-12T10:33:44.571Z"
   },
   {
    "duration": 6,
    "start_time": "2023-09-12T10:34:57.478Z"
   },
   {
    "duration": 167,
    "start_time": "2023-09-12T10:35:10.922Z"
   },
   {
    "duration": 8,
    "start_time": "2023-09-12T10:36:11.116Z"
   },
   {
    "duration": 15,
    "start_time": "2023-09-12T10:37:09.283Z"
   },
   {
    "duration": 11,
    "start_time": "2023-09-12T10:37:13.356Z"
   },
   {
    "duration": 16,
    "start_time": "2023-09-12T10:37:32.161Z"
   },
   {
    "duration": 176,
    "start_time": "2023-09-12T10:38:03.206Z"
   },
   {
    "duration": 17,
    "start_time": "2023-09-12T10:38:17.968Z"
   },
   {
    "duration": 13,
    "start_time": "2023-09-12T10:38:47.637Z"
   },
   {
    "duration": 14,
    "start_time": "2023-09-12T10:38:57.017Z"
   },
   {
    "duration": 147,
    "start_time": "2023-09-12T10:39:02.265Z"
   },
   {
    "duration": 174,
    "start_time": "2023-09-12T10:39:08.101Z"
   },
   {
    "duration": 142,
    "start_time": "2023-09-12T10:39:22.316Z"
   },
   {
    "duration": 124,
    "start_time": "2023-09-12T10:39:33.019Z"
   },
   {
    "duration": 28,
    "start_time": "2023-09-12T10:39:38.624Z"
   },
   {
    "duration": 125,
    "start_time": "2023-09-12T10:39:43.644Z"
   },
   {
    "duration": 26,
    "start_time": "2023-09-12T10:40:06.983Z"
   },
   {
    "duration": 160,
    "start_time": "2023-09-12T10:41:01.969Z"
   },
   {
    "duration": 204,
    "start_time": "2023-09-12T10:41:16.478Z"
   },
   {
    "duration": 166,
    "start_time": "2023-09-12T10:41:33.029Z"
   },
   {
    "duration": 195,
    "start_time": "2023-09-12T10:41:46.196Z"
   },
   {
    "duration": 266,
    "start_time": "2023-09-12T10:42:09.978Z"
   },
   {
    "duration": 144,
    "start_time": "2023-09-12T10:43:36.015Z"
   },
   {
    "duration": 183,
    "start_time": "2023-09-12T10:46:13.773Z"
   },
   {
    "duration": 172,
    "start_time": "2023-09-12T10:46:48.072Z"
   },
   {
    "duration": 175,
    "start_time": "2023-09-12T10:46:54.780Z"
   },
   {
    "duration": 174,
    "start_time": "2023-09-12T10:46:59.258Z"
   },
   {
    "duration": 200,
    "start_time": "2023-09-12T10:50:07.504Z"
   },
   {
    "duration": 89,
    "start_time": "2023-09-12T10:50:14.283Z"
   },
   {
    "duration": 14,
    "start_time": "2023-09-12T10:50:27.732Z"
   },
   {
    "duration": 14,
    "start_time": "2023-09-12T10:50:33.805Z"
   },
   {
    "duration": 126,
    "start_time": "2023-09-12T10:50:51.723Z"
   },
   {
    "duration": 18,
    "start_time": "2023-09-12T10:51:03.222Z"
   },
   {
    "duration": 15,
    "start_time": "2023-09-12T10:51:06.613Z"
   },
   {
    "duration": 17,
    "start_time": "2023-09-12T10:51:13.664Z"
   },
   {
    "duration": 14,
    "start_time": "2023-09-12T10:51:17.963Z"
   },
   {
    "duration": 13,
    "start_time": "2023-09-12T10:51:35.548Z"
   },
   {
    "duration": 19,
    "start_time": "2023-09-12T10:51:49.648Z"
   },
   {
    "duration": 18,
    "start_time": "2023-09-12T10:51:57.497Z"
   },
   {
    "duration": 18,
    "start_time": "2023-09-12T10:52:08.300Z"
   },
   {
    "duration": 7,
    "start_time": "2023-09-12T10:53:09.921Z"
   },
   {
    "duration": 6,
    "start_time": "2023-09-12T10:55:04.172Z"
   },
   {
    "duration": 6,
    "start_time": "2023-09-12T10:55:19.181Z"
   },
   {
    "duration": 6,
    "start_time": "2023-09-12T10:56:52.857Z"
   },
   {
    "duration": 8,
    "start_time": "2023-09-12T10:57:04.044Z"
   },
   {
    "duration": 8,
    "start_time": "2023-09-12T10:57:11.974Z"
   },
   {
    "duration": 10,
    "start_time": "2023-09-12T10:57:22.837Z"
   },
   {
    "duration": 8,
    "start_time": "2023-09-12T10:57:42.201Z"
   },
   {
    "duration": 6,
    "start_time": "2023-09-12T10:57:51.349Z"
   },
   {
    "duration": 7,
    "start_time": "2023-09-12T10:58:01.081Z"
   },
   {
    "duration": 6,
    "start_time": "2023-09-12T10:58:11.107Z"
   },
   {
    "duration": 6,
    "start_time": "2023-09-12T10:58:16.100Z"
   },
   {
    "duration": 6,
    "start_time": "2023-09-12T10:58:19.347Z"
   },
   {
    "duration": 7,
    "start_time": "2023-09-12T10:58:23.159Z"
   },
   {
    "duration": 7,
    "start_time": "2023-09-12T10:58:26.567Z"
   },
   {
    "duration": 7,
    "start_time": "2023-09-12T11:00:36.222Z"
   },
   {
    "duration": 143,
    "start_time": "2023-09-12T11:00:52.880Z"
   },
   {
    "duration": 158,
    "start_time": "2023-09-12T11:01:07.520Z"
   },
   {
    "duration": 418,
    "start_time": "2023-09-12T11:01:26.299Z"
   },
   {
    "duration": 160,
    "start_time": "2023-09-12T11:01:37.762Z"
   },
   {
    "duration": 246,
    "start_time": "2023-09-12T11:02:37.444Z"
   },
   {
    "duration": 8,
    "start_time": "2023-09-12T11:03:41.685Z"
   },
   {
    "duration": 107,
    "start_time": "2023-09-12T11:04:21.907Z"
   },
   {
    "duration": 98,
    "start_time": "2023-09-12T11:05:38.445Z"
   },
   {
    "duration": 265,
    "start_time": "2023-09-12T11:06:22.664Z"
   },
   {
    "duration": 184,
    "start_time": "2023-09-12T11:06:31.546Z"
   },
   {
    "duration": 298,
    "start_time": "2023-09-12T11:06:42.701Z"
   },
   {
    "duration": 200,
    "start_time": "2023-09-12T11:07:12.510Z"
   },
   {
    "duration": 100,
    "start_time": "2023-09-12T11:07:39.633Z"
   },
   {
    "duration": 105,
    "start_time": "2023-09-12T11:08:03.912Z"
   },
   {
    "duration": 103,
    "start_time": "2023-09-12T11:08:07.742Z"
   },
   {
    "duration": 104,
    "start_time": "2023-09-12T11:15:13.962Z"
   },
   {
    "duration": 101,
    "start_time": "2023-09-12T11:15:20.203Z"
   },
   {
    "duration": 104,
    "start_time": "2023-09-12T11:16:48.717Z"
   },
   {
    "duration": 118,
    "start_time": "2023-09-12T11:17:01.344Z"
   },
   {
    "duration": 122,
    "start_time": "2023-09-12T11:17:09.387Z"
   },
   {
    "duration": 129,
    "start_time": "2023-09-12T11:17:34.563Z"
   },
   {
    "duration": 108,
    "start_time": "2023-09-12T11:17:44.914Z"
   },
   {
    "duration": 3,
    "start_time": "2023-09-12T11:20:31.297Z"
   },
   {
    "duration": 324,
    "start_time": "2023-09-12T11:20:45.930Z"
   },
   {
    "duration": 9,
    "start_time": "2023-09-12T11:20:49.800Z"
   },
   {
    "duration": 3,
    "start_time": "2023-09-12T11:21:13.815Z"
   },
   {
    "duration": 8,
    "start_time": "2023-09-12T11:21:19.897Z"
   },
   {
    "duration": 2,
    "start_time": "2023-09-12T11:22:11.486Z"
   },
   {
    "duration": 9,
    "start_time": "2023-09-12T11:22:30.997Z"
   },
   {
    "duration": 9,
    "start_time": "2023-09-12T11:22:52.191Z"
   },
   {
    "duration": 101,
    "start_time": "2023-09-12T11:23:05.724Z"
   },
   {
    "duration": 108,
    "start_time": "2023-09-12T11:26:29.147Z"
   },
   {
    "duration": 211,
    "start_time": "2023-09-12T11:26:36.324Z"
   },
   {
    "duration": 147,
    "start_time": "2023-09-12T11:26:40.789Z"
   },
   {
    "duration": 80,
    "start_time": "2023-09-12T11:32:29.389Z"
   },
   {
    "duration": 1707,
    "start_time": "2023-09-12T11:32:33.921Z"
   },
   {
    "duration": 161,
    "start_time": "2023-09-12T11:32:51.868Z"
   },
   {
    "duration": 159,
    "start_time": "2023-09-12T11:33:04.282Z"
   },
   {
    "duration": 224,
    "start_time": "2023-09-12T11:33:12.352Z"
   },
   {
    "duration": 185,
    "start_time": "2023-09-12T11:33:43.027Z"
   },
   {
    "duration": 12,
    "start_time": "2023-09-12T11:38:15.038Z"
   },
   {
    "duration": 116,
    "start_time": "2023-09-12T11:39:08.772Z"
   },
   {
    "duration": 115,
    "start_time": "2023-09-12T11:39:15.575Z"
   },
   {
    "duration": 109,
    "start_time": "2023-09-12T11:39:23.363Z"
   },
   {
    "duration": 149,
    "start_time": "2023-09-12T11:41:20.870Z"
   },
   {
    "duration": 161,
    "start_time": "2023-09-12T11:41:35.071Z"
   },
   {
    "duration": 143,
    "start_time": "2023-09-12T11:41:38.281Z"
   },
   {
    "duration": 150,
    "start_time": "2023-09-12T11:42:03.125Z"
   },
   {
    "duration": 164,
    "start_time": "2023-09-12T11:42:09.070Z"
   },
   {
    "duration": 542,
    "start_time": "2023-09-12T11:54:01.182Z"
   },
   {
    "duration": 77,
    "start_time": "2023-09-12T11:54:10.695Z"
   },
   {
    "duration": 6,
    "start_time": "2023-09-12T11:54:26.300Z"
   },
   {
    "duration": 6,
    "start_time": "2023-09-12T11:54:46.495Z"
   },
   {
    "duration": 8,
    "start_time": "2023-09-12T11:54:50.339Z"
   },
   {
    "duration": 3,
    "start_time": "2023-09-12T11:56:18.162Z"
   },
   {
    "duration": 8,
    "start_time": "2023-09-12T11:56:40.598Z"
   },
   {
    "duration": 6,
    "start_time": "2023-09-12T11:56:50.035Z"
   },
   {
    "duration": 7,
    "start_time": "2023-09-12T11:57:34.851Z"
   },
   {
    "duration": 6,
    "start_time": "2023-09-12T11:58:58.583Z"
   },
   {
    "duration": 10,
    "start_time": "2023-09-12T11:59:19.696Z"
   },
   {
    "duration": 13,
    "start_time": "2023-09-12T11:59:32.513Z"
   },
   {
    "duration": 10,
    "start_time": "2023-09-12T11:59:42.838Z"
   },
   {
    "duration": 11,
    "start_time": "2023-09-12T11:59:48.580Z"
   },
   {
    "duration": 10,
    "start_time": "2023-09-12T12:00:14.177Z"
   },
   {
    "duration": 11,
    "start_time": "2023-09-12T12:00:22.800Z"
   },
   {
    "duration": 12,
    "start_time": "2023-09-12T12:00:42.898Z"
   },
   {
    "duration": 9,
    "start_time": "2023-09-12T12:01:38.119Z"
   },
   {
    "duration": 11,
    "start_time": "2023-09-12T12:02:22.422Z"
   },
   {
    "duration": 8,
    "start_time": "2023-09-12T12:02:40.812Z"
   },
   {
    "duration": 7,
    "start_time": "2023-09-12T12:03:46.196Z"
   },
   {
    "duration": 7,
    "start_time": "2023-09-12T12:03:56.397Z"
   },
   {
    "duration": 9,
    "start_time": "2023-09-12T12:04:04.807Z"
   },
   {
    "duration": 9,
    "start_time": "2023-09-12T12:04:07.416Z"
   },
   {
    "duration": 307,
    "start_time": "2023-09-12T12:04:26.518Z"
   },
   {
    "duration": 145,
    "start_time": "2023-09-12T12:04:48.080Z"
   },
   {
    "duration": 7,
    "start_time": "2023-09-12T12:04:56.543Z"
   },
   {
    "duration": 7,
    "start_time": "2023-09-12T12:04:59.342Z"
   },
   {
    "duration": 9,
    "start_time": "2023-09-12T12:05:06.886Z"
   },
   {
    "duration": 7,
    "start_time": "2023-09-12T12:05:14.248Z"
   },
   {
    "duration": 13,
    "start_time": "2023-09-12T12:28:56.582Z"
   },
   {
    "duration": 115,
    "start_time": "2023-09-12T12:30:05.164Z"
   },
   {
    "duration": 21,
    "start_time": "2023-09-12T12:30:07.401Z"
   },
   {
    "duration": 13,
    "start_time": "2023-09-12T12:31:52.455Z"
   },
   {
    "duration": 181,
    "start_time": "2023-09-12T12:32:28.165Z"
   },
   {
    "duration": 362,
    "start_time": "2023-09-12T12:32:47.189Z"
   },
   {
    "duration": 248,
    "start_time": "2023-09-12T12:33:49.926Z"
   },
   {
    "duration": 227,
    "start_time": "2023-09-12T12:34:19.917Z"
   },
   {
    "duration": 222,
    "start_time": "2023-09-12T12:39:40.822Z"
   },
   {
    "duration": 147,
    "start_time": "2023-09-12T12:43:20.991Z"
   },
   {
    "duration": 8,
    "start_time": "2023-09-12T12:43:38.202Z"
   },
   {
    "duration": 7,
    "start_time": "2023-09-12T12:45:17.318Z"
   },
   {
    "duration": 5,
    "start_time": "2023-09-12T12:47:05.479Z"
   },
   {
    "duration": 15,
    "start_time": "2023-09-12T12:47:08.754Z"
   },
   {
    "duration": 18,
    "start_time": "2023-09-12T12:47:58.689Z"
   },
   {
    "duration": 25,
    "start_time": "2023-09-12T12:48:08.426Z"
   },
   {
    "duration": 17,
    "start_time": "2023-09-12T12:48:18.799Z"
   },
   {
    "duration": 8,
    "start_time": "2023-09-12T12:48:42.587Z"
   },
   {
    "duration": 9,
    "start_time": "2023-09-12T12:48:47.263Z"
   },
   {
    "duration": 9,
    "start_time": "2023-09-12T12:48:51.967Z"
   },
   {
    "duration": 781,
    "start_time": "2023-09-12T12:49:08.185Z"
   },
   {
    "duration": 39,
    "start_time": "2023-09-12T12:49:08.969Z"
   },
   {
    "duration": 11,
    "start_time": "2023-09-12T12:49:09.010Z"
   },
   {
    "duration": 45,
    "start_time": "2023-09-12T12:49:09.023Z"
   },
   {
    "duration": 12,
    "start_time": "2023-09-12T12:49:09.070Z"
   },
   {
    "duration": 23,
    "start_time": "2023-09-12T12:49:09.084Z"
   },
   {
    "duration": 13,
    "start_time": "2023-09-12T12:49:09.108Z"
   },
   {
    "duration": 10,
    "start_time": "2023-09-12T12:49:09.123Z"
   },
   {
    "duration": 13,
    "start_time": "2023-09-12T12:49:09.135Z"
   },
   {
    "duration": 15,
    "start_time": "2023-09-12T12:49:09.149Z"
   },
   {
    "duration": 7,
    "start_time": "2023-09-12T12:49:09.165Z"
   },
   {
    "duration": 36,
    "start_time": "2023-09-12T12:49:09.173Z"
   },
   {
    "duration": 15,
    "start_time": "2023-09-12T12:49:09.211Z"
   },
   {
    "duration": 5,
    "start_time": "2023-09-12T12:49:09.229Z"
   },
   {
    "duration": 9,
    "start_time": "2023-09-12T12:49:09.236Z"
   },
   {
    "duration": 11,
    "start_time": "2023-09-12T12:49:09.247Z"
   },
   {
    "duration": 10,
    "start_time": "2023-09-12T12:49:09.260Z"
   },
   {
    "duration": 39,
    "start_time": "2023-09-12T12:49:09.271Z"
   },
   {
    "duration": 208,
    "start_time": "2023-09-12T12:49:09.312Z"
   },
   {
    "duration": 6,
    "start_time": "2023-09-12T12:49:09.521Z"
   },
   {
    "duration": 14,
    "start_time": "2023-09-12T12:49:09.529Z"
   },
   {
    "duration": 182,
    "start_time": "2023-09-12T12:49:09.545Z"
   },
   {
    "duration": 123,
    "start_time": "2023-09-12T12:49:09.729Z"
   },
   {
    "duration": 200,
    "start_time": "2023-09-12T12:49:09.854Z"
   },
   {
    "duration": 205,
    "start_time": "2023-09-12T12:49:10.055Z"
   },
   {
    "duration": 7,
    "start_time": "2023-09-12T12:49:10.262Z"
   },
   {
    "duration": 301,
    "start_time": "2023-09-12T12:49:10.271Z"
   },
   {
    "duration": 10,
    "start_time": "2023-09-12T12:49:10.574Z"
   },
   {
    "duration": 19,
    "start_time": "2023-09-12T12:49:10.587Z"
   },
   {
    "duration": 133,
    "start_time": "2023-09-12T12:49:10.607Z"
   },
   {
    "duration": 13,
    "start_time": "2023-09-12T12:49:47.611Z"
   },
   {
    "duration": 14,
    "start_time": "2023-09-12T12:49:56.919Z"
   },
   {
    "duration": 101,
    "start_time": "2023-09-12T12:50:02.102Z"
   },
   {
    "duration": 8,
    "start_time": "2023-09-12T12:50:04.506Z"
   },
   {
    "duration": 11,
    "start_time": "2023-09-12T12:52:31.311Z"
   },
   {
    "duration": 11,
    "start_time": "2023-09-12T12:52:58.856Z"
   },
   {
    "duration": 5,
    "start_time": "2023-09-12T12:53:03.795Z"
   },
   {
    "duration": 6,
    "start_time": "2023-09-12T12:53:22.397Z"
   },
   {
    "duration": 242,
    "start_time": "2023-09-12T12:54:01.536Z"
   },
   {
    "duration": 156,
    "start_time": "2023-09-12T12:54:18.477Z"
   },
   {
    "duration": 209,
    "start_time": "2023-09-12T12:55:52.992Z"
   },
   {
    "duration": 153,
    "start_time": "2023-09-12T12:56:04.249Z"
   },
   {
    "duration": 172,
    "start_time": "2023-09-12T12:56:11.140Z"
   },
   {
    "duration": 53,
    "start_time": "2023-09-12T18:53:51.883Z"
   },
   {
    "duration": 892,
    "start_time": "2023-09-12T18:53:58.238Z"
   },
   {
    "duration": 87,
    "start_time": "2023-09-12T18:53:59.132Z"
   },
   {
    "duration": 12,
    "start_time": "2023-09-12T18:53:59.223Z"
   },
   {
    "duration": 80,
    "start_time": "2023-09-12T18:53:59.237Z"
   },
   {
    "duration": 12,
    "start_time": "2023-09-12T18:53:59.319Z"
   },
   {
    "duration": 58,
    "start_time": "2023-09-12T18:53:59.333Z"
   },
   {
    "duration": 10,
    "start_time": "2023-09-12T18:53:59.393Z"
   },
   {
    "duration": 12,
    "start_time": "2023-09-12T18:53:59.405Z"
   },
   {
    "duration": 10,
    "start_time": "2023-09-12T18:53:59.419Z"
   },
   {
    "duration": 11,
    "start_time": "2023-09-12T18:53:59.431Z"
   },
   {
    "duration": 5,
    "start_time": "2023-09-12T18:53:59.444Z"
   },
   {
    "duration": 7,
    "start_time": "2023-09-12T18:53:59.451Z"
   },
   {
    "duration": 23,
    "start_time": "2023-09-12T18:53:59.459Z"
   },
   {
    "duration": 5,
    "start_time": "2023-09-12T18:53:59.484Z"
   },
   {
    "duration": 13,
    "start_time": "2023-09-12T18:53:59.491Z"
   },
   {
    "duration": 6,
    "start_time": "2023-09-12T18:53:59.506Z"
   },
   {
    "duration": 9,
    "start_time": "2023-09-12T18:53:59.513Z"
   },
   {
    "duration": 25,
    "start_time": "2023-09-12T18:53:59.524Z"
   },
   {
    "duration": 206,
    "start_time": "2023-09-12T18:53:59.550Z"
   },
   {
    "duration": 6,
    "start_time": "2023-09-12T18:53:59.758Z"
   },
   {
    "duration": 10,
    "start_time": "2023-09-12T18:53:59.766Z"
   },
   {
    "duration": 194,
    "start_time": "2023-09-12T18:53:59.778Z"
   },
   {
    "duration": 126,
    "start_time": "2023-09-12T18:53:59.974Z"
   },
   {
    "duration": 197,
    "start_time": "2023-09-12T18:54:00.102Z"
   },
   {
    "duration": 223,
    "start_time": "2023-09-12T18:54:00.300Z"
   },
   {
    "duration": 23,
    "start_time": "2023-09-12T18:54:00.525Z"
   },
   {
    "duration": 317,
    "start_time": "2023-09-12T18:54:00.553Z"
   },
   {
    "duration": 8,
    "start_time": "2023-09-12T18:54:00.872Z"
   },
   {
    "duration": 70,
    "start_time": "2023-09-12T18:54:00.881Z"
   },
   {
    "duration": 45,
    "start_time": "2023-09-12T18:54:00.952Z"
   },
   {
    "duration": 220,
    "start_time": "2023-09-12T18:54:00.999Z"
   },
   {
    "duration": 146,
    "start_time": "2023-09-12T18:54:01.221Z"
   },
   {
    "duration": 25,
    "start_time": "2023-09-12T18:54:01.369Z"
   },
   {
    "duration": 18,
    "start_time": "2023-09-12T18:54:08.483Z"
   },
   {
    "duration": 27,
    "start_time": "2023-09-12T18:56:01.998Z"
   },
   {
    "duration": 26,
    "start_time": "2023-09-12T18:56:24.682Z"
   },
   {
    "duration": 34,
    "start_time": "2023-09-12T18:56:42.092Z"
   },
   {
    "duration": 25,
    "start_time": "2023-09-12T18:57:32.666Z"
   },
   {
    "duration": 10,
    "start_time": "2023-09-12T18:59:16.396Z"
   },
   {
    "duration": 19,
    "start_time": "2023-09-12T18:59:21.851Z"
   },
   {
    "duration": 19,
    "start_time": "2023-09-12T18:59:27.161Z"
   },
   {
    "duration": 34,
    "start_time": "2023-09-12T18:59:35.247Z"
   },
   {
    "duration": 28,
    "start_time": "2023-09-12T18:59:42.439Z"
   },
   {
    "duration": 83,
    "start_time": "2023-09-12T19:03:35.757Z"
   },
   {
    "duration": 144,
    "start_time": "2023-09-12T19:03:41.486Z"
   },
   {
    "duration": 277,
    "start_time": "2023-09-12T19:08:39.229Z"
   },
   {
    "duration": 289,
    "start_time": "2023-09-12T19:10:00.034Z"
   },
   {
    "duration": 231,
    "start_time": "2023-09-12T19:10:24.108Z"
   },
   {
    "duration": 223,
    "start_time": "2023-09-12T19:10:37.710Z"
   },
   {
    "duration": 251,
    "start_time": "2023-09-12T19:10:41.243Z"
   },
   {
    "duration": 266,
    "start_time": "2023-09-12T19:10:46.721Z"
   },
   {
    "duration": 9,
    "start_time": "2023-09-12T19:11:51.792Z"
   },
   {
    "duration": 247,
    "start_time": "2023-09-12T19:11:56.186Z"
   },
   {
    "duration": 192,
    "start_time": "2023-09-12T19:12:06.564Z"
   },
   {
    "duration": 165,
    "start_time": "2023-09-12T19:13:03.988Z"
   },
   {
    "duration": 170,
    "start_time": "2023-09-12T19:13:54.008Z"
   },
   {
    "duration": 176,
    "start_time": "2023-09-12T19:14:37.970Z"
   },
   {
    "duration": 282,
    "start_time": "2023-09-12T19:15:49.633Z"
   },
   {
    "duration": 268,
    "start_time": "2023-09-12T19:16:03.383Z"
   },
   {
    "duration": 183,
    "start_time": "2023-09-12T19:16:11.925Z"
   },
   {
    "duration": 170,
    "start_time": "2023-09-12T19:16:20.976Z"
   },
   {
    "duration": 188,
    "start_time": "2023-09-12T19:16:28.025Z"
   },
   {
    "duration": 171,
    "start_time": "2023-09-12T19:16:31.646Z"
   },
   {
    "duration": 180,
    "start_time": "2023-09-12T19:16:40.746Z"
   },
   {
    "duration": 276,
    "start_time": "2023-09-12T19:16:46.037Z"
   },
   {
    "duration": 179,
    "start_time": "2023-09-12T19:17:00.354Z"
   },
   {
    "duration": 174,
    "start_time": "2023-09-12T19:24:48.815Z"
   },
   {
    "duration": 162,
    "start_time": "2023-09-12T19:31:05.942Z"
   },
   {
    "duration": 175,
    "start_time": "2023-09-12T19:31:08.642Z"
   },
   {
    "duration": 20,
    "start_time": "2023-09-12T19:31:33.914Z"
   },
   {
    "duration": 115,
    "start_time": "2023-09-12T19:34:30.093Z"
   },
   {
    "duration": 80,
    "start_time": "2023-09-12T19:34:40.599Z"
   },
   {
    "duration": 13,
    "start_time": "2023-09-12T19:35:03.902Z"
   },
   {
    "duration": 22,
    "start_time": "2023-09-12T19:35:11.094Z"
   },
   {
    "duration": 20,
    "start_time": "2023-09-12T19:36:07.811Z"
   },
   {
    "duration": 22,
    "start_time": "2023-09-12T19:36:21.831Z"
   },
   {
    "duration": 34,
    "start_time": "2023-09-12T19:36:53.525Z"
   },
   {
    "duration": 20,
    "start_time": "2023-09-12T19:37:35.939Z"
   },
   {
    "duration": 34,
    "start_time": "2023-09-12T19:39:45.312Z"
   },
   {
    "duration": 30,
    "start_time": "2023-09-12T19:40:35.581Z"
   },
   {
    "duration": 31,
    "start_time": "2023-09-12T19:40:50.025Z"
   },
   {
    "duration": 947,
    "start_time": "2023-09-12T19:41:18.123Z"
   },
   {
    "duration": 32,
    "start_time": "2023-09-12T19:41:33.715Z"
   },
   {
    "duration": 39,
    "start_time": "2023-09-12T19:42:16.128Z"
   },
   {
    "duration": 35,
    "start_time": "2023-09-12T19:42:28.046Z"
   },
   {
    "duration": 35,
    "start_time": "2023-09-12T19:43:12.219Z"
   },
   {
    "duration": 35,
    "start_time": "2023-09-12T19:43:55.435Z"
   },
   {
    "duration": 21,
    "start_time": "2023-09-12T19:46:44.304Z"
   },
   {
    "duration": 6,
    "start_time": "2023-09-12T19:49:26.245Z"
   },
   {
    "duration": 24,
    "start_time": "2023-09-12T19:49:29.630Z"
   },
   {
    "duration": 10,
    "start_time": "2023-09-12T19:50:59.914Z"
   },
   {
    "duration": 3,
    "start_time": "2023-09-12T19:51:39.570Z"
   },
   {
    "duration": 11,
    "start_time": "2023-09-12T19:51:55.565Z"
   },
   {
    "duration": 10,
    "start_time": "2023-09-12T19:54:04.345Z"
   },
   {
    "duration": 6,
    "start_time": "2023-09-12T19:54:09.138Z"
   },
   {
    "duration": 22,
    "start_time": "2023-09-12T19:54:12.347Z"
   },
   {
    "duration": 6,
    "start_time": "2023-09-12T20:18:27.042Z"
   },
   {
    "duration": 24,
    "start_time": "2023-09-12T20:18:40.540Z"
   },
   {
    "duration": 25,
    "start_time": "2023-09-12T20:18:45.603Z"
   },
   {
    "duration": 10,
    "start_time": "2023-09-12T20:20:55.057Z"
   },
   {
    "duration": 56,
    "start_time": "2023-09-12T20:20:59.014Z"
   },
   {
    "duration": 39,
    "start_time": "2023-09-12T20:21:12.991Z"
   },
   {
    "duration": 41,
    "start_time": "2023-09-12T20:21:35.480Z"
   },
   {
    "duration": 465,
    "start_time": "2023-09-12T20:22:02.133Z"
   },
   {
    "duration": 353,
    "start_time": "2023-09-12T20:22:19.389Z"
   },
   {
    "duration": 37,
    "start_time": "2023-09-12T20:22:37.707Z"
   },
   {
    "duration": 39,
    "start_time": "2023-09-12T20:22:45.389Z"
   },
   {
    "duration": 34,
    "start_time": "2023-09-12T20:25:16.700Z"
   },
   {
    "duration": 33,
    "start_time": "2023-09-12T20:25:19.215Z"
   },
   {
    "duration": 48,
    "start_time": "2023-09-12T20:25:27.305Z"
   },
   {
    "duration": 348,
    "start_time": "2023-09-12T20:25:48.888Z"
   },
   {
    "duration": 41,
    "start_time": "2023-09-12T20:25:52.286Z"
   },
   {
    "duration": 37,
    "start_time": "2023-09-12T20:26:17.507Z"
   },
   {
    "duration": 39,
    "start_time": "2023-09-12T20:26:26.924Z"
   },
   {
    "duration": 345,
    "start_time": "2023-09-12T20:26:38.693Z"
   },
   {
    "duration": 39,
    "start_time": "2023-09-12T20:26:41.912Z"
   },
   {
    "duration": 35,
    "start_time": "2023-09-12T20:27:02.184Z"
   },
   {
    "duration": 35,
    "start_time": "2023-09-12T20:27:09.297Z"
   },
   {
    "duration": 38,
    "start_time": "2023-09-12T20:27:22.370Z"
   },
   {
    "duration": 49,
    "start_time": "2023-09-12T20:27:31.107Z"
   },
   {
    "duration": 50,
    "start_time": "2023-09-12T20:27:35.320Z"
   },
   {
    "duration": 63,
    "start_time": "2023-09-12T20:27:44.684Z"
   },
   {
    "duration": 48,
    "start_time": "2023-09-12T20:29:11.663Z"
   },
   {
    "duration": 43,
    "start_time": "2023-09-12T20:30:03.508Z"
   },
   {
    "duration": 40,
    "start_time": "2023-09-12T20:30:12.590Z"
   },
   {
    "duration": 9,
    "start_time": "2023-09-12T20:36:19.446Z"
   },
   {
    "duration": 7,
    "start_time": "2023-09-12T20:36:38.616Z"
   },
   {
    "duration": 22,
    "start_time": "2023-09-12T20:36:45.441Z"
   },
   {
    "duration": 27,
    "start_time": "2023-09-12T20:37:32.599Z"
   },
   {
    "duration": 9,
    "start_time": "2023-09-12T20:38:20.292Z"
   },
   {
    "duration": 11,
    "start_time": "2023-09-12T20:38:36.819Z"
   },
   {
    "duration": 7,
    "start_time": "2023-09-12T20:39:12.859Z"
   },
   {
    "duration": 16,
    "start_time": "2023-09-12T20:39:24.730Z"
   },
   {
    "duration": 11,
    "start_time": "2023-09-12T20:40:11.525Z"
   },
   {
    "duration": 8,
    "start_time": "2023-09-12T20:42:09.267Z"
   },
   {
    "duration": 8,
    "start_time": "2023-09-12T20:42:17.401Z"
   },
   {
    "duration": 24,
    "start_time": "2023-09-12T20:43:03.433Z"
   },
   {
    "duration": 11,
    "start_time": "2023-09-12T20:43:35.938Z"
   },
   {
    "duration": 32,
    "start_time": "2023-09-12T20:43:59.981Z"
   },
   {
    "duration": 14,
    "start_time": "2023-09-12T20:44:11.439Z"
   },
   {
    "duration": 11,
    "start_time": "2023-09-12T20:44:29.529Z"
   },
   {
    "duration": 51,
    "start_time": "2023-09-12T20:44:58.775Z"
   },
   {
    "duration": 692,
    "start_time": "2023-09-12T20:45:06.257Z"
   },
   {
    "duration": 85,
    "start_time": "2023-09-12T20:45:06.951Z"
   },
   {
    "duration": 11,
    "start_time": "2023-09-12T20:45:07.038Z"
   },
   {
    "duration": 83,
    "start_time": "2023-09-12T20:45:07.051Z"
   },
   {
    "duration": 12,
    "start_time": "2023-09-12T20:45:07.135Z"
   },
   {
    "duration": 67,
    "start_time": "2023-09-12T20:45:07.149Z"
   },
   {
    "duration": 11,
    "start_time": "2023-09-12T20:45:07.217Z"
   },
   {
    "duration": 13,
    "start_time": "2023-09-12T20:45:07.229Z"
   },
   {
    "duration": 42,
    "start_time": "2023-09-12T20:45:07.243Z"
   },
   {
    "duration": 22,
    "start_time": "2023-09-12T20:45:07.288Z"
   },
   {
    "duration": 13,
    "start_time": "2023-09-12T20:45:07.311Z"
   },
   {
    "duration": 14,
    "start_time": "2023-09-12T20:45:07.326Z"
   },
   {
    "duration": 31,
    "start_time": "2023-09-12T20:45:07.341Z"
   },
   {
    "duration": 7,
    "start_time": "2023-09-12T20:45:07.373Z"
   },
   {
    "duration": 29,
    "start_time": "2023-09-12T20:45:07.382Z"
   },
   {
    "duration": 9,
    "start_time": "2023-09-12T20:45:07.412Z"
   },
   {
    "duration": 10,
    "start_time": "2023-09-12T20:45:07.423Z"
   },
   {
    "duration": 9,
    "start_time": "2023-09-12T20:45:07.435Z"
   },
   {
    "duration": 205,
    "start_time": "2023-09-12T20:45:07.446Z"
   },
   {
    "duration": 6,
    "start_time": "2023-09-12T20:45:07.653Z"
   },
   {
    "duration": 19,
    "start_time": "2023-09-12T20:45:07.661Z"
   },
   {
    "duration": 170,
    "start_time": "2023-09-12T20:45:07.681Z"
   },
   {
    "duration": 115,
    "start_time": "2023-09-12T20:45:07.852Z"
   },
   {
    "duration": 197,
    "start_time": "2023-09-12T20:45:07.969Z"
   },
   {
    "duration": 196,
    "start_time": "2023-09-12T20:45:08.167Z"
   },
   {
    "duration": 8,
    "start_time": "2023-09-12T20:45:08.364Z"
   },
   {
    "duration": 276,
    "start_time": "2023-09-12T20:45:08.373Z"
   },
   {
    "duration": 7,
    "start_time": "2023-09-12T20:45:08.652Z"
   },
   {
    "duration": 7,
    "start_time": "2023-09-12T20:45:08.661Z"
   },
   {
    "duration": 29,
    "start_time": "2023-09-12T20:45:08.669Z"
   },
   {
    "duration": 266,
    "start_time": "2023-09-12T20:45:08.700Z"
   },
   {
    "duration": 146,
    "start_time": "2023-09-12T20:45:08.968Z"
   },
   {
    "duration": 35,
    "start_time": "2023-09-12T20:45:09.116Z"
   },
   {
    "duration": 28,
    "start_time": "2023-09-12T20:45:09.153Z"
   },
   {
    "duration": 183,
    "start_time": "2023-09-12T20:45:09.183Z"
   },
   {
    "duration": 163,
    "start_time": "2023-09-12T20:45:09.368Z"
   },
   {
    "duration": 47,
    "start_time": "2023-09-12T20:45:09.533Z"
   },
   {
    "duration": 22,
    "start_time": "2023-09-12T20:45:09.581Z"
   },
   {
    "duration": 98,
    "start_time": "2023-09-12T20:45:09.605Z"
   },
   {
    "duration": 19,
    "start_time": "2023-09-12T20:45:48.349Z"
   },
   {
    "duration": 18,
    "start_time": "2023-09-12T20:45:52.861Z"
   },
   {
    "duration": 3,
    "start_time": "2023-09-12T20:49:12.460Z"
   },
   {
    "duration": 13,
    "start_time": "2023-09-12T20:50:17.619Z"
   },
   {
    "duration": 350,
    "start_time": "2023-09-12T20:50:28.968Z"
   },
   {
    "duration": 4,
    "start_time": "2023-09-12T20:54:50.703Z"
   },
   {
    "duration": 1205,
    "start_time": "2023-09-12T20:54:54.376Z"
   },
   {
    "duration": 9,
    "start_time": "2023-09-12T20:55:19.091Z"
   },
   {
    "duration": 16,
    "start_time": "2023-09-12T20:55:25.054Z"
   },
   {
    "duration": 22,
    "start_time": "2023-09-12T20:56:52.253Z"
   },
   {
    "duration": 72,
    "start_time": "2023-09-12T20:57:10.100Z"
   },
   {
    "duration": 25,
    "start_time": "2023-09-12T20:57:25.488Z"
   },
   {
    "duration": 19,
    "start_time": "2023-09-12T20:57:29.785Z"
   },
   {
    "duration": 23,
    "start_time": "2023-09-12T20:58:09.398Z"
   },
   {
    "duration": 10,
    "start_time": "2023-09-12T20:58:54.923Z"
   },
   {
    "duration": 11,
    "start_time": "2023-09-12T20:59:35.023Z"
   },
   {
    "duration": 29,
    "start_time": "2023-09-12T20:59:51.171Z"
   },
   {
    "duration": 16,
    "start_time": "2023-09-12T21:02:17.400Z"
   },
   {
    "duration": 22,
    "start_time": "2023-09-12T21:02:20.847Z"
   },
   {
    "duration": 32,
    "start_time": "2023-09-12T21:02:41.924Z"
   },
   {
    "duration": 43,
    "start_time": "2023-09-12T21:03:31.880Z"
   },
   {
    "duration": 42,
    "start_time": "2023-09-12T21:06:03.766Z"
   },
   {
    "duration": 43,
    "start_time": "2023-09-12T21:06:24.678Z"
   },
   {
    "duration": 528,
    "start_time": "2023-09-12T22:14:22.890Z"
   },
   {
    "duration": 51,
    "start_time": "2023-09-12T22:16:17.956Z"
   },
   {
    "duration": 1392,
    "start_time": "2023-09-12T22:17:22.136Z"
   },
   {
    "duration": 1391,
    "start_time": "2023-09-12T22:17:57.479Z"
   },
   {
    "duration": 5,
    "start_time": "2023-09-12T22:18:21.800Z"
   },
   {
    "duration": 13,
    "start_time": "2023-09-12T22:20:01.647Z"
   },
   {
    "duration": 6,
    "start_time": "2023-09-12T22:20:14.754Z"
   },
   {
    "duration": 6,
    "start_time": "2023-09-12T22:20:38.713Z"
   },
   {
    "duration": 5,
    "start_time": "2023-09-12T22:21:27.945Z"
   },
   {
    "duration": 6,
    "start_time": "2023-09-12T22:21:37.659Z"
   },
   {
    "duration": 6,
    "start_time": "2023-09-12T22:21:53.272Z"
   },
   {
    "duration": 6,
    "start_time": "2023-09-12T22:23:02.606Z"
   },
   {
    "duration": 6,
    "start_time": "2023-09-12T22:23:18.012Z"
   },
   {
    "duration": 5,
    "start_time": "2023-09-12T22:26:57.167Z"
   },
   {
    "duration": 5,
    "start_time": "2023-09-12T22:27:01.722Z"
   },
   {
    "duration": 5,
    "start_time": "2023-09-12T22:27:04.261Z"
   },
   {
    "duration": 6,
    "start_time": "2023-09-12T22:27:08.309Z"
   },
   {
    "duration": 6,
    "start_time": "2023-09-12T22:27:10.611Z"
   },
   {
    "duration": 5,
    "start_time": "2023-09-12T22:27:29.270Z"
   },
   {
    "duration": 5,
    "start_time": "2023-09-12T22:34:59.249Z"
   },
   {
    "duration": 6,
    "start_time": "2023-09-12T22:35:22.723Z"
   },
   {
    "duration": 5,
    "start_time": "2023-09-12T22:36:42.505Z"
   },
   {
    "duration": 5,
    "start_time": "2023-09-12T22:38:57.698Z"
   },
   {
    "duration": 6,
    "start_time": "2023-09-12T22:39:37.528Z"
   },
   {
    "duration": 5,
    "start_time": "2023-09-12T22:39:45.800Z"
   },
   {
    "duration": 6,
    "start_time": "2023-09-12T22:39:49.242Z"
   },
   {
    "duration": 5,
    "start_time": "2023-09-12T22:41:37.309Z"
   },
   {
    "duration": 157,
    "start_time": "2023-09-12T22:42:17.544Z"
   },
   {
    "duration": 185,
    "start_time": "2023-09-12T22:42:32.512Z"
   },
   {
    "duration": 9,
    "start_time": "2023-09-12T22:47:09.069Z"
   },
   {
    "duration": 8,
    "start_time": "2023-09-12T22:58:54.911Z"
   },
   {
    "duration": 6,
    "start_time": "2023-09-12T22:58:58.982Z"
   },
   {
    "duration": 8,
    "start_time": "2023-09-12T22:59:07.366Z"
   },
   {
    "duration": 14,
    "start_time": "2023-09-12T22:59:57.276Z"
   },
   {
    "duration": 10,
    "start_time": "2023-09-12T23:00:47.730Z"
   },
   {
    "duration": 15,
    "start_time": "2023-09-12T23:00:52.601Z"
   },
   {
    "duration": 14,
    "start_time": "2023-09-12T23:03:11.857Z"
   },
   {
    "duration": 14,
    "start_time": "2023-09-12T23:03:35.328Z"
   },
   {
    "duration": 5,
    "start_time": "2023-09-12T23:06:00.613Z"
   },
   {
    "duration": 132,
    "start_time": "2023-09-12T23:06:15.771Z"
   },
   {
    "duration": 146,
    "start_time": "2023-09-12T23:06:42.152Z"
   },
   {
    "duration": 131,
    "start_time": "2023-09-12T23:06:53.267Z"
   },
   {
    "duration": 229,
    "start_time": "2023-09-12T23:07:57.293Z"
   },
   {
    "duration": 187,
    "start_time": "2023-09-12T23:08:11.407Z"
   },
   {
    "duration": 158,
    "start_time": "2023-09-12T23:08:36.996Z"
   },
   {
    "duration": 224,
    "start_time": "2023-09-12T23:08:44.439Z"
   },
   {
    "duration": 236,
    "start_time": "2023-09-12T23:09:00.644Z"
   },
   {
    "duration": 126,
    "start_time": "2023-09-12T23:09:09.102Z"
   },
   {
    "duration": 133,
    "start_time": "2023-09-12T23:09:36.961Z"
   },
   {
    "duration": 5,
    "start_time": "2023-09-12T23:11:24.845Z"
   },
   {
    "duration": 5,
    "start_time": "2023-09-12T23:11:55.584Z"
   },
   {
    "duration": 5,
    "start_time": "2023-09-12T23:12:02.788Z"
   },
   {
    "duration": 127,
    "start_time": "2023-09-12T23:14:09.095Z"
   },
   {
    "duration": 135,
    "start_time": "2023-09-12T23:14:11.268Z"
   },
   {
    "duration": 140,
    "start_time": "2023-09-12T23:14:54.315Z"
   },
   {
    "duration": 156,
    "start_time": "2023-09-12T23:15:17.882Z"
   },
   {
    "duration": 152,
    "start_time": "2023-09-12T23:15:32.932Z"
   },
   {
    "duration": 154,
    "start_time": "2023-09-12T23:15:38.026Z"
   },
   {
    "duration": 159,
    "start_time": "2023-09-12T23:16:06.354Z"
   },
   {
    "duration": 5,
    "start_time": "2023-09-12T23:20:33.200Z"
   },
   {
    "duration": 158,
    "start_time": "2023-09-12T23:23:23.692Z"
   },
   {
    "duration": 4,
    "start_time": "2023-09-12T23:23:55.549Z"
   },
   {
    "duration": 5,
    "start_time": "2023-09-12T23:24:06.166Z"
   },
   {
    "duration": 164,
    "start_time": "2023-09-12T23:32:06.552Z"
   },
   {
    "duration": 8,
    "start_time": "2023-09-13T10:25:28.157Z"
   },
   {
    "duration": 9,
    "start_time": "2023-09-13T10:25:38.780Z"
   },
   {
    "duration": 3,
    "start_time": "2023-09-13T10:25:50.454Z"
   },
   {
    "duration": 4,
    "start_time": "2023-09-13T10:25:52.661Z"
   },
   {
    "duration": 3,
    "start_time": "2023-09-13T10:26:08.366Z"
   },
   {
    "duration": 6,
    "start_time": "2023-09-13T10:26:10.355Z"
   },
   {
    "duration": 116,
    "start_time": "2023-09-13T10:38:51.811Z"
   },
   {
    "duration": 0,
    "start_time": "2023-09-13T10:38:51.928Z"
   },
   {
    "duration": 4,
    "start_time": "2023-09-13T10:38:56.611Z"
   },
   {
    "duration": 3,
    "start_time": "2023-09-13T10:38:58.122Z"
   },
   {
    "duration": 6,
    "start_time": "2023-09-13T10:40:50.431Z"
   },
   {
    "duration": 4,
    "start_time": "2023-09-13T10:51:29.709Z"
   },
   {
    "duration": 6,
    "start_time": "2023-09-13T10:52:20.322Z"
   },
   {
    "duration": 4,
    "start_time": "2023-09-13T10:52:33.790Z"
   },
   {
    "duration": 4,
    "start_time": "2023-09-13T10:52:54.648Z"
   },
   {
    "duration": 4,
    "start_time": "2023-09-13T10:53:11.347Z"
   },
   {
    "duration": 5,
    "start_time": "2023-09-13T10:53:18.113Z"
   },
   {
    "duration": 4,
    "start_time": "2023-09-13T10:54:06.423Z"
   },
   {
    "duration": 4,
    "start_time": "2023-09-13T10:55:32.855Z"
   },
   {
    "duration": 3,
    "start_time": "2023-09-13T10:55:47.685Z"
   },
   {
    "duration": 3,
    "start_time": "2023-09-13T10:55:52.109Z"
   },
   {
    "duration": 8,
    "start_time": "2023-09-13T10:56:57.348Z"
   },
   {
    "duration": 4,
    "start_time": "2023-09-13T10:57:01.288Z"
   },
   {
    "duration": 10,
    "start_time": "2023-09-13T10:59:19.986Z"
   },
   {
    "duration": 9,
    "start_time": "2023-09-13T11:01:04.227Z"
   },
   {
    "duration": 11,
    "start_time": "2023-09-13T11:02:30.600Z"
   },
   {
    "duration": 4,
    "start_time": "2023-09-13T11:02:36.664Z"
   },
   {
    "duration": 5,
    "start_time": "2023-09-13T11:03:38.659Z"
   },
   {
    "duration": 3,
    "start_time": "2023-09-13T11:04:00.151Z"
   },
   {
    "duration": 4,
    "start_time": "2023-09-13T11:04:47.337Z"
   },
   {
    "duration": 4,
    "start_time": "2023-09-13T11:04:55.595Z"
   },
   {
    "duration": 4,
    "start_time": "2023-09-13T11:05:02.914Z"
   },
   {
    "duration": 5,
    "start_time": "2023-09-13T11:05:37.036Z"
   },
   {
    "duration": 4,
    "start_time": "2023-09-13T11:05:53.343Z"
   },
   {
    "duration": 3,
    "start_time": "2023-09-13T11:05:59.646Z"
   },
   {
    "duration": 5,
    "start_time": "2023-09-13T11:06:03.559Z"
   },
   {
    "duration": 4,
    "start_time": "2023-09-13T11:06:09.884Z"
   },
   {
    "duration": 4,
    "start_time": "2023-09-13T11:06:17.016Z"
   },
   {
    "duration": 4,
    "start_time": "2023-09-13T11:06:23.780Z"
   },
   {
    "duration": 44,
    "start_time": "2023-09-13T19:20:37.450Z"
   },
   {
    "duration": 1234,
    "start_time": "2023-09-13T19:20:44.163Z"
   },
   {
    "duration": 94,
    "start_time": "2023-09-13T19:20:45.399Z"
   },
   {
    "duration": 12,
    "start_time": "2023-09-13T19:20:45.497Z"
   },
   {
    "duration": 76,
    "start_time": "2023-09-13T19:20:45.511Z"
   },
   {
    "duration": 10,
    "start_time": "2023-09-13T19:20:45.589Z"
   },
   {
    "duration": 56,
    "start_time": "2023-09-13T19:20:45.601Z"
   },
   {
    "duration": 9,
    "start_time": "2023-09-13T19:20:45.659Z"
   },
   {
    "duration": 8,
    "start_time": "2023-09-13T19:20:45.669Z"
   },
   {
    "duration": 10,
    "start_time": "2023-09-13T19:20:45.679Z"
   },
   {
    "duration": 17,
    "start_time": "2023-09-13T19:20:45.690Z"
   },
   {
    "duration": 29,
    "start_time": "2023-09-13T19:20:45.709Z"
   },
   {
    "duration": 62,
    "start_time": "2023-09-13T19:20:45.739Z"
   },
   {
    "duration": 46,
    "start_time": "2023-09-13T19:20:45.802Z"
   },
   {
    "duration": 6,
    "start_time": "2023-09-13T19:20:45.850Z"
   },
   {
    "duration": 9,
    "start_time": "2023-09-13T19:20:45.859Z"
   },
   {
    "duration": 8,
    "start_time": "2023-09-13T19:20:45.870Z"
   },
   {
    "duration": 7,
    "start_time": "2023-09-13T19:20:45.880Z"
   },
   {
    "duration": 7,
    "start_time": "2023-09-13T19:20:45.889Z"
   },
   {
    "duration": 237,
    "start_time": "2023-09-13T19:20:45.898Z"
   },
   {
    "duration": 5,
    "start_time": "2023-09-13T19:20:46.137Z"
   },
   {
    "duration": 6,
    "start_time": "2023-09-13T19:20:46.144Z"
   },
   {
    "duration": 159,
    "start_time": "2023-09-13T19:20:46.151Z"
   },
   {
    "duration": 113,
    "start_time": "2023-09-13T19:20:46.311Z"
   },
   {
    "duration": 185,
    "start_time": "2023-09-13T19:20:46.426Z"
   },
   {
    "duration": 132,
    "start_time": "2023-09-13T19:20:46.613Z"
   },
   {
    "duration": 7,
    "start_time": "2023-09-13T19:20:46.747Z"
   },
   {
    "duration": 237,
    "start_time": "2023-09-13T19:20:46.757Z"
   },
   {
    "duration": 6,
    "start_time": "2023-09-13T19:20:46.995Z"
   },
   {
    "duration": 77,
    "start_time": "2023-09-13T19:20:47.003Z"
   },
   {
    "duration": 128,
    "start_time": "2023-09-13T19:20:47.082Z"
   },
   {
    "duration": 265,
    "start_time": "2023-09-13T19:20:47.212Z"
   },
   {
    "duration": 116,
    "start_time": "2023-09-13T19:20:47.479Z"
   },
   {
    "duration": 34,
    "start_time": "2023-09-13T19:20:47.596Z"
   },
   {
    "duration": 24,
    "start_time": "2023-09-13T19:20:47.632Z"
   },
   {
    "duration": 161,
    "start_time": "2023-09-13T19:20:47.657Z"
   },
   {
    "duration": 226,
    "start_time": "2023-09-13T19:20:47.824Z"
   },
   {
    "duration": 33,
    "start_time": "2023-09-13T19:20:48.052Z"
   },
   {
    "duration": 54,
    "start_time": "2023-09-13T19:20:48.087Z"
   },
   {
    "duration": 75,
    "start_time": "2023-09-13T19:20:48.142Z"
   },
   {
    "duration": 25,
    "start_time": "2023-09-13T19:20:48.218Z"
   },
   {
    "duration": 28,
    "start_time": "2023-09-13T19:20:48.244Z"
   },
   {
    "duration": 145,
    "start_time": "2023-09-13T19:20:48.273Z"
   },
   {
    "duration": 117,
    "start_time": "2023-09-13T19:20:48.419Z"
   },
   {
    "duration": 63,
    "start_time": "2023-09-13T19:20:48.538Z"
   },
   {
    "duration": 31,
    "start_time": "2023-09-13T19:20:48.603Z"
   },
   {
    "duration": 110,
    "start_time": "2023-09-13T19:20:48.636Z"
   },
   {
    "duration": 202,
    "start_time": "2023-09-13T19:20:48.747Z"
   },
   {
    "duration": 79,
    "start_time": "2023-09-13T19:20:48.950Z"
   },
   {
    "duration": 13,
    "start_time": "2023-09-13T19:21:02.018Z"
   },
   {
    "duration": 477,
    "start_time": "2023-09-13T19:21:22.319Z"
   },
   {
    "duration": 24,
    "start_time": "2023-09-13T19:21:58.219Z"
   },
   {
    "duration": 10933,
    "start_time": "2023-09-13T19:36:02.181Z"
   },
   {
    "duration": 3331,
    "start_time": "2023-09-13T19:36:21.832Z"
   },
   {
    "duration": 7294,
    "start_time": "2023-09-13T19:36:31.184Z"
   },
   {
    "duration": 10,
    "start_time": "2023-09-13T19:42:57.138Z"
   },
   {
    "duration": 3,
    "start_time": "2023-09-13T19:43:15.904Z"
   },
   {
    "duration": 1401,
    "start_time": "2023-09-13T19:43:20.766Z"
   },
   {
    "duration": 217,
    "start_time": "2023-09-13T19:43:36.472Z"
   },
   {
    "duration": 1448,
    "start_time": "2023-09-13T19:43:47.065Z"
   },
   {
    "duration": 185,
    "start_time": "2023-09-13T19:44:13.106Z"
   },
   {
    "duration": 236,
    "start_time": "2023-09-13T19:45:02.218Z"
   },
   {
    "duration": 1752,
    "start_time": "2023-09-13T19:45:05.915Z"
   },
   {
    "duration": 1624,
    "start_time": "2023-09-13T19:45:17.518Z"
   },
   {
    "duration": 1645,
    "start_time": "2023-09-13T19:45:31.895Z"
   },
   {
    "duration": 91,
    "start_time": "2023-09-13T19:51:42.520Z"
   },
   {
    "duration": 120,
    "start_time": "2023-09-13T19:51:47.539Z"
   },
   {
    "duration": 231,
    "start_time": "2023-09-13T19:52:07.146Z"
   },
   {
    "duration": 215,
    "start_time": "2023-09-13T19:52:17.983Z"
   },
   {
    "duration": 311,
    "start_time": "2023-09-13T19:52:25.672Z"
   },
   {
    "duration": 5,
    "start_time": "2023-09-13T19:52:34.718Z"
   },
   {
    "duration": 1438,
    "start_time": "2023-09-13T19:52:36.974Z"
   },
   {
    "duration": 4,
    "start_time": "2023-09-13T20:04:23.411Z"
   },
   {
    "duration": 5,
    "start_time": "2023-09-13T20:10:58.409Z"
   },
   {
    "duration": 4,
    "start_time": "2023-09-13T20:11:07.247Z"
   },
   {
    "duration": 6,
    "start_time": "2023-09-13T20:11:10.339Z"
   },
   {
    "duration": 6,
    "start_time": "2023-09-13T20:11:16.208Z"
   },
   {
    "duration": 113,
    "start_time": "2023-09-13T20:11:28.663Z"
   },
   {
    "duration": 152,
    "start_time": "2023-09-13T20:11:45.803Z"
   },
   {
    "duration": 106,
    "start_time": "2023-09-13T20:12:05.422Z"
   },
   {
    "duration": 5,
    "start_time": "2023-09-13T20:13:30.699Z"
   },
   {
    "duration": 5,
    "start_time": "2023-09-13T20:13:34.642Z"
   },
   {
    "duration": 6,
    "start_time": "2023-09-13T20:13:38.706Z"
   },
   {
    "duration": 6,
    "start_time": "2023-09-13T20:13:44.551Z"
   },
   {
    "duration": 5,
    "start_time": "2023-09-13T20:13:48.893Z"
   },
   {
    "duration": 6,
    "start_time": "2023-09-13T20:13:52.351Z"
   },
   {
    "duration": 5,
    "start_time": "2023-09-13T20:17:52.693Z"
   },
   {
    "duration": 5,
    "start_time": "2023-09-13T20:18:37.547Z"
   },
   {
    "duration": 6,
    "start_time": "2023-09-13T20:18:40.321Z"
   },
   {
    "duration": 4,
    "start_time": "2023-09-13T20:18:57.864Z"
   },
   {
    "duration": 5,
    "start_time": "2023-09-13T20:19:16.466Z"
   },
   {
    "duration": 4,
    "start_time": "2023-09-13T20:21:21.858Z"
   },
   {
    "duration": 5,
    "start_time": "2023-09-13T20:21:23.390Z"
   },
   {
    "duration": 4,
    "start_time": "2023-09-13T20:21:34.279Z"
   },
   {
    "duration": 5,
    "start_time": "2023-09-13T20:21:40.007Z"
   },
   {
    "duration": 5,
    "start_time": "2023-09-13T20:25:28.353Z"
   },
   {
    "duration": 6,
    "start_time": "2023-09-13T20:26:15.446Z"
   },
   {
    "duration": 5,
    "start_time": "2023-09-13T20:27:01.702Z"
   },
   {
    "duration": 4,
    "start_time": "2023-09-13T20:27:06.360Z"
   },
   {
    "duration": 4,
    "start_time": "2023-09-13T20:27:10.568Z"
   },
   {
    "duration": 5,
    "start_time": "2023-09-13T20:27:14.638Z"
   },
   {
    "duration": 5,
    "start_time": "2023-09-13T20:27:18.251Z"
   },
   {
    "duration": 4,
    "start_time": "2023-09-13T20:27:21.573Z"
   },
   {
    "duration": 5,
    "start_time": "2023-09-13T20:27:27.847Z"
   },
   {
    "duration": 6,
    "start_time": "2023-09-13T20:27:30.906Z"
   },
   {
    "duration": 5,
    "start_time": "2023-09-13T20:27:33.306Z"
   },
   {
    "duration": 4,
    "start_time": "2023-09-13T20:27:42.665Z"
   },
   {
    "duration": 5,
    "start_time": "2023-09-13T20:27:48.251Z"
   },
   {
    "duration": 460,
    "start_time": "2023-09-13T20:28:17.754Z"
   },
   {
    "duration": 99,
    "start_time": "2023-09-13T20:28:32.041Z"
   },
   {
    "duration": 121,
    "start_time": "2023-09-13T20:33:17.106Z"
   },
   {
    "duration": 106,
    "start_time": "2023-09-13T20:33:21.863Z"
   },
   {
    "duration": 113,
    "start_time": "2023-09-13T20:33:28.211Z"
   },
   {
    "duration": 204,
    "start_time": "2023-09-13T20:33:39.462Z"
   },
   {
    "duration": 116,
    "start_time": "2023-09-13T20:33:45.526Z"
   },
   {
    "duration": 102,
    "start_time": "2023-09-13T20:34:05.809Z"
   },
   {
    "duration": 118,
    "start_time": "2023-09-13T20:34:13.564Z"
   },
   {
    "duration": 123,
    "start_time": "2023-09-13T20:34:46.625Z"
   },
   {
    "duration": 173,
    "start_time": "2023-09-13T20:34:56.107Z"
   },
   {
    "duration": 123,
    "start_time": "2023-09-13T20:34:59.277Z"
   },
   {
    "duration": 8,
    "start_time": "2023-09-13T20:38:47.691Z"
   },
   {
    "duration": 15,
    "start_time": "2023-09-13T20:39:03.244Z"
   },
   {
    "duration": 371,
    "start_time": "2023-09-13T20:39:12.725Z"
   },
   {
    "duration": 102,
    "start_time": "2023-09-13T20:39:29.803Z"
   },
   {
    "duration": 100,
    "start_time": "2023-09-13T20:39:37.760Z"
   },
   {
    "duration": 2,
    "start_time": "2023-09-13T20:49:17.323Z"
   },
   {
    "duration": 10,
    "start_time": "2023-09-13T20:51:09.963Z"
   },
   {
    "duration": 4,
    "start_time": "2023-09-13T20:51:26.511Z"
   },
   {
    "duration": 3,
    "start_time": "2023-09-13T20:51:38.045Z"
   },
   {
    "duration": 3,
    "start_time": "2023-09-13T20:51:48.237Z"
   },
   {
    "duration": 5,
    "start_time": "2023-09-13T20:52:06.644Z"
   },
   {
    "duration": 5,
    "start_time": "2023-09-13T20:56:49.150Z"
   },
   {
    "duration": 4,
    "start_time": "2023-09-13T20:57:01.145Z"
   },
   {
    "duration": 4,
    "start_time": "2023-09-13T20:57:24.870Z"
   },
   {
    "duration": 5,
    "start_time": "2023-09-13T20:57:58.246Z"
   },
   {
    "duration": 6,
    "start_time": "2023-09-13T20:58:03.882Z"
   },
   {
    "duration": 4,
    "start_time": "2023-09-13T20:58:21.634Z"
   },
   {
    "duration": 5,
    "start_time": "2023-09-13T20:59:42.807Z"
   },
   {
    "duration": 5,
    "start_time": "2023-09-13T20:59:55.710Z"
   },
   {
    "duration": 4,
    "start_time": "2023-09-13T21:05:16.750Z"
   },
   {
    "duration": 13,
    "start_time": "2023-09-13T21:05:21.254Z"
   },
   {
    "duration": 6,
    "start_time": "2023-09-13T21:05:23.813Z"
   },
   {
    "duration": 10,
    "start_time": "2023-09-13T21:07:21.293Z"
   },
   {
    "duration": 4,
    "start_time": "2023-09-13T21:07:28.812Z"
   },
   {
    "duration": 4,
    "start_time": "2023-09-13T21:11:29.645Z"
   },
   {
    "duration": 5,
    "start_time": "2023-09-13T21:11:50.698Z"
   },
   {
    "duration": 10,
    "start_time": "2023-09-13T21:12:27.684Z"
   },
   {
    "duration": 10,
    "start_time": "2023-09-13T21:14:06.416Z"
   },
   {
    "duration": 5,
    "start_time": "2023-09-13T21:14:55.404Z"
   },
   {
    "duration": 5,
    "start_time": "2023-09-13T21:15:01.694Z"
   },
   {
    "duration": 10,
    "start_time": "2023-09-13T21:15:07.626Z"
   },
   {
    "duration": 5,
    "start_time": "2023-09-13T21:16:44.381Z"
   },
   {
    "duration": 136,
    "start_time": "2023-09-13T21:18:29.109Z"
   },
   {
    "duration": 5,
    "start_time": "2023-09-13T21:22:56.214Z"
   },
   {
    "duration": 5,
    "start_time": "2023-09-13T21:23:12.489Z"
   },
   {
    "duration": 5,
    "start_time": "2023-09-13T21:23:20.743Z"
   },
   {
    "duration": 5,
    "start_time": "2023-09-13T21:23:23.830Z"
   },
   {
    "duration": 5,
    "start_time": "2023-09-13T21:24:23.793Z"
   },
   {
    "duration": 5,
    "start_time": "2023-09-13T21:24:32.453Z"
   },
   {
    "duration": 8,
    "start_time": "2023-09-13T21:25:05.428Z"
   },
   {
    "duration": 34375,
    "start_time": "2023-09-13T21:27:17.606Z"
   },
   {
    "duration": 1118,
    "start_time": "2023-09-13T21:28:44.722Z"
   },
   {
    "duration": 33409,
    "start_time": "2023-09-13T21:28:59.072Z"
   },
   {
    "duration": 591,
    "start_time": "2023-09-13T21:30:44.896Z"
   },
   {
    "duration": 316,
    "start_time": "2023-09-13T21:31:10.278Z"
   },
   {
    "duration": 225,
    "start_time": "2023-09-13T21:31:23.439Z"
   },
   {
    "duration": 221,
    "start_time": "2023-09-13T22:12:15.252Z"
   },
   {
    "duration": 198,
    "start_time": "2023-09-13T22:15:18.412Z"
   },
   {
    "duration": 205,
    "start_time": "2023-09-13T22:15:26.286Z"
   },
   {
    "duration": 212,
    "start_time": "2023-09-13T22:15:35.263Z"
   },
   {
    "duration": 208,
    "start_time": "2023-09-13T22:15:39.981Z"
   },
   {
    "duration": 208,
    "start_time": "2023-09-13T22:15:45.401Z"
   },
   {
    "duration": 200,
    "start_time": "2023-09-13T22:15:55.507Z"
   },
   {
    "duration": 217,
    "start_time": "2023-09-13T22:16:02.350Z"
   },
   {
    "duration": 208,
    "start_time": "2023-09-13T22:16:31.832Z"
   },
   {
    "duration": 1054,
    "start_time": "2023-09-13T22:22:47.630Z"
   },
   {
    "duration": 37,
    "start_time": "2023-09-13T22:22:48.686Z"
   },
   {
    "duration": 10,
    "start_time": "2023-09-13T22:22:48.725Z"
   },
   {
    "duration": 41,
    "start_time": "2023-09-13T22:22:48.738Z"
   },
   {
    "duration": 15,
    "start_time": "2023-09-13T22:22:48.780Z"
   },
   {
    "duration": 19,
    "start_time": "2023-09-13T22:22:48.796Z"
   },
   {
    "duration": 10,
    "start_time": "2023-09-13T22:22:48.816Z"
   },
   {
    "duration": 44,
    "start_time": "2023-09-13T22:22:48.827Z"
   },
   {
    "duration": 16,
    "start_time": "2023-09-13T22:22:48.872Z"
   },
   {
    "duration": 25,
    "start_time": "2023-09-13T22:22:48.891Z"
   },
   {
    "duration": 18,
    "start_time": "2023-09-13T22:22:48.917Z"
   },
   {
    "duration": 14,
    "start_time": "2023-09-13T22:22:48.937Z"
   },
   {
    "duration": 12,
    "start_time": "2023-09-13T22:22:48.952Z"
   },
   {
    "duration": 5,
    "start_time": "2023-09-13T22:22:48.965Z"
   },
   {
    "duration": 7,
    "start_time": "2023-09-13T22:22:48.972Z"
   },
   {
    "duration": 4,
    "start_time": "2023-09-13T22:22:48.981Z"
   },
   {
    "duration": 12,
    "start_time": "2023-09-13T22:22:48.987Z"
   },
   {
    "duration": 17,
    "start_time": "2023-09-13T22:22:49.000Z"
   },
   {
    "duration": 177,
    "start_time": "2023-09-13T22:22:49.019Z"
   },
   {
    "duration": 6,
    "start_time": "2023-09-13T22:22:49.198Z"
   },
   {
    "duration": 27,
    "start_time": "2023-09-13T22:22:49.205Z"
   },
   {
    "duration": 154,
    "start_time": "2023-09-13T22:22:49.233Z"
   },
   {
    "duration": 105,
    "start_time": "2023-09-13T22:22:49.388Z"
   },
   {
    "duration": 166,
    "start_time": "2023-09-13T22:22:49.495Z"
   },
   {
    "duration": 124,
    "start_time": "2023-09-13T22:22:49.662Z"
   },
   {
    "duration": 8,
    "start_time": "2023-09-13T22:22:49.788Z"
   },
   {
    "duration": 240,
    "start_time": "2023-09-13T22:22:49.798Z"
   },
   {
    "duration": 5,
    "start_time": "2023-09-13T22:22:50.042Z"
   },
   {
    "duration": 25,
    "start_time": "2023-09-13T22:22:50.049Z"
   },
   {
    "duration": 84,
    "start_time": "2023-09-13T22:22:50.076Z"
   },
   {
    "duration": 252,
    "start_time": "2023-09-13T22:22:50.162Z"
   },
   {
    "duration": 119,
    "start_time": "2023-09-13T22:22:50.415Z"
   },
   {
    "duration": 24,
    "start_time": "2023-09-13T22:22:50.535Z"
   },
   {
    "duration": 23,
    "start_time": "2023-09-13T22:22:50.560Z"
   },
   {
    "duration": 179,
    "start_time": "2023-09-13T22:22:50.585Z"
   },
   {
    "duration": 222,
    "start_time": "2023-09-13T22:22:50.766Z"
   },
   {
    "duration": 43,
    "start_time": "2023-09-13T22:22:50.990Z"
   },
   {
    "duration": 35,
    "start_time": "2023-09-13T22:22:51.035Z"
   },
   {
    "duration": 20,
    "start_time": "2023-09-13T22:22:51.071Z"
   },
   {
    "duration": 11,
    "start_time": "2023-09-13T22:22:51.092Z"
   },
   {
    "duration": 14,
    "start_time": "2023-09-13T22:22:51.105Z"
   },
   {
    "duration": 25,
    "start_time": "2023-09-13T22:22:51.120Z"
   },
   {
    "duration": 42,
    "start_time": "2023-09-13T22:22:51.147Z"
   },
   {
    "duration": 26,
    "start_time": "2023-09-13T22:22:51.190Z"
   },
   {
    "duration": 5,
    "start_time": "2023-09-13T22:22:51.218Z"
   },
   {
    "duration": 17,
    "start_time": "2023-09-13T22:22:51.225Z"
   },
   {
    "duration": 137,
    "start_time": "2023-09-13T22:22:51.244Z"
   },
   {
    "duration": 5,
    "start_time": "2023-09-13T22:22:51.383Z"
   },
   {
    "duration": 15,
    "start_time": "2023-09-13T22:22:51.390Z"
   },
   {
    "duration": 135,
    "start_time": "2023-09-13T22:22:51.407Z"
   },
   {
    "duration": 5,
    "start_time": "2023-09-13T22:22:51.544Z"
   },
   {
    "duration": 10,
    "start_time": "2023-09-13T22:22:51.551Z"
   },
   {
    "duration": 9,
    "start_time": "2023-09-13T22:22:51.562Z"
   },
   {
    "duration": 217,
    "start_time": "2023-09-13T22:22:51.573Z"
   },
   {
    "duration": 27,
    "start_time": "2023-09-13T23:00:48.345Z"
   },
   {
    "duration": 38,
    "start_time": "2023-09-13T23:00:53.346Z"
   },
   {
    "duration": 6,
    "start_time": "2023-09-13T23:33:32.893Z"
   },
   {
    "duration": 6,
    "start_time": "2023-09-13T23:33:46.373Z"
   },
   {
    "duration": 97,
    "start_time": "2023-09-13T23:35:46.128Z"
   },
   {
    "duration": 19,
    "start_time": "2023-09-13T23:35:57.322Z"
   },
   {
    "duration": 1327,
    "start_time": "2023-09-13T23:36:09.995Z"
   },
   {
    "duration": 133,
    "start_time": "2023-09-13T23:36:29.208Z"
   },
   {
    "duration": 126,
    "start_time": "2023-09-13T23:38:41.113Z"
   },
   {
    "duration": 310,
    "start_time": "2023-09-13T23:38:44.143Z"
   },
   {
    "duration": 353,
    "start_time": "2023-09-13T23:38:52.927Z"
   },
   {
    "duration": 30,
    "start_time": "2023-09-13T23:44:04.979Z"
   },
   {
    "duration": 27,
    "start_time": "2023-09-13T23:45:10.477Z"
   },
   {
    "duration": 24,
    "start_time": "2023-09-13T23:45:32.595Z"
   },
   {
    "duration": 802,
    "start_time": "2023-09-13T23:47:58.785Z"
   },
   {
    "duration": 134,
    "start_time": "2023-09-13T23:50:56.286Z"
   },
   {
    "duration": 141,
    "start_time": "2023-09-13T23:51:19.352Z"
   },
   {
    "duration": 138,
    "start_time": "2023-09-13T23:53:01.989Z"
   },
   {
    "duration": 5,
    "start_time": "2023-09-13T23:53:24.952Z"
   },
   {
    "duration": 6,
    "start_time": "2023-09-13T23:53:48.436Z"
   },
   {
    "duration": 6,
    "start_time": "2023-09-13T23:53:56.785Z"
   },
   {
    "duration": 4,
    "start_time": "2023-09-13T23:54:00.411Z"
   },
   {
    "duration": 1037,
    "start_time": "2023-09-13T23:55:18.929Z"
   },
   {
    "duration": 37,
    "start_time": "2023-09-13T23:55:19.968Z"
   },
   {
    "duration": 10,
    "start_time": "2023-09-13T23:55:20.006Z"
   },
   {
    "duration": 44,
    "start_time": "2023-09-13T23:55:20.018Z"
   },
   {
    "duration": 12,
    "start_time": "2023-09-13T23:55:20.064Z"
   },
   {
    "duration": 57,
    "start_time": "2023-09-13T23:55:20.078Z"
   },
   {
    "duration": 18,
    "start_time": "2023-09-13T23:55:20.137Z"
   },
   {
    "duration": 54,
    "start_time": "2023-09-13T23:55:20.157Z"
   },
   {
    "duration": 21,
    "start_time": "2023-09-13T23:55:20.213Z"
   },
   {
    "duration": 12,
    "start_time": "2023-09-13T23:55:20.238Z"
   },
   {
    "duration": 7,
    "start_time": "2023-09-13T23:55:20.252Z"
   },
   {
    "duration": 11,
    "start_time": "2023-09-13T23:55:20.260Z"
   },
   {
    "duration": 13,
    "start_time": "2023-09-13T23:55:20.273Z"
   },
   {
    "duration": 8,
    "start_time": "2023-09-13T23:55:20.288Z"
   },
   {
    "duration": 12,
    "start_time": "2023-09-13T23:55:20.324Z"
   },
   {
    "duration": 7,
    "start_time": "2023-09-13T23:55:20.337Z"
   },
   {
    "duration": 13,
    "start_time": "2023-09-13T23:55:20.346Z"
   },
   {
    "duration": 21,
    "start_time": "2023-09-13T23:55:20.361Z"
   },
   {
    "duration": 181,
    "start_time": "2023-09-13T23:55:20.384Z"
   },
   {
    "duration": 6,
    "start_time": "2023-09-13T23:55:20.567Z"
   },
   {
    "duration": 45,
    "start_time": "2023-09-13T23:55:20.574Z"
   },
   {
    "duration": 146,
    "start_time": "2023-09-13T23:55:20.621Z"
   },
   {
    "duration": 100,
    "start_time": "2023-09-13T23:55:20.769Z"
   },
   {
    "duration": 174,
    "start_time": "2023-09-13T23:55:20.871Z"
   },
   {
    "duration": 120,
    "start_time": "2023-09-13T23:55:21.047Z"
   },
   {
    "duration": 6,
    "start_time": "2023-09-13T23:55:21.169Z"
   },
   {
    "duration": 257,
    "start_time": "2023-09-13T23:55:21.177Z"
   },
   {
    "duration": 6,
    "start_time": "2023-09-13T23:55:21.437Z"
   },
   {
    "duration": 27,
    "start_time": "2023-09-13T23:55:21.444Z"
   },
   {
    "duration": 54,
    "start_time": "2023-09-13T23:55:21.472Z"
   },
   {
    "duration": 168,
    "start_time": "2023-09-13T23:55:21.527Z"
   },
   {
    "duration": 111,
    "start_time": "2023-09-13T23:55:21.696Z"
   },
   {
    "duration": 31,
    "start_time": "2023-09-13T23:55:21.808Z"
   },
   {
    "duration": 25,
    "start_time": "2023-09-13T23:55:21.840Z"
   },
   {
    "duration": 167,
    "start_time": "2023-09-13T23:55:21.867Z"
   },
   {
    "duration": 217,
    "start_time": "2023-09-13T23:55:22.036Z"
   },
   {
    "duration": 765,
    "start_time": "2023-09-13T23:55:22.254Z"
   },
   {
    "duration": 39,
    "start_time": "2023-09-13T23:55:23.021Z"
   },
   {
    "duration": 6,
    "start_time": "2023-09-13T23:55:23.062Z"
   },
   {
    "duration": 9,
    "start_time": "2023-09-13T23:55:23.070Z"
   },
   {
    "duration": 9,
    "start_time": "2023-09-13T23:55:23.081Z"
   },
   {
    "duration": 36,
    "start_time": "2023-09-13T23:55:23.092Z"
   },
   {
    "duration": 13,
    "start_time": "2023-09-13T23:55:23.130Z"
   },
   {
    "duration": 13,
    "start_time": "2023-09-13T23:55:23.144Z"
   },
   {
    "duration": 4,
    "start_time": "2023-09-13T23:55:23.158Z"
   },
   {
    "duration": 7,
    "start_time": "2023-09-13T23:55:23.164Z"
   },
   {
    "duration": 169,
    "start_time": "2023-09-13T23:55:23.172Z"
   },
   {
    "duration": 4,
    "start_time": "2023-09-13T23:55:23.343Z"
   },
   {
    "duration": 4,
    "start_time": "2023-09-13T23:55:23.349Z"
   },
   {
    "duration": 141,
    "start_time": "2023-09-13T23:55:23.355Z"
   },
   {
    "duration": 5,
    "start_time": "2023-09-13T23:55:23.498Z"
   },
   {
    "duration": 20,
    "start_time": "2023-09-13T23:55:23.505Z"
   },
   {
    "duration": 5,
    "start_time": "2023-09-13T23:55:23.527Z"
   },
   {
    "duration": 232,
    "start_time": "2023-09-13T23:55:23.534Z"
   },
   {
    "duration": 1414,
    "start_time": "2023-09-14T09:31:22.756Z"
   },
   {
    "duration": 89,
    "start_time": "2023-09-14T09:31:24.172Z"
   },
   {
    "duration": 11,
    "start_time": "2023-09-14T09:31:24.262Z"
   },
   {
    "duration": 121,
    "start_time": "2023-09-14T09:31:24.276Z"
   },
   {
    "duration": 11,
    "start_time": "2023-09-14T09:31:24.398Z"
   },
   {
    "duration": 85,
    "start_time": "2023-09-14T09:31:24.411Z"
   },
   {
    "duration": 10,
    "start_time": "2023-09-14T09:31:24.498Z"
   },
   {
    "duration": 12,
    "start_time": "2023-09-14T09:31:24.509Z"
   },
   {
    "duration": 14,
    "start_time": "2023-09-14T09:31:24.522Z"
   },
   {
    "duration": 11,
    "start_time": "2023-09-14T09:31:24.538Z"
   },
   {
    "duration": 6,
    "start_time": "2023-09-14T09:31:24.551Z"
   },
   {
    "duration": 6,
    "start_time": "2023-09-14T09:31:24.559Z"
   },
   {
    "duration": 21,
    "start_time": "2023-09-14T09:31:24.581Z"
   },
   {
    "duration": 12,
    "start_time": "2023-09-14T09:31:24.604Z"
   },
   {
    "duration": 14,
    "start_time": "2023-09-14T09:31:24.617Z"
   },
   {
    "duration": 9,
    "start_time": "2023-09-14T09:31:24.633Z"
   },
   {
    "duration": 33,
    "start_time": "2023-09-14T09:31:24.643Z"
   },
   {
    "duration": 29,
    "start_time": "2023-09-14T09:31:24.678Z"
   },
   {
    "duration": 190,
    "start_time": "2023-09-14T09:31:24.709Z"
   },
   {
    "duration": 5,
    "start_time": "2023-09-14T09:31:24.901Z"
   },
   {
    "duration": 7,
    "start_time": "2023-09-14T09:31:24.908Z"
   },
   {
    "duration": 170,
    "start_time": "2023-09-14T09:31:24.916Z"
   },
   {
    "duration": 115,
    "start_time": "2023-09-14T09:31:25.087Z"
   },
   {
    "duration": 194,
    "start_time": "2023-09-14T09:31:25.204Z"
   },
   {
    "duration": 129,
    "start_time": "2023-09-14T09:31:25.400Z"
   },
   {
    "duration": 7,
    "start_time": "2023-09-14T09:31:25.531Z"
   },
   {
    "duration": 294,
    "start_time": "2023-09-14T09:31:25.539Z"
   },
   {
    "duration": 7,
    "start_time": "2023-09-14T09:31:25.837Z"
   },
   {
    "duration": 11,
    "start_time": "2023-09-14T09:31:25.845Z"
   },
   {
    "duration": 8,
    "start_time": "2023-09-14T09:31:25.857Z"
   },
   {
    "duration": 178,
    "start_time": "2023-09-14T09:31:25.867Z"
   },
   {
    "duration": 151,
    "start_time": "2023-09-14T09:31:26.047Z"
   },
   {
    "duration": 26,
    "start_time": "2023-09-14T09:31:26.200Z"
   },
   {
    "duration": 28,
    "start_time": "2023-09-14T09:31:26.228Z"
   },
   {
    "duration": 203,
    "start_time": "2023-09-14T09:31:26.258Z"
   },
   {
    "duration": 244,
    "start_time": "2023-09-14T09:31:26.462Z"
   },
   {
    "duration": 1095,
    "start_time": "2023-09-14T09:31:26.708Z"
   },
   {
    "duration": 39,
    "start_time": "2023-09-14T09:31:27.805Z"
   },
   {
    "duration": 5,
    "start_time": "2023-09-14T09:31:27.846Z"
   },
   {
    "duration": 18,
    "start_time": "2023-09-14T09:31:27.853Z"
   },
   {
    "duration": 18,
    "start_time": "2023-09-14T09:31:27.881Z"
   },
   {
    "duration": 18,
    "start_time": "2023-09-14T09:31:27.901Z"
   },
   {
    "duration": 36,
    "start_time": "2023-09-14T09:31:27.921Z"
   },
   {
    "duration": 34,
    "start_time": "2023-09-14T09:31:27.959Z"
   },
   {
    "duration": 30,
    "start_time": "2023-09-14T09:31:27.995Z"
   },
   {
    "duration": 21,
    "start_time": "2023-09-14T09:31:28.027Z"
   },
   {
    "duration": 189,
    "start_time": "2023-09-14T09:31:28.050Z"
   },
   {
    "duration": 5,
    "start_time": "2023-09-14T09:31:28.241Z"
   },
   {
    "duration": 6,
    "start_time": "2023-09-14T09:31:28.248Z"
   },
   {
    "duration": 145,
    "start_time": "2023-09-14T09:31:28.255Z"
   },
   {
    "duration": 4,
    "start_time": "2023-09-14T09:31:28.402Z"
   },
   {
    "duration": 6,
    "start_time": "2023-09-14T09:31:28.407Z"
   },
   {
    "duration": 9,
    "start_time": "2023-09-14T09:31:28.415Z"
   },
   {
    "duration": 252,
    "start_time": "2023-09-14T09:31:28.426Z"
   },
   {
    "duration": 6,
    "start_time": "2023-09-14T10:47:15.536Z"
   },
   {
    "duration": 16,
    "start_time": "2023-09-14T10:47:22.963Z"
   },
   {
    "duration": 8,
    "start_time": "2023-09-14T10:47:48.153Z"
   },
   {
    "duration": 1293,
    "start_time": "2023-09-14T10:48:37.526Z"
   },
   {
    "duration": 38,
    "start_time": "2023-09-14T10:48:38.821Z"
   },
   {
    "duration": 11,
    "start_time": "2023-09-14T10:48:38.861Z"
   },
   {
    "duration": 77,
    "start_time": "2023-09-14T10:48:38.874Z"
   },
   {
    "duration": 12,
    "start_time": "2023-09-14T10:48:38.953Z"
   },
   {
    "duration": 54,
    "start_time": "2023-09-14T10:48:38.966Z"
   },
   {
    "duration": 10,
    "start_time": "2023-09-14T10:48:39.021Z"
   },
   {
    "duration": 31,
    "start_time": "2023-09-14T10:48:39.033Z"
   },
   {
    "duration": 42,
    "start_time": "2023-09-14T10:48:39.065Z"
   },
   {
    "duration": 33,
    "start_time": "2023-09-14T10:48:39.110Z"
   },
   {
    "duration": 13,
    "start_time": "2023-09-14T10:48:39.145Z"
   },
   {
    "duration": 37,
    "start_time": "2023-09-14T10:48:39.159Z"
   },
   {
    "duration": 35,
    "start_time": "2023-09-14T10:48:39.198Z"
   },
   {
    "duration": 37,
    "start_time": "2023-09-14T10:48:39.235Z"
   },
   {
    "duration": 42,
    "start_time": "2023-09-14T10:48:39.274Z"
   },
   {
    "duration": 20,
    "start_time": "2023-09-14T10:48:39.318Z"
   },
   {
    "duration": 25,
    "start_time": "2023-09-14T10:48:39.340Z"
   },
   {
    "duration": 41,
    "start_time": "2023-09-14T10:48:39.366Z"
   },
   {
    "duration": 235,
    "start_time": "2023-09-14T10:48:39.409Z"
   },
   {
    "duration": 6,
    "start_time": "2023-09-14T10:48:39.646Z"
   },
   {
    "duration": 18,
    "start_time": "2023-09-14T10:48:39.654Z"
   },
   {
    "duration": 201,
    "start_time": "2023-09-14T10:48:39.673Z"
   },
   {
    "duration": 127,
    "start_time": "2023-09-14T10:48:39.875Z"
   },
   {
    "duration": 211,
    "start_time": "2023-09-14T10:48:40.004Z"
   },
   {
    "duration": 139,
    "start_time": "2023-09-14T10:48:40.217Z"
   },
   {
    "duration": 7,
    "start_time": "2023-09-14T10:48:40.358Z"
   },
   {
    "duration": 319,
    "start_time": "2023-09-14T10:48:40.367Z"
   },
   {
    "duration": 16,
    "start_time": "2023-09-14T10:48:40.697Z"
   },
   {
    "duration": 22,
    "start_time": "2023-09-14T10:48:40.715Z"
   },
   {
    "duration": 28,
    "start_time": "2023-09-14T10:48:40.738Z"
   },
   {
    "duration": 232,
    "start_time": "2023-09-14T10:48:40.767Z"
   },
   {
    "duration": 146,
    "start_time": "2023-09-14T10:48:41.001Z"
   },
   {
    "duration": 25,
    "start_time": "2023-09-14T10:48:41.149Z"
   },
   {
    "duration": 60,
    "start_time": "2023-09-14T10:48:41.176Z"
   },
   {
    "duration": 382,
    "start_time": "2023-09-14T10:48:41.237Z"
   },
   {
    "duration": 565,
    "start_time": "2023-09-14T10:48:41.621Z"
   },
   {
    "duration": 1926,
    "start_time": "2023-09-14T10:48:42.190Z"
   },
   {
    "duration": 38,
    "start_time": "2023-09-14T10:48:44.117Z"
   },
   {
    "duration": 25,
    "start_time": "2023-09-14T10:48:44.157Z"
   },
   {
    "duration": 33,
    "start_time": "2023-09-14T10:48:44.185Z"
   },
   {
    "duration": 20,
    "start_time": "2023-09-14T10:48:44.220Z"
   },
   {
    "duration": 32,
    "start_time": "2023-09-14T10:48:44.241Z"
   },
   {
    "duration": 43,
    "start_time": "2023-09-14T10:48:44.276Z"
   },
   {
    "duration": 27,
    "start_time": "2023-09-14T10:48:44.321Z"
   },
   {
    "duration": 61,
    "start_time": "2023-09-14T10:48:44.350Z"
   },
   {
    "duration": 18,
    "start_time": "2023-09-14T10:48:44.413Z"
   },
   {
    "duration": 19,
    "start_time": "2023-09-14T10:48:44.433Z"
   },
   {
    "duration": 34,
    "start_time": "2023-09-14T10:48:44.454Z"
   },
   {
    "duration": 261,
    "start_time": "2023-09-14T10:48:44.490Z"
   },
   {
    "duration": 4,
    "start_time": "2023-09-14T10:48:44.753Z"
   },
   {
    "duration": 68,
    "start_time": "2023-09-14T10:48:44.759Z"
   },
   {
    "duration": 207,
    "start_time": "2023-09-14T10:48:44.828Z"
   },
   {
    "duration": 5,
    "start_time": "2023-09-14T10:48:45.037Z"
   },
   {
    "duration": 51,
    "start_time": "2023-09-14T10:48:45.043Z"
   },
   {
    "duration": 54,
    "start_time": "2023-09-14T10:48:45.097Z"
   },
   {
    "duration": 366,
    "start_time": "2023-09-14T10:48:45.153Z"
   },
   {
    "duration": 10,
    "start_time": "2023-09-14T10:49:47.552Z"
   },
   {
    "duration": 9,
    "start_time": "2023-09-14T10:50:33.600Z"
   },
   {
    "duration": 6,
    "start_time": "2023-09-14T10:53:17.957Z"
   },
   {
    "duration": 1395,
    "start_time": "2023-09-14T11:12:18.451Z"
   },
   {
    "duration": 47,
    "start_time": "2023-09-14T11:12:19.848Z"
   },
   {
    "duration": 16,
    "start_time": "2023-09-14T11:12:19.897Z"
   },
   {
    "duration": 56,
    "start_time": "2023-09-14T11:12:19.916Z"
   },
   {
    "duration": 19,
    "start_time": "2023-09-14T11:12:19.975Z"
   },
   {
    "duration": 39,
    "start_time": "2023-09-14T11:12:19.996Z"
   },
   {
    "duration": 15,
    "start_time": "2023-09-14T11:12:20.037Z"
   },
   {
    "duration": 25,
    "start_time": "2023-09-14T11:12:20.054Z"
   },
   {
    "duration": 30,
    "start_time": "2023-09-14T11:12:20.080Z"
   },
   {
    "duration": 24,
    "start_time": "2023-09-14T11:12:20.112Z"
   },
   {
    "duration": 9,
    "start_time": "2023-09-14T11:12:20.138Z"
   },
   {
    "duration": 28,
    "start_time": "2023-09-14T11:12:20.149Z"
   },
   {
    "duration": 45,
    "start_time": "2023-09-14T11:12:20.179Z"
   },
   {
    "duration": 13,
    "start_time": "2023-09-14T11:12:20.229Z"
   },
   {
    "duration": 28,
    "start_time": "2023-09-14T11:12:20.243Z"
   },
   {
    "duration": 25,
    "start_time": "2023-09-14T11:12:20.273Z"
   },
   {
    "duration": 150,
    "start_time": "2023-09-14T11:12:20.300Z"
   },
   {
    "duration": 92,
    "start_time": "2023-09-14T11:12:20.455Z"
   },
   {
    "duration": 384,
    "start_time": "2023-09-14T11:12:20.549Z"
   },
   {
    "duration": 7,
    "start_time": "2023-09-14T11:12:20.935Z"
   },
   {
    "duration": 21,
    "start_time": "2023-09-14T11:12:20.943Z"
   },
   {
    "duration": 259,
    "start_time": "2023-09-14T11:12:20.966Z"
   },
   {
    "duration": 120,
    "start_time": "2023-09-14T11:12:21.231Z"
   },
   {
    "duration": 226,
    "start_time": "2023-09-14T11:12:21.353Z"
   },
   {
    "duration": 168,
    "start_time": "2023-09-14T11:12:21.586Z"
   },
   {
    "duration": 8,
    "start_time": "2023-09-14T11:12:21.756Z"
   },
   {
    "duration": 323,
    "start_time": "2023-09-14T11:12:21.766Z"
   },
   {
    "duration": 18,
    "start_time": "2023-09-14T11:12:22.091Z"
   },
   {
    "duration": 8,
    "start_time": "2023-09-14T11:12:22.114Z"
   },
   {
    "duration": 34,
    "start_time": "2023-09-14T11:12:22.124Z"
   },
   {
    "duration": 248,
    "start_time": "2023-09-14T11:12:22.160Z"
   },
   {
    "duration": 176,
    "start_time": "2023-09-14T11:12:22.410Z"
   },
   {
    "duration": 42,
    "start_time": "2023-09-14T11:12:22.588Z"
   },
   {
    "duration": 40,
    "start_time": "2023-09-14T11:12:22.632Z"
   },
   {
    "duration": 204,
    "start_time": "2023-09-14T11:12:22.684Z"
   },
   {
    "duration": 332,
    "start_time": "2023-09-14T11:12:22.893Z"
   },
   {
    "duration": 1000,
    "start_time": "2023-09-14T11:12:23.229Z"
   },
   {
    "duration": 49,
    "start_time": "2023-09-14T11:12:24.231Z"
   },
   {
    "duration": 17,
    "start_time": "2023-09-14T11:12:24.283Z"
   },
   {
    "duration": 12,
    "start_time": "2023-09-14T11:12:24.303Z"
   },
   {
    "duration": 15,
    "start_time": "2023-09-14T11:12:24.324Z"
   },
   {
    "duration": 12,
    "start_time": "2023-09-14T11:12:24.341Z"
   },
   {
    "duration": 32,
    "start_time": "2023-09-14T11:12:24.355Z"
   },
   {
    "duration": 46,
    "start_time": "2023-09-14T11:12:24.393Z"
   },
   {
    "duration": 31,
    "start_time": "2023-09-14T11:12:24.441Z"
   },
   {
    "duration": 16,
    "start_time": "2023-09-14T11:12:24.474Z"
   },
   {
    "duration": 70,
    "start_time": "2023-09-14T11:12:24.492Z"
   },
   {
    "duration": 203,
    "start_time": "2023-09-14T11:12:24.564Z"
   },
   {
    "duration": 5,
    "start_time": "2023-09-14T11:12:24.769Z"
   },
   {
    "duration": 32,
    "start_time": "2023-09-14T11:12:24.775Z"
   },
   {
    "duration": 147,
    "start_time": "2023-09-14T11:12:24.810Z"
   },
   {
    "duration": 4,
    "start_time": "2023-09-14T11:12:24.959Z"
   },
   {
    "duration": 26,
    "start_time": "2023-09-14T11:12:24.965Z"
   },
   {
    "duration": 41,
    "start_time": "2023-09-14T11:12:24.993Z"
   },
   {
    "duration": 310,
    "start_time": "2023-09-14T11:12:25.036Z"
   },
   {
    "duration": 47,
    "start_time": "2023-09-15T11:04:28.645Z"
   },
   {
    "duration": 1372,
    "start_time": "2023-09-15T11:04:37.266Z"
   },
   {
    "duration": 96,
    "start_time": "2023-09-15T11:04:38.640Z"
   },
   {
    "duration": 12,
    "start_time": "2023-09-15T11:04:38.739Z"
   },
   {
    "duration": 126,
    "start_time": "2023-09-15T11:04:38.753Z"
   },
   {
    "duration": 12,
    "start_time": "2023-09-15T11:04:38.881Z"
   },
   {
    "duration": 122,
    "start_time": "2023-09-15T11:04:38.895Z"
   },
   {
    "duration": 22,
    "start_time": "2023-09-15T11:04:39.019Z"
   },
   {
    "duration": 75,
    "start_time": "2023-09-15T11:04:39.043Z"
   },
   {
    "duration": 203,
    "start_time": "2023-09-15T11:04:39.119Z"
   },
   {
    "duration": 115,
    "start_time": "2023-09-15T11:04:39.328Z"
   },
   {
    "duration": 215,
    "start_time": "2023-09-15T11:04:39.444Z"
   },
   {
    "duration": 149,
    "start_time": "2023-09-15T11:04:39.661Z"
   },
   {
    "duration": 83,
    "start_time": "2023-09-15T11:04:39.811Z"
   },
   {
    "duration": 43,
    "start_time": "2023-09-15T11:04:39.895Z"
   },
   {
    "duration": 71,
    "start_time": "2023-09-15T11:04:39.939Z"
   },
   {
    "duration": 45,
    "start_time": "2023-09-15T11:04:40.012Z"
   },
   {
    "duration": 57,
    "start_time": "2023-09-15T11:04:40.059Z"
   },
   {
    "duration": 65,
    "start_time": "2023-09-15T11:04:40.117Z"
   },
   {
    "duration": 259,
    "start_time": "2023-09-15T11:04:40.183Z"
   },
   {
    "duration": 5,
    "start_time": "2023-09-15T11:04:40.444Z"
   },
   {
    "duration": 10,
    "start_time": "2023-09-15T11:04:40.451Z"
   },
   {
    "duration": 175,
    "start_time": "2023-09-15T11:04:40.462Z"
   },
   {
    "duration": 103,
    "start_time": "2023-09-15T11:04:40.639Z"
   },
   {
    "duration": 178,
    "start_time": "2023-09-15T11:04:40.743Z"
   },
   {
    "duration": 137,
    "start_time": "2023-09-15T11:04:40.923Z"
   },
   {
    "duration": 7,
    "start_time": "2023-09-15T11:04:41.061Z"
   },
   {
    "duration": 277,
    "start_time": "2023-09-15T11:04:41.069Z"
   },
   {
    "duration": 6,
    "start_time": "2023-09-15T11:04:41.350Z"
   },
   {
    "duration": 59,
    "start_time": "2023-09-15T11:04:41.357Z"
   },
   {
    "duration": 26,
    "start_time": "2023-09-15T11:04:41.418Z"
   },
   {
    "duration": 219,
    "start_time": "2023-09-15T11:04:41.446Z"
   },
   {
    "duration": 162,
    "start_time": "2023-09-15T11:04:41.667Z"
   },
   {
    "duration": 32,
    "start_time": "2023-09-15T11:04:41.832Z"
   },
   {
    "duration": 34,
    "start_time": "2023-09-15T11:04:41.866Z"
   },
   {
    "duration": 264,
    "start_time": "2023-09-15T11:04:41.902Z"
   },
   {
    "duration": 174,
    "start_time": "2023-09-15T11:04:42.167Z"
   },
   {
    "duration": 879,
    "start_time": "2023-09-15T11:04:42.342Z"
   },
   {
    "duration": 48,
    "start_time": "2023-09-15T11:04:43.223Z"
   },
   {
    "duration": 8,
    "start_time": "2023-09-15T11:04:43.273Z"
   },
   {
    "duration": 7,
    "start_time": "2023-09-15T11:04:43.283Z"
   },
   {
    "duration": 45,
    "start_time": "2023-09-15T11:04:43.291Z"
   },
   {
    "duration": 80,
    "start_time": "2023-09-15T11:04:43.339Z"
   },
   {
    "duration": 49,
    "start_time": "2023-09-15T11:04:43.421Z"
   },
   {
    "duration": 72,
    "start_time": "2023-09-15T11:04:43.472Z"
   },
   {
    "duration": 31,
    "start_time": "2023-09-15T11:04:43.546Z"
   },
   {
    "duration": 13,
    "start_time": "2023-09-15T11:04:43.579Z"
   },
   {
    "duration": 21,
    "start_time": "2023-09-15T11:04:43.594Z"
   },
   {
    "duration": 177,
    "start_time": "2023-09-15T11:04:43.617Z"
   },
   {
    "duration": 6,
    "start_time": "2023-09-15T11:04:43.795Z"
   },
   {
    "duration": 20,
    "start_time": "2023-09-15T11:04:43.802Z"
   },
   {
    "duration": 147,
    "start_time": "2023-09-15T11:04:43.824Z"
   },
   {
    "duration": 4,
    "start_time": "2023-09-15T11:04:43.973Z"
   },
   {
    "duration": 11,
    "start_time": "2023-09-15T11:04:43.978Z"
   },
   {
    "duration": 21,
    "start_time": "2023-09-15T11:04:43.990Z"
   },
   {
    "duration": 238,
    "start_time": "2023-09-15T11:04:44.012Z"
   },
   {
    "duration": 50,
    "start_time": "2023-09-15T16:54:03.746Z"
   },
   {
    "duration": 1434,
    "start_time": "2023-09-15T16:54:10.474Z"
   },
   {
    "duration": 86,
    "start_time": "2023-09-15T16:54:11.911Z"
   },
   {
    "duration": 9,
    "start_time": "2023-09-15T16:54:11.999Z"
   },
   {
    "duration": 18,
    "start_time": "2023-09-15T16:54:12.010Z"
   },
   {
    "duration": 91,
    "start_time": "2023-09-15T16:54:12.032Z"
   },
   {
    "duration": 17,
    "start_time": "2023-09-15T16:54:12.126Z"
   },
   {
    "duration": 83,
    "start_time": "2023-09-15T16:54:12.145Z"
   },
   {
    "duration": 16,
    "start_time": "2023-09-15T16:54:12.231Z"
   },
   {
    "duration": 31,
    "start_time": "2023-09-15T16:54:12.249Z"
   },
   {
    "duration": 17,
    "start_time": "2023-09-15T16:54:12.284Z"
   },
   {
    "duration": 9,
    "start_time": "2023-09-15T16:54:12.304Z"
   },
   {
    "duration": 20,
    "start_time": "2023-09-15T16:54:12.316Z"
   },
   {
    "duration": 8,
    "start_time": "2023-09-15T16:54:12.338Z"
   },
   {
    "duration": 15,
    "start_time": "2023-09-15T16:54:12.348Z"
   },
   {
    "duration": 9,
    "start_time": "2023-09-15T16:54:12.366Z"
   },
   {
    "duration": 36,
    "start_time": "2023-09-15T16:54:12.377Z"
   },
   {
    "duration": 44,
    "start_time": "2023-09-15T16:54:12.415Z"
   },
   {
    "duration": 212,
    "start_time": "2023-09-15T16:54:12.461Z"
   },
   {
    "duration": 6,
    "start_time": "2023-09-15T16:54:12.675Z"
   },
   {
    "duration": 20,
    "start_time": "2023-09-15T16:54:12.682Z"
   },
   {
    "duration": 173,
    "start_time": "2023-09-15T16:54:12.704Z"
   },
   {
    "duration": 130,
    "start_time": "2023-09-15T16:54:12.879Z"
   },
   {
    "duration": 200,
    "start_time": "2023-09-15T16:54:13.010Z"
   },
   {
    "duration": 143,
    "start_time": "2023-09-15T16:54:13.211Z"
   },
   {
    "duration": 8,
    "start_time": "2023-09-15T16:54:13.356Z"
   },
   {
    "duration": 284,
    "start_time": "2023-09-15T16:54:13.366Z"
   },
   {
    "duration": 7,
    "start_time": "2023-09-15T16:54:13.652Z"
   },
   {
    "duration": 4,
    "start_time": "2023-09-15T16:54:13.663Z"
   },
   {
    "duration": 6,
    "start_time": "2023-09-15T16:54:13.669Z"
   },
   {
    "duration": 199,
    "start_time": "2023-09-15T16:54:13.677Z"
   },
   {
    "duration": 143,
    "start_time": "2023-09-15T16:54:13.878Z"
   },
   {
    "duration": 25,
    "start_time": "2023-09-15T16:54:14.023Z"
   },
   {
    "duration": 28,
    "start_time": "2023-09-15T16:54:14.050Z"
   },
   {
    "duration": 352,
    "start_time": "2023-09-15T16:54:14.080Z"
   },
   {
    "duration": 598,
    "start_time": "2023-09-15T16:54:14.434Z"
   },
   {
    "duration": 1494,
    "start_time": "2023-09-15T16:54:15.035Z"
   },
   {
    "duration": 43,
    "start_time": "2023-09-15T16:54:16.531Z"
   },
   {
    "duration": 27,
    "start_time": "2023-09-15T16:54:16.576Z"
   },
   {
    "duration": 20,
    "start_time": "2023-09-15T16:54:16.606Z"
   },
   {
    "duration": 46,
    "start_time": "2023-09-15T16:54:16.628Z"
   },
   {
    "duration": 27,
    "start_time": "2023-09-15T16:54:16.676Z"
   },
   {
    "duration": 11,
    "start_time": "2023-09-15T16:54:16.706Z"
   },
   {
    "duration": 42,
    "start_time": "2023-09-15T16:54:16.719Z"
   },
   {
    "duration": 35,
    "start_time": "2023-09-15T16:54:16.764Z"
   },
   {
    "duration": 29,
    "start_time": "2023-09-15T16:54:16.801Z"
   },
   {
    "duration": 33,
    "start_time": "2023-09-15T16:54:16.833Z"
   },
   {
    "duration": 206,
    "start_time": "2023-09-15T16:54:16.868Z"
   },
   {
    "duration": 6,
    "start_time": "2023-09-15T16:54:17.077Z"
   },
   {
    "duration": 50,
    "start_time": "2023-09-15T16:54:17.084Z"
   },
   {
    "duration": 201,
    "start_time": "2023-09-15T16:54:17.136Z"
   },
   {
    "duration": 5,
    "start_time": "2023-09-15T16:54:17.339Z"
   },
   {
    "duration": 62,
    "start_time": "2023-09-15T16:54:17.346Z"
   },
   {
    "duration": 41,
    "start_time": "2023-09-15T16:54:17.409Z"
   },
   {
    "duration": 260,
    "start_time": "2023-09-15T16:54:17.452Z"
   },
   {
    "duration": 34,
    "start_time": "2023-09-15T16:54:39.387Z"
   },
   {
    "duration": 1170,
    "start_time": "2023-09-15T16:54:47.635Z"
   },
   {
    "duration": 3,
    "start_time": "2023-09-15T16:54:48.807Z"
   },
   {
    "duration": 66,
    "start_time": "2023-09-15T16:54:48.812Z"
   },
   {
    "duration": 13,
    "start_time": "2023-09-15T16:54:48.880Z"
   },
   {
    "duration": 57,
    "start_time": "2023-09-15T16:54:48.894Z"
   },
   {
    "duration": 10,
    "start_time": "2023-09-15T16:54:48.953Z"
   },
   {
    "duration": 39,
    "start_time": "2023-09-15T16:54:48.965Z"
   },
   {
    "duration": 10,
    "start_time": "2023-09-15T16:54:49.006Z"
   },
   {
    "duration": 19,
    "start_time": "2023-09-15T16:54:49.018Z"
   },
   {
    "duration": 7,
    "start_time": "2023-09-15T16:54:49.039Z"
   },
   {
    "duration": 21,
    "start_time": "2023-09-15T16:54:49.047Z"
   },
   {
    "duration": 19,
    "start_time": "2023-09-15T16:54:49.070Z"
   },
   {
    "duration": 8,
    "start_time": "2023-09-15T16:54:49.102Z"
   },
   {
    "duration": 13,
    "start_time": "2023-09-15T16:54:49.112Z"
   },
   {
    "duration": 8,
    "start_time": "2023-09-15T16:54:49.127Z"
   },
   {
    "duration": 21,
    "start_time": "2023-09-15T16:54:49.137Z"
   },
   {
    "duration": 31,
    "start_time": "2023-09-15T16:54:49.159Z"
   },
   {
    "duration": 205,
    "start_time": "2023-09-15T16:54:49.192Z"
   },
   {
    "duration": 7,
    "start_time": "2023-09-15T16:54:49.402Z"
   },
   {
    "duration": 10,
    "start_time": "2023-09-15T16:54:49.411Z"
   },
   {
    "duration": 181,
    "start_time": "2023-09-15T16:54:49.423Z"
   },
   {
    "duration": 123,
    "start_time": "2023-09-15T16:54:49.606Z"
   },
   {
    "duration": 196,
    "start_time": "2023-09-15T16:54:49.731Z"
   },
   {
    "duration": 142,
    "start_time": "2023-09-15T16:54:49.929Z"
   },
   {
    "duration": 7,
    "start_time": "2023-09-15T16:54:50.073Z"
   },
   {
    "duration": 312,
    "start_time": "2023-09-15T16:54:50.082Z"
   },
   {
    "duration": 7,
    "start_time": "2023-09-15T16:54:50.396Z"
   },
   {
    "duration": 39,
    "start_time": "2023-09-15T16:54:50.407Z"
   },
   {
    "duration": 45,
    "start_time": "2023-09-15T16:54:50.447Z"
   },
   {
    "duration": 233,
    "start_time": "2023-09-15T16:54:50.495Z"
   },
   {
    "duration": 142,
    "start_time": "2023-09-15T16:54:50.730Z"
   },
   {
    "duration": 40,
    "start_time": "2023-09-15T16:54:50.874Z"
   },
   {
    "duration": 27,
    "start_time": "2023-09-15T16:54:50.916Z"
   },
   {
    "duration": 198,
    "start_time": "2023-09-15T16:54:50.944Z"
   },
   {
    "duration": 269,
    "start_time": "2023-09-15T16:54:51.144Z"
   },
   {
    "duration": 891,
    "start_time": "2023-09-15T16:54:51.416Z"
   },
   {
    "duration": 43,
    "start_time": "2023-09-15T16:54:52.309Z"
   },
   {
    "duration": 11,
    "start_time": "2023-09-15T16:54:52.354Z"
   },
   {
    "duration": 37,
    "start_time": "2023-09-15T16:54:52.367Z"
   },
   {
    "duration": 8,
    "start_time": "2023-09-15T16:54:52.405Z"
   },
   {
    "duration": 31,
    "start_time": "2023-09-15T16:54:52.415Z"
   },
   {
    "duration": 18,
    "start_time": "2023-09-15T16:54:52.448Z"
   },
   {
    "duration": 21,
    "start_time": "2023-09-15T16:54:52.468Z"
   },
   {
    "duration": 21,
    "start_time": "2023-09-15T16:54:52.491Z"
   },
   {
    "duration": 10,
    "start_time": "2023-09-15T16:54:52.514Z"
   },
   {
    "duration": 9,
    "start_time": "2023-09-15T16:54:52.526Z"
   },
   {
    "duration": 282,
    "start_time": "2023-09-15T16:54:52.537Z"
   },
   {
    "duration": 5,
    "start_time": "2023-09-15T16:54:52.821Z"
   },
   {
    "duration": 27,
    "start_time": "2023-09-15T16:54:52.828Z"
   },
   {
    "duration": 284,
    "start_time": "2023-09-15T16:54:52.856Z"
   },
   {
    "duration": 5,
    "start_time": "2023-09-15T16:54:53.142Z"
   },
   {
    "duration": 10,
    "start_time": "2023-09-15T16:54:53.201Z"
   },
   {
    "duration": 23,
    "start_time": "2023-09-15T16:54:53.214Z"
   },
   {
    "duration": 509,
    "start_time": "2023-09-15T16:54:53.239Z"
   },
   {
    "duration": 34,
    "start_time": "2023-09-15T17:03:02.588Z"
   },
   {
    "duration": 50,
    "start_time": "2023-09-15T17:03:53.117Z"
   },
   {
    "duration": 32,
    "start_time": "2023-09-15T17:04:27.885Z"
   },
   {
    "duration": 12,
    "start_time": "2023-09-15T17:06:34.567Z"
   },
   {
    "duration": 6,
    "start_time": "2023-09-15T17:07:17.716Z"
   },
   {
    "duration": 98,
    "start_time": "2023-09-15T17:07:23.246Z"
   },
   {
    "duration": 3,
    "start_time": "2023-09-15T17:07:29.369Z"
   },
   {
    "duration": 3,
    "start_time": "2023-09-15T17:07:33.538Z"
   },
   {
    "duration": 6,
    "start_time": "2023-09-15T17:07:35.624Z"
   },
   {
    "duration": 11,
    "start_time": "2023-09-15T17:07:44.803Z"
   },
   {
    "duration": 10,
    "start_time": "2023-09-15T17:07:52.843Z"
   },
   {
    "duration": 251,
    "start_time": "2023-09-15T17:07:58.354Z"
   },
   {
    "duration": 6,
    "start_time": "2023-09-15T17:08:20.698Z"
   },
   {
    "duration": 8,
    "start_time": "2023-09-15T17:09:32.032Z"
   },
   {
    "duration": 11,
    "start_time": "2023-09-15T17:09:42.338Z"
   },
   {
    "duration": 5,
    "start_time": "2023-09-15T17:09:47.421Z"
   },
   {
    "duration": 12,
    "start_time": "2023-09-15T17:09:52.090Z"
   },
   {
    "duration": 5,
    "start_time": "2023-09-15T17:09:57.449Z"
   },
   {
    "duration": 6,
    "start_time": "2023-09-15T17:10:23.568Z"
   },
   {
    "duration": 87,
    "start_time": "2023-09-15T17:12:06.590Z"
   },
   {
    "duration": 16,
    "start_time": "2023-09-15T17:12:12.502Z"
   },
   {
    "duration": 14,
    "start_time": "2023-09-15T17:12:19.309Z"
   },
   {
    "duration": 179,
    "start_time": "2023-09-15T17:15:05.922Z"
   },
   {
    "duration": 165,
    "start_time": "2023-09-15T17:16:16.441Z"
   },
   {
    "duration": 188,
    "start_time": "2023-09-15T17:16:24.149Z"
   },
   {
    "duration": 163,
    "start_time": "2023-09-15T17:16:42.992Z"
   },
   {
    "duration": 168,
    "start_time": "2023-09-15T17:17:00.736Z"
   },
   {
    "duration": 274,
    "start_time": "2023-09-15T17:17:14.347Z"
   },
   {
    "duration": 159,
    "start_time": "2023-09-15T17:18:39.373Z"
   },
   {
    "duration": 166,
    "start_time": "2023-09-15T17:18:42.730Z"
   },
   {
    "duration": 163,
    "start_time": "2023-09-15T17:19:00.628Z"
   },
   {
    "duration": 167,
    "start_time": "2023-09-15T17:19:04.082Z"
   },
   {
    "duration": 160,
    "start_time": "2023-09-15T17:19:15.547Z"
   },
   {
    "duration": 162,
    "start_time": "2023-09-15T17:19:25.881Z"
   },
   {
    "duration": 184,
    "start_time": "2023-09-15T17:21:00.605Z"
   },
   {
    "duration": 168,
    "start_time": "2023-09-15T17:22:55.083Z"
   },
   {
    "duration": 161,
    "start_time": "2023-09-15T17:23:03.884Z"
   },
   {
    "duration": 161,
    "start_time": "2023-09-15T17:23:12.864Z"
   },
   {
    "duration": 165,
    "start_time": "2023-09-15T17:23:19.862Z"
   },
   {
    "duration": 290,
    "start_time": "2023-09-15T17:27:01.592Z"
   },
   {
    "duration": 216,
    "start_time": "2023-09-15T17:27:27.555Z"
   },
   {
    "duration": 128,
    "start_time": "2023-09-15T17:27:37.867Z"
   },
   {
    "duration": 17,
    "start_time": "2023-09-15T17:30:31.601Z"
   },
   {
    "duration": 17,
    "start_time": "2023-09-15T17:30:38.963Z"
   },
   {
    "duration": 17,
    "start_time": "2023-09-15T17:30:46.871Z"
   },
   {
    "duration": 123,
    "start_time": "2023-09-15T17:30:55.911Z"
   },
   {
    "duration": 134,
    "start_time": "2023-09-15T17:31:00.597Z"
   },
   {
    "duration": 17,
    "start_time": "2023-09-15T17:32:43.292Z"
   },
   {
    "duration": 17,
    "start_time": "2023-09-15T17:34:26.948Z"
   },
   {
    "duration": 16,
    "start_time": "2023-09-15T17:34:35.084Z"
   },
   {
    "duration": 127,
    "start_time": "2023-09-15T17:34:46.187Z"
   },
   {
    "duration": 105,
    "start_time": "2023-09-15T17:35:45.638Z"
   },
   {
    "duration": 3168,
    "start_time": "2023-09-15T17:36:06.355Z"
   },
   {
    "duration": 1786,
    "start_time": "2023-09-15T17:36:17.321Z"
   },
   {
    "duration": 7,
    "start_time": "2023-09-15T17:36:27.971Z"
   },
   {
    "duration": 150,
    "start_time": "2023-09-15T17:36:35.002Z"
   },
   {
    "duration": 152,
    "start_time": "2023-09-15T17:36:43.752Z"
   },
   {
    "duration": 150,
    "start_time": "2023-09-15T17:36:51.314Z"
   },
   {
    "duration": 18,
    "start_time": "2023-09-15T17:37:24.384Z"
   },
   {
    "duration": 144,
    "start_time": "2023-09-15T17:37:38.049Z"
   },
   {
    "duration": 141,
    "start_time": "2023-09-15T17:37:41.149Z"
   },
   {
    "duration": 147,
    "start_time": "2023-09-15T17:37:46.947Z"
   },
   {
    "duration": 190,
    "start_time": "2023-09-15T17:38:56.498Z"
   },
   {
    "duration": 140,
    "start_time": "2023-09-15T17:38:59.739Z"
   },
   {
    "duration": 154,
    "start_time": "2023-09-15T17:39:23.597Z"
   },
   {
    "duration": 143,
    "start_time": "2023-09-15T17:40:11.708Z"
   },
   {
    "duration": 246,
    "start_time": "2023-09-15T17:40:17.207Z"
   },
   {
    "duration": 140,
    "start_time": "2023-09-15T17:42:17.827Z"
   },
   {
    "duration": 135,
    "start_time": "2023-09-15T17:42:22.688Z"
   },
   {
    "duration": 140,
    "start_time": "2023-09-15T17:42:25.984Z"
   },
   {
    "duration": 139,
    "start_time": "2023-09-15T17:42:29.291Z"
   },
   {
    "duration": 147,
    "start_time": "2023-09-15T17:42:42.829Z"
   },
   {
    "duration": 143,
    "start_time": "2023-09-15T17:42:53.311Z"
   },
   {
    "duration": 146,
    "start_time": "2023-09-15T17:43:00.765Z"
   },
   {
    "duration": 140,
    "start_time": "2023-09-15T17:43:03.918Z"
   },
   {
    "duration": 150,
    "start_time": "2023-09-15T17:43:09.523Z"
   },
   {
    "duration": 138,
    "start_time": "2023-09-15T17:43:18.858Z"
   },
   {
    "duration": 150,
    "start_time": "2023-09-15T17:43:25.601Z"
   },
   {
    "duration": 146,
    "start_time": "2023-09-15T17:43:39.401Z"
   },
   {
    "duration": 142,
    "start_time": "2023-09-15T17:43:42.207Z"
   },
   {
    "duration": 261,
    "start_time": "2023-09-15T17:43:44.847Z"
   },
   {
    "duration": 137,
    "start_time": "2023-09-15T17:43:47.884Z"
   },
   {
    "duration": 142,
    "start_time": "2023-09-15T17:43:51.089Z"
   },
   {
    "duration": 148,
    "start_time": "2023-09-15T17:43:54.143Z"
   },
   {
    "duration": 150,
    "start_time": "2023-09-15T17:43:57.442Z"
   },
   {
    "duration": 148,
    "start_time": "2023-09-15T17:44:00.725Z"
   },
   {
    "duration": 142,
    "start_time": "2023-09-15T17:44:03.429Z"
   },
   {
    "duration": 140,
    "start_time": "2023-09-15T17:44:06.082Z"
   },
   {
    "duration": 142,
    "start_time": "2023-09-15T17:44:10.192Z"
   },
   {
    "duration": 151,
    "start_time": "2023-09-15T17:44:13.398Z"
   },
   {
    "duration": 143,
    "start_time": "2023-09-15T17:44:16.725Z"
   },
   {
    "duration": 150,
    "start_time": "2023-09-15T17:44:19.532Z"
   },
   {
    "duration": 139,
    "start_time": "2023-09-15T17:44:21.947Z"
   },
   {
    "duration": 142,
    "start_time": "2023-09-15T17:44:25.475Z"
   },
   {
    "duration": 267,
    "start_time": "2023-09-15T17:45:01.552Z"
   },
   {
    "duration": 153,
    "start_time": "2023-09-15T17:45:04.188Z"
   },
   {
    "duration": 148,
    "start_time": "2023-09-15T17:45:07.453Z"
   },
   {
    "duration": 140,
    "start_time": "2023-09-15T17:45:11.332Z"
   },
   {
    "duration": 158,
    "start_time": "2023-09-15T17:45:18.588Z"
   },
   {
    "duration": 107,
    "start_time": "2023-09-15T17:47:26.531Z"
   },
   {
    "duration": 280,
    "start_time": "2023-09-15T17:50:33.053Z"
   },
   {
    "duration": 166,
    "start_time": "2023-09-15T17:50:40.989Z"
   },
   {
    "duration": 145,
    "start_time": "2023-09-15T17:50:55.682Z"
   },
   {
    "duration": 159,
    "start_time": "2023-09-15T17:51:01.445Z"
   },
   {
    "duration": 158,
    "start_time": "2023-09-15T17:51:25.975Z"
   },
   {
    "duration": 171,
    "start_time": "2023-09-15T17:51:28.595Z"
   },
   {
    "duration": 158,
    "start_time": "2023-09-15T17:51:42.298Z"
   },
   {
    "duration": 144,
    "start_time": "2023-09-15T17:51:45.321Z"
   },
   {
    "duration": 268,
    "start_time": "2023-09-15T17:52:40.149Z"
   },
   {
    "duration": 185,
    "start_time": "2023-09-15T17:52:54.514Z"
   },
   {
    "duration": 149,
    "start_time": "2023-09-15T17:53:10.371Z"
   },
   {
    "duration": 154,
    "start_time": "2023-09-15T17:53:33.643Z"
   },
   {
    "duration": 152,
    "start_time": "2023-09-15T17:53:36.225Z"
   },
   {
    "duration": 14,
    "start_time": "2023-09-15T17:54:40.382Z"
   },
   {
    "duration": 94,
    "start_time": "2023-09-15T18:37:32.056Z"
   },
   {
    "duration": 124,
    "start_time": "2023-09-15T18:37:36.669Z"
   },
   {
    "duration": 156,
    "start_time": "2023-09-15T18:37:44.328Z"
   },
   {
    "duration": 164,
    "start_time": "2023-09-15T18:38:01.680Z"
   },
   {
    "duration": 147,
    "start_time": "2023-09-15T18:38:07.348Z"
   },
   {
    "duration": 162,
    "start_time": "2023-09-15T18:38:39.199Z"
   },
   {
    "duration": 149,
    "start_time": "2023-09-15T18:38:57.487Z"
   },
   {
    "duration": 172,
    "start_time": "2023-09-15T18:39:13.001Z"
   },
   {
    "duration": 165,
    "start_time": "2023-09-15T18:39:41.882Z"
   },
   {
    "duration": 159,
    "start_time": "2023-09-15T18:39:46.616Z"
   },
   {
    "duration": 282,
    "start_time": "2023-09-15T18:39:51.917Z"
   },
   {
    "duration": 164,
    "start_time": "2023-09-15T18:40:39.363Z"
   },
   {
    "duration": 161,
    "start_time": "2023-09-15T18:40:46.747Z"
   },
   {
    "duration": 160,
    "start_time": "2023-09-15T18:40:49.643Z"
   },
   {
    "duration": 168,
    "start_time": "2023-09-15T18:41:18.086Z"
   },
   {
    "duration": 162,
    "start_time": "2023-09-15T18:42:26.299Z"
   },
   {
    "duration": 165,
    "start_time": "2023-09-15T18:42:37.738Z"
   },
   {
    "duration": 177,
    "start_time": "2023-09-15T18:42:42.592Z"
   },
   {
    "duration": 173,
    "start_time": "2023-09-15T18:42:50.402Z"
   },
   {
    "duration": 172,
    "start_time": "2023-09-15T18:42:54.239Z"
   },
   {
    "duration": 163,
    "start_time": "2023-09-15T18:42:58.905Z"
   },
   {
    "duration": 181,
    "start_time": "2023-09-15T18:43:03.458Z"
   },
   {
    "duration": 138,
    "start_time": "2023-09-15T18:45:47.194Z"
   },
   {
    "duration": 337,
    "start_time": "2023-09-15T18:46:00.693Z"
   },
   {
    "duration": 200,
    "start_time": "2023-09-15T18:46:23.679Z"
   },
   {
    "duration": 244,
    "start_time": "2023-09-15T18:46:34.622Z"
   },
   {
    "duration": 194,
    "start_time": "2023-09-15T18:46:49.935Z"
   },
   {
    "duration": 202,
    "start_time": "2023-09-15T18:49:30.830Z"
   },
   {
    "duration": 221,
    "start_time": "2023-09-15T18:49:38.768Z"
   },
   {
    "duration": 159,
    "start_time": "2023-09-15T18:55:18.925Z"
   },
   {
    "duration": 170,
    "start_time": "2023-09-15T18:55:22.898Z"
   },
   {
    "duration": 188,
    "start_time": "2023-09-15T18:55:26.191Z"
   },
   {
    "duration": 198,
    "start_time": "2023-09-15T18:55:42.790Z"
   },
   {
    "duration": 185,
    "start_time": "2023-09-15T18:55:49.791Z"
   },
   {
    "duration": 331,
    "start_time": "2023-09-15T18:56:44.830Z"
   },
   {
    "duration": 187,
    "start_time": "2023-09-15T18:56:51.068Z"
   },
   {
    "duration": 192,
    "start_time": "2023-09-15T18:57:07.487Z"
   },
   {
    "duration": 200,
    "start_time": "2023-09-15T18:57:40.504Z"
   },
   {
    "duration": 193,
    "start_time": "2023-09-15T18:58:07.448Z"
   },
   {
    "duration": 188,
    "start_time": "2023-09-15T18:58:16.786Z"
   },
   {
    "duration": 6,
    "start_time": "2023-09-15T18:58:34.885Z"
   },
   {
    "duration": 6,
    "start_time": "2023-09-15T18:58:41.229Z"
   },
   {
    "duration": 5,
    "start_time": "2023-09-15T18:58:56.023Z"
   },
   {
    "duration": 177,
    "start_time": "2023-09-15T18:59:09.601Z"
   },
   {
    "duration": 179,
    "start_time": "2023-09-15T18:59:14.969Z"
   },
   {
    "duration": 167,
    "start_time": "2023-09-15T18:59:20.125Z"
   },
   {
    "duration": 196,
    "start_time": "2023-09-15T18:59:28.445Z"
   },
   {
    "duration": 268,
    "start_time": "2023-09-15T18:59:34.529Z"
   },
   {
    "duration": 328,
    "start_time": "2023-09-15T18:59:38.984Z"
   },
   {
    "duration": 278,
    "start_time": "2023-09-15T18:59:43.131Z"
   },
   {
    "duration": 292,
    "start_time": "2023-09-15T18:59:49.444Z"
   },
   {
    "duration": 203,
    "start_time": "2023-09-15T18:59:56.016Z"
   },
   {
    "duration": 243,
    "start_time": "2023-09-15T19:00:08.473Z"
   },
   {
    "duration": 6,
    "start_time": "2023-09-15T19:00:23.823Z"
   },
   {
    "duration": 224,
    "start_time": "2023-09-15T19:00:34.141Z"
   },
   {
    "duration": 177,
    "start_time": "2023-09-15T19:01:00.309Z"
   },
   {
    "duration": 208,
    "start_time": "2023-09-15T19:01:16.502Z"
   },
   {
    "duration": 179,
    "start_time": "2023-09-15T19:01:26.624Z"
   },
   {
    "duration": 341,
    "start_time": "2023-09-15T19:01:31.418Z"
   },
   {
    "duration": 190,
    "start_time": "2023-09-15T19:02:18.316Z"
   },
   {
    "duration": 206,
    "start_time": "2023-09-15T19:02:22.969Z"
   },
   {
    "duration": 193,
    "start_time": "2023-09-15T19:02:33.124Z"
   },
   {
    "duration": 208,
    "start_time": "2023-09-15T19:03:11.158Z"
   },
   {
    "duration": 205,
    "start_time": "2023-09-15T19:03:23.930Z"
   },
   {
    "duration": 235,
    "start_time": "2023-09-15T19:04:44.098Z"
   },
   {
    "duration": 183,
    "start_time": "2023-09-15T19:04:58.758Z"
   },
   {
    "duration": 167,
    "start_time": "2023-09-15T19:05:08.182Z"
   },
   {
    "duration": 336,
    "start_time": "2023-09-15T19:10:16.333Z"
   },
   {
    "duration": 471,
    "start_time": "2023-09-15T19:10:19.870Z"
   },
   {
    "duration": 365,
    "start_time": "2023-09-15T19:10:33.677Z"
   },
   {
    "duration": 329,
    "start_time": "2023-09-15T19:10:42.455Z"
   },
   {
    "duration": 345,
    "start_time": "2023-09-15T19:11:46.352Z"
   },
   {
    "duration": 188,
    "start_time": "2023-09-15T19:12:01.929Z"
   },
   {
    "duration": 220,
    "start_time": "2023-09-15T19:14:30.839Z"
   },
   {
    "duration": 206,
    "start_time": "2023-09-15T19:14:46.448Z"
   },
   {
    "duration": 360,
    "start_time": "2023-09-15T19:15:13.438Z"
   },
   {
    "duration": 191,
    "start_time": "2023-09-15T19:15:29.735Z"
   },
   {
    "duration": 189,
    "start_time": "2023-09-15T19:15:33.722Z"
   },
   {
    "duration": 1200,
    "start_time": "2023-09-15T19:15:50.476Z"
   },
   {
    "duration": 2,
    "start_time": "2023-09-15T19:15:51.678Z"
   },
   {
    "duration": 47,
    "start_time": "2023-09-15T19:15:51.682Z"
   },
   {
    "duration": 12,
    "start_time": "2023-09-15T19:15:51.732Z"
   },
   {
    "duration": 57,
    "start_time": "2023-09-15T19:15:51.746Z"
   },
   {
    "duration": 12,
    "start_time": "2023-09-15T19:15:51.806Z"
   },
   {
    "duration": 26,
    "start_time": "2023-09-15T19:15:51.820Z"
   },
   {
    "duration": 19,
    "start_time": "2023-09-15T19:15:51.848Z"
   },
   {
    "duration": 25,
    "start_time": "2023-09-15T19:15:51.870Z"
   },
   {
    "duration": 9,
    "start_time": "2023-09-15T19:15:51.898Z"
   },
   {
    "duration": 70,
    "start_time": "2023-09-15T19:15:51.908Z"
   },
   {
    "duration": 22,
    "start_time": "2023-09-15T19:15:51.980Z"
   },
   {
    "duration": 40,
    "start_time": "2023-09-15T19:15:52.003Z"
   },
   {
    "duration": 150,
    "start_time": "2023-09-15T19:15:52.045Z"
   },
   {
    "duration": 121,
    "start_time": "2023-09-15T19:15:52.197Z"
   },
   {
    "duration": 109,
    "start_time": "2023-09-15T19:15:52.319Z"
   },
   {
    "duration": 49,
    "start_time": "2023-09-15T19:15:52.429Z"
   },
   {
    "duration": 43,
    "start_time": "2023-09-15T19:15:52.480Z"
   },
   {
    "duration": 167,
    "start_time": "2023-09-15T19:15:52.525Z"
   },
   {
    "duration": 6,
    "start_time": "2023-09-15T19:15:52.701Z"
   },
   {
    "duration": 55,
    "start_time": "2023-09-15T19:15:52.708Z"
   },
   {
    "duration": 223,
    "start_time": "2023-09-15T19:15:52.765Z"
   },
   {
    "duration": 115,
    "start_time": "2023-09-15T19:15:52.990Z"
   },
   {
    "duration": 208,
    "start_time": "2023-09-15T19:15:53.106Z"
   },
   {
    "duration": 152,
    "start_time": "2023-09-15T19:15:53.316Z"
   },
   {
    "duration": 9,
    "start_time": "2023-09-15T19:15:53.470Z"
   },
   {
    "duration": 274,
    "start_time": "2023-09-15T19:15:53.480Z"
   },
   {
    "duration": 6,
    "start_time": "2023-09-15T19:15:53.758Z"
   },
   {
    "duration": 29,
    "start_time": "2023-09-15T19:15:53.766Z"
   },
   {
    "duration": 22,
    "start_time": "2023-09-15T19:15:53.797Z"
   },
   {
    "duration": 204,
    "start_time": "2023-09-15T19:15:53.820Z"
   },
   {
    "duration": 134,
    "start_time": "2023-09-15T19:15:54.026Z"
   },
   {
    "duration": 49,
    "start_time": "2023-09-15T19:15:54.162Z"
   },
   {
    "duration": 35,
    "start_time": "2023-09-15T19:15:54.213Z"
   },
   {
    "duration": 323,
    "start_time": "2023-09-15T19:15:54.302Z"
   },
   {
    "duration": 502,
    "start_time": "2023-09-15T19:15:54.629Z"
   },
   {
    "duration": 1678,
    "start_time": "2023-09-15T19:15:55.133Z"
   },
   {
    "duration": 92,
    "start_time": "2023-09-15T19:15:56.813Z"
   },
   {
    "duration": 10,
    "start_time": "2023-09-15T19:15:56.907Z"
   },
   {
    "duration": 33,
    "start_time": "2023-09-15T19:15:56.919Z"
   },
   {
    "duration": 50,
    "start_time": "2023-09-15T19:15:56.953Z"
   },
   {
    "duration": 29,
    "start_time": "2023-09-15T19:15:57.006Z"
   },
   {
    "duration": 6,
    "start_time": "2023-09-15T19:15:57.038Z"
   },
   {
    "duration": 60,
    "start_time": "2023-09-15T19:15:57.046Z"
   },
   {
    "duration": 20,
    "start_time": "2023-09-15T19:15:57.109Z"
   },
   {
    "duration": 73,
    "start_time": "2023-09-15T19:15:57.131Z"
   },
   {
    "duration": 20,
    "start_time": "2023-09-15T19:15:57.206Z"
   },
   {
    "duration": 380,
    "start_time": "2023-09-15T19:15:57.228Z"
   },
   {
    "duration": 6,
    "start_time": "2023-09-15T19:15:57.610Z"
   },
   {
    "duration": 24,
    "start_time": "2023-09-15T19:15:57.619Z"
   },
   {
    "duration": 293,
    "start_time": "2023-09-15T19:15:57.645Z"
   },
   {
    "duration": 4,
    "start_time": "2023-09-15T19:15:57.940Z"
   },
   {
    "duration": 63,
    "start_time": "2023-09-15T19:15:57.945Z"
   },
   {
    "duration": 37,
    "start_time": "2023-09-15T19:15:58.010Z"
   },
   {
    "duration": 281,
    "start_time": "2023-09-15T19:15:58.048Z"
   },
   {
    "duration": 206,
    "start_time": "2023-09-15T19:16:24.553Z"
   },
   {
    "duration": 193,
    "start_time": "2023-09-15T19:16:33.405Z"
   },
   {
    "duration": 185,
    "start_time": "2023-09-15T19:16:44.339Z"
   },
   {
    "duration": 186,
    "start_time": "2023-09-15T19:16:49.296Z"
   },
   {
    "duration": 198,
    "start_time": "2023-09-15T19:16:55.493Z"
   },
   {
    "duration": 193,
    "start_time": "2023-09-15T19:17:00.083Z"
   },
   {
    "duration": 195,
    "start_time": "2023-09-15T19:17:04.382Z"
   },
   {
    "duration": 288,
    "start_time": "2023-09-15T19:17:07.022Z"
   },
   {
    "duration": 279,
    "start_time": "2023-09-15T19:18:19.677Z"
   },
   {
    "duration": 195,
    "start_time": "2023-09-15T19:18:40.933Z"
   },
   {
    "duration": 93,
    "start_time": "2023-09-15T19:18:50.791Z"
   },
   {
    "duration": 198,
    "start_time": "2023-09-15T19:18:53.506Z"
   },
   {
    "duration": 193,
    "start_time": "2023-09-15T19:20:53.849Z"
   },
   {
    "duration": 200,
    "start_time": "2023-09-15T19:20:57.068Z"
   },
   {
    "duration": 185,
    "start_time": "2023-09-15T19:20:59.941Z"
   },
   {
    "duration": 199,
    "start_time": "2023-09-15T19:21:03.894Z"
   },
   {
    "duration": 199,
    "start_time": "2023-09-15T19:21:06.281Z"
   },
   {
    "duration": 516,
    "start_time": "2023-09-15T19:25:12.957Z"
   },
   {
    "duration": 411,
    "start_time": "2023-09-15T19:25:21.940Z"
   },
   {
    "duration": 305,
    "start_time": "2023-09-15T19:25:34.754Z"
   },
   {
    "duration": 15,
    "start_time": "2023-09-15T19:25:48.279Z"
   },
   {
    "duration": 179,
    "start_time": "2023-09-15T19:26:03.944Z"
   },
   {
    "duration": 177,
    "start_time": "2023-09-15T19:26:08.242Z"
   },
   {
    "duration": 261,
    "start_time": "2023-09-15T19:26:14.580Z"
   },
   {
    "duration": 186,
    "start_time": "2023-09-15T19:26:19.539Z"
   },
   {
    "duration": 230,
    "start_time": "2023-09-15T19:46:36.074Z"
   },
   {
    "duration": 198,
    "start_time": "2023-09-15T19:46:58.969Z"
   },
   {
    "duration": 204,
    "start_time": "2023-09-15T19:47:57.902Z"
   },
   {
    "duration": 318,
    "start_time": "2023-09-15T19:48:32.231Z"
   },
   {
    "duration": 172,
    "start_time": "2023-09-15T19:48:50.759Z"
   },
   {
    "duration": 171,
    "start_time": "2023-09-15T19:48:55.858Z"
   },
   {
    "duration": 218,
    "start_time": "2023-09-15T19:49:07.855Z"
   },
   {
    "duration": 201,
    "start_time": "2023-09-15T19:49:20.880Z"
   },
   {
    "duration": 193,
    "start_time": "2023-09-15T19:49:25.213Z"
   },
   {
    "duration": 182,
    "start_time": "2023-09-15T19:49:54.711Z"
   },
   {
    "duration": 184,
    "start_time": "2023-09-15T19:50:20.094Z"
   },
   {
    "duration": 169,
    "start_time": "2023-09-15T19:51:07.973Z"
   },
   {
    "duration": 136,
    "start_time": "2023-09-15T19:52:10.847Z"
   },
   {
    "duration": 148,
    "start_time": "2023-09-15T19:52:29.232Z"
   },
   {
    "duration": 264,
    "start_time": "2023-09-15T19:52:36.069Z"
   },
   {
    "duration": 134,
    "start_time": "2023-09-15T19:52:54.279Z"
   },
   {
    "duration": 16,
    "start_time": "2023-09-15T19:54:00.352Z"
   },
   {
    "duration": 84,
    "start_time": "2023-09-15T19:54:08.812Z"
   },
   {
    "duration": 102,
    "start_time": "2023-09-15T19:54:24.168Z"
   },
   {
    "duration": 112,
    "start_time": "2023-09-15T19:54:30.502Z"
   },
   {
    "duration": 111,
    "start_time": "2023-09-15T19:56:03.311Z"
   },
   {
    "duration": 121,
    "start_time": "2023-09-15T19:56:11.899Z"
   },
   {
    "duration": 118,
    "start_time": "2023-09-15T19:56:53.322Z"
   },
   {
    "duration": 121,
    "start_time": "2023-09-15T19:57:25.386Z"
   },
   {
    "duration": 115,
    "start_time": "2023-09-15T19:57:29.218Z"
   },
   {
    "duration": 148,
    "start_time": "2023-09-15T19:57:34.468Z"
   },
   {
    "duration": 138,
    "start_time": "2023-09-15T19:57:37.885Z"
   },
   {
    "duration": 131,
    "start_time": "2023-09-15T19:58:24.645Z"
   },
   {
    "duration": 111,
    "start_time": "2023-09-15T19:58:29.528Z"
   },
   {
    "duration": 220,
    "start_time": "2023-09-15T19:58:33.344Z"
   },
   {
    "duration": 128,
    "start_time": "2023-09-15T19:58:37.291Z"
   },
   {
    "duration": 115,
    "start_time": "2023-09-15T19:58:41.427Z"
   },
   {
    "duration": 102,
    "start_time": "2023-09-15T19:59:52.329Z"
   },
   {
    "duration": 119,
    "start_time": "2023-09-15T20:00:03.339Z"
   },
   {
    "duration": 107,
    "start_time": "2023-09-15T20:01:47.696Z"
   },
   {
    "duration": 54,
    "start_time": "2023-09-15T20:01:51.550Z"
   },
   {
    "duration": 99,
    "start_time": "2023-09-15T20:01:58.290Z"
   },
   {
    "duration": 78,
    "start_time": "2023-09-15T20:02:02.409Z"
   },
   {
    "duration": 79,
    "start_time": "2023-09-15T20:02:07.194Z"
   },
   {
    "duration": 97,
    "start_time": "2023-09-15T20:02:16.142Z"
   },
   {
    "duration": 5,
    "start_time": "2023-09-15T20:02:22.293Z"
   },
   {
    "duration": 94,
    "start_time": "2023-09-15T20:02:24.789Z"
   },
   {
    "duration": 97,
    "start_time": "2023-09-15T20:02:31.174Z"
   },
   {
    "duration": 129,
    "start_time": "2023-09-15T20:02:34.656Z"
   },
   {
    "duration": 194,
    "start_time": "2023-09-15T20:02:43.054Z"
   },
   {
    "duration": 104,
    "start_time": "2023-09-15T20:02:46.472Z"
   },
   {
    "duration": 19,
    "start_time": "2023-09-15T20:03:08.527Z"
   },
   {
    "duration": 107,
    "start_time": "2023-09-15T20:03:20.080Z"
   },
   {
    "duration": 108,
    "start_time": "2023-09-15T20:03:25.202Z"
   },
   {
    "duration": 107,
    "start_time": "2023-09-15T20:04:46.242Z"
   },
   {
    "duration": 248,
    "start_time": "2023-09-15T20:06:24.855Z"
   },
   {
    "duration": 200,
    "start_time": "2023-09-15T20:06:29.537Z"
   },
   {
    "duration": 228,
    "start_time": "2023-09-15T20:06:37.768Z"
   },
   {
    "duration": 234,
    "start_time": "2023-09-15T20:08:28.276Z"
   },
   {
    "duration": 236,
    "start_time": "2023-09-15T20:09:06.368Z"
   },
   {
    "duration": 234,
    "start_time": "2023-09-15T20:09:30.155Z"
   },
   {
    "duration": 235,
    "start_time": "2023-09-15T20:09:46.437Z"
   },
   {
    "duration": 124,
    "start_time": "2023-09-15T20:11:03.847Z"
   },
   {
    "duration": 269,
    "start_time": "2023-09-15T20:12:18.714Z"
   },
   {
    "duration": 184,
    "start_time": "2023-09-15T20:13:45.459Z"
   },
   {
    "duration": 188,
    "start_time": "2023-09-15T20:14:15.852Z"
   },
   {
    "duration": 198,
    "start_time": "2023-09-15T20:15:12.273Z"
   },
   {
    "duration": 157,
    "start_time": "2023-09-15T20:17:26.851Z"
   },
   {
    "duration": 175,
    "start_time": "2023-09-15T20:17:46.691Z"
   },
   {
    "duration": 170,
    "start_time": "2023-09-15T20:18:00.478Z"
   },
   {
    "duration": 171,
    "start_time": "2023-09-15T20:18:07.897Z"
   },
   {
    "duration": 192,
    "start_time": "2023-09-15T20:18:46.800Z"
   },
   {
    "duration": 167,
    "start_time": "2023-09-15T20:19:06.534Z"
   },
   {
    "duration": 103,
    "start_time": "2023-09-15T20:19:14.203Z"
   },
   {
    "duration": 140,
    "start_time": "2023-09-15T20:19:18.264Z"
   },
   {
    "duration": 258,
    "start_time": "2023-09-15T20:19:23.785Z"
   },
   {
    "duration": 225,
    "start_time": "2023-09-15T20:19:38.423Z"
   },
   {
    "duration": 222,
    "start_time": "2023-09-15T20:19:42.281Z"
   },
   {
    "duration": 145,
    "start_time": "2023-09-15T20:20:08.658Z"
   },
   {
    "duration": 227,
    "start_time": "2023-09-15T20:20:12.931Z"
   },
   {
    "duration": 182,
    "start_time": "2023-09-15T20:20:18.619Z"
   },
   {
    "duration": 218,
    "start_time": "2023-09-15T20:20:24.428Z"
   },
   {
    "duration": 152,
    "start_time": "2023-09-15T20:21:44.271Z"
   },
   {
    "duration": 148,
    "start_time": "2023-09-15T20:21:51.790Z"
   },
   {
    "duration": 147,
    "start_time": "2023-09-15T20:22:06.512Z"
   },
   {
    "duration": 141,
    "start_time": "2023-09-15T20:22:10.836Z"
   },
   {
    "duration": 150,
    "start_time": "2023-09-15T20:25:37.013Z"
   },
   {
    "duration": 157,
    "start_time": "2023-09-15T20:25:48.935Z"
   },
   {
    "duration": 145,
    "start_time": "2023-09-15T20:25:53.277Z"
   },
   {
    "duration": 253,
    "start_time": "2023-09-15T20:25:57.414Z"
   },
   {
    "duration": 177,
    "start_time": "2023-09-15T20:26:32.469Z"
   },
   {
    "duration": 169,
    "start_time": "2023-09-15T20:26:37.906Z"
   },
   {
    "duration": 173,
    "start_time": "2023-09-15T20:27:00.502Z"
   },
   {
    "duration": 166,
    "start_time": "2023-09-15T20:28:31.733Z"
   },
   {
    "duration": 171,
    "start_time": "2023-09-15T20:28:39.336Z"
   },
   {
    "duration": 164,
    "start_time": "2023-09-15T20:28:52.107Z"
   },
   {
    "duration": 167,
    "start_time": "2023-09-15T20:28:58.607Z"
   },
   {
    "duration": 238,
    "start_time": "2023-09-15T20:29:34.491Z"
   },
   {
    "duration": 164,
    "start_time": "2023-09-15T20:29:38.219Z"
   },
   {
    "duration": 184,
    "start_time": "2023-09-15T20:29:42.588Z"
   },
   {
    "duration": 201,
    "start_time": "2023-09-15T20:29:58.584Z"
   },
   {
    "duration": 234,
    "start_time": "2023-09-15T20:31:40.264Z"
   },
   {
    "duration": 232,
    "start_time": "2023-09-15T20:32:09.727Z"
   },
   {
    "duration": 229,
    "start_time": "2023-09-15T20:34:04.442Z"
   },
   {
    "duration": 250,
    "start_time": "2023-09-15T20:34:11.494Z"
   },
   {
    "duration": 140,
    "start_time": "2023-09-15T20:36:01.272Z"
   },
   {
    "duration": 7,
    "start_time": "2023-09-15T20:41:05.026Z"
   },
   {
    "duration": 5,
    "start_time": "2023-09-15T20:41:11.135Z"
   },
   {
    "duration": 64,
    "start_time": "2023-09-16T09:24:12.574Z"
   },
   {
    "duration": 1378,
    "start_time": "2023-09-16T09:24:19.017Z"
   },
   {
    "duration": 2,
    "start_time": "2023-09-16T09:24:20.397Z"
   },
   {
    "duration": 109,
    "start_time": "2023-09-16T09:24:20.401Z"
   },
   {
    "duration": 13,
    "start_time": "2023-09-16T09:24:20.513Z"
   },
   {
    "duration": 134,
    "start_time": "2023-09-16T09:24:20.527Z"
   },
   {
    "duration": 11,
    "start_time": "2023-09-16T09:24:20.663Z"
   },
   {
    "duration": 81,
    "start_time": "2023-09-16T09:24:20.676Z"
   },
   {
    "duration": 11,
    "start_time": "2023-09-16T09:24:20.758Z"
   },
   {
    "duration": 49,
    "start_time": "2023-09-16T09:24:20.771Z"
   },
   {
    "duration": 27,
    "start_time": "2023-09-16T09:24:20.823Z"
   },
   {
    "duration": 15,
    "start_time": "2023-09-16T09:24:20.852Z"
   },
   {
    "duration": 31,
    "start_time": "2023-09-16T09:24:20.868Z"
   },
   {
    "duration": 57,
    "start_time": "2023-09-16T09:24:20.901Z"
   },
   {
    "duration": 24,
    "start_time": "2023-09-16T09:24:20.959Z"
   },
   {
    "duration": 44,
    "start_time": "2023-09-16T09:24:20.985Z"
   },
   {
    "duration": 14,
    "start_time": "2023-09-16T09:24:21.031Z"
   },
   {
    "duration": 32,
    "start_time": "2023-09-16T09:24:21.046Z"
   },
   {
    "duration": 30,
    "start_time": "2023-09-16T09:24:21.080Z"
   },
   {
    "duration": 172,
    "start_time": "2023-09-16T09:24:21.112Z"
   },
   {
    "duration": 6,
    "start_time": "2023-09-16T09:24:21.286Z"
   },
   {
    "duration": 18,
    "start_time": "2023-09-16T09:24:21.293Z"
   },
   {
    "duration": 227,
    "start_time": "2023-09-16T09:24:21.312Z"
   },
   {
    "duration": 0,
    "start_time": "2023-09-16T09:24:21.542Z"
   },
   {
    "duration": 0,
    "start_time": "2023-09-16T09:24:21.543Z"
   },
   {
    "duration": 0,
    "start_time": "2023-09-16T09:24:21.545Z"
   },
   {
    "duration": 0,
    "start_time": "2023-09-16T09:24:21.546Z"
   },
   {
    "duration": 0,
    "start_time": "2023-09-16T09:24:21.547Z"
   },
   {
    "duration": 0,
    "start_time": "2023-09-16T09:24:21.548Z"
   },
   {
    "duration": 0,
    "start_time": "2023-09-16T09:24:21.549Z"
   },
   {
    "duration": 0,
    "start_time": "2023-09-16T09:24:21.550Z"
   },
   {
    "duration": 0,
    "start_time": "2023-09-16T09:24:21.551Z"
   },
   {
    "duration": 0,
    "start_time": "2023-09-16T09:24:21.552Z"
   },
   {
    "duration": 0,
    "start_time": "2023-09-16T09:24:21.553Z"
   },
   {
    "duration": 0,
    "start_time": "2023-09-16T09:24:21.555Z"
   },
   {
    "duration": 0,
    "start_time": "2023-09-16T09:24:21.556Z"
   },
   {
    "duration": 0,
    "start_time": "2023-09-16T09:24:21.557Z"
   },
   {
    "duration": 0,
    "start_time": "2023-09-16T09:24:21.558Z"
   },
   {
    "duration": 0,
    "start_time": "2023-09-16T09:24:21.559Z"
   },
   {
    "duration": 0,
    "start_time": "2023-09-16T09:24:21.560Z"
   },
   {
    "duration": 0,
    "start_time": "2023-09-16T09:24:21.561Z"
   },
   {
    "duration": 0,
    "start_time": "2023-09-16T09:24:21.562Z"
   },
   {
    "duration": 0,
    "start_time": "2023-09-16T09:24:21.563Z"
   },
   {
    "duration": 0,
    "start_time": "2023-09-16T09:24:21.564Z"
   },
   {
    "duration": 0,
    "start_time": "2023-09-16T09:24:21.565Z"
   },
   {
    "duration": 0,
    "start_time": "2023-09-16T09:24:21.610Z"
   },
   {
    "duration": 0,
    "start_time": "2023-09-16T09:24:21.611Z"
   },
   {
    "duration": 0,
    "start_time": "2023-09-16T09:24:21.612Z"
   },
   {
    "duration": 0,
    "start_time": "2023-09-16T09:24:21.613Z"
   },
   {
    "duration": 0,
    "start_time": "2023-09-16T09:24:21.614Z"
   },
   {
    "duration": 0,
    "start_time": "2023-09-16T09:24:21.615Z"
   },
   {
    "duration": 0,
    "start_time": "2023-09-16T09:24:21.616Z"
   },
   {
    "duration": 0,
    "start_time": "2023-09-16T09:24:21.617Z"
   },
   {
    "duration": 0,
    "start_time": "2023-09-16T09:24:21.618Z"
   },
   {
    "duration": 0,
    "start_time": "2023-09-16T09:24:21.618Z"
   },
   {
    "duration": 0,
    "start_time": "2023-09-16T09:24:21.619Z"
   },
   {
    "duration": 0,
    "start_time": "2023-09-16T09:24:21.620Z"
   },
   {
    "duration": 105,
    "start_time": "2023-09-16T09:24:45.151Z"
   },
   {
    "duration": 69,
    "start_time": "2023-09-16T09:36:31.658Z"
   },
   {
    "duration": 69,
    "start_time": "2023-09-16T09:36:46.234Z"
   },
   {
    "duration": 79,
    "start_time": "2023-09-16T09:37:15.756Z"
   },
   {
    "duration": 15,
    "start_time": "2023-09-16T09:37:29.212Z"
   },
   {
    "duration": 85,
    "start_time": "2023-09-16T09:38:04.080Z"
   },
   {
    "duration": 86,
    "start_time": "2023-09-16T09:38:19.093Z"
   },
   {
    "duration": 88,
    "start_time": "2023-09-16T09:38:24.220Z"
   },
   {
    "duration": 86,
    "start_time": "2023-09-16T09:38:27.140Z"
   },
   {
    "duration": 152,
    "start_time": "2023-09-16T09:38:31.487Z"
   },
   {
    "duration": 82,
    "start_time": "2023-09-16T09:38:38.185Z"
   },
   {
    "duration": 177,
    "start_time": "2023-09-16T09:39:24.310Z"
   },
   {
    "duration": 88,
    "start_time": "2023-09-16T09:39:35.456Z"
   },
   {
    "duration": 92,
    "start_time": "2023-09-16T09:40:22.205Z"
   },
   {
    "duration": 85,
    "start_time": "2023-09-16T09:40:30.466Z"
   },
   {
    "duration": 92,
    "start_time": "2023-09-16T09:40:37.148Z"
   },
   {
    "duration": 194,
    "start_time": "2023-09-16T09:40:42.600Z"
   },
   {
    "duration": 88,
    "start_time": "2023-09-16T09:40:44.766Z"
   },
   {
    "duration": 143,
    "start_time": "2023-09-16T09:41:08.019Z"
   },
   {
    "duration": 142,
    "start_time": "2023-09-16T09:43:53.158Z"
   },
   {
    "duration": 156,
    "start_time": "2023-09-16T09:44:02.236Z"
   },
   {
    "duration": 151,
    "start_time": "2023-09-16T09:44:25.529Z"
   },
   {
    "duration": 154,
    "start_time": "2023-09-16T09:44:32.014Z"
   },
   {
    "duration": 224,
    "start_time": "2023-09-16T09:44:35.314Z"
   },
   {
    "duration": 147,
    "start_time": "2023-09-16T09:44:38.788Z"
   },
   {
    "duration": 148,
    "start_time": "2023-09-16T09:44:43.796Z"
   },
   {
    "duration": 143,
    "start_time": "2023-09-16T09:44:50.432Z"
   },
   {
    "duration": 144,
    "start_time": "2023-09-16T09:44:54.286Z"
   },
   {
    "duration": 88,
    "start_time": "2023-09-16T09:45:07.302Z"
   },
   {
    "duration": 88,
    "start_time": "2023-09-16T09:45:23.101Z"
   },
   {
    "duration": 99,
    "start_time": "2023-09-16T09:45:56.154Z"
   },
   {
    "duration": 99,
    "start_time": "2023-09-16T09:46:03.394Z"
   },
   {
    "duration": 106,
    "start_time": "2023-09-16T09:46:05.959Z"
   },
   {
    "duration": 103,
    "start_time": "2023-09-16T09:46:09.090Z"
   },
   {
    "duration": 149,
    "start_time": "2023-09-16T09:46:15.880Z"
   },
   {
    "duration": 87,
    "start_time": "2023-09-16T09:46:20.806Z"
   },
   {
    "duration": 99,
    "start_time": "2023-09-16T09:47:02.216Z"
   },
   {
    "duration": 1210,
    "start_time": "2023-09-16T10:16:50.972Z"
   },
   {
    "duration": 3,
    "start_time": "2023-09-16T10:16:52.184Z"
   },
   {
    "duration": 48,
    "start_time": "2023-09-16T10:16:52.189Z"
   },
   {
    "duration": 12,
    "start_time": "2023-09-16T10:16:52.239Z"
   },
   {
    "duration": 47,
    "start_time": "2023-09-16T10:16:52.253Z"
   },
   {
    "duration": 11,
    "start_time": "2023-09-16T10:16:52.302Z"
   },
   {
    "duration": 22,
    "start_time": "2023-09-16T10:16:52.315Z"
   },
   {
    "duration": 10,
    "start_time": "2023-09-16T10:16:52.339Z"
   },
   {
    "duration": 21,
    "start_time": "2023-09-16T10:16:52.351Z"
   },
   {
    "duration": 7,
    "start_time": "2023-09-16T10:16:52.375Z"
   },
   {
    "duration": 27,
    "start_time": "2023-09-16T10:16:52.384Z"
   },
   {
    "duration": 17,
    "start_time": "2023-09-16T10:16:52.413Z"
   },
   {
    "duration": 16,
    "start_time": "2023-09-16T10:16:52.434Z"
   },
   {
    "duration": 20,
    "start_time": "2023-09-16T10:16:52.452Z"
   },
   {
    "duration": 11,
    "start_time": "2023-09-16T10:16:52.474Z"
   },
   {
    "duration": 26,
    "start_time": "2023-09-16T10:16:52.487Z"
   },
   {
    "duration": 20,
    "start_time": "2023-09-16T10:16:52.516Z"
   },
   {
    "duration": 15,
    "start_time": "2023-09-16T10:16:52.538Z"
   },
   {
    "duration": 196,
    "start_time": "2023-09-16T10:16:52.556Z"
   },
   {
    "duration": 7,
    "start_time": "2023-09-16T10:16:52.755Z"
   },
   {
    "duration": 21,
    "start_time": "2023-09-16T10:16:52.764Z"
   },
   {
    "duration": 101,
    "start_time": "2023-09-16T10:16:52.787Z"
   },
   {
    "duration": 182,
    "start_time": "2023-09-16T10:16:52.890Z"
   },
   {
    "duration": 113,
    "start_time": "2023-09-16T10:16:53.074Z"
   },
   {
    "duration": 207,
    "start_time": "2023-09-16T10:16:53.189Z"
   },
   {
    "duration": 118,
    "start_time": "2023-09-16T10:16:53.398Z"
   },
   {
    "duration": 7,
    "start_time": "2023-09-16T10:16:53.518Z"
   },
   {
    "duration": 280,
    "start_time": "2023-09-16T10:16:53.528Z"
   },
   {
    "duration": 7,
    "start_time": "2023-09-16T10:16:53.810Z"
   },
   {
    "duration": 4,
    "start_time": "2023-09-16T10:16:53.818Z"
   },
   {
    "duration": 12,
    "start_time": "2023-09-16T10:16:53.824Z"
   },
   {
    "duration": 228,
    "start_time": "2023-09-16T10:16:53.837Z"
   },
   {
    "duration": 132,
    "start_time": "2023-09-16T10:16:54.067Z"
   },
   {
    "duration": 30,
    "start_time": "2023-09-16T10:16:54.208Z"
   },
   {
    "duration": 34,
    "start_time": "2023-09-16T10:16:54.240Z"
   },
   {
    "duration": 301,
    "start_time": "2023-09-16T10:16:54.276Z"
   },
   {
    "duration": 203,
    "start_time": "2023-09-16T10:16:54.579Z"
   },
   {
    "duration": 1037,
    "start_time": "2023-09-16T10:16:54.783Z"
   },
   {
    "duration": 93,
    "start_time": "2023-09-16T10:16:55.822Z"
   },
   {
    "duration": 10,
    "start_time": "2023-09-16T10:16:55.917Z"
   },
   {
    "duration": 6,
    "start_time": "2023-09-16T10:16:55.929Z"
   },
   {
    "duration": 9,
    "start_time": "2023-09-16T10:16:55.937Z"
   },
   {
    "duration": 63,
    "start_time": "2023-09-16T10:16:55.948Z"
   },
   {
    "duration": 8,
    "start_time": "2023-09-16T10:16:56.013Z"
   },
   {
    "duration": 16,
    "start_time": "2023-09-16T10:16:56.023Z"
   },
   {
    "duration": 15,
    "start_time": "2023-09-16T10:16:56.041Z"
   },
   {
    "duration": 6,
    "start_time": "2023-09-16T10:16:56.110Z"
   },
   {
    "duration": 12,
    "start_time": "2023-09-16T10:16:56.118Z"
   },
   {
    "duration": 418,
    "start_time": "2023-09-16T10:16:56.132Z"
   },
   {
    "duration": 5,
    "start_time": "2023-09-16T10:16:56.551Z"
   },
   {
    "duration": 6,
    "start_time": "2023-09-16T10:16:56.608Z"
   },
   {
    "duration": 396,
    "start_time": "2023-09-16T10:16:56.616Z"
   },
   {
    "duration": 5,
    "start_time": "2023-09-16T10:16:57.014Z"
   },
   {
    "duration": 8,
    "start_time": "2023-09-16T10:16:57.021Z"
   },
   {
    "duration": 14,
    "start_time": "2023-09-16T10:16:57.031Z"
   },
   {
    "duration": 572,
    "start_time": "2023-09-16T10:16:57.047Z"
   },
   {
    "duration": 76,
    "start_time": "2023-09-16T10:18:16.971Z"
   },
   {
    "duration": 8,
    "start_time": "2023-09-16T10:18:19.283Z"
   },
   {
    "duration": 251,
    "start_time": "2023-09-16T10:18:32.570Z"
   },
   {
    "duration": 282,
    "start_time": "2023-09-16T10:18:38.601Z"
   },
   {
    "duration": 278,
    "start_time": "2023-09-16T10:18:43.216Z"
   },
   {
    "duration": 365,
    "start_time": "2023-09-16T10:18:49.625Z"
   },
   {
    "duration": 216,
    "start_time": "2023-09-16T10:19:14.506Z"
   },
   {
    "duration": 203,
    "start_time": "2023-09-16T10:28:52.972Z"
   },
   {
    "duration": 133,
    "start_time": "2023-09-16T10:29:30.444Z"
   },
   {
    "duration": 119,
    "start_time": "2023-09-16T10:29:44.243Z"
   },
   {
    "duration": 134,
    "start_time": "2023-09-16T10:30:15.853Z"
   },
   {
    "duration": 129,
    "start_time": "2023-09-16T10:30:38.555Z"
   },
   {
    "duration": 105,
    "start_time": "2023-09-16T10:30:46.154Z"
   },
   {
    "duration": 7,
    "start_time": "2023-09-16T10:41:16.054Z"
   },
   {
    "duration": 8,
    "start_time": "2023-09-16T10:41:24.960Z"
   },
   {
    "duration": 269,
    "start_time": "2023-09-16T10:46:33.305Z"
   },
   {
    "duration": 174,
    "start_time": "2023-09-16T10:46:39.595Z"
   },
   {
    "duration": 247,
    "start_time": "2023-09-16T10:46:52.391Z"
   },
   {
    "duration": 352,
    "start_time": "2023-09-16T10:48:33.903Z"
   },
   {
    "duration": 24,
    "start_time": "2023-09-16T10:51:12.191Z"
   },
   {
    "duration": 10,
    "start_time": "2023-09-16T10:51:31.105Z"
   },
   {
    "duration": 213,
    "start_time": "2023-09-16T10:51:35.599Z"
   },
   {
    "duration": 15,
    "start_time": "2023-09-16T10:54:20.036Z"
   },
   {
    "duration": 132,
    "start_time": "2023-09-16T10:54:30.672Z"
   },
   {
    "duration": 176,
    "start_time": "2023-09-16T10:56:04.379Z"
   },
   {
    "duration": 180,
    "start_time": "2023-09-16T11:00:20.874Z"
   },
   {
    "duration": 183,
    "start_time": "2023-09-16T11:00:31.521Z"
   },
   {
    "duration": 62,
    "start_time": "2023-09-16T11:02:01.991Z"
   },
   {
    "duration": 40,
    "start_time": "2023-09-16T11:02:08.243Z"
   },
   {
    "duration": 41,
    "start_time": "2023-09-16T11:02:20.377Z"
   },
   {
    "duration": 117,
    "start_time": "2023-09-16T11:02:28.989Z"
   },
   {
    "duration": 163,
    "start_time": "2023-09-16T11:02:38.506Z"
   },
   {
    "duration": 104,
    "start_time": "2023-09-16T11:02:44.037Z"
   },
   {
    "duration": 107,
    "start_time": "2023-09-16T11:03:49.343Z"
   },
   {
    "duration": 109,
    "start_time": "2023-09-16T11:04:30.919Z"
   },
   {
    "duration": 122,
    "start_time": "2023-09-16T11:04:35.259Z"
   },
   {
    "duration": 122,
    "start_time": "2023-09-16T11:05:35.520Z"
   },
   {
    "duration": 123,
    "start_time": "2023-09-16T11:05:39.278Z"
   },
   {
    "duration": 130,
    "start_time": "2023-09-16T11:05:53.407Z"
   },
   {
    "duration": 144,
    "start_time": "2023-09-16T11:06:05.884Z"
   },
   {
    "duration": 143,
    "start_time": "2023-09-16T11:06:16.373Z"
   },
   {
    "duration": 14,
    "start_time": "2023-09-16T11:06:41.287Z"
   },
   {
    "duration": 13,
    "start_time": "2023-09-16T11:06:43.716Z"
   },
   {
    "duration": 13,
    "start_time": "2023-09-16T11:06:46.628Z"
   },
   {
    "duration": 132,
    "start_time": "2023-09-16T11:06:49.292Z"
   },
   {
    "duration": 247,
    "start_time": "2023-09-16T11:07:14.500Z"
   },
   {
    "duration": 136,
    "start_time": "2023-09-16T11:07:27.069Z"
   },
   {
    "duration": 141,
    "start_time": "2023-09-16T11:07:38.733Z"
   },
   {
    "duration": 5,
    "start_time": "2023-09-16T11:08:30.669Z"
   },
   {
    "duration": 7,
    "start_time": "2023-09-16T11:08:32.717Z"
   },
   {
    "duration": 9,
    "start_time": "2023-09-16T11:08:39.942Z"
   },
   {
    "duration": 145,
    "start_time": "2023-09-16T11:12:27.564Z"
   },
   {
    "duration": 8,
    "start_time": "2023-09-16T11:18:08.686Z"
   },
   {
    "duration": 8,
    "start_time": "2023-09-16T11:18:13.931Z"
   },
   {
    "duration": 9,
    "start_time": "2023-09-16T11:32:21.992Z"
   },
   {
    "duration": 5,
    "start_time": "2023-09-16T11:32:25.294Z"
   },
   {
    "duration": 12,
    "start_time": "2023-09-16T11:34:22.398Z"
   },
   {
    "duration": 211,
    "start_time": "2023-09-16T11:39:50.016Z"
   },
   {
    "duration": 247,
    "start_time": "2023-09-16T11:39:58.007Z"
   },
   {
    "duration": 242,
    "start_time": "2023-09-16T11:40:12.702Z"
   },
   {
    "duration": 269,
    "start_time": "2023-09-16T11:40:19.959Z"
   },
   {
    "duration": 344,
    "start_time": "2023-09-16T11:47:00.358Z"
   },
   {
    "duration": 9,
    "start_time": "2023-09-16T11:49:16.150Z"
   },
   {
    "duration": 13,
    "start_time": "2023-09-16T11:49:40.490Z"
   },
   {
    "duration": 13,
    "start_time": "2023-09-16T11:50:08.163Z"
   },
   {
    "duration": 324,
    "start_time": "2023-09-16T11:52:09.396Z"
   },
   {
    "duration": 292,
    "start_time": "2023-09-16T11:52:18.053Z"
   },
   {
    "duration": 300,
    "start_time": "2023-09-16T11:52:26.174Z"
   },
   {
    "duration": 9,
    "start_time": "2023-09-16T12:01:01.236Z"
   },
   {
    "duration": 4,
    "start_time": "2023-09-16T12:01:12.091Z"
   },
   {
    "duration": 28,
    "start_time": "2023-09-16T12:01:15.638Z"
   },
   {
    "duration": 20,
    "start_time": "2023-09-16T12:01:38.521Z"
   },
   {
    "duration": 21,
    "start_time": "2023-09-16T12:01:46.210Z"
   },
   {
    "duration": 14,
    "start_time": "2023-09-16T12:01:54.414Z"
   },
   {
    "duration": 14,
    "start_time": "2023-09-16T12:02:37.825Z"
   },
   {
    "duration": 7,
    "start_time": "2023-09-16T12:02:49.486Z"
   },
   {
    "duration": 8,
    "start_time": "2023-09-16T12:03:04.399Z"
   },
   {
    "duration": 6,
    "start_time": "2023-09-16T12:03:13.298Z"
   },
   {
    "duration": 949,
    "start_time": "2023-09-16T12:03:43.787Z"
   },
   {
    "duration": 41,
    "start_time": "2023-09-16T12:04:08.698Z"
   },
   {
    "duration": 8,
    "start_time": "2023-09-16T12:06:15.233Z"
   },
   {
    "duration": 16,
    "start_time": "2023-09-16T12:09:55.343Z"
   },
   {
    "duration": 6,
    "start_time": "2023-09-16T12:12:17.069Z"
   },
   {
    "duration": 10,
    "start_time": "2023-09-16T12:12:28.586Z"
   },
   {
    "duration": 18,
    "start_time": "2023-09-16T12:12:39.715Z"
   },
   {
    "duration": 17,
    "start_time": "2023-09-16T12:13:08.229Z"
   },
   {
    "duration": 16,
    "start_time": "2023-09-16T12:14:44.633Z"
   },
   {
    "duration": 17,
    "start_time": "2023-09-16T12:14:53.865Z"
   },
   {
    "duration": 17,
    "start_time": "2023-09-16T12:15:05.168Z"
   },
   {
    "duration": 7,
    "start_time": "2023-09-16T12:19:03.811Z"
   },
   {
    "duration": 91,
    "start_time": "2023-09-16T12:19:31.646Z"
   },
   {
    "duration": 19,
    "start_time": "2023-09-16T12:20:03.161Z"
   },
   {
    "duration": 23,
    "start_time": "2023-09-16T12:22:02.601Z"
   },
   {
    "duration": 18,
    "start_time": "2023-09-16T12:22:52.738Z"
   },
   {
    "duration": 23,
    "start_time": "2023-09-16T12:24:06.348Z"
   },
   {
    "duration": 16,
    "start_time": "2023-09-16T12:40:40.585Z"
   },
   {
    "duration": 20,
    "start_time": "2023-09-16T12:42:56.294Z"
   },
   {
    "duration": 23,
    "start_time": "2023-09-16T12:43:15.613Z"
   },
   {
    "duration": 6,
    "start_time": "2023-09-16T12:43:44.188Z"
   },
   {
    "duration": 19,
    "start_time": "2023-09-16T12:43:48.203Z"
   },
   {
    "duration": 176,
    "start_time": "2023-09-16T12:44:45.461Z"
   },
   {
    "duration": 154,
    "start_time": "2023-09-16T12:45:46.060Z"
   },
   {
    "duration": 219,
    "start_time": "2023-09-16T12:46:57.267Z"
   },
   {
    "duration": 14,
    "start_time": "2023-09-16T12:48:23.140Z"
   },
   {
    "duration": 21,
    "start_time": "2023-09-16T12:50:01.788Z"
   },
   {
    "duration": 17,
    "start_time": "2023-09-16T12:59:21.099Z"
   },
   {
    "duration": 22,
    "start_time": "2023-09-16T12:59:25.576Z"
   },
   {
    "duration": 18,
    "start_time": "2023-09-16T12:59:49.275Z"
   },
   {
    "duration": 1574,
    "start_time": "2023-09-16T13:01:08.885Z"
   },
   {
    "duration": 1485,
    "start_time": "2023-09-16T13:01:22.291Z"
   },
   {
    "duration": 23,
    "start_time": "2023-09-16T13:01:35.336Z"
   },
   {
    "duration": 24,
    "start_time": "2023-09-16T13:01:40.500Z"
   },
   {
    "duration": 22,
    "start_time": "2023-09-16T13:01:51.233Z"
   },
   {
    "duration": 28,
    "start_time": "2023-09-16T13:01:55.702Z"
   },
   {
    "duration": 18,
    "start_time": "2023-09-16T13:03:54.856Z"
   },
   {
    "duration": 30,
    "start_time": "2023-09-16T13:03:59.952Z"
   },
   {
    "duration": 34,
    "start_time": "2023-09-16T13:06:32.387Z"
   },
   {
    "duration": 23,
    "start_time": "2023-09-16T13:07:49.346Z"
   },
   {
    "duration": 28,
    "start_time": "2023-09-16T13:08:01.009Z"
   },
   {
    "duration": 22,
    "start_time": "2023-09-16T13:08:52.715Z"
   },
   {
    "duration": 18,
    "start_time": "2023-09-16T13:09:15.576Z"
   },
   {
    "duration": 17,
    "start_time": "2023-09-16T13:09:35.032Z"
   },
   {
    "duration": 21,
    "start_time": "2023-09-16T13:10:05.282Z"
   },
   {
    "duration": 16,
    "start_time": "2023-09-16T13:12:06.335Z"
   },
   {
    "duration": 19,
    "start_time": "2023-09-16T13:12:14.328Z"
   },
   {
    "duration": 16,
    "start_time": "2023-09-16T13:13:41.372Z"
   },
   {
    "duration": 16,
    "start_time": "2023-09-16T13:13:55.847Z"
   },
   {
    "duration": 17,
    "start_time": "2023-09-16T13:14:13.724Z"
   },
   {
    "duration": 23,
    "start_time": "2023-09-16T13:19:29.164Z"
   },
   {
    "duration": 13,
    "start_time": "2023-09-16T13:22:26.007Z"
   },
   {
    "duration": 29,
    "start_time": "2023-09-16T16:38:18.210Z"
   },
   {
    "duration": 17,
    "start_time": "2023-09-16T16:39:30.540Z"
   },
   {
    "duration": 8,
    "start_time": "2023-09-16T16:40:05.535Z"
   },
   {
    "duration": 30,
    "start_time": "2023-09-16T16:40:12.517Z"
   },
   {
    "duration": 22,
    "start_time": "2023-09-16T16:40:37.347Z"
   },
   {
    "duration": 27,
    "start_time": "2023-09-16T16:41:14.323Z"
   },
   {
    "duration": 9,
    "start_time": "2023-09-16T16:45:25.284Z"
   },
   {
    "duration": 37,
    "start_time": "2023-09-16T16:45:33.200Z"
   },
   {
    "duration": 21,
    "start_time": "2023-09-16T16:46:09.304Z"
   },
   {
    "duration": 7,
    "start_time": "2023-09-16T16:46:21.943Z"
   },
   {
    "duration": 6,
    "start_time": "2023-09-16T16:46:37.753Z"
   },
   {
    "duration": 6,
    "start_time": "2023-09-16T16:46:44.169Z"
   },
   {
    "duration": 6,
    "start_time": "2023-09-16T16:46:51.393Z"
   },
   {
    "duration": 8,
    "start_time": "2023-09-16T16:47:00.532Z"
   },
   {
    "duration": 7,
    "start_time": "2023-09-16T16:47:06.712Z"
   },
   {
    "duration": 12,
    "start_time": "2023-09-16T16:49:02.690Z"
   },
   {
    "duration": 16,
    "start_time": "2023-09-16T16:54:29.979Z"
   },
   {
    "duration": 1441,
    "start_time": "2023-09-16T16:55:57.685Z"
   },
   {
    "duration": 13,
    "start_time": "2023-09-16T16:55:59.132Z"
   },
   {
    "duration": 42,
    "start_time": "2023-09-16T16:55:59.152Z"
   },
   {
    "duration": 18,
    "start_time": "2023-09-16T16:55:59.197Z"
   },
   {
    "duration": 57,
    "start_time": "2023-09-16T16:55:59.217Z"
   },
   {
    "duration": 20,
    "start_time": "2023-09-16T16:55:59.276Z"
   },
   {
    "duration": 38,
    "start_time": "2023-09-16T16:55:59.299Z"
   },
   {
    "duration": 14,
    "start_time": "2023-09-16T16:55:59.338Z"
   },
   {
    "duration": 33,
    "start_time": "2023-09-16T16:55:59.354Z"
   },
   {
    "duration": 7,
    "start_time": "2023-09-16T16:55:59.390Z"
   },
   {
    "duration": 8,
    "start_time": "2023-09-16T16:55:59.399Z"
   },
   {
    "duration": 25,
    "start_time": "2023-09-16T16:55:59.410Z"
   },
   {
    "duration": 24,
    "start_time": "2023-09-16T16:55:59.437Z"
   },
   {
    "duration": 9,
    "start_time": "2023-09-16T16:55:59.463Z"
   },
   {
    "duration": 16,
    "start_time": "2023-09-16T16:55:59.474Z"
   },
   {
    "duration": 30,
    "start_time": "2023-09-16T16:55:59.515Z"
   },
   {
    "duration": 8,
    "start_time": "2023-09-16T16:55:59.547Z"
   },
   {
    "duration": 12,
    "start_time": "2023-09-16T16:55:59.558Z"
   },
   {
    "duration": 301,
    "start_time": "2023-09-16T16:55:59.573Z"
   },
   {
    "duration": 9,
    "start_time": "2023-09-16T16:55:59.878Z"
   },
   {
    "duration": 9,
    "start_time": "2023-09-16T16:55:59.889Z"
   },
   {
    "duration": 148,
    "start_time": "2023-09-16T16:55:59.909Z"
   },
   {
    "duration": 316,
    "start_time": "2023-09-16T16:56:00.061Z"
   },
   {
    "duration": 141,
    "start_time": "2023-09-16T16:56:00.380Z"
   },
   {
    "duration": 265,
    "start_time": "2023-09-16T16:56:00.523Z"
   },
   {
    "duration": 177,
    "start_time": "2023-09-16T16:56:00.790Z"
   },
   {
    "duration": 253,
    "start_time": "2023-09-16T16:56:00.970Z"
   },
   {
    "duration": 140,
    "start_time": "2023-09-16T16:56:01.228Z"
   },
   {
    "duration": 9,
    "start_time": "2023-09-16T16:56:01.370Z"
   },
   {
    "duration": 352,
    "start_time": "2023-09-16T16:56:01.381Z"
   },
   {
    "duration": 333,
    "start_time": "2023-09-16T16:56:01.735Z"
   },
   {
    "duration": 8,
    "start_time": "2023-09-16T16:56:02.070Z"
   },
   {
    "duration": 172,
    "start_time": "2023-09-16T16:56:02.079Z"
   },
   {
    "duration": 27,
    "start_time": "2023-09-16T16:56:02.253Z"
   },
   {
    "duration": 5,
    "start_time": "2023-09-16T16:56:02.282Z"
   },
   {
    "duration": 68,
    "start_time": "2023-09-16T16:56:02.288Z"
   },
   {
    "duration": 74,
    "start_time": "2023-09-16T16:56:02.358Z"
   },
   {
    "duration": 452,
    "start_time": "2023-09-16T16:56:02.435Z"
   },
   {
    "duration": 404,
    "start_time": "2023-09-16T16:56:02.890Z"
   },
   {
    "duration": 23,
    "start_time": "2023-09-16T16:56:03.296Z"
   },
   {
    "duration": 14,
    "start_time": "2023-09-16T16:56:03.324Z"
   },
   {
    "duration": 80,
    "start_time": "2023-09-16T16:56:03.340Z"
   },
   {
    "duration": 12,
    "start_time": "2023-09-16T16:56:03.429Z"
   },
   {
    "duration": 47,
    "start_time": "2023-09-16T16:56:03.444Z"
   },
   {
    "duration": 296,
    "start_time": "2023-09-16T16:56:03.492Z"
   },
   {
    "duration": 34,
    "start_time": "2023-09-16T16:56:03.790Z"
   },
   {
    "duration": 17,
    "start_time": "2023-09-16T16:56:03.833Z"
   },
   {
    "duration": 28,
    "start_time": "2023-09-16T16:56:03.853Z"
   },
   {
    "duration": 31,
    "start_time": "2023-09-16T16:56:03.883Z"
   },
   {
    "duration": 136,
    "start_time": "2023-09-16T16:56:03.916Z"
   },
   {
    "duration": 0,
    "start_time": "2023-09-16T16:56:04.054Z"
   },
   {
    "duration": 0,
    "start_time": "2023-09-16T16:56:04.056Z"
   },
   {
    "duration": 0,
    "start_time": "2023-09-16T16:56:04.057Z"
   },
   {
    "duration": 0,
    "start_time": "2023-09-16T16:56:04.059Z"
   },
   {
    "duration": 0,
    "start_time": "2023-09-16T16:56:04.060Z"
   },
   {
    "duration": 0,
    "start_time": "2023-09-16T16:56:04.061Z"
   },
   {
    "duration": 0,
    "start_time": "2023-09-16T16:56:04.062Z"
   },
   {
    "duration": 0,
    "start_time": "2023-09-16T16:56:04.064Z"
   },
   {
    "duration": 0,
    "start_time": "2023-09-16T16:56:04.065Z"
   },
   {
    "duration": 0,
    "start_time": "2023-09-16T16:56:04.067Z"
   },
   {
    "duration": 0,
    "start_time": "2023-09-16T16:56:04.068Z"
   },
   {
    "duration": 0,
    "start_time": "2023-09-16T16:56:04.070Z"
   },
   {
    "duration": 101,
    "start_time": "2023-09-16T16:57:09.197Z"
   },
   {
    "duration": 27,
    "start_time": "2023-09-16T16:57:13.009Z"
   },
   {
    "duration": 9,
    "start_time": "2023-09-16T16:58:57.819Z"
   },
   {
    "duration": 29,
    "start_time": "2023-09-16T16:59:00.748Z"
   },
   {
    "duration": 19,
    "start_time": "2023-09-16T17:01:39.087Z"
   },
   {
    "duration": 24,
    "start_time": "2023-09-16T17:02:50.434Z"
   },
   {
    "duration": 344,
    "start_time": "2023-09-16T17:03:45.998Z"
   },
   {
    "duration": 213,
    "start_time": "2023-09-16T17:04:48.572Z"
   },
   {
    "duration": 222,
    "start_time": "2023-09-16T17:04:54.857Z"
   },
   {
    "duration": 248,
    "start_time": "2023-09-16T17:05:06.370Z"
   },
   {
    "duration": 321,
    "start_time": "2023-09-16T17:05:37.155Z"
   },
   {
    "duration": 311,
    "start_time": "2023-09-16T17:05:47.401Z"
   },
   {
    "duration": 23,
    "start_time": "2023-09-16T17:06:02.131Z"
   },
   {
    "duration": 304,
    "start_time": "2023-09-16T17:06:51.143Z"
   },
   {
    "duration": 299,
    "start_time": "2023-09-16T17:06:58.736Z"
   },
   {
    "duration": 303,
    "start_time": "2023-09-16T17:07:11.853Z"
   },
   {
    "duration": 307,
    "start_time": "2023-09-16T17:08:23.651Z"
   },
   {
    "duration": 299,
    "start_time": "2023-09-16T17:08:41.268Z"
   },
   {
    "duration": 1308,
    "start_time": "2023-09-16T17:13:05.734Z"
   },
   {
    "duration": 14,
    "start_time": "2023-09-16T17:13:07.047Z"
   },
   {
    "duration": 45,
    "start_time": "2023-09-16T17:13:07.062Z"
   },
   {
    "duration": 39,
    "start_time": "2023-09-16T17:13:07.109Z"
   },
   {
    "duration": 42,
    "start_time": "2023-09-16T17:13:07.155Z"
   },
   {
    "duration": 14,
    "start_time": "2023-09-16T17:13:07.199Z"
   },
   {
    "duration": 37,
    "start_time": "2023-09-16T17:13:07.225Z"
   },
   {
    "duration": 11,
    "start_time": "2023-09-16T17:13:07.263Z"
   },
   {
    "duration": 15,
    "start_time": "2023-09-16T17:13:07.276Z"
   },
   {
    "duration": 6,
    "start_time": "2023-09-16T17:13:07.292Z"
   },
   {
    "duration": 27,
    "start_time": "2023-09-16T17:13:07.300Z"
   },
   {
    "duration": 9,
    "start_time": "2023-09-16T17:13:07.328Z"
   },
   {
    "duration": 27,
    "start_time": "2023-09-16T17:13:07.339Z"
   },
   {
    "duration": 6,
    "start_time": "2023-09-16T17:13:07.370Z"
   },
   {
    "duration": 12,
    "start_time": "2023-09-16T17:13:07.378Z"
   },
   {
    "duration": 10,
    "start_time": "2023-09-16T17:13:07.391Z"
   },
   {
    "duration": 33,
    "start_time": "2023-09-16T17:13:07.419Z"
   },
   {
    "duration": 10,
    "start_time": "2023-09-16T17:13:07.454Z"
   },
   {
    "duration": 207,
    "start_time": "2023-09-16T17:13:07.466Z"
   },
   {
    "duration": 6,
    "start_time": "2023-09-16T17:13:07.675Z"
   },
   {
    "duration": 9,
    "start_time": "2023-09-16T17:13:07.683Z"
   },
   {
    "duration": 131,
    "start_time": "2023-09-16T17:13:07.693Z"
   },
   {
    "duration": 231,
    "start_time": "2023-09-16T17:13:07.833Z"
   },
   {
    "duration": 158,
    "start_time": "2023-09-16T17:13:08.067Z"
   },
   {
    "duration": 273,
    "start_time": "2023-09-16T17:13:08.227Z"
   },
   {
    "duration": 185,
    "start_time": "2023-09-16T17:13:08.503Z"
   },
   {
    "duration": 258,
    "start_time": "2023-09-16T17:13:08.690Z"
   },
   {
    "duration": 140,
    "start_time": "2023-09-16T17:13:08.958Z"
   },
   {
    "duration": 24,
    "start_time": "2023-09-16T17:13:09.100Z"
   },
   {
    "duration": 320,
    "start_time": "2023-09-16T17:13:09.127Z"
   },
   {
    "duration": 325,
    "start_time": "2023-09-16T17:13:09.455Z"
   },
   {
    "duration": 7,
    "start_time": "2023-09-16T17:13:09.782Z"
   },
   {
    "duration": 160,
    "start_time": "2023-09-16T17:13:09.791Z"
   },
   {
    "duration": 29,
    "start_time": "2023-09-16T17:13:09.953Z"
   },
   {
    "duration": 5,
    "start_time": "2023-09-16T17:13:09.984Z"
   },
   {
    "duration": 44,
    "start_time": "2023-09-16T17:13:09.990Z"
   },
   {
    "duration": 38,
    "start_time": "2023-09-16T17:13:10.038Z"
   },
   {
    "duration": 371,
    "start_time": "2023-09-16T17:13:10.078Z"
   },
   {
    "duration": 376,
    "start_time": "2023-09-16T17:13:10.458Z"
   },
   {
    "duration": 15,
    "start_time": "2023-09-16T17:13:10.836Z"
   },
   {
    "duration": 46,
    "start_time": "2023-09-16T17:13:10.856Z"
   },
   {
    "duration": 64,
    "start_time": "2023-09-16T17:13:10.904Z"
   },
   {
    "duration": 8,
    "start_time": "2023-09-16T17:13:10.970Z"
   },
   {
    "duration": 53,
    "start_time": "2023-09-16T17:13:10.980Z"
   },
   {
    "duration": 284,
    "start_time": "2023-09-16T17:13:11.035Z"
   },
   {
    "duration": 29,
    "start_time": "2023-09-16T17:13:11.327Z"
   },
   {
    "duration": 11,
    "start_time": "2023-09-16T17:13:11.358Z"
   },
   {
    "duration": 27,
    "start_time": "2023-09-16T17:13:11.372Z"
   },
   {
    "duration": 7,
    "start_time": "2023-09-16T17:13:11.409Z"
   },
   {
    "duration": 22,
    "start_time": "2023-09-16T17:13:11.418Z"
   },
   {
    "duration": 324,
    "start_time": "2023-09-16T17:13:11.441Z"
   },
   {
    "duration": 6,
    "start_time": "2023-09-16T17:13:11.767Z"
   },
   {
    "duration": 6,
    "start_time": "2023-09-16T17:13:11.775Z"
   },
   {
    "duration": 276,
    "start_time": "2023-09-16T17:13:11.782Z"
   },
   {
    "duration": 5,
    "start_time": "2023-09-16T17:13:12.061Z"
   },
   {
    "duration": 10,
    "start_time": "2023-09-16T17:13:12.067Z"
   },
   {
    "duration": 16,
    "start_time": "2023-09-16T17:13:12.079Z"
   },
   {
    "duration": 355,
    "start_time": "2023-09-16T17:13:12.097Z"
   },
   {
    "duration": 260,
    "start_time": "2023-09-16T17:22:23.844Z"
   },
   {
    "duration": 5,
    "start_time": "2023-09-16T17:22:28.467Z"
   },
   {
    "duration": 5,
    "start_time": "2023-09-16T17:23:09.898Z"
   },
   {
    "duration": 6,
    "start_time": "2023-09-16T17:30:20.798Z"
   },
   {
    "duration": 7,
    "start_time": "2023-09-16T17:34:50.769Z"
   },
   {
    "duration": 131,
    "start_time": "2023-09-16T17:35:09.271Z"
   },
   {
    "duration": 18,
    "start_time": "2023-09-16T17:35:57.829Z"
   },
   {
    "duration": 8,
    "start_time": "2023-09-16T17:36:40.587Z"
   },
   {
    "duration": 366,
    "start_time": "2023-09-16T17:38:07.278Z"
   },
   {
    "duration": 2964,
    "start_time": "2023-09-16T17:38:27.729Z"
   },
   {
    "duration": 2697,
    "start_time": "2023-09-16T17:40:26.451Z"
   },
   {
    "duration": 312,
    "start_time": "2023-09-16T17:40:32.965Z"
   },
   {
    "duration": 178,
    "start_time": "2023-09-16T17:40:48.555Z"
   },
   {
    "duration": 7,
    "start_time": "2023-09-16T17:40:57.791Z"
   },
   {
    "duration": 4,
    "start_time": "2023-09-16T17:43:54.057Z"
   },
   {
    "duration": 12,
    "start_time": "2023-09-16T17:43:58.838Z"
   },
   {
    "duration": 19,
    "start_time": "2023-09-16T17:44:20.102Z"
   },
   {
    "duration": 1297,
    "start_time": "2023-09-16T17:51:34.906Z"
   },
   {
    "duration": 12,
    "start_time": "2023-09-16T17:51:36.204Z"
   },
   {
    "duration": 44,
    "start_time": "2023-09-16T17:51:36.230Z"
   },
   {
    "duration": 17,
    "start_time": "2023-09-16T17:51:36.276Z"
   },
   {
    "duration": 84,
    "start_time": "2023-09-16T17:51:36.295Z"
   },
   {
    "duration": 12,
    "start_time": "2023-09-16T17:51:36.381Z"
   },
   {
    "duration": 57,
    "start_time": "2023-09-16T17:51:36.395Z"
   },
   {
    "duration": 14,
    "start_time": "2023-09-16T17:51:36.455Z"
   },
   {
    "duration": 46,
    "start_time": "2023-09-16T17:51:36.473Z"
   },
   {
    "duration": 8,
    "start_time": "2023-09-16T17:51:36.526Z"
   },
   {
    "duration": 11,
    "start_time": "2023-09-16T17:51:36.536Z"
   },
   {
    "duration": 10,
    "start_time": "2023-09-16T17:51:36.549Z"
   },
   {
    "duration": 21,
    "start_time": "2023-09-16T17:51:36.561Z"
   },
   {
    "duration": 39,
    "start_time": "2023-09-16T17:51:36.585Z"
   },
   {
    "duration": 12,
    "start_time": "2023-09-16T17:51:36.626Z"
   },
   {
    "duration": 19,
    "start_time": "2023-09-16T17:51:36.640Z"
   },
   {
    "duration": 6,
    "start_time": "2023-09-16T17:51:36.661Z"
   },
   {
    "duration": 18,
    "start_time": "2023-09-16T17:51:36.668Z"
   },
   {
    "duration": 218,
    "start_time": "2023-09-16T17:51:36.688Z"
   },
   {
    "duration": 16,
    "start_time": "2023-09-16T17:51:36.909Z"
   },
   {
    "duration": 8,
    "start_time": "2023-09-16T17:51:36.927Z"
   },
   {
    "duration": 17,
    "start_time": "2023-09-16T17:51:36.937Z"
   },
   {
    "duration": 119,
    "start_time": "2023-09-16T17:51:36.956Z"
   },
   {
    "duration": 223,
    "start_time": "2023-09-16T17:51:37.077Z"
   },
   {
    "duration": 132,
    "start_time": "2023-09-16T17:51:37.309Z"
   },
   {
    "duration": 220,
    "start_time": "2023-09-16T17:51:37.444Z"
   },
   {
    "duration": 179,
    "start_time": "2023-09-16T17:51:37.668Z"
   },
   {
    "duration": 241,
    "start_time": "2023-09-16T17:51:37.848Z"
   },
   {
    "duration": 165,
    "start_time": "2023-09-16T17:51:38.091Z"
   },
   {
    "duration": 8,
    "start_time": "2023-09-16T17:51:38.258Z"
   },
   {
    "duration": 357,
    "start_time": "2023-09-16T17:51:38.268Z"
   },
   {
    "duration": 328,
    "start_time": "2023-09-16T17:51:38.629Z"
   },
   {
    "duration": 7,
    "start_time": "2023-09-16T17:51:38.959Z"
   },
   {
    "duration": 177,
    "start_time": "2023-09-16T17:51:38.968Z"
   },
   {
    "duration": 26,
    "start_time": "2023-09-16T17:51:39.147Z"
   },
   {
    "duration": 4,
    "start_time": "2023-09-16T17:51:39.175Z"
   },
   {
    "duration": 48,
    "start_time": "2023-09-16T17:51:39.181Z"
   },
   {
    "duration": 31,
    "start_time": "2023-09-16T17:51:39.231Z"
   },
   {
    "duration": 371,
    "start_time": "2023-09-16T17:51:39.264Z"
   },
   {
    "duration": 348,
    "start_time": "2023-09-16T17:51:39.639Z"
   },
   {
    "duration": 21,
    "start_time": "2023-09-16T17:51:39.989Z"
   },
   {
    "duration": 8,
    "start_time": "2023-09-16T17:51:40.014Z"
   },
   {
    "duration": 52,
    "start_time": "2023-09-16T17:51:40.024Z"
   },
   {
    "duration": 9,
    "start_time": "2023-09-16T17:51:40.078Z"
   },
   {
    "duration": 56,
    "start_time": "2023-09-16T17:51:40.089Z"
   },
   {
    "duration": 297,
    "start_time": "2023-09-16T17:51:40.150Z"
   },
   {
    "duration": 23,
    "start_time": "2023-09-16T17:51:40.449Z"
   },
   {
    "duration": 11,
    "start_time": "2023-09-16T17:51:40.475Z"
   },
   {
    "duration": 59,
    "start_time": "2023-09-16T17:51:40.488Z"
   },
   {
    "duration": 5,
    "start_time": "2023-09-16T17:51:40.549Z"
   },
   {
    "duration": 12,
    "start_time": "2023-09-16T17:51:40.556Z"
   },
   {
    "duration": 7,
    "start_time": "2023-09-16T17:51:40.571Z"
   },
   {
    "duration": 36,
    "start_time": "2023-09-16T17:51:40.581Z"
   },
   {
    "duration": 305,
    "start_time": "2023-09-16T17:51:40.624Z"
   },
   {
    "duration": 11,
    "start_time": "2023-09-16T17:51:40.934Z"
   },
   {
    "duration": 9,
    "start_time": "2023-09-16T17:51:40.947Z"
   },
   {
    "duration": 237,
    "start_time": "2023-09-16T17:51:40.960Z"
   },
   {
    "duration": 11,
    "start_time": "2023-09-16T17:51:41.199Z"
   },
   {
    "duration": 16,
    "start_time": "2023-09-16T17:51:41.219Z"
   },
   {
    "duration": 7,
    "start_time": "2023-09-16T17:51:41.237Z"
   },
   {
    "duration": 299,
    "start_time": "2023-09-16T17:51:41.246Z"
   },
   {
    "duration": 248,
    "start_time": "2023-09-16T17:53:13.931Z"
   },
   {
    "duration": 390,
    "start_time": "2023-09-16T17:53:30.946Z"
   },
   {
    "duration": 317,
    "start_time": "2023-09-16T17:53:39.039Z"
   },
   {
    "duration": 278,
    "start_time": "2023-09-16T17:53:45.539Z"
   },
   {
    "duration": 230,
    "start_time": "2023-09-16T17:54:34.438Z"
   },
   {
    "duration": 316,
    "start_time": "2023-09-16T17:58:33.264Z"
   },
   {
    "duration": 355,
    "start_time": "2023-09-16T17:58:43.591Z"
   },
   {
    "duration": 422,
    "start_time": "2023-09-16T17:58:53.801Z"
   },
   {
    "duration": 392,
    "start_time": "2023-09-16T17:58:59.209Z"
   },
   {
    "duration": 357,
    "start_time": "2023-09-16T17:59:07.180Z"
   },
   {
    "duration": 2304,
    "start_time": "2023-09-17T05:40:29.528Z"
   },
   {
    "duration": 2,
    "start_time": "2023-09-17T05:40:31.834Z"
   },
   {
    "duration": 113,
    "start_time": "2023-09-17T05:40:31.838Z"
   },
   {
    "duration": 75,
    "start_time": "2023-09-17T05:40:31.954Z"
   },
   {
    "duration": 196,
    "start_time": "2023-09-17T05:40:32.031Z"
   },
   {
    "duration": 14,
    "start_time": "2023-09-17T05:40:32.230Z"
   },
   {
    "duration": 88,
    "start_time": "2023-09-17T05:40:32.246Z"
   },
   {
    "duration": 89,
    "start_time": "2023-09-17T05:40:32.337Z"
   },
   {
    "duration": 18,
    "start_time": "2023-09-17T05:40:32.428Z"
   },
   {
    "duration": 8,
    "start_time": "2023-09-17T05:40:32.525Z"
   },
   {
    "duration": 8,
    "start_time": "2023-09-17T05:40:32.534Z"
   },
   {
    "duration": 85,
    "start_time": "2023-09-17T05:40:32.544Z"
   },
   {
    "duration": 18,
    "start_time": "2023-09-17T05:40:32.631Z"
   },
   {
    "duration": 79,
    "start_time": "2023-09-17T05:40:32.651Z"
   },
   {
    "duration": 10,
    "start_time": "2023-09-17T05:40:32.732Z"
   },
   {
    "duration": 102,
    "start_time": "2023-09-17T05:40:32.744Z"
   },
   {
    "duration": 9,
    "start_time": "2023-09-17T05:40:32.848Z"
   },
   {
    "duration": 71,
    "start_time": "2023-09-17T05:40:32.858Z"
   },
   {
    "duration": 411,
    "start_time": "2023-09-17T05:40:32.931Z"
   },
   {
    "duration": 82,
    "start_time": "2023-09-17T05:40:33.344Z"
   },
   {
    "duration": 32,
    "start_time": "2023-09-17T05:40:33.428Z"
   },
   {
    "duration": 34,
    "start_time": "2023-09-17T05:40:33.462Z"
   },
   {
    "duration": 106,
    "start_time": "2023-09-17T05:40:33.497Z"
   },
   {
    "duration": 332,
    "start_time": "2023-09-17T05:40:33.605Z"
   },
   {
    "duration": 293,
    "start_time": "2023-09-17T05:40:33.938Z"
   },
   {
    "duration": 496,
    "start_time": "2023-09-17T05:40:34.233Z"
   },
   {
    "duration": 396,
    "start_time": "2023-09-17T05:40:34.731Z"
   },
   {
    "duration": 696,
    "start_time": "2023-09-17T05:40:35.132Z"
   },
   {
    "duration": 397,
    "start_time": "2023-09-17T05:40:35.830Z"
   },
   {
    "duration": 8,
    "start_time": "2023-09-17T05:40:36.229Z"
   },
   {
    "duration": 1294,
    "start_time": "2023-09-17T05:40:36.239Z"
   },
   {
    "duration": 814,
    "start_time": "2023-09-17T05:40:37.534Z"
   },
   {
    "duration": 75,
    "start_time": "2023-09-17T05:40:38.350Z"
   },
   {
    "duration": 902,
    "start_time": "2023-09-17T05:40:38.428Z"
   },
   {
    "duration": 192,
    "start_time": "2023-09-17T05:40:39.332Z"
   },
   {
    "duration": 4,
    "start_time": "2023-09-17T05:40:39.526Z"
   },
   {
    "duration": 203,
    "start_time": "2023-09-17T05:40:39.532Z"
   },
   {
    "duration": 301,
    "start_time": "2023-09-17T05:40:39.737Z"
   },
   {
    "duration": 1298,
    "start_time": "2023-09-17T05:40:40.040Z"
   },
   {
    "duration": 907,
    "start_time": "2023-09-17T05:40:41.339Z"
   },
   {
    "duration": 13,
    "start_time": "2023-09-17T05:40:42.248Z"
   },
   {
    "duration": 478,
    "start_time": "2023-09-17T05:40:42.263Z"
   },
   {
    "duration": 94,
    "start_time": "2023-09-17T05:40:42.743Z"
   },
   {
    "duration": 7,
    "start_time": "2023-09-17T05:40:42.839Z"
   },
   {
    "duration": 88,
    "start_time": "2023-09-17T05:40:42.847Z"
   },
   {
    "duration": 696,
    "start_time": "2023-09-17T05:40:42.937Z"
   },
   {
    "duration": 906,
    "start_time": "2023-09-17T05:40:43.634Z"
   },
   {
    "duration": 14,
    "start_time": "2023-09-17T05:40:44.541Z"
   },
   {
    "duration": 61,
    "start_time": "2023-09-17T05:40:44.557Z"
   },
   {
    "duration": 136,
    "start_time": "2023-09-17T05:40:44.620Z"
   },
   {
    "duration": 81,
    "start_time": "2023-09-17T05:40:44.758Z"
   },
   {
    "duration": 38,
    "start_time": "2023-09-17T05:40:44.841Z"
   },
   {
    "duration": 47,
    "start_time": "2023-09-17T05:40:44.881Z"
   },
   {
    "duration": 498,
    "start_time": "2023-09-17T05:40:44.930Z"
   },
   {
    "duration": 7,
    "start_time": "2023-09-17T05:40:45.430Z"
   },
   {
    "duration": 88,
    "start_time": "2023-09-17T05:40:45.439Z"
   },
   {
    "duration": 499,
    "start_time": "2023-09-17T05:40:45.528Z"
   },
   {
    "duration": 4,
    "start_time": "2023-09-17T05:40:46.028Z"
   },
   {
    "duration": 2080,
    "start_time": "2023-09-17T05:40:46.034Z"
   },
   {
    "duration": 34,
    "start_time": "2023-09-17T05:40:48.116Z"
   },
   {
    "duration": 1113,
    "start_time": "2023-09-17T05:40:48.152Z"
   },
   {
    "duration": 366,
    "start_time": "2023-09-17T05:58:01.198Z"
   },
   {
    "duration": 6,
    "start_time": "2023-09-17T06:01:33.329Z"
   },
   {
    "duration": 1196,
    "start_time": "2023-09-17T06:03:21.701Z"
   },
   {
    "duration": 3,
    "start_time": "2023-09-17T06:03:22.899Z"
   },
   {
    "duration": 64,
    "start_time": "2023-09-17T06:03:22.904Z"
   },
   {
    "duration": 15,
    "start_time": "2023-09-17T06:03:22.971Z"
   },
   {
    "duration": 162,
    "start_time": "2023-09-17T06:03:22.988Z"
   },
   {
    "duration": 114,
    "start_time": "2023-09-17T06:03:23.152Z"
   },
   {
    "duration": 21,
    "start_time": "2023-09-17T06:03:23.268Z"
   },
   {
    "duration": 9,
    "start_time": "2023-09-17T06:03:23.291Z"
   },
   {
    "duration": 17,
    "start_time": "2023-09-17T06:03:23.302Z"
   },
   {
    "duration": 5,
    "start_time": "2023-09-17T06:03:23.321Z"
   },
   {
    "duration": 10,
    "start_time": "2023-09-17T06:03:23.328Z"
   },
   {
    "duration": 14,
    "start_time": "2023-09-17T06:03:23.339Z"
   },
   {
    "duration": 18,
    "start_time": "2023-09-17T06:03:23.355Z"
   },
   {
    "duration": 7,
    "start_time": "2023-09-17T06:03:23.375Z"
   },
   {
    "duration": 21,
    "start_time": "2023-09-17T06:03:23.383Z"
   },
   {
    "duration": 5,
    "start_time": "2023-09-17T06:03:23.406Z"
   },
   {
    "duration": 7,
    "start_time": "2023-09-17T06:03:23.424Z"
   },
   {
    "duration": 10,
    "start_time": "2023-09-17T06:03:23.433Z"
   },
   {
    "duration": 172,
    "start_time": "2023-09-17T06:03:23.445Z"
   },
   {
    "duration": 12,
    "start_time": "2023-09-17T06:03:23.619Z"
   },
   {
    "duration": 14,
    "start_time": "2023-09-17T06:03:23.633Z"
   },
   {
    "duration": 13,
    "start_time": "2023-09-17T06:03:23.648Z"
   },
   {
    "duration": 96,
    "start_time": "2023-09-17T06:03:23.663Z"
   },
   {
    "duration": 179,
    "start_time": "2023-09-17T06:03:23.760Z"
   },
   {
    "duration": 106,
    "start_time": "2023-09-17T06:03:23.941Z"
   },
   {
    "duration": 251,
    "start_time": "2023-09-17T06:03:24.049Z"
   },
   {
    "duration": 139,
    "start_time": "2023-09-17T06:03:24.301Z"
   },
   {
    "duration": 190,
    "start_time": "2023-09-17T06:03:24.444Z"
   },
   {
    "duration": 112,
    "start_time": "2023-09-17T06:03:24.635Z"
   },
   {
    "duration": 7,
    "start_time": "2023-09-17T06:03:24.749Z"
   },
   {
    "duration": 322,
    "start_time": "2023-09-17T06:03:24.758Z"
   },
   {
    "duration": 204,
    "start_time": "2023-09-17T06:03:25.082Z"
   },
   {
    "duration": 6,
    "start_time": "2023-09-17T06:03:25.288Z"
   },
   {
    "duration": 129,
    "start_time": "2023-09-17T06:03:25.296Z"
   },
   {
    "duration": 22,
    "start_time": "2023-09-17T06:03:25.427Z"
   },
   {
    "duration": 3,
    "start_time": "2023-09-17T06:03:25.451Z"
   },
   {
    "duration": 14,
    "start_time": "2023-09-17T06:03:25.455Z"
   },
   {
    "duration": 56,
    "start_time": "2023-09-17T06:03:25.471Z"
   },
   {
    "duration": 320,
    "start_time": "2023-09-17T06:03:25.529Z"
   },
   {
    "duration": 306,
    "start_time": "2023-09-17T06:03:25.851Z"
   },
   {
    "duration": 296,
    "start_time": "2023-09-17T06:03:26.159Z"
   },
   {
    "duration": 13,
    "start_time": "2023-09-17T06:03:26.457Z"
   },
   {
    "duration": 7,
    "start_time": "2023-09-17T06:03:26.471Z"
   },
   {
    "duration": 61,
    "start_time": "2023-09-17T06:03:26.479Z"
   },
   {
    "duration": 7,
    "start_time": "2023-09-17T06:03:26.541Z"
   },
   {
    "duration": 25,
    "start_time": "2023-09-17T06:03:26.550Z"
   },
   {
    "duration": 201,
    "start_time": "2023-09-17T06:03:26.576Z"
   },
   {
    "duration": 17,
    "start_time": "2023-09-17T06:03:26.779Z"
   },
   {
    "duration": 30,
    "start_time": "2023-09-17T06:03:26.798Z"
   },
   {
    "duration": 17,
    "start_time": "2023-09-17T06:03:26.830Z"
   },
   {
    "duration": 5,
    "start_time": "2023-09-17T06:03:26.849Z"
   },
   {
    "duration": 17,
    "start_time": "2023-09-17T06:03:26.856Z"
   },
   {
    "duration": 6,
    "start_time": "2023-09-17T06:03:26.874Z"
   },
   {
    "duration": 10,
    "start_time": "2023-09-17T06:03:26.881Z"
   },
   {
    "duration": 40,
    "start_time": "2023-09-17T06:03:26.893Z"
   },
   {
    "duration": 271,
    "start_time": "2023-09-17T06:03:26.935Z"
   },
   {
    "duration": 5,
    "start_time": "2023-09-17T06:03:27.208Z"
   },
   {
    "duration": 4,
    "start_time": "2023-09-17T06:03:27.224Z"
   },
   {
    "duration": 284,
    "start_time": "2023-09-17T06:03:27.229Z"
   },
   {
    "duration": 10,
    "start_time": "2023-09-17T06:03:27.515Z"
   },
   {
    "duration": 34,
    "start_time": "2023-09-17T06:03:27.528Z"
   },
   {
    "duration": 12,
    "start_time": "2023-09-17T06:03:27.564Z"
   },
   {
    "duration": 248,
    "start_time": "2023-09-17T06:03:27.578Z"
   },
   {
    "duration": 5,
    "start_time": "2023-09-17T06:03:27.828Z"
   },
   {
    "duration": 24,
    "start_time": "2023-09-17T06:03:27.835Z"
   },
   {
    "duration": 12,
    "start_time": "2023-09-17T06:03:27.861Z"
   },
   {
    "duration": 13,
    "start_time": "2023-09-17T06:03:27.875Z"
   }
  ],
  "kernelspec": {
   "display_name": "Python 3 (ipykernel)",
   "language": "python",
   "name": "python3"
  },
  "language_info": {
   "codemirror_mode": {
    "name": "ipython",
    "version": 3
   },
   "file_extension": ".py",
   "mimetype": "text/x-python",
   "name": "python",
   "nbconvert_exporter": "python",
   "pygments_lexer": "ipython3",
   "version": "3.9.5"
  },
  "toc": {
   "base_numbering": 1,
   "nav_menu": {
    "height": "133px",
    "width": "258px"
   },
   "number_sections": true,
   "sideBar": true,
   "skip_h1_title": true,
   "title_cell": "Table of Contents",
   "title_sidebar": "Contents",
   "toc_cell": false,
   "toc_position": {
    "height": "calc(100% - 180px)",
    "left": "10px",
    "top": "150px",
    "width": "286px"
   },
   "toc_section_display": true,
   "toc_window_display": true
  }
 },
 "nbformat": 4,
 "nbformat_minor": 5
}
