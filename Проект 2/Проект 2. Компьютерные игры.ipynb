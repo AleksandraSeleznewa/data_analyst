{
 "cells": [
  {
   "cell_type": "markdown",
   "metadata": {},
   "source": [
    "<a id='start'></a>\n",
    "# Определение факторов, влияющих на успешность компьютерных игр интернет-магазина"
   ]
  },
  {
   "cell_type": "markdown",
   "metadata": {},
   "source": [
    "Интернет-магазин «Стримчик» продаёт по всему миру компьютерные игры.\n",
    "\n",
    "**Цель исследования:**\n",
    "на основе исторических данных о продажах и рейтинге игр выявить закономерности, определяющие успешность игры, с целью планирования дальнейших рекламных кампаний."
   ]
  },
  {
   "cell_type": "markdown",
   "metadata": {},
   "source": [
    "**Описание данных:**\n",
    "\n",
    "-\t*Name* — название игры\n",
    "-\t*Platform* — платформа\n",
    "-\t*Year_of_Release* — год выпуска\n",
    "-\t*Genre* — жанр игры\n",
    "-\t*NA_sales* — продажи в Северной Америке (миллионы проданных копий)\n",
    "-\t*EU_sales* — продажи в Европе (миллионы проданных копий)\n",
    "-\t*JP_sales* — продажи в Японии (миллионы проданных копий)\n",
    "-\t*Other_sales* — продажи в других странах (миллионы проданных копий)\n",
    "-\t*Critic_Score* — оценка критиков (максимум 100)\n",
    "-\t*User_Score* — оценка пользователей (максимум 10)\n",
    "-\t*Rating* — рейтинг от организации ESRB (англ. Entertainment Software Rating Board). Эта ассоциация определяет рейтинг компьютерных игр и присваивает им подходящую возрастную категорию."
   ]
  },
  {
   "cell_type": "markdown",
   "metadata": {},
   "source": [
    "**План исследования:**\n",
    "1. [Загрузка данных](#step1)\n",
    "2. [Предобработка данных](#step2)\n",
    "3. [Исследовательский анализ данных](#step3)\n",
    "4. [Формирование портретов пользователей по регионам](#step4)\n",
    "5. [Статистический анализ данных](#step5)\n",
    "6. [Выводы исследования](#step6)"
   ]
  },
  {
   "cell_type": "markdown",
   "metadata": {},
   "source": [
    "<a id='step1'></a>\n",
    "## 1. Загрузка данных"
   ]
  },
  {
   "cell_type": "code",
   "execution_count": null,
   "metadata": {},
   "outputs": [],
   "source": [
    "# импортируем библиотеки\n",
    "\n",
    "import pandas as pd\n",
    "from matplotlib import pyplot as plt\n",
    "from scipy import stats as st\n",
    "import seaborn as sns\n",
    "import numpy as np\n",
    "import warnings\n",
    "warnings.filterwarnings('ignore')"
   ]
  },
  {
   "cell_type": "code",
   "execution_count": null,
   "metadata": {
    "scrolled": true
   },
   "outputs": [],
   "source": [
    "# загрузим файл с данными и посмотрим общую информацию о датасете\n",
    "\n",
    "try:\n",
    "    data = pd.read_csv('/datasets/games.csv')\n",
    "except:\n",
    "    data = pd.read_csv('C:/Users/Александра/practicum/games.csv')\n",
    "    \n",
    "data.head()"
   ]
  },
  {
   "cell_type": "code",
   "execution_count": null,
   "metadata": {},
   "outputs": [],
   "source": [
    "data.info()"
   ]
  },
  {
   "cell_type": "code",
   "execution_count": null,
   "metadata": {},
   "outputs": [],
   "source": [
    "data.isna().sum()"
   ]
  },
  {
   "cell_type": "markdown",
   "metadata": {},
   "source": [
    "В загруженном датасете имеются **16 715 наблюдений** по **11 переменным**. По переменным *Name*, *Year_of_Release*, *Genre*, *Critic_Score*, *User_Score* и *Rating* имеются пропущенные значения, которые предстоит обработать на следующем этапе исследования."
   ]
  },
  {
   "cell_type": "markdown",
   "metadata": {},
   "source": [
    "<a id='step2'></a>\n",
    "## 2. Предобработка данных"
   ]
  },
  {
   "cell_type": "markdown",
   "metadata": {},
   "source": [
    "### 2.1. Замена названий столбцов"
   ]
  },
  {
   "cell_type": "code",
   "execution_count": null,
   "metadata": {
    "scrolled": true
   },
   "outputs": [],
   "source": [
    "# приведём все названия переменных к нижнему регистру\n",
    "\n",
    "data.columns = data.columns.str.lower()\n",
    "data.head()"
   ]
  },
  {
   "cell_type": "markdown",
   "metadata": {},
   "source": [
    "### 2.2. Проверка на наличие дубликатов"
   ]
  },
  {
   "cell_type": "code",
   "execution_count": null,
   "metadata": {},
   "outputs": [],
   "source": [
    "data.duplicated().sum()"
   ]
  },
  {
   "cell_type": "markdown",
   "metadata": {},
   "source": [
    "**Явных дубликатов в датафрейме не обнаружено.**\n",
    "\n",
    "Проверим датафрейм на наличие неявных дубликатов по переменным *name*, *platform* и *year_of_release*:"
   ]
  },
  {
   "cell_type": "code",
   "execution_count": null,
   "metadata": {},
   "outputs": [],
   "source": [
    "data[data.duplicated(subset=['name', 'platform', 'year_of_release'], keep=False)]"
   ]
  },
  {
   "cell_type": "code",
   "execution_count": null,
   "metadata": {},
   "outputs": [],
   "source": [
    "data = data.drop_duplicates(subset=['name', 'platform', 'year_of_release'])\n",
    "data.info()"
   ]
  },
  {
   "cell_type": "markdown",
   "metadata": {},
   "source": [
    "После проверки на дубликаты в датасете осталось **16 713 записей**."
   ]
  },
  {
   "cell_type": "markdown",
   "metadata": {},
   "source": [
    "### 2.3. Замена типа данных"
   ]
  },
  {
   "cell_type": "code",
   "execution_count": null,
   "metadata": {
    "scrolled": true
   },
   "outputs": [],
   "source": [
    "# изучим тип данных по переменным датафрейма\n",
    "\n",
    "data.info()"
   ]
  },
  {
   "cell_type": "markdown",
   "metadata": {},
   "source": [
    "Отметим следующие изменения, которые необходимо произвести:\n",
    "1. *year_of_release*: float64 -> int64. Причина: год выхода игры - это целочисленное значение.\n",
    "2. *user_score*: object -> float64. Причина: оценка пользователей - это не строковая, а количественная переменная, измеряющаяся от 0 до 10."
   ]
  },
  {
   "cell_type": "markdown",
   "metadata": {},
   "source": [
    "#### *year_of_release*"
   ]
  },
  {
   "cell_type": "code",
   "execution_count": null,
   "metadata": {},
   "outputs": [],
   "source": [
    "# заменим тип данных переменной year_of_release\n",
    "\n",
    "data['year_of_release'] = data['year_of_release'].astype('Int64')\n",
    "data.info()"
   ]
  },
  {
   "cell_type": "markdown",
   "metadata": {},
   "source": [
    "#### *user_score*"
   ]
  },
  {
   "cell_type": "code",
   "execution_count": null,
   "metadata": {},
   "outputs": [],
   "source": [
    "# изучим список уникальных значений по переменной user_score\n",
    "\n",
    "data['user_score'].unique()"
   ]
  },
  {
   "cell_type": "markdown",
   "metadata": {},
   "source": [
    "Стало понятно, почему тип данных по переменной *user_score* был определён как *object*: среди значений встречаются не только вещественные числа, но и такое значение, как \"tbd\". Вероятно, оно расшифровывается как \"to be determined\", т.е. оценка пользователей для этой игры ещё не была выставлена (например, по причине того, что игра вышла недавно, или опрос пользователей ещё не завершён).\n",
    "\n",
    "Изучим, сколько таких записей присутствует в выборке."
   ]
  },
  {
   "cell_type": "code",
   "execution_count": null,
   "metadata": {},
   "outputs": [],
   "source": [
    "print('В выборке наблюдается', data[data['user_score'] == 'tbd']['user_score'].count(), \\\n",
    "      'записи, в которых переменная user_score принимает значение \"tbd\".')"
   ]
  },
  {
   "cell_type": "markdown",
   "metadata": {},
   "source": [
    "Проверим, в какие года были выпущены игры, по которым переменная *user_score* принимает значение \"tbd\".\n",
    "\n",
    "**Предположение**: игры, которые вышли незадолго до 2016 года, ещё не были оценены пользователями, поэтому переменная *user_score* приняла значение \"tbd\"."
   ]
  },
  {
   "cell_type": "code",
   "execution_count": null,
   "metadata": {},
   "outputs": [],
   "source": [
    "data[data['user_score'] == 'tbd']['year_of_release'].describe()"
   ]
  },
  {
   "cell_type": "code",
   "execution_count": null,
   "metadata": {},
   "outputs": [],
   "source": [
    "data.loc[data['user_score'] == 'tbd', 'year_of_release'].hist(figsize=(14,7), bins=19, width=0.8)\n",
    "plt.title('Распределение переменной year_of_release для записей, \\n где значение переменной \\\n",
    "user_score равно \"tbd\"', fontsize=14, pad=10)\n",
    "plt.xlabel('Год выпуска', fontsize=12, labelpad=10)\n",
    "plt.xticks(np.arange(1997, 2016, 1))\n",
    "plt.ylabel('Частота', fontsize=12, labelpad=10)\n",
    "plt.grid(None)\n",
    "sns.despine()\n",
    "plt.show()"
   ]
  },
  {
   "cell_type": "markdown",
   "metadata": {},
   "source": [
    "Предположение не было подтверждено. Игры, у которых значение *user_score* равно \"tbd\", могли быть выпущены как в 2000, так и в 2015 году.\n",
    "\n",
    "Проверим другое **предположение**: такое значение переменная принимает в том случае, если продажи игры были слишком малы для того, чтобы сформировать оценку от пользователей."
   ]
  },
  {
   "cell_type": "code",
   "execution_count": null,
   "metadata": {},
   "outputs": [],
   "source": [
    "(data.\n",
    " pivot_table(\n",
    "     index='user_score',\n",
    "     values=['na_sales', 'eu_sales', 'jp_sales', 'other_sales'],\n",
    "     aggfunc='median'\n",
    "))"
   ]
  },
  {
   "cell_type": "markdown",
   "metadata": {},
   "source": [
    "Предположение также не оправдалось. По всей видимости, при заполнении базы имела место ошибка, поэтому с целью дальнейшего анализа заменим все значения \"tbd\" в переменной *user_score* на пропущенные значения (NaN).\n",
    "\n",
    "Избавляться от таких данных не стоит, т.к. они составляют ~ 14.5% всей выборки, что будет слишком много для удаления."
   ]
  },
  {
   "cell_type": "code",
   "execution_count": null,
   "metadata": {},
   "outputs": [],
   "source": [
    "data['user_score'] = data['user_score'].replace('tbd', np.nan)\n",
    "data['user_score'].unique()"
   ]
  },
  {
   "cell_type": "markdown",
   "metadata": {},
   "source": [
    "Можно отметить, что значение \"tbd\" исчезло из списка уникальных значений переменной *user_score*. Заменим тип *object* на *float64*."
   ]
  },
  {
   "cell_type": "code",
   "execution_count": null,
   "metadata": {},
   "outputs": [],
   "source": [
    "data['user_score'] = data['user_score'].astype('float64')\n",
    "data['user_score'].describe()"
   ]
  },
  {
   "cell_type": "code",
   "execution_count": null,
   "metadata": {},
   "outputs": [],
   "source": [
    "data.info()"
   ]
  },
  {
   "cell_type": "markdown",
   "metadata": {},
   "source": [
    "После замены все переменные имеют необходимый тип данных - можно переходить к обработке пропущенных значений."
   ]
  },
  {
   "cell_type": "markdown",
   "metadata": {},
   "source": [
    "### 2.4. Обработка пропущенных значений"
   ]
  },
  {
   "cell_type": "code",
   "execution_count": null,
   "metadata": {},
   "outputs": [],
   "source": [
    "# выведем список переменных и количество пропущенных значений по ним\n",
    "\n",
    "data.isna().sum()"
   ]
  },
  {
   "cell_type": "markdown",
   "metadata": {},
   "source": [
    "Необходимо обработать пропущенные значения по переменным:\n",
    "1. *year_of_release*;\n",
    "2. *critic_score*;\n",
    "3. *user_score*;\n",
    "4. *rating*.\n",
    "\n",
    "По переменным *name* и *genre* всего по 2 пропуска - кроме того, эти столбцы не играют ключевую роль в анализе. Следовательно, мы можем оставить пропущенные значения в этих переменных."
   ]
  },
  {
   "cell_type": "markdown",
   "metadata": {},
   "source": [
    "#### *year_of_release*"
   ]
  },
  {
   "cell_type": "code",
   "execution_count": null,
   "metadata": {},
   "outputs": [],
   "source": [
    "# выведем количество пропущенных значений по переменной\n",
    "\n",
    "data['year_of_release'].isna().sum()"
   ]
  },
  {
   "cell_type": "code",
   "execution_count": null,
   "metadata": {},
   "outputs": [],
   "source": [
    "print('По переменной year_of_release в датасете пропущено',\n",
    "      data['year_of_release'].isna().sum(), 'значений, что составляет',\n",
    "      round(data['year_of_release'].isna().sum()/data.shape[0] * 100, 1),\n",
    "      '% от общей выборки.')"
   ]
  },
  {
   "cell_type": "markdown",
   "metadata": {},
   "source": [
    "Т.к. доля пропущенных значений по переменной *year_of_release* составляет всего 1.6% от всей выборки, от таких записей можно избавиться."
   ]
  },
  {
   "cell_type": "code",
   "execution_count": null,
   "metadata": {},
   "outputs": [],
   "source": [
    "data = data.dropna(subset=['year_of_release'])\n",
    "data['year_of_release'].isna().sum()"
   ]
  },
  {
   "cell_type": "markdown",
   "metadata": {},
   "source": [
    "#### *critic_score* и *user_score*"
   ]
  },
  {
   "cell_type": "markdown",
   "metadata": {},
   "source": [
    "Большое количество пропусков данных по оценкам критиков - существенное препятствие для дальнейшего анализа."
   ]
  },
  {
   "cell_type": "code",
   "execution_count": null,
   "metadata": {},
   "outputs": [],
   "source": [
    "# изучим распределение переменных critic_score и user_score\n",
    "\n",
    "data['critic_score'].hist(bins=100, figsize=(10, 7))\n",
    "plt.title('Распределение переменной critic_score', fontsize=14, pad=10)\n",
    "plt.xlabel('Рейтинг критиков', fontsize=12, labelpad=10)\n",
    "plt.ylabel('Частота', fontsize=12, labelpad=10)\n",
    "plt.grid(False)\n",
    "sns.despine()\n",
    "plt.show()"
   ]
  },
  {
   "cell_type": "code",
   "execution_count": null,
   "metadata": {},
   "outputs": [],
   "source": [
    "data['user_score'].hist(bins=100, figsize=(10, 7))\n",
    "plt.title('Распределение переменной user_score', fontsize=14, pad=10)\n",
    "plt.xlabel('Рейтинг пользователей', fontsize=12, labelpad=10)\n",
    "plt.ylabel('Частота', fontsize=12, labelpad=10)\n",
    "plt.grid(False)\n",
    "sns.despine()\n",
    "plt.show()"
   ]
  },
  {
   "cell_type": "markdown",
   "metadata": {},
   "source": [
    "Распределение переменных *critic_score* и *user_score* напоминает нормальное со сдвигом вправо. Проверим, связаны ли эти оценки между собой."
   ]
  },
  {
   "cell_type": "code",
   "execution_count": null,
   "metadata": {},
   "outputs": [],
   "source": [
    "plt.figure(figsize=(10, 7))\n",
    "plt.scatter(data['critic_score'], data['user_score'], alpha=0.3)\n",
    "plt.title('Диаграмма рассеяния для переменных critic_score и user_score', fontsize=14, pad=10)\n",
    "plt.xlabel('critic_score', fontsize=12, labelpad=10)\n",
    "plt.ylabel('user_score', fontsize=12, labelpad=10)\n",
    "sns.despine()\n",
    "plt.show()\n",
    "print()\n",
    "print(f\"Коэффициент корреляции между переменными: {round(data['critic_score'].corr(data['user_score']), 2)}\")"
   ]
  },
  {
   "cell_type": "markdown",
   "metadata": {},
   "source": [
    "Между переменными наблюдается средняя взаимосвязь, что также подтверждается коэффициентом корреляции на уровне 0.58.\n",
    "\n",
    "Тем не менее, ввиду того, что по переменной *user_score* также наблюдается много пропущенных значений, мы не можем использовать медианные значения этой переменной для заполнения пропущенных значений переменной *critic_score* (и наоборот).\n",
    "\n",
    "Удалять записи с пропущенными значениями - также не выход, т.к. подобные наблюдения составляют большую долю датафрейма. Поэтому для дальнейшего анализа **оставим пропущенные значения переменных *critic_score* и *user_score***."
   ]
  },
  {
   "cell_type": "markdown",
   "metadata": {},
   "source": [
    "#### *rating*"
   ]
  },
  {
   "cell_type": "code",
   "execution_count": null,
   "metadata": {},
   "outputs": [],
   "source": [
    "# изучим уникальные значения переменной rating и количество пропусков по ней\n",
    "\n",
    "print('Уникальные значения переменной rating:')\n",
    "print(data['rating'].value_counts())\n",
    "print()\n",
    "print('Количество пропущенных значений:', data['rating'].isna().sum())"
   ]
  },
  {
   "cell_type": "markdown",
   "metadata": {},
   "source": [
    "**Предположение**: возрастной рейтинг игры коррелирует с её жанром.\n",
    "\n",
    "Проверим это предположение с помощью частотной таблицы."
   ]
  },
  {
   "cell_type": "code",
   "execution_count": null,
   "metadata": {},
   "outputs": [],
   "source": [
    "crosstab = pd.crosstab(index=data['genre'], columns=data['rating'])\n",
    "crosstab['sum'] = crosstab.sum(axis=1)\n",
    "crosstab = crosstab.sort_values(by=['sum'], ascending=False)\n",
    "cm = sns.light_palette(\"green\", as_cmap=True)\n",
    "crosstab = crosstab.style.background_gradient(cmap=cm)\n",
    "crosstab"
   ]
  },
  {
   "cell_type": "code",
   "execution_count": null,
   "metadata": {},
   "outputs": [],
   "source": [
    "data['rating'].corr(data['genre'], method='spearman')"
   ]
  },
  {
   "cell_type": "markdown",
   "metadata": {},
   "source": [
    "Предположение не подтвердилось: **возрастной рейтинг игры слабо связан с её жанром**.\n",
    "\n",
    "Удалить все записи, в которых пропущены значения по переменной *rating*, будет ошибкой ввиду потери слишком большой части выборки.\n",
    "\n",
    "Про рейтинг ESRB известно, что он назначается для игр в США и Канаде, а в Европе и Японии есть другие организации, определяющие рейтинг компьютерной игры. Предположительно, пропуски значений по переменной rating обусловлены тем, что игра была издана не в США и Канаде. Следовательно, на такие значения целесообразно поставить заглушку, которая будет нести в себе эту информацию."
   ]
  },
  {
   "cell_type": "code",
   "execution_count": null,
   "metadata": {},
   "outputs": [],
   "source": [
    "data['rating'] = data['rating'].fillna('NonNA')\n",
    "data['rating'].value_counts()"
   ]
  },
  {
   "cell_type": "markdown",
   "metadata": {},
   "source": [
    "#### Возможные причины появления пропусков"
   ]
  },
  {
   "cell_type": "markdown",
   "metadata": {},
   "source": [
    "Что могло привести к пропускам значений по переменным *critic_score*, *user_score* и *rating*?\n",
    "\n",
    "***1. critic_score***\n",
    "\n",
    "Наличие 8 578 пропусков по переменной *criric_score* (51.3% от всей выборки) может быть обусловлено следующими факторами:\n",
    "- недостаточное количество оценок от критиков для формирования рейтинга;\n",
    "- низкие продажи игры - как следствие, непрохождение минимального количества продаж для направления игры на оценку критиков;\n",
    "- технические ошибки при выгрузке или переносе данных.\n",
    "\n",
    "***2. user_score***\n",
    "\n",
    "Из 9 125 пропущенных значений по переменной *user_score* 2 424 ранее принимали значение \"tbd\" (25.6% от всех пропущенных значений по переменной). Остальные пропуски могли появиться по следующим причинам:\n",
    "- недостаточное количество оценок от пользователей для формирования рейтинга;\n",
    "- технические ошибки при выгрузке или переносе данных.\n",
    "\n",
    "***3. rating***\n",
    "- рейтинг ESRB назначается для игр в США и Канаде. В Европе и Японии есть свои рейтинги для компьютерных игр (PEGI и CERO). Вероятно, пропуск рейтинга ESRB у игры означает то, что она была издана не в США или Канаде;\n",
    "- технические ошибки при выгрузке или переносе данных."
   ]
  },
  {
   "cell_type": "markdown",
   "metadata": {},
   "source": [
    "### 2.5. Добавление столбцов"
   ]
  },
  {
   "cell_type": "code",
   "execution_count": null,
   "metadata": {},
   "outputs": [],
   "source": [
    "# добавим в датафрейм столбец с суммарными продажами во всех регионах\n",
    "\n",
    "data['total_sales'] = data.loc[:, ['na_sales', 'eu_sales', 'jp_sales', 'other_sales']].sum(axis=1)\n",
    "data.info()"
   ]
  },
  {
   "cell_type": "markdown",
   "metadata": {},
   "source": [
    "### Результаты предобработки данных"
   ]
  },
  {
   "cell_type": "markdown",
   "metadata": {},
   "source": [
    "В результате предобработки данных были проведены следующие действия:\n",
    "1. названия столбцов приведены к нижнему регистру;\n",
    "2. проведена проверка данных на наличие явных и неявных дубликатов;\n",
    "3. заменён тип данных некоторых переменных;\n",
    "4. обработаны пропущенные значения в переменных. Пропущенные значения удалены или заменены;\n",
    "5. добавлен столбец с суммарными продажами по играм."
   ]
  },
  {
   "cell_type": "markdown",
   "metadata": {
    "tags": []
   },
   "source": [
    "После проведённой предобработки данных можно приступить к исследовательскому анализу."
   ]
  },
  {
   "cell_type": "markdown",
   "metadata": {},
   "source": [
    "<a id='step3'></a>\n",
    "## 3. Исследовательский анализ данных"
   ]
  },
  {
   "cell_type": "markdown",
   "metadata": {},
   "source": [
    "### 3.1. Изучение года выпуска игр"
   ]
  },
  {
   "cell_type": "code",
   "execution_count": null,
   "metadata": {},
   "outputs": [],
   "source": [
    "# изучим, сколько игр выпускалось в разные годы, и посмотрим ещё раз \n",
    "# на гистограмму переменной\n",
    "\n",
    "print(data['year_of_release'].value_counts().head(10))\n",
    "\n",
    "data['year_of_release'].hist(figsize=(10, 7), bins=37)\n",
    "plt.title('Гистограмма распределения переменной year_of_release', fontsize=14, pad=10)\n",
    "plt.xlabel('Год', fontsize=12, labelpad=10)\n",
    "plt.ylabel('Частота', fontsize=12, labelpad=10)\n",
    "plt.grid(False)\n",
    "sns.despine()\n",
    "plt.show()"
   ]
  },
  {
   "cell_type": "markdown",
   "metadata": {},
   "source": [
    "Можно отметить, что **наибольшая часть игр была выпущена в период с 2005 по 2011 год, пик выпуска приходится на 2008 год**.\n",
    "\n",
    "Игры, выпущенные с 1980 по 1990 год, хоть и составляют небольшую часть выборки, могут представлять ценные наблюдения для последующего анализа. Оснований для удаления этих записей нет."
   ]
  },
  {
   "cell_type": "markdown",
   "metadata": {},
   "source": [
    "### 3.2. Изменение продаж по платформам"
   ]
  },
  {
   "cell_type": "code",
   "execution_count": null,
   "metadata": {},
   "outputs": [],
   "source": [
    "# изучим, как менялись продажи по платформам\n",
    "\n",
    "platform_sales_per_year = (data\n",
    "                             .pivot_table(\n",
    "                                index='platform',\n",
    "                                values='total_sales',\n",
    "                                columns='year_of_release',\n",
    "                                aggfunc='sum')\n",
    "                            )\n",
    "platform_sales_per_year.head(10)"
   ]
  },
  {
   "cell_type": "code",
   "execution_count": null,
   "metadata": {},
   "outputs": [],
   "source": [
    "# визуализируем сводную таблицу\n",
    "\n",
    "platform_sales_per_year.head(10).T.plot(kind='line', figsize=(15, 7))\n",
    "plt.title('Ежегодные продажи игр по платформам', fontsize=14, pad=10)\n",
    "plt.xlabel('Год', size=12, labelpad=10)\n",
    "plt.ylabel('Ежегодные продажи', size=12, labelpad=10)\n",
    "plt.legend(title='Платформа')\n",
    "sns.despine()\n",
    "plt.show()"
   ]
  },
  {
   "cell_type": "markdown",
   "metadata": {},
   "source": [
    "По итогам анализа таблицы видна ошибка: какие-то игры на платформе DS, согласно данным, были выпущены в 1985 году (продажи составляют 0.02), однако сама игровая консоль была создана только в 2004 году.\n",
    "\n",
    "Избавимся от данного наблюдения."
   ]
  },
  {
   "cell_type": "code",
   "execution_count": null,
   "metadata": {},
   "outputs": [],
   "source": [
    "data.query('year_of_release == 1985 and platform == \"DS\"')"
   ]
  },
  {
   "cell_type": "code",
   "execution_count": null,
   "metadata": {},
   "outputs": [],
   "source": [
    "data = data.drop(index=15957)\n",
    "data"
   ]
  },
  {
   "cell_type": "code",
   "execution_count": null,
   "metadata": {},
   "outputs": [],
   "source": [
    "# выберем платформы с наибольшими суммарными продажами\n",
    "\n",
    "platform_sales = pd.DataFrame(data\n",
    "                     .groupby('platform')['total_sales']\n",
    "                     .sum()\n",
    "                     .sort_values(ascending=False)\n",
    "                    .reset_index())\n",
    "platform_sales.head(10)"
   ]
  },
  {
   "cell_type": "markdown",
   "metadata": {},
   "source": [
    "Первые 6 платформ демонстрируют наибольшие продажи, далее показатели существенно сокращаются. Изучим на графиках, как менялись продажи этих платформ по годам."
   ]
  },
  {
   "cell_type": "code",
   "execution_count": null,
   "metadata": {},
   "outputs": [],
   "source": [
    "top6_platforms = platform_sales.loc[:5, 'platform']\n",
    "platform_sales_per_year[platform_sales_per_year.index.isin(top6_platforms)].T.plot(figsize=(10, 5), grid=True)\n",
    "plt.title('Динамика глобальных продаж на наиболее популярных платформах', fontsize=14, pad=10)\n",
    "plt.xlabel('Год', fontsize=12, labelpad=10)\n",
    "plt.ylabel('Продажи, млн. шт.', fontsize=12, labelpad=10)\n",
    "plt.xlim(1993, 2017)\n",
    "plt.legend(title='Платформа')\n",
    "sns.despine()\n",
    "plt.show()"
   ]
  },
  {
   "cell_type": "markdown",
   "metadata": {},
   "source": [
    "Продажи игр на каждой из топ-6 платформ имеют схожие тренды на графиках: рост, пик и падение. По \"пикам\" можно определить и характерный срок, за который появляются новые и исчезают старые платформы.\n",
    "\n",
    "Так, например, судя по графику, продажи игр на платформе **PS** достигли своего пика в 1998 году, следующий пик продаж - игры на платформе **PS2** - был отмечен в 2002 и 2004 годах. Следующий пик - **PS3** - уже в 2011 году. В среднем процесс исчезновения старых платформ и (одновременного) появления новых составляет 5 лет. Для более точного результата рассчитаем медианный срок жизни платформы."
   ]
  },
  {
   "cell_type": "code",
   "execution_count": null,
   "metadata": {},
   "outputs": [],
   "source": [
    "# рассчитаем медианный срок жизни платформы\n",
    "\n",
    "platform_life_time = data.pivot_table(\n",
    "    index='platform', values='year_of_release', aggfunc=['min', 'max'])\n",
    "platform_life_time['life_time'] = platform_life_time['max'] - platform_life_time['min'] + 1\n",
    "platform_life_time['life_time'].median()"
   ]
  },
  {
   "cell_type": "markdown",
   "metadata": {},
   "source": [
    "Как видно из расчётов, **медианный срок жизни платформы составляет 7 лет**. Проверим, насколько отличается этот показатель, если рассчитать его на основе 6 крупнейших платформ."
   ]
  },
  {
   "cell_type": "code",
   "execution_count": null,
   "metadata": {},
   "outputs": [],
   "source": [
    "platform_life_time = platform_life_time.reset_index()\n",
    "top_platform_life_time = platform_life_time[platform_life_time['platform'].isin(top6_platforms)]\n",
    "top_platform_life_time['life_time'].median()"
   ]
  },
  {
   "cell_type": "markdown",
   "metadata": {},
   "source": [
    "Интересно, что срок жизни топ-6 популярных платформ существенно больше - 11 лет. Вероятно, чем больше игр приобретается на платформе, тем дольше она \"держится\" на рынке."
   ]
  },
  {
   "cell_type": "markdown",
   "metadata": {},
   "source": [
    "### 3.3. Изучение актуального периода продаж"
   ]
  },
  {
   "cell_type": "code",
   "execution_count": null,
   "metadata": {},
   "outputs": [],
   "source": [
    "# проанализируем продажи, которые компания получала за предыдущие годы\n",
    "\n",
    "data.groupby('year_of_release')['total_sales'].sum().plot(figsize=(10, 5), grid=True)\n",
    "plt.title('Динамика глобальных продаж с 1980 по 2016 гг.', fontsize=14, pad=10)\n",
    "plt.xlabel('Год', fontsize=12, labelpad=10)\n",
    "plt.ylabel('Продажи, млн. шт.', fontsize=12, labelpad=10)\n",
    "sns.despine()\n",
    "plt.show()"
   ]
  },
  {
   "cell_type": "markdown",
   "metadata": {},
   "source": [
    "**Наблюдение**: начиная с 2009 года компания демонстрирует резкое сокращение глобальных продаж.\n",
    "\n",
    "Необходимое условие для определения актуального периода: \"данные помогут построить прогноз на 2017 год\". Как было определено на предудыщем шаге, средняя \"жизнь\" платформы составляет 7 лет.\n",
    "\n",
    "Актуальным периодом для анализа, позволяющим корректно построить прогноз продаж на будущий период, будет примерно половина такого срока. С целью дальнейшего анализа избавимся от всех наблюдений до 2013 года, т.е. в выборку войдут все продажи за период с 2013 по 2016 год - в этом периоде будет 3 полных года (2013-2015 гг.)."
   ]
  },
  {
   "cell_type": "code",
   "execution_count": null,
   "metadata": {},
   "outputs": [],
   "source": [
    "data = data[data['year_of_release'] > 2012]\n",
    "data.info()"
   ]
  },
  {
   "cell_type": "markdown",
   "metadata": {},
   "source": [
    "Получили выборку из **2 233 наблюдений**."
   ]
  },
  {
   "cell_type": "markdown",
   "metadata": {},
   "source": [
    "### 3.4. Глобальные лидеры по продажам среди платформ"
   ]
  },
  {
   "cell_type": "code",
   "execution_count": null,
   "metadata": {},
   "outputs": [],
   "source": [
    "# определим, какие платформы с 2013 года лидируют в продажах, а также тренды по продажам\n",
    "\n",
    "sales_pivot = data.pivot_table(\n",
    "    index='platform',\n",
    "    values='total_sales',\n",
    "    columns='year_of_release',\n",
    "    aggfunc='sum'\n",
    ")\n",
    "\n",
    "sales_pivot['total'] = sales_pivot.sum(axis=1)\n",
    "sales_pivot = sales_pivot.sort_values(by='total', ascending=False)\n",
    "sales_pivot"
   ]
  },
  {
   "cell_type": "markdown",
   "metadata": {},
   "source": [
    "Видим, что в топ-5 среди анализируемых платформ по суммарным продажам с 2013 по 2016 гг. находятся следующие платформы:\n",
    "1. PS4;\n",
    "2. PS3;\n",
    "3. XOne;\n",
    "4. 3DS;\n",
    "5. X360.\n",
    "\n",
    "Проанализируем с помощью графиков, как ведут себя продажи на этих платформах в динамике."
   ]
  },
  {
   "cell_type": "code",
   "execution_count": null,
   "metadata": {},
   "outputs": [],
   "source": [
    "top_sales_pivot = sales_pivot[:5]\n",
    "top_sales_pivot = top_sales_pivot.drop('total', axis=1)\n",
    "top_sales_pivot.T.plot(figsize=(10, 5), grid=True)\n",
    "plt.title('Динамика глобальных продаж на топ-5 платформах с 2013 по 2016 гг.', fontsize=14, pad=10)\n",
    "plt.xlabel('Год', fontsize=12, labelpad=10)\n",
    "plt.ylabel('Продажи, млн. шт.', fontsize=12, labelpad=10)\n",
    "plt.xticks(ticks=[2013, 2014, 2015, 2016])\n",
    "plt.xlim(2013, 2016)\n",
    "plt.legend(title='Платформа', bbox_to_anchor=(1.2, 1), frameon=False)\n",
    "sns.despine()\n",
    "plt.show()"
   ]
  },
  {
   "cell_type": "markdown",
   "metadata": {},
   "source": [
    "Данные за 2016 год можно не брать во внимание по причине того, что они могут быть неполными. Но даже исключая 2016 год из анализа, можно отметить, что 2 из топ-5 платформ увеличивают свои продажи с 2013 года, в то время как остальные 3 - падают.\n",
    "\n",
    "Посмотрим на более широкую картину: как ведут себя остальные платформы?"
   ]
  },
  {
   "cell_type": "code",
   "execution_count": null,
   "metadata": {},
   "outputs": [],
   "source": [
    "sales_pivot.drop('total', axis=1).T.plot(figsize=(10, 7), grid=True)\n",
    "plt.title('Динамика глобальных продаж с 2013 по 2016 гг. по платформам', fontsize=14, pad=10)\n",
    "plt.xlabel('Год', fontsize=12, labelpad=10)\n",
    "plt.ylabel('Продажи, млн. шт.', fontsize=12, labelpad=10)\n",
    "plt.xticks(ticks=[2013, 2014, 2015, 2016])\n",
    "plt.xlim(2013, 2016)\n",
    "plt.legend(title='Платформа', loc='upper right', bbox_to_anchor=(1.2, 1), frameon=False)\n",
    "sns.despine()\n",
    "plt.show()"
   ]
  },
  {
   "cell_type": "markdown",
   "metadata": {},
   "source": [
    "**Большая часть платформ с 2013 года демонстрирует падение продаж.** Самое заметное - у платформ PS3 и X360, на смену которым пришли PS4 и XOne.\n",
    "\n",
    "**Платформы PS4 и XOne, таким образом, можно отнести к потенциально прибыльным.**"
   ]
  },
  {
   "cell_type": "markdown",
   "metadata": {},
   "source": [
    "### 3.5. Глобальные продажи игр в разбивке по платформам"
   ]
  },
  {
   "cell_type": "code",
   "execution_count": null,
   "metadata": {},
   "outputs": [],
   "source": [
    "# построим графики \"ящик с усами\" по глобальным продажам игр в разбивке по платформам\n",
    "\n",
    "fig, ax = plt.subplots(figsize=(15, 8))\n",
    "data.boxplot(column=['total_sales'], by='platform', ax=ax)\n",
    "plt.ylim(0, 2)\n",
    "fig.suptitle('Диаграммы размаха для глобальных продаж \\n с 2013 по 2016 гг. по платформам', fontsize=14)\n",
    "plt.title('')\n",
    "plt.xlabel('Платформа', fontsize=12, labelpad=10)\n",
    "plt.ylabel('Продажи с 2013 по 2016 гг.', fontsize=12, labelpad=10)\n",
    "sns.despine()\n",
    "plt.show()"
   ]
  },
  {
   "cell_type": "code",
   "execution_count": null,
   "metadata": {},
   "outputs": [],
   "source": [
    "# построим графики \"ящик с усами\" по глобальным продажам игр в разбивке по платформам\n",
    "# со всеми выбросами\n",
    "\n",
    "fig, ax = plt.subplots(figsize=(15,8))\n",
    "data.boxplot(column=['total_sales'], by='platform', ax=ax)\n",
    "fig.suptitle('Диаграммы размаха для глобальных продаж \\n с 2013 по 2016 гг. по платформам', fontsize=14)\n",
    "plt.title('')\n",
    "plt.xlabel('Платформа', fontsize=12, labelpad=10)\n",
    "plt.ylabel('Продажи с 2013 по 2016 гг.', fontsize=12, labelpad=10)\n",
    "sns.despine()\n",
    "plt.show()"
   ]
  },
  {
   "cell_type": "markdown",
   "metadata": {},
   "source": [
    "По графикам видим, что наибольшее медианное значение глобальных продаж с 2013 по 2016 гг. демонстрируют платформы **X360, WiiU, XOne**. Далее следуют платформы **PS3 и PS4**, на всех остальных платформах игры медианное значение продаж ниже.\n",
    "\n",
    "Интересно также наблюдать за степенью разброса значений продаж внутри платформ. Так, например, платформы X360 и PS4 демонстрируют самый большой разброс: несмотря на высокие медианные значения, продажи игр могут быть абсолютно разными. Для сравнения продажи игр на платформах PSP или PS2 имеют гораздо меньший разброс (что связано, скорее всего, с тем, что игры на этих платформах в целом выпускались с 2013 года гораздо реже, поэтому продажи были небольшими и менее вариативными).\n",
    "\n",
    "Интересно и то, что на самых популярных платформах замечено больше всего выбросов. Вероятно, с 2013 по 2016 год на этих платформах выходили игры, которые завоёвывали огромную популярность у пользователей, что принесло большие продажи."
   ]
  },
  {
   "cell_type": "markdown",
   "metadata": {},
   "source": [
    "### 3.6. Влияние отзывов пользователей и критиков на продажи"
   ]
  },
  {
   "cell_type": "code",
   "execution_count": null,
   "metadata": {},
   "outputs": [],
   "source": [
    "# посмотрим, как влияют отзывы пользователей и критиков на продажи внутри платформы PS4\n",
    "\n",
    "data_ps4 = data[data['platform'] == 'PS4']\n",
    "\n",
    "print(f\"Коэффициент корреляции между переменными: \\\n",
    "{round(data_ps4['user_score'].corr(data_ps4['total_sales']), 2)}\")\n",
    "plt.figure(figsize=(10, 5))\n",
    "plt.scatter(data_ps4['user_score'], data_ps4['total_sales'])\n",
    "plt.title('Диаграмма рассеяния для переменных \\n user_score и total_sales для платформы PS4',\n",
    "         fontsize=14, pad=10)\n",
    "plt.xlabel('Рейтинг пользователей', fontsize=12, labelpad=10)\n",
    "plt.ylabel('Продажи игр с 2013 по 2016 гг.', fontsize=12, labelpad=10)\n",
    "sns.despine()\n",
    "plt.show()"
   ]
  },
  {
   "cell_type": "markdown",
   "metadata": {},
   "source": [
    "Между переменными наблюдается очень слабая взаимосвязь: **рейтинг пользователей практически никак не связан с продажами игр на платформе.**\n",
    "\n",
    "Проанализируем аналогичную взаимосвязь между рейтингом критиков и продажами."
   ]
  },
  {
   "cell_type": "code",
   "execution_count": null,
   "metadata": {},
   "outputs": [],
   "source": [
    "print(f\"Коэффициент корреляции между переменными: \\\n",
    "{round(data_ps4['critic_score'].corr(data_ps4['total_sales']), 2)}\")\n",
    "\n",
    "plt.figure(figsize=(10, 5))\n",
    "plt.scatter(data_ps4['critic_score'], data_ps4['total_sales'])\n",
    "plt.title('Диаграмма рассеяния для переменных \\n critic_score и total_sales для платформы PS4',\n",
    "         fontsize=14, pad=10)\n",
    "plt.xlabel('Рейтинг критиков', fontsize=12, labelpad=10)\n",
    "plt.ylabel('Продажи игр с 2013 по 2016 гг.', fontsize=12, labelpad=10)\n",
    "sns.despine()\n",
    "plt.show()"
   ]
  },
  {
   "cell_type": "markdown",
   "metadata": {},
   "source": [
    "Между переменными *critic_score* и *total_sales* на платформе PS4 наблюдается более сильная взаимосвязь (коэффициент корреляции составляет ~ 0.41). Следовательно, **рейтинг критиков игр на платформе PS4 имеет взаимосвязь среднего уровня с продажами игр с 2013 по 2016 гг.**\n",
    "\n",
    "Отметим также, что по мере увеличения оценки критиков происходит резкое увеличение продаж, т.е. **продажи демонстрируют скорее экспоненциальный рост по мере увеличения рейтинга критиков**.\n",
    "\n",
    "Сопоставим наблюдения с остальными платформами. Будет ли наблюдаться та же тенденция: **рейтинг пользователей практически не связан с продажами игр на платформе, в то время как рейтинг критиков имеет более тесную взаимосвязь с продажами?** Ответить на этот вопрос помогут коэффициенты корреляции между переменными *user_score* и *total_sales*, *critic_score* и *total_sales* по каждой переменной."
   ]
  },
  {
   "cell_type": "code",
   "execution_count": null,
   "metadata": {},
   "outputs": [],
   "source": [
    "# построим матрицу корреляций\n",
    "\n",
    "corr_matrix = data.groupby('platform')[['critic_score', 'user_score', 'total_sales']].corr()\n",
    "cm = sns.light_palette(\"green\", as_cmap=True)\n",
    "corr_matrix = corr_matrix.style.background_gradient(cmap=cm)\n",
    "corr_matrix"
   ]
  },
  {
   "cell_type": "markdown",
   "metadata": {},
   "source": [
    "Для 9 из 12 платформ тренд подтверждается: корреляция между рейтингом критиков и продажами более высокая, чем между рейтингом пользователей и продажами. Исключением стали платформы **DS и WiiU**, а также **PS2** по причине того, что данных по критериям недостаточно."
   ]
  },
  {
   "cell_type": "code",
   "execution_count": null,
   "metadata": {},
   "outputs": [],
   "source": [
    "# изобразим диаграммы рассеяния для топ-5 платформ по парам переменных:\n",
    "# user_score и total_sales, critic_score и total_sales\n",
    "\n",
    "for p in data['platform'].unique()[:5]:\n",
    "    data_platform = data[data['platform'] == p]\n",
    "    print('-'*30)\n",
    "    print('Коэффициенты корреляции для платформы', p, ': \\n user_score и total_sales:',\n",
    "          round(data_platform['user_score'].corr(data_platform['total_sales']), 2),\n",
    "         '\\n critic_score и total_sales:',\n",
    "          round(data_platform['critic_score'].corr(data_platform['total_sales']), 2))\n",
    "    fig, ax = plt.subplots(1, 2, figsize=(10, 3))\n",
    "    fig.suptitle(p, fontsize=14)\n",
    "    ax[0].scatter(data_platform['user_score'], data_platform['total_sales'], alpha=0.5)\n",
    "    ax[1].scatter(data_platform['critic_score'], data_platform['total_sales'], alpha=0.5)\n",
    "    ax[0].set(xlabel='Рейтинг пользователей')\n",
    "    ax[1].set(xlabel='Рейтинг критиков')\n",
    "    ax[0].set(ylabel='Продажи, млн. шт.')\n",
    "    ax[1].set(ylabel='Продажи, млн. шт.')\n",
    "    sns.despine()\n",
    "    plt.show()"
   ]
  },
  {
   "cell_type": "markdown",
   "metadata": {},
   "source": [
    "На большинстве из топ-5 платформ подтверждается выявленный тренд: **оценки пользователей практически не связаны с продажами игр, в то время как оценка критиков и продажи связаны положительной взаимосвязью среднего уровня**. Исключением можно назвать платформу 3DS: на ней оценки пользователей также обладают слабой положительной взаимосвязью с продажами игр."
   ]
  },
  {
   "cell_type": "markdown",
   "metadata": {},
   "source": [
    "### 3.7. Распределение игр по жанрам"
   ]
  },
  {
   "cell_type": "code",
   "execution_count": null,
   "metadata": {},
   "outputs": [],
   "source": [
    "genre_pivot = (data\n",
    "               .pivot_table(\n",
    "                   index='genre',\n",
    "                   values='total_sales',\n",
    "                   aggfunc=['sum', 'median'])\n",
    ")\n",
    "genre_pivot.columns=['sum', 'median']\n",
    "genre_pivot = genre_pivot.sort_values(by='sum', ascending=False)\n",
    "genre_pivot"
   ]
  },
  {
   "cell_type": "code",
   "execution_count": null,
   "metadata": {},
   "outputs": [],
   "source": [
    "genre_pivot = genre_pivot.sort_values(by='median', ascending=False)\n",
    "genre_pivot"
   ]
  },
  {
   "cell_type": "markdown",
   "metadata": {},
   "source": [
    "Наибольшие суммарные продажи с 2013 по 2016 гг. демонстрировали игры жанров **Action** и **Shooter**, наименее популярны игры жанров **Strategy** и **Puzzle**.\n",
    "\n",
    "Однако при сравнении медианных продаж картина меняется: лидерство удерживают игры жанра **Shooter**, а вот **Action** - существенно ниже в рейтинге.\n",
    "\n",
    "Для более детального изучения данных посмотрим на диаграммы размаха глобальных продаж по жанрам."
   ]
  },
  {
   "cell_type": "code",
   "execution_count": null,
   "metadata": {},
   "outputs": [],
   "source": [
    "fig, ax = plt.subplots(figsize=(15,8))\n",
    "data.boxplot(column=['total_sales'], by='genre', ax=ax, grid=False)\n",
    "fig.suptitle('Диаграммы размаха для глобальных продаж по жанрам', fontsize=14)\n",
    "plt.title('')\n",
    "plt.xlabel('Жанр', fontsize=12, labelpad=10)\n",
    "plt.ylabel('Продажи с 2013 по 2016 гг.', fontsize=12, labelpad=10)\n",
    "sns.despine()\n",
    "plt.show()"
   ]
  },
  {
   "cell_type": "markdown",
   "metadata": {},
   "source": [
    "На диаграммах размаха видно: суммарные продажи игр жанра Action больше всех остальных из-за наличия большого количества выбросов - в частности, за последние 3 года было 3 игры с продажами более 10 млн. копий, а одна игра - более 20 млн. копий."
   ]
  },
  {
   "cell_type": "code",
   "execution_count": null,
   "metadata": {},
   "outputs": [],
   "source": [
    "# посмотрим, какая игра жанра Action набрала наибольшее кол-во продаж за последние 3 года\n",
    "\n",
    "data[data['genre'] == 'Action'].max()"
   ]
  },
  {
   "cell_type": "code",
   "execution_count": null,
   "metadata": {},
   "outputs": [],
   "source": [
    "# увеличим масштаб диаграмм размаха, чтобы лучше увидеть разброс значений\n",
    "# по продажам игр в разбивке по жанрам\n",
    "\n",
    "fig, ax = plt.subplots(figsize=(15, 8))\n",
    "data.boxplot(column=['total_sales'], by='genre', ax=ax, grid=False)\n",
    "fig.suptitle('Диаграммы размаха для глобальных продаж по жанрам', fontsize=14)\n",
    "plt.ylim(0, 4)\n",
    "plt.title('')\n",
    "plt.xlabel('Жанр', fontsize=12, labelpad=10)\n",
    "plt.ylabel('Продажи с 2013 по 2016 гг.', fontsize=12, labelpad=10)\n",
    "sns.despine()\n",
    "plt.show()"
   ]
  },
  {
   "cell_type": "markdown",
   "metadata": {},
   "source": [
    "На основе графиков можно сделать вывод: **более устойчиво выглядят продажи игр жанров Shooter, Sports и Platform**. Проверим, соблюдается ли аналогичный тренд при анализе продаж в динамике."
   ]
  },
  {
   "cell_type": "code",
   "execution_count": null,
   "metadata": {},
   "outputs": [],
   "source": [
    "# посмотрим, как вели себя глобальные продажи игр по жанрам за последние 3 года\n",
    "\n",
    "genre_pivot = (data\n",
    "               .pivot_table(\n",
    "                   index='genre',\n",
    "                   values='total_sales',\n",
    "                   columns='year_of_release',\n",
    "                   aggfunc='sum')\n",
    ")\n",
    "\n",
    "genre_pivot.T.plot(figsize=(10, 7))\n",
    "plt.title('Динамика глобальных продаж с 2013 по 2016 гг. по жанрам', fontsize=14, pad=10)\n",
    "plt.xlabel('Год', fontsize=12, labelpad=10)\n",
    "plt.ylabel('Продажи, млн. шт.', fontsize=12, labelpad=10)\n",
    "plt.xticks([2013, 2014, 2015, 2016])\n",
    "plt.legend(title='Жанр', frameon=False, bbox_to_anchor=(1.2, 1))\n",
    "sns.despine()\n",
    "plt.show()"
   ]
  },
  {
   "cell_type": "code",
   "execution_count": null,
   "metadata": {},
   "outputs": [],
   "source": [
    "# проверим аналогичную динамику медианных продаж\n",
    "\n",
    "genre_pivot_median = (data\n",
    "                      .pivot_table(\n",
    "                          index='genre',\n",
    "                          values='total_sales',\n",
    "                          columns='year_of_release',\n",
    "                          aggfunc='median')\n",
    ")\n",
    "\n",
    "genre_pivot_median.T.plot(figsize=(10, 7))\n",
    "fig.suptitle('Динамика медианных продаж с 2013 по 2016 гг. по жанрам', fontsize=14)\n",
    "plt.title('')\n",
    "plt.xlabel('Год', fontsize=12, labelpad=10)\n",
    "plt.ylabel('Продажи, млн. шт.', fontsize=12, labelpad=10)\n",
    "plt.xticks([2013, 2014, 2015, 2016])\n",
    "plt.legend(title='Жанр', frameon=False, bbox_to_anchor=(1.2, 1))\n",
    "sns.despine()\n",
    "plt.show()"
   ]
  },
  {
   "cell_type": "markdown",
   "metadata": {},
   "source": [
    "Несмотря на своё лидерство, **с 2013 года игры жанра Action теряют свои позиции на глобальном рынке**.\n",
    "\n",
    "**Продажи игр жанра Shooter выглядят более стабильно** как с позиции медианных продаж с 2013 по 2016 гг., так и с точки зрения суммарных продаж игр за аналогичный период. Жанры Sports и Platform также выглядят привлекательно с точки зрения медианных продаж, однако мы не можем быть уверены в их стабильности."
   ]
  },
  {
   "cell_type": "markdown",
   "metadata": {},
   "source": [
    "### Выводы по итогам исследовательского анализа"
   ]
  },
  {
   "cell_type": "markdown",
   "metadata": {},
   "source": [
    "**Ключевые выводы по итогам исследовательского анализа:**\n",
    "1. **пик продаж компьютерных игр интернет-магазина пришёлся на период с 2005 по 2011 года, максимум - в 2009 году. Начиная с этого же года глобальные продажи компании стремительно снижаются**;\n",
    "2. в \"топе\" глобальных продаж за последние 3 года (2013-2016 гг.) находятся платформы **PS4, PS3, XOne, 3DS и X360**;\n",
    "3. **уверенный рост на глобальном рынке за последние 3 года демонстрируют 2 платформы: PS4 и XOne**. Первые игры на них продавались в 2013 году, и на протяжении двух лет темпы роста продаж игр на PS4 и XOne позволили перегнать \"старые\" платформы;\n",
    "4. практически на всех платформах не наблюдается взаимосвязи между оценкой пользователей и продажами игр на платформе. **Более сильно на продажи влияют оценки критиков, при этом рост продаж имеет скорее экспоненциальный характер (по мере роста оценок критиков сила связи с продажами также увеличивается)**;\n",
    "5. **наибольшие суммарные продажи за последние 3 года принесли игры жанра Action, однако с 2013 года они теряют свои позиции на глобальном рынке**. Более стабильно выглядят игры жанра **Shooter**;\n",
    "6. **средний срок \"жизни\" игровой платформы составляет 7 лет**, при этом для топ-6 платформ этот показатель существенно выше - 11.5 лет."
   ]
  },
  {
   "cell_type": "markdown",
   "metadata": {},
   "source": [
    "<a id='step4'></a>\n",
    "## 4. Портреты пользователей"
   ]
  },
  {
   "cell_type": "markdown",
   "metadata": {},
   "source": [
    "Составим портрет пользователя для каждого из представленных регионов (NA, EU, JP). Определим:\n",
    "1. топ-5 игровых платформ;\n",
    "2. топ-5 жанров;\n",
    "3. влияние рейтинга ESRB на продажи."
   ]
  },
  {
   "cell_type": "markdown",
   "metadata": {},
   "source": [
    "### 4.1. Северная Америка (NA)"
   ]
  },
  {
   "cell_type": "markdown",
   "metadata": {},
   "source": [
    "#### 4.1.1. Топ-5 платформ в Северной Америке"
   ]
  },
  {
   "cell_type": "code",
   "execution_count": null,
   "metadata": {},
   "outputs": [],
   "source": [
    "# создадим отдельный датафрейм для игр, проданных в Северной Америке\n",
    "\n",
    "data_na = data.drop(['eu_sales', 'jp_sales', 'other_sales'], axis=1)\n",
    "data_na.head()"
   ]
  },
  {
   "cell_type": "code",
   "execution_count": null,
   "metadata": {},
   "outputs": [],
   "source": [
    "data_na_platform_pivot = (data_na\n",
    " .pivot_table(index='platform', values='na_sales', aggfunc='sum')\n",
    " .sort_values(by='na_sales', ascending=False)\n",
    ")\n",
    "\n",
    "data_na_platform_pivot['sales_share'] = (round(data_na_platform_pivot['na_sales'] / \n",
    "                                         data_na_platform_pivot['na_sales'].sum() * 100, 1))\n",
    "data_na_platform_pivot.head()"
   ]
  },
  {
   "cell_type": "markdown",
   "metadata": {},
   "source": [
    "Наибольшую долю продаж в Северной Америке с 2013 по 2016 гг. составляли игры на платформе **PS4 (24.8% от всех продаж в регионе)**. В пятёрку наиболее популярных платформ в регионе также входят платформы **XOne (21.3%), X360 (18.7%), PS3 (14.5%) и 3DS (8.7%)**."
   ]
  },
  {
   "cell_type": "code",
   "execution_count": null,
   "metadata": {},
   "outputs": [],
   "source": [
    "# дополнительно проверим, как ведут себя продажи игр \n",
    "# на платформах в Северной Америке в динамике\n",
    "\n",
    "na_platform_pivot = data_na.pivot_table(\n",
    "    index='platform',\n",
    "    values='na_sales',\n",
    "    columns='year_of_release',\n",
    "    aggfunc='sum'\n",
    ")\n",
    "\n",
    "na_platform_pivot['total'] = na_platform_pivot.sum(axis=1)\n",
    "na_platform_pivot = na_platform_pivot.sort_values(by='total', ascending=False)\n",
    "na_platform_pivot = na_platform_pivot.drop('total', axis=1)\n",
    "na_platform_pivot.T.plot(figsize=(10, 7))\n",
    "plt.title('Динамика продаж в Северной Америке \\n с 2013 по 2016 гг. по платформам', fontsize=14, pad=10)\n",
    "plt.xlabel('Год', fontsize=12, labelpad=10)\n",
    "plt.ylabel('Продажи, млн. шт.', fontsize=12, labelpad=10)\n",
    "plt.xticks([2013, 2014, 2015, 2016])\n",
    "plt.legend(title='Платформа', frameon=False, bbox_to_anchor=(1.2, 1))\n",
    "sns.despine()\n",
    "plt.show()"
   ]
  },
  {
   "cell_type": "markdown",
   "metadata": {},
   "source": [
    "Видим следующее: **помимо лидерства в суммарных продажах за 2013-2016 гг., платформы PS4 и XOne демонстрируют рост продаж и в динамике**.\n",
    "\n",
    "**Продажи игр на платформах X360 и PS3 на рынке Северной Америки с 2013 года постоянно снижаются**."
   ]
  },
  {
   "cell_type": "markdown",
   "metadata": {},
   "source": [
    "#### 4.1.2. Топ-5 жанров в Северной Америке"
   ]
  },
  {
   "cell_type": "code",
   "execution_count": null,
   "metadata": {},
   "outputs": [],
   "source": [
    "data_na_genre_pivot = (data_na\n",
    " .pivot_table(index='genre', values='na_sales', aggfunc='sum')\n",
    " .sort_values(by='na_sales', ascending=False)\n",
    ")\n",
    "\n",
    "data_na_genre_pivot['sales_share'] = (round(data_na_genre_pivot['na_sales'] / \n",
    "                                         data_na_genre_pivot['na_sales'].sum() * 100, 1))\n",
    "data_na_genre_pivot.head()"
   ]
  },
  {
   "cell_type": "markdown",
   "metadata": {},
   "source": [
    "Больше всего в Северной Америке с 2013 по 2016 гг. популярностью пользовались игры жанра **Action (28.8% всех продаж в Северной Америке в соответствующий период)**.\n",
    "\n",
    "В пятёрку наиболее популярных жанров также вошли: **Shooter (25.1%), Sports (14.9%), Role-Playing (10.6%) и Misc (6.3%)**."
   ]
  },
  {
   "cell_type": "code",
   "execution_count": null,
   "metadata": {},
   "outputs": [],
   "source": [
    "# дополнительно проверим, как ведут себя продажи игр \n",
    "# разных жанров в Северной Америке в динамике\n",
    "\n",
    "na_genre_pivot = data_na.pivot_table(\n",
    "    index='genre',\n",
    "    values='na_sales',\n",
    "    columns='year_of_release',\n",
    "    aggfunc='sum'\n",
    ")\n",
    "\n",
    "na_genre_pivot['total'] = na_genre_pivot.sum(axis=1)\n",
    "na_genre_pivot = na_genre_pivot.sort_values(by='total', ascending=False)\n",
    "na_genre_pivot = na_genre_pivot.drop('total', axis=1)\n",
    "\n",
    "na_genre_pivot.T.plot(figsize=(10, 7))\n",
    "plt.title('Динамика продаж в Северной Америке \\n с 2013 по 2016 гг. по жанрам', fontsize=14, pad=10)\n",
    "plt.xlabel('Год', fontsize=12, labelpad=10)\n",
    "plt.ylabel('Продажи, млн. шт.', fontsize=12, labelpad=10)\n",
    "plt.xticks([2013, 2014, 2015, 2016])\n",
    "plt.legend(title='Жанр', frameon=False, bbox_to_anchor=(1.2, 1))\n",
    "sns.despine()\n",
    "plt.show()"
   ]
  },
  {
   "cell_type": "markdown",
   "metadata": {},
   "source": [
    "Общая тенденция продаж по жанрам в Северной Америке с 2013 по 2016 гг. соответствует глобальному тренду: **игры жанра Action теряют позиции, в то время как игры жанров Shooter, Sports и Role-Playing постепенно приходят им на замену**."
   ]
  },
  {
   "cell_type": "code",
   "execution_count": null,
   "metadata": {},
   "outputs": [],
   "source": [
    "# дополнительно проверим, как ведут себя медианные продажи игр \n",
    "# разных жанров в Северной Америке в динамике\n",
    "\n",
    "na_genre_pivot_median = data_na.pivot_table(\n",
    "    index='genre',\n",
    "    values='na_sales',\n",
    "    columns='year_of_release',\n",
    "    aggfunc='median'\n",
    ")\n",
    "\n",
    "na_genre_pivot_median['total'] = na_genre_pivot_median.sum(axis=1)\n",
    "na_genre_pivot_median = na_genre_pivot_median.sort_values(by='total', ascending=False)\n",
    "na_genre_pivot_median = na_genre_pivot_median.drop('total', axis=1)\n",
    "\n",
    "na_genre_pivot_median.T.plot(figsize=(10, 7))\n",
    "plt.title('Динамика медианных продаж в Северной Америке \\n с 2013 по 2016 гг. по жанрам',\n",
    "         fontsize=14, pad=10)\n",
    "plt.xlabel('Год', fontsize=12, labelpad=10)\n",
    "plt.ylabel('Продажи, млн. шт.', fontsize=12, labelpad=10)\n",
    "plt.xticks([2013, 2014, 2015, 2016])\n",
    "plt.legend(title='Жанр', frameon=False, bbox_to_anchor=(1.2, 1))\n",
    "sns.despine()\n",
    "plt.show()"
   ]
  },
  {
   "cell_type": "markdown",
   "metadata": {},
   "source": [
    "Продажи игр в Северной Америке по жанрам подтверждают общий тренд: более устойчиво выглядят игры жанра **Shooter**."
   ]
  },
  {
   "cell_type": "markdown",
   "metadata": {},
   "source": [
    "#### 4.1.3. Влияние рейтинга ESRB на продажи игр в Северной Америке"
   ]
  },
  {
   "cell_type": "code",
   "execution_count": null,
   "metadata": {},
   "outputs": [],
   "source": [
    "# построим диаграммы размаха переменной продаж в Северной Америке для каждого рейтинга\n",
    "\n",
    "fig, ax = plt.subplots(figsize=(15, 8))\n",
    "data_na.boxplot(column=['na_sales'], by='rating', ax=ax, grid=False)\n",
    "plt.ylim(0, 2)\n",
    "fig.suptitle('Диаграммы размаха для продаж в Северной Америке по рейтингу', fontsize=14)\n",
    "plt.title('')\n",
    "plt.xlabel('Рейтинг', fontsize=12, labelpad=10)\n",
    "plt.ylabel('Продажи с 2013 по 2016 гг.', fontsize=12, labelpad=10)\n",
    "sns.despine()\n",
    "plt.show()"
   ]
  },
  {
   "cell_type": "markdown",
   "metadata": {},
   "source": [
    "**Наибольшим спросом в Северной Америке с 2013 по 2016 гг. пользовались игры с рейтингом M (17+).** Посмотрим, сколько всего игр было продано в Северной Америке в разбивке по рейтингу."
   ]
  },
  {
   "cell_type": "code",
   "execution_count": null,
   "metadata": {},
   "outputs": [],
   "source": [
    "na_sales_by_rating = (data_na\n",
    " .pivot_table(index='rating', values='na_sales', aggfunc='sum')\n",
    " .sort_values(by='na_sales', ascending=False)\n",
    ")\n",
    "\n",
    "na_sales_by_rating['na_sales_share'] = (round(na_sales_by_rating['na_sales'] / \n",
    "                                     na_sales_by_rating['na_sales'].sum() * 100, 1))\n",
    "na_sales_by_rating"
   ]
  },
  {
   "cell_type": "markdown",
   "metadata": {},
   "source": [
    "**Доля игр рейтинга M (17+), проданных в Северной Америке с 2013 по 2016 гг., составляет 37.7%. В перечень наиболее популярных игр также вошли игры рейтинга E (0+; 18.1% продаж), E10+ (10+; 12.4%) и T (13+; 11.4%).**\n",
    "\n",
    "20.4% продаж за актуальный период составляют игры, изданные не в США или Канаде (NonNA) и, как следствие, не получившие рейтинг ESRB."
   ]
  },
  {
   "cell_type": "code",
   "execution_count": null,
   "metadata": {},
   "outputs": [],
   "source": [
    "# дополнительно проверим, как ведут себя продажи игр \n",
    "# разного рейтинга в Северной Америке в динамике\n",
    "\n",
    "na_rating_pivot = data_na.pivot_table(\n",
    "    index='rating',\n",
    "    values='na_sales',\n",
    "    columns='year_of_release',\n",
    "    aggfunc='sum'\n",
    ")\n",
    "\n",
    "na_rating_pivot['total'] = na_rating_pivot.sum(axis=1)\n",
    "na_rating_pivot = na_rating_pivot.sort_values(by='total', ascending=False)\n",
    "na_rating_pivot = na_rating_pivot.drop('total', axis=1)\n",
    "\n",
    "na_rating_pivot.T.plot(figsize=(10, 7))\n",
    "plt.title('Динамика продаж в Северной Америке \\n с 2013 по 2016 гг. по рейтингу', fontsize=14, pad=10)\n",
    "plt.xlabel('Год', fontsize=12, labelpad=10)\n",
    "plt.ylabel('Продажи, млн. шт.', fontsize=12, labelpad=10)\n",
    "plt.xticks([2013, 2014, 2015, 2016])\n",
    "plt.legend(title='Рейтинг', frameon=False, bbox_to_anchor=(1.2, 1))\n",
    "sns.despine()\n",
    "plt.show()"
   ]
  },
  {
   "cell_type": "code",
   "execution_count": null,
   "metadata": {},
   "outputs": [],
   "source": [
    "data_na['rating'].unique()"
   ]
  },
  {
   "cell_type": "markdown",
   "metadata": {},
   "source": [
    "В разбивке по рейтингам заметно **существенное падение продаж игр рейтинга M (17+)**.\n",
    "\n",
    "Интересное наблюдение: **с 2013 года в Северной Америке наблюдается небольшой рост продаж игр, произведённых не в США и не в Канаде** - это можно понять по увеличению продаж игр с установленной заглушкой NonNA."
   ]
  },
  {
   "cell_type": "code",
   "execution_count": null,
   "metadata": {},
   "outputs": [],
   "source": [
    "# дополнительно проверим, как ведут себя медианные продажи игр \n",
    "# разного рейтинга в Северной Америке в динамике\n",
    "\n",
    "na_rating_pivot_median = data_na.pivot_table(\n",
    "    index='rating',\n",
    "    values='na_sales',\n",
    "    columns='year_of_release',\n",
    "    aggfunc='median'\n",
    ")\n",
    "\n",
    "na_rating_pivot_median['total'] = na_rating_pivot_median.sum(axis=1)\n",
    "na_rating_pivot_median = na_rating_pivot_median.sort_values(by='total', ascending=False)\n",
    "na_rating_pivot_median = na_rating_pivot_median.drop('total', axis=1)\n",
    "\n",
    "na_rating_pivot_median.T.plot(figsize=(10, 7))\n",
    "plt.title('Динамика медианных продаж в Северной Америке \\n с 2013 по 2016 гг. по рейтингу', fontsize=14, pad=10)\n",
    "plt.xlabel('Год', fontsize=12, labelpad=10)\n",
    "plt.ylabel('Продажи, млн. шт.', fontsize=12, labelpad=10)\n",
    "plt.xticks([2013, 2014, 2015, 2016])\n",
    "plt.legend(title='Рейтинг', frameon=False, bbox_to_anchor=(1.2, 1))\n",
    "sns.despine()\n",
    "plt.show()"
   ]
  },
  {
   "cell_type": "markdown",
   "metadata": {},
   "source": [
    "Несмотря на падение суммарных продаж, **игры жанра M выглядят более устойчиво с точки зрения медианных продаж**.\n",
    "\n",
    "Медианные продажи игр не из США или Америки находятся на последнем месте. Учитывая рост суммарных продаж таких игр, можно сделать вывод, что **с 2013 года в Северную Америку \"зашло\" гораздо больше игр из других стран, однако их продажи нельзя считать успешными**. Рост продаж происходит из-за увеличения количества самих игр, а не продаж каждой отдельной игры."
   ]
  },
  {
   "cell_type": "markdown",
   "metadata": {},
   "source": [
    "#### 4.1.4. Портрет пользователя из Северной Америки"
   ]
  },
  {
   "cell_type": "markdown",
   "metadata": {},
   "source": [
    "Исходя из анализа, можем сформировать черты, которые характеризуют **портрет среднестатистического пользователя компьютерных игр в Северной Америке**:\n",
    "1. приобретает игры для платформ PS4 или XOne;\n",
    "2. жанр игры - Shooter;\n",
    "3. рейтинг игры - M (17+)."
   ]
  },
  {
   "cell_type": "markdown",
   "metadata": {},
   "source": [
    "### 4.2. Европа (EU)"
   ]
  },
  {
   "cell_type": "markdown",
   "metadata": {},
   "source": [
    "#### 4.2.1. Топ-5 платформ в Европе"
   ]
  },
  {
   "cell_type": "code",
   "execution_count": null,
   "metadata": {
    "scrolled": true
   },
   "outputs": [],
   "source": [
    "# создадим отдельный датафрейм для игр, проданных в Европе\n",
    "\n",
    "data_eu = data.drop(['na_sales', 'jp_sales', 'other_sales'], axis=1)\n",
    "data_eu.head()"
   ]
  },
  {
   "cell_type": "code",
   "execution_count": null,
   "metadata": {
    "scrolled": true
   },
   "outputs": [],
   "source": [
    "data_eu_platform_pivot = (data_eu\n",
    " .pivot_table(index='platform', values='eu_sales', aggfunc='sum')\n",
    " .sort_values(by='eu_sales', ascending=False)\n",
    ")\n",
    "\n",
    "data_eu_platform_pivot['sales_share'] = (round(data_eu_platform_pivot['eu_sales'] / \n",
    "                                         data_eu_platform_pivot['eu_sales'].sum() * 100, 1))\n",
    "data_eu_platform_pivot.head()"
   ]
  },
  {
   "cell_type": "markdown",
   "metadata": {},
   "source": [
    "Наибольшую долю продаж в Европе с 2013 по 2016 гг. составляли игры на платформе **PS4 (36.0% от всех продаж в регионе)**. В пятёрку наиболее популярных платформ в регионе также входят платформы **PS3 (17.3%), XOne (13.2%), X360 (10.8%) и 3DS (7.9%)**."
   ]
  },
  {
   "cell_type": "code",
   "execution_count": null,
   "metadata": {},
   "outputs": [],
   "source": [
    "# дополнительно проверим, как ведут себя продажи игр \n",
    "# на платформах в Европе в динамике\n",
    "\n",
    "eu_platform_pivot = data_eu.pivot_table(\n",
    "    index='platform',\n",
    "    values='eu_sales',\n",
    "    columns='year_of_release',\n",
    "    aggfunc='sum'\n",
    ")\n",
    "\n",
    "eu_platform_pivot['total'] = eu_platform_pivot.sum(axis=1)\n",
    "eu_platform_pivot = eu_platform_pivot.sort_values(by='total', ascending=False)\n",
    "eu_platform_pivot = eu_platform_pivot.drop('total', axis=1)\n",
    "\n",
    "eu_platform_pivot.T.plot(figsize=(10, 7))\n",
    "plt.title('Динамика продаж в Европе \\n с 2013 по 2016 гг. по платформам', fontsize=14, pad=10)\n",
    "plt.xlabel('Год', fontsize=12, labelpad=10)\n",
    "plt.ylabel('Продажи, млн. шт.', fontsize=12, labelpad=10)\n",
    "plt.xticks([2013, 2014, 2015, 2016])\n",
    "plt.legend(title='Платформа', frameon=False, bbox_to_anchor=(1.2, 1))\n",
    "sns.despine()\n",
    "plt.show()"
   ]
  },
  {
   "cell_type": "markdown",
   "metadata": {},
   "source": [
    "**Рост популярности игр на платформе PS4 в Европе оказался более ярковыраженным, чем в Северной Америке.** Тем не менее, тенденция осталась той же: **на смену платформам PS3 и X360 приходят платформы PS4 и XOne**."
   ]
  },
  {
   "cell_type": "code",
   "execution_count": null,
   "metadata": {},
   "outputs": [],
   "source": [
    "# дополнительно проверим, как ведут себя медианные продажи игр \n",
    "# на платформах в Европе в динамике\n",
    "\n",
    "eu_platform_pivot_median = data_eu.pivot_table(\n",
    "    index='platform',\n",
    "    values='eu_sales',\n",
    "    columns='year_of_release',\n",
    "    aggfunc='median'\n",
    ")\n",
    "\n",
    "eu_platform_pivot_median['total'] = eu_platform_pivot_median.sum(axis=1)\n",
    "eu_platform_pivot_median = eu_platform_pivot_median.sort_values(by='total', ascending=False)\n",
    "eu_platform_pivot_median = eu_platform_pivot_median.drop('total', axis=1)\n",
    "\n",
    "eu_platform_pivot_median.T.plot(figsize=(10, 7))\n",
    "plt.title('Динамика медианных продаж в Европе \\n с 2013 по 2016 гг. по платформам', fontsize=14, pad=10)\n",
    "plt.xlabel('Год', fontsize=12, labelpad=10)\n",
    "plt.ylabel('Продажи, млн. шт.', fontsize=12, labelpad=10)\n",
    "plt.xticks([2013, 2014, 2015, 2016])\n",
    "plt.legend(title='Платформа', frameon=False, bbox_to_anchor=(1.2, 1))\n",
    "sns.despine()\n",
    "plt.show()"
   ]
  },
  {
   "cell_type": "code",
   "execution_count": null,
   "metadata": {},
   "outputs": [],
   "source": [
    "# посмотрим на динамику общих продаж в Европе с 2013 по 2016 гг.\n",
    "\n",
    "data_eu.groupby('year_of_release')['total_sales'].sum().plot(figsize=(10, 5))\n",
    "plt.title('Динамика продаж в Европе с 2013 по 2016 гг.', fontsize=14, pad=10)\n",
    "plt.xlabel('Год', fontsize=12, labelpad=10)\n",
    "plt.ylabel('Продажи, млн. шт.', fontsize=12, labelpad=10)\n",
    "plt.xticks([2013, 2014, 2015, 2016])\n",
    "sns.despine()\n",
    "plt.show()"
   ]
  },
  {
   "cell_type": "markdown",
   "metadata": {},
   "source": [
    "**Продажи игр в Европе за последние 3 года постоянно снижаются**, однако в разбивке по платформам можно заметить интересную тенденцию: несмотря на всеобщее падение медианных продаж, суммарные продажи на некоторых платформах (PS4, XOne) увеличиваются. Это говорит об **увеличении количества игр, производимых и продаваемых на данных платформах**."
   ]
  },
  {
   "cell_type": "markdown",
   "metadata": {},
   "source": [
    "#### 4.2.2. Топ-5 жанров в Европе"
   ]
  },
  {
   "cell_type": "code",
   "execution_count": null,
   "metadata": {
    "scrolled": true
   },
   "outputs": [],
   "source": [
    "data_eu_genre_pivot = (data_eu\n",
    " .pivot_table(index='genre', values='eu_sales', aggfunc='sum')\n",
    " .sort_values(by='eu_sales', ascending=False)\n",
    ")\n",
    "\n",
    "data_eu_genre_pivot['sales_share'] = (round(data_eu_genre_pivot['eu_sales'] / \n",
    "                                         data_eu_genre_pivot['eu_sales'].sum() * 100, 1))\n",
    "data_eu_genre_pivot.head()"
   ]
  },
  {
   "cell_type": "markdown",
   "metadata": {},
   "source": [
    "Больше всего в Европе с 2013 по 2016 гг. популярностью пользовались игры жанра **Action (30.1% всех продаж в Европе в соответствующий период)**.\n",
    "\n",
    "В пятёрку наиболее популярных жанров также вошли: **Shooter (22.4%), Sports (15.4%), Role-Playing (9.4%) и Racing (5.1%)**.\n",
    "\n",
    "Отметим, что рейтинг лучших жанров в Европе практически полностью совпадает с аналогичным рейтингом в Северной Америке - кроме того, очень близки между собой и показатели доли продаж."
   ]
  },
  {
   "cell_type": "code",
   "execution_count": null,
   "metadata": {},
   "outputs": [],
   "source": [
    "# дополнительно проверим, как ведут себя продажи игр \n",
    "# разных жанров в Европе в динамике\n",
    "\n",
    "eu_genre_pivot = data_eu.pivot_table(\n",
    "    index='genre',\n",
    "    values='eu_sales',\n",
    "    columns='year_of_release',\n",
    "    aggfunc='sum'\n",
    ")\n",
    "\n",
    "eu_genre_pivot['total'] = eu_genre_pivot.sum(axis=1)\n",
    "eu_genre_pivot = eu_genre_pivot.sort_values(by='total', ascending=False)\n",
    "eu_genre_pivot = eu_genre_pivot.drop('total', axis=1)\n",
    "\n",
    "eu_genre_pivot.T.plot(figsize=(10, 7))\n",
    "plt.title('Динамика продаж в Европе \\n с 2013 по 2016 гг. по жанрам', fontsize=14, pad=10)\n",
    "plt.xlabel('Год', fontsize=12, labelpad=10)\n",
    "plt.ylabel('Продажи, млн. шт.', fontsize=12, labelpad=10)\n",
    "plt.xticks([2013, 2014, 2015, 2016])\n",
    "plt.legend(title='Жанр', frameon=False, bbox_to_anchor=(1.2, 1))\n",
    "sns.despine()\n",
    "plt.show()"
   ]
  },
  {
   "cell_type": "markdown",
   "metadata": {},
   "source": [
    "Как и в Северной Америке, **продажи игр жанра Action в Европе демонстрируют существенное падение**. Оно **частично компенсируется жанрами Shooter, Sports и Role-Playing**."
   ]
  },
  {
   "cell_type": "code",
   "execution_count": null,
   "metadata": {},
   "outputs": [],
   "source": [
    "# дополнительно проверим, как ведут себя медианные продажи игр \n",
    "# разных жанров в Европе в динамике\n",
    "\n",
    "eu_genre_pivot_median = data_eu.pivot_table(\n",
    "    index='genre',\n",
    "    values='eu_sales',\n",
    "    columns='year_of_release',\n",
    "    aggfunc='median'\n",
    ")\n",
    "\n",
    "eu_genre_pivot_median['total'] = eu_genre_pivot_median.sum(axis=1)\n",
    "eu_genre_pivot_median = eu_genre_pivot_median.sort_values(by='total', ascending=False)\n",
    "eu_genre_pivot_median = eu_genre_pivot_median.drop('total', axis=1)\n",
    "\n",
    "eu_genre_pivot_median.T.plot(figsize=(10, 7))\n",
    "plt.title('Динамика медианных продаж в Европе \\n с 2013 по 2016 гг. по жанрам', fontsize=14, pad=10)\n",
    "plt.xlabel('Год', fontsize=12, labelpad=10)\n",
    "plt.ylabel('Продажи, млн. шт.', fontsize=12, labelpad=10)\n",
    "plt.xticks([2013, 2014, 2015, 2016])\n",
    "plt.legend(title='Жанр', frameon=False, bbox_to_anchor=(1.2, 1))\n",
    "sns.despine()\n",
    "plt.show()"
   ]
  },
  {
   "cell_type": "markdown",
   "metadata": {},
   "source": [
    "В Европе наблюдается та же тенденция медианных продаж с точки зрения жанров: **наиболее перспективными выглядят игры жанра Shooter**.\n",
    "\n",
    "Игры жанров Sports и Role-Playing, несмотря на большие суммарные продажи, не демонстрируют высокие медианные продажи."
   ]
  },
  {
   "cell_type": "markdown",
   "metadata": {},
   "source": [
    "#### 4.2.3. Влияние рейтинга ESRB на продажи игр в Европе"
   ]
  },
  {
   "cell_type": "code",
   "execution_count": null,
   "metadata": {},
   "outputs": [],
   "source": [
    "# построим диаграммы размаха переменной продаж в Европе для каждого рейтинга\n",
    "\n",
    "fig, ax = plt.subplots(figsize=(15, 8))\n",
    "data_eu.boxplot(column=['eu_sales'], by='rating', ax=ax, grid=False)\n",
    "plt.ylim(0, 2)\n",
    "fig.suptitle('Диаграммы размаха для продаж в Европе по рейтингу', fontsize=14)\n",
    "plt.title('')\n",
    "plt.xlabel('Рейтинг', fontsize=12, labelpad=10)\n",
    "plt.ylabel('Продажи с 2013 по 2016 гг.', fontsize=12, labelpad=10)\n",
    "sns.despine()\n",
    "plt.show()"
   ]
  },
  {
   "cell_type": "markdown",
   "metadata": {},
   "source": [
    "Аналогично Северной Америке, **наибольшей популярностью в Европе с 2013 по 2016 гг. пользовались игры рейтинга M (17+)**. Посмотрим на количество проданных игр каждого рейтинга в Европе в этот период."
   ]
  },
  {
   "cell_type": "code",
   "execution_count": null,
   "metadata": {},
   "outputs": [],
   "source": [
    "eu_sales_by_rating = (data_eu\n",
    " .pivot_table(index='rating', values='eu_sales', aggfunc='sum')\n",
    " .sort_values(by='eu_sales', ascending=False)\n",
    ")\n",
    "\n",
    "eu_sales_by_rating['eu_sales_share'] = (round(eu_sales_by_rating['eu_sales'] / \n",
    "                                     eu_sales_by_rating['eu_sales'].sum() * 100, 1))\n",
    "eu_sales_by_rating"
   ]
  },
  {
   "cell_type": "markdown",
   "metadata": {},
   "source": [
    "**Общие черты** с аналогичным распределением в Северной Америке:\n",
    "1. **наиболее популярные игры, проданные в Европе с 2013 по 2016 гг., имели рейтинг M с долей продаж 37.0% от всех игр**, проданных в Европе в указанный период (для сравнения: аналогичная доля продаж в Северной Америке составила 37.7%);\n",
    "2. **доли игр рейтинга E10+ схожи и находятся на 4 месте (10.9% vs. 12.4)**;\n",
    "3. **на последнем месте по продажам - игры с рейтингом T (10.7% vs. 11.4%)**.\n",
    "\n",
    "**Отличия:**\n",
    "1. **игры, произведённые не в США или Канаде, пользуются в Европе чуть меньшей популярностью (20.1% vs. 20.4%)**, занимая 3 место по продажам (в Северной Америке - 2 место);\n",
    "2. **игры рейтинга E более популярны, чем в Северной Америке (21.3% vs. 18.1%)**."
   ]
  },
  {
   "cell_type": "code",
   "execution_count": null,
   "metadata": {},
   "outputs": [],
   "source": [
    "# дополнительно проверим, как ведут себя продажи игр \n",
    "# разного рейтинга в Европе в динамике\n",
    "\n",
    "eu_rating_pivot = data_eu.pivot_table(\n",
    "    index='rating',\n",
    "    values='eu_sales',\n",
    "    columns='year_of_release',\n",
    "    aggfunc='sum'\n",
    ")\n",
    "\n",
    "eu_rating_pivot['total'] = eu_rating_pivot.sum(axis=1)\n",
    "eu_rating_pivot = eu_rating_pivot.sort_values(by='total', ascending=False)\n",
    "eu_rating_pivot = eu_rating_pivot.drop('total', axis=1)\n",
    "\n",
    "eu_rating_pivot.T.plot(figsize=(10, 7))\n",
    "plt.title('Динамика продаж в Европе \\n с 2013 по 2016 гг. по рейтингу', fontsize=14, pad=10)\n",
    "plt.xlabel('Год', fontsize=12, labelpad=10)\n",
    "plt.ylabel('Продажи, млн. шт.', fontsize=12, labelpad=10)\n",
    "plt.xticks([2013, 2014, 2015, 2016])\n",
    "plt.legend(title='Рейтинг', frameon=False, bbox_to_anchor=(1.2, 1))\n",
    "sns.despine()\n",
    "plt.show()"
   ]
  },
  {
   "cell_type": "markdown",
   "metadata": {},
   "source": [
    "Картина выглядит очень похоже на Северную Америку: **игры всех возрастных рейтингов стремительно теряют популярность, при этом наибольшее падение - у игр рейтинга M (17+)**.\n",
    "\n",
    "**Суммарные продажи игр, произведённых не в США или Канаде, однако, также демонстрируют рост.**"
   ]
  },
  {
   "cell_type": "code",
   "execution_count": null,
   "metadata": {},
   "outputs": [],
   "source": [
    "# дополнительно проверим, как ведут себя медианные продажи игр \n",
    "# разного рейтинга в Европе в динамике\n",
    "\n",
    "eu_rating_pivot_median = data_eu.pivot_table(\n",
    "    index='rating',\n",
    "    values='eu_sales',\n",
    "    columns='year_of_release',\n",
    "    aggfunc='median'\n",
    ")\n",
    "\n",
    "eu_rating_pivot_median['total'] = eu_rating_pivot_median.sum(axis=1)\n",
    "eu_rating_pivot_median = eu_rating_pivot_median.sort_values(by='total', ascending=False)\n",
    "eu_rating_pivot_median = eu_rating_pivot_median.drop('total', axis=1)\n",
    "\n",
    "eu_rating_pivot_median.T.plot(figsize=(10, 7))\n",
    "plt.title('Динамика медианных продаж в Европе \\n с 2013 по 2016 гг. по рейтингу', fontsize=14, pad=10)\n",
    "plt.xlabel('Год', fontsize=12, labelpad=10)\n",
    "plt.ylabel('Продажи, млн. шт.', fontsize=12, labelpad=10)\n",
    "plt.xticks([2013, 2014, 2015, 2016])\n",
    "plt.legend(title='Рейтинг', frameon=False, bbox_to_anchor=(1.2, 1))\n",
    "sns.despine()\n",
    "plt.show()"
   ]
  },
  {
   "cell_type": "markdown",
   "metadata": {},
   "source": [
    "По медианным продажам **наибольшее падение заметно у игр рейтинга E10+, хотя уже на данный момент в 2016 г. они опередили продажи игр жанра M**.\n",
    "\n",
    "В этом смысле **более стабильно выглядят продажи игр рейтинга T**, демонстрируя стабильные медианные продажи, однако пока нельзя назвать игры с этим рейтингом перспективными."
   ]
  },
  {
   "cell_type": "markdown",
   "metadata": {},
   "source": [
    "#### 4.2.4. Портрет пользователя из Европы"
   ]
  },
  {
   "cell_type": "markdown",
   "metadata": {},
   "source": [
    "Исходя из анализа, можем сформировать черты, которые характеризуют **портрет среднестатистического пользователя компьютерных игр в Европе**:\n",
    "1. приобретает игры для платформы PS4;\n",
    "2. жанр игры - Shooter;\n",
    "3. рейтинг игры - M (17+) или E10+ (10+)."
   ]
  },
  {
   "cell_type": "markdown",
   "metadata": {},
   "source": [
    "### 4.3. Япония (JP)"
   ]
  },
  {
   "cell_type": "markdown",
   "metadata": {},
   "source": [
    "#### 4.3.1. Топ-5 платформ в Японии"
   ]
  },
  {
   "cell_type": "code",
   "execution_count": null,
   "metadata": {},
   "outputs": [],
   "source": [
    "# создадим отдельный датафрейм для игр, проданных в Японии\n",
    "\n",
    "data_jp = data.drop(['na_sales', 'eu_sales', 'other_sales'], axis=1)\n",
    "data_jp.head()"
   ]
  },
  {
   "cell_type": "code",
   "execution_count": null,
   "metadata": {},
   "outputs": [],
   "source": [
    "data_jp_platform_pivot = (data_jp\n",
    " .pivot_table(index='platform', values='jp_sales', aggfunc='sum')\n",
    " .sort_values(by='jp_sales', ascending=False)\n",
    ")\n",
    "\n",
    "data_jp_platform_pivot['sales_share'] = (round(data_jp_platform_pivot['jp_sales'] / \n",
    "                                         data_jp_platform_pivot['jp_sales'].sum() * 100, 1))\n",
    "data_jp_platform_pivot.head()"
   ]
  },
  {
   "cell_type": "markdown",
   "metadata": {},
   "source": [
    "Наибольшую долю продаж в Японии с 2013 по 2016 гг. составляли игры на платформе **3DS (48.2% от всех продаж в регионе)**. Это неудивительно, т.к. сама платформа была создана именно в Японии.\n",
    "\n",
    "В пятёрку наиболее популярных платформ в регионе также входят платформы **PS3 (16.6%), PSV (13.2%), PS4 (11.3%) и WiiU (7.7%)**."
   ]
  },
  {
   "cell_type": "code",
   "execution_count": null,
   "metadata": {},
   "outputs": [],
   "source": [
    "# дополнительно проверим, как ведут себя продажи игр на платформах в Японии в динамике\n",
    "\n",
    "jp_platform_pivot = data_jp.pivot_table(\n",
    "    index='platform',\n",
    "    values='jp_sales',\n",
    "    columns='year_of_release',\n",
    "    aggfunc='sum'\n",
    ")\n",
    "\n",
    "jp_platform_pivot['total'] = jp_platform_pivot.sum(axis=1)\n",
    "jp_platform_pivot = jp_platform_pivot.sort_values(by='total', ascending=False)\n",
    "jp_platform_pivot = jp_platform_pivot.drop('total', axis=1)\n",
    "\n",
    "jp_platform_pivot.T.plot(figsize=(10, 7))\n",
    "plt.title('Динамика продаж в Японии \\n с 2013 по 2016 гг. по платформам', fontsize=14, pad=10)\n",
    "plt.xlabel('Год', fontsize=12, labelpad=10)\n",
    "plt.ylabel('Продажи, млн. шт.', fontsize=12, labelpad=10)\n",
    "plt.xticks([2013, 2014, 2015, 2016])\n",
    "plt.legend(title='Платформа', frameon=False, bbox_to_anchor=(1.2, 1))\n",
    "sns.despine()\n",
    "plt.show()"
   ]
  },
  {
   "cell_type": "markdown",
   "metadata": {},
   "source": [
    "Несмотря на то, что игры на платформе 3DS составляют львиную долю всех продаж в регионе, **продажи игр на этой платформе постоянно падают с 2013 года**.\n",
    "\n",
    "**Стоит обратить внимание на платформы PS4, PSV и WiiU, которые демонстрируют либо рост (PS4), либо стабильность продаж (PSV и WiiU) с 2013 по 2015 гг.**"
   ]
  },
  {
   "cell_type": "code",
   "execution_count": null,
   "metadata": {},
   "outputs": [],
   "source": [
    "# дополнительно проверим, как ведут себя медианные продажи игр \n",
    "# на платформах в Японии в динамике\n",
    "\n",
    "jp_platform_pivot_median = data_jp.pivot_table(\n",
    "    index='platform',\n",
    "    values='jp_sales',\n",
    "    columns='year_of_release',\n",
    "    aggfunc='median'\n",
    ")\n",
    "\n",
    "jp_platform_pivot_median['total'] = jp_platform_pivot_median.sum(axis=1)\n",
    "jp_platform_pivot_median = jp_platform_pivot_median.sort_values(by='total', ascending=False)\n",
    "jp_platform_pivot_median = jp_platform_pivot_median.drop('total', axis=1)\n",
    "\n",
    "jp_platform_pivot_median.T.plot(figsize=(10, 7))\n",
    "plt.title('Динамика медианных продаж в Японии \\n с 2013 по 2016 гг. по платформам', fontsize=14, pad=10)\n",
    "plt.xlabel('Год', fontsize=12, labelpad=10)\n",
    "plt.ylabel('Продажи, млн. шт.', fontsize=12, labelpad=10)\n",
    "plt.xticks([2013, 2014, 2015, 2016])\n",
    "plt.legend(title='Платформа', frameon=False, bbox_to_anchor=(1.2, 1))\n",
    "sns.despine()\n",
    "plt.show()"
   ]
  },
  {
   "cell_type": "markdown",
   "metadata": {},
   "source": [
    "**Платформа 3DS является абсолютным победителем** как по суммарным, так и по медианным продажам, поэтому именно **она является наиболее перспективной на японском рынке**."
   ]
  },
  {
   "cell_type": "markdown",
   "metadata": {},
   "source": [
    "#### 4.3.2. Топ-5 жанров в Японии"
   ]
  },
  {
   "cell_type": "code",
   "execution_count": null,
   "metadata": {},
   "outputs": [],
   "source": [
    "data_jp_genre_pivot = (data_jp\n",
    " .pivot_table(index='genre', values='jp_sales', aggfunc='sum')\n",
    " .sort_values(by='jp_sales', ascending=False)\n",
    ")\n",
    "\n",
    "data_jp_genre_pivot['sales_share'] = (round(data_jp_genre_pivot['jp_sales'] / \n",
    "                                         data_jp_genre_pivot['jp_sales'].sum() * 100, 1))\n",
    "data_jp_genre_pivot.head()"
   ]
  },
  {
   "cell_type": "markdown",
   "metadata": {},
   "source": [
    "Больше всего в Японии с 2013 по 2016 гг. популярностью пользовались игры жанра **Role-Playing (36.3% всех продаж в Японии в соответствующий период)**. В пятёрку наиболее популярных жанров также вошли: **Action (28.8%), Misc (6.5%), Fighting (5.4%) и Shooter (4.7%)**.\n",
    "\n",
    "Рейтинг лучших жанров в Японии отличается от топ-5 жанров в Северной Америке и Европе. Жанр **Action** находится среди лидеров, но в перечне появилось несколько новых жанров (**Fighting и Misc**), а первое место заняли игры жанра **Role-Playing**, популярность которых гораздо ниже среди пользователей Северной Америки и Европы."
   ]
  },
  {
   "cell_type": "code",
   "execution_count": null,
   "metadata": {},
   "outputs": [],
   "source": [
    "# дополнительно проверим, как ведут себя продажи игр \n",
    "# разных жанров в Японии в динамике\n",
    "\n",
    "jp_genre_pivot = data_jp.pivot_table(\n",
    "    index='genre',\n",
    "    values='jp_sales',\n",
    "    columns='year_of_release',\n",
    "    aggfunc='sum'\n",
    ")\n",
    "\n",
    "jp_genre_pivot['total'] = jp_genre_pivot.sum(axis=1)\n",
    "jp_genre_pivot = jp_genre_pivot.sort_values(by='total', ascending=False)\n",
    "jp_genre_pivot = jp_genre_pivot.drop('total', axis=1)\n",
    "\n",
    "jp_genre_pivot.T.plot(figsize=(10, 7))\n",
    "plt.title('Динамика продаж в Японии \\n с 2013 по 2016 гг. по жанрам', fontsize=14, pad=10)\n",
    "plt.xlabel('Год', fontsize=12, labelpad=10)\n",
    "plt.ylabel('Продажи, млн. шт.', fontsize=12, labelpad=10)\n",
    "plt.xticks([2013, 2014, 2015, 2016])\n",
    "plt.legend(title='Жанр', frameon=False, bbox_to_anchor=(1.2, 1))\n",
    "sns.despine()\n",
    "plt.show()"
   ]
  },
  {
   "cell_type": "markdown",
   "metadata": {},
   "source": [
    "Как и с платформами, **японский рынок компьютерных игр отличается от рынков Северной Америки и Европы в разрезе жанров**.\n",
    "\n",
    "**До 2014 года самым популярным жанром в регионе был Role-Playing**, однако **в 2015 году картина существенно изменилась: на первое место вышли игры жанра Action, а жанр Role-Playing резко упал в популярности**.\n",
    "\n",
    "В 2014 году также на третье место по продажам в Японии вырвались игры жанра Fighting, но уже в 2015 году оно было занято играми жанра Shooter."
   ]
  },
  {
   "cell_type": "code",
   "execution_count": null,
   "metadata": {},
   "outputs": [],
   "source": [
    "# дополнительно проверим, как ведут себя медианные продажи игр \n",
    "# разных жанров в Японии в динамике\n",
    "\n",
    "jp_genre_pivot_median = data_jp.pivot_table(\n",
    "    index='genre',\n",
    "    values='jp_sales',\n",
    "    columns='year_of_release',\n",
    "    aggfunc='median'\n",
    ")\n",
    "\n",
    "jp_genre_pivot_median['total'] = jp_genre_pivot_median.sum(axis=1)\n",
    "jp_genre_pivot_median = jp_genre_pivot_median.sort_values(by='total', ascending=False)\n",
    "jp_genre_pivot_median = jp_genre_pivot_median.drop('total', axis=1)\n",
    "\n",
    "jp_genre_pivot_median.T.plot(figsize=(10, 7))\n",
    "plt.title('Динамика медианных продаж в Японии \\n с 2013 по 2016 гг. по жанрам', fontsize=14, pad=10)\n",
    "plt.xlabel('Год', fontsize=12, labelpad=10)\n",
    "plt.ylabel('Продажи, млн. шт.', fontsize=12, labelpad=10)\n",
    "plt.xticks([2013, 2014, 2015, 2016])\n",
    "plt.legend(title='Жанр', frameon=False, bbox_to_anchor=(1.2, 1))\n",
    "sns.despine()\n",
    "plt.show()"
   ]
  },
  {
   "cell_type": "markdown",
   "metadata": {},
   "source": [
    "Несмотря на всплеск популярности игр жанра Action в Японии в 2015 году, подобные игры не могут похвастаться высокими медианными продажами. Напротив, **игры жанра Role-Playing выглядят более стабильно**."
   ]
  },
  {
   "cell_type": "markdown",
   "metadata": {},
   "source": [
    "#### 4.3.3. Влияние рейтинга ESRB на продажи игр в Японии"
   ]
  },
  {
   "cell_type": "code",
   "execution_count": null,
   "metadata": {},
   "outputs": [],
   "source": [
    "# построим диаграммы размаха переменной продаж в Японии для каждого рейтинга\n",
    "\n",
    "fig, ax = plt.subplots(figsize=(15, 8))\n",
    "data_jp.boxplot(column=['jp_sales'], by='rating', ax=ax, grid=False)\n",
    "plt.ylim(0, 0.3)\n",
    "fig.suptitle('Диаграммы размаха для продаж в Японии по рейтингу', fontsize=14)\n",
    "plt.title('')\n",
    "plt.xlabel('Рейтинг', fontsize=12, labelpad=10)\n",
    "plt.ylabel('Продажи с 2013 по 2016 гг.', fontsize=12, labelpad=10)\n",
    "sns.despine()\n",
    "plt.show()"
   ]
  },
  {
   "cell_type": "code",
   "execution_count": null,
   "metadata": {},
   "outputs": [],
   "source": [
    "jp_sales_by_rating = (data_jp\n",
    " .pivot_table(index='rating', values='jp_sales', aggfunc='sum')\n",
    " .sort_values(by='jp_sales', ascending=False)\n",
    ")\n",
    "\n",
    "jp_sales_by_rating['jp_sales_share'] = (round(jp_sales_by_rating['jp_sales'] / \n",
    "                                        jp_sales_by_rating['jp_sales'].sum() * 100, 1))\n",
    "jp_sales_by_rating"
   ]
  },
  {
   "cell_type": "code",
   "execution_count": null,
   "metadata": {},
   "outputs": [],
   "source": [
    "# дополнительно проверим, как ведут себя продажи игр \n",
    "# разного рейтинга в Японии в динамике\n",
    "\n",
    "jp_rating_pivot = data_jp.pivot_table(\n",
    "    index='rating',\n",
    "    values='jp_sales',\n",
    "    columns='year_of_release',\n",
    "    aggfunc='sum'\n",
    ")\n",
    "\n",
    "jp_rating_pivot['total'] = jp_rating_pivot.sum(axis=1)\n",
    "jp_rating_pivot = jp_rating_pivot.sort_values(by='total', ascending=False)\n",
    "jp_rating_pivot = jp_rating_pivot.drop('total', axis=1)\n",
    "\n",
    "jp_rating_pivot.T.plot(figsize=(10, 7))\n",
    "plt.title('Динамика продаж в Японии \\n с 2013 по 2016 гг. по рейтингу', fontsize=14, pad=10)\n",
    "plt.xlabel('Год', fontsize=12, labelpad=10)\n",
    "plt.ylabel('Продажи, млн. шт.', fontsize=12, labelpad=10)\n",
    "plt.xticks([2013, 2014, 2015, 2016])\n",
    "plt.legend(title='Рейтинг', frameon=False, bbox_to_anchor=(1.2, 1))\n",
    "sns.despine()\n",
    "plt.show()"
   ]
  },
  {
   "cell_type": "markdown",
   "metadata": {},
   "source": [
    "Любопытное наблюдение: **более половины суммарных продаж игр в Японии составляют игры, произведённые не в США или Канаде (60.4%)**. Продажи игр с другим рейтингом существенно ниже."
   ]
  },
  {
   "cell_type": "code",
   "execution_count": null,
   "metadata": {},
   "outputs": [],
   "source": [
    "# дополнительно проверим, как ведут себя медианные продажи игр \n",
    "# разного рейтинга в Японии в динамике\n",
    "\n",
    "jp_rating_pivot_median = data_jp.pivot_table(\n",
    "    index='rating',\n",
    "    values='jp_sales',\n",
    "    columns='year_of_release',\n",
    "    aggfunc='median'\n",
    ")\n",
    "\n",
    "jp_rating_pivot_median['total'] = jp_rating_pivot_median.sum(axis=1)\n",
    "jp_rating_pivot_median = jp_rating_pivot_median.sort_values(by='total', ascending=False)\n",
    "jp_rating_pivot_median = jp_rating_pivot_median.drop('total', axis=1)\n",
    "\n",
    "jp_rating_pivot_median.T.plot(figsize=(10, 7))\n",
    "plt.title('Динамика медианных продаж в Японии \\n с 2013 по 2016 гг. по рейтингу', fontsize=14, pad=10)\n",
    "plt.xlabel('Год', fontsize=12, labelpad=10)\n",
    "plt.ylabel('Продажи, млн. шт.', fontsize=12, labelpad=10)\n",
    "plt.xticks([2013, 2014, 2015, 2016])\n",
    "plt.legend(title='Рейтинг', frameon=False, bbox_to_anchor=(1.2, 1))\n",
    "sns.despine()\n",
    "plt.show()"
   ]
  },
  {
   "cell_type": "markdown",
   "metadata": {},
   "source": [
    "Несмотря на значительное превосходство в 2013 году, уже в 2014 году игры с рейтингом T сравнялись по продажам с играми, у которых рейтинга нет, а в 2016 году, даже основываясь на неполных данных, игры, произведённые не в США или Канаде, выглядят абсолютным победителем.\n",
    "\n",
    "**В Японии, таким образом, гораздо большей популярностью и лучшими перспективами обладают игры, произведённые не в США или Канаде**."
   ]
  },
  {
   "cell_type": "code",
   "execution_count": null,
   "metadata": {},
   "outputs": [],
   "source": [
    "# объединим полученные таблицы по регионам\n",
    "\n",
    "(na_sales_by_rating\n",
    " .join([eu_sales_by_rating, jp_sales_by_rating])\n",
    ")"
   ]
  },
  {
   "cell_type": "markdown",
   "metadata": {},
   "source": [
    "Картина продаж компьютерных игр в Японии с 2013 по 2016 гг. существенно отличается от продаж в Северной Америке и Европе за аналогичный период:\n",
    "1. **первое место по продажам в Японии заняли игры без рейтинга, т.е. произведённые не в США или Канаде (60.4%);\n",
    "2. **на втором месте - игры с рейтигом T (13+; 14.6% продаж)**;\n",
    "3. **игры с рейтингом M (17+) - только на четвёртом месте с долей продаж 10.0%**, что практически в 4 раза ниже аналогичного показателя в Северной Америке и Европе (37.7% и 37.0% соответственно).\n",
    "\n",
    "Как видим из анализа, **в Японии гораздо большую долю продаж составляют игры, произведённые не в США или Канаде**. Доля продаж таких игр в Северной Америке и Европе меньше примерно в 3 раза."
   ]
  },
  {
   "cell_type": "markdown",
   "metadata": {},
   "source": [
    "#### 4.3.4. Портрет пользователя из Японии"
   ]
  },
  {
   "cell_type": "markdown",
   "metadata": {},
   "source": [
    "Исходя из анализа, можем сформировать черты, которые характеризуют **портрет среднестатистического пользователя компьютерных игр в Японии**:\n",
    "1. приобретает игры для платформы 3DS;\n",
    "2. жанр игры - Role-Playing;\n",
    "3. рейтинг игры - без рейтинга (т.е. игры произведены не в США или Канаде)."
   ]
  },
  {
   "cell_type": "markdown",
   "metadata": {},
   "source": [
    "### Результаты анализа портретов пользователей по регионам"
   ]
  },
  {
   "cell_type": "code",
   "execution_count": null,
   "metadata": {},
   "outputs": [],
   "source": [
    "# отобразим визуально разницу распределения продаж игр\n",
    "# по платформам в разбивке по регионам\n",
    "\n",
    "# NA\n",
    "data_na_platform_pivot = data_na_platform_pivot.reset_index()\n",
    "\n",
    "na_other_sales = pd.Series(['other', \n",
    "                            data_na_platform_pivot.loc[5:10, 'na_sales'].sum(),\n",
    "                            data_na_platform_pivot.loc[5:10, 'sales_share'].sum()],\n",
    "                            index=['platform', 'na_sales', 'sales_share'])\n",
    "\n",
    "data_na_platform_pivot = data_na_platform_pivot.append(na_other_sales, ignore_index=True)\n",
    "data_na_platform_pivot = data_na_platform_pivot.drop(data_na_platform_pivot.index[5:11])\n",
    "\n",
    "\n",
    "# EU\n",
    "data_eu_platform_pivot = data_eu_platform_pivot.reset_index()\n",
    "\n",
    "eu_other_sales = pd.Series(['other', \n",
    "                            data_eu_platform_pivot.loc[5:10, 'eu_sales'].sum(),\n",
    "                            data_eu_platform_pivot.loc[5:10, 'sales_share'].sum()],\n",
    "                            index=['platform', 'eu_sales', 'sales_share'])\n",
    "\n",
    "data_eu_platform_pivot = data_eu_platform_pivot.append(eu_other_sales, ignore_index=True)\n",
    "data_eu_platform_pivot = data_eu_platform_pivot.drop(data_eu_platform_pivot.index[5:11])\n",
    "\n",
    "# JP\n",
    "data_jp_platform_pivot = data_jp_platform_pivot.reset_index()\n",
    "\n",
    "jp_other_sales = pd.Series(['other', \n",
    "                            data_jp_platform_pivot.loc[5:10, 'jp_sales'].sum(),\n",
    "                            data_jp_platform_pivot.loc[5:10, 'sales_share'].sum()],\n",
    "                            index=['platform', 'jp_sales', 'sales_share'])\n",
    "\n",
    "data_jp_platform_pivot = data_jp_platform_pivot.append(jp_other_sales, ignore_index=True)\n",
    "data_jp_platform_pivot = data_jp_platform_pivot.drop(data_jp_platform_pivot.index[5:11])"
   ]
  },
  {
   "cell_type": "code",
   "execution_count": null,
   "metadata": {},
   "outputs": [],
   "source": [
    "fig, ax = plt.subplots(1, 3, figsize=(12, 5))\n",
    "fig.suptitle('Продажи игр по платформам в разных регионах', size=14)\n",
    "\n",
    "ax[0].pie(data_na_platform_pivot['sales_share'], labels=data_na_platform_pivot['platform'], autopct='%1.1f%%')\n",
    "ax[0].set_title('Северная Америка')\n",
    "\n",
    "ax[1].pie(data_eu_platform_pivot['sales_share'], labels=data_eu_platform_pivot['platform'], autopct='%1.1f%%')\n",
    "ax[1].set_title('Европа')\n",
    "\n",
    "ax[2].pie(data_jp_platform_pivot['sales_share'], labels=data_jp_platform_pivot['platform'], autopct='%1.1f%%')\n",
    "ax[2].set_title('Япония')\n",
    "\n",
    "plt.show()"
   ]
  },
  {
   "cell_type": "code",
   "execution_count": null,
   "metadata": {},
   "outputs": [],
   "source": [
    "# отобразим визуально разницу распределения продаж игр\n",
    "# по жанрам в разбивке по регионам\n",
    "\n",
    "# NA\n",
    "data_na_genre_pivot = data_na_genre_pivot.reset_index()\n",
    "\n",
    "na_other_sales = pd.Series(['other', \n",
    "                            data_na_genre_pivot.loc[5:10, 'na_sales'].sum(),\n",
    "                            data_na_genre_pivot.loc[5:10, 'sales_share'].sum()],\n",
    "                            index=['genre', 'na_sales', 'sales_share'])\n",
    "\n",
    "data_na_genre_pivot = data_na_genre_pivot.append(na_other_sales, ignore_index=True)\n",
    "data_na_genre_pivot = data_na_genre_pivot.drop(data_na_genre_pivot.index[5:11])\n",
    "\n",
    "\n",
    "# EU\n",
    "data_eu_genre_pivot = data_eu_genre_pivot.reset_index()\n",
    "\n",
    "eu_other_sales = pd.Series(['other', \n",
    "                            data_eu_genre_pivot.loc[5:10, 'eu_sales'].sum(),\n",
    "                            data_eu_genre_pivot.loc[5:10, 'sales_share'].sum()],\n",
    "                            index=['genre', 'eu_sales', 'sales_share'])\n",
    "\n",
    "data_eu_genre_pivot = data_eu_genre_pivot.append(eu_other_sales, ignore_index=True)\n",
    "data_eu_genre_pivot = data_eu_genre_pivot.drop(data_eu_genre_pivot.index[5:11])\n",
    "\n",
    "# JP\n",
    "data_jp_genre_pivot = data_jp_genre_pivot.reset_index()\n",
    "\n",
    "jp_other_sales = pd.Series(['other', \n",
    "                            data_jp_genre_pivot.loc[5:10, 'jp_sales'].sum(),\n",
    "                            data_jp_genre_pivot.loc[5:10, 'sales_share'].sum()],\n",
    "                            index=['genre', 'jp_sales', 'sales_share'])\n",
    "\n",
    "data_jp_genre_pivot = data_jp_genre_pivot.append(jp_other_sales, ignore_index=True)\n",
    "data_jp_genre_pivot = data_jp_genre_pivot.drop(data_jp_genre_pivot.index[5:11])"
   ]
  },
  {
   "cell_type": "code",
   "execution_count": null,
   "metadata": {},
   "outputs": [],
   "source": [
    "fig, ax = plt.subplots(1, 3, figsize=(12, 5))\n",
    "fig.suptitle('Продажи игр по жанрам в разных регионах', size=14)\n",
    "\n",
    "ax[0].pie(data_na_genre_pivot['sales_share'], labels=data_na_genre_pivot['genre'], autopct='%1.1f%%')\n",
    "ax[0].set_title('Северная Америка')\n",
    "\n",
    "ax[1].pie(data_eu_genre_pivot['sales_share'], labels=data_eu_genre_pivot['genre'], autopct='%1.1f%%')\n",
    "ax[1].set_title('Европа')\n",
    "\n",
    "ax[2].pie(data_jp_genre_pivot['sales_share'], labels=data_jp_genre_pivot['genre'], autopct='%1.1f%%')\n",
    "ax[2].set_title('Япония')\n",
    "\n",
    "plt.show()"
   ]
  },
  {
   "cell_type": "code",
   "execution_count": null,
   "metadata": {},
   "outputs": [],
   "source": [
    "# отобразим визуально разницу распределения продаж игр\n",
    "# по рейтингу в разбивке по регионам\n",
    "\n",
    "# NA\n",
    "na_sales_by_rating = na_sales_by_rating.reset_index()\n",
    "\n",
    "na_other_sales = pd.Series(['other', \n",
    "                            na_sales_by_rating.loc[5:10, 'na_sales'].sum(),\n",
    "                            na_sales_by_rating.loc[5:10, 'na_sales_share'].sum()],\n",
    "                            index=['rating', 'na_sales', 'na_sales_share'])\n",
    "\n",
    "na_sales_by_rating = na_sales_by_rating.append(na_other_sales, ignore_index=True)\n",
    "na_sales_by_rating = na_sales_by_rating.drop(na_sales_by_rating.index[5:11])\n",
    "\n",
    "\n",
    "# EU\n",
    "eu_sales_by_rating = eu_sales_by_rating.reset_index()\n",
    "\n",
    "eu_other_sales = pd.Series(['other', \n",
    "                            eu_sales_by_rating.loc[5:10, 'eu_sales'].sum(),\n",
    "                            eu_sales_by_rating.loc[5:10, 'eu_sales_share'].sum()],\n",
    "                            index=['rating', 'eu_sales', 'eu_sales_share'])\n",
    "\n",
    "eu_sales_by_rating = eu_sales_by_rating.append(eu_other_sales, ignore_index=True)\n",
    "eu_sales_by_rating = eu_sales_by_rating.drop(eu_sales_by_rating.index[5:11])\n",
    "\n",
    "# JP\n",
    "jp_sales_by_rating = jp_sales_by_rating.reset_index()\n",
    "\n",
    "jp_other_sales = pd.Series(['other', \n",
    "                            jp_sales_by_rating.loc[5:10, 'jp_sales'].sum(),\n",
    "                            jp_sales_by_rating.loc[5:10, 'jp_sales_share'].sum()],\n",
    "                            index=['rating', 'jp_sales', 'jp_sales_share'])\n",
    "\n",
    "jp_sales_by_rating = jp_sales_by_rating.append(jp_other_sales, ignore_index=True)\n",
    "jp_sales_by_rating = jp_sales_by_rating.drop(jp_sales_by_rating.index[5:11])"
   ]
  },
  {
   "cell_type": "code",
   "execution_count": null,
   "metadata": {},
   "outputs": [],
   "source": [
    "fig, ax = plt.subplots(1, 3, figsize=(12, 5))\n",
    "fig.suptitle('Продажи игр по рейтингу в разных регионах', size=14)\n",
    "\n",
    "ax[0].pie(na_sales_by_rating['na_sales_share'], labels=na_sales_by_rating['rating'], autopct='%1.1f%%')\n",
    "ax[0].set_title('Северная Америка')\n",
    "\n",
    "ax[1].pie(eu_sales_by_rating['eu_sales_share'], labels=eu_sales_by_rating['rating'], autopct='%1.1f%%')\n",
    "ax[1].set_title('Европа')\n",
    "\n",
    "ax[2].pie(jp_sales_by_rating['jp_sales_share'], labels=jp_sales_by_rating['rating'], autopct='%1.1f%%')\n",
    "ax[2].set_title('Япония')\n",
    "\n",
    "plt.show()"
   ]
  },
  {
   "cell_type": "code",
   "execution_count": null,
   "metadata": {},
   "outputs": [],
   "source": [
    "# на основе проведённого анализа можно сделать сводную таблицу \n",
    "# с платформами, жанрами и рейтингами, наиболее популярными в разных регионах\n",
    "\n",
    "# NA\n",
    "na_platform = (data_na_platform_pivot[data_na_platform_pivot['na_sales'] == \n",
    "                        data_na_platform_pivot['na_sales'].max()]['platform'][0])\n",
    "na_genre = (data_na_genre_pivot[data_na_genre_pivot['na_sales'] == \n",
    "                        data_na_genre_pivot['na_sales'].max()]['genre'][0])\n",
    "na_rating = (na_sales_by_rating[na_sales_by_rating['na_sales'] == \n",
    "                        na_sales_by_rating['na_sales'].max()]['rating'][0])\n",
    "\n",
    "# EU\n",
    "eu_platform = (data_eu_platform_pivot[data_eu_platform_pivot['eu_sales'] == \n",
    "                        data_eu_platform_pivot['eu_sales'].max()]['platform'][0])\n",
    "eu_genre = (data_eu_genre_pivot[data_eu_genre_pivot['eu_sales'] == \n",
    "                        data_eu_genre_pivot['eu_sales'].max()]['genre'][0])\n",
    "eu_rating = (eu_sales_by_rating[eu_sales_by_rating['eu_sales'] == \n",
    "                        eu_sales_by_rating['eu_sales'].max()]['rating'][0])\n",
    "\n",
    "# JP\n",
    "jp_platform = (data_jp_platform_pivot[data_jp_platform_pivot['jp_sales'] == \n",
    "                        data_jp_platform_pivot['jp_sales'].max()]['platform'][0])\n",
    "jp_genre = (data_jp_genre_pivot[data_jp_genre_pivot['jp_sales'] == \n",
    "                        data_jp_genre_pivot['jp_sales'].max()]['genre'][0])\n",
    "jp_rating = (jp_sales_by_rating[jp_sales_by_rating['jp_sales'] == \n",
    "                        jp_sales_by_rating['jp_sales'].max()]['rating'][0])\n",
    "\n",
    "# создадим общую сводную таблицу\n",
    "pd.DataFrame(\n",
    "    {'platform': [na_platform, eu_platform, jp_platform],\n",
    "    'genre': [na_genre, eu_genre, jp_genre],\n",
    "    'rating': [na_rating, eu_rating, jp_rating]},\n",
    "    index=(['NA', 'EU', 'JP'])\n",
    ")"
   ]
  },
  {
   "cell_type": "markdown",
   "metadata": {},
   "source": [
    "Стоит, однако, брать во внимание и портреты потенциальных пользователей в каждом регионе:\n",
    "\n",
    "|        | **platform** | **genre**    | **rating** |\n",
    "|--------|--------------|--------------|------------|\n",
    "| **NA** | XOne или PS4 | Shooter      | M (17+)    |\n",
    "| **EU** | PS4          | Shooter      | M (17+)    |\n",
    "| **JP** | 3DS          | Role-Playing | NonNA      |\n",
    "\n",
    "После составления портрета пользователей по регионам можно переходить к статистическому анализу данных."
   ]
  },
  {
   "cell_type": "markdown",
   "metadata": {},
   "source": [
    "<a id='step5'></a>\n",
    "## 5. Статистический анализ данных"
   ]
  },
  {
   "cell_type": "markdown",
   "metadata": {},
   "source": [
    "### 5.1. Гипотеза 1"
   ]
  },
  {
   "cell_type": "markdown",
   "metadata": {},
   "source": [
    "**Гипотеза 1:** Средние пользовательские рейтинги платформ Xbox One и PC одинаковые.\n",
    "\n",
    "\n",
    "Для проведения анализа сформулируем нулевую и альтернативную гипотезы.\n",
    "\n",
    "**H0:** Средний пользовательский рейтинг игр (*user_score*) на платформе Xbox One равен среднему пользовательскому рейтингу игр на платформе PC.\n",
    "\n",
    "**H1:** Средний пользовательский рейтинг игр (*user_score*) на платформе Xbox One НЕ равен среднему пользовательскому рейтингу игр на платформе PC.\n",
    "\n",
    "\n",
    "Гипотеза **о равенстве средних** сформулирована для **двух независимых выборок**, а альтернативная гипотеза - двусторонняя. Следовательно, для тестирования гипотез будет логично применить двусторонний t-test для независимых выборок (**ttest_ind**)."
   ]
  },
  {
   "cell_type": "code",
   "execution_count": null,
   "metadata": {},
   "outputs": [],
   "source": [
    "data_xone = data[data['platform'] == 'XOne']\n",
    "data_pc = data[data['platform'] == 'PC']\n",
    "\n",
    "alpha = .05\n",
    "\n",
    "result = st.ttest_ind(data_xone['user_score'], data_pc['user_score'], nan_policy='omit')\n",
    "\n",
    "print(f\"p-value = {round(result.pvalue, 3)}\")\n",
    "\n",
    "if result.pvalue < alpha:\n",
    "    print('Нулевая гипотеза отклоняется в пользу альтернативной')\n",
    "else:\n",
    "    print('Не удалось отклонить нулевую гипотезу')"
   ]
  },
  {
   "cell_type": "markdown",
   "metadata": {},
   "source": [
    "Исходя из результатов тестирования гипотез, не получилось отклонить нулевую гипотезу. Следовательно, мы не можем исключить, что **средний пользовательский рейтинг игр на платформе Xbox One равен среднему пользовательскому рейтингу игр на платформе PC.**"
   ]
  },
  {
   "cell_type": "code",
   "execution_count": null,
   "metadata": {},
   "outputs": [],
   "source": [
    "# проверим, на каком уровне находится \n",
    "# средний пользовательский рейтинг игр на двух платформах в нашей выборке\n",
    "\n",
    "print('Средний пользовательский рейтинг игр на платформе XOne:', \n",
    "      round(data_xone['user_score'].mean(), 2))\n",
    "print('Средний пользовательский рейтинг игр на платформе PC:', \n",
    "      round(data_pc['user_score'].mean(), 2))"
   ]
  },
  {
   "cell_type": "markdown",
   "metadata": {},
   "source": [
    "### 5.2. Гипотеза 2"
   ]
  },
  {
   "cell_type": "markdown",
   "metadata": {},
   "source": [
    "**Гипотеза 2:** Средние пользовательские рейтинги жанров Action (англ. «действие», экшен-игры) и Sports (англ. «спортивные соревнования») разные.\n",
    "\n",
    "**H0:** Средний пользовательский рейтинг (*user_score*) игр жанра Action равен среднему пользовательскому рейтингу игр жанра Sports.\n",
    "\n",
    "**H1:** Средний пользовательский рейтинг (*user_score*) игр жанра Action НЕ равен среднему пользовательскому рейтингу игр жанра Sports.\n",
    "\n",
    "Аналогично предыдущей гипотезе, имеет смысл применить двусторонний t-test для её проверки."
   ]
  },
  {
   "cell_type": "code",
   "execution_count": null,
   "metadata": {},
   "outputs": [],
   "source": [
    "data_action = data[data['genre'] == 'Action']\n",
    "data_sports = data[data['genre'] == 'Sports']\n",
    "\n",
    "alpha = .05\n",
    "\n",
    "result_2 = st.ttest_ind(\n",
    "    data_action['user_score'], data_sports['user_score'], nan_policy='omit')\n",
    "\n",
    "print(f\"p-value = {result_2.pvalue}\")\n",
    "\n",
    "if result_2.pvalue < alpha:\n",
    "    print('Нулевая гипотеза отклоняется в пользу альтернативной')\n",
    "else:\n",
    "    print('Не удалось отклонить нулевую гипотезу')"
   ]
  },
  {
   "cell_type": "markdown",
   "metadata": {},
   "source": [
    "На имеющихся данных на 5%-ном уровне значимости **есть основания отвергнуть нулевую гипотезу о равенстве средних значений пользовательских рейтингов (отзывов) жанров Action и Sports в пользу альтернативной гипотезы**.\n",
    "\n",
    "Проверим средние значения пользовательского рейтинга игр двух жанров и с помощью дополнительного одностороннего теста проверим, в чью пользу наблюдается повышенный рейтинг."
   ]
  },
  {
   "cell_type": "code",
   "execution_count": null,
   "metadata": {},
   "outputs": [],
   "source": [
    "print('Средний пользовательский рейтинг игр жанра Action:', \n",
    "      round(data_action['user_score'].mean(), 2))\n",
    "print('Средний пользовательский рейтинг игр жанра Sports:', \n",
    "      round(data_sports['user_score'].mean(), 2))"
   ]
  },
  {
   "cell_type": "code",
   "execution_count": null,
   "metadata": {},
   "outputs": [],
   "source": [
    "alpha = .05\n",
    "\n",
    "result_3 = st.ttest_ind(\n",
    "    data_action['user_score'], data_sports['user_score'],\n",
    "    nan_policy='omit', alternative='greater')\n",
    "\n",
    "if result_3.pvalue < alpha:\n",
    "    print('Нулевая гипотеза отклоняется в пользу альтернативной')\n",
    "else:\n",
    "    print('Нулевая гипотеза не отклоняется')"
   ]
  },
  {
   "cell_type": "markdown",
   "metadata": {},
   "source": [
    "По результатам дополнительного теста было определено, что в генеральной совокупности **пользовательский рейтинг игр жанра Action выше, чем аналогичный показатель для игр жанра Sports**."
   ]
  },
  {
   "cell_type": "markdown",
   "metadata": {},
   "source": [
    "## Выводы исследования"
   ]
  },
  {
   "cell_type": "markdown",
   "metadata": {},
   "source": [
    "Наибольшим потенциалом обладают инвестиции в игры на разных платформах, разных жанров и рейтинга в различных регионах:\n",
    "1. **в Северной Америке и Европе:**\n",
    "    1. платформа - PS4;\n",
    "    2. жанр - Shooter;\n",
    "    3. рейтинг - M (17+).\n",
    "    \n",
    "2. **в Японии**:\n",
    "    1. платформа - 3DS;\n",
    "    2. жанр - Role-Playing;\n",
    "    3. рейтинг - без рейтинга (т.е. игры, произведённые не в США или Канаде).\n",
    "    \n",
    "При планировании дальнейшей стратегии компании стоит также учитывать факторы:\n",
    "1. на продажи игры **могут положительно влиять оценки критиков**, при этом рост продаж имеет скорее экспоненциальный характер (чем больше оценка критиков - тем больше влияние на продажи). А вот **оценки пользователей с продажами практически не связаны**;\n",
    "2. средний срок жизни платформы - 7 лет, для лучших платформ - 11.5 лет. **Если с момента запуска платформы прошло больше 7 лет, инвестиции в неё будут менее целесообразны**.\n",
    "\n",
    "**[В начало](#start)**"
   ]
  }
 ],
 "metadata": {
  "ExecuteTimeLog": [
   {
    "duration": 1381,
    "start_time": "2023-09-21T21:34:06.096Z"
   },
   {
    "duration": 208,
    "start_time": "2023-09-21T21:34:43.032Z"
   },
   {
    "duration": 81,
    "start_time": "2023-09-21T21:36:16.149Z"
   },
   {
    "duration": 77,
    "start_time": "2023-09-21T21:36:32.494Z"
   },
   {
    "duration": 22,
    "start_time": "2023-09-21T21:36:39.847Z"
   },
   {
    "duration": 6,
    "start_time": "2023-09-21T21:45:02.863Z"
   },
   {
    "duration": 97,
    "start_time": "2023-09-21T21:46:22.102Z"
   },
   {
    "duration": 11,
    "start_time": "2023-09-21T21:46:33.879Z"
   },
   {
    "duration": 12,
    "start_time": "2023-09-21T21:49:01.498Z"
   },
   {
    "duration": 11,
    "start_time": "2023-09-21T21:49:52.097Z"
   },
   {
    "duration": 10,
    "start_time": "2023-09-21T21:50:27.893Z"
   },
   {
    "duration": 5,
    "start_time": "2023-09-21T21:51:52.451Z"
   },
   {
    "duration": 34,
    "start_time": "2023-09-21T21:51:56.398Z"
   },
   {
    "duration": 15,
    "start_time": "2023-09-21T21:52:02.318Z"
   },
   {
    "duration": 21,
    "start_time": "2023-09-21T21:53:08.556Z"
   },
   {
    "duration": 15,
    "start_time": "2023-09-21T21:57:14.575Z"
   },
   {
    "duration": 10,
    "start_time": "2023-09-21T21:57:22.396Z"
   },
   {
    "duration": 10,
    "start_time": "2023-09-21T21:57:44.198Z"
   },
   {
    "duration": 11,
    "start_time": "2023-09-21T21:57:55.970Z"
   },
   {
    "duration": 13,
    "start_time": "2023-09-21T21:58:01.984Z"
   },
   {
    "duration": 12,
    "start_time": "2023-09-21T21:59:24.003Z"
   },
   {
    "duration": 27,
    "start_time": "2023-09-21T22:00:06.150Z"
   },
   {
    "duration": 13,
    "start_time": "2023-09-21T22:00:33.698Z"
   },
   {
    "duration": 10,
    "start_time": "2023-09-21T22:02:59.882Z"
   },
   {
    "duration": 9,
    "start_time": "2023-09-21T22:03:06.220Z"
   },
   {
    "duration": 29,
    "start_time": "2023-09-21T22:03:08.554Z"
   },
   {
    "duration": 15,
    "start_time": "2023-09-21T22:03:22.612Z"
   },
   {
    "duration": 5,
    "start_time": "2023-09-21T22:03:32.781Z"
   },
   {
    "duration": 21,
    "start_time": "2023-09-21T22:03:40.033Z"
   },
   {
    "duration": 16,
    "start_time": "2023-09-21T22:03:43.735Z"
   },
   {
    "duration": 3,
    "start_time": "2023-09-21T22:05:13.474Z"
   },
   {
    "duration": 23,
    "start_time": "2023-09-21T22:05:59.576Z"
   },
   {
    "duration": 10,
    "start_time": "2023-09-21T22:06:04.394Z"
   },
   {
    "duration": 14,
    "start_time": "2023-09-21T22:06:33.588Z"
   },
   {
    "duration": 71,
    "start_time": "2023-09-21T22:06:42.982Z"
   },
   {
    "duration": 11,
    "start_time": "2023-09-21T22:06:46.384Z"
   },
   {
    "duration": 19,
    "start_time": "2023-09-21T22:06:55.410Z"
   },
   {
    "duration": 12,
    "start_time": "2023-09-21T22:07:08.091Z"
   },
   {
    "duration": 10,
    "start_time": "2023-09-21T22:07:37.406Z"
   },
   {
    "duration": 5,
    "start_time": "2023-09-21T22:12:25.782Z"
   },
   {
    "duration": 8,
    "start_time": "2023-09-21T22:13:14.776Z"
   },
   {
    "duration": 13,
    "start_time": "2023-09-21T22:13:24.938Z"
   },
   {
    "duration": 166,
    "start_time": "2023-09-21T22:14:13.029Z"
   },
   {
    "duration": 157,
    "start_time": "2023-09-21T22:14:22.520Z"
   },
   {
    "duration": 169,
    "start_time": "2023-09-21T22:14:25.737Z"
   },
   {
    "duration": 70,
    "start_time": "2023-09-21T22:14:36.377Z"
   },
   {
    "duration": 210,
    "start_time": "2023-09-21T22:14:40.720Z"
   },
   {
    "duration": 8,
    "start_time": "2023-09-21T22:15:48.514Z"
   },
   {
    "duration": 203,
    "start_time": "2023-09-21T22:16:53.882Z"
   },
   {
    "duration": 13,
    "start_time": "2023-09-21T22:16:59.773Z"
   },
   {
    "duration": 10,
    "start_time": "2023-09-21T22:18:02.780Z"
   },
   {
    "duration": 216,
    "start_time": "2023-09-21T22:18:42.233Z"
   },
   {
    "duration": 230,
    "start_time": "2023-09-21T22:18:46.482Z"
   },
   {
    "duration": 203,
    "start_time": "2023-09-21T22:18:53.790Z"
   },
   {
    "duration": 8,
    "start_time": "2023-09-21T22:23:46.118Z"
   },
   {
    "duration": 17,
    "start_time": "2023-09-21T22:24:46.713Z"
   },
   {
    "duration": 20,
    "start_time": "2023-09-21T22:25:17.584Z"
   },
   {
    "duration": 18,
    "start_time": "2023-09-21T22:25:28.082Z"
   },
   {
    "duration": 17,
    "start_time": "2023-09-21T22:25:38.071Z"
   },
   {
    "duration": 35,
    "start_time": "2023-09-21T22:26:24.986Z"
   },
   {
    "duration": 123,
    "start_time": "2023-09-21T22:26:50.509Z"
   },
   {
    "duration": 32,
    "start_time": "2023-09-21T22:27:00.342Z"
   },
   {
    "duration": 22,
    "start_time": "2023-09-21T22:27:09.182Z"
   },
   {
    "duration": 42,
    "start_time": "2023-09-21T22:27:13.832Z"
   },
   {
    "duration": 46,
    "start_time": "2023-09-21T22:27:43.484Z"
   },
   {
    "duration": 29,
    "start_time": "2023-09-21T22:28:12.179Z"
   },
   {
    "duration": 38,
    "start_time": "2023-09-21T22:28:16.639Z"
   },
   {
    "duration": 53,
    "start_time": "2023-09-21T22:28:38.886Z"
   },
   {
    "duration": 39,
    "start_time": "2023-09-21T22:29:09.812Z"
   },
   {
    "duration": 33,
    "start_time": "2023-09-21T22:29:17.707Z"
   },
   {
    "duration": 38,
    "start_time": "2023-09-21T22:29:41.640Z"
   },
   {
    "duration": 9,
    "start_time": "2023-09-21T22:30:22.508Z"
   },
   {
    "duration": 37,
    "start_time": "2023-09-21T22:31:15.380Z"
   },
   {
    "duration": 37,
    "start_time": "2023-09-21T22:31:50.699Z"
   },
   {
    "duration": 38,
    "start_time": "2023-09-21T22:31:54.690Z"
   },
   {
    "duration": 38,
    "start_time": "2023-09-21T22:32:07.287Z"
   },
   {
    "duration": 37,
    "start_time": "2023-09-21T22:32:19.777Z"
   },
   {
    "duration": 1185,
    "start_time": "2023-09-21T22:32:36.887Z"
   },
   {
    "duration": 80,
    "start_time": "2023-09-21T22:32:38.076Z"
   },
   {
    "duration": 15,
    "start_time": "2023-09-21T22:32:38.157Z"
   },
   {
    "duration": 9,
    "start_time": "2023-09-21T22:32:38.174Z"
   },
   {
    "duration": 15,
    "start_time": "2023-09-21T22:32:38.185Z"
   },
   {
    "duration": 13,
    "start_time": "2023-09-21T22:32:38.201Z"
   },
   {
    "duration": 5,
    "start_time": "2023-09-21T22:32:38.216Z"
   },
   {
    "duration": 235,
    "start_time": "2023-09-21T22:32:38.222Z"
   },
   {
    "duration": 8,
    "start_time": "2023-09-21T22:32:38.459Z"
   },
   {
    "duration": 45,
    "start_time": "2023-09-21T22:32:38.469Z"
   },
   {
    "duration": 13,
    "start_time": "2023-09-21T22:32:38.516Z"
   },
   {
    "duration": 35,
    "start_time": "2023-09-21T22:32:38.531Z"
   },
   {
    "duration": 3,
    "start_time": "2023-09-21T22:32:38.568Z"
   },
   {
    "duration": 38,
    "start_time": "2023-09-21T22:34:26.110Z"
   },
   {
    "duration": 38,
    "start_time": "2023-09-21T22:34:39.962Z"
   },
   {
    "duration": 41,
    "start_time": "2023-09-21T22:34:43.705Z"
   },
   {
    "duration": 39,
    "start_time": "2023-09-21T22:35:19.229Z"
   },
   {
    "duration": 41,
    "start_time": "2023-09-21T22:35:31.446Z"
   },
   {
    "duration": 42,
    "start_time": "2023-09-21T22:35:36.938Z"
   },
   {
    "duration": 81,
    "start_time": "2023-09-21T22:37:26.153Z"
   },
   {
    "duration": 89,
    "start_time": "2023-09-21T22:37:38.160Z"
   },
   {
    "duration": 39,
    "start_time": "2023-09-21T22:38:09.596Z"
   },
   {
    "duration": 117,
    "start_time": "2023-09-21T22:43:50.108Z"
   },
   {
    "duration": 56,
    "start_time": "2023-09-21T22:44:06.163Z"
   },
   {
    "duration": 80,
    "start_time": "2023-09-21T22:44:12.927Z"
   },
   {
    "duration": 39,
    "start_time": "2023-09-21T22:44:24.671Z"
   },
   {
    "duration": 40,
    "start_time": "2023-09-21T22:44:32.212Z"
   },
   {
    "duration": 47,
    "start_time": "2023-09-21T22:44:41.669Z"
   },
   {
    "duration": 26,
    "start_time": "2023-09-21T22:55:29.089Z"
   },
   {
    "duration": 17,
    "start_time": "2023-09-21T22:55:33.537Z"
   },
   {
    "duration": 12,
    "start_time": "2023-09-21T22:56:48.315Z"
   },
   {
    "duration": 5,
    "start_time": "2023-09-21T22:56:50.480Z"
   },
   {
    "duration": 171,
    "start_time": "2023-09-21T22:56:52.603Z"
   },
   {
    "duration": 9,
    "start_time": "2023-09-21T22:56:56.093Z"
   },
   {
    "duration": 51,
    "start_time": "2023-09-21T22:56:58.170Z"
   },
   {
    "duration": 19,
    "start_time": "2023-09-21T23:00:43.121Z"
   },
   {
    "duration": 87,
    "start_time": "2023-09-21T23:04:03.139Z"
   },
   {
    "duration": 76,
    "start_time": "2023-09-21T23:04:53.335Z"
   },
   {
    "duration": 90,
    "start_time": "2023-09-21T23:05:33.185Z"
   },
   {
    "duration": 14,
    "start_time": "2023-09-21T23:07:00.386Z"
   },
   {
    "duration": 8,
    "start_time": "2023-09-21T23:07:04.816Z"
   },
   {
    "duration": 17,
    "start_time": "2023-09-21T23:07:15.362Z"
   },
   {
    "duration": 51,
    "start_time": "2023-09-21T23:07:33.276Z"
   },
   {
    "duration": 40,
    "start_time": "2023-09-21T23:07:49.639Z"
   },
   {
    "duration": 21,
    "start_time": "2023-09-21T23:08:31.549Z"
   },
   {
    "duration": 17,
    "start_time": "2023-09-21T23:08:49.459Z"
   },
   {
    "duration": 15,
    "start_time": "2023-09-21T23:11:43.679Z"
   },
   {
    "duration": 86,
    "start_time": "2023-09-21T23:13:25.048Z"
   },
   {
    "duration": 129,
    "start_time": "2023-09-21T23:13:31.910Z"
   },
   {
    "duration": 151,
    "start_time": "2023-09-21T23:13:39.124Z"
   },
   {
    "duration": 166,
    "start_time": "2023-09-21T23:13:42.212Z"
   },
   {
    "duration": 172,
    "start_time": "2023-09-21T23:13:50.579Z"
   },
   {
    "duration": 274,
    "start_time": "2023-09-21T23:13:54.443Z"
   },
   {
    "duration": 1140,
    "start_time": "2023-09-21T23:14:15.639Z"
   },
   {
    "duration": 1190,
    "start_time": "2023-09-21T23:14:28.236Z"
   },
   {
    "duration": 1135,
    "start_time": "2023-09-21T23:14:39.754Z"
   },
   {
    "duration": 19,
    "start_time": "2023-09-22T13:09:19.145Z"
   },
   {
    "duration": 7,
    "start_time": "2023-09-22T13:09:57.200Z"
   },
   {
    "duration": 7,
    "start_time": "2023-09-22T13:11:22.870Z"
   },
   {
    "duration": 13,
    "start_time": "2023-09-22T13:14:46.737Z"
   },
   {
    "duration": 13,
    "start_time": "2023-09-22T13:14:51.778Z"
   },
   {
    "duration": 7,
    "start_time": "2023-09-22T13:14:56.469Z"
   },
   {
    "duration": 15,
    "start_time": "2023-09-22T13:17:19.633Z"
   },
   {
    "duration": 8,
    "start_time": "2023-09-22T13:17:52.836Z"
   },
   {
    "duration": 13,
    "start_time": "2023-09-22T13:18:06.436Z"
   },
   {
    "duration": 7,
    "start_time": "2023-09-22T13:18:10.445Z"
   },
   {
    "duration": 24,
    "start_time": "2023-09-22T13:18:31.700Z"
   },
   {
    "duration": 54,
    "start_time": "2023-09-22T13:19:04.559Z"
   },
   {
    "duration": 45,
    "start_time": "2023-09-22T13:19:39.560Z"
   },
   {
    "duration": 55,
    "start_time": "2023-09-22T13:20:07.105Z"
   },
   {
    "duration": 15,
    "start_time": "2023-09-22T13:21:45.485Z"
   },
   {
    "duration": 14,
    "start_time": "2023-09-22T13:21:49.932Z"
   },
   {
    "duration": 172,
    "start_time": "2023-09-22T13:22:08.092Z"
   },
   {
    "duration": 211,
    "start_time": "2023-09-22T13:22:23.953Z"
   },
   {
    "duration": 210,
    "start_time": "2023-09-22T13:22:27.935Z"
   },
   {
    "duration": 25,
    "start_time": "2023-09-22T13:24:35.704Z"
   },
   {
    "duration": 66,
    "start_time": "2023-09-22T13:28:07.625Z"
   },
   {
    "duration": 24,
    "start_time": "2023-09-22T13:28:14.172Z"
   },
   {
    "duration": 20,
    "start_time": "2023-09-22T13:39:43.051Z"
   },
   {
    "duration": 13,
    "start_time": "2023-09-22T13:40:25.980Z"
   },
   {
    "duration": 13,
    "start_time": "2023-09-22T13:40:39.313Z"
   },
   {
    "duration": 0,
    "start_time": "2023-09-22T13:43:16.212Z"
   },
   {
    "duration": 20,
    "start_time": "2023-09-22T13:43:18.019Z"
   },
   {
    "duration": 6,
    "start_time": "2023-09-22T13:44:01.180Z"
   },
   {
    "duration": 9,
    "start_time": "2023-09-22T13:44:09.493Z"
   },
   {
    "duration": 16,
    "start_time": "2023-09-22T13:44:54.218Z"
   },
   {
    "duration": 20,
    "start_time": "2023-09-22T13:47:31.947Z"
   },
   {
    "duration": 16,
    "start_time": "2023-09-22T13:48:17.384Z"
   },
   {
    "duration": 13,
    "start_time": "2023-09-22T13:48:47.051Z"
   },
   {
    "duration": 1349,
    "start_time": "2023-09-22T13:48:55.714Z"
   },
   {
    "duration": 80,
    "start_time": "2023-09-22T13:48:57.065Z"
   },
   {
    "duration": 17,
    "start_time": "2023-09-22T13:48:57.147Z"
   },
   {
    "duration": 16,
    "start_time": "2023-09-22T13:48:57.166Z"
   },
   {
    "duration": 33,
    "start_time": "2023-09-22T13:48:57.184Z"
   },
   {
    "duration": 35,
    "start_time": "2023-09-22T13:48:57.219Z"
   },
   {
    "duration": 17,
    "start_time": "2023-09-22T13:48:57.255Z"
   },
   {
    "duration": 9,
    "start_time": "2023-09-22T13:48:57.273Z"
   },
   {
    "duration": 50,
    "start_time": "2023-09-22T13:48:57.284Z"
   },
   {
    "duration": 221,
    "start_time": "2023-09-22T13:48:57.337Z"
   },
   {
    "duration": 24,
    "start_time": "2023-09-22T13:48:57.560Z"
   },
   {
    "duration": 16,
    "start_time": "2023-09-22T13:48:57.586Z"
   },
   {
    "duration": 136,
    "start_time": "2023-09-22T13:48:57.604Z"
   },
   {
    "duration": 0,
    "start_time": "2023-09-22T13:48:57.742Z"
   },
   {
    "duration": 0,
    "start_time": "2023-09-22T13:48:57.743Z"
   },
   {
    "duration": 0,
    "start_time": "2023-09-22T13:48:57.744Z"
   },
   {
    "duration": 0,
    "start_time": "2023-09-22T13:48:57.745Z"
   },
   {
    "duration": 0,
    "start_time": "2023-09-22T13:48:57.747Z"
   },
   {
    "duration": 0,
    "start_time": "2023-09-22T13:48:57.748Z"
   },
   {
    "duration": 0,
    "start_time": "2023-09-22T13:48:57.757Z"
   },
   {
    "duration": 0,
    "start_time": "2023-09-22T13:48:57.758Z"
   },
   {
    "duration": 0,
    "start_time": "2023-09-22T13:48:57.760Z"
   },
   {
    "duration": 24,
    "start_time": "2023-09-22T13:49:36.593Z"
   },
   {
    "duration": 9,
    "start_time": "2023-09-22T13:49:41.689Z"
   },
   {
    "duration": 167,
    "start_time": "2023-09-22T13:49:46.213Z"
   },
   {
    "duration": 42,
    "start_time": "2023-09-30T22:35:27.131Z"
   },
   {
    "duration": 1416,
    "start_time": "2023-09-30T22:35:31.931Z"
   },
   {
    "duration": 116,
    "start_time": "2023-09-30T22:35:33.349Z"
   },
   {
    "duration": 14,
    "start_time": "2023-09-30T22:35:33.466Z"
   },
   {
    "duration": 9,
    "start_time": "2023-09-30T22:35:33.482Z"
   },
   {
    "duration": 18,
    "start_time": "2023-09-30T22:35:33.493Z"
   },
   {
    "duration": 20,
    "start_time": "2023-09-30T22:35:33.513Z"
   },
   {
    "duration": 31,
    "start_time": "2023-09-30T22:35:33.535Z"
   },
   {
    "duration": 4,
    "start_time": "2023-09-30T22:35:33.567Z"
   },
   {
    "duration": 103,
    "start_time": "2023-09-30T22:35:33.573Z"
   },
   {
    "duration": 0,
    "start_time": "2023-09-30T22:35:33.678Z"
   },
   {
    "duration": 0,
    "start_time": "2023-09-30T22:35:33.679Z"
   },
   {
    "duration": 0,
    "start_time": "2023-09-30T22:35:33.680Z"
   },
   {
    "duration": 0,
    "start_time": "2023-09-30T22:35:33.681Z"
   },
   {
    "duration": 0,
    "start_time": "2023-09-30T22:35:33.682Z"
   },
   {
    "duration": 0,
    "start_time": "2023-09-30T22:35:33.684Z"
   },
   {
    "duration": 0,
    "start_time": "2023-09-30T22:35:33.685Z"
   },
   {
    "duration": 0,
    "start_time": "2023-09-30T22:35:33.685Z"
   },
   {
    "duration": 0,
    "start_time": "2023-09-30T22:35:33.686Z"
   },
   {
    "duration": 0,
    "start_time": "2023-09-30T22:35:33.687Z"
   },
   {
    "duration": 0,
    "start_time": "2023-09-30T22:35:33.688Z"
   },
   {
    "duration": 0,
    "start_time": "2023-09-30T22:35:33.690Z"
   },
   {
    "duration": 0,
    "start_time": "2023-09-30T22:35:33.691Z"
   },
   {
    "duration": 0,
    "start_time": "2023-09-30T22:35:33.692Z"
   },
   {
    "duration": 9,
    "start_time": "2023-09-30T22:35:56.827Z"
   },
   {
    "duration": 9,
    "start_time": "2023-09-30T22:36:19.542Z"
   },
   {
    "duration": 7,
    "start_time": "2023-09-30T22:36:39.600Z"
   },
   {
    "duration": 6,
    "start_time": "2023-09-30T22:37:02.794Z"
   },
   {
    "duration": 7,
    "start_time": "2023-09-30T22:38:24.612Z"
   },
   {
    "duration": 7,
    "start_time": "2023-09-30T22:38:56.588Z"
   },
   {
    "duration": 1286,
    "start_time": "2023-09-30T22:40:06.735Z"
   },
   {
    "duration": 78,
    "start_time": "2023-09-30T22:40:08.023Z"
   },
   {
    "duration": 18,
    "start_time": "2023-09-30T22:40:08.103Z"
   },
   {
    "duration": 28,
    "start_time": "2023-09-30T22:40:08.123Z"
   },
   {
    "duration": 31,
    "start_time": "2023-09-30T22:40:08.153Z"
   },
   {
    "duration": 39,
    "start_time": "2023-09-30T22:40:08.185Z"
   },
   {
    "duration": 17,
    "start_time": "2023-09-30T22:40:08.226Z"
   },
   {
    "duration": 8,
    "start_time": "2023-09-30T22:40:08.245Z"
   },
   {
    "duration": 7,
    "start_time": "2023-09-30T22:40:08.255Z"
   },
   {
    "duration": 46,
    "start_time": "2023-09-30T22:40:08.265Z"
   },
   {
    "duration": 234,
    "start_time": "2023-09-30T22:40:08.313Z"
   },
   {
    "duration": 24,
    "start_time": "2023-09-30T22:40:08.550Z"
   },
   {
    "duration": 20,
    "start_time": "2023-09-30T22:40:08.577Z"
   },
   {
    "duration": 163,
    "start_time": "2023-09-30T22:40:08.602Z"
   },
   {
    "duration": 147,
    "start_time": "2023-09-30T22:40:08.767Z"
   },
   {
    "duration": 0,
    "start_time": "2023-09-30T22:40:08.917Z"
   },
   {
    "duration": 0,
    "start_time": "2023-09-30T22:40:08.919Z"
   },
   {
    "duration": 0,
    "start_time": "2023-09-30T22:40:08.921Z"
   },
   {
    "duration": 0,
    "start_time": "2023-09-30T22:40:08.925Z"
   },
   {
    "duration": 0,
    "start_time": "2023-09-30T22:40:08.926Z"
   },
   {
    "duration": 0,
    "start_time": "2023-09-30T22:40:08.928Z"
   },
   {
    "duration": 0,
    "start_time": "2023-09-30T22:40:08.929Z"
   },
   {
    "duration": 0,
    "start_time": "2023-09-30T22:40:08.930Z"
   },
   {
    "duration": 107,
    "start_time": "2023-09-30T22:45:21.995Z"
   },
   {
    "duration": 8,
    "start_time": "2023-09-30T22:45:26.036Z"
   },
   {
    "duration": 11,
    "start_time": "2023-09-30T22:45:39.090Z"
   },
   {
    "duration": 10,
    "start_time": "2023-09-30T22:45:46.035Z"
   },
   {
    "duration": 6,
    "start_time": "2023-09-30T22:45:57.850Z"
   },
   {
    "duration": 8,
    "start_time": "2023-09-30T22:46:04.705Z"
   },
   {
    "duration": 7,
    "start_time": "2023-09-30T22:46:16.650Z"
   },
   {
    "duration": 8,
    "start_time": "2023-09-30T22:46:21.656Z"
   },
   {
    "duration": 9,
    "start_time": "2023-09-30T22:46:29.641Z"
   },
   {
    "duration": 10,
    "start_time": "2023-09-30T22:47:10.110Z"
   },
   {
    "duration": 11,
    "start_time": "2023-09-30T22:48:30.150Z"
   },
   {
    "duration": 1207,
    "start_time": "2023-09-30T22:48:35.813Z"
   },
   {
    "duration": 68,
    "start_time": "2023-09-30T22:48:37.022Z"
   },
   {
    "duration": 13,
    "start_time": "2023-09-30T22:48:37.092Z"
   },
   {
    "duration": 14,
    "start_time": "2023-09-30T22:48:37.106Z"
   },
   {
    "duration": 34,
    "start_time": "2023-09-30T22:48:37.122Z"
   },
   {
    "duration": 28,
    "start_time": "2023-09-30T22:48:37.158Z"
   },
   {
    "duration": 19,
    "start_time": "2023-09-30T22:48:37.187Z"
   },
   {
    "duration": 5,
    "start_time": "2023-09-30T22:48:37.208Z"
   },
   {
    "duration": 18,
    "start_time": "2023-09-30T22:48:37.215Z"
   },
   {
    "duration": 35,
    "start_time": "2023-09-30T22:48:37.235Z"
   },
   {
    "duration": 211,
    "start_time": "2023-09-30T22:48:37.272Z"
   },
   {
    "duration": 20,
    "start_time": "2023-09-30T22:48:37.484Z"
   },
   {
    "duration": 7,
    "start_time": "2023-09-30T22:48:37.506Z"
   },
   {
    "duration": 28,
    "start_time": "2023-09-30T22:48:37.515Z"
   },
   {
    "duration": 26,
    "start_time": "2023-09-30T22:48:37.544Z"
   },
   {
    "duration": 22,
    "start_time": "2023-09-30T22:48:37.572Z"
   },
   {
    "duration": 177,
    "start_time": "2023-09-30T22:48:37.595Z"
   },
   {
    "duration": 7,
    "start_time": "2023-09-30T22:48:37.774Z"
   },
   {
    "duration": 90,
    "start_time": "2023-09-30T22:48:37.782Z"
   },
   {
    "duration": 12,
    "start_time": "2023-09-30T22:48:37.874Z"
   },
   {
    "duration": 181,
    "start_time": "2023-09-30T22:48:37.887Z"
   },
   {
    "duration": 152,
    "start_time": "2023-09-30T22:48:38.070Z"
   },
   {
    "duration": 22,
    "start_time": "2023-09-30T22:49:24.770Z"
   },
   {
    "duration": 8,
    "start_time": "2023-09-30T22:49:31.339Z"
   },
   {
    "duration": 13,
    "start_time": "2023-09-30T22:49:37.422Z"
   },
   {
    "duration": 10,
    "start_time": "2023-09-30T22:50:01.682Z"
   },
   {
    "duration": 8,
    "start_time": "2023-09-30T22:50:09.970Z"
   },
   {
    "duration": 11,
    "start_time": "2023-09-30T22:51:08.595Z"
   },
   {
    "duration": 206,
    "start_time": "2023-09-30T23:00:21.650Z"
   },
   {
    "duration": 171,
    "start_time": "2023-09-30T23:00:26.514Z"
   },
   {
    "duration": 139,
    "start_time": "2023-09-30T23:00:30.579Z"
   },
   {
    "duration": 252,
    "start_time": "2023-09-30T23:00:34.302Z"
   },
   {
    "duration": 199,
    "start_time": "2023-09-30T23:02:10.010Z"
   },
   {
    "duration": 232,
    "start_time": "2023-09-30T23:02:20.620Z"
   },
   {
    "duration": 195,
    "start_time": "2023-09-30T23:02:26.550Z"
   },
   {
    "duration": 210,
    "start_time": "2023-09-30T23:02:32.814Z"
   },
   {
    "duration": 249,
    "start_time": "2023-09-30T23:02:37.625Z"
   },
   {
    "duration": 225,
    "start_time": "2023-09-30T23:02:44.981Z"
   },
   {
    "duration": 330,
    "start_time": "2023-09-30T23:02:50.569Z"
   },
   {
    "duration": 230,
    "start_time": "2023-09-30T23:02:57.113Z"
   },
   {
    "duration": 1465,
    "start_time": "2023-09-30T23:02:59.498Z"
   },
   {
    "duration": 249,
    "start_time": "2023-09-30T23:03:04.266Z"
   },
   {
    "duration": 8,
    "start_time": "2023-09-30T23:05:39.384Z"
   },
   {
    "duration": 6,
    "start_time": "2023-09-30T23:07:33.162Z"
   },
   {
    "duration": 8,
    "start_time": "2023-09-30T23:07:40.455Z"
   },
   {
    "duration": 5,
    "start_time": "2023-09-30T23:07:43.829Z"
   },
   {
    "duration": 156,
    "start_time": "2023-09-30T23:08:09.994Z"
   },
   {
    "duration": 321,
    "start_time": "2023-09-30T23:08:19.675Z"
   },
   {
    "duration": 152,
    "start_time": "2023-09-30T23:08:33.859Z"
   },
   {
    "duration": 133,
    "start_time": "2023-09-30T23:08:37.096Z"
   },
   {
    "duration": 598,
    "start_time": "2023-09-30T23:10:08.050Z"
   },
   {
    "duration": 130,
    "start_time": "2023-09-30T23:10:18.463Z"
   },
   {
    "duration": 360,
    "start_time": "2023-09-30T23:10:22.457Z"
   },
   {
    "duration": 9,
    "start_time": "2023-09-30T23:10:38.578Z"
   },
   {
    "duration": 11,
    "start_time": "2023-09-30T23:10:41.459Z"
   },
   {
    "duration": 549,
    "start_time": "2023-09-30T23:10:44.266Z"
   },
   {
    "duration": 5,
    "start_time": "2023-09-30T23:11:55.749Z"
   },
   {
    "duration": 5,
    "start_time": "2023-09-30T23:12:03.483Z"
   },
   {
    "duration": 1126,
    "start_time": "2023-09-30T23:12:30.864Z"
   },
   {
    "duration": 69,
    "start_time": "2023-09-30T23:12:31.992Z"
   },
   {
    "duration": 15,
    "start_time": "2023-09-30T23:12:32.065Z"
   },
   {
    "duration": 23,
    "start_time": "2023-09-30T23:12:32.082Z"
   },
   {
    "duration": 28,
    "start_time": "2023-09-30T23:12:32.107Z"
   },
   {
    "duration": 39,
    "start_time": "2023-09-30T23:12:32.137Z"
   },
   {
    "duration": 33,
    "start_time": "2023-09-30T23:12:32.178Z"
   },
   {
    "duration": 10,
    "start_time": "2023-09-30T23:12:32.213Z"
   },
   {
    "duration": 32,
    "start_time": "2023-09-30T23:12:32.225Z"
   },
   {
    "duration": 40,
    "start_time": "2023-09-30T23:12:32.259Z"
   },
   {
    "duration": 221,
    "start_time": "2023-09-30T23:12:32.301Z"
   },
   {
    "duration": 25,
    "start_time": "2023-09-30T23:12:32.524Z"
   },
   {
    "duration": 11,
    "start_time": "2023-09-30T23:12:32.552Z"
   },
   {
    "duration": 19,
    "start_time": "2023-09-30T23:12:32.565Z"
   },
   {
    "duration": 4,
    "start_time": "2023-09-30T23:12:32.586Z"
   },
   {
    "duration": 184,
    "start_time": "2023-09-30T23:12:32.592Z"
   },
   {
    "duration": 9,
    "start_time": "2023-09-30T23:12:32.777Z"
   },
   {
    "duration": 119,
    "start_time": "2023-09-30T23:12:32.788Z"
   },
   {
    "duration": 13,
    "start_time": "2023-09-30T23:12:32.908Z"
   },
   {
    "duration": 237,
    "start_time": "2023-09-30T23:12:32.923Z"
   },
   {
    "duration": 215,
    "start_time": "2023-09-30T23:12:33.162Z"
   },
   {
    "duration": 0,
    "start_time": "2023-09-30T23:12:33.378Z"
   },
   {
    "duration": 0,
    "start_time": "2023-09-30T23:12:33.380Z"
   },
   {
    "duration": 6,
    "start_time": "2023-09-30T23:13:40.100Z"
   },
   {
    "duration": 117,
    "start_time": "2023-09-30T23:13:44.926Z"
   },
   {
    "duration": 14,
    "start_time": "2023-09-30T23:13:58.756Z"
   },
   {
    "duration": 291,
    "start_time": "2023-09-30T23:14:07.261Z"
   },
   {
    "duration": 126,
    "start_time": "2023-09-30T23:14:11.751Z"
   },
   {
    "duration": 15,
    "start_time": "2023-09-30T23:14:44.127Z"
   },
   {
    "duration": 10,
    "start_time": "2023-09-30T23:14:49.338Z"
   },
   {
    "duration": 9,
    "start_time": "2023-09-30T23:14:53.573Z"
   },
   {
    "duration": 13,
    "start_time": "2023-09-30T23:15:05.525Z"
   },
   {
    "duration": 12,
    "start_time": "2023-09-30T23:15:07.681Z"
   },
   {
    "duration": 1194,
    "start_time": "2023-09-30T23:15:14.654Z"
   },
   {
    "duration": 83,
    "start_time": "2023-09-30T23:15:15.850Z"
   },
   {
    "duration": 20,
    "start_time": "2023-09-30T23:15:15.935Z"
   },
   {
    "duration": 24,
    "start_time": "2023-09-30T23:15:15.958Z"
   },
   {
    "duration": 41,
    "start_time": "2023-09-30T23:15:15.984Z"
   },
   {
    "duration": 30,
    "start_time": "2023-09-30T23:15:16.027Z"
   },
   {
    "duration": 23,
    "start_time": "2023-09-30T23:15:16.059Z"
   },
   {
    "duration": 19,
    "start_time": "2023-09-30T23:15:16.084Z"
   },
   {
    "duration": 20,
    "start_time": "2023-09-30T23:15:16.105Z"
   },
   {
    "duration": 70,
    "start_time": "2023-09-30T23:15:16.127Z"
   },
   {
    "duration": 240,
    "start_time": "2023-09-30T23:15:16.199Z"
   },
   {
    "duration": 33,
    "start_time": "2023-09-30T23:15:16.446Z"
   },
   {
    "duration": 27,
    "start_time": "2023-09-30T23:15:16.481Z"
   },
   {
    "duration": 23,
    "start_time": "2023-09-30T23:15:16.509Z"
   },
   {
    "duration": 32,
    "start_time": "2023-09-30T23:15:16.534Z"
   },
   {
    "duration": 176,
    "start_time": "2023-09-30T23:15:16.568Z"
   },
   {
    "duration": 7,
    "start_time": "2023-09-30T23:15:16.745Z"
   },
   {
    "duration": 97,
    "start_time": "2023-09-30T23:15:16.754Z"
   },
   {
    "duration": 14,
    "start_time": "2023-09-30T23:15:16.852Z"
   },
   {
    "duration": 245,
    "start_time": "2023-09-30T23:15:16.867Z"
   },
   {
    "duration": 217,
    "start_time": "2023-09-30T23:15:17.114Z"
   },
   {
    "duration": 0,
    "start_time": "2023-09-30T23:15:17.333Z"
   },
   {
    "duration": 0,
    "start_time": "2023-09-30T23:15:17.334Z"
   },
   {
    "duration": 1175,
    "start_time": "2023-09-30T23:15:57.786Z"
   },
   {
    "duration": 1477,
    "start_time": "2023-09-30T23:16:42.940Z"
   },
   {
    "duration": 1500,
    "start_time": "2023-09-30T23:16:56.153Z"
   },
   {
    "duration": 93,
    "start_time": "2023-09-30T23:18:09.917Z"
   },
   {
    "duration": 1144,
    "start_time": "2023-09-30T23:18:15.632Z"
   },
   {
    "duration": 1180,
    "start_time": "2023-09-30T23:18:19.964Z"
   },
   {
    "duration": 1166,
    "start_time": "2023-09-30T23:18:41.011Z"
   },
   {
    "duration": 1348,
    "start_time": "2023-09-30T23:18:48.024Z"
   },
   {
    "duration": 1228,
    "start_time": "2023-09-30T23:19:08.964Z"
   },
   {
    "duration": 1165,
    "start_time": "2023-09-30T23:19:18.335Z"
   },
   {
    "duration": 69,
    "start_time": "2023-09-30T23:19:19.502Z"
   },
   {
    "duration": 13,
    "start_time": "2023-09-30T23:19:19.573Z"
   },
   {
    "duration": 10,
    "start_time": "2023-09-30T23:19:19.588Z"
   },
   {
    "duration": 28,
    "start_time": "2023-09-30T23:19:19.600Z"
   },
   {
    "duration": 27,
    "start_time": "2023-09-30T23:19:19.630Z"
   },
   {
    "duration": 23,
    "start_time": "2023-09-30T23:19:19.659Z"
   },
   {
    "duration": 7,
    "start_time": "2023-09-30T23:19:19.684Z"
   },
   {
    "duration": 29,
    "start_time": "2023-09-30T23:19:19.693Z"
   },
   {
    "duration": 50,
    "start_time": "2023-09-30T23:19:19.725Z"
   },
   {
    "duration": 191,
    "start_time": "2023-09-30T23:19:19.777Z"
   },
   {
    "duration": 21,
    "start_time": "2023-09-30T23:19:19.969Z"
   },
   {
    "duration": 6,
    "start_time": "2023-09-30T23:19:19.992Z"
   },
   {
    "duration": 34,
    "start_time": "2023-09-30T23:19:20.000Z"
   },
   {
    "duration": 5,
    "start_time": "2023-09-30T23:19:20.049Z"
   },
   {
    "duration": 186,
    "start_time": "2023-09-30T23:19:20.055Z"
   },
   {
    "duration": 9,
    "start_time": "2023-09-30T23:19:20.243Z"
   },
   {
    "duration": 109,
    "start_time": "2023-09-30T23:19:20.253Z"
   },
   {
    "duration": 13,
    "start_time": "2023-09-30T23:19:20.364Z"
   },
   {
    "duration": 238,
    "start_time": "2023-09-30T23:19:20.379Z"
   },
   {
    "duration": 215,
    "start_time": "2023-09-30T23:19:20.618Z"
   },
   {
    "duration": 0,
    "start_time": "2023-09-30T23:19:20.835Z"
   },
   {
    "duration": 0,
    "start_time": "2023-09-30T23:19:20.836Z"
   },
   {
    "duration": 13,
    "start_time": "2023-09-30T23:20:29.055Z"
   },
   {
    "duration": 10,
    "start_time": "2023-09-30T23:20:40.632Z"
   },
   {
    "duration": 14,
    "start_time": "2023-09-30T23:20:45.259Z"
   },
   {
    "duration": 11,
    "start_time": "2023-09-30T23:22:57.805Z"
   },
   {
    "duration": 3,
    "start_time": "2023-09-30T23:23:08.315Z"
   },
   {
    "duration": 11,
    "start_time": "2023-09-30T23:23:16.088Z"
   },
   {
    "duration": 7,
    "start_time": "2023-09-30T23:23:28.856Z"
   },
   {
    "duration": 10,
    "start_time": "2023-09-30T23:23:35.689Z"
   },
   {
    "duration": 10,
    "start_time": "2023-09-30T23:23:46.098Z"
   },
   {
    "duration": 8,
    "start_time": "2023-09-30T23:26:55.919Z"
   },
   {
    "duration": 4,
    "start_time": "2023-09-30T23:27:04.972Z"
   },
   {
    "duration": 6,
    "start_time": "2023-09-30T23:27:41.647Z"
   },
   {
    "duration": 11,
    "start_time": "2023-09-30T23:27:49.655Z"
   },
   {
    "duration": 9,
    "start_time": "2023-09-30T23:28:20.253Z"
   },
   {
    "duration": 163,
    "start_time": "2023-09-30T23:28:44.805Z"
   },
   {
    "duration": 5,
    "start_time": "2023-09-30T23:29:01.366Z"
   },
   {
    "duration": 134,
    "start_time": "2023-09-30T23:29:12.575Z"
   },
   {
    "duration": 215,
    "start_time": "2023-09-30T23:29:26.779Z"
   },
   {
    "duration": 156,
    "start_time": "2023-09-30T23:29:49.083Z"
   },
   {
    "duration": 133,
    "start_time": "2023-09-30T23:29:55.549Z"
   },
   {
    "duration": 136,
    "start_time": "2023-09-30T23:30:04.878Z"
   },
   {
    "duration": 6,
    "start_time": "2023-09-30T23:32:09.942Z"
   },
   {
    "duration": 5,
    "start_time": "2023-09-30T23:32:18.825Z"
   },
   {
    "duration": 12,
    "start_time": "2023-09-30T23:32:59.623Z"
   },
   {
    "duration": 9,
    "start_time": "2023-09-30T23:33:15.732Z"
   },
   {
    "duration": 16,
    "start_time": "2023-09-30T23:33:39.341Z"
   },
   {
    "duration": 12,
    "start_time": "2023-10-01T00:00:31.513Z"
   },
   {
    "duration": 1335,
    "start_time": "2023-10-01T10:05:17.717Z"
   },
   {
    "duration": 107,
    "start_time": "2023-10-01T10:05:19.055Z"
   },
   {
    "duration": 14,
    "start_time": "2023-10-01T10:05:19.163Z"
   },
   {
    "duration": 15,
    "start_time": "2023-10-01T10:05:19.179Z"
   },
   {
    "duration": 15,
    "start_time": "2023-10-01T10:05:19.195Z"
   },
   {
    "duration": 35,
    "start_time": "2023-10-01T10:05:19.211Z"
   },
   {
    "duration": 15,
    "start_time": "2023-10-01T10:05:19.247Z"
   },
   {
    "duration": 15,
    "start_time": "2023-10-01T10:05:19.263Z"
   },
   {
    "duration": 15,
    "start_time": "2023-10-01T10:05:19.279Z"
   },
   {
    "duration": 26,
    "start_time": "2023-10-01T10:05:19.297Z"
   },
   {
    "duration": 195,
    "start_time": "2023-10-01T10:05:19.325Z"
   },
   {
    "duration": 25,
    "start_time": "2023-10-01T10:05:19.521Z"
   },
   {
    "duration": 6,
    "start_time": "2023-10-01T10:05:19.548Z"
   },
   {
    "duration": 18,
    "start_time": "2023-10-01T10:05:19.555Z"
   },
   {
    "duration": 13,
    "start_time": "2023-10-01T10:05:19.574Z"
   },
   {
    "duration": 7,
    "start_time": "2023-10-01T10:05:19.588Z"
   },
   {
    "duration": 181,
    "start_time": "2023-10-01T10:05:19.596Z"
   },
   {
    "duration": 6,
    "start_time": "2023-10-01T10:05:19.779Z"
   },
   {
    "duration": 93,
    "start_time": "2023-10-01T10:05:19.786Z"
   },
   {
    "duration": 12,
    "start_time": "2023-10-01T10:05:19.880Z"
   },
   {
    "duration": 242,
    "start_time": "2023-10-01T10:05:19.894Z"
   },
   {
    "duration": 169,
    "start_time": "2023-10-01T10:05:20.138Z"
   },
   {
    "duration": 33,
    "start_time": "2023-10-01T10:05:20.309Z"
   },
   {
    "duration": 169,
    "start_time": "2023-10-01T10:05:20.344Z"
   },
   {
    "duration": 96,
    "start_time": "2023-10-01T10:05:42.789Z"
   },
   {
    "duration": 10,
    "start_time": "2023-10-01T10:05:55.568Z"
   },
   {
    "duration": 6,
    "start_time": "2023-10-01T10:06:03.386Z"
   },
   {
    "duration": 5,
    "start_time": "2023-10-01T10:06:23.581Z"
   },
   {
    "duration": 37,
    "start_time": "2023-10-01T10:10:11.359Z"
   },
   {
    "duration": 14,
    "start_time": "2023-10-01T10:10:16.495Z"
   },
   {
    "duration": 22,
    "start_time": "2023-10-01T10:21:13.367Z"
   },
   {
    "duration": 23,
    "start_time": "2023-10-01T10:21:28.867Z"
   },
   {
    "duration": 17,
    "start_time": "2023-10-01T10:22:49.066Z"
   },
   {
    "duration": 10,
    "start_time": "2023-10-01T10:22:59.965Z"
   },
   {
    "duration": 18,
    "start_time": "2023-10-01T10:23:08.066Z"
   },
   {
    "duration": 12,
    "start_time": "2023-10-01T10:23:13.865Z"
   },
   {
    "duration": 15,
    "start_time": "2023-10-01T10:24:12.841Z"
   },
   {
    "duration": 12,
    "start_time": "2023-10-01T10:24:31.727Z"
   },
   {
    "duration": 13,
    "start_time": "2023-10-01T10:24:58.007Z"
   },
   {
    "duration": 12,
    "start_time": "2023-10-01T10:25:04.886Z"
   },
   {
    "duration": 14,
    "start_time": "2023-10-01T10:25:38.293Z"
   },
   {
    "duration": 16,
    "start_time": "2023-10-01T10:25:53.737Z"
   },
   {
    "duration": 13,
    "start_time": "2023-10-01T10:26:24.839Z"
   },
   {
    "duration": 15,
    "start_time": "2023-10-01T10:26:28.901Z"
   },
   {
    "duration": 14,
    "start_time": "2023-10-01T10:26:34.268Z"
   },
   {
    "duration": 15,
    "start_time": "2023-10-01T10:26:37.468Z"
   },
   {
    "duration": 8,
    "start_time": "2023-10-01T10:27:21.172Z"
   },
   {
    "duration": 1156,
    "start_time": "2023-10-01T10:27:27.936Z"
   },
   {
    "duration": 67,
    "start_time": "2023-10-01T10:27:29.094Z"
   },
   {
    "duration": 15,
    "start_time": "2023-10-01T10:27:29.163Z"
   },
   {
    "duration": 9,
    "start_time": "2023-10-01T10:27:29.179Z"
   },
   {
    "duration": 14,
    "start_time": "2023-10-01T10:27:29.190Z"
   },
   {
    "duration": 19,
    "start_time": "2023-10-01T10:27:29.205Z"
   },
   {
    "duration": 16,
    "start_time": "2023-10-01T10:27:29.244Z"
   },
   {
    "duration": 5,
    "start_time": "2023-10-01T10:27:29.262Z"
   },
   {
    "duration": 16,
    "start_time": "2023-10-01T10:27:29.269Z"
   },
   {
    "duration": 203,
    "start_time": "2023-10-01T10:27:29.286Z"
   },
   {
    "duration": 20,
    "start_time": "2023-10-01T10:27:29.491Z"
   },
   {
    "duration": 6,
    "start_time": "2023-10-01T10:27:29.513Z"
   },
   {
    "duration": 26,
    "start_time": "2023-10-01T10:27:29.520Z"
   },
   {
    "duration": 13,
    "start_time": "2023-10-01T10:27:29.548Z"
   },
   {
    "duration": 15,
    "start_time": "2023-10-01T10:27:29.563Z"
   },
   {
    "duration": 12,
    "start_time": "2023-10-01T10:27:29.580Z"
   },
   {
    "duration": 187,
    "start_time": "2023-10-01T10:27:29.593Z"
   },
   {
    "duration": 7,
    "start_time": "2023-10-01T10:27:29.782Z"
   },
   {
    "duration": 97,
    "start_time": "2023-10-01T10:27:29.791Z"
   },
   {
    "duration": 15,
    "start_time": "2023-10-01T10:27:29.889Z"
   },
   {
    "duration": 255,
    "start_time": "2023-10-01T10:27:29.906Z"
   },
   {
    "duration": 167,
    "start_time": "2023-10-01T10:27:30.163Z"
   },
   {
    "duration": 10,
    "start_time": "2023-10-01T10:27:30.332Z"
   },
   {
    "duration": 169,
    "start_time": "2023-10-01T10:27:30.343Z"
   },
   {
    "duration": 11,
    "start_time": "2023-10-01T10:29:09.201Z"
   },
   {
    "duration": 13,
    "start_time": "2023-10-01T10:29:31.980Z"
   },
   {
    "duration": 305,
    "start_time": "2023-10-01T10:29:57.671Z"
   },
   {
    "duration": 243,
    "start_time": "2023-10-01T10:30:03.190Z"
   },
   {
    "duration": 148,
    "start_time": "2023-10-01T10:30:51.308Z"
   },
   {
    "duration": 146,
    "start_time": "2023-10-01T10:30:56.114Z"
   },
   {
    "duration": 147,
    "start_time": "2023-10-01T10:31:00.297Z"
   },
   {
    "duration": 146,
    "start_time": "2023-10-01T10:31:03.924Z"
   },
   {
    "duration": 147,
    "start_time": "2023-10-01T10:31:06.247Z"
   },
   {
    "duration": 82,
    "start_time": "2023-10-01T10:32:29.834Z"
   },
   {
    "duration": 93,
    "start_time": "2023-10-01T10:32:47.884Z"
   },
   {
    "duration": 89,
    "start_time": "2023-10-01T10:32:59.602Z"
   },
   {
    "duration": 141,
    "start_time": "2023-10-01T10:36:24.506Z"
   },
   {
    "duration": 178,
    "start_time": "2023-10-01T10:37:53.205Z"
   },
   {
    "duration": 387,
    "start_time": "2023-10-01T10:38:05.493Z"
   },
   {
    "duration": 96,
    "start_time": "2023-10-01T10:38:21.756Z"
   },
   {
    "duration": 2,
    "start_time": "2023-10-01T10:38:50.427Z"
   },
   {
    "duration": 98,
    "start_time": "2023-10-01T10:38:53.192Z"
   },
   {
    "duration": 95,
    "start_time": "2023-10-01T10:43:35.354Z"
   },
   {
    "duration": 5,
    "start_time": "2023-10-01T10:43:51.196Z"
   },
   {
    "duration": 10,
    "start_time": "2023-10-01T10:44:04.549Z"
   },
   {
    "duration": 90,
    "start_time": "2023-10-01T10:44:50.605Z"
   },
   {
    "duration": 94,
    "start_time": "2023-10-01T10:44:54.091Z"
   },
   {
    "duration": 1221,
    "start_time": "2023-10-01T10:45:51.619Z"
   },
   {
    "duration": 67,
    "start_time": "2023-10-01T10:45:52.842Z"
   },
   {
    "duration": 13,
    "start_time": "2023-10-01T10:45:52.910Z"
   },
   {
    "duration": 19,
    "start_time": "2023-10-01T10:45:52.925Z"
   },
   {
    "duration": 16,
    "start_time": "2023-10-01T10:45:52.945Z"
   },
   {
    "duration": 22,
    "start_time": "2023-10-01T10:45:52.963Z"
   },
   {
    "duration": 52,
    "start_time": "2023-10-01T10:45:52.986Z"
   },
   {
    "duration": 5,
    "start_time": "2023-10-01T10:45:53.040Z"
   },
   {
    "duration": 24,
    "start_time": "2023-10-01T10:45:53.048Z"
   },
   {
    "duration": 263,
    "start_time": "2023-10-01T10:45:53.076Z"
   },
   {
    "duration": 22,
    "start_time": "2023-10-01T10:45:53.340Z"
   },
   {
    "duration": 7,
    "start_time": "2023-10-01T10:45:53.364Z"
   },
   {
    "duration": 22,
    "start_time": "2023-10-01T10:45:53.372Z"
   },
   {
    "duration": 12,
    "start_time": "2023-10-01T10:45:53.395Z"
   },
   {
    "duration": 16,
    "start_time": "2023-10-01T10:45:53.409Z"
   },
   {
    "duration": 18,
    "start_time": "2023-10-01T10:45:53.426Z"
   },
   {
    "duration": 180,
    "start_time": "2023-10-01T10:45:53.446Z"
   },
   {
    "duration": 17,
    "start_time": "2023-10-01T10:45:53.628Z"
   },
   {
    "duration": 103,
    "start_time": "2023-10-01T10:45:53.646Z"
   },
   {
    "duration": 13,
    "start_time": "2023-10-01T10:45:53.751Z"
   },
   {
    "duration": 263,
    "start_time": "2023-10-01T10:45:53.766Z"
   },
   {
    "duration": 189,
    "start_time": "2023-10-01T10:45:54.030Z"
   },
   {
    "duration": 2,
    "start_time": "2023-10-01T10:45:54.221Z"
   },
   {
    "duration": 122,
    "start_time": "2023-10-01T10:45:54.224Z"
   },
   {
    "duration": 8,
    "start_time": "2023-10-01T10:45:54.347Z"
   },
   {
    "duration": 234,
    "start_time": "2023-10-01T10:45:54.356Z"
   },
   {
    "duration": 101,
    "start_time": "2023-10-01T10:47:44.249Z"
   },
   {
    "duration": 173,
    "start_time": "2023-10-01T10:48:31.676Z"
   },
   {
    "duration": 99,
    "start_time": "2023-10-01T10:48:42.476Z"
   },
   {
    "duration": 9,
    "start_time": "2023-10-01T10:48:49.425Z"
   },
   {
    "duration": 103,
    "start_time": "2023-10-01T10:48:57.847Z"
   },
   {
    "duration": 146,
    "start_time": "2023-10-01T10:49:19.530Z"
   },
   {
    "duration": 113,
    "start_time": "2023-10-01T10:49:25.051Z"
   },
   {
    "duration": 15,
    "start_time": "2023-10-01T10:50:37.953Z"
   },
   {
    "duration": 148,
    "start_time": "2023-10-01T10:53:12.714Z"
   },
   {
    "duration": 145,
    "start_time": "2023-10-01T10:53:19.514Z"
   },
   {
    "duration": 12,
    "start_time": "2023-10-01T10:53:47.251Z"
   },
   {
    "duration": 196,
    "start_time": "2023-10-01T10:54:09.944Z"
   },
   {
    "duration": 202,
    "start_time": "2023-10-01T10:54:13.144Z"
   },
   {
    "duration": 326,
    "start_time": "2023-10-01T10:54:15.538Z"
   },
   {
    "duration": 6,
    "start_time": "2023-10-01T10:55:35.600Z"
   },
   {
    "duration": 17,
    "start_time": "2023-10-01T10:55:41.066Z"
   },
   {
    "duration": 9,
    "start_time": "2023-10-01T10:55:51.035Z"
   },
   {
    "duration": 11,
    "start_time": "2023-10-01T10:56:31.969Z"
   },
   {
    "duration": 16,
    "start_time": "2023-10-01T10:56:41.543Z"
   },
   {
    "duration": 26,
    "start_time": "2023-10-01T10:57:01.981Z"
   },
   {
    "duration": 12,
    "start_time": "2023-10-01T11:01:00.623Z"
   },
   {
    "duration": 18,
    "start_time": "2023-10-01T11:02:03.073Z"
   },
   {
    "duration": 287,
    "start_time": "2023-10-01T11:13:57.732Z"
   },
   {
    "duration": 376,
    "start_time": "2023-10-01T11:14:18.507Z"
   },
   {
    "duration": 240,
    "start_time": "2023-10-01T11:14:31.477Z"
   },
   {
    "duration": 242,
    "start_time": "2023-10-01T11:14:36.012Z"
   },
   {
    "duration": 351,
    "start_time": "2023-10-01T11:14:39.280Z"
   },
   {
    "duration": 167,
    "start_time": "2023-10-01T11:15:12.482Z"
   },
   {
    "duration": 148,
    "start_time": "2023-10-01T11:15:17.164Z"
   },
   {
    "duration": 1162,
    "start_time": "2023-10-01T11:15:32.292Z"
   },
   {
    "duration": 67,
    "start_time": "2023-10-01T11:15:33.456Z"
   },
   {
    "duration": 41,
    "start_time": "2023-10-01T11:15:33.524Z"
   },
   {
    "duration": 26,
    "start_time": "2023-10-01T11:15:33.567Z"
   },
   {
    "duration": 40,
    "start_time": "2023-10-01T11:15:33.596Z"
   },
   {
    "duration": 37,
    "start_time": "2023-10-01T11:15:33.638Z"
   },
   {
    "duration": 27,
    "start_time": "2023-10-01T11:15:33.677Z"
   },
   {
    "duration": 11,
    "start_time": "2023-10-01T11:15:33.705Z"
   },
   {
    "duration": 43,
    "start_time": "2023-10-01T11:15:33.718Z"
   },
   {
    "duration": 293,
    "start_time": "2023-10-01T11:15:33.763Z"
   },
   {
    "duration": 20,
    "start_time": "2023-10-01T11:15:34.057Z"
   },
   {
    "duration": 6,
    "start_time": "2023-10-01T11:15:34.078Z"
   },
   {
    "duration": 29,
    "start_time": "2023-10-01T11:15:34.086Z"
   },
   {
    "duration": 29,
    "start_time": "2023-10-01T11:15:34.117Z"
   },
   {
    "duration": 13,
    "start_time": "2023-10-01T11:15:34.147Z"
   },
   {
    "duration": 17,
    "start_time": "2023-10-01T11:15:34.162Z"
   },
   {
    "duration": 192,
    "start_time": "2023-10-01T11:15:34.180Z"
   },
   {
    "duration": 7,
    "start_time": "2023-10-01T11:15:34.374Z"
   },
   {
    "duration": 137,
    "start_time": "2023-10-01T11:15:34.383Z"
   },
   {
    "duration": 31,
    "start_time": "2023-10-01T11:15:34.522Z"
   },
   {
    "duration": 263,
    "start_time": "2023-10-01T11:15:34.555Z"
   },
   {
    "duration": 259,
    "start_time": "2023-10-01T11:15:34.820Z"
   },
   {
    "duration": 178,
    "start_time": "2023-10-01T11:15:35.081Z"
   },
   {
    "duration": 258,
    "start_time": "2023-10-01T11:16:52.090Z"
   },
   {
    "duration": 146,
    "start_time": "2023-10-01T11:17:05.918Z"
   },
   {
    "duration": 158,
    "start_time": "2023-10-01T11:17:18.088Z"
   },
   {
    "duration": 154,
    "start_time": "2023-10-01T11:17:22.258Z"
   },
   {
    "duration": 144,
    "start_time": "2023-10-01T11:17:26.693Z"
   },
   {
    "duration": 152,
    "start_time": "2023-10-01T11:17:55.112Z"
   },
   {
    "duration": 191,
    "start_time": "2023-10-01T11:18:11.576Z"
   },
   {
    "duration": 198,
    "start_time": "2023-10-01T11:18:36.060Z"
   },
   {
    "duration": 192,
    "start_time": "2023-10-01T11:19:17.722Z"
   },
   {
    "duration": 183,
    "start_time": "2023-10-01T11:19:22.335Z"
   },
   {
    "duration": 326,
    "start_time": "2023-10-01T11:19:57.910Z"
   },
   {
    "duration": 264,
    "start_time": "2023-10-01T11:20:04.592Z"
   },
   {
    "duration": 249,
    "start_time": "2023-10-01T11:20:18.120Z"
   },
   {
    "duration": 243,
    "start_time": "2023-10-01T11:20:23.389Z"
   },
   {
    "duration": 244,
    "start_time": "2023-10-01T11:20:37.122Z"
   },
   {
    "duration": 349,
    "start_time": "2023-10-01T11:20:54.617Z"
   },
   {
    "duration": 8,
    "start_time": "2023-10-01T11:23:36.778Z"
   },
   {
    "duration": 12,
    "start_time": "2023-10-01T11:23:50.333Z"
   },
   {
    "duration": 8,
    "start_time": "2023-10-01T11:26:44.276Z"
   },
   {
    "duration": 8,
    "start_time": "2023-10-01T11:27:38.607Z"
   },
   {
    "duration": 8,
    "start_time": "2023-10-01T11:27:55.166Z"
   },
   {
    "duration": 9,
    "start_time": "2023-10-01T11:28:16.009Z"
   },
   {
    "duration": 11,
    "start_time": "2023-10-01T11:28:35.060Z"
   },
   {
    "duration": 7,
    "start_time": "2023-10-01T11:30:35.065Z"
   },
   {
    "duration": 108,
    "start_time": "2023-10-01T11:31:51.983Z"
   },
   {
    "duration": 13,
    "start_time": "2023-10-01T11:32:05.548Z"
   },
   {
    "duration": 106,
    "start_time": "2023-10-01T11:32:09.986Z"
   },
   {
    "duration": 17,
    "start_time": "2023-10-01T11:34:21.295Z"
   },
   {
    "duration": 45,
    "start_time": "2023-10-01T11:35:33.084Z"
   },
   {
    "duration": 17,
    "start_time": "2023-10-01T11:36:05.858Z"
   },
   {
    "duration": 15,
    "start_time": "2023-10-01T11:36:10.584Z"
   },
   {
    "duration": 44,
    "start_time": "2023-10-01T11:36:14.831Z"
   },
   {
    "duration": 49,
    "start_time": "2023-10-01T11:37:57.445Z"
   },
   {
    "duration": 14,
    "start_time": "2023-10-01T11:38:10.458Z"
   },
   {
    "duration": 91,
    "start_time": "2023-10-01T11:38:23.067Z"
   },
   {
    "duration": 17,
    "start_time": "2023-10-01T11:38:26.578Z"
   },
   {
    "duration": 14,
    "start_time": "2023-10-01T11:38:42.144Z"
   },
   {
    "duration": 52,
    "start_time": "2023-10-01T11:39:19.708Z"
   },
   {
    "duration": 20,
    "start_time": "2023-10-01T11:39:34.244Z"
   },
   {
    "duration": 14,
    "start_time": "2023-10-01T11:49:00.404Z"
   },
   {
    "duration": 15,
    "start_time": "2023-10-01T11:50:07.590Z"
   },
   {
    "duration": 19,
    "start_time": "2023-10-01T11:53:07.031Z"
   },
   {
    "duration": 48,
    "start_time": "2023-10-01T11:53:10.419Z"
   },
   {
    "duration": 51,
    "start_time": "2023-10-01T11:53:50.659Z"
   },
   {
    "duration": 18,
    "start_time": "2023-10-01T11:54:27.727Z"
   },
   {
    "duration": 18,
    "start_time": "2023-10-01T11:54:31.238Z"
   },
   {
    "duration": 45,
    "start_time": "2023-10-01T11:54:35.417Z"
   },
   {
    "duration": 67,
    "start_time": "2023-10-01T11:55:07.583Z"
   },
   {
    "duration": 17,
    "start_time": "2023-10-01T11:55:28.290Z"
   },
   {
    "duration": 17,
    "start_time": "2023-10-01T11:56:09.917Z"
   },
   {
    "duration": 19,
    "start_time": "2023-10-01T12:02:30.374Z"
   },
   {
    "duration": 36,
    "start_time": "2023-10-01T12:02:57.674Z"
   },
   {
    "duration": 36,
    "start_time": "2023-10-01T12:04:14.896Z"
   },
   {
    "duration": 22,
    "start_time": "2023-10-01T12:04:31.112Z"
   },
   {
    "duration": 34,
    "start_time": "2023-10-01T12:05:50.754Z"
   },
   {
    "duration": 27,
    "start_time": "2023-10-01T12:06:19.802Z"
   },
   {
    "duration": 26,
    "start_time": "2023-10-01T12:06:25.956Z"
   },
   {
    "duration": 31,
    "start_time": "2023-10-01T12:06:35.773Z"
   },
   {
    "duration": 24,
    "start_time": "2023-10-01T12:07:19.511Z"
   },
   {
    "duration": 42,
    "start_time": "2023-10-01T12:07:34.186Z"
   },
   {
    "duration": 45,
    "start_time": "2023-10-01T12:12:53.669Z"
   },
   {
    "duration": 44,
    "start_time": "2023-10-01T12:13:13.441Z"
   },
   {
    "duration": 45,
    "start_time": "2023-10-01T12:13:16.521Z"
   },
   {
    "duration": 47,
    "start_time": "2023-10-01T12:13:22.993Z"
   },
   {
    "duration": 59,
    "start_time": "2023-10-01T12:13:28.108Z"
   },
   {
    "duration": 25,
    "start_time": "2023-10-01T12:19:14.677Z"
   },
   {
    "duration": 103,
    "start_time": "2023-10-01T12:59:24.506Z"
   },
   {
    "duration": 71,
    "start_time": "2023-10-01T12:59:29.866Z"
   },
   {
    "duration": 29,
    "start_time": "2023-10-01T12:59:44.060Z"
   },
   {
    "duration": 16,
    "start_time": "2023-10-01T17:32:52.500Z"
   },
   {
    "duration": 7,
    "start_time": "2023-10-01T17:35:15.142Z"
   },
   {
    "duration": 145,
    "start_time": "2023-10-01T17:36:24.966Z"
   },
   {
    "duration": 135,
    "start_time": "2023-10-01T17:36:32.980Z"
   },
   {
    "duration": 124,
    "start_time": "2023-10-01T17:36:39.462Z"
   },
   {
    "duration": 192,
    "start_time": "2023-10-01T17:36:55.724Z"
   },
   {
    "duration": 195,
    "start_time": "2023-10-01T17:37:01.822Z"
   },
   {
    "duration": 190,
    "start_time": "2023-10-01T17:37:10.391Z"
   },
   {
    "duration": 201,
    "start_time": "2023-10-01T17:37:21.561Z"
   },
   {
    "duration": 158,
    "start_time": "2023-10-01T17:37:25.612Z"
   },
   {
    "duration": 288,
    "start_time": "2023-10-01T17:37:29.511Z"
   },
   {
    "duration": 185,
    "start_time": "2023-10-01T17:40:37.135Z"
   },
   {
    "duration": 180,
    "start_time": "2023-10-01T17:40:44.013Z"
   },
   {
    "duration": 55,
    "start_time": "2023-10-01T17:42:14.391Z"
   },
   {
    "duration": 48,
    "start_time": "2023-10-01T17:42:24.031Z"
   },
   {
    "duration": 150,
    "start_time": "2023-10-01T17:46:14.155Z"
   },
   {
    "duration": 145,
    "start_time": "2023-10-01T17:46:36.879Z"
   },
   {
    "duration": 124,
    "start_time": "2023-10-01T17:47:41.097Z"
   },
   {
    "duration": 15,
    "start_time": "2023-10-01T17:47:48.336Z"
   },
   {
    "duration": 12,
    "start_time": "2023-10-01T17:47:54.852Z"
   },
   {
    "duration": 152,
    "start_time": "2023-10-01T17:47:59.561Z"
   },
   {
    "duration": 9,
    "start_time": "2023-10-01T17:49:56.475Z"
   },
   {
    "duration": 5,
    "start_time": "2023-10-01T17:50:01.299Z"
   },
   {
    "duration": 4,
    "start_time": "2023-10-01T17:50:43.357Z"
   },
   {
    "duration": 8,
    "start_time": "2023-10-01T17:51:00.682Z"
   },
   {
    "duration": 71,
    "start_time": "2023-10-01T17:52:02.311Z"
   },
   {
    "duration": 69,
    "start_time": "2023-10-01T17:52:28.939Z"
   },
   {
    "duration": 632,
    "start_time": "2023-10-01T17:52:33.286Z"
   },
   {
    "duration": 850,
    "start_time": "2023-10-01T17:52:47.993Z"
   },
   {
    "duration": 145,
    "start_time": "2023-10-01T17:54:02.192Z"
   },
   {
    "duration": 490,
    "start_time": "2023-10-01T17:54:15.503Z"
   },
   {
    "duration": 515,
    "start_time": "2023-10-01T17:54:35.984Z"
   },
   {
    "duration": 497,
    "start_time": "2023-10-01T17:54:39.667Z"
   },
   {
    "duration": 406,
    "start_time": "2023-10-01T17:55:36.265Z"
   },
   {
    "duration": 571,
    "start_time": "2023-10-01T17:55:56.334Z"
   },
   {
    "duration": 406,
    "start_time": "2023-10-01T17:56:00.775Z"
   },
   {
    "duration": 411,
    "start_time": "2023-10-01T17:56:45.634Z"
   },
   {
    "duration": 518,
    "start_time": "2023-10-01T17:57:10.356Z"
   },
   {
    "duration": 487,
    "start_time": "2023-10-01T17:57:14.288Z"
   },
   {
    "duration": 563,
    "start_time": "2023-10-01T17:57:22.571Z"
   },
   {
    "duration": 631,
    "start_time": "2023-10-01T17:57:25.718Z"
   },
   {
    "duration": 75,
    "start_time": "2023-10-01T17:57:59.160Z"
   },
   {
    "duration": 55,
    "start_time": "2023-10-01T17:58:10.506Z"
   },
   {
    "duration": 51,
    "start_time": "2023-10-01T17:58:36.249Z"
   },
   {
    "duration": 55,
    "start_time": "2023-10-01T18:00:19.312Z"
   },
   {
    "duration": 15,
    "start_time": "2023-10-01T18:00:58.885Z"
   },
   {
    "duration": 51,
    "start_time": "2023-10-01T18:01:03.922Z"
   },
   {
    "duration": 40,
    "start_time": "2023-10-01T18:01:41.546Z"
   },
   {
    "duration": 656,
    "start_time": "2023-10-01T18:02:03.286Z"
   },
   {
    "duration": 19,
    "start_time": "2023-10-01T18:02:36.885Z"
   },
   {
    "duration": 269,
    "start_time": "2023-10-01T18:02:47.047Z"
   },
   {
    "duration": 237,
    "start_time": "2023-10-01T18:03:01.627Z"
   },
   {
    "duration": 14,
    "start_time": "2023-10-01T18:03:40.941Z"
   },
   {
    "duration": 66,
    "start_time": "2023-10-01T18:03:43.835Z"
   },
   {
    "duration": 116,
    "start_time": "2023-10-01T18:04:01.255Z"
   },
   {
    "duration": 26,
    "start_time": "2023-10-01T18:04:21.035Z"
   },
   {
    "duration": 22,
    "start_time": "2023-10-01T18:04:40.399Z"
   },
   {
    "duration": 21,
    "start_time": "2023-10-01T18:04:49.310Z"
   },
   {
    "duration": 17,
    "start_time": "2023-10-01T18:04:56.283Z"
   },
   {
    "duration": 207,
    "start_time": "2023-10-01T18:05:07.760Z"
   },
   {
    "duration": 239,
    "start_time": "2023-10-01T18:05:23.599Z"
   },
   {
    "duration": 53,
    "start_time": "2023-10-01T18:05:43.171Z"
   },
   {
    "duration": 276,
    "start_time": "2023-10-01T18:06:26.554Z"
   },
   {
    "duration": 235,
    "start_time": "2023-10-01T18:06:29.376Z"
   },
   {
    "duration": 1256,
    "start_time": "2023-10-01T18:07:08.630Z"
   },
   {
    "duration": 160,
    "start_time": "2023-10-01T18:07:18.467Z"
   },
   {
    "duration": 1386,
    "start_time": "2023-10-01T18:07:22.536Z"
   },
   {
    "duration": 1235,
    "start_time": "2023-10-01T18:07:56.699Z"
   },
   {
    "duration": 35,
    "start_time": "2023-10-01T18:08:04.802Z"
   },
   {
    "duration": 1599,
    "start_time": "2023-10-01T18:08:45.409Z"
   },
   {
    "duration": 28,
    "start_time": "2023-10-01T18:08:53.933Z"
   },
   {
    "duration": 1873,
    "start_time": "2023-10-01T18:08:57.584Z"
   },
   {
    "duration": 741,
    "start_time": "2023-10-01T18:09:02.359Z"
   },
   {
    "duration": 35,
    "start_time": "2023-10-01T18:15:35.460Z"
   },
   {
    "duration": 57,
    "start_time": "2023-10-01T18:16:09.936Z"
   },
   {
    "duration": 11,
    "start_time": "2023-10-01T18:19:44.666Z"
   },
   {
    "duration": 13,
    "start_time": "2023-10-01T18:19:48.504Z"
   },
   {
    "duration": 22,
    "start_time": "2023-10-01T18:19:51.240Z"
   },
   {
    "duration": 16,
    "start_time": "2023-10-01T18:19:53.759Z"
   },
   {
    "duration": 11,
    "start_time": "2023-10-01T18:19:55.716Z"
   },
   {
    "duration": 12,
    "start_time": "2023-10-01T18:19:57.854Z"
   },
   {
    "duration": 13,
    "start_time": "2023-10-01T18:20:03.260Z"
   },
   {
    "duration": 18,
    "start_time": "2023-10-01T18:20:05.712Z"
   },
   {
    "duration": 15,
    "start_time": "2023-10-01T18:20:09.740Z"
   },
   {
    "duration": 29,
    "start_time": "2023-10-01T18:20:12.036Z"
   },
   {
    "duration": 14,
    "start_time": "2023-10-01T18:21:16.944Z"
   },
   {
    "duration": 16,
    "start_time": "2023-10-01T18:21:32.530Z"
   },
   {
    "duration": 11,
    "start_time": "2023-10-01T18:21:50.690Z"
   },
   {
    "duration": 3,
    "start_time": "2023-10-01T18:22:17.162Z"
   },
   {
    "duration": 26,
    "start_time": "2023-10-01T18:22:21.605Z"
   },
   {
    "duration": 11,
    "start_time": "2023-10-01T18:22:44.433Z"
   },
   {
    "duration": 15,
    "start_time": "2023-10-01T18:22:53.938Z"
   },
   {
    "duration": 9,
    "start_time": "2023-10-01T18:22:56.971Z"
   },
   {
    "duration": 12,
    "start_time": "2023-10-01T18:23:21.023Z"
   },
   {
    "duration": 13,
    "start_time": "2023-10-01T18:23:59.999Z"
   },
   {
    "duration": 12,
    "start_time": "2023-10-01T18:24:08.699Z"
   },
   {
    "duration": 36,
    "start_time": "2023-10-01T18:24:14.336Z"
   },
   {
    "duration": 677,
    "start_time": "2023-10-01T18:24:38.784Z"
   },
   {
    "duration": 34,
    "start_time": "2023-10-01T18:24:48.958Z"
   },
   {
    "duration": 35,
    "start_time": "2023-10-01T18:26:35.694Z"
   },
   {
    "duration": 269,
    "start_time": "2023-10-01T18:26:52.137Z"
   },
   {
    "duration": 286,
    "start_time": "2023-10-01T18:27:04.520Z"
   },
   {
    "duration": 231,
    "start_time": "2023-10-01T18:27:08.296Z"
   },
   {
    "duration": 218,
    "start_time": "2023-10-01T18:27:15.765Z"
   },
   {
    "duration": 187,
    "start_time": "2023-10-01T18:27:30.033Z"
   },
   {
    "duration": 24,
    "start_time": "2023-10-01T18:33:21.075Z"
   },
   {
    "duration": 6,
    "start_time": "2023-10-01T18:33:49.521Z"
   },
   {
    "duration": 7,
    "start_time": "2023-10-01T18:33:55.617Z"
   },
   {
    "duration": 14,
    "start_time": "2023-10-01T18:34:06.987Z"
   },
   {
    "duration": 9,
    "start_time": "2023-10-01T18:34:09.953Z"
   },
   {
    "duration": 8,
    "start_time": "2023-10-01T18:34:16.036Z"
   },
   {
    "duration": 25,
    "start_time": "2023-10-01T18:35:42.354Z"
   },
   {
    "duration": 20,
    "start_time": "2023-10-01T18:35:51.163Z"
   },
   {
    "duration": 5,
    "start_time": "2023-10-01T18:36:34.062Z"
   },
   {
    "duration": 1946,
    "start_time": "2023-10-01T18:38:33.935Z"
   },
   {
    "duration": 7,
    "start_time": "2023-10-01T18:38:51.628Z"
   },
   {
    "duration": 7,
    "start_time": "2023-10-01T18:38:57.168Z"
   },
   {
    "duration": 1181,
    "start_time": "2023-10-01T18:39:07.400Z"
   },
   {
    "duration": 77,
    "start_time": "2023-10-01T18:39:08.583Z"
   },
   {
    "duration": 15,
    "start_time": "2023-10-01T18:39:08.662Z"
   },
   {
    "duration": 32,
    "start_time": "2023-10-01T18:39:08.679Z"
   },
   {
    "duration": 39,
    "start_time": "2023-10-01T18:39:08.713Z"
   },
   {
    "duration": 17,
    "start_time": "2023-10-01T18:39:08.759Z"
   },
   {
    "duration": 19,
    "start_time": "2023-10-01T18:39:08.778Z"
   },
   {
    "duration": 4,
    "start_time": "2023-10-01T18:39:08.799Z"
   },
   {
    "duration": 8,
    "start_time": "2023-10-01T18:39:08.805Z"
   },
   {
    "duration": 246,
    "start_time": "2023-10-01T18:39:08.816Z"
   },
   {
    "duration": 21,
    "start_time": "2023-10-01T18:39:09.064Z"
   },
   {
    "duration": 45,
    "start_time": "2023-10-01T18:39:09.087Z"
   },
   {
    "duration": 49,
    "start_time": "2023-10-01T18:39:09.134Z"
   },
   {
    "duration": 26,
    "start_time": "2023-10-01T18:39:09.185Z"
   },
   {
    "duration": 11,
    "start_time": "2023-10-01T18:39:09.213Z"
   },
   {
    "duration": 6,
    "start_time": "2023-10-01T18:39:09.225Z"
   },
   {
    "duration": 220,
    "start_time": "2023-10-01T18:39:09.233Z"
   },
   {
    "duration": 8,
    "start_time": "2023-10-01T18:39:09.459Z"
   },
   {
    "duration": 117,
    "start_time": "2023-10-01T18:39:09.469Z"
   },
   {
    "duration": 17,
    "start_time": "2023-10-01T18:39:09.588Z"
   },
   {
    "duration": 284,
    "start_time": "2023-10-01T18:39:09.607Z"
   },
   {
    "duration": 295,
    "start_time": "2023-10-01T18:39:09.893Z"
   },
   {
    "duration": 198,
    "start_time": "2023-10-01T18:39:10.189Z"
   },
   {
    "duration": 9,
    "start_time": "2023-10-01T18:39:10.389Z"
   },
   {
    "duration": 136,
    "start_time": "2023-10-01T18:39:10.400Z"
   },
   {
    "duration": 27,
    "start_time": "2023-10-01T18:39:10.537Z"
   },
   {
    "duration": 217,
    "start_time": "2023-10-01T18:39:10.566Z"
   },
   {
    "duration": 80,
    "start_time": "2023-10-01T18:39:10.786Z"
   },
   {
    "duration": 57,
    "start_time": "2023-10-01T18:39:10.868Z"
   },
   {
    "duration": 230,
    "start_time": "2023-10-01T18:39:10.927Z"
   },
   {
    "duration": 8,
    "start_time": "2023-10-01T18:39:11.159Z"
   },
   {
    "duration": 26,
    "start_time": "2023-10-01T18:39:11.168Z"
   },
   {
    "duration": 34,
    "start_time": "2023-10-01T18:39:35.897Z"
   },
   {
    "duration": 49,
    "start_time": "2023-10-01T18:39:53.780Z"
   },
   {
    "duration": 41,
    "start_time": "2023-10-01T18:40:07.097Z"
   },
   {
    "duration": 7,
    "start_time": "2023-10-01T18:40:19.644Z"
   },
   {
    "duration": 3,
    "start_time": "2023-10-01T18:41:11.662Z"
   },
   {
    "duration": 31,
    "start_time": "2023-10-01T18:41:14.378Z"
   },
   {
    "duration": 23,
    "start_time": "2023-10-01T18:41:27.586Z"
   },
   {
    "duration": 21,
    "start_time": "2023-10-01T18:41:31.310Z"
   },
   {
    "duration": 9,
    "start_time": "2023-10-01T18:41:51.950Z"
   },
   {
    "duration": 9,
    "start_time": "2023-10-01T18:42:14.171Z"
   },
   {
    "duration": 8,
    "start_time": "2023-10-01T18:42:25.043Z"
   },
   {
    "duration": 23,
    "start_time": "2023-10-01T18:43:16.876Z"
   },
   {
    "duration": 7,
    "start_time": "2023-10-01T18:43:32.519Z"
   },
   {
    "duration": 200,
    "start_time": "2023-10-01T18:43:42.938Z"
   },
   {
    "duration": 131,
    "start_time": "2023-10-01T19:08:31.962Z"
   },
   {
    "duration": 161,
    "start_time": "2023-10-01T19:09:18.657Z"
   },
   {
    "duration": 160,
    "start_time": "2023-10-01T19:09:32.453Z"
   },
   {
    "duration": 244,
    "start_time": "2023-10-01T19:09:44.626Z"
   },
   {
    "duration": 6,
    "start_time": "2023-10-01T19:10:01.004Z"
   },
   {
    "duration": 7,
    "start_time": "2023-10-01T19:10:10.859Z"
   },
   {
    "duration": 5,
    "start_time": "2023-10-01T19:10:55.023Z"
   },
   {
    "duration": 7,
    "start_time": "2023-10-01T19:10:59.133Z"
   },
   {
    "duration": 139,
    "start_time": "2023-10-01T19:11:04.823Z"
   },
   {
    "duration": 165,
    "start_time": "2023-10-01T19:11:10.279Z"
   },
   {
    "duration": 247,
    "start_time": "2023-10-01T19:11:33.208Z"
   },
   {
    "duration": 157,
    "start_time": "2023-10-01T19:11:36.723Z"
   },
   {
    "duration": 169,
    "start_time": "2023-10-01T19:11:41.457Z"
   },
   {
    "duration": 179,
    "start_time": "2023-10-01T19:11:44.099Z"
   },
   {
    "duration": 149,
    "start_time": "2023-10-01T19:13:19.540Z"
   },
   {
    "duration": 147,
    "start_time": "2023-10-01T19:13:29.193Z"
   },
   {
    "duration": 159,
    "start_time": "2023-10-01T19:13:45.069Z"
   },
   {
    "duration": 656,
    "start_time": "2023-10-01T19:17:25.526Z"
   },
   {
    "duration": 527,
    "start_time": "2023-10-01T19:17:31.044Z"
   },
   {
    "duration": 5,
    "start_time": "2023-10-01T19:27:58.746Z"
   },
   {
    "duration": 5,
    "start_time": "2023-10-01T19:27:59.865Z"
   },
   {
    "duration": 12,
    "start_time": "2023-10-01T19:28:06.238Z"
   },
   {
    "duration": 8,
    "start_time": "2023-10-01T19:33:55.434Z"
   },
   {
    "duration": 21,
    "start_time": "2023-10-01T19:35:05.122Z"
   },
   {
    "duration": 24,
    "start_time": "2023-10-01T19:36:00.821Z"
   },
   {
    "duration": 22,
    "start_time": "2023-10-01T19:36:05.607Z"
   },
   {
    "duration": 90,
    "start_time": "2023-10-01T19:36:26.153Z"
   },
   {
    "duration": 25,
    "start_time": "2023-10-01T19:36:28.860Z"
   },
   {
    "duration": 23,
    "start_time": "2023-10-01T19:36:39.140Z"
   },
   {
    "duration": 3,
    "start_time": "2023-10-01T19:39:31.951Z"
   },
   {
    "duration": 13,
    "start_time": "2023-10-01T19:39:35.238Z"
   },
   {
    "duration": 13,
    "start_time": "2023-10-01T19:39:39.473Z"
   },
   {
    "duration": 203,
    "start_time": "2023-10-01T19:39:56.968Z"
   },
   {
    "duration": 163,
    "start_time": "2023-10-01T19:40:02.482Z"
   },
   {
    "duration": 184,
    "start_time": "2023-10-01T19:40:12.844Z"
   },
   {
    "duration": 181,
    "start_time": "2023-10-01T19:40:17.633Z"
   },
   {
    "duration": 185,
    "start_time": "2023-10-01T19:41:07.707Z"
   },
   {
    "duration": 187,
    "start_time": "2023-10-01T19:41:11.794Z"
   },
   {
    "duration": 239,
    "start_time": "2023-10-01T19:45:15.819Z"
   },
   {
    "duration": 258,
    "start_time": "2023-10-01T19:45:38.508Z"
   },
   {
    "duration": 259,
    "start_time": "2023-10-01T19:45:47.273Z"
   },
   {
    "duration": 259,
    "start_time": "2023-10-01T19:45:55.602Z"
   },
   {
    "duration": 22,
    "start_time": "2023-10-01T21:00:03.193Z"
   },
   {
    "duration": 5,
    "start_time": "2023-10-01T21:01:18.386Z"
   },
   {
    "duration": 6,
    "start_time": "2023-10-01T21:02:01.546Z"
   },
   {
    "duration": 1394,
    "start_time": "2023-10-01T21:04:22.493Z"
   },
   {
    "duration": 98,
    "start_time": "2023-10-01T21:04:39.099Z"
   },
   {
    "duration": 160,
    "start_time": "2023-10-01T21:04:44.700Z"
   },
   {
    "duration": 14,
    "start_time": "2023-10-01T21:05:33.538Z"
   },
   {
    "duration": 12,
    "start_time": "2023-10-01T21:05:35.329Z"
   },
   {
    "duration": 13,
    "start_time": "2023-10-01T21:05:52.127Z"
   },
   {
    "duration": 12,
    "start_time": "2023-10-01T21:06:14.150Z"
   },
   {
    "duration": 13,
    "start_time": "2023-10-01T21:06:17.037Z"
   },
   {
    "duration": 4,
    "start_time": "2023-10-01T21:06:32.993Z"
   },
   {
    "duration": 196,
    "start_time": "2023-10-01T21:07:01.973Z"
   },
   {
    "duration": 13,
    "start_time": "2023-10-01T21:07:14.072Z"
   },
   {
    "duration": 327,
    "start_time": "2023-10-01T21:07:26.772Z"
   },
   {
    "duration": 88,
    "start_time": "2023-10-01T21:08:02.503Z"
   },
   {
    "duration": 12,
    "start_time": "2023-10-01T21:08:30.919Z"
   },
   {
    "duration": 266,
    "start_time": "2023-10-01T21:08:38.770Z"
   },
   {
    "duration": 13,
    "start_time": "2023-10-01T21:08:58.972Z"
   },
   {
    "duration": 314,
    "start_time": "2023-10-01T21:09:14.631Z"
   },
   {
    "duration": 223,
    "start_time": "2023-10-01T21:10:07.045Z"
   },
   {
    "duration": 4,
    "start_time": "2023-10-01T21:10:11.212Z"
   },
   {
    "duration": 3,
    "start_time": "2023-10-01T21:10:36.051Z"
   },
   {
    "duration": 334,
    "start_time": "2023-10-01T21:11:13.253Z"
   },
   {
    "duration": 417,
    "start_time": "2023-10-01T21:11:24.080Z"
   },
   {
    "duration": 404,
    "start_time": "2023-10-01T21:11:31.289Z"
   },
   {
    "duration": 118,
    "start_time": "2023-10-01T21:12:14.675Z"
   },
   {
    "duration": 294,
    "start_time": "2023-10-01T21:12:55.529Z"
   },
   {
    "duration": 271,
    "start_time": "2023-10-01T21:13:15.934Z"
   },
   {
    "duration": 210,
    "start_time": "2023-10-01T21:14:17.755Z"
   },
   {
    "duration": 86,
    "start_time": "2023-10-01T21:14:55.570Z"
   },
   {
    "duration": 2416,
    "start_time": "2023-10-01T21:15:12.175Z"
   },
   {
    "duration": 2010,
    "start_time": "2023-10-01T21:15:17.095Z"
   },
   {
    "duration": 88,
    "start_time": "2023-10-01T21:15:36.056Z"
   },
   {
    "duration": 2214,
    "start_time": "2023-10-01T21:16:24.421Z"
   },
   {
    "duration": 118,
    "start_time": "2023-10-01T21:17:04.708Z"
   },
   {
    "duration": 2211,
    "start_time": "2023-10-01T21:17:11.934Z"
   },
   {
    "duration": 2431,
    "start_time": "2023-10-01T21:17:19.205Z"
   },
   {
    "duration": 2017,
    "start_time": "2023-10-01T21:17:47.454Z"
   },
   {
    "duration": 1047,
    "start_time": "2023-10-01T21:18:19.664Z"
   },
   {
    "duration": 22,
    "start_time": "2023-10-01T21:18:30.884Z"
   },
   {
    "duration": 2560,
    "start_time": "2023-10-01T21:18:51.333Z"
   },
   {
    "duration": 182,
    "start_time": "2023-10-01T21:20:16.487Z"
   },
   {
    "duration": 92,
    "start_time": "2023-10-01T21:20:25.605Z"
   },
   {
    "duration": 290,
    "start_time": "2023-10-01T21:20:45.816Z"
   },
   {
    "duration": 85,
    "start_time": "2023-10-01T21:20:51.705Z"
   },
   {
    "duration": 89,
    "start_time": "2023-10-01T21:21:04.149Z"
   },
   {
    "duration": 93,
    "start_time": "2023-10-01T21:21:10.367Z"
   },
   {
    "duration": 90,
    "start_time": "2023-10-01T21:23:52.074Z"
   },
   {
    "duration": 2554,
    "start_time": "2023-10-01T21:25:10.428Z"
   },
   {
    "duration": 106,
    "start_time": "2023-10-01T21:26:31.275Z"
   },
   {
    "duration": 100,
    "start_time": "2023-10-01T21:26:49.899Z"
   },
   {
    "duration": 99,
    "start_time": "2023-10-01T21:27:33.317Z"
   },
   {
    "duration": 10,
    "start_time": "2023-10-01T21:27:37.482Z"
   },
   {
    "duration": 1584,
    "start_time": "2023-10-01T21:28:05.113Z"
   },
   {
    "duration": 85,
    "start_time": "2023-10-01T21:28:57.104Z"
   },
   {
    "duration": 116,
    "start_time": "2023-10-01T21:29:52.140Z"
   },
   {
    "duration": 110,
    "start_time": "2023-10-01T21:30:12.586Z"
   },
   {
    "duration": 12,
    "start_time": "2023-10-01T21:30:17.617Z"
   },
   {
    "duration": 84,
    "start_time": "2023-10-01T21:30:51.699Z"
   },
   {
    "duration": 87,
    "start_time": "2023-10-01T21:31:22.332Z"
   },
   {
    "duration": 184,
    "start_time": "2023-10-01T21:31:40.184Z"
   },
   {
    "duration": 92,
    "start_time": "2023-10-01T21:31:46.714Z"
   },
   {
    "duration": 117,
    "start_time": "2023-10-01T21:31:52.188Z"
   },
   {
    "duration": 211,
    "start_time": "2023-10-01T21:33:04.888Z"
   },
   {
    "duration": 1315,
    "start_time": "2023-10-01T21:33:31.885Z"
   },
   {
    "duration": 1087,
    "start_time": "2023-10-01T21:33:48.583Z"
   },
   {
    "duration": 2728,
    "start_time": "2023-10-01T21:34:32.279Z"
   },
   {
    "duration": 1063,
    "start_time": "2023-10-01T21:34:43.106Z"
   },
   {
    "duration": 1244,
    "start_time": "2023-10-01T21:34:53.194Z"
   },
   {
    "duration": 2125,
    "start_time": "2023-10-01T21:35:04.492Z"
   },
   {
    "duration": 1040,
    "start_time": "2023-10-01T21:36:17.015Z"
   },
   {
    "duration": 885,
    "start_time": "2023-10-01T21:36:22.484Z"
   },
   {
    "duration": 1236,
    "start_time": "2023-10-01T21:36:27.632Z"
   },
   {
    "duration": 1060,
    "start_time": "2023-10-01T21:36:33.913Z"
   },
   {
    "duration": 82,
    "start_time": "2023-10-01T21:37:03.495Z"
   },
   {
    "duration": 1120,
    "start_time": "2023-10-01T21:37:11.041Z"
   },
   {
    "duration": 1291,
    "start_time": "2023-10-01T21:37:16.580Z"
   },
   {
    "duration": 1078,
    "start_time": "2023-10-01T21:39:59.515Z"
   },
   {
    "duration": 1270,
    "start_time": "2023-10-01T21:40:03.252Z"
   },
   {
    "duration": 109,
    "start_time": "2023-10-01T21:40:30.484Z"
   },
   {
    "duration": 309,
    "start_time": "2023-10-01T21:40:33.187Z"
   },
   {
    "duration": 992,
    "start_time": "2023-10-01T21:40:48.600Z"
   },
   {
    "duration": 92,
    "start_time": "2023-10-01T21:41:48.199Z"
   },
   {
    "duration": 87,
    "start_time": "2023-10-01T21:42:04.884Z"
   },
   {
    "duration": 86,
    "start_time": "2023-10-01T21:42:13.539Z"
   },
   {
    "duration": 81,
    "start_time": "2023-10-01T21:42:17.335Z"
   },
   {
    "duration": 10,
    "start_time": "2023-10-01T21:42:29.328Z"
   },
   {
    "duration": 10,
    "start_time": "2023-10-01T21:42:47.986Z"
   },
   {
    "duration": 262,
    "start_time": "2023-10-01T21:43:40.483Z"
   },
   {
    "duration": 5,
    "start_time": "2023-10-01T21:43:54.780Z"
   },
   {
    "duration": 6,
    "start_time": "2023-10-01T21:43:59.480Z"
   },
   {
    "duration": 345,
    "start_time": "2023-10-01T21:45:32.022Z"
   },
   {
    "duration": 445,
    "start_time": "2023-10-01T21:45:42.382Z"
   },
   {
    "duration": 242,
    "start_time": "2023-10-01T21:45:45.410Z"
   },
   {
    "duration": 243,
    "start_time": "2023-10-01T21:46:31.660Z"
   },
   {
    "duration": 255,
    "start_time": "2023-10-01T21:46:34.004Z"
   },
   {
    "duration": 272,
    "start_time": "2023-10-01T21:46:41.684Z"
   },
   {
    "duration": 252,
    "start_time": "2023-10-01T21:46:45.595Z"
   },
   {
    "duration": 48,
    "start_time": "2023-10-02T09:45:02.758Z"
   },
   {
    "duration": 1385,
    "start_time": "2023-10-02T09:45:09.567Z"
   },
   {
    "duration": 115,
    "start_time": "2023-10-02T09:45:10.954Z"
   },
   {
    "duration": 16,
    "start_time": "2023-10-02T09:45:11.071Z"
   },
   {
    "duration": 30,
    "start_time": "2023-10-02T09:45:11.089Z"
   },
   {
    "duration": 14,
    "start_time": "2023-10-02T09:45:11.121Z"
   },
   {
    "duration": 26,
    "start_time": "2023-10-02T09:45:11.137Z"
   },
   {
    "duration": 26,
    "start_time": "2023-10-02T09:45:11.165Z"
   },
   {
    "duration": 6,
    "start_time": "2023-10-02T09:45:11.192Z"
   },
   {
    "duration": 29,
    "start_time": "2023-10-02T09:45:11.199Z"
   },
   {
    "duration": 256,
    "start_time": "2023-10-02T09:45:11.231Z"
   },
   {
    "duration": 36,
    "start_time": "2023-10-02T09:45:11.489Z"
   },
   {
    "duration": 17,
    "start_time": "2023-10-02T09:45:11.528Z"
   },
   {
    "duration": 12,
    "start_time": "2023-10-02T09:45:11.546Z"
   },
   {
    "duration": 22,
    "start_time": "2023-10-02T09:45:11.559Z"
   },
   {
    "duration": 14,
    "start_time": "2023-10-02T09:45:11.583Z"
   },
   {
    "duration": 6,
    "start_time": "2023-10-02T09:45:11.599Z"
   },
   {
    "duration": 208,
    "start_time": "2023-10-02T09:45:11.608Z"
   },
   {
    "duration": 11,
    "start_time": "2023-10-02T09:45:11.818Z"
   },
   {
    "duration": 115,
    "start_time": "2023-10-02T09:45:11.830Z"
   },
   {
    "duration": 16,
    "start_time": "2023-10-02T09:45:11.946Z"
   },
   {
    "duration": 305,
    "start_time": "2023-10-02T09:45:11.963Z"
   },
   {
    "duration": 273,
    "start_time": "2023-10-02T09:45:12.271Z"
   },
   {
    "duration": 188,
    "start_time": "2023-10-02T09:45:12.546Z"
   },
   {
    "duration": 8,
    "start_time": "2023-10-02T09:45:12.736Z"
   },
   {
    "duration": 196,
    "start_time": "2023-10-02T09:45:12.745Z"
   },
   {
    "duration": 27,
    "start_time": "2023-10-02T09:45:12.942Z"
   },
   {
    "duration": 205,
    "start_time": "2023-10-02T09:45:12.971Z"
   },
   {
    "duration": 47,
    "start_time": "2023-10-02T09:45:13.179Z"
   },
   {
    "duration": 35,
    "start_time": "2023-10-02T09:45:13.227Z"
   },
   {
    "duration": 204,
    "start_time": "2023-10-02T09:45:13.263Z"
   },
   {
    "duration": 165,
    "start_time": "2023-10-02T09:45:13.469Z"
   },
   {
    "duration": 12,
    "start_time": "2023-10-02T09:45:13.635Z"
   },
   {
    "duration": 73,
    "start_time": "2023-10-02T09:45:13.648Z"
   },
   {
    "duration": 241,
    "start_time": "2023-10-02T09:45:13.723Z"
   },
   {
    "duration": 275,
    "start_time": "2023-10-02T09:45:13.965Z"
   },
   {
    "duration": 235,
    "start_time": "2023-10-02T09:45:14.242Z"
   },
   {
    "duration": 266,
    "start_time": "2023-10-02T09:45:30.944Z"
   },
   {
    "duration": 285,
    "start_time": "2023-10-02T09:45:39.011Z"
   },
   {
    "duration": 247,
    "start_time": "2023-10-02T09:47:42.749Z"
   },
   {
    "duration": 296,
    "start_time": "2023-10-02T09:47:46.319Z"
   },
   {
    "duration": 310,
    "start_time": "2023-10-02T09:55:59.266Z"
   },
   {
    "duration": 129,
    "start_time": "2023-10-02T10:28:18.225Z"
   },
   {
    "duration": 144,
    "start_time": "2023-10-02T10:55:41.531Z"
   },
   {
    "duration": 151,
    "start_time": "2023-10-02T10:56:07.900Z"
   },
   {
    "duration": 164,
    "start_time": "2023-10-02T10:57:17.482Z"
   },
   {
    "duration": 127,
    "start_time": "2023-10-02T10:57:33.694Z"
   },
   {
    "duration": 51,
    "start_time": "2023-10-02T14:06:01.280Z"
   },
   {
    "duration": 1422,
    "start_time": "2023-10-02T14:06:08.865Z"
   },
   {
    "duration": 202,
    "start_time": "2023-10-02T14:06:10.289Z"
   },
   {
    "duration": 16,
    "start_time": "2023-10-02T14:06:10.493Z"
   },
   {
    "duration": 16,
    "start_time": "2023-10-02T14:06:10.510Z"
   },
   {
    "duration": 29,
    "start_time": "2023-10-02T14:06:10.527Z"
   },
   {
    "duration": 37,
    "start_time": "2023-10-02T14:06:10.558Z"
   },
   {
    "duration": 25,
    "start_time": "2023-10-02T14:06:10.597Z"
   },
   {
    "duration": 8,
    "start_time": "2023-10-02T14:06:10.624Z"
   },
   {
    "duration": 16,
    "start_time": "2023-10-02T14:06:10.633Z"
   },
   {
    "duration": 220,
    "start_time": "2023-10-02T14:06:10.652Z"
   },
   {
    "duration": 20,
    "start_time": "2023-10-02T14:06:10.874Z"
   },
   {
    "duration": 16,
    "start_time": "2023-10-02T14:06:10.896Z"
   },
   {
    "duration": 16,
    "start_time": "2023-10-02T14:06:10.914Z"
   },
   {
    "duration": 21,
    "start_time": "2023-10-02T14:06:10.932Z"
   },
   {
    "duration": 11,
    "start_time": "2023-10-02T14:06:10.955Z"
   },
   {
    "duration": 5,
    "start_time": "2023-10-02T14:06:10.968Z"
   },
   {
    "duration": 225,
    "start_time": "2023-10-02T14:06:10.975Z"
   },
   {
    "duration": 10,
    "start_time": "2023-10-02T14:06:11.202Z"
   },
   {
    "duration": 100,
    "start_time": "2023-10-02T14:06:11.214Z"
   },
   {
    "duration": 15,
    "start_time": "2023-10-02T14:06:11.317Z"
   },
   {
    "duration": 294,
    "start_time": "2023-10-02T14:06:11.345Z"
   },
   {
    "duration": 306,
    "start_time": "2023-10-02T14:06:11.644Z"
   },
   {
    "duration": 214,
    "start_time": "2023-10-02T14:06:11.952Z"
   },
   {
    "duration": 12,
    "start_time": "2023-10-02T14:06:12.168Z"
   },
   {
    "duration": 142,
    "start_time": "2023-10-02T14:06:12.182Z"
   },
   {
    "duration": 21,
    "start_time": "2023-10-02T14:06:12.326Z"
   },
   {
    "duration": 297,
    "start_time": "2023-10-02T14:06:12.349Z"
   },
   {
    "duration": 37,
    "start_time": "2023-10-02T14:06:12.649Z"
   },
   {
    "duration": 36,
    "start_time": "2023-10-02T14:06:12.688Z"
   },
   {
    "duration": 247,
    "start_time": "2023-10-02T14:06:12.726Z"
   },
   {
    "duration": 187,
    "start_time": "2023-10-02T14:06:12.975Z"
   },
   {
    "duration": 13,
    "start_time": "2023-10-02T14:06:13.164Z"
   },
   {
    "duration": 27,
    "start_time": "2023-10-02T14:06:13.178Z"
   },
   {
    "duration": 228,
    "start_time": "2023-10-02T14:06:13.206Z"
   },
   {
    "duration": 312,
    "start_time": "2023-10-02T14:06:13.436Z"
   },
   {
    "duration": 342,
    "start_time": "2023-10-02T14:06:13.750Z"
   },
   {
    "duration": 227,
    "start_time": "2023-10-02T14:06:14.094Z"
   },
   {
    "duration": 141,
    "start_time": "2023-10-02T14:08:23.107Z"
   },
   {
    "duration": 145,
    "start_time": "2023-10-02T14:08:28.912Z"
   },
   {
    "duration": 216,
    "start_time": "2023-10-02T14:08:37.334Z"
   },
   {
    "duration": 94,
    "start_time": "2023-10-02T14:10:15.393Z"
   },
   {
    "duration": 1542,
    "start_time": "2023-10-02T14:10:25.878Z"
   },
   {
    "duration": 131,
    "start_time": "2023-10-02T14:11:27.378Z"
   },
   {
    "duration": 144,
    "start_time": "2023-10-02T14:12:37.116Z"
   },
   {
    "duration": 160,
    "start_time": "2023-10-02T14:13:39.984Z"
   },
   {
    "duration": 157,
    "start_time": "2023-10-02T14:15:27.626Z"
   },
   {
    "duration": 72,
    "start_time": "2023-10-02T14:17:04.592Z"
   },
   {
    "duration": 4,
    "start_time": "2023-10-02T14:17:08.917Z"
   },
   {
    "duration": 254,
    "start_time": "2023-10-02T14:17:57.526Z"
   },
   {
    "duration": 140,
    "start_time": "2023-10-02T14:18:18.058Z"
   },
   {
    "duration": 162,
    "start_time": "2023-10-02T14:18:46.985Z"
   },
   {
    "duration": 262,
    "start_time": "2023-10-02T14:22:57.101Z"
   },
   {
    "duration": 1439,
    "start_time": "2023-10-02T14:23:16.945Z"
   },
   {
    "duration": 1596,
    "start_time": "2023-10-02T14:23:29.599Z"
   },
   {
    "duration": 1439,
    "start_time": "2023-10-02T14:23:49.865Z"
   },
   {
    "duration": 1897,
    "start_time": "2023-10-02T14:24:02.889Z"
   },
   {
    "duration": 85,
    "start_time": "2023-10-02T14:24:53.908Z"
   },
   {
    "duration": 1734,
    "start_time": "2023-10-02T14:25:00.310Z"
   },
   {
    "duration": 1806,
    "start_time": "2023-10-02T14:25:05.671Z"
   },
   {
    "duration": 1697,
    "start_time": "2023-10-02T14:25:31.041Z"
   },
   {
    "duration": 181,
    "start_time": "2023-10-02T14:26:55.001Z"
   },
   {
    "duration": 168,
    "start_time": "2023-10-02T14:27:54.822Z"
   },
   {
    "duration": 1782,
    "start_time": "2023-10-02T14:29:36.364Z"
   },
   {
    "duration": 1657,
    "start_time": "2023-10-02T14:29:57.076Z"
   },
   {
    "duration": 48,
    "start_time": "2023-10-02T19:10:38.332Z"
   },
   {
    "duration": 1435,
    "start_time": "2023-10-02T19:10:43.739Z"
   },
   {
    "duration": 113,
    "start_time": "2023-10-02T19:10:45.176Z"
   },
   {
    "duration": 16,
    "start_time": "2023-10-02T19:10:45.291Z"
   },
   {
    "duration": 20,
    "start_time": "2023-10-02T19:10:45.309Z"
   },
   {
    "duration": 29,
    "start_time": "2023-10-02T19:10:45.332Z"
   },
   {
    "duration": 25,
    "start_time": "2023-10-02T19:10:45.363Z"
   },
   {
    "duration": 20,
    "start_time": "2023-10-02T19:10:45.391Z"
   },
   {
    "duration": 7,
    "start_time": "2023-10-02T19:10:45.414Z"
   },
   {
    "duration": 20,
    "start_time": "2023-10-02T19:10:45.423Z"
   },
   {
    "duration": 244,
    "start_time": "2023-10-02T19:10:45.444Z"
   },
   {
    "duration": 19,
    "start_time": "2023-10-02T19:10:45.690Z"
   },
   {
    "duration": 13,
    "start_time": "2023-10-02T19:10:45.711Z"
   },
   {
    "duration": 25,
    "start_time": "2023-10-02T19:10:45.725Z"
   },
   {
    "duration": 38,
    "start_time": "2023-10-02T19:10:45.754Z"
   },
   {
    "duration": 25,
    "start_time": "2023-10-02T19:10:45.794Z"
   },
   {
    "duration": 31,
    "start_time": "2023-10-02T19:10:45.821Z"
   },
   {
    "duration": 204,
    "start_time": "2023-10-02T19:10:45.854Z"
   },
   {
    "duration": 7,
    "start_time": "2023-10-02T19:10:46.060Z"
   },
   {
    "duration": 103,
    "start_time": "2023-10-02T19:10:46.069Z"
   },
   {
    "duration": 15,
    "start_time": "2023-10-02T19:10:46.174Z"
   },
   {
    "duration": 274,
    "start_time": "2023-10-02T19:10:46.191Z"
   },
   {
    "duration": 261,
    "start_time": "2023-10-02T19:10:46.467Z"
   },
   {
    "duration": 194,
    "start_time": "2023-10-02T19:10:46.729Z"
   },
   {
    "duration": 9,
    "start_time": "2023-10-02T19:10:46.925Z"
   },
   {
    "duration": 157,
    "start_time": "2023-10-02T19:10:46.936Z"
   },
   {
    "duration": 16,
    "start_time": "2023-10-02T19:10:47.095Z"
   },
   {
    "duration": 227,
    "start_time": "2023-10-02T19:10:47.113Z"
   },
   {
    "duration": 35,
    "start_time": "2023-10-02T19:10:47.343Z"
   },
   {
    "duration": 36,
    "start_time": "2023-10-02T19:10:47.379Z"
   },
   {
    "duration": 206,
    "start_time": "2023-10-02T19:10:47.416Z"
   },
   {
    "duration": 175,
    "start_time": "2023-10-02T19:10:47.624Z"
   },
   {
    "duration": 12,
    "start_time": "2023-10-02T19:10:47.801Z"
   },
   {
    "duration": 39,
    "start_time": "2023-10-02T19:10:47.814Z"
   },
   {
    "duration": 192,
    "start_time": "2023-10-02T19:10:47.855Z"
   },
   {
    "duration": 306,
    "start_time": "2023-10-02T19:10:48.050Z"
   },
   {
    "duration": 300,
    "start_time": "2023-10-02T19:10:48.358Z"
   },
   {
    "duration": 170,
    "start_time": "2023-10-02T19:10:48.660Z"
   },
   {
    "duration": 174,
    "start_time": "2023-10-02T19:10:48.832Z"
   },
   {
    "duration": 2448,
    "start_time": "2023-10-02T19:10:49.008Z"
   },
   {
    "duration": 332,
    "start_time": "2023-10-02T19:10:51.458Z"
   },
   {
    "duration": 1692,
    "start_time": "2023-10-02T19:11:35.918Z"
   },
   {
    "duration": 37,
    "start_time": "2023-10-02T19:30:24.670Z"
   },
   {
    "duration": 21,
    "start_time": "2023-10-02T19:31:11.500Z"
   },
   {
    "duration": 108,
    "start_time": "2023-10-02T19:33:18.215Z"
   },
   {
    "duration": 30,
    "start_time": "2023-10-02T19:33:22.469Z"
   },
   {
    "duration": 28,
    "start_time": "2023-10-02T19:34:36.149Z"
   },
   {
    "duration": 30,
    "start_time": "2023-10-02T19:35:11.814Z"
   },
   {
    "duration": 9,
    "start_time": "2023-10-02T19:40:33.961Z"
   },
   {
    "duration": 1750,
    "start_time": "2023-10-02T19:40:40.110Z"
   },
   {
    "duration": 10,
    "start_time": "2023-10-02T19:40:46.126Z"
   },
   {
    "duration": 11,
    "start_time": "2023-10-02T19:41:55.745Z"
   },
   {
    "duration": 26,
    "start_time": "2023-10-02T19:42:01.058Z"
   },
   {
    "duration": 71,
    "start_time": "2023-10-02T19:42:10.819Z"
   },
   {
    "duration": 10,
    "start_time": "2023-10-02T19:42:13.573Z"
   },
   {
    "duration": 13,
    "start_time": "2023-10-02T19:48:56.894Z"
   },
   {
    "duration": 86,
    "start_time": "2023-10-02T19:50:28.150Z"
   },
   {
    "duration": 73,
    "start_time": "2023-10-02T19:50:35.393Z"
   },
   {
    "duration": 76,
    "start_time": "2023-10-02T19:50:43.241Z"
   },
   {
    "duration": 80,
    "start_time": "2023-10-02T19:50:48.343Z"
   },
   {
    "duration": 81,
    "start_time": "2023-10-02T19:50:53.041Z"
   },
   {
    "duration": 83,
    "start_time": "2023-10-02T19:50:57.881Z"
   },
   {
    "duration": 83,
    "start_time": "2023-10-02T19:51:07.411Z"
   },
   {
    "duration": 11,
    "start_time": "2023-10-02T19:51:15.060Z"
   },
   {
    "duration": 15,
    "start_time": "2023-10-02T19:51:19.399Z"
   },
   {
    "duration": 20,
    "start_time": "2023-10-02T19:51:52.934Z"
   },
   {
    "duration": 15,
    "start_time": "2023-10-02T19:52:08.960Z"
   },
   {
    "duration": 22,
    "start_time": "2023-10-02T20:00:45.742Z"
   },
   {
    "duration": 17,
    "start_time": "2023-10-02T20:01:06.882Z"
   },
   {
    "duration": 5,
    "start_time": "2023-10-02T20:01:19.904Z"
   },
   {
    "duration": 24,
    "start_time": "2023-10-02T20:01:26.093Z"
   },
   {
    "duration": 1318,
    "start_time": "2023-10-02T20:02:44.112Z"
   },
   {
    "duration": 1282,
    "start_time": "2023-10-02T20:02:52.461Z"
   },
   {
    "duration": 74,
    "start_time": "2023-10-02T20:03:07.509Z"
   },
   {
    "duration": 72,
    "start_time": "2023-10-02T20:03:10.620Z"
   },
   {
    "duration": 71,
    "start_time": "2023-10-02T20:03:16.747Z"
   },
   {
    "duration": 22,
    "start_time": "2023-10-02T20:03:44.816Z"
   },
   {
    "duration": 87,
    "start_time": "2023-10-02T20:04:04.060Z"
   },
   {
    "duration": 13,
    "start_time": "2023-10-02T20:04:21.806Z"
   },
   {
    "duration": 4,
    "start_time": "2023-10-02T20:04:47.212Z"
   },
   {
    "duration": 26,
    "start_time": "2023-10-02T20:04:52.874Z"
   },
   {
    "duration": 22,
    "start_time": "2023-10-02T20:05:08.975Z"
   },
   {
    "duration": 17,
    "start_time": "2023-10-02T20:05:34.399Z"
   },
   {
    "duration": 15,
    "start_time": "2023-10-02T20:06:43.055Z"
   },
   {
    "duration": 13,
    "start_time": "2023-10-02T20:07:14.295Z"
   },
   {
    "duration": 15,
    "start_time": "2023-10-02T20:07:22.680Z"
   },
   {
    "duration": 15,
    "start_time": "2023-10-02T20:07:48.647Z"
   },
   {
    "duration": 78,
    "start_time": "2023-10-02T20:08:22.675Z"
   },
   {
    "duration": 10,
    "start_time": "2023-10-02T20:08:29.174Z"
   },
   {
    "duration": 15,
    "start_time": "2023-10-02T20:08:32.857Z"
   },
   {
    "duration": 10,
    "start_time": "2023-10-02T20:09:26.837Z"
   },
   {
    "duration": 16,
    "start_time": "2023-10-02T20:09:36.062Z"
   },
   {
    "duration": 17,
    "start_time": "2023-10-02T20:10:01.151Z"
   },
   {
    "duration": 16,
    "start_time": "2023-10-02T20:10:17.798Z"
   },
   {
    "duration": 8,
    "start_time": "2023-10-02T20:10:46.202Z"
   },
   {
    "duration": 16,
    "start_time": "2023-10-02T20:11:56.659Z"
   },
   {
    "duration": 17,
    "start_time": "2023-10-02T20:12:05.178Z"
   },
   {
    "duration": 165,
    "start_time": "2023-10-02T20:15:02.438Z"
   },
   {
    "duration": 25,
    "start_time": "2023-10-02T20:15:45.185Z"
   },
   {
    "duration": 278,
    "start_time": "2023-10-02T20:16:18.677Z"
   },
   {
    "duration": 325,
    "start_time": "2023-10-02T20:16:25.298Z"
   },
   {
    "duration": 14,
    "start_time": "2023-10-02T20:18:31.149Z"
   },
   {
    "duration": 14,
    "start_time": "2023-10-02T20:18:39.865Z"
   },
   {
    "duration": 16,
    "start_time": "2023-10-02T20:21:16.635Z"
   },
   {
    "duration": 15,
    "start_time": "2023-10-02T20:21:53.465Z"
   },
   {
    "duration": 15,
    "start_time": "2023-10-02T20:24:46.181Z"
   },
   {
    "duration": 18,
    "start_time": "2023-10-02T20:25:18.266Z"
   },
   {
    "duration": 15,
    "start_time": "2023-10-02T20:25:37.222Z"
   },
   {
    "duration": 17,
    "start_time": "2023-10-02T20:26:21.619Z"
   },
   {
    "duration": 17,
    "start_time": "2023-10-02T20:35:56.538Z"
   },
   {
    "duration": 16,
    "start_time": "2023-10-02T20:36:06.852Z"
   },
   {
    "duration": 18,
    "start_time": "2023-10-02T20:40:11.016Z"
   },
   {
    "duration": 18,
    "start_time": "2023-10-02T20:44:05.030Z"
   },
   {
    "duration": 12,
    "start_time": "2023-10-02T20:44:22.747Z"
   },
   {
    "duration": 18,
    "start_time": "2023-10-02T20:44:58.093Z"
   },
   {
    "duration": 12,
    "start_time": "2023-10-02T20:45:23.993Z"
   },
   {
    "duration": 13,
    "start_time": "2023-10-02T20:45:42.380Z"
   },
   {
    "duration": 24,
    "start_time": "2023-10-02T20:47:17.476Z"
   },
   {
    "duration": 18,
    "start_time": "2023-10-02T20:53:27.528Z"
   },
   {
    "duration": 120,
    "start_time": "2023-10-02T20:54:20.181Z"
   },
   {
    "duration": 12,
    "start_time": "2023-10-02T20:54:38.148Z"
   },
   {
    "duration": 141,
    "start_time": "2023-10-02T20:55:17.711Z"
   },
   {
    "duration": 135,
    "start_time": "2023-10-02T20:58:35.184Z"
   },
   {
    "duration": 132,
    "start_time": "2023-10-02T20:58:39.881Z"
   },
   {
    "duration": 21,
    "start_time": "2023-10-02T20:59:03.059Z"
   },
   {
    "duration": 215,
    "start_time": "2023-10-02T21:00:18.356Z"
   },
   {
    "duration": 230,
    "start_time": "2023-10-02T21:01:22.066Z"
   },
   {
    "duration": 343,
    "start_time": "2023-10-02T21:01:35.868Z"
   },
   {
    "duration": 235,
    "start_time": "2023-10-02T21:02:16.590Z"
   },
   {
    "duration": 225,
    "start_time": "2023-10-02T21:02:27.359Z"
   },
   {
    "duration": 239,
    "start_time": "2023-10-02T21:02:32.628Z"
   },
   {
    "duration": 253,
    "start_time": "2023-10-02T21:02:58.260Z"
   },
   {
    "duration": 10,
    "start_time": "2023-10-02T21:03:19.802Z"
   },
   {
    "duration": 5,
    "start_time": "2023-10-02T21:03:23.960Z"
   },
   {
    "duration": 9,
    "start_time": "2023-10-02T21:03:28.971Z"
   },
   {
    "duration": 225,
    "start_time": "2023-10-02T21:03:45.395Z"
   },
   {
    "duration": 246,
    "start_time": "2023-10-02T21:03:56.542Z"
   },
   {
    "duration": 14,
    "start_time": "2023-10-02T21:04:12.935Z"
   },
   {
    "duration": 1361,
    "start_time": "2023-10-03T06:22:40.990Z"
   },
   {
    "duration": 128,
    "start_time": "2023-10-03T06:22:42.353Z"
   },
   {
    "duration": 323,
    "start_time": "2023-10-03T06:22:42.483Z"
   },
   {
    "duration": 662,
    "start_time": "2023-10-03T06:22:42.808Z"
   },
   {
    "duration": 327,
    "start_time": "2023-10-03T06:22:43.472Z"
   },
   {
    "duration": 39,
    "start_time": "2023-10-03T06:22:43.800Z"
   },
   {
    "duration": 32,
    "start_time": "2023-10-03T06:22:43.840Z"
   },
   {
    "duration": 14,
    "start_time": "2023-10-03T06:22:43.874Z"
   },
   {
    "duration": 40,
    "start_time": "2023-10-03T06:22:43.890Z"
   },
   {
    "duration": 225,
    "start_time": "2023-10-03T06:22:43.933Z"
   },
   {
    "duration": 21,
    "start_time": "2023-10-03T06:22:44.160Z"
   },
   {
    "duration": 19,
    "start_time": "2023-10-03T06:22:44.183Z"
   },
   {
    "duration": 17,
    "start_time": "2023-10-03T06:22:44.203Z"
   },
   {
    "duration": 44,
    "start_time": "2023-10-03T06:22:44.222Z"
   },
   {
    "duration": 21,
    "start_time": "2023-10-03T06:22:44.269Z"
   },
   {
    "duration": 9,
    "start_time": "2023-10-03T06:22:44.292Z"
   },
   {
    "duration": 207,
    "start_time": "2023-10-03T06:22:44.302Z"
   },
   {
    "duration": 7,
    "start_time": "2023-10-03T06:22:44.511Z"
   },
   {
    "duration": 138,
    "start_time": "2023-10-03T06:22:44.520Z"
   },
   {
    "duration": 18,
    "start_time": "2023-10-03T06:22:44.660Z"
   },
   {
    "duration": 299,
    "start_time": "2023-10-03T06:22:44.681Z"
   },
   {
    "duration": 283,
    "start_time": "2023-10-03T06:22:44.982Z"
   },
   {
    "duration": 195,
    "start_time": "2023-10-03T06:22:45.267Z"
   },
   {
    "duration": 8,
    "start_time": "2023-10-03T06:22:45.464Z"
   },
   {
    "duration": 144,
    "start_time": "2023-10-03T06:22:45.474Z"
   },
   {
    "duration": 47,
    "start_time": "2023-10-03T06:22:45.620Z"
   },
   {
    "duration": 228,
    "start_time": "2023-10-03T06:22:45.669Z"
   },
   {
    "duration": 38,
    "start_time": "2023-10-03T06:22:45.904Z"
   },
   {
    "duration": 37,
    "start_time": "2023-10-03T06:22:45.944Z"
   },
   {
    "duration": 219,
    "start_time": "2023-10-03T06:22:46.003Z"
   },
   {
    "duration": 179,
    "start_time": "2023-10-03T06:22:46.224Z"
   },
   {
    "duration": 14,
    "start_time": "2023-10-03T06:22:46.406Z"
   },
   {
    "duration": 25,
    "start_time": "2023-10-03T06:22:46.422Z"
   },
   {
    "duration": 214,
    "start_time": "2023-10-03T06:22:46.450Z"
   },
   {
    "duration": 297,
    "start_time": "2023-10-03T06:22:46.667Z"
   },
   {
    "duration": 316,
    "start_time": "2023-10-03T06:22:46.966Z"
   },
   {
    "duration": 181,
    "start_time": "2023-10-03T06:22:47.285Z"
   },
   {
    "duration": 191,
    "start_time": "2023-10-03T06:22:47.467Z"
   },
   {
    "duration": 43,
    "start_time": "2023-10-03T06:22:47.660Z"
   },
   {
    "duration": 14,
    "start_time": "2023-10-03T06:22:47.705Z"
   },
   {
    "duration": 52,
    "start_time": "2023-10-03T06:22:47.721Z"
   },
   {
    "duration": 19,
    "start_time": "2023-10-03T06:22:47.775Z"
   },
   {
    "duration": 22,
    "start_time": "2023-10-03T06:22:47.796Z"
   },
   {
    "duration": 245,
    "start_time": "2023-10-03T06:22:47.820Z"
   },
   {
    "duration": 15,
    "start_time": "2023-10-03T06:22:48.066Z"
   },
   {
    "duration": 37,
    "start_time": "2023-10-03T06:22:48.083Z"
   },
   {
    "duration": 36,
    "start_time": "2023-10-03T06:22:48.122Z"
   },
   {
    "duration": 348,
    "start_time": "2023-10-03T06:22:48.159Z"
   },
   {
    "duration": 14,
    "start_time": "2023-10-03T06:22:48.509Z"
   },
   {
    "duration": 34,
    "start_time": "2023-10-03T06:22:48.525Z"
   },
   {
    "duration": 22,
    "start_time": "2023-10-03T06:22:48.564Z"
   },
   {
    "duration": 251,
    "start_time": "2023-10-03T06:22:48.588Z"
   },
   {
    "duration": 8,
    "start_time": "2023-10-03T06:22:48.841Z"
   },
   {
    "duration": 14,
    "start_time": "2023-10-03T06:30:30.799Z"
   },
   {
    "duration": 14,
    "start_time": "2023-10-03T06:30:47.820Z"
   },
   {
    "duration": 120,
    "start_time": "2023-10-03T06:30:58.228Z"
   },
   {
    "duration": 14,
    "start_time": "2023-10-03T06:31:00.858Z"
   },
   {
    "duration": 14,
    "start_time": "2023-10-03T06:31:39.784Z"
   },
   {
    "duration": 11,
    "start_time": "2023-10-03T06:32:25.387Z"
   },
   {
    "duration": 19,
    "start_time": "2023-10-03T06:32:32.254Z"
   },
   {
    "duration": 135,
    "start_time": "2023-10-03T06:32:51.908Z"
   },
   {
    "duration": 18,
    "start_time": "2023-10-03T06:32:56.628Z"
   },
   {
    "duration": 17,
    "start_time": "2023-10-03T08:07:39.723Z"
   },
   {
    "duration": 67,
    "start_time": "2023-10-03T13:38:04.203Z"
   },
   {
    "duration": 1529,
    "start_time": "2023-10-03T13:38:23.252Z"
   },
   {
    "duration": 166,
    "start_time": "2023-10-03T13:38:24.784Z"
   },
   {
    "duration": 17,
    "start_time": "2023-10-03T13:38:24.952Z"
   },
   {
    "duration": 15,
    "start_time": "2023-10-03T13:38:24.972Z"
   },
   {
    "duration": 37,
    "start_time": "2023-10-03T13:38:24.988Z"
   },
   {
    "duration": 20,
    "start_time": "2023-10-03T13:38:25.027Z"
   },
   {
    "duration": 29,
    "start_time": "2023-10-03T13:38:25.050Z"
   },
   {
    "duration": 24,
    "start_time": "2023-10-03T13:38:25.081Z"
   },
   {
    "duration": 28,
    "start_time": "2023-10-03T13:38:25.108Z"
   },
   {
    "duration": 290,
    "start_time": "2023-10-03T13:38:25.140Z"
   },
   {
    "duration": 28,
    "start_time": "2023-10-03T13:38:25.433Z"
   },
   {
    "duration": 9,
    "start_time": "2023-10-03T13:38:25.463Z"
   },
   {
    "duration": 40,
    "start_time": "2023-10-03T13:38:25.474Z"
   },
   {
    "duration": 35,
    "start_time": "2023-10-03T13:38:25.516Z"
   },
   {
    "duration": 32,
    "start_time": "2023-10-03T13:38:25.554Z"
   },
   {
    "duration": 32,
    "start_time": "2023-10-03T13:38:25.587Z"
   },
   {
    "duration": 258,
    "start_time": "2023-10-03T13:38:25.624Z"
   },
   {
    "duration": 8,
    "start_time": "2023-10-03T13:38:25.884Z"
   },
   {
    "duration": 119,
    "start_time": "2023-10-03T13:38:25.908Z"
   },
   {
    "duration": 16,
    "start_time": "2023-10-03T13:38:26.029Z"
   },
   {
    "duration": 309,
    "start_time": "2023-10-03T13:38:26.047Z"
   },
   {
    "duration": 321,
    "start_time": "2023-10-03T13:38:26.357Z"
   },
   {
    "duration": 222,
    "start_time": "2023-10-03T13:38:26.681Z"
   },
   {
    "duration": 14,
    "start_time": "2023-10-03T13:38:26.906Z"
   },
   {
    "duration": 138,
    "start_time": "2023-10-03T13:38:26.927Z"
   },
   {
    "duration": 17,
    "start_time": "2023-10-03T13:38:27.067Z"
   },
   {
    "duration": 252,
    "start_time": "2023-10-03T13:38:27.087Z"
   },
   {
    "duration": 40,
    "start_time": "2023-10-03T13:38:27.343Z"
   },
   {
    "duration": 60,
    "start_time": "2023-10-03T13:38:27.384Z"
   },
   {
    "duration": 233,
    "start_time": "2023-10-03T13:38:27.446Z"
   },
   {
    "duration": 188,
    "start_time": "2023-10-03T13:38:27.681Z"
   },
   {
    "duration": 17,
    "start_time": "2023-10-03T13:38:27.871Z"
   },
   {
    "duration": 58,
    "start_time": "2023-10-03T13:38:27.890Z"
   },
   {
    "duration": 218,
    "start_time": "2023-10-03T13:38:27.950Z"
   },
   {
    "duration": 325,
    "start_time": "2023-10-03T13:38:28.170Z"
   },
   {
    "duration": 369,
    "start_time": "2023-10-03T13:38:28.497Z"
   },
   {
    "duration": 211,
    "start_time": "2023-10-03T13:38:28.867Z"
   },
   {
    "duration": 206,
    "start_time": "2023-10-03T13:38:29.079Z"
   },
   {
    "duration": 49,
    "start_time": "2023-10-03T13:38:29.287Z"
   },
   {
    "duration": 15,
    "start_time": "2023-10-03T13:38:29.338Z"
   },
   {
    "duration": 100,
    "start_time": "2023-10-03T13:38:29.355Z"
   },
   {
    "duration": 141,
    "start_time": "2023-10-03T13:38:29.457Z"
   },
   {
    "duration": 71,
    "start_time": "2023-10-03T13:38:29.600Z"
   },
   {
    "duration": 277,
    "start_time": "2023-10-03T13:38:29.673Z"
   },
   {
    "duration": 17,
    "start_time": "2023-10-03T13:38:29.952Z"
   },
   {
    "duration": 18,
    "start_time": "2023-10-03T13:38:29.971Z"
   },
   {
    "duration": 38,
    "start_time": "2023-10-03T13:38:29.991Z"
   },
   {
    "duration": 108,
    "start_time": "2023-10-03T13:38:30.031Z"
   },
   {
    "duration": 456,
    "start_time": "2023-10-03T13:38:30.141Z"
   },
   {
    "duration": 32,
    "start_time": "2023-10-03T13:38:30.600Z"
   },
   {
    "duration": 86,
    "start_time": "2023-10-03T13:38:30.633Z"
   },
   {
    "duration": 72,
    "start_time": "2023-10-03T13:38:30.721Z"
   },
   {
    "duration": 156,
    "start_time": "2023-10-03T13:38:30.795Z"
   },
   {
    "duration": 425,
    "start_time": "2023-10-03T13:38:30.953Z"
   },
   {
    "duration": 14,
    "start_time": "2023-10-03T13:38:31.380Z"
   },
   {
    "duration": 26,
    "start_time": "2023-10-03T13:39:07.499Z"
   },
   {
    "duration": 20,
    "start_time": "2023-10-03T13:40:28.107Z"
   },
   {
    "duration": 23,
    "start_time": "2023-10-03T13:40:51.793Z"
   },
   {
    "duration": 33,
    "start_time": "2023-10-03T13:40:57.792Z"
   },
   {
    "duration": 23,
    "start_time": "2023-10-03T13:41:19.442Z"
   },
   {
    "duration": 12,
    "start_time": "2023-10-03T13:42:13.362Z"
   },
   {
    "duration": 29,
    "start_time": "2023-10-03T13:42:17.197Z"
   },
   {
    "duration": 19,
    "start_time": "2023-10-03T13:42:28.032Z"
   },
   {
    "duration": 20,
    "start_time": "2023-10-03T13:42:39.483Z"
   },
   {
    "duration": 24,
    "start_time": "2023-10-03T13:43:10.924Z"
   },
   {
    "duration": 29,
    "start_time": "2023-10-03T13:43:46.327Z"
   },
   {
    "duration": 21,
    "start_time": "2023-10-03T13:44:47.964Z"
   },
   {
    "duration": 135,
    "start_time": "2023-10-03T13:45:16.845Z"
   },
   {
    "duration": 24,
    "start_time": "2023-10-03T13:46:02.722Z"
   },
   {
    "duration": 22,
    "start_time": "2023-10-03T13:46:49.174Z"
   },
   {
    "duration": 18,
    "start_time": "2023-10-03T13:47:07.924Z"
   },
   {
    "duration": 28,
    "start_time": "2023-10-03T13:47:59.714Z"
   },
   {
    "duration": 28,
    "start_time": "2023-10-03T13:48:42.934Z"
   },
   {
    "duration": 20,
    "start_time": "2023-10-03T13:49:23.655Z"
   },
   {
    "duration": 26,
    "start_time": "2023-10-03T13:49:39.909Z"
   },
   {
    "duration": 31,
    "start_time": "2023-10-03T13:50:46.744Z"
   },
   {
    "duration": 22,
    "start_time": "2023-10-03T13:51:05.641Z"
   },
   {
    "duration": 20,
    "start_time": "2023-10-03T13:51:51.444Z"
   },
   {
    "duration": 25,
    "start_time": "2023-10-03T13:52:04.645Z"
   },
   {
    "duration": 21,
    "start_time": "2023-10-03T13:52:15.925Z"
   },
   {
    "duration": 18,
    "start_time": "2023-10-03T13:52:26.380Z"
   },
   {
    "duration": 33,
    "start_time": "2023-10-03T13:52:33.505Z"
   },
   {
    "duration": 15,
    "start_time": "2023-10-03T13:52:55.406Z"
   },
   {
    "duration": 17,
    "start_time": "2023-10-03T13:52:59.644Z"
   },
   {
    "duration": 14,
    "start_time": "2023-10-03T13:56:36.275Z"
   },
   {
    "duration": 13,
    "start_time": "2023-10-03T13:57:28.136Z"
   },
   {
    "duration": 5,
    "start_time": "2023-10-03T14:22:39.436Z"
   },
   {
    "duration": 15,
    "start_time": "2023-10-03T14:22:42.728Z"
   },
   {
    "duration": 10,
    "start_time": "2023-10-03T14:22:45.082Z"
   },
   {
    "duration": 9,
    "start_time": "2023-10-03T14:23:57.024Z"
   },
   {
    "duration": 10,
    "start_time": "2023-10-03T14:24:24.545Z"
   },
   {
    "duration": 10,
    "start_time": "2023-10-03T14:24:27.965Z"
   },
   {
    "duration": 14,
    "start_time": "2023-10-03T14:25:39.324Z"
   },
   {
    "duration": 9,
    "start_time": "2023-10-03T14:26:06.236Z"
   },
   {
    "duration": 6,
    "start_time": "2023-10-03T14:26:11.476Z"
   },
   {
    "duration": 9,
    "start_time": "2023-10-03T14:26:39.579Z"
   },
   {
    "duration": 11,
    "start_time": "2023-10-03T14:28:41.424Z"
   },
   {
    "duration": 12,
    "start_time": "2023-10-03T14:29:02.526Z"
   },
   {
    "duration": 7,
    "start_time": "2023-10-03T14:29:58.623Z"
   },
   {
    "duration": 15,
    "start_time": "2023-10-03T14:30:12.386Z"
   },
   {
    "duration": 4,
    "start_time": "2023-10-03T14:30:20.156Z"
   },
   {
    "duration": 6,
    "start_time": "2023-10-03T14:30:34.386Z"
   },
   {
    "duration": 9,
    "start_time": "2023-10-03T14:30:57.856Z"
   },
   {
    "duration": 14,
    "start_time": "2023-10-03T14:31:06.606Z"
   },
   {
    "duration": 12,
    "start_time": "2023-10-03T14:31:43.864Z"
   },
   {
    "duration": 6,
    "start_time": "2023-10-03T14:32:03.977Z"
   },
   {
    "duration": 9,
    "start_time": "2023-10-03T14:34:34.291Z"
   },
   {
    "duration": 7,
    "start_time": "2023-10-03T14:34:54.580Z"
   },
   {
    "duration": 5,
    "start_time": "2023-10-03T14:35:05.025Z"
   },
   {
    "duration": 7,
    "start_time": "2023-10-03T14:35:10.569Z"
   },
   {
    "duration": 97,
    "start_time": "2023-10-03T14:35:41.275Z"
   },
   {
    "duration": 4,
    "start_time": "2023-10-03T14:35:47.026Z"
   },
   {
    "duration": 6,
    "start_time": "2023-10-03T14:35:50.575Z"
   },
   {
    "duration": 13,
    "start_time": "2023-10-03T14:40:43.780Z"
   },
   {
    "duration": 17,
    "start_time": "2023-10-03T14:41:43.181Z"
   },
   {
    "duration": 19,
    "start_time": "2023-10-03T14:42:09.552Z"
   },
   {
    "duration": 29,
    "start_time": "2023-10-03T14:42:14.355Z"
   },
   {
    "duration": 26,
    "start_time": "2023-10-03T14:43:21.824Z"
   },
   {
    "duration": 23,
    "start_time": "2023-10-03T14:44:17.019Z"
   },
   {
    "duration": 24,
    "start_time": "2023-10-03T14:44:46.447Z"
   },
   {
    "duration": 24,
    "start_time": "2023-10-03T14:44:57.046Z"
   },
   {
    "duration": 17,
    "start_time": "2023-10-03T14:45:24.941Z"
   },
   {
    "duration": 27,
    "start_time": "2023-10-03T14:48:50.161Z"
   },
   {
    "duration": 22,
    "start_time": "2023-10-03T14:48:53.417Z"
   },
   {
    "duration": 20,
    "start_time": "2023-10-03T14:49:07.056Z"
   },
   {
    "duration": 13,
    "start_time": "2023-10-03T14:50:46.308Z"
   },
   {
    "duration": 14,
    "start_time": "2023-10-03T14:50:49.507Z"
   },
   {
    "duration": 14,
    "start_time": "2023-10-03T14:51:08.125Z"
   },
   {
    "duration": 10,
    "start_time": "2023-10-03T14:51:17.884Z"
   },
   {
    "duration": 11,
    "start_time": "2023-10-03T14:51:24.626Z"
   },
   {
    "duration": 5,
    "start_time": "2023-10-03T14:51:35.727Z"
   },
   {
    "duration": 6,
    "start_time": "2023-10-03T14:51:39.628Z"
   },
   {
    "duration": 6,
    "start_time": "2023-10-03T14:52:11.236Z"
   },
   {
    "duration": 13,
    "start_time": "2023-10-03T14:52:22.539Z"
   },
   {
    "duration": 10,
    "start_time": "2023-10-03T14:52:26.476Z"
   },
   {
    "duration": 9,
    "start_time": "2023-10-03T14:52:31.188Z"
   },
   {
    "duration": 9,
    "start_time": "2023-10-03T14:53:27.252Z"
   },
   {
    "duration": 11,
    "start_time": "2023-10-03T14:54:31.426Z"
   },
   {
    "duration": 4,
    "start_time": "2023-10-03T14:55:06.276Z"
   },
   {
    "duration": 5,
    "start_time": "2023-10-03T14:55:14.221Z"
   },
   {
    "duration": 9,
    "start_time": "2023-10-03T14:56:15.556Z"
   },
   {
    "duration": 4,
    "start_time": "2023-10-03T14:56:18.724Z"
   },
   {
    "duration": 20,
    "start_time": "2023-10-03T14:56:44.899Z"
   },
   {
    "duration": 4,
    "start_time": "2023-10-03T14:56:51.623Z"
   },
   {
    "duration": 20,
    "start_time": "2023-10-03T14:57:18.083Z"
   },
   {
    "duration": 32,
    "start_time": "2023-10-03T14:57:55.691Z"
   },
   {
    "duration": 26,
    "start_time": "2023-10-03T14:58:26.178Z"
   },
   {
    "duration": 22,
    "start_time": "2023-10-03T14:58:41.221Z"
   },
   {
    "duration": 4,
    "start_time": "2023-10-03T14:59:03.499Z"
   },
   {
    "duration": 10,
    "start_time": "2023-10-03T14:59:07.266Z"
   },
   {
    "duration": 5,
    "start_time": "2023-10-03T14:59:13.155Z"
   },
   {
    "duration": 5,
    "start_time": "2023-10-03T14:59:38.868Z"
   },
   {
    "duration": 16,
    "start_time": "2023-10-03T14:59:47.906Z"
   },
   {
    "duration": 2105,
    "start_time": "2023-10-03T15:00:35.467Z"
   },
   {
    "duration": 1826,
    "start_time": "2023-10-03T15:00:43.571Z"
   },
   {
    "duration": 1563,
    "start_time": "2023-10-03T15:02:17.331Z"
   },
   {
    "duration": 19,
    "start_time": "2023-10-03T15:02:40.109Z"
   },
   {
    "duration": 94,
    "start_time": "2023-10-03T15:03:29.147Z"
   },
   {
    "duration": 16,
    "start_time": "2023-10-03T15:03:32.266Z"
   },
   {
    "duration": 8,
    "start_time": "2023-10-03T15:03:42.290Z"
   },
   {
    "duration": 27,
    "start_time": "2023-10-03T15:05:05.346Z"
   },
   {
    "duration": 27,
    "start_time": "2023-10-03T15:05:26.602Z"
   },
   {
    "duration": 9,
    "start_time": "2023-10-03T15:05:42.747Z"
   },
   {
    "duration": 7,
    "start_time": "2023-10-03T15:05:57.186Z"
   },
   {
    "duration": 6,
    "start_time": "2023-10-03T15:06:06.282Z"
   },
   {
    "duration": 16,
    "start_time": "2023-10-03T15:06:30.891Z"
   },
   {
    "duration": 25,
    "start_time": "2023-10-03T15:06:48.370Z"
   },
   {
    "duration": 24,
    "start_time": "2023-10-03T15:06:57.548Z"
   },
   {
    "duration": 6,
    "start_time": "2023-10-03T15:07:26.802Z"
   },
   {
    "duration": 6,
    "start_time": "2023-10-03T15:07:33.633Z"
   },
   {
    "duration": 22,
    "start_time": "2023-10-03T15:07:41.010Z"
   },
   {
    "duration": 19,
    "start_time": "2023-10-03T15:07:52.331Z"
   },
   {
    "duration": 33,
    "start_time": "2023-10-03T15:08:42.439Z"
   },
   {
    "duration": 6,
    "start_time": "2023-10-03T15:08:53.202Z"
   },
   {
    "duration": 1387,
    "start_time": "2023-10-03T15:09:07.964Z"
   },
   {
    "duration": 132,
    "start_time": "2023-10-03T15:09:09.353Z"
   },
   {
    "duration": 16,
    "start_time": "2023-10-03T15:09:09.487Z"
   },
   {
    "duration": 23,
    "start_time": "2023-10-03T15:09:09.505Z"
   },
   {
    "duration": 40,
    "start_time": "2023-10-03T15:09:09.530Z"
   },
   {
    "duration": 32,
    "start_time": "2023-10-03T15:09:09.573Z"
   },
   {
    "duration": 25,
    "start_time": "2023-10-03T15:09:09.607Z"
   },
   {
    "duration": 6,
    "start_time": "2023-10-03T15:09:09.634Z"
   },
   {
    "duration": 17,
    "start_time": "2023-10-03T15:09:09.642Z"
   },
   {
    "duration": 276,
    "start_time": "2023-10-03T15:09:09.661Z"
   },
   {
    "duration": 25,
    "start_time": "2023-10-03T15:09:09.939Z"
   },
   {
    "duration": 8,
    "start_time": "2023-10-03T15:09:09.965Z"
   },
   {
    "duration": 48,
    "start_time": "2023-10-03T15:09:09.975Z"
   },
   {
    "duration": 26,
    "start_time": "2023-10-03T15:09:10.030Z"
   },
   {
    "duration": 14,
    "start_time": "2023-10-03T15:09:10.058Z"
   },
   {
    "duration": 31,
    "start_time": "2023-10-03T15:09:10.074Z"
   },
   {
    "duration": 270,
    "start_time": "2023-10-03T15:09:10.107Z"
   },
   {
    "duration": 8,
    "start_time": "2023-10-03T15:09:10.380Z"
   },
   {
    "duration": 126,
    "start_time": "2023-10-03T15:09:10.390Z"
   },
   {
    "duration": 27,
    "start_time": "2023-10-03T15:09:10.521Z"
   },
   {
    "duration": 347,
    "start_time": "2023-10-03T15:09:10.549Z"
   },
   {
    "duration": 325,
    "start_time": "2023-10-03T15:09:10.898Z"
   },
   {
    "duration": 201,
    "start_time": "2023-10-03T15:09:11.231Z"
   },
   {
    "duration": 9,
    "start_time": "2023-10-03T15:09:11.434Z"
   },
   {
    "duration": 156,
    "start_time": "2023-10-03T15:09:11.445Z"
   },
   {
    "duration": 40,
    "start_time": "2023-10-03T15:09:11.602Z"
   },
   {
    "duration": 258,
    "start_time": "2023-10-03T15:09:11.645Z"
   },
   {
    "duration": 62,
    "start_time": "2023-10-03T15:09:11.909Z"
   },
   {
    "duration": 72,
    "start_time": "2023-10-03T15:09:11.973Z"
   },
   {
    "duration": 250,
    "start_time": "2023-10-03T15:09:12.047Z"
   },
   {
    "duration": 216,
    "start_time": "2023-10-03T15:09:12.299Z"
   },
   {
    "duration": 22,
    "start_time": "2023-10-03T15:09:12.516Z"
   },
   {
    "duration": 48,
    "start_time": "2023-10-03T15:09:12.541Z"
   },
   {
    "duration": 273,
    "start_time": "2023-10-03T15:09:12.592Z"
   },
   {
    "duration": 371,
    "start_time": "2023-10-03T15:09:12.868Z"
   },
   {
    "duration": 398,
    "start_time": "2023-10-03T15:09:13.241Z"
   },
   {
    "duration": 220,
    "start_time": "2023-10-03T15:09:13.641Z"
   },
   {
    "duration": 212,
    "start_time": "2023-10-03T15:09:13.863Z"
   },
   {
    "duration": 59,
    "start_time": "2023-10-03T15:09:14.077Z"
   },
   {
    "duration": 17,
    "start_time": "2023-10-03T15:09:14.138Z"
   },
   {
    "duration": 124,
    "start_time": "2023-10-03T15:09:14.159Z"
   },
   {
    "duration": 35,
    "start_time": "2023-10-03T15:09:14.285Z"
   },
   {
    "duration": 32,
    "start_time": "2023-10-03T15:09:14.322Z"
   },
   {
    "duration": 408,
    "start_time": "2023-10-03T15:09:14.357Z"
   },
   {
    "duration": 20,
    "start_time": "2023-10-03T15:09:14.767Z"
   },
   {
    "duration": 46,
    "start_time": "2023-10-03T15:09:14.790Z"
   },
   {
    "duration": 47,
    "start_time": "2023-10-03T15:09:14.838Z"
   },
   {
    "duration": 47,
    "start_time": "2023-10-03T15:09:14.887Z"
   },
   {
    "duration": 386,
    "start_time": "2023-10-03T15:09:14.937Z"
   },
   {
    "duration": 28,
    "start_time": "2023-10-03T15:09:15.325Z"
   },
   {
    "duration": 29,
    "start_time": "2023-10-03T15:09:15.356Z"
   },
   {
    "duration": 47,
    "start_time": "2023-10-03T15:09:15.389Z"
   },
   {
    "duration": 46,
    "start_time": "2023-10-03T15:09:15.441Z"
   },
   {
    "duration": 304,
    "start_time": "2023-10-03T15:09:15.490Z"
   },
   {
    "duration": 30,
    "start_time": "2023-10-03T15:09:15.796Z"
   },
   {
    "duration": 21,
    "start_time": "2023-10-03T15:09:15.831Z"
   },
   {
    "duration": 162,
    "start_time": "2023-10-03T15:09:15.854Z"
   },
   {
    "duration": 124,
    "start_time": "2023-10-03T15:09:16.020Z"
   },
   {
    "duration": 34,
    "start_time": "2023-10-03T15:09:51.698Z"
   },
   {
    "duration": 4,
    "start_time": "2023-10-03T15:10:41.925Z"
   },
   {
    "duration": 12,
    "start_time": "2023-10-03T15:10:46.746Z"
   },
   {
    "duration": 119,
    "start_time": "2023-10-03T15:11:04.772Z"
   },
   {
    "duration": 5,
    "start_time": "2023-10-03T15:12:57.539Z"
   },
   {
    "duration": 5,
    "start_time": "2023-10-03T15:13:04.571Z"
   },
   {
    "duration": 13,
    "start_time": "2023-10-03T15:13:06.626Z"
   },
   {
    "duration": 37,
    "start_time": "2023-10-03T15:14:51.795Z"
   },
   {
    "duration": 1879,
    "start_time": "2023-10-03T15:15:46.629Z"
   },
   {
    "duration": 5,
    "start_time": "2023-10-03T15:15:59.643Z"
   },
   {
    "duration": 12,
    "start_time": "2023-10-03T15:16:15.332Z"
   },
   {
    "duration": 16,
    "start_time": "2023-10-03T15:16:25.482Z"
   },
   {
    "duration": 19,
    "start_time": "2023-10-03T15:16:33.853Z"
   },
   {
    "duration": 16,
    "start_time": "2023-10-03T15:16:38.033Z"
   },
   {
    "duration": 15,
    "start_time": "2023-10-03T15:16:50.626Z"
   },
   {
    "duration": 16,
    "start_time": "2023-10-03T15:16:54.091Z"
   },
   {
    "duration": 16,
    "start_time": "2023-10-03T15:17:58.850Z"
   },
   {
    "duration": 16,
    "start_time": "2023-10-03T15:18:05.332Z"
   },
   {
    "duration": 27,
    "start_time": "2023-10-03T15:18:22.071Z"
   },
   {
    "duration": 16,
    "start_time": "2023-10-03T15:18:55.628Z"
   },
   {
    "duration": 15,
    "start_time": "2023-10-03T15:19:20.676Z"
   },
   {
    "duration": 1260,
    "start_time": "2023-10-03T15:19:30.442Z"
   },
   {
    "duration": 79,
    "start_time": "2023-10-03T15:19:31.704Z"
   },
   {
    "duration": 15,
    "start_time": "2023-10-03T15:19:31.784Z"
   },
   {
    "duration": 38,
    "start_time": "2023-10-03T15:19:31.801Z"
   },
   {
    "duration": 49,
    "start_time": "2023-10-03T15:19:31.842Z"
   },
   {
    "duration": 41,
    "start_time": "2023-10-03T15:19:31.892Z"
   },
   {
    "duration": 50,
    "start_time": "2023-10-03T15:19:31.935Z"
   },
   {
    "duration": 53,
    "start_time": "2023-10-03T15:19:31.987Z"
   },
   {
    "duration": 37,
    "start_time": "2023-10-03T15:19:32.043Z"
   },
   {
    "duration": 277,
    "start_time": "2023-10-03T15:19:32.082Z"
   },
   {
    "duration": 24,
    "start_time": "2023-10-03T15:19:32.361Z"
   },
   {
    "duration": 36,
    "start_time": "2023-10-03T15:19:32.387Z"
   },
   {
    "duration": 22,
    "start_time": "2023-10-03T15:19:32.425Z"
   },
   {
    "duration": 24,
    "start_time": "2023-10-03T15:19:32.451Z"
   },
   {
    "duration": 13,
    "start_time": "2023-10-03T15:19:32.477Z"
   },
   {
    "duration": 31,
    "start_time": "2023-10-03T15:19:32.492Z"
   },
   {
    "duration": 266,
    "start_time": "2023-10-03T15:19:32.524Z"
   },
   {
    "duration": 7,
    "start_time": "2023-10-03T15:19:32.792Z"
   },
   {
    "duration": 117,
    "start_time": "2023-10-03T15:19:32.800Z"
   },
   {
    "duration": 18,
    "start_time": "2023-10-03T15:19:32.919Z"
   },
   {
    "duration": 310,
    "start_time": "2023-10-03T15:19:32.939Z"
   },
   {
    "duration": 310,
    "start_time": "2023-10-03T15:19:33.250Z"
   },
   {
    "duration": 202,
    "start_time": "2023-10-03T15:19:33.561Z"
   },
   {
    "duration": 9,
    "start_time": "2023-10-03T15:19:33.765Z"
   },
   {
    "duration": 151,
    "start_time": "2023-10-03T15:19:33.775Z"
   },
   {
    "duration": 18,
    "start_time": "2023-10-03T15:19:33.927Z"
   },
   {
    "duration": 247,
    "start_time": "2023-10-03T15:19:33.947Z"
   },
   {
    "duration": 49,
    "start_time": "2023-10-03T15:19:34.196Z"
   },
   {
    "duration": 38,
    "start_time": "2023-10-03T15:19:34.247Z"
   },
   {
    "duration": 265,
    "start_time": "2023-10-03T15:19:34.287Z"
   },
   {
    "duration": 192,
    "start_time": "2023-10-03T15:19:34.554Z"
   },
   {
    "duration": 14,
    "start_time": "2023-10-03T15:19:34.747Z"
   },
   {
    "duration": 29,
    "start_time": "2023-10-03T15:19:34.762Z"
   },
   {
    "duration": 234,
    "start_time": "2023-10-03T15:19:34.793Z"
   },
   {
    "duration": 421,
    "start_time": "2023-10-03T15:19:35.029Z"
   },
   {
    "duration": 431,
    "start_time": "2023-10-03T15:19:35.452Z"
   },
   {
    "duration": 201,
    "start_time": "2023-10-03T15:19:35.884Z"
   },
   {
    "duration": 210,
    "start_time": "2023-10-03T15:19:36.086Z"
   },
   {
    "duration": 44,
    "start_time": "2023-10-03T15:19:36.297Z"
   },
   {
    "duration": 16,
    "start_time": "2023-10-03T15:19:36.343Z"
   },
   {
    "duration": 37,
    "start_time": "2023-10-03T15:19:36.364Z"
   },
   {
    "duration": 37,
    "start_time": "2023-10-03T15:19:36.403Z"
   },
   {
    "duration": 24,
    "start_time": "2023-10-03T15:19:36.442Z"
   },
   {
    "duration": 277,
    "start_time": "2023-10-03T15:19:36.468Z"
   },
   {
    "duration": 20,
    "start_time": "2023-10-03T15:19:36.747Z"
   },
   {
    "duration": 28,
    "start_time": "2023-10-03T15:19:36.769Z"
   },
   {
    "duration": 26,
    "start_time": "2023-10-03T15:19:36.809Z"
   },
   {
    "duration": 19,
    "start_time": "2023-10-03T15:19:36.837Z"
   },
   {
    "duration": 380,
    "start_time": "2023-10-03T15:19:36.858Z"
   },
   {
    "duration": 18,
    "start_time": "2023-10-03T15:19:37.239Z"
   },
   {
    "duration": 27,
    "start_time": "2023-10-03T15:19:37.258Z"
   },
   {
    "duration": 37,
    "start_time": "2023-10-03T15:19:37.287Z"
   },
   {
    "duration": 17,
    "start_time": "2023-10-03T15:19:37.326Z"
   },
   {
    "duration": 264,
    "start_time": "2023-10-03T15:19:37.345Z"
   },
   {
    "duration": 25,
    "start_time": "2023-10-03T15:19:37.611Z"
   },
   {
    "duration": 25,
    "start_time": "2023-10-03T15:19:37.637Z"
   },
   {
    "duration": 29,
    "start_time": "2023-10-03T15:19:37.664Z"
   },
   {
    "duration": 39,
    "start_time": "2023-10-03T15:21:02.643Z"
   },
   {
    "duration": 30,
    "start_time": "2023-10-03T15:21:10.402Z"
   },
   {
    "duration": 27,
    "start_time": "2023-10-03T15:31:20.269Z"
   },
   {
    "duration": 1631,
    "start_time": "2023-10-03T15:32:37.308Z"
   },
   {
    "duration": 25,
    "start_time": "2023-10-03T15:32:50.428Z"
   },
   {
    "duration": 6,
    "start_time": "2023-10-03T15:34:04.619Z"
   },
   {
    "duration": 19,
    "start_time": "2023-10-03T15:34:37.381Z"
   },
   {
    "duration": 8,
    "start_time": "2023-10-03T15:35:09.239Z"
   },
   {
    "duration": 13,
    "start_time": "2023-10-03T15:35:54.816Z"
   },
   {
    "duration": 10,
    "start_time": "2023-10-03T15:36:24.192Z"
   },
   {
    "duration": 9,
    "start_time": "2023-10-03T15:38:15.207Z"
   },
   {
    "duration": 10,
    "start_time": "2023-10-03T15:41:26.191Z"
   },
   {
    "duration": 292,
    "start_time": "2023-10-03T15:44:13.459Z"
   },
   {
    "duration": 10,
    "start_time": "2023-10-03T15:48:05.836Z"
   },
   {
    "duration": 12,
    "start_time": "2023-10-03T15:48:27.628Z"
   },
   {
    "duration": 9,
    "start_time": "2023-10-03T15:48:47.679Z"
   },
   {
    "duration": 13,
    "start_time": "2023-10-03T15:48:55.796Z"
   },
   {
    "duration": 11,
    "start_time": "2023-10-03T15:49:05.359Z"
   },
   {
    "duration": 10,
    "start_time": "2023-10-03T15:49:36.248Z"
   },
   {
    "duration": 13,
    "start_time": "2023-10-03T15:49:49.636Z"
   },
   {
    "duration": 12,
    "start_time": "2023-10-03T15:50:06.035Z"
   },
   {
    "duration": 6,
    "start_time": "2023-10-03T15:54:31.157Z"
   },
   {
    "duration": 112,
    "start_time": "2023-10-03T15:54:37.467Z"
   },
   {
    "duration": 7,
    "start_time": "2023-10-03T15:54:39.016Z"
   },
   {
    "duration": 5,
    "start_time": "2023-10-03T15:54:43.112Z"
   },
   {
    "duration": 5,
    "start_time": "2023-10-03T15:56:00.841Z"
   },
   {
    "duration": 5,
    "start_time": "2023-10-03T15:56:37.605Z"
   },
   {
    "duration": 5,
    "start_time": "2023-10-03T15:56:56.661Z"
   },
   {
    "duration": 6,
    "start_time": "2023-10-03T15:57:02.710Z"
   },
   {
    "duration": 5,
    "start_time": "2023-10-03T15:57:07.535Z"
   },
   {
    "duration": 5,
    "start_time": "2023-10-03T16:01:26.988Z"
   },
   {
    "duration": 6,
    "start_time": "2023-10-03T16:01:49.253Z"
   },
   {
    "duration": 7,
    "start_time": "2023-10-03T16:02:12.981Z"
   },
   {
    "duration": 7,
    "start_time": "2023-10-03T16:02:17.956Z"
   },
   {
    "duration": 5,
    "start_time": "2023-10-03T16:03:00.093Z"
   },
   {
    "duration": 6,
    "start_time": "2023-10-03T17:05:00.871Z"
   },
   {
    "duration": 222,
    "start_time": "2023-10-03T17:05:03.506Z"
   },
   {
    "duration": 154,
    "start_time": "2023-10-03T17:05:37.782Z"
   },
   {
    "duration": 138,
    "start_time": "2023-10-03T17:06:26.699Z"
   },
   {
    "duration": 144,
    "start_time": "2023-10-03T17:07:00.505Z"
   },
   {
    "duration": 148,
    "start_time": "2023-10-03T17:07:25.407Z"
   },
   {
    "duration": 12,
    "start_time": "2023-10-03T17:09:31.064Z"
   },
   {
    "duration": 23,
    "start_time": "2023-10-03T17:10:06.626Z"
   },
   {
    "duration": 16,
    "start_time": "2023-10-03T17:10:41.224Z"
   },
   {
    "duration": 169,
    "start_time": "2023-10-03T17:11:16.925Z"
   },
   {
    "duration": 16,
    "start_time": "2023-10-03T17:12:16.765Z"
   },
   {
    "duration": 84,
    "start_time": "2023-10-03T17:12:45.766Z"
   },
   {
    "duration": 163,
    "start_time": "2023-10-03T17:12:58.746Z"
   },
   {
    "duration": 20,
    "start_time": "2023-10-03T17:14:22.473Z"
   },
   {
    "duration": 26,
    "start_time": "2023-10-03T17:14:26.429Z"
   },
   {
    "duration": 15,
    "start_time": "2023-10-03T17:14:50.485Z"
   },
   {
    "duration": 38,
    "start_time": "2023-10-03T17:14:53.229Z"
   },
   {
    "duration": 27,
    "start_time": "2023-10-03T17:15:12.739Z"
   },
   {
    "duration": 29,
    "start_time": "2023-10-03T17:17:50.575Z"
   },
   {
    "duration": 370,
    "start_time": "2023-10-03T17:18:04.798Z"
   },
   {
    "duration": 297,
    "start_time": "2023-10-03T17:18:13.403Z"
   },
   {
    "duration": 307,
    "start_time": "2023-10-03T17:18:21.223Z"
   },
   {
    "duration": 291,
    "start_time": "2023-10-03T17:18:27.133Z"
   },
   {
    "duration": 269,
    "start_time": "2023-10-03T17:29:09.968Z"
   },
   {
    "duration": 296,
    "start_time": "2023-10-03T17:30:10.620Z"
   },
   {
    "duration": 314,
    "start_time": "2023-10-03T17:33:31.721Z"
   },
   {
    "duration": 315,
    "start_time": "2023-10-03T17:34:23.328Z"
   },
   {
    "duration": 316,
    "start_time": "2023-10-03T17:35:16.051Z"
   },
   {
    "duration": 31,
    "start_time": "2023-10-03T17:50:43.519Z"
   },
   {
    "duration": 18,
    "start_time": "2023-10-03T17:50:56.292Z"
   },
   {
    "duration": 36,
    "start_time": "2023-10-03T17:52:43.385Z"
   },
   {
    "duration": 24,
    "start_time": "2023-10-03T17:54:14.873Z"
   },
   {
    "duration": 1400,
    "start_time": "2023-10-03T17:54:39.135Z"
   },
   {
    "duration": 88,
    "start_time": "2023-10-03T17:54:40.537Z"
   },
   {
    "duration": 19,
    "start_time": "2023-10-03T17:54:40.629Z"
   },
   {
    "duration": 19,
    "start_time": "2023-10-03T17:54:40.650Z"
   },
   {
    "duration": 45,
    "start_time": "2023-10-03T17:54:40.671Z"
   },
   {
    "duration": 18,
    "start_time": "2023-10-03T17:54:40.722Z"
   },
   {
    "duration": 17,
    "start_time": "2023-10-03T17:54:40.742Z"
   },
   {
    "duration": 5,
    "start_time": "2023-10-03T17:54:40.761Z"
   },
   {
    "duration": 8,
    "start_time": "2023-10-03T17:54:40.768Z"
   },
   {
    "duration": 288,
    "start_time": "2023-10-03T17:54:40.779Z"
   },
   {
    "duration": 25,
    "start_time": "2023-10-03T17:54:41.069Z"
   },
   {
    "duration": 27,
    "start_time": "2023-10-03T17:54:41.096Z"
   },
   {
    "duration": 77,
    "start_time": "2023-10-03T17:54:41.125Z"
   },
   {
    "duration": 44,
    "start_time": "2023-10-03T17:54:41.203Z"
   },
   {
    "duration": 14,
    "start_time": "2023-10-03T17:54:41.250Z"
   },
   {
    "duration": 5,
    "start_time": "2023-10-03T17:54:41.266Z"
   },
   {
    "duration": 270,
    "start_time": "2023-10-03T17:54:41.273Z"
   },
   {
    "duration": 8,
    "start_time": "2023-10-03T17:54:41.546Z"
   },
   {
    "duration": 127,
    "start_time": "2023-10-03T17:54:41.556Z"
   },
   {
    "duration": 15,
    "start_time": "2023-10-03T17:54:41.685Z"
   },
   {
    "duration": 334,
    "start_time": "2023-10-03T17:54:41.702Z"
   },
   {
    "duration": 326,
    "start_time": "2023-10-03T17:54:42.038Z"
   },
   {
    "duration": 241,
    "start_time": "2023-10-03T17:54:42.366Z"
   },
   {
    "duration": 15,
    "start_time": "2023-10-03T17:54:42.610Z"
   },
   {
    "duration": 190,
    "start_time": "2023-10-03T17:54:42.627Z"
   },
   {
    "duration": 27,
    "start_time": "2023-10-03T17:54:42.819Z"
   },
   {
    "duration": 247,
    "start_time": "2023-10-03T17:54:42.848Z"
   },
   {
    "duration": 57,
    "start_time": "2023-10-03T17:54:43.099Z"
   },
   {
    "duration": 51,
    "start_time": "2023-10-03T17:54:43.158Z"
   },
   {
    "duration": 251,
    "start_time": "2023-10-03T17:54:43.211Z"
   },
   {
    "duration": 202,
    "start_time": "2023-10-03T17:54:43.464Z"
   },
   {
    "duration": 15,
    "start_time": "2023-10-03T17:54:43.667Z"
   },
   {
    "duration": 54,
    "start_time": "2023-10-03T17:54:43.684Z"
   },
   {
    "duration": 236,
    "start_time": "2023-10-03T17:54:43.740Z"
   },
   {
    "duration": 347,
    "start_time": "2023-10-03T17:54:43.978Z"
   },
   {
    "duration": 390,
    "start_time": "2023-10-03T17:54:44.328Z"
   },
   {
    "duration": 211,
    "start_time": "2023-10-03T17:54:44.720Z"
   },
   {
    "duration": 232,
    "start_time": "2023-10-03T17:54:44.933Z"
   },
   {
    "duration": 46,
    "start_time": "2023-10-03T17:54:45.167Z"
   },
   {
    "duration": 20,
    "start_time": "2023-10-03T17:54:45.215Z"
   },
   {
    "duration": 176,
    "start_time": "2023-10-03T17:54:45.237Z"
   },
   {
    "duration": 0,
    "start_time": "2023-10-03T17:54:45.419Z"
   },
   {
    "duration": 0,
    "start_time": "2023-10-03T17:54:45.421Z"
   },
   {
    "duration": 0,
    "start_time": "2023-10-03T17:54:45.423Z"
   },
   {
    "duration": 0,
    "start_time": "2023-10-03T17:54:45.425Z"
   },
   {
    "duration": 0,
    "start_time": "2023-10-03T17:54:45.427Z"
   },
   {
    "duration": 0,
    "start_time": "2023-10-03T17:54:45.428Z"
   },
   {
    "duration": 0,
    "start_time": "2023-10-03T17:54:45.430Z"
   },
   {
    "duration": 0,
    "start_time": "2023-10-03T17:54:45.436Z"
   },
   {
    "duration": 0,
    "start_time": "2023-10-03T17:54:45.438Z"
   },
   {
    "duration": 0,
    "start_time": "2023-10-03T17:54:45.440Z"
   },
   {
    "duration": 0,
    "start_time": "2023-10-03T17:54:45.442Z"
   },
   {
    "duration": 0,
    "start_time": "2023-10-03T17:54:45.443Z"
   },
   {
    "duration": 0,
    "start_time": "2023-10-03T17:54:45.444Z"
   },
   {
    "duration": 0,
    "start_time": "2023-10-03T17:54:45.445Z"
   },
   {
    "duration": 0,
    "start_time": "2023-10-03T17:54:45.447Z"
   },
   {
    "duration": 0,
    "start_time": "2023-10-03T17:54:45.448Z"
   },
   {
    "duration": 0,
    "start_time": "2023-10-03T17:54:45.449Z"
   },
   {
    "duration": 0,
    "start_time": "2023-10-03T17:54:45.452Z"
   },
   {
    "duration": 0,
    "start_time": "2023-10-03T17:54:45.453Z"
   },
   {
    "duration": 0,
    "start_time": "2023-10-03T17:54:45.455Z"
   },
   {
    "duration": 0,
    "start_time": "2023-10-03T17:54:45.456Z"
   },
   {
    "duration": 0,
    "start_time": "2023-10-03T17:54:45.459Z"
   },
   {
    "duration": 0,
    "start_time": "2023-10-03T17:54:45.460Z"
   },
   {
    "duration": 0,
    "start_time": "2023-10-03T17:54:45.461Z"
   },
   {
    "duration": 0,
    "start_time": "2023-10-03T17:54:45.462Z"
   },
   {
    "duration": 0,
    "start_time": "2023-10-03T17:54:45.463Z"
   },
   {
    "duration": 0,
    "start_time": "2023-10-03T17:54:45.466Z"
   },
   {
    "duration": 0,
    "start_time": "2023-10-03T17:54:45.467Z"
   },
   {
    "duration": 23,
    "start_time": "2023-10-03T17:55:43.045Z"
   },
   {
    "duration": 24,
    "start_time": "2023-10-03T17:55:57.259Z"
   },
   {
    "duration": 310,
    "start_time": "2023-10-03T17:56:12.085Z"
   },
   {
    "duration": 431,
    "start_time": "2023-10-03T17:56:26.042Z"
   },
   {
    "duration": 319,
    "start_time": "2023-10-03T17:56:39.821Z"
   },
   {
    "duration": 1320,
    "start_time": "2023-10-03T18:07:10.419Z"
   },
   {
    "duration": 73,
    "start_time": "2023-10-03T18:07:11.741Z"
   },
   {
    "duration": 16,
    "start_time": "2023-10-03T18:07:11.816Z"
   },
   {
    "duration": 10,
    "start_time": "2023-10-03T18:07:11.835Z"
   },
   {
    "duration": 15,
    "start_time": "2023-10-03T18:07:11.846Z"
   },
   {
    "duration": 16,
    "start_time": "2023-10-03T18:07:11.863Z"
   },
   {
    "duration": 45,
    "start_time": "2023-10-03T18:07:11.880Z"
   },
   {
    "duration": 6,
    "start_time": "2023-10-03T18:07:11.927Z"
   },
   {
    "duration": 9,
    "start_time": "2023-10-03T18:07:11.934Z"
   },
   {
    "duration": 259,
    "start_time": "2023-10-03T18:07:11.946Z"
   },
   {
    "duration": 24,
    "start_time": "2023-10-03T18:07:12.209Z"
   },
   {
    "duration": 7,
    "start_time": "2023-10-03T18:07:12.235Z"
   },
   {
    "duration": 16,
    "start_time": "2023-10-03T18:07:12.244Z"
   },
   {
    "duration": 14,
    "start_time": "2023-10-03T18:07:12.262Z"
   },
   {
    "duration": 38,
    "start_time": "2023-10-03T18:07:12.278Z"
   },
   {
    "duration": 4,
    "start_time": "2023-10-03T18:07:12.319Z"
   },
   {
    "duration": 277,
    "start_time": "2023-10-03T18:07:12.325Z"
   },
   {
    "duration": 14,
    "start_time": "2023-10-03T18:07:12.609Z"
   },
   {
    "duration": 118,
    "start_time": "2023-10-03T18:07:12.625Z"
   },
   {
    "duration": 17,
    "start_time": "2023-10-03T18:07:12.745Z"
   },
   {
    "duration": 290,
    "start_time": "2023-10-03T18:07:12.763Z"
   },
   {
    "duration": 313,
    "start_time": "2023-10-03T18:07:13.054Z"
   },
   {
    "duration": 195,
    "start_time": "2023-10-03T18:07:13.368Z"
   },
   {
    "duration": 8,
    "start_time": "2023-10-03T18:07:13.565Z"
   },
   {
    "duration": 176,
    "start_time": "2023-10-03T18:07:13.576Z"
   },
   {
    "duration": 16,
    "start_time": "2023-10-03T18:07:13.755Z"
   },
   {
    "duration": 225,
    "start_time": "2023-10-03T18:07:13.773Z"
   },
   {
    "duration": 40,
    "start_time": "2023-10-03T18:07:14.010Z"
   },
   {
    "duration": 123,
    "start_time": "2023-10-03T18:07:14.052Z"
   },
   {
    "duration": 201,
    "start_time": "2023-10-03T18:07:14.177Z"
   },
   {
    "duration": 192,
    "start_time": "2023-10-03T18:07:14.380Z"
   },
   {
    "duration": 15,
    "start_time": "2023-10-03T18:07:14.574Z"
   },
   {
    "duration": 43,
    "start_time": "2023-10-03T18:07:14.591Z"
   },
   {
    "duration": 220,
    "start_time": "2023-10-03T18:07:14.636Z"
   },
   {
    "duration": 303,
    "start_time": "2023-10-03T18:07:14.858Z"
   },
   {
    "duration": 355,
    "start_time": "2023-10-03T18:07:15.163Z"
   },
   {
    "duration": 192,
    "start_time": "2023-10-03T18:07:15.519Z"
   },
   {
    "duration": 200,
    "start_time": "2023-10-03T18:07:15.714Z"
   },
   {
    "duration": 35,
    "start_time": "2023-10-03T18:07:15.916Z"
   },
   {
    "duration": 15,
    "start_time": "2023-10-03T18:07:15.952Z"
   },
   {
    "duration": 339,
    "start_time": "2023-10-03T18:07:15.969Z"
   },
   {
    "duration": 16,
    "start_time": "2023-10-03T18:07:16.311Z"
   },
   {
    "duration": 23,
    "start_time": "2023-10-03T18:07:16.329Z"
   },
   {
    "duration": 393,
    "start_time": "2023-10-03T18:07:16.354Z"
   },
   {
    "duration": 18,
    "start_time": "2023-10-03T18:07:16.750Z"
   },
   {
    "duration": 313,
    "start_time": "2023-10-03T18:07:16.769Z"
   },
   {
    "duration": 267,
    "start_time": "2023-10-03T18:07:17.084Z"
   },
   {
    "duration": 20,
    "start_time": "2023-10-03T18:07:17.353Z"
   },
   {
    "duration": 77,
    "start_time": "2023-10-03T18:07:17.375Z"
   },
   {
    "duration": 41,
    "start_time": "2023-10-03T18:07:17.454Z"
   },
   {
    "duration": 320,
    "start_time": "2023-10-03T18:07:17.497Z"
   },
   {
    "duration": 19,
    "start_time": "2023-10-03T18:07:17.819Z"
   },
   {
    "duration": 316,
    "start_time": "2023-10-03T18:07:17.840Z"
   },
   {
    "duration": 255,
    "start_time": "2023-10-03T18:07:18.158Z"
   },
   {
    "duration": 17,
    "start_time": "2023-10-03T18:07:18.415Z"
   },
   {
    "duration": 37,
    "start_time": "2023-10-03T18:07:18.434Z"
   },
   {
    "duration": 45,
    "start_time": "2023-10-03T18:07:18.472Z"
   },
   {
    "duration": 308,
    "start_time": "2023-10-03T18:07:18.519Z"
   },
   {
    "duration": 18,
    "start_time": "2023-10-03T18:07:18.830Z"
   },
   {
    "duration": 341,
    "start_time": "2023-10-03T18:07:18.849Z"
   },
   {
    "duration": 251,
    "start_time": "2023-10-03T18:07:19.191Z"
   },
   {
    "duration": 17,
    "start_time": "2023-10-03T18:07:19.444Z"
   },
   {
    "duration": 251,
    "start_time": "2023-10-03T18:07:19.463Z"
   },
   {
    "duration": 59,
    "start_time": "2023-10-03T18:07:19.716Z"
   },
   {
    "duration": 16,
    "start_time": "2023-10-03T18:07:19.777Z"
   },
   {
    "duration": 16,
    "start_time": "2023-10-03T18:07:19.795Z"
   },
   {
    "duration": 19,
    "start_time": "2023-10-03T18:07:19.813Z"
   },
   {
    "duration": 4,
    "start_time": "2023-10-03T18:07:19.834Z"
   },
   {
    "duration": 7,
    "start_time": "2023-10-03T18:07:19.840Z"
   },
   {
    "duration": 13,
    "start_time": "2023-10-03T18:09:05.282Z"
   },
   {
    "duration": 156,
    "start_time": "2023-10-03T18:10:08.793Z"
   },
   {
    "duration": 11,
    "start_time": "2023-10-03T18:11:11.792Z"
   },
   {
    "duration": 11,
    "start_time": "2023-10-03T18:11:18.284Z"
   },
   {
    "duration": 274,
    "start_time": "2023-10-03T18:17:54.264Z"
   },
   {
    "duration": 285,
    "start_time": "2023-10-03T18:18:08.271Z"
   },
   {
    "duration": 448,
    "start_time": "2023-10-03T18:18:25.413Z"
   },
   {
    "duration": 318,
    "start_time": "2023-10-03T18:18:49.927Z"
   },
   {
    "duration": 311,
    "start_time": "2023-10-03T18:19:03.094Z"
   },
   {
    "duration": 327,
    "start_time": "2023-10-03T18:19:25.529Z"
   },
   {
    "duration": 347,
    "start_time": "2023-10-03T18:19:39.104Z"
   },
   {
    "duration": 213,
    "start_time": "2023-10-03T18:20:49.313Z"
   },
   {
    "duration": 231,
    "start_time": "2023-10-03T18:22:03.903Z"
   },
   {
    "duration": 158,
    "start_time": "2023-10-03T18:22:27.217Z"
   },
   {
    "duration": 72,
    "start_time": "2023-10-03T18:23:17.339Z"
   },
   {
    "duration": 210,
    "start_time": "2023-10-03T18:23:27.369Z"
   },
   {
    "duration": 305,
    "start_time": "2023-10-03T18:23:59.570Z"
   },
   {
    "duration": 321,
    "start_time": "2023-10-03T18:24:29.936Z"
   },
   {
    "duration": 64,
    "start_time": "2023-10-03T20:27:13.169Z"
   },
   {
    "duration": 1436,
    "start_time": "2023-10-03T20:27:20.105Z"
   },
   {
    "duration": 122,
    "start_time": "2023-10-03T20:27:21.543Z"
   },
   {
    "duration": 16,
    "start_time": "2023-10-03T20:27:21.667Z"
   },
   {
    "duration": 32,
    "start_time": "2023-10-03T20:27:21.686Z"
   },
   {
    "duration": 75,
    "start_time": "2023-10-03T20:27:21.719Z"
   },
   {
    "duration": 52,
    "start_time": "2023-10-03T20:27:21.796Z"
   },
   {
    "duration": 104,
    "start_time": "2023-10-03T20:27:21.850Z"
   },
   {
    "duration": 39,
    "start_time": "2023-10-03T20:27:21.955Z"
   },
   {
    "duration": 62,
    "start_time": "2023-10-03T20:27:21.996Z"
   },
   {
    "duration": 243,
    "start_time": "2023-10-03T20:27:22.060Z"
   },
   {
    "duration": 21,
    "start_time": "2023-10-03T20:27:22.305Z"
   },
   {
    "duration": 249,
    "start_time": "2023-10-03T20:27:22.328Z"
   },
   {
    "duration": 150,
    "start_time": "2023-10-03T20:27:22.579Z"
   },
   {
    "duration": 64,
    "start_time": "2023-10-03T20:27:22.730Z"
   },
   {
    "duration": 36,
    "start_time": "2023-10-03T20:27:22.796Z"
   },
   {
    "duration": 67,
    "start_time": "2023-10-03T20:27:22.834Z"
   },
   {
    "duration": 224,
    "start_time": "2023-10-03T20:27:22.903Z"
   },
   {
    "duration": 6,
    "start_time": "2023-10-03T20:27:23.129Z"
   },
   {
    "duration": 121,
    "start_time": "2023-10-03T20:27:23.137Z"
   },
   {
    "duration": 127,
    "start_time": "2023-10-03T20:27:23.259Z"
   },
   {
    "duration": 384,
    "start_time": "2023-10-03T20:27:23.388Z"
   },
   {
    "duration": 278,
    "start_time": "2023-10-03T20:27:23.774Z"
   },
   {
    "duration": 222,
    "start_time": "2023-10-03T20:27:24.053Z"
   },
   {
    "duration": 282,
    "start_time": "2023-10-03T20:27:24.277Z"
   },
   {
    "duration": 310,
    "start_time": "2023-10-03T20:27:24.561Z"
   },
   {
    "duration": 529,
    "start_time": "2023-10-03T20:27:24.872Z"
   },
   {
    "duration": 126,
    "start_time": "2023-10-03T20:27:25.403Z"
   },
   {
    "duration": 262,
    "start_time": "2023-10-03T20:27:25.535Z"
   },
   {
    "duration": 39,
    "start_time": "2023-10-03T20:27:25.801Z"
   },
   {
    "duration": 93,
    "start_time": "2023-10-03T20:27:25.842Z"
   },
   {
    "duration": 247,
    "start_time": "2023-10-03T20:27:25.937Z"
   },
   {
    "duration": 179,
    "start_time": "2023-10-03T20:27:26.186Z"
   },
   {
    "duration": 13,
    "start_time": "2023-10-03T20:27:26.367Z"
   },
   {
    "duration": 628,
    "start_time": "2023-10-03T20:27:26.382Z"
   },
   {
    "duration": 456,
    "start_time": "2023-10-03T20:27:27.012Z"
   },
   {
    "duration": 339,
    "start_time": "2023-10-03T20:27:27.470Z"
   },
   {
    "duration": 338,
    "start_time": "2023-10-03T20:27:27.811Z"
   },
   {
    "duration": 226,
    "start_time": "2023-10-03T20:27:28.151Z"
   },
   {
    "duration": 196,
    "start_time": "2023-10-03T20:27:28.379Z"
   },
   {
    "duration": 47,
    "start_time": "2023-10-03T20:27:28.577Z"
   },
   {
    "duration": 16,
    "start_time": "2023-10-03T20:27:28.626Z"
   },
   {
    "duration": 360,
    "start_time": "2023-10-03T20:27:28.644Z"
   },
   {
    "duration": 15,
    "start_time": "2023-10-03T20:27:29.006Z"
   },
   {
    "duration": 19,
    "start_time": "2023-10-03T20:27:29.022Z"
   },
   {
    "duration": 400,
    "start_time": "2023-10-03T20:27:29.043Z"
   },
   {
    "duration": 19,
    "start_time": "2023-10-03T20:27:29.444Z"
   },
   {
    "duration": 340,
    "start_time": "2023-10-03T20:27:29.464Z"
   },
   {
    "duration": 253,
    "start_time": "2023-10-03T20:27:29.806Z"
   },
   {
    "duration": 19,
    "start_time": "2023-10-03T20:27:30.061Z"
   },
   {
    "duration": 336,
    "start_time": "2023-10-03T20:27:30.082Z"
   },
   {
    "duration": 15,
    "start_time": "2023-10-03T20:27:30.420Z"
   },
   {
    "duration": 52,
    "start_time": "2023-10-03T20:27:30.437Z"
   },
   {
    "duration": 376,
    "start_time": "2023-10-03T20:27:30.491Z"
   },
   {
    "duration": 17,
    "start_time": "2023-10-03T20:27:30.869Z"
   },
   {
    "duration": 1712,
    "start_time": "2023-10-03T20:27:30.902Z"
   },
   {
    "duration": 369,
    "start_time": "2023-10-03T20:27:32.616Z"
   },
   {
    "duration": 106,
    "start_time": "2023-10-03T20:27:32.987Z"
   },
   {
    "duration": 229,
    "start_time": "2023-10-03T20:27:33.095Z"
   },
   {
    "duration": 49,
    "start_time": "2023-10-03T20:27:33.326Z"
   },
   {
    "duration": 298,
    "start_time": "2023-10-03T20:27:33.376Z"
   },
   {
    "duration": 27,
    "start_time": "2023-10-03T20:27:33.675Z"
   },
   {
    "duration": 331,
    "start_time": "2023-10-03T20:27:33.704Z"
   },
   {
    "duration": 238,
    "start_time": "2023-10-03T20:27:34.037Z"
   },
   {
    "duration": 34,
    "start_time": "2023-10-03T20:27:34.277Z"
   },
   {
    "duration": 15,
    "start_time": "2023-10-03T20:27:34.312Z"
   },
   {
    "duration": 58,
    "start_time": "2023-10-03T20:27:34.329Z"
   },
   {
    "duration": 9,
    "start_time": "2023-10-03T20:27:34.389Z"
   },
   {
    "duration": 44,
    "start_time": "2023-10-03T20:27:34.400Z"
   },
   {
    "duration": 13,
    "start_time": "2023-10-03T20:27:34.446Z"
   },
   {
    "duration": 23,
    "start_time": "2023-10-03T20:27:34.461Z"
   },
   {
    "duration": 23,
    "start_time": "2023-10-03T20:27:34.486Z"
   },
   {
    "duration": 247,
    "start_time": "2023-10-03T20:28:30.597Z"
   },
   {
    "duration": 1300,
    "start_time": "2023-10-04T11:02:56.693Z"
   },
   {
    "duration": 117,
    "start_time": "2023-10-04T11:02:57.995Z"
   },
   {
    "duration": 15,
    "start_time": "2023-10-04T11:02:58.114Z"
   },
   {
    "duration": 24,
    "start_time": "2023-10-04T11:02:58.130Z"
   },
   {
    "duration": 15,
    "start_time": "2023-10-04T11:02:58.158Z"
   },
   {
    "duration": 20,
    "start_time": "2023-10-04T11:02:58.175Z"
   },
   {
    "duration": 27,
    "start_time": "2023-10-04T11:02:58.197Z"
   },
   {
    "duration": 6,
    "start_time": "2023-10-04T11:02:58.225Z"
   },
   {
    "duration": 39,
    "start_time": "2023-10-04T11:02:58.232Z"
   },
   {
    "duration": 245,
    "start_time": "2023-10-04T11:02:58.273Z"
   },
   {
    "duration": 26,
    "start_time": "2023-10-04T11:02:58.519Z"
   },
   {
    "duration": 10,
    "start_time": "2023-10-04T11:02:58.547Z"
   },
   {
    "duration": 28,
    "start_time": "2023-10-04T11:02:58.559Z"
   },
   {
    "duration": 22,
    "start_time": "2023-10-04T11:02:58.591Z"
   },
   {
    "duration": 40,
    "start_time": "2023-10-04T11:02:58.615Z"
   },
   {
    "duration": 17,
    "start_time": "2023-10-04T11:02:58.657Z"
   },
   {
    "duration": 193,
    "start_time": "2023-10-04T11:02:58.675Z"
   },
   {
    "duration": 7,
    "start_time": "2023-10-04T11:02:58.870Z"
   },
   {
    "duration": 112,
    "start_time": "2023-10-04T11:02:58.878Z"
   },
   {
    "duration": 13,
    "start_time": "2023-10-04T11:02:58.991Z"
   },
   {
    "duration": 332,
    "start_time": "2023-10-04T11:02:59.005Z"
   },
   {
    "duration": 276,
    "start_time": "2023-10-04T11:02:59.339Z"
   },
   {
    "duration": 183,
    "start_time": "2023-10-04T11:02:59.616Z"
   },
   {
    "duration": 8,
    "start_time": "2023-10-04T11:02:59.801Z"
   },
   {
    "duration": 144,
    "start_time": "2023-10-04T11:02:59.811Z"
   },
   {
    "duration": 65,
    "start_time": "2023-10-04T11:02:59.957Z"
   },
   {
    "duration": 14,
    "start_time": "2023-10-04T11:03:00.024Z"
   },
   {
    "duration": 318,
    "start_time": "2023-10-04T11:03:00.040Z"
   },
   {
    "duration": 39,
    "start_time": "2023-10-04T11:03:00.360Z"
   },
   {
    "duration": 68,
    "start_time": "2023-10-04T11:03:00.401Z"
   },
   {
    "duration": 216,
    "start_time": "2023-10-04T11:03:00.471Z"
   },
   {
    "duration": 190,
    "start_time": "2023-10-04T11:03:00.688Z"
   },
   {
    "duration": 12,
    "start_time": "2023-10-04T11:03:00.879Z"
   },
   {
    "duration": 55,
    "start_time": "2023-10-04T11:03:00.893Z"
   },
   {
    "duration": 235,
    "start_time": "2023-10-04T11:03:00.950Z"
   },
   {
    "duration": 300,
    "start_time": "2023-10-04T11:03:01.186Z"
   },
   {
    "duration": 298,
    "start_time": "2023-10-04T11:03:01.488Z"
   },
   {
    "duration": 174,
    "start_time": "2023-10-04T11:03:01.787Z"
   },
   {
    "duration": 191,
    "start_time": "2023-10-04T11:03:01.963Z"
   },
   {
    "duration": 32,
    "start_time": "2023-10-04T11:03:02.156Z"
   },
   {
    "duration": 51,
    "start_time": "2023-10-04T11:03:02.192Z"
   },
   {
    "duration": 374,
    "start_time": "2023-10-04T11:03:02.245Z"
   },
   {
    "duration": 14,
    "start_time": "2023-10-04T11:03:02.620Z"
   },
   {
    "duration": 50,
    "start_time": "2023-10-04T11:03:02.643Z"
   },
   {
    "duration": 382,
    "start_time": "2023-10-04T11:03:02.695Z"
   },
   {
    "duration": 17,
    "start_time": "2023-10-04T11:03:03.079Z"
   },
   {
    "duration": 388,
    "start_time": "2023-10-04T11:03:03.098Z"
   },
   {
    "duration": 276,
    "start_time": "2023-10-04T11:03:03.487Z"
   },
   {
    "duration": 20,
    "start_time": "2023-10-04T11:03:03.765Z"
   },
   {
    "duration": 288,
    "start_time": "2023-10-04T11:03:03.787Z"
   },
   {
    "duration": 13,
    "start_time": "2023-10-04T11:03:04.077Z"
   },
   {
    "duration": 69,
    "start_time": "2023-10-04T11:03:04.092Z"
   },
   {
    "duration": 412,
    "start_time": "2023-10-04T11:03:04.163Z"
   },
   {
    "duration": 19,
    "start_time": "2023-10-04T11:03:04.578Z"
   },
   {
    "duration": 406,
    "start_time": "2023-10-04T11:03:04.601Z"
   },
   {
    "duration": 264,
    "start_time": "2023-10-04T11:03:05.009Z"
   },
   {
    "duration": 46,
    "start_time": "2023-10-04T11:03:05.275Z"
   },
   {
    "duration": 36,
    "start_time": "2023-10-04T11:03:05.322Z"
   },
   {
    "duration": 45,
    "start_time": "2023-10-04T11:03:05.360Z"
   },
   {
    "duration": 321,
    "start_time": "2023-10-04T11:03:05.406Z"
   },
   {
    "duration": 17,
    "start_time": "2023-10-04T11:03:05.728Z"
   },
   {
    "duration": 351,
    "start_time": "2023-10-04T11:03:05.747Z"
   },
   {
    "duration": 244,
    "start_time": "2023-10-04T11:03:06.099Z"
   },
   {
    "duration": 25,
    "start_time": "2023-10-04T11:03:06.346Z"
   },
   {
    "duration": 52,
    "start_time": "2023-10-04T11:03:06.372Z"
   },
   {
    "duration": 55,
    "start_time": "2023-10-04T11:03:06.426Z"
   },
   {
    "duration": 32,
    "start_time": "2023-10-04T11:03:06.483Z"
   },
   {
    "duration": 58,
    "start_time": "2023-10-04T11:03:06.516Z"
   },
   {
    "duration": 23,
    "start_time": "2023-10-04T11:03:06.576Z"
   },
   {
    "duration": 28,
    "start_time": "2023-10-04T11:03:06.601Z"
   },
   {
    "duration": 43,
    "start_time": "2023-10-04T11:03:06.630Z"
   },
   {
    "duration": 19,
    "start_time": "2023-10-04T11:05:50.784Z"
   },
   {
    "duration": 6,
    "start_time": "2023-10-04T11:06:06.988Z"
   },
   {
    "duration": 137,
    "start_time": "2023-10-04T11:07:21.389Z"
   },
   {
    "duration": 251,
    "start_time": "2023-10-04T11:09:08.010Z"
   },
   {
    "duration": 112,
    "start_time": "2023-10-04T11:09:56.790Z"
   },
   {
    "duration": 1730,
    "start_time": "2023-10-04T17:42:48.410Z"
   },
   {
    "duration": 177,
    "start_time": "2023-10-04T17:42:50.142Z"
   },
   {
    "duration": 17,
    "start_time": "2023-10-04T17:42:50.321Z"
   },
   {
    "duration": 34,
    "start_time": "2023-10-04T17:42:50.339Z"
   },
   {
    "duration": 47,
    "start_time": "2023-10-04T17:42:50.375Z"
   },
   {
    "duration": 15,
    "start_time": "2023-10-04T17:42:50.424Z"
   },
   {
    "duration": 67,
    "start_time": "2023-10-04T17:42:50.441Z"
   },
   {
    "duration": 18,
    "start_time": "2023-10-04T17:42:50.511Z"
   },
   {
    "duration": 23,
    "start_time": "2023-10-04T17:42:50.531Z"
   },
   {
    "duration": 281,
    "start_time": "2023-10-04T17:42:50.556Z"
   },
   {
    "duration": 23,
    "start_time": "2023-10-04T17:42:50.838Z"
   },
   {
    "duration": 26,
    "start_time": "2023-10-04T17:42:50.863Z"
   },
   {
    "duration": 24,
    "start_time": "2023-10-04T17:42:50.904Z"
   },
   {
    "duration": 13,
    "start_time": "2023-10-04T17:42:50.932Z"
   },
   {
    "duration": 18,
    "start_time": "2023-10-04T17:42:50.946Z"
   },
   {
    "duration": 45,
    "start_time": "2023-10-04T17:42:50.966Z"
   },
   {
    "duration": 247,
    "start_time": "2023-10-04T17:42:51.013Z"
   },
   {
    "duration": 7,
    "start_time": "2023-10-04T17:42:51.262Z"
   },
   {
    "duration": 145,
    "start_time": "2023-10-04T17:42:51.271Z"
   },
   {
    "duration": 19,
    "start_time": "2023-10-04T17:42:51.418Z"
   },
   {
    "duration": 331,
    "start_time": "2023-10-04T17:42:51.439Z"
   },
   {
    "duration": 354,
    "start_time": "2023-10-04T17:42:51.773Z"
   },
   {
    "duration": 233,
    "start_time": "2023-10-04T17:42:52.128Z"
   },
   {
    "duration": 9,
    "start_time": "2023-10-04T17:42:52.363Z"
   },
   {
    "duration": 168,
    "start_time": "2023-10-04T17:42:52.373Z"
   },
   {
    "duration": 76,
    "start_time": "2023-10-04T17:42:52.542Z"
   },
   {
    "duration": 19,
    "start_time": "2023-10-04T17:42:52.619Z"
   },
   {
    "duration": 311,
    "start_time": "2023-10-04T17:42:52.640Z"
   },
   {
    "duration": 66,
    "start_time": "2023-10-04T17:42:52.954Z"
   },
   {
    "duration": 39,
    "start_time": "2023-10-04T17:42:53.022Z"
   },
   {
    "duration": 305,
    "start_time": "2023-10-04T17:42:53.062Z"
   },
   {
    "duration": 219,
    "start_time": "2023-10-04T17:42:53.369Z"
   },
   {
    "duration": 17,
    "start_time": "2023-10-04T17:42:53.593Z"
   },
   {
    "duration": 123,
    "start_time": "2023-10-04T17:42:53.619Z"
   },
   {
    "duration": 261,
    "start_time": "2023-10-04T17:42:53.744Z"
   },
   {
    "duration": 418,
    "start_time": "2023-10-04T17:42:54.007Z"
   },
   {
    "duration": 396,
    "start_time": "2023-10-04T17:42:54.432Z"
   },
   {
    "duration": 222,
    "start_time": "2023-10-04T17:42:54.830Z"
   },
   {
    "duration": 262,
    "start_time": "2023-10-04T17:42:55.054Z"
   },
   {
    "duration": 31,
    "start_time": "2023-10-04T17:42:55.328Z"
   },
   {
    "duration": 16,
    "start_time": "2023-10-04T17:42:55.364Z"
   },
   {
    "duration": 409,
    "start_time": "2023-10-04T17:42:55.393Z"
   },
   {
    "duration": 26,
    "start_time": "2023-10-04T17:42:55.806Z"
   },
   {
    "duration": 29,
    "start_time": "2023-10-04T17:42:55.834Z"
   },
   {
    "duration": 483,
    "start_time": "2023-10-04T17:42:55.865Z"
   },
   {
    "duration": 21,
    "start_time": "2023-10-04T17:42:56.350Z"
   },
   {
    "duration": 566,
    "start_time": "2023-10-04T17:42:56.389Z"
   },
   {
    "duration": 414,
    "start_time": "2023-10-04T17:42:56.957Z"
   },
   {
    "duration": 54,
    "start_time": "2023-10-04T17:42:57.373Z"
   },
   {
    "duration": 329,
    "start_time": "2023-10-04T17:42:57.430Z"
   },
   {
    "duration": 25,
    "start_time": "2023-10-04T17:42:57.761Z"
   },
   {
    "duration": 48,
    "start_time": "2023-10-04T17:42:57.789Z"
   },
   {
    "duration": 419,
    "start_time": "2023-10-04T17:42:57.840Z"
   },
   {
    "duration": 37,
    "start_time": "2023-10-04T17:42:58.261Z"
   },
   {
    "duration": 397,
    "start_time": "2023-10-04T17:42:58.303Z"
   },
   {
    "duration": 284,
    "start_time": "2023-10-04T17:42:58.701Z"
   },
   {
    "duration": 30,
    "start_time": "2023-10-04T17:42:58.989Z"
   },
   {
    "duration": 31,
    "start_time": "2023-10-04T17:42:59.022Z"
   },
   {
    "duration": 56,
    "start_time": "2023-10-04T17:42:59.055Z"
   },
   {
    "duration": 398,
    "start_time": "2023-10-04T17:42:59.114Z"
   },
   {
    "duration": 24,
    "start_time": "2023-10-04T17:42:59.517Z"
   },
   {
    "duration": 440,
    "start_time": "2023-10-04T17:42:59.543Z"
   },
   {
    "duration": 302,
    "start_time": "2023-10-04T17:42:59.984Z"
   },
   {
    "duration": 35,
    "start_time": "2023-10-04T17:43:00.291Z"
   },
   {
    "duration": 24,
    "start_time": "2023-10-04T17:43:00.329Z"
   },
   {
    "duration": 72,
    "start_time": "2023-10-04T17:43:00.355Z"
   },
   {
    "duration": 59,
    "start_time": "2023-10-04T17:43:00.430Z"
   },
   {
    "duration": 159,
    "start_time": "2023-10-04T17:43:00.491Z"
   },
   {
    "duration": 138,
    "start_time": "2023-10-04T17:43:00.652Z"
   },
   {
    "duration": 41,
    "start_time": "2023-10-04T17:43:00.792Z"
   },
   {
    "duration": 37,
    "start_time": "2023-10-04T17:43:00.835Z"
   },
   {
    "duration": 264,
    "start_time": "2023-10-04T17:48:38.379Z"
   },
   {
    "duration": 352,
    "start_time": "2023-10-04T17:59:36.012Z"
   },
   {
    "duration": 1305,
    "start_time": "2023-10-04T20:11:51.934Z"
   },
   {
    "duration": 76,
    "start_time": "2023-10-04T20:11:53.242Z"
   },
   {
    "duration": 16,
    "start_time": "2023-10-04T20:11:53.320Z"
   },
   {
    "duration": 13,
    "start_time": "2023-10-04T20:11:53.339Z"
   },
   {
    "duration": 28,
    "start_time": "2023-10-04T20:11:53.354Z"
   },
   {
    "duration": 34,
    "start_time": "2023-10-04T20:11:53.384Z"
   },
   {
    "duration": 16,
    "start_time": "2023-10-04T20:11:53.421Z"
   },
   {
    "duration": 7,
    "start_time": "2023-10-04T20:11:53.440Z"
   },
   {
    "duration": 19,
    "start_time": "2023-10-04T20:11:53.450Z"
   },
   {
    "duration": 238,
    "start_time": "2023-10-04T20:11:53.482Z"
   },
   {
    "duration": 23,
    "start_time": "2023-10-04T20:11:53.722Z"
   },
   {
    "duration": 8,
    "start_time": "2023-10-04T20:11:53.747Z"
   },
   {
    "duration": 44,
    "start_time": "2023-10-04T20:11:53.757Z"
   },
   {
    "duration": 26,
    "start_time": "2023-10-04T20:11:53.803Z"
   },
   {
    "duration": 17,
    "start_time": "2023-10-04T20:11:53.831Z"
   },
   {
    "duration": 18,
    "start_time": "2023-10-04T20:11:53.849Z"
   },
   {
    "duration": 232,
    "start_time": "2023-10-04T20:11:53.870Z"
   },
   {
    "duration": 7,
    "start_time": "2023-10-04T20:11:54.105Z"
   },
   {
    "duration": 105,
    "start_time": "2023-10-04T20:11:54.114Z"
   },
   {
    "duration": 17,
    "start_time": "2023-10-04T20:11:54.221Z"
   },
   {
    "duration": 301,
    "start_time": "2023-10-04T20:11:54.240Z"
   },
   {
    "duration": 293,
    "start_time": "2023-10-04T20:11:54.543Z"
   },
   {
    "duration": 200,
    "start_time": "2023-10-04T20:11:54.837Z"
   },
   {
    "duration": 9,
    "start_time": "2023-10-04T20:11:55.039Z"
   },
   {
    "duration": 143,
    "start_time": "2023-10-04T20:11:55.050Z"
   },
   {
    "duration": 49,
    "start_time": "2023-10-04T20:11:55.195Z"
   },
   {
    "duration": 40,
    "start_time": "2023-10-04T20:11:55.246Z"
   },
   {
    "duration": 244,
    "start_time": "2023-10-04T20:11:55.293Z"
   },
   {
    "duration": 53,
    "start_time": "2023-10-04T20:11:55.539Z"
   },
   {
    "duration": 38,
    "start_time": "2023-10-04T20:11:55.594Z"
   },
   {
    "duration": 243,
    "start_time": "2023-10-04T20:11:55.634Z"
   },
   {
    "duration": 242,
    "start_time": "2023-10-04T20:11:55.880Z"
   },
   {
    "duration": 14,
    "start_time": "2023-10-04T20:11:56.124Z"
   },
   {
    "duration": 42,
    "start_time": "2023-10-04T20:11:56.140Z"
   },
   {
    "duration": 264,
    "start_time": "2023-10-04T20:11:56.184Z"
   },
   {
    "duration": 387,
    "start_time": "2023-10-04T20:11:56.449Z"
   },
   {
    "duration": 370,
    "start_time": "2023-10-04T20:11:56.838Z"
   },
   {
    "duration": 213,
    "start_time": "2023-10-04T20:11:57.211Z"
   },
   {
    "duration": 189,
    "start_time": "2023-10-04T20:11:57.426Z"
   },
   {
    "duration": 35,
    "start_time": "2023-10-04T20:11:57.617Z"
   },
   {
    "duration": 32,
    "start_time": "2023-10-04T20:11:57.653Z"
   },
   {
    "duration": 339,
    "start_time": "2023-10-04T20:11:57.687Z"
   },
   {
    "duration": 16,
    "start_time": "2023-10-04T20:11:58.027Z"
   },
   {
    "duration": 18,
    "start_time": "2023-10-04T20:11:58.045Z"
   },
   {
    "duration": 384,
    "start_time": "2023-10-04T20:11:58.082Z"
   },
   {
    "duration": 24,
    "start_time": "2023-10-04T20:11:58.467Z"
   },
   {
    "duration": 330,
    "start_time": "2023-10-04T20:11:58.493Z"
   },
   {
    "duration": 268,
    "start_time": "2023-10-04T20:11:58.824Z"
   },
   {
    "duration": 17,
    "start_time": "2023-10-04T20:11:59.094Z"
   },
   {
    "duration": 430,
    "start_time": "2023-10-04T20:11:59.113Z"
   },
   {
    "duration": 17,
    "start_time": "2023-10-04T20:11:59.544Z"
   },
   {
    "duration": 74,
    "start_time": "2023-10-04T20:11:59.563Z"
   },
   {
    "duration": 331,
    "start_time": "2023-10-04T20:11:59.639Z"
   },
   {
    "duration": 21,
    "start_time": "2023-10-04T20:11:59.980Z"
   },
   {
    "duration": 333,
    "start_time": "2023-10-04T20:12:00.003Z"
   },
   {
    "duration": 283,
    "start_time": "2023-10-04T20:12:00.338Z"
   },
   {
    "duration": 18,
    "start_time": "2023-10-04T20:12:00.623Z"
   },
   {
    "duration": 471,
    "start_time": "2023-10-04T20:12:00.643Z"
   },
   {
    "duration": 206,
    "start_time": "2023-10-04T20:12:01.117Z"
   },
   {
    "duration": 253,
    "start_time": "2023-10-04T20:12:01.325Z"
   },
   {
    "duration": 508,
    "start_time": "2023-10-04T20:12:01.580Z"
   },
   {
    "duration": 18,
    "start_time": "2023-10-04T20:12:02.090Z"
   },
   {
    "duration": 439,
    "start_time": "2023-10-04T20:12:02.110Z"
   },
   {
    "duration": 253,
    "start_time": "2023-10-04T20:12:02.551Z"
   },
   {
    "duration": 17,
    "start_time": "2023-10-04T20:12:02.806Z"
   },
   {
    "duration": 370,
    "start_time": "2023-10-04T20:12:02.825Z"
   },
   {
    "duration": 19,
    "start_time": "2023-10-04T20:12:03.197Z"
   },
   {
    "duration": 39,
    "start_time": "2023-10-04T20:12:03.219Z"
   },
   {
    "duration": 32,
    "start_time": "2023-10-04T20:12:03.260Z"
   },
   {
    "duration": 29,
    "start_time": "2023-10-04T20:12:03.294Z"
   },
   {
    "duration": 29,
    "start_time": "2023-10-04T20:12:03.324Z"
   },
   {
    "duration": 25,
    "start_time": "2023-10-04T20:12:03.355Z"
   },
   {
    "duration": 33,
    "start_time": "2023-10-04T20:12:03.382Z"
   },
   {
    "duration": 1313,
    "start_time": "2023-10-04T20:48:13.274Z"
   },
   {
    "duration": 92,
    "start_time": "2023-10-04T20:48:14.590Z"
   },
   {
    "duration": 24,
    "start_time": "2023-10-04T20:48:14.684Z"
   },
   {
    "duration": 13,
    "start_time": "2023-10-04T20:48:14.712Z"
   },
   {
    "duration": 25,
    "start_time": "2023-10-04T20:48:14.727Z"
   },
   {
    "duration": 27,
    "start_time": "2023-10-04T20:48:14.755Z"
   },
   {
    "duration": 19,
    "start_time": "2023-10-04T20:48:14.786Z"
   },
   {
    "duration": 8,
    "start_time": "2023-10-04T20:48:14.807Z"
   },
   {
    "duration": 50,
    "start_time": "2023-10-04T20:48:14.818Z"
   },
   {
    "duration": 247,
    "start_time": "2023-10-04T20:48:14.875Z"
   },
   {
    "duration": 43,
    "start_time": "2023-10-04T20:48:15.124Z"
   },
   {
    "duration": 11,
    "start_time": "2023-10-04T20:48:15.169Z"
   },
   {
    "duration": 28,
    "start_time": "2023-10-04T20:48:15.182Z"
   },
   {
    "duration": 19,
    "start_time": "2023-10-04T20:48:15.211Z"
   },
   {
    "duration": 21,
    "start_time": "2023-10-04T20:48:15.231Z"
   },
   {
    "duration": 14,
    "start_time": "2023-10-04T20:48:15.260Z"
   },
   {
    "duration": 218,
    "start_time": "2023-10-04T20:48:15.281Z"
   },
   {
    "duration": 7,
    "start_time": "2023-10-04T20:48:15.500Z"
   },
   {
    "duration": 111,
    "start_time": "2023-10-04T20:48:15.509Z"
   },
   {
    "duration": 14,
    "start_time": "2023-10-04T20:48:15.622Z"
   },
   {
    "duration": 294,
    "start_time": "2023-10-04T20:48:15.638Z"
   },
   {
    "duration": 332,
    "start_time": "2023-10-04T20:48:15.934Z"
   },
   {
    "duration": 205,
    "start_time": "2023-10-04T20:48:16.272Z"
   },
   {
    "duration": 9,
    "start_time": "2023-10-04T20:48:16.480Z"
   },
   {
    "duration": 129,
    "start_time": "2023-10-04T20:48:16.491Z"
   },
   {
    "duration": 69,
    "start_time": "2023-10-04T20:48:16.622Z"
   },
   {
    "duration": 15,
    "start_time": "2023-10-04T20:48:16.692Z"
   },
   {
    "duration": 264,
    "start_time": "2023-10-04T20:48:16.711Z"
   },
   {
    "duration": 38,
    "start_time": "2023-10-04T20:48:16.979Z"
   },
   {
    "duration": 70,
    "start_time": "2023-10-04T20:48:17.018Z"
   },
   {
    "duration": 240,
    "start_time": "2023-10-04T20:48:17.090Z"
   },
   {
    "duration": 192,
    "start_time": "2023-10-04T20:48:17.333Z"
   },
   {
    "duration": 28,
    "start_time": "2023-10-04T20:48:17.526Z"
   },
   {
    "duration": 47,
    "start_time": "2023-10-04T20:48:17.559Z"
   },
   {
    "duration": 233,
    "start_time": "2023-10-04T20:48:17.608Z"
   },
   {
    "duration": 340,
    "start_time": "2023-10-04T20:48:17.842Z"
   },
   {
    "duration": 389,
    "start_time": "2023-10-04T20:48:18.184Z"
   },
   {
    "duration": 198,
    "start_time": "2023-10-04T20:48:18.576Z"
   },
   {
    "duration": 208,
    "start_time": "2023-10-04T20:48:18.776Z"
   },
   {
    "duration": 30,
    "start_time": "2023-10-04T20:48:18.986Z"
   },
   {
    "duration": 38,
    "start_time": "2023-10-04T20:48:19.018Z"
   },
   {
    "duration": 342,
    "start_time": "2023-10-04T20:48:19.070Z"
   },
   {
    "duration": 16,
    "start_time": "2023-10-04T20:48:19.414Z"
   },
   {
    "duration": 31,
    "start_time": "2023-10-04T20:48:19.450Z"
   },
   {
    "duration": 376,
    "start_time": "2023-10-04T20:48:19.482Z"
   },
   {
    "duration": 28,
    "start_time": "2023-10-04T20:48:19.860Z"
   },
   {
    "duration": 339,
    "start_time": "2023-10-04T20:48:19.889Z"
   },
   {
    "duration": 274,
    "start_time": "2023-10-04T20:48:20.230Z"
   },
   {
    "duration": 18,
    "start_time": "2023-10-04T20:48:20.507Z"
   },
   {
    "duration": 283,
    "start_time": "2023-10-04T20:48:20.527Z"
   },
   {
    "duration": 15,
    "start_time": "2023-10-04T20:48:20.811Z"
   },
   {
    "duration": 33,
    "start_time": "2023-10-04T20:48:20.828Z"
   },
   {
    "duration": 349,
    "start_time": "2023-10-04T20:48:20.863Z"
   },
   {
    "duration": 38,
    "start_time": "2023-10-04T20:48:21.214Z"
   },
   {
    "duration": 323,
    "start_time": "2023-10-04T20:48:21.263Z"
   },
   {
    "duration": 253,
    "start_time": "2023-10-04T20:48:21.588Z"
   },
   {
    "duration": 31,
    "start_time": "2023-10-04T20:48:21.844Z"
   },
   {
    "duration": 256,
    "start_time": "2023-10-04T20:48:21.877Z"
   },
   {
    "duration": 31,
    "start_time": "2023-10-04T20:48:22.135Z"
   },
   {
    "duration": 17,
    "start_time": "2023-10-04T20:48:22.173Z"
   },
   {
    "duration": 340,
    "start_time": "2023-10-04T20:48:22.192Z"
   },
   {
    "duration": 24,
    "start_time": "2023-10-04T20:48:22.534Z"
   },
   {
    "duration": 362,
    "start_time": "2023-10-04T20:48:22.560Z"
   },
   {
    "duration": 312,
    "start_time": "2023-10-04T20:48:22.924Z"
   },
   {
    "duration": 31,
    "start_time": "2023-10-04T20:48:23.237Z"
   },
   {
    "duration": 364,
    "start_time": "2023-10-04T20:48:23.271Z"
   },
   {
    "duration": 25,
    "start_time": "2023-10-04T20:48:23.637Z"
   },
   {
    "duration": 39,
    "start_time": "2023-10-04T20:48:23.664Z"
   },
   {
    "duration": 15,
    "start_time": "2023-10-04T20:48:23.705Z"
   },
   {
    "duration": 14,
    "start_time": "2023-10-04T20:48:23.722Z"
   },
   {
    "duration": 33,
    "start_time": "2023-10-04T20:48:23.738Z"
   },
   {
    "duration": 19,
    "start_time": "2023-10-04T20:48:23.774Z"
   },
   {
    "duration": 21,
    "start_time": "2023-10-04T20:48:23.795Z"
   },
   {
    "duration": 1243,
    "start_time": "2023-10-04T21:12:49.429Z"
   },
   {
    "duration": 72,
    "start_time": "2023-10-04T21:12:50.675Z"
   },
   {
    "duration": 15,
    "start_time": "2023-10-04T21:12:50.749Z"
   },
   {
    "duration": 43,
    "start_time": "2023-10-04T21:12:50.766Z"
   },
   {
    "duration": 32,
    "start_time": "2023-10-04T21:12:50.811Z"
   },
   {
    "duration": 23,
    "start_time": "2023-10-04T21:12:50.845Z"
   },
   {
    "duration": 19,
    "start_time": "2023-10-04T21:12:50.869Z"
   },
   {
    "duration": 12,
    "start_time": "2023-10-04T21:12:50.890Z"
   },
   {
    "duration": 28,
    "start_time": "2023-10-04T21:12:50.904Z"
   },
   {
    "duration": 223,
    "start_time": "2023-10-04T21:12:50.936Z"
   },
   {
    "duration": 22,
    "start_time": "2023-10-04T21:12:51.161Z"
   },
   {
    "duration": 24,
    "start_time": "2023-10-04T21:12:51.184Z"
   },
   {
    "duration": 42,
    "start_time": "2023-10-04T21:12:51.209Z"
   },
   {
    "duration": 58,
    "start_time": "2023-10-04T21:12:51.253Z"
   },
   {
    "duration": 31,
    "start_time": "2023-10-04T21:12:51.313Z"
   },
   {
    "duration": 25,
    "start_time": "2023-10-04T21:12:51.346Z"
   },
   {
    "duration": 224,
    "start_time": "2023-10-04T21:12:51.372Z"
   },
   {
    "duration": 8,
    "start_time": "2023-10-04T21:12:51.597Z"
   },
   {
    "duration": 111,
    "start_time": "2023-10-04T21:12:51.606Z"
   },
   {
    "duration": 14,
    "start_time": "2023-10-04T21:12:51.718Z"
   },
   {
    "duration": 267,
    "start_time": "2023-10-04T21:12:51.744Z"
   },
   {
    "duration": 280,
    "start_time": "2023-10-04T21:12:52.012Z"
   },
   {
    "duration": 172,
    "start_time": "2023-10-04T21:12:52.294Z"
   },
   {
    "duration": 9,
    "start_time": "2023-10-04T21:12:52.467Z"
   },
   {
    "duration": 160,
    "start_time": "2023-10-04T21:12:52.477Z"
   },
   {
    "duration": 46,
    "start_time": "2023-10-04T21:12:52.638Z"
   },
   {
    "duration": 43,
    "start_time": "2023-10-04T21:12:52.686Z"
   },
   {
    "duration": 237,
    "start_time": "2023-10-04T21:12:52.733Z"
   },
   {
    "duration": 41,
    "start_time": "2023-10-04T21:12:52.972Z"
   },
   {
    "duration": 66,
    "start_time": "2023-10-04T21:12:53.015Z"
   },
   {
    "duration": 249,
    "start_time": "2023-10-04T21:12:53.083Z"
   },
   {
    "duration": 183,
    "start_time": "2023-10-04T21:12:53.334Z"
   },
   {
    "duration": 25,
    "start_time": "2023-10-04T21:12:53.519Z"
   },
   {
    "duration": 27,
    "start_time": "2023-10-04T21:12:53.545Z"
   },
   {
    "duration": 247,
    "start_time": "2023-10-04T21:12:53.573Z"
   },
   {
    "duration": 306,
    "start_time": "2023-10-04T21:12:53.822Z"
   },
   {
    "duration": 316,
    "start_time": "2023-10-04T21:12:54.130Z"
   },
   {
    "duration": 258,
    "start_time": "2023-10-04T21:12:54.448Z"
   },
   {
    "duration": 192,
    "start_time": "2023-10-04T21:12:54.708Z"
   },
   {
    "duration": 43,
    "start_time": "2023-10-04T21:12:54.902Z"
   },
   {
    "duration": 14,
    "start_time": "2023-10-04T21:12:54.946Z"
   },
   {
    "duration": 338,
    "start_time": "2023-10-04T21:12:54.961Z"
   },
   {
    "duration": 15,
    "start_time": "2023-10-04T21:12:55.301Z"
   },
   {
    "duration": 32,
    "start_time": "2023-10-04T21:12:55.318Z"
   },
   {
    "duration": 374,
    "start_time": "2023-10-04T21:12:55.352Z"
   },
   {
    "duration": 20,
    "start_time": "2023-10-04T21:12:55.728Z"
   },
   {
    "duration": 311,
    "start_time": "2023-10-04T21:12:55.750Z"
   },
   {
    "duration": 247,
    "start_time": "2023-10-04T21:12:56.062Z"
   },
   {
    "duration": 18,
    "start_time": "2023-10-04T21:12:56.310Z"
   },
   {
    "duration": 284,
    "start_time": "2023-10-04T21:12:56.330Z"
   },
   {
    "duration": 27,
    "start_time": "2023-10-04T21:12:56.616Z"
   },
   {
    "duration": 31,
    "start_time": "2023-10-04T21:12:56.645Z"
   },
   {
    "duration": 344,
    "start_time": "2023-10-04T21:12:56.677Z"
   },
   {
    "duration": 31,
    "start_time": "2023-10-04T21:12:57.023Z"
   },
   {
    "duration": 298,
    "start_time": "2023-10-04T21:12:57.056Z"
   },
   {
    "duration": 247,
    "start_time": "2023-10-04T21:12:57.356Z"
   },
   {
    "duration": 18,
    "start_time": "2023-10-04T21:12:57.605Z"
   },
   {
    "duration": 241,
    "start_time": "2023-10-04T21:12:57.624Z"
   },
   {
    "duration": 14,
    "start_time": "2023-10-04T21:12:57.867Z"
   },
   {
    "duration": 37,
    "start_time": "2023-10-04T21:12:57.883Z"
   },
   {
    "duration": 322,
    "start_time": "2023-10-04T21:12:57.922Z"
   },
   {
    "duration": 17,
    "start_time": "2023-10-04T21:12:58.246Z"
   },
   {
    "duration": 329,
    "start_time": "2023-10-04T21:12:58.265Z"
   },
   {
    "duration": 232,
    "start_time": "2023-10-04T21:12:58.596Z"
   },
   {
    "duration": 25,
    "start_time": "2023-10-04T21:12:58.830Z"
   },
   {
    "duration": 368,
    "start_time": "2023-10-04T21:12:58.857Z"
   },
   {
    "duration": 19,
    "start_time": "2023-10-04T21:12:59.227Z"
   },
   {
    "duration": 42,
    "start_time": "2023-10-04T21:12:59.248Z"
   },
   {
    "duration": 46,
    "start_time": "2023-10-04T21:12:59.292Z"
   },
   {
    "duration": 38,
    "start_time": "2023-10-04T21:12:59.340Z"
   },
   {
    "duration": 34,
    "start_time": "2023-10-04T21:12:59.380Z"
   },
   {
    "duration": 29,
    "start_time": "2023-10-04T21:12:59.416Z"
   },
   {
    "duration": 31,
    "start_time": "2023-10-04T21:12:59.447Z"
   },
   {
    "duration": 55,
    "start_time": "2023-10-04T22:14:03.563Z"
   },
   {
    "duration": 1292,
    "start_time": "2023-10-04T22:14:19.123Z"
   },
   {
    "duration": 79,
    "start_time": "2023-10-04T22:14:20.418Z"
   },
   {
    "duration": 16,
    "start_time": "2023-10-04T22:14:20.499Z"
   },
   {
    "duration": 34,
    "start_time": "2023-10-04T22:14:20.517Z"
   },
   {
    "duration": 45,
    "start_time": "2023-10-04T22:14:20.554Z"
   },
   {
    "duration": 45,
    "start_time": "2023-10-04T22:14:20.601Z"
   },
   {
    "duration": 23,
    "start_time": "2023-10-04T22:14:20.648Z"
   },
   {
    "duration": 6,
    "start_time": "2023-10-04T22:14:20.673Z"
   },
   {
    "duration": 29,
    "start_time": "2023-10-04T22:14:20.681Z"
   },
   {
    "duration": 257,
    "start_time": "2023-10-04T22:14:20.712Z"
   },
   {
    "duration": 23,
    "start_time": "2023-10-04T22:14:20.970Z"
   },
   {
    "duration": 26,
    "start_time": "2023-10-04T22:14:20.994Z"
   },
   {
    "duration": 32,
    "start_time": "2023-10-04T22:14:21.021Z"
   },
   {
    "duration": 50,
    "start_time": "2023-10-04T22:14:21.056Z"
   },
   {
    "duration": 34,
    "start_time": "2023-10-04T22:14:21.108Z"
   },
   {
    "duration": 30,
    "start_time": "2023-10-04T22:14:21.144Z"
   },
   {
    "duration": 249,
    "start_time": "2023-10-04T22:14:21.175Z"
   },
   {
    "duration": 7,
    "start_time": "2023-10-04T22:14:21.426Z"
   },
   {
    "duration": 109,
    "start_time": "2023-10-04T22:14:21.443Z"
   },
   {
    "duration": 14,
    "start_time": "2023-10-04T22:14:21.554Z"
   },
   {
    "duration": 280,
    "start_time": "2023-10-04T22:14:21.570Z"
   },
   {
    "duration": 280,
    "start_time": "2023-10-04T22:14:21.852Z"
   },
   {
    "duration": 177,
    "start_time": "2023-10-04T22:14:22.134Z"
   },
   {
    "duration": 18,
    "start_time": "2023-10-04T22:14:22.313Z"
   },
   {
    "duration": 149,
    "start_time": "2023-10-04T22:14:22.333Z"
   },
   {
    "duration": 46,
    "start_time": "2023-10-04T22:14:22.484Z"
   },
   {
    "duration": 45,
    "start_time": "2023-10-04T22:14:22.531Z"
   },
   {
    "duration": 83,
    "start_time": "2023-10-04T22:14:22.578Z"
   },
   {
    "duration": 238,
    "start_time": "2023-10-04T22:14:22.663Z"
   },
   {
    "duration": 64,
    "start_time": "2023-10-04T22:14:22.903Z"
   },
   {
    "duration": 53,
    "start_time": "2023-10-04T22:14:22.969Z"
   },
   {
    "duration": 296,
    "start_time": "2023-10-04T22:14:23.023Z"
   },
   {
    "duration": 173,
    "start_time": "2023-10-04T22:14:23.321Z"
   },
   {
    "duration": 13,
    "start_time": "2023-10-04T22:14:23.496Z"
   },
   {
    "duration": 44,
    "start_time": "2023-10-04T22:14:23.511Z"
   },
   {
    "duration": 242,
    "start_time": "2023-10-04T22:14:23.556Z"
   },
   {
    "duration": 329,
    "start_time": "2023-10-04T22:14:23.801Z"
   },
   {
    "duration": 325,
    "start_time": "2023-10-04T22:14:24.132Z"
   },
   {
    "duration": 224,
    "start_time": "2023-10-04T22:14:24.460Z"
   },
   {
    "duration": 202,
    "start_time": "2023-10-04T22:14:24.686Z"
   },
   {
    "duration": 32,
    "start_time": "2023-10-04T22:14:24.893Z"
   },
   {
    "duration": 29,
    "start_time": "2023-10-04T22:14:24.926Z"
   },
   {
    "duration": 324,
    "start_time": "2023-10-04T22:14:24.956Z"
   },
   {
    "duration": 14,
    "start_time": "2023-10-04T22:14:25.282Z"
   },
   {
    "duration": 35,
    "start_time": "2023-10-04T22:14:25.298Z"
   },
   {
    "duration": 382,
    "start_time": "2023-10-04T22:14:25.335Z"
   },
   {
    "duration": 26,
    "start_time": "2023-10-04T22:14:25.719Z"
   },
   {
    "duration": 321,
    "start_time": "2023-10-04T22:14:25.747Z"
   },
   {
    "duration": 237,
    "start_time": "2023-10-04T22:14:26.070Z"
   },
   {
    "duration": 18,
    "start_time": "2023-10-04T22:14:26.310Z"
   },
   {
    "duration": 236,
    "start_time": "2023-10-04T22:14:26.343Z"
   },
   {
    "duration": 15,
    "start_time": "2023-10-04T22:14:26.581Z"
   },
   {
    "duration": 20,
    "start_time": "2023-10-04T22:14:26.598Z"
   },
   {
    "duration": 325,
    "start_time": "2023-10-04T22:14:26.620Z"
   },
   {
    "duration": 17,
    "start_time": "2023-10-04T22:14:26.946Z"
   },
   {
    "duration": 306,
    "start_time": "2023-10-04T22:14:26.965Z"
   },
   {
    "duration": 233,
    "start_time": "2023-10-04T22:14:27.273Z"
   },
   {
    "duration": 17,
    "start_time": "2023-10-04T22:14:27.508Z"
   },
   {
    "duration": 268,
    "start_time": "2023-10-04T22:14:27.527Z"
   },
   {
    "duration": 52,
    "start_time": "2023-10-04T22:14:27.797Z"
   },
   {
    "duration": 26,
    "start_time": "2023-10-04T22:14:27.851Z"
   },
   {
    "duration": 292,
    "start_time": "2023-10-04T22:14:27.879Z"
   },
   {
    "duration": 17,
    "start_time": "2023-10-04T22:14:28.172Z"
   },
   {
    "duration": 325,
    "start_time": "2023-10-04T22:14:28.191Z"
   },
   {
    "duration": 232,
    "start_time": "2023-10-04T22:14:28.518Z"
   },
   {
    "duration": 16,
    "start_time": "2023-10-04T22:14:28.752Z"
   },
   {
    "duration": 346,
    "start_time": "2023-10-04T22:14:28.770Z"
   },
   {
    "duration": 13,
    "start_time": "2023-10-04T22:14:29.118Z"
   },
   {
    "duration": 38,
    "start_time": "2023-10-04T22:14:29.133Z"
   },
   {
    "duration": 23,
    "start_time": "2023-10-04T22:14:29.173Z"
   },
   {
    "duration": 14,
    "start_time": "2023-10-04T22:14:29.198Z"
   },
   {
    "duration": 22,
    "start_time": "2023-10-04T22:14:29.214Z"
   },
   {
    "duration": 16,
    "start_time": "2023-10-04T22:14:29.238Z"
   },
   {
    "duration": 13,
    "start_time": "2023-10-04T22:14:29.256Z"
   },
   {
    "duration": 23,
    "start_time": "2023-10-04T22:19:34.695Z"
   },
   {
    "duration": 1418,
    "start_time": "2023-10-04T22:19:47.564Z"
   },
   {
    "duration": 79,
    "start_time": "2023-10-04T22:19:48.985Z"
   },
   {
    "duration": 17,
    "start_time": "2023-10-04T22:19:49.066Z"
   },
   {
    "duration": 11,
    "start_time": "2023-10-04T22:19:49.084Z"
   },
   {
    "duration": 16,
    "start_time": "2023-10-04T22:19:49.098Z"
   },
   {
    "duration": 34,
    "start_time": "2023-10-04T22:19:49.115Z"
   },
   {
    "duration": 25,
    "start_time": "2023-10-04T22:19:49.151Z"
   },
   {
    "duration": 94,
    "start_time": "2023-10-04T22:19:49.177Z"
   },
   {
    "duration": 107,
    "start_time": "2023-10-04T22:19:49.273Z"
   },
   {
    "duration": 329,
    "start_time": "2023-10-04T22:19:49.382Z"
   },
   {
    "duration": 20,
    "start_time": "2023-10-04T22:19:49.713Z"
   },
   {
    "duration": 11,
    "start_time": "2023-10-04T22:19:49.743Z"
   },
   {
    "duration": 19,
    "start_time": "2023-10-04T22:19:49.756Z"
   },
   {
    "duration": 15,
    "start_time": "2023-10-04T22:19:49.779Z"
   },
   {
    "duration": 8,
    "start_time": "2023-10-04T22:19:49.796Z"
   },
   {
    "duration": 11,
    "start_time": "2023-10-04T22:19:49.805Z"
   },
   {
    "duration": 242,
    "start_time": "2023-10-04T22:19:49.817Z"
   },
   {
    "duration": 10,
    "start_time": "2023-10-04T22:19:50.060Z"
   },
   {
    "duration": 216,
    "start_time": "2023-10-04T22:19:50.071Z"
   },
   {
    "duration": 80,
    "start_time": "2023-10-04T22:19:50.289Z"
   },
   {
    "duration": 702,
    "start_time": "2023-10-04T22:19:50.371Z"
   },
   {
    "duration": 675,
    "start_time": "2023-10-04T22:19:51.075Z"
   },
   {
    "duration": 334,
    "start_time": "2023-10-04T22:19:51.752Z"
   },
   {
    "duration": 71,
    "start_time": "2023-10-04T22:19:52.088Z"
   },
   {
    "duration": 386,
    "start_time": "2023-10-04T22:19:52.162Z"
   },
   {
    "duration": 116,
    "start_time": "2023-10-04T22:19:52.551Z"
   },
   {
    "duration": 15,
    "start_time": "2023-10-04T22:19:52.669Z"
   },
   {
    "duration": 283,
    "start_time": "2023-10-04T22:19:52.685Z"
   },
   {
    "duration": 584,
    "start_time": "2023-10-04T22:19:52.970Z"
   },
   {
    "duration": 109,
    "start_time": "2023-10-04T22:19:53.556Z"
   },
   {
    "duration": 87,
    "start_time": "2023-10-04T22:19:53.666Z"
   },
   {
    "duration": 517,
    "start_time": "2023-10-04T22:19:53.756Z"
   },
   {
    "duration": 85,
    "start_time": "2023-10-04T22:19:54.275Z"
   },
   {
    "duration": 257,
    "start_time": "2023-10-04T22:19:54.362Z"
   },
   {
    "duration": 15,
    "start_time": "2023-10-04T22:19:54.621Z"
   },
   {
    "duration": 53,
    "start_time": "2023-10-04T22:19:54.638Z"
   },
   {
    "duration": 243,
    "start_time": "2023-10-04T22:19:54.693Z"
   },
   {
    "duration": 527,
    "start_time": "2023-10-04T22:19:54.937Z"
   },
   {
    "duration": 781,
    "start_time": "2023-10-04T22:19:55.466Z"
   },
   {
    "duration": 411,
    "start_time": "2023-10-04T22:19:56.249Z"
   },
   {
    "duration": 479,
    "start_time": "2023-10-04T22:19:56.665Z"
   },
   {
    "duration": 36,
    "start_time": "2023-10-04T22:19:57.152Z"
   },
   {
    "duration": 79,
    "start_time": "2023-10-04T22:19:57.190Z"
   },
   {
    "duration": 700,
    "start_time": "2023-10-04T22:19:57.271Z"
   },
   {
    "duration": 14,
    "start_time": "2023-10-04T22:19:57.973Z"
   },
   {
    "duration": 21,
    "start_time": "2023-10-04T22:19:57.989Z"
   },
   {
    "duration": 405,
    "start_time": "2023-10-04T22:19:58.011Z"
   },
   {
    "duration": 27,
    "start_time": "2023-10-04T22:19:58.418Z"
   },
   {
    "duration": 344,
    "start_time": "2023-10-04T22:19:58.448Z"
   },
   {
    "duration": 267,
    "start_time": "2023-10-04T22:19:58.794Z"
   },
   {
    "duration": 25,
    "start_time": "2023-10-04T22:19:59.063Z"
   },
   {
    "duration": 285,
    "start_time": "2023-10-04T22:19:59.091Z"
   },
   {
    "duration": 14,
    "start_time": "2023-10-04T22:19:59.378Z"
   },
   {
    "duration": 18,
    "start_time": "2023-10-04T22:19:59.394Z"
   },
   {
    "duration": 347,
    "start_time": "2023-10-04T22:19:59.414Z"
   },
   {
    "duration": 16,
    "start_time": "2023-10-04T22:19:59.763Z"
   },
   {
    "duration": 329,
    "start_time": "2023-10-04T22:19:59.780Z"
   },
   {
    "duration": 257,
    "start_time": "2023-10-04T22:20:00.111Z"
   },
   {
    "duration": 18,
    "start_time": "2023-10-04T22:20:00.371Z"
   },
   {
    "duration": 271,
    "start_time": "2023-10-04T22:20:00.391Z"
   },
   {
    "duration": 16,
    "start_time": "2023-10-04T22:20:00.664Z"
   },
   {
    "duration": 46,
    "start_time": "2023-10-04T22:20:00.681Z"
   },
   {
    "duration": 376,
    "start_time": "2023-10-04T22:20:00.729Z"
   },
   {
    "duration": 17,
    "start_time": "2023-10-04T22:20:01.107Z"
   },
   {
    "duration": 345,
    "start_time": "2023-10-04T22:20:01.126Z"
   },
   {
    "duration": 241,
    "start_time": "2023-10-04T22:20:01.473Z"
   },
   {
    "duration": 32,
    "start_time": "2023-10-04T22:20:01.715Z"
   },
   {
    "duration": 664,
    "start_time": "2023-10-04T22:20:01.749Z"
   },
   {
    "duration": 19,
    "start_time": "2023-10-04T22:20:02.415Z"
   },
   {
    "duration": 86,
    "start_time": "2023-10-04T22:20:02.436Z"
   },
   {
    "duration": 284,
    "start_time": "2023-10-04T22:20:02.524Z"
   },
   {
    "duration": 254,
    "start_time": "2023-10-04T22:20:02.810Z"
   },
   {
    "duration": 93,
    "start_time": "2023-10-04T22:20:03.066Z"
   },
   {
    "duration": 18,
    "start_time": "2023-10-04T22:20:03.161Z"
   },
   {
    "duration": 14,
    "start_time": "2023-10-04T22:20:03.181Z"
   },
   {
    "duration": 9,
    "start_time": "2023-10-04T22:26:48.756Z"
   },
   {
    "duration": 63,
    "start_time": "2023-10-05T09:34:55.217Z"
   },
   {
    "duration": 1732,
    "start_time": "2023-10-05T09:35:03.554Z"
   },
   {
    "duration": 145,
    "start_time": "2023-10-05T09:35:05.288Z"
   },
   {
    "duration": 24,
    "start_time": "2023-10-05T09:35:05.435Z"
   },
   {
    "duration": 339,
    "start_time": "2023-10-05T09:35:05.462Z"
   },
   {
    "duration": 376,
    "start_time": "2023-10-05T09:35:05.803Z"
   },
   {
    "duration": 294,
    "start_time": "2023-10-05T09:35:06.181Z"
   },
   {
    "duration": 615,
    "start_time": "2023-10-05T09:35:06.477Z"
   },
   {
    "duration": 28,
    "start_time": "2023-10-05T09:35:07.094Z"
   },
   {
    "duration": 37,
    "start_time": "2023-10-05T09:35:07.124Z"
   },
   {
    "duration": 273,
    "start_time": "2023-10-05T09:35:07.164Z"
   },
   {
    "duration": 23,
    "start_time": "2023-10-05T09:35:07.439Z"
   },
   {
    "duration": 21,
    "start_time": "2023-10-05T09:35:07.463Z"
   },
   {
    "duration": 31,
    "start_time": "2023-10-05T09:35:07.486Z"
   },
   {
    "duration": 41,
    "start_time": "2023-10-05T09:35:07.520Z"
   },
   {
    "duration": 33,
    "start_time": "2023-10-05T09:35:07.562Z"
   },
   {
    "duration": 35,
    "start_time": "2023-10-05T09:35:07.597Z"
   },
   {
    "duration": 293,
    "start_time": "2023-10-05T09:35:07.634Z"
   },
   {
    "duration": 8,
    "start_time": "2023-10-05T09:35:07.928Z"
   },
   {
    "duration": 144,
    "start_time": "2023-10-05T09:35:07.938Z"
   },
   {
    "duration": 25,
    "start_time": "2023-10-05T09:35:08.084Z"
   },
   {
    "duration": 473,
    "start_time": "2023-10-05T09:35:08.114Z"
   },
   {
    "duration": 338,
    "start_time": "2023-10-05T09:35:08.589Z"
   },
   {
    "duration": 225,
    "start_time": "2023-10-05T09:35:08.929Z"
   },
   {
    "duration": 10,
    "start_time": "2023-10-05T09:35:09.156Z"
   },
   {
    "duration": 354,
    "start_time": "2023-10-05T09:35:09.168Z"
   },
   {
    "duration": 236,
    "start_time": "2023-10-05T09:35:09.523Z"
   },
   {
    "duration": 18,
    "start_time": "2023-10-05T09:35:09.762Z"
   },
   {
    "duration": 133,
    "start_time": "2023-10-05T09:35:09.785Z"
   },
   {
    "duration": 256,
    "start_time": "2023-10-05T09:35:09.920Z"
   },
   {
    "duration": 51,
    "start_time": "2023-10-05T09:35:10.178Z"
   },
   {
    "duration": 45,
    "start_time": "2023-10-05T09:35:10.231Z"
   },
   {
    "duration": 276,
    "start_time": "2023-10-05T09:35:10.278Z"
   },
   {
    "duration": 25,
    "start_time": "2023-10-05T09:35:10.557Z"
   },
   {
    "duration": 207,
    "start_time": "2023-10-05T09:35:10.584Z"
   },
   {
    "duration": 24,
    "start_time": "2023-10-05T09:35:10.793Z"
   },
   {
    "duration": 141,
    "start_time": "2023-10-05T09:35:10.820Z"
   },
   {
    "duration": 256,
    "start_time": "2023-10-05T09:35:10.963Z"
   },
   {
    "duration": 374,
    "start_time": "2023-10-05T09:35:11.221Z"
   },
   {
    "duration": 374,
    "start_time": "2023-10-05T09:35:11.602Z"
   },
   {
    "duration": 257,
    "start_time": "2023-10-05T09:35:11.979Z"
   },
   {
    "duration": 259,
    "start_time": "2023-10-05T09:35:12.238Z"
   },
   {
    "duration": 40,
    "start_time": "2023-10-05T09:35:12.499Z"
   },
   {
    "duration": 30,
    "start_time": "2023-10-05T09:35:12.542Z"
   },
   {
    "duration": 425,
    "start_time": "2023-10-05T09:35:12.574Z"
   },
   {
    "duration": 25,
    "start_time": "2023-10-05T09:35:13.001Z"
   },
   {
    "duration": 62,
    "start_time": "2023-10-05T09:35:13.028Z"
   },
   {
    "duration": 446,
    "start_time": "2023-10-05T09:35:13.093Z"
   },
   {
    "duration": 19,
    "start_time": "2023-10-05T09:35:13.541Z"
   },
   {
    "duration": 418,
    "start_time": "2023-10-05T09:35:13.562Z"
   },
   {
    "duration": 311,
    "start_time": "2023-10-05T09:35:13.983Z"
   },
   {
    "duration": 25,
    "start_time": "2023-10-05T09:35:14.301Z"
   },
   {
    "duration": 445,
    "start_time": "2023-10-05T09:35:14.330Z"
   },
   {
    "duration": 33,
    "start_time": "2023-10-05T09:35:14.777Z"
   },
   {
    "duration": 56,
    "start_time": "2023-10-05T09:35:14.812Z"
   },
   {
    "duration": 377,
    "start_time": "2023-10-05T09:35:14.870Z"
   },
   {
    "duration": 19,
    "start_time": "2023-10-05T09:35:15.250Z"
   },
   {
    "duration": 370,
    "start_time": "2023-10-05T09:35:15.271Z"
   },
   {
    "duration": 309,
    "start_time": "2023-10-05T09:35:15.643Z"
   },
   {
    "duration": 20,
    "start_time": "2023-10-05T09:35:15.954Z"
   },
   {
    "duration": 266,
    "start_time": "2023-10-05T09:35:15.975Z"
   },
   {
    "duration": 15,
    "start_time": "2023-10-05T09:35:16.243Z"
   },
   {
    "duration": 57,
    "start_time": "2023-10-05T09:35:16.260Z"
   },
   {
    "duration": 517,
    "start_time": "2023-10-05T09:35:16.319Z"
   },
   {
    "duration": 80,
    "start_time": "2023-10-05T09:35:16.838Z"
   },
   {
    "duration": 897,
    "start_time": "2023-10-05T09:35:16.920Z"
   },
   {
    "duration": 588,
    "start_time": "2023-10-05T09:35:17.819Z"
   },
   {
    "duration": 18,
    "start_time": "2023-10-05T09:35:18.414Z"
   },
   {
    "duration": 72,
    "start_time": "2023-10-05T09:35:18.434Z"
   },
   {
    "duration": 605,
    "start_time": "2023-10-05T09:35:18.509Z"
   },
   {
    "duration": 16,
    "start_time": "2023-10-05T09:35:19.116Z"
   },
   {
    "duration": 40,
    "start_time": "2023-10-05T09:35:19.134Z"
   },
   {
    "duration": 45,
    "start_time": "2023-10-05T09:35:19.175Z"
   },
   {
    "duration": 36,
    "start_time": "2023-10-05T09:35:19.222Z"
   },
   {
    "duration": 29,
    "start_time": "2023-10-05T09:35:19.261Z"
   },
   {
    "duration": 128,
    "start_time": "2023-10-05T09:35:19.292Z"
   },
   {
    "duration": 65,
    "start_time": "2023-10-05T09:35:19.422Z"
   },
   {
    "duration": 249,
    "start_time": "2023-10-05T09:35:25.986Z"
   },
   {
    "duration": 1348,
    "start_time": "2023-10-05T09:35:38.719Z"
   },
   {
    "duration": 81,
    "start_time": "2023-10-05T09:35:40.069Z"
   },
   {
    "duration": 102,
    "start_time": "2023-10-05T09:35:40.151Z"
   },
   {
    "duration": 15,
    "start_time": "2023-10-05T09:35:40.255Z"
   },
   {
    "duration": 38,
    "start_time": "2023-10-05T09:35:40.273Z"
   },
   {
    "duration": 29,
    "start_time": "2023-10-05T09:35:40.318Z"
   },
   {
    "duration": 16,
    "start_time": "2023-10-05T09:35:40.349Z"
   },
   {
    "duration": 22,
    "start_time": "2023-10-05T09:35:40.367Z"
   },
   {
    "duration": 53,
    "start_time": "2023-10-05T09:35:40.390Z"
   },
   {
    "duration": 311,
    "start_time": "2023-10-05T09:35:40.444Z"
   },
   {
    "duration": 23,
    "start_time": "2023-10-05T09:35:40.758Z"
   },
   {
    "duration": 32,
    "start_time": "2023-10-05T09:35:40.783Z"
   },
   {
    "duration": 12,
    "start_time": "2023-10-05T09:35:40.816Z"
   },
   {
    "duration": 32,
    "start_time": "2023-10-05T09:35:40.831Z"
   },
   {
    "duration": 23,
    "start_time": "2023-10-05T09:35:40.865Z"
   },
   {
    "duration": 23,
    "start_time": "2023-10-05T09:35:40.890Z"
   },
   {
    "duration": 305,
    "start_time": "2023-10-05T09:35:40.915Z"
   },
   {
    "duration": 7,
    "start_time": "2023-10-05T09:35:41.223Z"
   },
   {
    "duration": 130,
    "start_time": "2023-10-05T09:35:41.231Z"
   },
   {
    "duration": 16,
    "start_time": "2023-10-05T09:35:41.362Z"
   },
   {
    "duration": 304,
    "start_time": "2023-10-05T09:35:41.380Z"
   },
   {
    "duration": 310,
    "start_time": "2023-10-05T09:35:41.686Z"
   },
   {
    "duration": 218,
    "start_time": "2023-10-05T09:35:42.001Z"
   },
   {
    "duration": 8,
    "start_time": "2023-10-05T09:35:42.222Z"
   },
   {
    "duration": 139,
    "start_time": "2023-10-05T09:35:42.232Z"
   },
   {
    "duration": 65,
    "start_time": "2023-10-05T09:35:42.373Z"
   },
   {
    "duration": 17,
    "start_time": "2023-10-05T09:35:42.440Z"
   },
   {
    "duration": 139,
    "start_time": "2023-10-05T09:35:42.459Z"
   },
   {
    "duration": 257,
    "start_time": "2023-10-05T09:35:42.605Z"
   },
   {
    "duration": 64,
    "start_time": "2023-10-05T09:35:42.865Z"
   },
   {
    "duration": 56,
    "start_time": "2023-10-05T09:35:42.931Z"
   },
   {
    "duration": 259,
    "start_time": "2023-10-05T09:35:43.002Z"
   },
   {
    "duration": 58,
    "start_time": "2023-10-05T09:35:43.264Z"
   },
   {
    "duration": 211,
    "start_time": "2023-10-05T09:35:43.325Z"
   },
   {
    "duration": 16,
    "start_time": "2023-10-05T09:35:43.538Z"
   },
   {
    "duration": 52,
    "start_time": "2023-10-05T09:35:43.556Z"
   },
   {
    "duration": 237,
    "start_time": "2023-10-05T09:35:43.610Z"
   },
   {
    "duration": 386,
    "start_time": "2023-10-05T09:35:43.850Z"
   },
   {
    "duration": 888,
    "start_time": "2023-10-05T09:35:44.238Z"
   },
   {
    "duration": 492,
    "start_time": "2023-10-05T09:35:45.128Z"
   },
   {
    "duration": 411,
    "start_time": "2023-10-05T09:35:45.625Z"
   },
   {
    "duration": 92,
    "start_time": "2023-10-05T09:35:46.038Z"
   },
   {
    "duration": 77,
    "start_time": "2023-10-05T09:35:46.133Z"
   },
   {
    "duration": 691,
    "start_time": "2023-10-05T09:35:46.211Z"
   },
   {
    "duration": 27,
    "start_time": "2023-10-05T09:35:46.904Z"
   },
   {
    "duration": 21,
    "start_time": "2023-10-05T09:35:46.933Z"
   },
   {
    "duration": 420,
    "start_time": "2023-10-05T09:35:46.956Z"
   },
   {
    "duration": 38,
    "start_time": "2023-10-05T09:35:47.378Z"
   },
   {
    "duration": 485,
    "start_time": "2023-10-05T09:35:47.422Z"
   },
   {
    "duration": 266,
    "start_time": "2023-10-05T09:35:47.912Z"
   },
   {
    "duration": 38,
    "start_time": "2023-10-05T09:35:48.180Z"
   },
   {
    "duration": 333,
    "start_time": "2023-10-05T09:35:48.219Z"
   },
   {
    "duration": 17,
    "start_time": "2023-10-05T09:35:48.553Z"
   },
   {
    "duration": 63,
    "start_time": "2023-10-05T09:35:48.572Z"
   },
   {
    "duration": 379,
    "start_time": "2023-10-05T09:35:48.638Z"
   },
   {
    "duration": 20,
    "start_time": "2023-10-05T09:35:49.019Z"
   },
   {
    "duration": 370,
    "start_time": "2023-10-05T09:35:49.041Z"
   },
   {
    "duration": 276,
    "start_time": "2023-10-05T09:35:49.417Z"
   },
   {
    "duration": 37,
    "start_time": "2023-10-05T09:35:49.696Z"
   },
   {
    "duration": 259,
    "start_time": "2023-10-05T09:35:49.736Z"
   },
   {
    "duration": 25,
    "start_time": "2023-10-05T09:35:50.001Z"
   },
   {
    "duration": 207,
    "start_time": "2023-10-05T09:35:50.029Z"
   },
   {
    "duration": 329,
    "start_time": "2023-10-05T09:35:50.238Z"
   },
   {
    "duration": 36,
    "start_time": "2023-10-05T09:35:50.569Z"
   },
   {
    "duration": 357,
    "start_time": "2023-10-05T09:35:50.614Z"
   },
   {
    "duration": 284,
    "start_time": "2023-10-05T09:35:50.972Z"
   },
   {
    "duration": 18,
    "start_time": "2023-10-05T09:35:51.257Z"
   },
   {
    "duration": 55,
    "start_time": "2023-10-05T09:35:51.278Z"
   },
   {
    "duration": 397,
    "start_time": "2023-10-05T09:35:51.335Z"
   },
   {
    "duration": 16,
    "start_time": "2023-10-05T09:35:51.734Z"
   },
   {
    "duration": 70,
    "start_time": "2023-10-05T09:35:51.752Z"
   },
   {
    "duration": 32,
    "start_time": "2023-10-05T09:35:51.823Z"
   },
   {
    "duration": 52,
    "start_time": "2023-10-05T09:35:51.856Z"
   },
   {
    "duration": 43,
    "start_time": "2023-10-05T09:35:51.916Z"
   },
   {
    "duration": 25,
    "start_time": "2023-10-05T09:35:51.960Z"
   },
   {
    "duration": 31,
    "start_time": "2023-10-05T09:35:51.987Z"
   },
   {
    "duration": 12,
    "start_time": "2023-10-05T09:41:22.555Z"
   },
   {
    "duration": 9,
    "start_time": "2023-10-05T09:41:25.829Z"
   },
   {
    "duration": 1501,
    "start_time": "2023-10-05T09:41:44.073Z"
   },
   {
    "duration": 93,
    "start_time": "2023-10-05T09:41:45.576Z"
   },
   {
    "duration": 18,
    "start_time": "2023-10-05T09:41:45.671Z"
   },
   {
    "duration": 33,
    "start_time": "2023-10-05T09:41:45.705Z"
   },
   {
    "duration": 39,
    "start_time": "2023-10-05T09:41:45.740Z"
   },
   {
    "duration": 47,
    "start_time": "2023-10-05T09:41:45.781Z"
   },
   {
    "duration": 30,
    "start_time": "2023-10-05T09:41:45.830Z"
   },
   {
    "duration": 53,
    "start_time": "2023-10-05T09:41:45.862Z"
   },
   {
    "duration": 11,
    "start_time": "2023-10-05T09:41:45.922Z"
   },
   {
    "duration": 13,
    "start_time": "2023-10-05T09:41:45.943Z"
   },
   {
    "duration": 326,
    "start_time": "2023-10-05T09:41:45.959Z"
   },
   {
    "duration": 45,
    "start_time": "2023-10-05T09:41:46.287Z"
   },
   {
    "duration": 9,
    "start_time": "2023-10-05T09:41:46.334Z"
   },
   {
    "duration": 54,
    "start_time": "2023-10-05T09:41:46.346Z"
   },
   {
    "duration": 78,
    "start_time": "2023-10-05T09:41:46.408Z"
   },
   {
    "duration": 22,
    "start_time": "2023-10-05T09:41:46.488Z"
   },
   {
    "duration": 113,
    "start_time": "2023-10-05T09:41:46.512Z"
   },
   {
    "duration": 310,
    "start_time": "2023-10-05T09:41:46.627Z"
   },
   {
    "duration": 9,
    "start_time": "2023-10-05T09:41:46.939Z"
   },
   {
    "duration": 172,
    "start_time": "2023-10-05T09:41:46.950Z"
   },
   {
    "duration": 26,
    "start_time": "2023-10-05T09:41:47.129Z"
   },
   {
    "duration": 367,
    "start_time": "2023-10-05T09:41:47.157Z"
   },
   {
    "duration": 348,
    "start_time": "2023-10-05T09:41:47.527Z"
   },
   {
    "duration": 217,
    "start_time": "2023-10-05T09:41:47.877Z"
   },
   {
    "duration": 23,
    "start_time": "2023-10-05T09:41:48.096Z"
   },
   {
    "duration": 168,
    "start_time": "2023-10-05T09:41:48.122Z"
   },
   {
    "duration": 75,
    "start_time": "2023-10-05T09:41:48.292Z"
   },
   {
    "duration": 43,
    "start_time": "2023-10-05T09:41:48.373Z"
   },
   {
    "duration": 198,
    "start_time": "2023-10-05T09:41:48.424Z"
   },
   {
    "duration": 339,
    "start_time": "2023-10-05T09:41:48.623Z"
   },
   {
    "duration": 43,
    "start_time": "2023-10-05T09:41:48.963Z"
   },
   {
    "duration": 169,
    "start_time": "2023-10-05T09:41:49.009Z"
   },
   {
    "duration": 375,
    "start_time": "2023-10-05T09:41:49.180Z"
   },
   {
    "duration": 67,
    "start_time": "2023-10-05T09:41:49.557Z"
   },
   {
    "duration": 270,
    "start_time": "2023-10-05T09:41:49.626Z"
   },
   {
    "duration": 18,
    "start_time": "2023-10-05T09:41:49.897Z"
   },
   {
    "duration": 204,
    "start_time": "2023-10-05T09:41:49.917Z"
   },
   {
    "duration": 590,
    "start_time": "2023-10-05T09:41:50.124Z"
   },
   {
    "duration": 356,
    "start_time": "2023-10-05T09:41:50.716Z"
   },
   {
    "duration": 412,
    "start_time": "2023-10-05T09:41:51.074Z"
   },
   {
    "duration": 230,
    "start_time": "2023-10-05T09:41:51.488Z"
   },
   {
    "duration": 232,
    "start_time": "2023-10-05T09:41:51.723Z"
   },
   {
    "duration": 51,
    "start_time": "2023-10-05T09:41:51.957Z"
   },
   {
    "duration": 23,
    "start_time": "2023-10-05T09:41:52.010Z"
   },
   {
    "duration": 368,
    "start_time": "2023-10-05T09:41:52.035Z"
   },
   {
    "duration": 26,
    "start_time": "2023-10-05T09:41:52.407Z"
   },
   {
    "duration": 108,
    "start_time": "2023-10-05T09:41:52.436Z"
   },
   {
    "duration": 489,
    "start_time": "2023-10-05T09:41:52.547Z"
   },
   {
    "duration": 23,
    "start_time": "2023-10-05T09:41:53.039Z"
   },
   {
    "duration": 394,
    "start_time": "2023-10-05T09:41:53.064Z"
   },
   {
    "duration": 317,
    "start_time": "2023-10-05T09:41:53.460Z"
   },
   {
    "duration": 34,
    "start_time": "2023-10-05T09:41:53.779Z"
   },
   {
    "duration": 424,
    "start_time": "2023-10-05T09:41:53.819Z"
   },
   {
    "duration": 685,
    "start_time": "2023-10-05T09:41:54.245Z"
   },
   {
    "duration": 170,
    "start_time": "2023-10-05T09:41:54.932Z"
   },
   {
    "duration": 421,
    "start_time": "2023-10-05T09:41:55.107Z"
   },
   {
    "duration": 23,
    "start_time": "2023-10-05T09:41:55.531Z"
   },
   {
    "duration": 407,
    "start_time": "2023-10-05T09:41:55.556Z"
   },
   {
    "duration": 320,
    "start_time": "2023-10-05T09:41:55.965Z"
   },
   {
    "duration": 39,
    "start_time": "2023-10-05T09:41:56.287Z"
   },
   {
    "duration": 318,
    "start_time": "2023-10-05T09:41:56.329Z"
   },
   {
    "duration": 19,
    "start_time": "2023-10-05T09:41:56.650Z"
   },
   {
    "duration": 45,
    "start_time": "2023-10-05T09:41:56.672Z"
   },
   {
    "duration": 409,
    "start_time": "2023-10-05T09:41:56.721Z"
   },
   {
    "duration": 20,
    "start_time": "2023-10-05T09:41:57.132Z"
   },
   {
    "duration": 455,
    "start_time": "2023-10-05T09:41:57.154Z"
   },
   {
    "duration": 275,
    "start_time": "2023-10-05T09:41:57.612Z"
   },
   {
    "duration": 38,
    "start_time": "2023-10-05T09:41:57.890Z"
   },
   {
    "duration": 13,
    "start_time": "2023-10-05T09:41:57.930Z"
   },
   {
    "duration": 487,
    "start_time": "2023-10-05T09:41:57.945Z"
   },
   {
    "duration": 17,
    "start_time": "2023-10-05T09:41:58.434Z"
   },
   {
    "duration": 69,
    "start_time": "2023-10-05T09:41:58.453Z"
   },
   {
    "duration": 52,
    "start_time": "2023-10-05T09:41:58.525Z"
   },
   {
    "duration": 26,
    "start_time": "2023-10-05T09:41:58.579Z"
   },
   {
    "duration": 41,
    "start_time": "2023-10-05T09:41:58.609Z"
   },
   {
    "duration": 52,
    "start_time": "2023-10-05T09:41:58.652Z"
   },
   {
    "duration": 25,
    "start_time": "2023-10-05T09:41:58.707Z"
   },
   {
    "duration": 2141,
    "start_time": "2023-10-05T09:45:09.915Z"
   },
   {
    "duration": 6,
    "start_time": "2023-10-05T09:45:19.218Z"
   },
   {
    "duration": 6,
    "start_time": "2023-10-05T09:46:07.723Z"
   },
   {
    "duration": 5,
    "start_time": "2023-10-05T09:46:24.041Z"
   },
   {
    "duration": 10,
    "start_time": "2023-10-05T09:46:42.847Z"
   },
   {
    "duration": 7,
    "start_time": "2023-10-05T09:46:48.929Z"
   },
   {
    "duration": 15,
    "start_time": "2023-10-05T09:54:31.716Z"
   },
   {
    "duration": 9,
    "start_time": "2023-10-05T09:55:17.928Z"
   },
   {
    "duration": 11,
    "start_time": "2023-10-05T09:55:36.271Z"
   },
   {
    "duration": 8,
    "start_time": "2023-10-05T09:55:57.425Z"
   },
   {
    "duration": 6,
    "start_time": "2023-10-05T09:56:42.542Z"
   },
   {
    "duration": 7,
    "start_time": "2023-10-05T10:02:09.229Z"
   },
   {
    "duration": 6,
    "start_time": "2023-10-05T10:02:24.333Z"
   },
   {
    "duration": 1307,
    "start_time": "2023-10-05T10:04:52.547Z"
   },
   {
    "duration": 78,
    "start_time": "2023-10-05T10:04:53.856Z"
   },
   {
    "duration": 130,
    "start_time": "2023-10-05T10:04:53.936Z"
   },
   {
    "duration": 255,
    "start_time": "2023-10-05T10:04:54.068Z"
   },
   {
    "duration": 48,
    "start_time": "2023-10-05T10:04:54.325Z"
   },
   {
    "duration": 58,
    "start_time": "2023-10-05T10:04:54.375Z"
   },
   {
    "duration": 16,
    "start_time": "2023-10-05T10:04:54.435Z"
   },
   {
    "duration": 73,
    "start_time": "2023-10-05T10:04:54.454Z"
   },
   {
    "duration": 30,
    "start_time": "2023-10-05T10:04:54.529Z"
   },
   {
    "duration": 64,
    "start_time": "2023-10-05T10:04:54.563Z"
   },
   {
    "duration": 48,
    "start_time": "2023-10-05T10:04:54.629Z"
   },
   {
    "duration": 53,
    "start_time": "2023-10-05T10:04:54.679Z"
   },
   {
    "duration": 61,
    "start_time": "2023-10-05T10:04:54.735Z"
   },
   {
    "duration": 340,
    "start_time": "2023-10-05T10:04:54.798Z"
   },
   {
    "duration": 23,
    "start_time": "2023-10-05T10:04:55.140Z"
   },
   {
    "duration": 16,
    "start_time": "2023-10-05T10:04:55.165Z"
   },
   {
    "duration": 42,
    "start_time": "2023-10-05T10:04:55.183Z"
   },
   {
    "duration": 77,
    "start_time": "2023-10-05T10:04:55.226Z"
   },
   {
    "duration": 41,
    "start_time": "2023-10-05T10:04:55.305Z"
   },
   {
    "duration": 73,
    "start_time": "2023-10-05T10:04:55.348Z"
   },
   {
    "duration": 296,
    "start_time": "2023-10-05T10:04:55.422Z"
   },
   {
    "duration": 13,
    "start_time": "2023-10-05T10:04:55.720Z"
   },
   {
    "duration": 135,
    "start_time": "2023-10-05T10:04:55.734Z"
   },
   {
    "duration": 13,
    "start_time": "2023-10-05T10:04:55.871Z"
   },
   {
    "duration": 337,
    "start_time": "2023-10-05T10:04:55.886Z"
   },
   {
    "duration": 319,
    "start_time": "2023-10-05T10:04:56.225Z"
   },
   {
    "duration": 189,
    "start_time": "2023-10-05T10:04:56.545Z"
   },
   {
    "duration": 99,
    "start_time": "2023-10-05T10:04:56.739Z"
   },
   {
    "duration": 199,
    "start_time": "2023-10-05T10:04:56.840Z"
   },
   {
    "duration": 60,
    "start_time": "2023-10-05T10:04:57.041Z"
   },
   {
    "duration": 67,
    "start_time": "2023-10-05T10:04:57.103Z"
   },
   {
    "duration": 117,
    "start_time": "2023-10-05T10:04:57.172Z"
   },
   {
    "duration": 272,
    "start_time": "2023-10-05T10:04:57.301Z"
   },
   {
    "duration": 54,
    "start_time": "2023-10-05T10:04:57.575Z"
   },
   {
    "duration": 56,
    "start_time": "2023-10-05T10:04:57.631Z"
   },
   {
    "duration": 328,
    "start_time": "2023-10-05T10:04:57.689Z"
   },
   {
    "duration": 26,
    "start_time": "2023-10-05T10:04:58.019Z"
   },
   {
    "duration": 244,
    "start_time": "2023-10-05T10:04:58.047Z"
   },
   {
    "duration": 20,
    "start_time": "2023-10-05T10:04:58.293Z"
   },
   {
    "duration": 34,
    "start_time": "2023-10-05T10:04:58.321Z"
   },
   {
    "duration": 283,
    "start_time": "2023-10-05T10:04:58.357Z"
   },
   {
    "duration": 340,
    "start_time": "2023-10-05T10:04:58.642Z"
   },
   {
    "duration": 357,
    "start_time": "2023-10-05T10:04:58.984Z"
   },
   {
    "duration": 197,
    "start_time": "2023-10-05T10:04:59.343Z"
   },
   {
    "duration": 197,
    "start_time": "2023-10-05T10:04:59.542Z"
   },
   {
    "duration": 30,
    "start_time": "2023-10-05T10:04:59.741Z"
   },
   {
    "duration": 35,
    "start_time": "2023-10-05T10:04:59.773Z"
   },
   {
    "duration": 342,
    "start_time": "2023-10-05T10:04:59.813Z"
   },
   {
    "duration": 15,
    "start_time": "2023-10-05T10:05:00.157Z"
   },
   {
    "duration": 609,
    "start_time": "2023-10-05T10:05:00.174Z"
   },
   {
    "duration": 1878,
    "start_time": "2023-10-05T10:05:00.785Z"
   },
   {
    "duration": 21,
    "start_time": "2023-10-05T10:05:02.665Z"
   },
   {
    "duration": 677,
    "start_time": "2023-10-05T10:05:02.687Z"
   },
   {
    "duration": 271,
    "start_time": "2023-10-05T10:05:03.366Z"
   },
   {
    "duration": 18,
    "start_time": "2023-10-05T10:05:03.639Z"
   },
   {
    "duration": 310,
    "start_time": "2023-10-05T10:05:03.659Z"
   },
   {
    "duration": 16,
    "start_time": "2023-10-05T10:05:03.971Z"
   },
   {
    "duration": 77,
    "start_time": "2023-10-05T10:05:04.001Z"
   },
   {
    "duration": 406,
    "start_time": "2023-10-05T10:05:04.080Z"
   },
   {
    "duration": 33,
    "start_time": "2023-10-05T10:05:04.488Z"
   },
   {
    "duration": 438,
    "start_time": "2023-10-05T10:05:04.524Z"
   },
   {
    "duration": 273,
    "start_time": "2023-10-05T10:05:04.963Z"
   },
   {
    "duration": 171,
    "start_time": "2023-10-05T10:05:05.239Z"
   },
   {
    "duration": 313,
    "start_time": "2023-10-05T10:05:05.412Z"
   },
   {
    "duration": 22,
    "start_time": "2023-10-05T10:05:05.727Z"
   },
   {
    "duration": 75,
    "start_time": "2023-10-05T10:05:05.751Z"
   },
   {
    "duration": 380,
    "start_time": "2023-10-05T10:05:05.830Z"
   },
   {
    "duration": 23,
    "start_time": "2023-10-05T10:05:06.211Z"
   },
   {
    "duration": 369,
    "start_time": "2023-10-05T10:05:06.236Z"
   },
   {
    "duration": 249,
    "start_time": "2023-10-05T10:05:06.607Z"
   },
   {
    "duration": 17,
    "start_time": "2023-10-05T10:05:06.858Z"
   },
   {
    "duration": 71,
    "start_time": "2023-10-05T10:05:06.877Z"
   },
   {
    "duration": 385,
    "start_time": "2023-10-05T10:05:06.950Z"
   },
   {
    "duration": 16,
    "start_time": "2023-10-05T10:05:07.336Z"
   },
   {
    "duration": 63,
    "start_time": "2023-10-05T10:05:07.353Z"
   },
   {
    "duration": 57,
    "start_time": "2023-10-05T10:05:07.419Z"
   },
   {
    "duration": 46,
    "start_time": "2023-10-05T10:05:07.479Z"
   },
   {
    "duration": 18,
    "start_time": "2023-10-05T10:05:07.527Z"
   },
   {
    "duration": 28,
    "start_time": "2023-10-05T10:05:07.547Z"
   },
   {
    "duration": 27,
    "start_time": "2023-10-05T10:05:07.577Z"
   },
   {
    "duration": 51,
    "start_time": "2023-10-06T17:35:59.094Z"
   },
   {
    "duration": 1453,
    "start_time": "2023-10-06T17:36:04.942Z"
   },
   {
    "duration": 452,
    "start_time": "2023-10-06T17:36:06.398Z"
   },
   {
    "duration": 16,
    "start_time": "2023-10-06T17:36:06.852Z"
   },
   {
    "duration": 16,
    "start_time": "2023-10-06T17:36:06.870Z"
   },
   {
    "duration": 16,
    "start_time": "2023-10-06T17:36:06.888Z"
   },
   {
    "duration": 41,
    "start_time": "2023-10-06T17:36:06.906Z"
   },
   {
    "duration": 10,
    "start_time": "2023-10-06T17:36:06.949Z"
   },
   {
    "duration": 30,
    "start_time": "2023-10-06T17:36:06.960Z"
   },
   {
    "duration": 14,
    "start_time": "2023-10-06T17:36:06.992Z"
   },
   {
    "duration": 15,
    "start_time": "2023-10-06T17:36:07.009Z"
   },
   {
    "duration": 23,
    "start_time": "2023-10-06T17:36:07.026Z"
   },
   {
    "duration": 12,
    "start_time": "2023-10-06T17:36:07.050Z"
   },
   {
    "duration": 17,
    "start_time": "2023-10-06T17:36:07.063Z"
   },
   {
    "duration": 215,
    "start_time": "2023-10-06T17:36:07.082Z"
   },
   {
    "duration": 20,
    "start_time": "2023-10-06T17:36:07.298Z"
   },
   {
    "duration": 6,
    "start_time": "2023-10-06T17:36:07.320Z"
   },
   {
    "duration": 12,
    "start_time": "2023-10-06T17:36:07.344Z"
   },
   {
    "duration": 33,
    "start_time": "2023-10-06T17:36:07.357Z"
   },
   {
    "duration": 10,
    "start_time": "2023-10-06T17:36:07.391Z"
   },
   {
    "duration": 21,
    "start_time": "2023-10-06T17:36:07.403Z"
   },
   {
    "duration": 204,
    "start_time": "2023-10-06T17:36:07.426Z"
   },
   {
    "duration": 13,
    "start_time": "2023-10-06T17:36:07.631Z"
   },
   {
    "duration": 94,
    "start_time": "2023-10-06T17:36:07.646Z"
   },
   {
    "duration": 14,
    "start_time": "2023-10-06T17:36:07.743Z"
   },
   {
    "duration": 265,
    "start_time": "2023-10-06T17:36:07.759Z"
   },
   {
    "duration": 268,
    "start_time": "2023-10-06T17:36:08.025Z"
   },
   {
    "duration": 187,
    "start_time": "2023-10-06T17:36:08.295Z"
   },
   {
    "duration": 85,
    "start_time": "2023-10-06T17:36:08.486Z"
   },
   {
    "duration": 46,
    "start_time": "2023-10-06T17:36:08.573Z"
   },
   {
    "duration": 66,
    "start_time": "2023-10-06T17:36:08.621Z"
   },
   {
    "duration": 15,
    "start_time": "2023-10-06T17:36:08.688Z"
   },
   {
    "duration": 102,
    "start_time": "2023-10-06T17:36:08.705Z"
   },
   {
    "duration": 239,
    "start_time": "2023-10-06T17:36:08.809Z"
   },
   {
    "duration": 48,
    "start_time": "2023-10-06T17:36:09.051Z"
   },
   {
    "duration": 48,
    "start_time": "2023-10-06T17:36:09.101Z"
   },
   {
    "duration": 219,
    "start_time": "2023-10-06T17:36:09.151Z"
   },
   {
    "duration": 24,
    "start_time": "2023-10-06T17:36:09.372Z"
   },
   {
    "duration": 170,
    "start_time": "2023-10-06T17:36:09.398Z"
   },
   {
    "duration": 13,
    "start_time": "2023-10-06T17:36:09.570Z"
   },
   {
    "duration": 43,
    "start_time": "2023-10-06T17:36:09.584Z"
   },
   {
    "duration": 236,
    "start_time": "2023-10-06T17:36:09.629Z"
   },
   {
    "duration": 290,
    "start_time": "2023-10-06T17:36:09.866Z"
   },
   {
    "duration": 313,
    "start_time": "2023-10-06T17:36:10.158Z"
   },
   {
    "duration": 174,
    "start_time": "2023-10-06T17:36:10.473Z"
   },
   {
    "duration": 183,
    "start_time": "2023-10-06T17:36:10.648Z"
   },
   {
    "duration": 36,
    "start_time": "2023-10-06T17:36:10.833Z"
   },
   {
    "duration": 14,
    "start_time": "2023-10-06T17:36:10.871Z"
   },
   {
    "duration": 316,
    "start_time": "2023-10-06T17:36:10.887Z"
   },
   {
    "duration": 16,
    "start_time": "2023-10-06T17:36:11.205Z"
   },
   {
    "duration": 145,
    "start_time": "2023-10-06T17:36:11.223Z"
   },
   {
    "duration": 333,
    "start_time": "2023-10-06T17:36:11.370Z"
   },
   {
    "duration": 16,
    "start_time": "2023-10-06T17:36:11.705Z"
   },
   {
    "duration": 318,
    "start_time": "2023-10-06T17:36:11.722Z"
   },
   {
    "duration": 237,
    "start_time": "2023-10-06T17:36:12.042Z"
   },
   {
    "duration": 16,
    "start_time": "2023-10-06T17:36:12.281Z"
   },
   {
    "duration": 242,
    "start_time": "2023-10-06T17:36:12.299Z"
   },
   {
    "duration": 14,
    "start_time": "2023-10-06T17:36:12.545Z"
   },
   {
    "duration": 26,
    "start_time": "2023-10-06T17:36:12.561Z"
   },
   {
    "duration": 300,
    "start_time": "2023-10-06T17:36:12.589Z"
   },
   {
    "duration": 18,
    "start_time": "2023-10-06T17:36:12.890Z"
   },
   {
    "duration": 323,
    "start_time": "2023-10-06T17:36:12.909Z"
   },
   {
    "duration": 235,
    "start_time": "2023-10-06T17:36:13.234Z"
   },
   {
    "duration": 18,
    "start_time": "2023-10-06T17:36:13.471Z"
   },
   {
    "duration": 236,
    "start_time": "2023-10-06T17:36:13.490Z"
   },
   {
    "duration": 19,
    "start_time": "2023-10-06T17:36:13.728Z"
   },
   {
    "duration": 20,
    "start_time": "2023-10-06T17:36:13.748Z"
   },
   {
    "duration": 307,
    "start_time": "2023-10-06T17:36:13.769Z"
   },
   {
    "duration": 20,
    "start_time": "2023-10-06T17:36:14.078Z"
   },
   {
    "duration": 398,
    "start_time": "2023-10-06T17:36:14.102Z"
   },
   {
    "duration": 217,
    "start_time": "2023-10-06T17:36:14.502Z"
   },
   {
    "duration": 16,
    "start_time": "2023-10-06T17:36:14.720Z"
   },
   {
    "duration": 31,
    "start_time": "2023-10-06T17:36:14.745Z"
   },
   {
    "duration": 329,
    "start_time": "2023-10-06T17:36:14.778Z"
   },
   {
    "duration": 16,
    "start_time": "2023-10-06T17:36:15.109Z"
   },
   {
    "duration": 67,
    "start_time": "2023-10-06T17:36:15.127Z"
   },
   {
    "duration": 33,
    "start_time": "2023-10-06T17:36:15.195Z"
   },
   {
    "duration": 48,
    "start_time": "2023-10-06T17:36:15.230Z"
   },
   {
    "duration": 48,
    "start_time": "2023-10-06T17:36:15.280Z"
   },
   {
    "duration": 16,
    "start_time": "2023-10-06T17:36:15.330Z"
   },
   {
    "duration": 21,
    "start_time": "2023-10-06T17:36:15.347Z"
   },
   {
    "duration": 59,
    "start_time": "2023-10-06T17:38:46.550Z"
   },
   {
    "duration": 1825,
    "start_time": "2023-10-06T17:38:56.161Z"
   },
   {
    "duration": 15,
    "start_time": "2023-10-06T17:39:15.922Z"
   },
   {
    "duration": 13,
    "start_time": "2023-10-06T17:39:19.561Z"
   },
   {
    "duration": 11,
    "start_time": "2023-10-06T17:39:37.893Z"
   },
   {
    "duration": 10,
    "start_time": "2023-10-06T17:39:50.894Z"
   },
   {
    "duration": 13,
    "start_time": "2023-10-06T17:39:57.555Z"
   },
   {
    "duration": 14,
    "start_time": "2023-10-06T17:40:03.536Z"
   },
   {
    "duration": 8,
    "start_time": "2023-10-06T17:40:42.235Z"
   },
   {
    "duration": 15,
    "start_time": "2023-10-06T17:41:16.411Z"
   },
   {
    "duration": 15,
    "start_time": "2023-10-06T17:41:20.045Z"
   },
   {
    "duration": 182,
    "start_time": "2023-10-06T17:44:51.043Z"
   },
   {
    "duration": 5,
    "start_time": "2023-10-06T17:47:46.645Z"
   },
   {
    "duration": 221,
    "start_time": "2023-10-06T17:47:52.314Z"
   },
   {
    "duration": 223,
    "start_time": "2023-10-06T17:48:01.613Z"
   },
   {
    "duration": 202,
    "start_time": "2023-10-06T17:48:05.963Z"
   },
   {
    "duration": 3,
    "start_time": "2023-10-06T17:50:30.365Z"
   },
   {
    "duration": 3,
    "start_time": "2023-10-06T17:50:46.135Z"
   },
   {
    "duration": 4,
    "start_time": "2023-10-06T17:50:57.192Z"
   },
   {
    "duration": 3,
    "start_time": "2023-10-06T17:51:05.338Z"
   },
   {
    "duration": 23,
    "start_time": "2023-10-06T17:51:14.117Z"
   },
   {
    "duration": 6,
    "start_time": "2023-10-06T17:51:21.378Z"
   },
   {
    "duration": 5,
    "start_time": "2023-10-06T17:51:26.438Z"
   },
   {
    "duration": 12,
    "start_time": "2023-10-06T17:51:34.946Z"
   },
   {
    "duration": 6,
    "start_time": "2023-10-06T17:51:38.324Z"
   },
   {
    "duration": 4,
    "start_time": "2023-10-06T17:51:47.657Z"
   },
   {
    "duration": 6,
    "start_time": "2023-10-06T17:51:57.722Z"
   },
   {
    "duration": 6,
    "start_time": "2023-10-06T17:52:01.617Z"
   },
   {
    "duration": 6,
    "start_time": "2023-10-06T17:52:03.564Z"
   },
   {
    "duration": 5,
    "start_time": "2023-10-06T17:53:47.675Z"
   },
   {
    "duration": 7,
    "start_time": "2023-10-06T17:54:19.256Z"
   },
   {
    "duration": 8,
    "start_time": "2023-10-06T17:54:36.325Z"
   },
   {
    "duration": 7,
    "start_time": "2023-10-06T17:54:46.016Z"
   },
   {
    "duration": 1114,
    "start_time": "2023-10-06T17:55:48.715Z"
   },
   {
    "duration": 65,
    "start_time": "2023-10-06T17:55:49.831Z"
   },
   {
    "duration": 90,
    "start_time": "2023-10-06T17:55:49.897Z"
   },
   {
    "duration": 0,
    "start_time": "2023-10-06T17:55:49.990Z"
   },
   {
    "duration": 0,
    "start_time": "2023-10-06T17:55:49.991Z"
   },
   {
    "duration": 0,
    "start_time": "2023-10-06T17:55:49.992Z"
   },
   {
    "duration": 0,
    "start_time": "2023-10-06T17:55:49.993Z"
   },
   {
    "duration": 0,
    "start_time": "2023-10-06T17:55:49.993Z"
   },
   {
    "duration": 0,
    "start_time": "2023-10-06T17:55:49.994Z"
   },
   {
    "duration": 0,
    "start_time": "2023-10-06T17:55:49.995Z"
   },
   {
    "duration": 0,
    "start_time": "2023-10-06T17:55:49.996Z"
   },
   {
    "duration": 0,
    "start_time": "2023-10-06T17:55:49.997Z"
   },
   {
    "duration": 0,
    "start_time": "2023-10-06T17:55:49.998Z"
   },
   {
    "duration": 0,
    "start_time": "2023-10-06T17:55:49.999Z"
   },
   {
    "duration": 0,
    "start_time": "2023-10-06T17:55:50.000Z"
   },
   {
    "duration": 0,
    "start_time": "2023-10-06T17:55:50.001Z"
   },
   {
    "duration": 0,
    "start_time": "2023-10-06T17:55:50.001Z"
   },
   {
    "duration": 0,
    "start_time": "2023-10-06T17:55:50.002Z"
   },
   {
    "duration": 0,
    "start_time": "2023-10-06T17:55:50.004Z"
   },
   {
    "duration": 0,
    "start_time": "2023-10-06T17:55:50.004Z"
   },
   {
    "duration": 0,
    "start_time": "2023-10-06T17:55:50.005Z"
   },
   {
    "duration": 0,
    "start_time": "2023-10-06T17:55:50.006Z"
   },
   {
    "duration": 0,
    "start_time": "2023-10-06T17:55:50.007Z"
   },
   {
    "duration": 0,
    "start_time": "2023-10-06T17:55:50.008Z"
   },
   {
    "duration": 0,
    "start_time": "2023-10-06T17:55:50.008Z"
   },
   {
    "duration": 0,
    "start_time": "2023-10-06T17:55:50.009Z"
   },
   {
    "duration": 0,
    "start_time": "2023-10-06T17:55:50.045Z"
   },
   {
    "duration": 0,
    "start_time": "2023-10-06T17:55:50.046Z"
   },
   {
    "duration": 0,
    "start_time": "2023-10-06T17:55:50.047Z"
   },
   {
    "duration": 0,
    "start_time": "2023-10-06T17:55:50.048Z"
   },
   {
    "duration": 0,
    "start_time": "2023-10-06T17:55:50.049Z"
   },
   {
    "duration": 0,
    "start_time": "2023-10-06T17:55:50.051Z"
   },
   {
    "duration": 1,
    "start_time": "2023-10-06T17:55:50.051Z"
   },
   {
    "duration": 0,
    "start_time": "2023-10-06T17:55:50.053Z"
   },
   {
    "duration": 0,
    "start_time": "2023-10-06T17:55:50.054Z"
   },
   {
    "duration": 0,
    "start_time": "2023-10-06T17:55:50.054Z"
   },
   {
    "duration": 0,
    "start_time": "2023-10-06T17:55:50.055Z"
   },
   {
    "duration": 0,
    "start_time": "2023-10-06T17:55:50.057Z"
   },
   {
    "duration": 0,
    "start_time": "2023-10-06T17:55:50.057Z"
   },
   {
    "duration": 0,
    "start_time": "2023-10-06T17:55:50.058Z"
   },
   {
    "duration": 0,
    "start_time": "2023-10-06T17:55:50.059Z"
   },
   {
    "duration": 0,
    "start_time": "2023-10-06T17:55:50.060Z"
   },
   {
    "duration": 0,
    "start_time": "2023-10-06T17:55:50.061Z"
   },
   {
    "duration": 0,
    "start_time": "2023-10-06T17:55:50.063Z"
   },
   {
    "duration": 0,
    "start_time": "2023-10-06T17:55:50.064Z"
   },
   {
    "duration": 0,
    "start_time": "2023-10-06T17:55:50.065Z"
   },
   {
    "duration": 0,
    "start_time": "2023-10-06T17:55:50.066Z"
   },
   {
    "duration": 0,
    "start_time": "2023-10-06T17:55:50.067Z"
   },
   {
    "duration": 0,
    "start_time": "2023-10-06T17:55:50.068Z"
   },
   {
    "duration": 0,
    "start_time": "2023-10-06T17:55:50.069Z"
   },
   {
    "duration": 0,
    "start_time": "2023-10-06T17:55:50.070Z"
   },
   {
    "duration": 0,
    "start_time": "2023-10-06T17:55:50.071Z"
   },
   {
    "duration": 0,
    "start_time": "2023-10-06T17:55:50.072Z"
   },
   {
    "duration": 0,
    "start_time": "2023-10-06T17:55:50.073Z"
   },
   {
    "duration": 0,
    "start_time": "2023-10-06T17:55:50.074Z"
   },
   {
    "duration": 0,
    "start_time": "2023-10-06T17:55:50.075Z"
   },
   {
    "duration": 0,
    "start_time": "2023-10-06T17:55:50.077Z"
   },
   {
    "duration": 0,
    "start_time": "2023-10-06T17:55:50.078Z"
   },
   {
    "duration": 0,
    "start_time": "2023-10-06T17:55:50.079Z"
   },
   {
    "duration": 0,
    "start_time": "2023-10-06T17:55:50.079Z"
   },
   {
    "duration": 0,
    "start_time": "2023-10-06T17:55:50.081Z"
   },
   {
    "duration": 0,
    "start_time": "2023-10-06T17:55:50.082Z"
   },
   {
    "duration": 0,
    "start_time": "2023-10-06T17:55:50.083Z"
   },
   {
    "duration": 0,
    "start_time": "2023-10-06T17:55:50.145Z"
   },
   {
    "duration": 0,
    "start_time": "2023-10-06T17:55:50.146Z"
   },
   {
    "duration": 0,
    "start_time": "2023-10-06T17:55:50.147Z"
   },
   {
    "duration": 0,
    "start_time": "2023-10-06T17:55:50.148Z"
   },
   {
    "duration": 0,
    "start_time": "2023-10-06T17:55:50.149Z"
   },
   {
    "duration": 0,
    "start_time": "2023-10-06T17:55:50.149Z"
   },
   {
    "duration": 0,
    "start_time": "2023-10-06T17:55:50.150Z"
   },
   {
    "duration": 0,
    "start_time": "2023-10-06T17:55:50.151Z"
   },
   {
    "duration": 0,
    "start_time": "2023-10-06T17:55:50.152Z"
   },
   {
    "duration": 0,
    "start_time": "2023-10-06T17:55:50.154Z"
   },
   {
    "duration": 0,
    "start_time": "2023-10-06T17:55:50.155Z"
   },
   {
    "duration": 0,
    "start_time": "2023-10-06T17:55:50.156Z"
   },
   {
    "duration": 0,
    "start_time": "2023-10-06T17:55:50.158Z"
   },
   {
    "duration": 0,
    "start_time": "2023-10-06T17:55:50.159Z"
   },
   {
    "duration": 0,
    "start_time": "2023-10-06T17:55:50.160Z"
   },
   {
    "duration": 0,
    "start_time": "2023-10-06T17:55:50.162Z"
   },
   {
    "duration": 0,
    "start_time": "2023-10-06T17:55:50.163Z"
   },
   {
    "duration": 0,
    "start_time": "2023-10-06T17:55:50.164Z"
   },
   {
    "duration": 1,
    "start_time": "2023-10-06T17:55:50.164Z"
   },
   {
    "duration": 0,
    "start_time": "2023-10-06T17:55:50.166Z"
   },
   {
    "duration": 0,
    "start_time": "2023-10-06T17:55:50.166Z"
   },
   {
    "duration": 1,
    "start_time": "2023-10-06T17:55:50.167Z"
   },
   {
    "duration": 0,
    "start_time": "2023-10-06T17:55:50.168Z"
   },
   {
    "duration": 62,
    "start_time": "2023-10-06T17:56:52.564Z"
   },
   {
    "duration": 14,
    "start_time": "2023-10-06T17:57:03.258Z"
   },
   {
    "duration": 1561,
    "start_time": "2023-10-06T17:57:16.645Z"
   },
   {
    "duration": 15,
    "start_time": "2023-10-06T17:57:27.654Z"
   },
   {
    "duration": 7,
    "start_time": "2023-10-06T17:57:30.358Z"
   },
   {
    "duration": 6,
    "start_time": "2023-10-06T17:57:32.615Z"
   },
   {
    "duration": 14,
    "start_time": "2023-10-06T17:57:35.098Z"
   },
   {
    "duration": 14,
    "start_time": "2023-10-06T17:57:38.656Z"
   },
   {
    "duration": 5,
    "start_time": "2023-10-06T17:57:41.883Z"
   },
   {
    "duration": 6,
    "start_time": "2023-10-06T17:57:46.146Z"
   },
   {
    "duration": 198,
    "start_time": "2023-10-06T17:57:49.646Z"
   },
   {
    "duration": 20,
    "start_time": "2023-10-06T17:57:53.404Z"
   },
   {
    "duration": 8,
    "start_time": "2023-10-06T17:57:56.225Z"
   },
   {
    "duration": 11,
    "start_time": "2023-10-06T17:57:59.135Z"
   },
   {
    "duration": 12,
    "start_time": "2023-10-06T17:58:00.756Z"
   },
   {
    "duration": 10,
    "start_time": "2023-10-06T17:58:03.697Z"
   },
   {
    "duration": 9,
    "start_time": "2023-10-06T17:58:20.138Z"
   },
   {
    "duration": 1575,
    "start_time": "2023-10-06T17:58:21.831Z"
   },
   {
    "duration": 196,
    "start_time": "2023-10-06T17:58:26.865Z"
   },
   {
    "duration": 4,
    "start_time": "2023-10-06T17:58:48.253Z"
   },
   {
    "duration": 5,
    "start_time": "2023-10-06T17:59:04.285Z"
   },
   {
    "duration": 6,
    "start_time": "2023-10-06T17:59:08.553Z"
   },
   {
    "duration": 5,
    "start_time": "2023-10-06T17:59:10.918Z"
   },
   {
    "duration": 4,
    "start_time": "2023-10-06T17:59:54.557Z"
   },
   {
    "duration": 13,
    "start_time": "2023-10-06T18:00:08.635Z"
   },
   {
    "duration": 9,
    "start_time": "2023-10-06T18:00:39.712Z"
   },
   {
    "duration": 4,
    "start_time": "2023-10-06T18:00:42.497Z"
   },
   {
    "duration": 4,
    "start_time": "2023-10-06T18:00:47.978Z"
   },
   {
    "duration": 5,
    "start_time": "2023-10-06T18:00:58.066Z"
   },
   {
    "duration": 5,
    "start_time": "2023-10-06T18:01:34.823Z"
   },
   {
    "duration": 4,
    "start_time": "2023-10-06T18:01:40.394Z"
   },
   {
    "duration": 5,
    "start_time": "2023-10-06T18:01:50.256Z"
   },
   {
    "duration": 5,
    "start_time": "2023-10-06T18:01:54.925Z"
   },
   {
    "duration": 1685,
    "start_time": "2023-10-06T18:02:17.185Z"
   },
   {
    "duration": 5,
    "start_time": "2023-10-06T18:02:26.874Z"
   },
   {
    "duration": 4,
    "start_time": "2023-10-06T18:02:28.740Z"
   },
   {
    "duration": 7,
    "start_time": "2023-10-06T18:02:47.304Z"
   },
   {
    "duration": 6,
    "start_time": "2023-10-06T18:02:55.073Z"
   },
   {
    "duration": 233,
    "start_time": "2023-10-06T18:03:21.467Z"
   },
   {
    "duration": 5,
    "start_time": "2023-10-06T18:03:42.767Z"
   },
   {
    "duration": 248,
    "start_time": "2023-10-06T18:04:25.905Z"
   },
   {
    "duration": 182,
    "start_time": "2023-10-06T18:04:31.637Z"
   },
   {
    "duration": 7,
    "start_time": "2023-10-06T18:04:37.186Z"
   },
   {
    "duration": 145,
    "start_time": "2023-10-06T18:04:48.685Z"
   },
   {
    "duration": 43,
    "start_time": "2023-10-06T18:04:51.483Z"
   },
   {
    "duration": 17,
    "start_time": "2023-10-06T18:04:55.739Z"
   },
   {
    "duration": 57,
    "start_time": "2023-10-06T18:05:36.417Z"
   },
   {
    "duration": 7,
    "start_time": "2023-10-06T18:07:52.259Z"
   },
   {
    "duration": 38,
    "start_time": "2023-10-06T18:07:55.844Z"
   },
   {
    "duration": 2,
    "start_time": "2023-10-06T18:08:16.647Z"
   },
   {
    "duration": 55,
    "start_time": "2023-10-06T18:09:04.544Z"
   },
   {
    "duration": 1327,
    "start_time": "2023-10-07T12:10:07.821Z"
   },
   {
    "duration": 119,
    "start_time": "2023-10-07T12:10:09.155Z"
   },
   {
    "duration": 15,
    "start_time": "2023-10-07T12:10:09.275Z"
   },
   {
    "duration": 20,
    "start_time": "2023-10-07T12:10:09.292Z"
   },
   {
    "duration": 41,
    "start_time": "2023-10-07T12:10:09.314Z"
   },
   {
    "duration": 45,
    "start_time": "2023-10-07T12:10:09.362Z"
   },
   {
    "duration": 6,
    "start_time": "2023-10-07T12:10:09.409Z"
   },
   {
    "duration": 34,
    "start_time": "2023-10-07T12:10:09.416Z"
   },
   {
    "duration": 15,
    "start_time": "2023-10-07T12:10:09.451Z"
   },
   {
    "duration": 7,
    "start_time": "2023-10-07T12:10:09.468Z"
   },
   {
    "duration": 18,
    "start_time": "2023-10-07T12:10:09.476Z"
   },
   {
    "duration": 18,
    "start_time": "2023-10-07T12:10:09.495Z"
   },
   {
    "duration": 4,
    "start_time": "2023-10-07T12:10:09.515Z"
   },
   {
    "duration": 20,
    "start_time": "2023-10-07T12:10:09.520Z"
   },
   {
    "duration": 206,
    "start_time": "2023-10-07T12:10:09.541Z"
   },
   {
    "duration": 24,
    "start_time": "2023-10-07T12:10:09.750Z"
   },
   {
    "duration": 22,
    "start_time": "2023-10-07T12:10:09.776Z"
   },
   {
    "duration": 59,
    "start_time": "2023-10-07T12:10:09.799Z"
   },
   {
    "duration": 35,
    "start_time": "2023-10-07T12:10:09.861Z"
   },
   {
    "duration": 20,
    "start_time": "2023-10-07T12:10:09.898Z"
   },
   {
    "duration": 44,
    "start_time": "2023-10-07T12:10:09.920Z"
   },
   {
    "duration": 31,
    "start_time": "2023-10-07T12:10:09.970Z"
   },
   {
    "duration": 46,
    "start_time": "2023-10-07T12:10:10.002Z"
   },
   {
    "duration": 219,
    "start_time": "2023-10-07T12:10:10.057Z"
   },
   {
    "duration": 3,
    "start_time": "2023-10-07T12:10:10.277Z"
   },
   {
    "duration": 41,
    "start_time": "2023-10-07T12:10:10.281Z"
   },
   {
    "duration": 51,
    "start_time": "2023-10-07T12:10:10.324Z"
   },
   {
    "duration": 29,
    "start_time": "2023-10-07T12:10:10.378Z"
   },
   {
    "duration": 5,
    "start_time": "2023-10-07T12:10:12.565Z"
   },
   {
    "duration": 252,
    "start_time": "2023-10-07T12:10:29.952Z"
   },
   {
    "duration": 266,
    "start_time": "2023-10-07T12:10:32.145Z"
   },
   {
    "duration": 167,
    "start_time": "2023-10-07T12:10:36.477Z"
   },
   {
    "duration": 3,
    "start_time": "2023-10-07T12:10:57.197Z"
   },
   {
    "duration": 94,
    "start_time": "2023-10-07T12:10:57.202Z"
   },
   {
    "duration": 19,
    "start_time": "2023-10-07T12:10:57.297Z"
   },
   {
    "duration": 21,
    "start_time": "2023-10-07T12:10:57.318Z"
   },
   {
    "duration": 27,
    "start_time": "2023-10-07T12:10:57.353Z"
   },
   {
    "duration": 21,
    "start_time": "2023-10-07T12:10:57.382Z"
   },
   {
    "duration": 14,
    "start_time": "2023-10-07T12:10:57.404Z"
   },
   {
    "duration": 16,
    "start_time": "2023-10-07T12:10:57.419Z"
   },
   {
    "duration": 90,
    "start_time": "2023-10-07T12:10:57.437Z"
   },
   {
    "duration": 13,
    "start_time": "2023-10-07T12:10:57.529Z"
   },
   {
    "duration": 28,
    "start_time": "2023-10-07T12:10:57.543Z"
   },
   {
    "duration": 17,
    "start_time": "2023-10-07T12:10:57.573Z"
   },
   {
    "duration": 9,
    "start_time": "2023-10-07T12:10:57.592Z"
   },
   {
    "duration": 8,
    "start_time": "2023-10-07T12:10:57.603Z"
   },
   {
    "duration": 203,
    "start_time": "2023-10-07T12:10:57.613Z"
   },
   {
    "duration": 18,
    "start_time": "2023-10-07T12:10:57.817Z"
   },
   {
    "duration": 17,
    "start_time": "2023-10-07T12:10:57.850Z"
   },
   {
    "duration": 34,
    "start_time": "2023-10-07T12:10:57.869Z"
   },
   {
    "duration": 29,
    "start_time": "2023-10-07T12:10:57.904Z"
   },
   {
    "duration": 39,
    "start_time": "2023-10-07T12:10:57.934Z"
   },
   {
    "duration": 18,
    "start_time": "2023-10-07T12:10:57.974Z"
   },
   {
    "duration": 6,
    "start_time": "2023-10-07T12:10:57.995Z"
   },
   {
    "duration": 23,
    "start_time": "2023-10-07T12:10:58.003Z"
   },
   {
    "duration": 261,
    "start_time": "2023-10-07T12:10:58.029Z"
   },
   {
    "duration": 2,
    "start_time": "2023-10-07T12:10:58.292Z"
   },
   {
    "duration": 9,
    "start_time": "2023-10-07T12:10:58.295Z"
   },
   {
    "duration": 40,
    "start_time": "2023-10-07T12:10:58.305Z"
   },
   {
    "duration": 52,
    "start_time": "2023-10-07T12:10:58.347Z"
   },
   {
    "duration": 67,
    "start_time": "2023-10-07T12:10:58.400Z"
   },
   {
    "duration": 255,
    "start_time": "2023-10-07T12:10:58.468Z"
   },
   {
    "duration": 261,
    "start_time": "2023-10-07T12:10:58.725Z"
   },
   {
    "duration": 150,
    "start_time": "2023-10-07T12:10:58.988Z"
   },
   {
    "duration": 11,
    "start_time": "2023-10-07T12:10:59.154Z"
   },
   {
    "duration": 96,
    "start_time": "2023-10-07T12:10:59.169Z"
   },
   {
    "duration": 51,
    "start_time": "2023-10-07T12:10:59.267Z"
   },
   {
    "duration": 14,
    "start_time": "2023-10-07T12:10:59.320Z"
   },
   {
    "duration": 36,
    "start_time": "2023-10-07T12:10:59.336Z"
   },
   {
    "duration": 168,
    "start_time": "2023-10-07T12:11:06.216Z"
   },
   {
    "duration": 15,
    "start_time": "2023-10-07T12:26:25.755Z"
   },
   {
    "duration": 68,
    "start_time": "2023-10-07T12:26:46.059Z"
   },
   {
    "duration": 31,
    "start_time": "2023-10-07T12:28:36.262Z"
   },
   {
    "duration": 35,
    "start_time": "2023-10-07T12:41:23.875Z"
   },
   {
    "duration": 4,
    "start_time": "2023-10-07T12:47:24.636Z"
   },
   {
    "duration": 90,
    "start_time": "2023-10-07T12:47:24.667Z"
   },
   {
    "duration": 22,
    "start_time": "2023-10-07T12:47:24.761Z"
   },
   {
    "duration": 9,
    "start_time": "2023-10-07T12:47:24.785Z"
   },
   {
    "duration": 13,
    "start_time": "2023-10-07T12:47:24.795Z"
   },
   {
    "duration": 17,
    "start_time": "2023-10-07T12:47:24.810Z"
   },
   {
    "duration": 22,
    "start_time": "2023-10-07T12:47:24.828Z"
   },
   {
    "duration": 35,
    "start_time": "2023-10-07T12:47:24.852Z"
   },
   {
    "duration": 6,
    "start_time": "2023-10-07T12:47:24.889Z"
   },
   {
    "duration": 22,
    "start_time": "2023-10-07T12:47:24.897Z"
   },
   {
    "duration": 25,
    "start_time": "2023-10-07T12:47:24.921Z"
   },
   {
    "duration": 31,
    "start_time": "2023-10-07T12:47:24.947Z"
   },
   {
    "duration": 7,
    "start_time": "2023-10-07T12:47:24.980Z"
   },
   {
    "duration": 7,
    "start_time": "2023-10-07T12:47:24.988Z"
   },
   {
    "duration": 207,
    "start_time": "2023-10-07T12:47:24.996Z"
   },
   {
    "duration": 18,
    "start_time": "2023-10-07T12:47:25.204Z"
   },
   {
    "duration": 46,
    "start_time": "2023-10-07T12:47:25.224Z"
   },
   {
    "duration": 30,
    "start_time": "2023-10-07T12:47:25.272Z"
   },
   {
    "duration": 31,
    "start_time": "2023-10-07T12:47:25.305Z"
   },
   {
    "duration": 45,
    "start_time": "2023-10-07T12:47:25.337Z"
   },
   {
    "duration": 13,
    "start_time": "2023-10-07T12:47:25.383Z"
   },
   {
    "duration": 44,
    "start_time": "2023-10-07T12:47:25.397Z"
   },
   {
    "duration": 40,
    "start_time": "2023-10-07T12:47:25.443Z"
   },
   {
    "duration": 269,
    "start_time": "2023-10-07T12:47:25.484Z"
   },
   {
    "duration": 3,
    "start_time": "2023-10-07T12:47:25.754Z"
   },
   {
    "duration": 3,
    "start_time": "2023-10-07T12:47:25.758Z"
   },
   {
    "duration": 35,
    "start_time": "2023-10-07T12:47:25.764Z"
   },
   {
    "duration": 45,
    "start_time": "2023-10-07T12:47:25.801Z"
   },
   {
    "duration": 37,
    "start_time": "2023-10-07T12:47:25.849Z"
   },
   {
    "duration": 458,
    "start_time": "2023-10-07T12:47:25.888Z"
   },
   {
    "duration": 275,
    "start_time": "2023-10-07T12:47:26.358Z"
   },
   {
    "duration": 170,
    "start_time": "2023-10-07T12:47:26.634Z"
   },
   {
    "duration": 8,
    "start_time": "2023-10-07T12:47:26.805Z"
   },
   {
    "duration": 89,
    "start_time": "2023-10-07T12:47:26.814Z"
   },
   {
    "duration": 45,
    "start_time": "2023-10-07T12:47:26.905Z"
   },
   {
    "duration": 15,
    "start_time": "2023-10-07T12:47:30.670Z"
   },
   {
    "duration": 13,
    "start_time": "2023-10-07T12:47:58.328Z"
   },
   {
    "duration": 3,
    "start_time": "2023-10-07T12:48:45.396Z"
   },
   {
    "duration": 66,
    "start_time": "2023-10-07T12:48:45.402Z"
   },
   {
    "duration": 13,
    "start_time": "2023-10-07T12:48:45.469Z"
   },
   {
    "duration": 23,
    "start_time": "2023-10-07T12:48:45.483Z"
   },
   {
    "duration": 27,
    "start_time": "2023-10-07T12:48:45.508Z"
   },
   {
    "duration": 33,
    "start_time": "2023-10-07T12:48:45.536Z"
   },
   {
    "duration": 15,
    "start_time": "2023-10-07T12:48:45.571Z"
   },
   {
    "duration": 15,
    "start_time": "2023-10-07T12:48:45.588Z"
   },
   {
    "duration": 11,
    "start_time": "2023-10-07T12:48:45.604Z"
   },
   {
    "duration": 18,
    "start_time": "2023-10-07T12:48:45.616Z"
   },
   {
    "duration": 25,
    "start_time": "2023-10-07T12:48:45.636Z"
   },
   {
    "duration": 31,
    "start_time": "2023-10-07T12:48:45.663Z"
   },
   {
    "duration": 11,
    "start_time": "2023-10-07T12:48:45.696Z"
   },
   {
    "duration": 15,
    "start_time": "2023-10-07T12:48:45.709Z"
   },
   {
    "duration": 230,
    "start_time": "2023-10-07T12:48:45.726Z"
   },
   {
    "duration": 24,
    "start_time": "2023-10-07T12:48:45.959Z"
   },
   {
    "duration": 32,
    "start_time": "2023-10-07T12:48:45.985Z"
   },
   {
    "duration": 40,
    "start_time": "2023-10-07T12:48:46.019Z"
   },
   {
    "duration": 40,
    "start_time": "2023-10-07T12:48:46.060Z"
   },
   {
    "duration": 53,
    "start_time": "2023-10-07T12:48:46.102Z"
   },
   {
    "duration": 12,
    "start_time": "2023-10-07T12:48:46.157Z"
   },
   {
    "duration": 26,
    "start_time": "2023-10-07T12:48:46.171Z"
   },
   {
    "duration": 18,
    "start_time": "2023-10-07T12:48:46.199Z"
   },
   {
    "duration": 225,
    "start_time": "2023-10-07T12:48:46.219Z"
   },
   {
    "duration": 19,
    "start_time": "2023-10-07T12:48:46.445Z"
   },
   {
    "duration": 9,
    "start_time": "2023-10-07T12:48:46.466Z"
   },
   {
    "duration": 21,
    "start_time": "2023-10-07T12:48:46.477Z"
   },
   {
    "duration": 15,
    "start_time": "2023-10-07T12:48:46.500Z"
   },
   {
    "duration": 28,
    "start_time": "2023-10-07T12:48:46.517Z"
   },
   {
    "duration": 3,
    "start_time": "2023-10-07T12:49:05.361Z"
   },
   {
    "duration": 69,
    "start_time": "2023-10-07T12:49:05.367Z"
   },
   {
    "duration": 23,
    "start_time": "2023-10-07T12:49:05.437Z"
   },
   {
    "duration": 15,
    "start_time": "2023-10-07T12:49:05.461Z"
   },
   {
    "duration": 19,
    "start_time": "2023-10-07T12:49:05.479Z"
   },
   {
    "duration": 28,
    "start_time": "2023-10-07T12:49:05.500Z"
   },
   {
    "duration": 39,
    "start_time": "2023-10-07T12:49:05.529Z"
   },
   {
    "duration": 18,
    "start_time": "2023-10-07T12:49:05.569Z"
   },
   {
    "duration": 16,
    "start_time": "2023-10-07T12:49:05.588Z"
   },
   {
    "duration": 17,
    "start_time": "2023-10-07T12:49:05.606Z"
   },
   {
    "duration": 45,
    "start_time": "2023-10-07T12:49:05.624Z"
   },
   {
    "duration": 24,
    "start_time": "2023-10-07T12:49:05.671Z"
   },
   {
    "duration": 4,
    "start_time": "2023-10-07T12:49:05.697Z"
   },
   {
    "duration": 23,
    "start_time": "2023-10-07T12:49:05.703Z"
   },
   {
    "duration": 206,
    "start_time": "2023-10-07T12:49:05.727Z"
   },
   {
    "duration": 31,
    "start_time": "2023-10-07T12:49:05.934Z"
   },
   {
    "duration": 14,
    "start_time": "2023-10-07T12:49:05.967Z"
   },
   {
    "duration": 23,
    "start_time": "2023-10-07T12:49:05.983Z"
   },
   {
    "duration": 20,
    "start_time": "2023-10-07T12:49:06.009Z"
   },
   {
    "duration": 14,
    "start_time": "2023-10-07T12:49:06.031Z"
   },
   {
    "duration": 8,
    "start_time": "2023-10-07T12:49:06.047Z"
   },
   {
    "duration": 18,
    "start_time": "2023-10-07T12:49:06.056Z"
   },
   {
    "duration": 17,
    "start_time": "2023-10-07T12:49:06.076Z"
   },
   {
    "duration": 286,
    "start_time": "2023-10-07T12:49:06.095Z"
   },
   {
    "duration": 3,
    "start_time": "2023-10-07T12:49:06.382Z"
   },
   {
    "duration": 27,
    "start_time": "2023-10-07T12:49:06.386Z"
   },
   {
    "duration": 26,
    "start_time": "2023-10-07T12:49:06.414Z"
   },
   {
    "duration": 18,
    "start_time": "2023-10-07T12:49:06.441Z"
   },
   {
    "duration": 22,
    "start_time": "2023-10-07T12:49:06.461Z"
   },
   {
    "duration": 5,
    "start_time": "2023-10-07T12:49:53.687Z"
   },
   {
    "duration": 70,
    "start_time": "2023-10-07T12:49:53.704Z"
   },
   {
    "duration": 13,
    "start_time": "2023-10-07T12:49:53.776Z"
   },
   {
    "duration": 57,
    "start_time": "2023-10-07T12:49:53.791Z"
   },
   {
    "duration": 32,
    "start_time": "2023-10-07T12:49:53.856Z"
   },
   {
    "duration": 57,
    "start_time": "2023-10-07T12:49:53.891Z"
   },
   {
    "duration": 10,
    "start_time": "2023-10-07T12:49:53.955Z"
   },
   {
    "duration": 35,
    "start_time": "2023-10-07T12:49:53.966Z"
   },
   {
    "duration": 22,
    "start_time": "2023-10-07T12:49:54.003Z"
   },
   {
    "duration": 57,
    "start_time": "2023-10-07T12:49:54.027Z"
   },
   {
    "duration": 25,
    "start_time": "2023-10-07T12:49:54.085Z"
   },
   {
    "duration": 20,
    "start_time": "2023-10-07T12:49:54.111Z"
   },
   {
    "duration": 29,
    "start_time": "2023-10-07T12:49:54.132Z"
   },
   {
    "duration": 19,
    "start_time": "2023-10-07T12:49:54.163Z"
   },
   {
    "duration": 206,
    "start_time": "2023-10-07T12:49:54.184Z"
   },
   {
    "duration": 19,
    "start_time": "2023-10-07T12:49:54.392Z"
   },
   {
    "duration": 32,
    "start_time": "2023-10-07T12:49:54.412Z"
   },
   {
    "duration": 49,
    "start_time": "2023-10-07T12:49:54.446Z"
   },
   {
    "duration": 31,
    "start_time": "2023-10-07T12:49:54.497Z"
   },
   {
    "duration": 39,
    "start_time": "2023-10-07T12:49:54.529Z"
   },
   {
    "duration": 9,
    "start_time": "2023-10-07T12:49:54.570Z"
   },
   {
    "duration": 24,
    "start_time": "2023-10-07T12:49:54.580Z"
   },
   {
    "duration": 54,
    "start_time": "2023-10-07T12:49:54.605Z"
   },
   {
    "duration": 206,
    "start_time": "2023-10-07T12:49:54.660Z"
   },
   {
    "duration": 2,
    "start_time": "2023-10-07T12:49:54.868Z"
   },
   {
    "duration": 25,
    "start_time": "2023-10-07T12:49:54.871Z"
   },
   {
    "duration": 20,
    "start_time": "2023-10-07T12:49:54.897Z"
   },
   {
    "duration": 13,
    "start_time": "2023-10-07T12:49:54.918Z"
   },
   {
    "duration": 5,
    "start_time": "2023-10-07T12:49:56.500Z"
   },
   {
    "duration": 8,
    "start_time": "2023-10-07T12:51:34.508Z"
   },
   {
    "duration": 8,
    "start_time": "2023-10-07T12:51:39.628Z"
   },
   {
    "duration": 5,
    "start_time": "2023-10-07T12:51:45.476Z"
   },
   {
    "duration": 18,
    "start_time": "2023-10-07T12:52:51.425Z"
   },
   {
    "duration": 89,
    "start_time": "2023-10-07T12:56:57.684Z"
   },
   {
    "duration": 15,
    "start_time": "2023-10-07T13:05:02.842Z"
   },
   {
    "duration": 11,
    "start_time": "2023-10-07T13:05:35.377Z"
   },
   {
    "duration": 21,
    "start_time": "2023-10-07T13:05:52.436Z"
   },
   {
    "duration": 105,
    "start_time": "2023-10-07T13:06:05.293Z"
   },
   {
    "duration": 21,
    "start_time": "2023-10-07T13:06:08.300Z"
   },
   {
    "duration": 10,
    "start_time": "2023-10-07T13:06:46.558Z"
   },
   {
    "duration": 1310,
    "start_time": "2023-10-07T13:06:59.083Z"
   },
   {
    "duration": 1360,
    "start_time": "2023-10-07T13:07:17.488Z"
   },
   {
    "duration": 1396,
    "start_time": "2023-10-07T13:07:49.378Z"
   },
   {
    "duration": 1141,
    "start_time": "2023-10-07T13:08:43.681Z"
   },
   {
    "duration": 1179,
    "start_time": "2023-10-07T13:08:48.581Z"
   },
   {
    "duration": 1139,
    "start_time": "2023-10-07T13:08:58.600Z"
   },
   {
    "duration": 3,
    "start_time": "2023-10-07T13:09:05.820Z"
   },
   {
    "duration": 99,
    "start_time": "2023-10-07T13:09:05.835Z"
   },
   {
    "duration": 24,
    "start_time": "2023-10-07T13:09:05.936Z"
   },
   {
    "duration": 23,
    "start_time": "2023-10-07T13:09:05.961Z"
   },
   {
    "duration": 16,
    "start_time": "2023-10-07T13:09:05.986Z"
   },
   {
    "duration": 23,
    "start_time": "2023-10-07T13:09:06.005Z"
   },
   {
    "duration": 15,
    "start_time": "2023-10-07T13:09:06.030Z"
   },
   {
    "duration": 24,
    "start_time": "2023-10-07T13:09:06.050Z"
   },
   {
    "duration": 19,
    "start_time": "2023-10-07T13:09:06.075Z"
   },
   {
    "duration": 24,
    "start_time": "2023-10-07T13:09:06.096Z"
   },
   {
    "duration": 17,
    "start_time": "2023-10-07T13:09:06.122Z"
   },
   {
    "duration": 25,
    "start_time": "2023-10-07T13:09:06.142Z"
   },
   {
    "duration": 11,
    "start_time": "2023-10-07T13:09:06.170Z"
   },
   {
    "duration": 20,
    "start_time": "2023-10-07T13:09:06.183Z"
   },
   {
    "duration": 224,
    "start_time": "2023-10-07T13:09:06.208Z"
   },
   {
    "duration": 44,
    "start_time": "2023-10-07T13:09:06.434Z"
   },
   {
    "duration": 7,
    "start_time": "2023-10-07T13:09:06.487Z"
   },
   {
    "duration": 14,
    "start_time": "2023-10-07T13:09:06.496Z"
   },
   {
    "duration": 22,
    "start_time": "2023-10-07T13:09:06.512Z"
   },
   {
    "duration": 9,
    "start_time": "2023-10-07T13:09:06.536Z"
   },
   {
    "duration": 16,
    "start_time": "2023-10-07T13:09:06.546Z"
   },
   {
    "duration": 10,
    "start_time": "2023-10-07T13:09:06.563Z"
   },
   {
    "duration": 23,
    "start_time": "2023-10-07T13:09:06.576Z"
   },
   {
    "duration": 302,
    "start_time": "2023-10-07T13:09:06.601Z"
   },
   {
    "duration": 3,
    "start_time": "2023-10-07T13:09:06.904Z"
   },
   {
    "duration": 14,
    "start_time": "2023-10-07T13:09:06.908Z"
   },
   {
    "duration": 24,
    "start_time": "2023-10-07T13:09:06.923Z"
   },
   {
    "duration": 17,
    "start_time": "2023-10-07T13:09:06.952Z"
   },
   {
    "duration": 15,
    "start_time": "2023-10-07T13:09:06.975Z"
   },
   {
    "duration": 273,
    "start_time": "2023-10-07T13:09:06.992Z"
   },
   {
    "duration": 261,
    "start_time": "2023-10-07T13:09:07.273Z"
   },
   {
    "duration": 180,
    "start_time": "2023-10-07T13:09:07.535Z"
   },
   {
    "duration": 7,
    "start_time": "2023-10-07T13:09:07.717Z"
   },
   {
    "duration": 70,
    "start_time": "2023-10-07T13:09:07.725Z"
   },
   {
    "duration": 72,
    "start_time": "2023-10-07T13:09:07.796Z"
   },
   {
    "duration": 6,
    "start_time": "2023-10-07T13:09:09.382Z"
   },
   {
    "duration": 7,
    "start_time": "2023-10-07T13:09:22.332Z"
   },
   {
    "duration": 8,
    "start_time": "2023-10-07T13:09:28.786Z"
   },
   {
    "duration": 100,
    "start_time": "2023-10-07T13:09:43.416Z"
   },
   {
    "duration": 3,
    "start_time": "2023-10-07T14:20:05.284Z"
   },
   {
    "duration": 95,
    "start_time": "2023-10-07T14:20:05.294Z"
   },
   {
    "duration": 19,
    "start_time": "2023-10-07T14:20:05.392Z"
   },
   {
    "duration": 15,
    "start_time": "2023-10-07T14:20:05.413Z"
   },
   {
    "duration": 36,
    "start_time": "2023-10-07T14:20:05.430Z"
   },
   {
    "duration": 38,
    "start_time": "2023-10-07T14:20:05.473Z"
   },
   {
    "duration": 52,
    "start_time": "2023-10-07T14:20:05.513Z"
   },
   {
    "duration": 22,
    "start_time": "2023-10-07T14:20:05.568Z"
   },
   {
    "duration": 38,
    "start_time": "2023-10-07T14:20:05.591Z"
   },
   {
    "duration": 45,
    "start_time": "2023-10-07T14:20:05.631Z"
   },
   {
    "duration": 46,
    "start_time": "2023-10-07T14:20:05.678Z"
   },
   {
    "duration": 28,
    "start_time": "2023-10-07T14:20:05.726Z"
   },
   {
    "duration": 7,
    "start_time": "2023-10-07T14:20:05.763Z"
   },
   {
    "duration": 31,
    "start_time": "2023-10-07T14:20:05.772Z"
   },
   {
    "duration": 287,
    "start_time": "2023-10-07T14:20:05.806Z"
   },
   {
    "duration": 27,
    "start_time": "2023-10-07T14:20:06.095Z"
   },
   {
    "duration": 9,
    "start_time": "2023-10-07T14:20:06.125Z"
   },
   {
    "duration": 25,
    "start_time": "2023-10-07T14:20:06.149Z"
   },
   {
    "duration": 17,
    "start_time": "2023-10-07T14:20:06.177Z"
   },
   {
    "duration": 12,
    "start_time": "2023-10-07T14:20:06.197Z"
   },
   {
    "duration": 7,
    "start_time": "2023-10-07T14:20:06.211Z"
   },
   {
    "duration": 6,
    "start_time": "2023-10-07T14:20:06.220Z"
   },
   {
    "duration": 25,
    "start_time": "2023-10-07T14:20:06.228Z"
   },
   {
    "duration": 274,
    "start_time": "2023-10-07T14:20:06.257Z"
   },
   {
    "duration": 2,
    "start_time": "2023-10-07T14:20:06.533Z"
   },
   {
    "duration": 17,
    "start_time": "2023-10-07T14:20:06.550Z"
   },
   {
    "duration": 23,
    "start_time": "2023-10-07T14:20:06.569Z"
   },
   {
    "duration": 32,
    "start_time": "2023-10-07T14:20:06.594Z"
   },
   {
    "duration": 18,
    "start_time": "2023-10-07T14:20:06.628Z"
   },
   {
    "duration": 279,
    "start_time": "2023-10-07T14:20:06.648Z"
   },
   {
    "duration": 379,
    "start_time": "2023-10-07T14:20:06.929Z"
   },
   {
    "duration": 158,
    "start_time": "2023-10-07T14:20:07.310Z"
   },
   {
    "duration": 7,
    "start_time": "2023-10-07T14:20:07.470Z"
   },
   {
    "duration": 105,
    "start_time": "2023-10-07T14:20:07.479Z"
   },
   {
    "duration": 45,
    "start_time": "2023-10-07T14:20:07.585Z"
   },
   {
    "duration": 44,
    "start_time": "2023-10-07T14:20:07.632Z"
   },
   {
    "duration": 38,
    "start_time": "2023-10-07T14:20:07.678Z"
   },
   {
    "duration": 42,
    "start_time": "2023-10-07T14:20:07.718Z"
   },
   {
    "duration": 119,
    "start_time": "2023-10-07T14:20:07.761Z"
   },
   {
    "duration": 9,
    "start_time": "2023-10-07T14:30:05.039Z"
   },
   {
    "duration": 101,
    "start_time": "2023-10-07T14:30:27.910Z"
   },
   {
    "duration": 263,
    "start_time": "2023-10-07T14:31:25.764Z"
   },
   {
    "duration": 305,
    "start_time": "2023-10-07T14:31:42.220Z"
   },
   {
    "duration": 50,
    "start_time": "2023-10-07T14:32:51.836Z"
   },
   {
    "duration": 43,
    "start_time": "2023-10-07T14:33:18.947Z"
   },
   {
    "duration": 223,
    "start_time": "2023-10-07T14:33:34.239Z"
   },
   {
    "duration": 58,
    "start_time": "2023-10-07T14:35:07.519Z"
   },
   {
    "duration": 42,
    "start_time": "2023-10-07T14:38:05.230Z"
   },
   {
    "duration": 60,
    "start_time": "2023-10-07T14:38:19.845Z"
   },
   {
    "duration": 197,
    "start_time": "2023-10-07T14:38:27.921Z"
   },
   {
    "duration": 27,
    "start_time": "2023-10-07T14:38:48.980Z"
   },
   {
    "duration": 40,
    "start_time": "2023-10-07T14:40:15.216Z"
   },
   {
    "duration": 27,
    "start_time": "2023-10-07T14:40:56.551Z"
   },
   {
    "duration": 47,
    "start_time": "2023-10-07T14:43:55.770Z"
   },
   {
    "duration": 36,
    "start_time": "2023-10-07T14:44:16.578Z"
   },
   {
    "duration": 42,
    "start_time": "2023-10-07T14:44:35.575Z"
   },
   {
    "duration": 1676,
    "start_time": "2023-10-07T14:44:45.910Z"
   },
   {
    "duration": 13,
    "start_time": "2023-10-07T14:45:40.572Z"
   },
   {
    "duration": 61,
    "start_time": "2023-10-07T14:45:45.034Z"
   },
   {
    "duration": 27,
    "start_time": "2023-10-07T14:46:01.116Z"
   },
   {
    "duration": 20,
    "start_time": "2023-10-07T14:46:48.270Z"
   },
   {
    "duration": 20,
    "start_time": "2023-10-07T14:46:59.666Z"
   },
   {
    "duration": 28,
    "start_time": "2023-10-07T14:47:38.983Z"
   },
   {
    "duration": 29,
    "start_time": "2023-10-07T14:47:41.864Z"
   },
   {
    "duration": 22,
    "start_time": "2023-10-07T14:48:01.592Z"
   },
   {
    "duration": 21,
    "start_time": "2023-10-07T14:48:12.111Z"
   },
   {
    "duration": 10,
    "start_time": "2023-10-07T14:49:35.719Z"
   },
   {
    "duration": 20,
    "start_time": "2023-10-07T14:50:13.894Z"
   },
   {
    "duration": 35,
    "start_time": "2023-10-07T14:50:28.934Z"
   },
   {
    "duration": 20,
    "start_time": "2023-10-07T14:50:36.047Z"
   },
   {
    "duration": 10,
    "start_time": "2023-10-07T14:51:41.664Z"
   },
   {
    "duration": 16,
    "start_time": "2023-10-07T14:51:46.189Z"
   },
   {
    "duration": 21,
    "start_time": "2023-10-07T14:52:08.891Z"
   },
   {
    "duration": 16,
    "start_time": "2023-10-07T14:52:51.293Z"
   },
   {
    "duration": 5,
    "start_time": "2023-10-07T14:53:02.645Z"
   },
   {
    "duration": 124,
    "start_time": "2023-10-07T14:53:02.653Z"
   },
   {
    "duration": 22,
    "start_time": "2023-10-07T14:53:02.779Z"
   },
   {
    "duration": 90,
    "start_time": "2023-10-07T14:53:02.803Z"
   },
   {
    "duration": 23,
    "start_time": "2023-10-07T14:53:02.899Z"
   },
   {
    "duration": 66,
    "start_time": "2023-10-07T14:53:02.924Z"
   },
   {
    "duration": 29,
    "start_time": "2023-10-07T14:53:02.994Z"
   },
   {
    "duration": 50,
    "start_time": "2023-10-07T14:53:03.025Z"
   },
   {
    "duration": 68,
    "start_time": "2023-10-07T14:53:03.076Z"
   },
   {
    "duration": 67,
    "start_time": "2023-10-07T14:53:03.146Z"
   },
   {
    "duration": 44,
    "start_time": "2023-10-07T14:53:03.215Z"
   },
   {
    "duration": 28,
    "start_time": "2023-10-07T14:53:03.261Z"
   },
   {
    "duration": 29,
    "start_time": "2023-10-07T14:53:03.292Z"
   },
   {
    "duration": 20,
    "start_time": "2023-10-07T14:53:03.323Z"
   },
   {
    "duration": 254,
    "start_time": "2023-10-07T14:53:03.345Z"
   },
   {
    "duration": 30,
    "start_time": "2023-10-07T14:53:03.601Z"
   },
   {
    "duration": 51,
    "start_time": "2023-10-07T14:53:03.633Z"
   },
   {
    "duration": 35,
    "start_time": "2023-10-07T14:53:03.686Z"
   },
   {
    "duration": 84,
    "start_time": "2023-10-07T14:53:03.722Z"
   },
   {
    "duration": 41,
    "start_time": "2023-10-07T14:53:03.808Z"
   },
   {
    "duration": 13,
    "start_time": "2023-10-07T14:53:03.853Z"
   },
   {
    "duration": 31,
    "start_time": "2023-10-07T14:53:03.868Z"
   },
   {
    "duration": 55,
    "start_time": "2023-10-07T14:53:03.901Z"
   },
   {
    "duration": 237,
    "start_time": "2023-10-07T14:53:03.960Z"
   },
   {
    "duration": 3,
    "start_time": "2023-10-07T14:53:04.199Z"
   },
   {
    "duration": 14,
    "start_time": "2023-10-07T14:53:04.203Z"
   },
   {
    "duration": 13,
    "start_time": "2023-10-07T14:53:04.219Z"
   },
   {
    "duration": 26,
    "start_time": "2023-10-07T14:53:04.235Z"
   },
   {
    "duration": 21,
    "start_time": "2023-10-07T14:53:04.263Z"
   },
   {
    "duration": 505,
    "start_time": "2023-10-07T14:53:04.286Z"
   },
   {
    "duration": 404,
    "start_time": "2023-10-07T14:53:04.794Z"
   },
   {
    "duration": 218,
    "start_time": "2023-10-07T14:53:05.200Z"
   },
   {
    "duration": 8,
    "start_time": "2023-10-07T14:53:05.420Z"
   },
   {
    "duration": 95,
    "start_time": "2023-10-07T14:53:05.429Z"
   },
   {
    "duration": 56,
    "start_time": "2023-10-07T14:53:05.526Z"
   },
   {
    "duration": 42,
    "start_time": "2023-10-07T14:53:05.585Z"
   },
   {
    "duration": 49,
    "start_time": "2023-10-07T14:53:05.630Z"
   },
   {
    "duration": 3,
    "start_time": "2023-10-07T14:53:05.680Z"
   },
   {
    "duration": 118,
    "start_time": "2023-10-07T14:53:05.685Z"
   },
   {
    "duration": 285,
    "start_time": "2023-10-07T14:53:05.807Z"
   },
   {
    "duration": 70,
    "start_time": "2023-10-07T14:53:06.094Z"
   },
   {
    "duration": 54,
    "start_time": "2023-10-07T14:53:06.166Z"
   },
   {
    "duration": 277,
    "start_time": "2023-10-07T14:53:06.222Z"
   },
   {
    "duration": 37,
    "start_time": "2023-10-07T14:53:06.500Z"
   },
   {
    "duration": 29,
    "start_time": "2023-10-07T14:53:06.550Z"
   },
   {
    "duration": 13,
    "start_time": "2023-10-07T14:53:07.905Z"
   },
   {
    "duration": 10,
    "start_time": "2023-10-07T14:53:11.528Z"
   },
   {
    "duration": 3,
    "start_time": "2023-10-07T14:53:15.680Z"
   },
   {
    "duration": 20,
    "start_time": "2023-10-07T14:54:07.117Z"
   },
   {
    "duration": 11,
    "start_time": "2023-10-07T14:54:30.290Z"
   },
   {
    "duration": 3,
    "start_time": "2023-10-07T14:54:35.923Z"
   },
   {
    "duration": 118,
    "start_time": "2023-10-07T14:54:35.929Z"
   },
   {
    "duration": 25,
    "start_time": "2023-10-07T14:54:36.049Z"
   },
   {
    "duration": 37,
    "start_time": "2023-10-07T14:54:36.079Z"
   },
   {
    "duration": 20,
    "start_time": "2023-10-07T14:54:36.117Z"
   },
   {
    "duration": 43,
    "start_time": "2023-10-07T14:54:36.139Z"
   },
   {
    "duration": 12,
    "start_time": "2023-10-07T14:54:36.184Z"
   },
   {
    "duration": 26,
    "start_time": "2023-10-07T14:54:36.198Z"
   },
   {
    "duration": 35,
    "start_time": "2023-10-07T14:54:36.227Z"
   },
   {
    "duration": 25,
    "start_time": "2023-10-07T14:54:36.264Z"
   },
   {
    "duration": 29,
    "start_time": "2023-10-07T14:54:36.291Z"
   },
   {
    "duration": 35,
    "start_time": "2023-10-07T14:54:36.322Z"
   },
   {
    "duration": 20,
    "start_time": "2023-10-07T14:54:36.359Z"
   },
   {
    "duration": 28,
    "start_time": "2023-10-07T14:54:36.381Z"
   },
   {
    "duration": 220,
    "start_time": "2023-10-07T14:54:36.411Z"
   },
   {
    "duration": 35,
    "start_time": "2023-10-07T14:54:36.633Z"
   },
   {
    "duration": 7,
    "start_time": "2023-10-07T14:54:36.669Z"
   },
   {
    "duration": 28,
    "start_time": "2023-10-07T14:54:36.678Z"
   },
   {
    "duration": 13,
    "start_time": "2023-10-07T14:54:36.708Z"
   },
   {
    "duration": 16,
    "start_time": "2023-10-07T14:54:36.723Z"
   },
   {
    "duration": 25,
    "start_time": "2023-10-07T14:54:36.741Z"
   },
   {
    "duration": 19,
    "start_time": "2023-10-07T14:54:36.767Z"
   },
   {
    "duration": 27,
    "start_time": "2023-10-07T14:54:36.788Z"
   },
   {
    "duration": 226,
    "start_time": "2023-10-07T14:54:36.818Z"
   },
   {
    "duration": 2,
    "start_time": "2023-10-07T14:54:37.046Z"
   },
   {
    "duration": 24,
    "start_time": "2023-10-07T14:54:37.050Z"
   },
   {
    "duration": 36,
    "start_time": "2023-10-07T14:54:37.075Z"
   },
   {
    "duration": 29,
    "start_time": "2023-10-07T14:54:37.113Z"
   },
   {
    "duration": 28,
    "start_time": "2023-10-07T14:54:37.144Z"
   },
   {
    "duration": 265,
    "start_time": "2023-10-07T14:54:37.174Z"
   },
   {
    "duration": 387,
    "start_time": "2023-10-07T14:54:37.441Z"
   },
   {
    "duration": 229,
    "start_time": "2023-10-07T14:54:37.830Z"
   },
   {
    "duration": 11,
    "start_time": "2023-10-07T14:54:38.066Z"
   },
   {
    "duration": 86,
    "start_time": "2023-10-07T14:54:38.079Z"
   },
   {
    "duration": 46,
    "start_time": "2023-10-07T14:54:38.167Z"
   },
   {
    "duration": 28,
    "start_time": "2023-10-07T14:54:38.215Z"
   },
   {
    "duration": 34,
    "start_time": "2023-10-07T14:54:38.245Z"
   },
   {
    "duration": 2,
    "start_time": "2023-10-07T14:54:38.281Z"
   },
   {
    "duration": 131,
    "start_time": "2023-10-07T14:54:38.285Z"
   },
   {
    "duration": 273,
    "start_time": "2023-10-07T14:54:38.418Z"
   },
   {
    "duration": 34,
    "start_time": "2023-10-07T14:54:38.692Z"
   },
   {
    "duration": 87,
    "start_time": "2023-10-07T14:54:38.727Z"
   },
   {
    "duration": 206,
    "start_time": "2023-10-07T14:54:38.816Z"
   },
   {
    "duration": 37,
    "start_time": "2023-10-07T14:54:39.024Z"
   },
   {
    "duration": 28,
    "start_time": "2023-10-07T14:54:39.069Z"
   },
   {
    "duration": 14,
    "start_time": "2023-10-07T14:54:41.192Z"
   },
   {
    "duration": 25,
    "start_time": "2023-10-07T14:57:12.966Z"
   },
   {
    "duration": 13,
    "start_time": "2023-10-07T14:57:42.034Z"
   },
   {
    "duration": 6,
    "start_time": "2023-10-07T14:57:48.263Z"
   },
   {
    "duration": 103,
    "start_time": "2023-10-07T14:57:52.629Z"
   },
   {
    "duration": 86,
    "start_time": "2023-10-07T14:58:01.521Z"
   },
   {
    "duration": 4,
    "start_time": "2023-10-07T14:58:06.581Z"
   },
   {
    "duration": 10,
    "start_time": "2023-10-07T14:59:24.286Z"
   },
   {
    "duration": 6,
    "start_time": "2023-10-07T14:59:48.179Z"
   },
   {
    "duration": 85,
    "start_time": "2023-10-07T15:00:32.205Z"
   },
   {
    "duration": 3,
    "start_time": "2023-10-07T15:00:57.674Z"
   },
   {
    "duration": 8,
    "start_time": "2023-10-07T15:01:00.948Z"
   },
   {
    "duration": 100,
    "start_time": "2023-10-07T15:01:07.401Z"
   },
   {
    "duration": 13,
    "start_time": "2023-10-07T15:01:48.000Z"
   },
   {
    "duration": 3,
    "start_time": "2023-10-07T15:01:59.310Z"
   },
   {
    "duration": 95,
    "start_time": "2023-10-07T15:01:59.315Z"
   },
   {
    "duration": 15,
    "start_time": "2023-10-07T15:01:59.412Z"
   },
   {
    "duration": 10,
    "start_time": "2023-10-07T15:01:59.428Z"
   },
   {
    "duration": 23,
    "start_time": "2023-10-07T15:01:59.450Z"
   },
   {
    "duration": 20,
    "start_time": "2023-10-07T15:01:59.475Z"
   },
   {
    "duration": 8,
    "start_time": "2023-10-07T15:01:59.496Z"
   },
   {
    "duration": 22,
    "start_time": "2023-10-07T15:01:59.505Z"
   },
   {
    "duration": 30,
    "start_time": "2023-10-07T15:01:59.529Z"
   },
   {
    "duration": 13,
    "start_time": "2023-10-07T15:01:59.560Z"
   },
   {
    "duration": 24,
    "start_time": "2023-10-07T15:01:59.577Z"
   },
   {
    "duration": 20,
    "start_time": "2023-10-07T15:01:59.603Z"
   },
   {
    "duration": 6,
    "start_time": "2023-10-07T15:01:59.625Z"
   },
   {
    "duration": 21,
    "start_time": "2023-10-07T15:01:59.654Z"
   },
   {
    "duration": 225,
    "start_time": "2023-10-07T15:01:59.677Z"
   },
   {
    "duration": 20,
    "start_time": "2023-10-07T15:01:59.903Z"
   },
   {
    "duration": 39,
    "start_time": "2023-10-07T15:01:59.924Z"
   },
   {
    "duration": 71,
    "start_time": "2023-10-07T15:01:59.968Z"
   },
   {
    "duration": 92,
    "start_time": "2023-10-07T15:02:00.041Z"
   },
   {
    "duration": 68,
    "start_time": "2023-10-07T15:02:00.136Z"
   },
   {
    "duration": 162,
    "start_time": "2023-10-07T15:02:00.206Z"
   },
   {
    "duration": 30,
    "start_time": "2023-10-07T15:02:00.370Z"
   },
   {
    "duration": 40,
    "start_time": "2023-10-07T15:02:00.402Z"
   },
   {
    "duration": 254,
    "start_time": "2023-10-07T15:02:00.444Z"
   },
   {
    "duration": 3,
    "start_time": "2023-10-07T15:02:00.700Z"
   },
   {
    "duration": 82,
    "start_time": "2023-10-07T15:02:00.705Z"
   },
   {
    "duration": 59,
    "start_time": "2023-10-07T15:02:00.789Z"
   },
   {
    "duration": 139,
    "start_time": "2023-10-07T15:02:00.855Z"
   },
   {
    "duration": 153,
    "start_time": "2023-10-07T15:02:00.997Z"
   },
   {
    "duration": 495,
    "start_time": "2023-10-07T15:02:01.154Z"
   },
   {
    "duration": 414,
    "start_time": "2023-10-07T15:02:01.656Z"
   },
   {
    "duration": 176,
    "start_time": "2023-10-07T15:02:02.073Z"
   },
   {
    "duration": 10,
    "start_time": "2023-10-07T15:02:02.252Z"
   },
   {
    "duration": 113,
    "start_time": "2023-10-07T15:02:02.264Z"
   },
   {
    "duration": 48,
    "start_time": "2023-10-07T15:02:02.379Z"
   },
   {
    "duration": 35,
    "start_time": "2023-10-07T15:02:02.429Z"
   },
   {
    "duration": 31,
    "start_time": "2023-10-07T15:02:02.466Z"
   },
   {
    "duration": 19,
    "start_time": "2023-10-07T15:02:02.500Z"
   },
   {
    "duration": 147,
    "start_time": "2023-10-07T15:02:02.521Z"
   },
   {
    "duration": 275,
    "start_time": "2023-10-07T15:02:02.671Z"
   },
   {
    "duration": 52,
    "start_time": "2023-10-07T15:02:02.954Z"
   },
   {
    "duration": 91,
    "start_time": "2023-10-07T15:02:03.008Z"
   },
   {
    "duration": 221,
    "start_time": "2023-10-07T15:02:03.100Z"
   },
   {
    "duration": 41,
    "start_time": "2023-10-07T15:02:03.323Z"
   },
   {
    "duration": 41,
    "start_time": "2023-10-07T15:02:03.372Z"
   },
   {
    "duration": 31,
    "start_time": "2023-10-07T15:02:05.210Z"
   },
   {
    "duration": 7,
    "start_time": "2023-10-07T15:02:31.247Z"
   },
   {
    "duration": 16,
    "start_time": "2023-10-07T15:02:39.661Z"
   },
   {
    "duration": 13,
    "start_time": "2023-10-07T15:02:42.471Z"
   },
   {
    "duration": 7,
    "start_time": "2023-10-07T15:02:56.473Z"
   },
   {
    "duration": 4,
    "start_time": "2023-10-07T15:03:16.345Z"
   },
   {
    "duration": 26,
    "start_time": "2023-10-07T15:03:30.748Z"
   },
   {
    "duration": 7,
    "start_time": "2023-10-07T15:03:57.764Z"
   },
   {
    "duration": 30,
    "start_time": "2023-10-07T15:04:10.259Z"
   },
   {
    "duration": 4,
    "start_time": "2023-10-07T15:04:19.536Z"
   },
   {
    "duration": 107,
    "start_time": "2023-10-07T15:04:19.543Z"
   },
   {
    "duration": 23,
    "start_time": "2023-10-07T15:04:19.654Z"
   },
   {
    "duration": 24,
    "start_time": "2023-10-07T15:04:19.680Z"
   },
   {
    "duration": 43,
    "start_time": "2023-10-07T15:04:19.707Z"
   },
   {
    "duration": 34,
    "start_time": "2023-10-07T15:04:19.757Z"
   },
   {
    "duration": 12,
    "start_time": "2023-10-07T15:04:19.793Z"
   },
   {
    "duration": 41,
    "start_time": "2023-10-07T15:04:19.807Z"
   },
   {
    "duration": 27,
    "start_time": "2023-10-07T15:04:19.851Z"
   },
   {
    "duration": 20,
    "start_time": "2023-10-07T15:04:19.879Z"
   },
   {
    "duration": 18,
    "start_time": "2023-10-07T15:04:19.902Z"
   },
   {
    "duration": 21,
    "start_time": "2023-10-07T15:04:19.922Z"
   },
   {
    "duration": 8,
    "start_time": "2023-10-07T15:04:19.945Z"
   },
   {
    "duration": 8,
    "start_time": "2023-10-07T15:04:19.954Z"
   },
   {
    "duration": 244,
    "start_time": "2023-10-07T15:04:19.967Z"
   },
   {
    "duration": 22,
    "start_time": "2023-10-07T15:04:20.213Z"
   },
   {
    "duration": 16,
    "start_time": "2023-10-07T15:04:20.249Z"
   },
   {
    "duration": 35,
    "start_time": "2023-10-07T15:04:20.271Z"
   },
   {
    "duration": 57,
    "start_time": "2023-10-07T15:04:20.309Z"
   },
   {
    "duration": 50,
    "start_time": "2023-10-07T15:04:20.371Z"
   },
   {
    "duration": 31,
    "start_time": "2023-10-07T15:04:20.424Z"
   },
   {
    "duration": 31,
    "start_time": "2023-10-07T15:04:20.458Z"
   },
   {
    "duration": 42,
    "start_time": "2023-10-07T15:04:20.491Z"
   },
   {
    "duration": 309,
    "start_time": "2023-10-07T15:04:20.536Z"
   },
   {
    "duration": 8,
    "start_time": "2023-10-07T15:04:20.849Z"
   },
   {
    "duration": 28,
    "start_time": "2023-10-07T15:04:20.859Z"
   },
   {
    "duration": 29,
    "start_time": "2023-10-07T15:04:20.889Z"
   },
   {
    "duration": 36,
    "start_time": "2023-10-07T15:04:20.920Z"
   },
   {
    "duration": 13,
    "start_time": "2023-10-07T15:04:20.965Z"
   },
   {
    "duration": 312,
    "start_time": "2023-10-07T15:04:20.980Z"
   },
   {
    "duration": 311,
    "start_time": "2023-10-07T15:04:21.293Z"
   },
   {
    "duration": 281,
    "start_time": "2023-10-07T15:04:21.606Z"
   },
   {
    "duration": 9,
    "start_time": "2023-10-07T15:04:21.889Z"
   },
   {
    "duration": 117,
    "start_time": "2023-10-07T15:04:21.899Z"
   },
   {
    "duration": 58,
    "start_time": "2023-10-07T15:04:22.018Z"
   },
   {
    "duration": 9,
    "start_time": "2023-10-07T15:04:22.077Z"
   },
   {
    "duration": 20,
    "start_time": "2023-10-07T15:04:22.088Z"
   },
   {
    "duration": 3,
    "start_time": "2023-10-07T15:04:22.110Z"
   },
   {
    "duration": 113,
    "start_time": "2023-10-07T15:04:22.115Z"
   },
   {
    "duration": 364,
    "start_time": "2023-10-07T15:04:22.230Z"
   },
   {
    "duration": 78,
    "start_time": "2023-10-07T15:04:22.597Z"
   },
   {
    "duration": 61,
    "start_time": "2023-10-07T15:04:22.678Z"
   },
   {
    "duration": 266,
    "start_time": "2023-10-07T15:04:22.741Z"
   },
   {
    "duration": 29,
    "start_time": "2023-10-07T15:04:23.009Z"
   },
   {
    "duration": 38,
    "start_time": "2023-10-07T15:04:23.052Z"
   },
   {
    "duration": 9,
    "start_time": "2023-10-07T15:04:23.092Z"
   },
   {
    "duration": 3,
    "start_time": "2023-10-07T15:28:55.372Z"
   },
   {
    "duration": 66,
    "start_time": "2023-10-07T15:28:55.376Z"
   },
   {
    "duration": 16,
    "start_time": "2023-10-07T15:28:55.444Z"
   },
   {
    "duration": 19,
    "start_time": "2023-10-07T15:28:55.464Z"
   },
   {
    "duration": 20,
    "start_time": "2023-10-07T15:28:55.485Z"
   },
   {
    "duration": 32,
    "start_time": "2023-10-07T15:28:55.506Z"
   },
   {
    "duration": 25,
    "start_time": "2023-10-07T15:28:55.539Z"
   },
   {
    "duration": 20,
    "start_time": "2023-10-07T15:28:55.566Z"
   },
   {
    "duration": 26,
    "start_time": "2023-10-07T15:28:55.589Z"
   },
   {
    "duration": 24,
    "start_time": "2023-10-07T15:28:55.616Z"
   },
   {
    "duration": 43,
    "start_time": "2023-10-07T15:28:55.641Z"
   },
   {
    "duration": 30,
    "start_time": "2023-10-07T15:28:55.686Z"
   },
   {
    "duration": 16,
    "start_time": "2023-10-07T15:28:55.718Z"
   },
   {
    "duration": 28,
    "start_time": "2023-10-07T15:28:55.735Z"
   },
   {
    "duration": 259,
    "start_time": "2023-10-07T15:28:55.764Z"
   },
   {
    "duration": 25,
    "start_time": "2023-10-07T15:28:56.025Z"
   },
   {
    "duration": 14,
    "start_time": "2023-10-07T15:28:56.054Z"
   },
   {
    "duration": 38,
    "start_time": "2023-10-07T15:28:56.070Z"
   },
   {
    "duration": 29,
    "start_time": "2023-10-07T15:28:56.110Z"
   },
   {
    "duration": 16,
    "start_time": "2023-10-07T15:28:56.142Z"
   },
   {
    "duration": 24,
    "start_time": "2023-10-07T15:28:56.160Z"
   },
   {
    "duration": 30,
    "start_time": "2023-10-07T15:28:56.185Z"
   },
   {
    "duration": 23,
    "start_time": "2023-10-07T15:28:56.217Z"
   },
   {
    "duration": 232,
    "start_time": "2023-10-07T15:28:56.244Z"
   },
   {
    "duration": 2,
    "start_time": "2023-10-07T15:28:56.478Z"
   },
   {
    "duration": 25,
    "start_time": "2023-10-07T15:28:56.482Z"
   },
   {
    "duration": 27,
    "start_time": "2023-10-07T15:28:56.508Z"
   },
   {
    "duration": 36,
    "start_time": "2023-10-07T15:28:56.537Z"
   },
   {
    "duration": 24,
    "start_time": "2023-10-07T15:28:56.574Z"
   },
   {
    "duration": 245,
    "start_time": "2023-10-07T15:28:56.600Z"
   },
   {
    "duration": 259,
    "start_time": "2023-10-07T15:28:56.846Z"
   },
   {
    "duration": 164,
    "start_time": "2023-10-07T15:28:57.106Z"
   },
   {
    "duration": 7,
    "start_time": "2023-10-07T15:28:57.272Z"
   },
   {
    "duration": 140,
    "start_time": "2023-10-07T15:28:57.281Z"
   },
   {
    "duration": 48,
    "start_time": "2023-10-07T15:28:57.423Z"
   },
   {
    "duration": 8,
    "start_time": "2023-10-07T15:28:57.473Z"
   },
   {
    "duration": 22,
    "start_time": "2023-10-07T15:28:57.483Z"
   },
   {
    "duration": 10,
    "start_time": "2023-10-07T15:28:57.507Z"
   },
   {
    "duration": 114,
    "start_time": "2023-10-07T15:28:57.518Z"
   },
   {
    "duration": 231,
    "start_time": "2023-10-07T15:28:57.634Z"
   },
   {
    "duration": 42,
    "start_time": "2023-10-07T15:28:57.869Z"
   },
   {
    "duration": 49,
    "start_time": "2023-10-07T15:28:57.913Z"
   },
   {
    "duration": 204,
    "start_time": "2023-10-07T15:28:57.964Z"
   },
   {
    "duration": 23,
    "start_time": "2023-10-07T15:28:58.169Z"
   },
   {
    "duration": 33,
    "start_time": "2023-10-07T15:28:58.194Z"
   },
   {
    "duration": 3,
    "start_time": "2023-10-07T15:28:58.228Z"
   },
   {
    "duration": 13,
    "start_time": "2023-10-07T15:29:02.021Z"
   },
   {
    "duration": 10,
    "start_time": "2023-10-07T15:31:09.724Z"
   },
   {
    "duration": 49,
    "start_time": "2023-10-08T08:39:17.473Z"
   },
   {
    "duration": 1252,
    "start_time": "2023-10-08T08:39:24.489Z"
   },
   {
    "duration": 129,
    "start_time": "2023-10-08T08:39:25.743Z"
   },
   {
    "duration": 17,
    "start_time": "2023-10-08T08:39:25.874Z"
   },
   {
    "duration": 18,
    "start_time": "2023-10-08T08:39:25.893Z"
   },
   {
    "duration": 23,
    "start_time": "2023-10-08T08:39:25.913Z"
   },
   {
    "duration": 18,
    "start_time": "2023-10-08T08:39:25.938Z"
   },
   {
    "duration": 6,
    "start_time": "2023-10-08T08:39:25.958Z"
   },
   {
    "duration": 13,
    "start_time": "2023-10-08T08:39:25.966Z"
   },
   {
    "duration": 6,
    "start_time": "2023-10-08T08:39:25.981Z"
   },
   {
    "duration": 36,
    "start_time": "2023-10-08T08:39:25.989Z"
   },
   {
    "duration": 14,
    "start_time": "2023-10-08T08:39:26.026Z"
   },
   {
    "duration": 17,
    "start_time": "2023-10-08T08:39:26.041Z"
   },
   {
    "duration": 5,
    "start_time": "2023-10-08T08:39:26.059Z"
   },
   {
    "duration": 13,
    "start_time": "2023-10-08T08:39:26.066Z"
   },
   {
    "duration": 212,
    "start_time": "2023-10-08T08:39:26.361Z"
   },
   {
    "duration": 22,
    "start_time": "2023-10-08T08:39:26.576Z"
   },
   {
    "duration": 6,
    "start_time": "2023-10-08T08:39:26.599Z"
   },
   {
    "duration": 14,
    "start_time": "2023-10-08T08:39:26.623Z"
   },
   {
    "duration": 14,
    "start_time": "2023-10-08T08:39:26.640Z"
   },
   {
    "duration": 12,
    "start_time": "2023-10-08T08:39:26.656Z"
   },
   {
    "duration": 6,
    "start_time": "2023-10-08T08:39:26.670Z"
   },
   {
    "duration": 4,
    "start_time": "2023-10-08T08:39:26.678Z"
   },
   {
    "duration": 14,
    "start_time": "2023-10-08T08:39:26.684Z"
   },
   {
    "duration": 220,
    "start_time": "2023-10-08T08:39:26.700Z"
   },
   {
    "duration": 2,
    "start_time": "2023-10-08T08:39:26.924Z"
   },
   {
    "duration": 11,
    "start_time": "2023-10-08T08:39:26.928Z"
   },
   {
    "duration": 29,
    "start_time": "2023-10-08T08:39:26.941Z"
   },
   {
    "duration": 9,
    "start_time": "2023-10-08T08:39:26.972Z"
   },
   {
    "duration": 12,
    "start_time": "2023-10-08T08:39:26.983Z"
   },
   {
    "duration": 288,
    "start_time": "2023-10-08T08:39:26.996Z"
   },
   {
    "duration": 265,
    "start_time": "2023-10-08T08:39:27.286Z"
   },
   {
    "duration": 178,
    "start_time": "2023-10-08T08:39:27.552Z"
   },
   {
    "duration": 7,
    "start_time": "2023-10-08T08:39:27.732Z"
   },
   {
    "duration": 83,
    "start_time": "2023-10-08T08:39:27.741Z"
   },
   {
    "duration": 43,
    "start_time": "2023-10-08T08:39:27.825Z"
   },
   {
    "duration": 8,
    "start_time": "2023-10-08T08:39:27.870Z"
   },
   {
    "duration": 21,
    "start_time": "2023-10-08T08:39:27.880Z"
   },
   {
    "duration": 3,
    "start_time": "2023-10-08T08:39:27.923Z"
   },
   {
    "duration": 80,
    "start_time": "2023-10-08T08:39:27.927Z"
   },
   {
    "duration": 297,
    "start_time": "2023-10-08T08:39:28.008Z"
   },
   {
    "duration": 42,
    "start_time": "2023-10-08T08:39:28.307Z"
   },
   {
    "duration": 34,
    "start_time": "2023-10-08T08:39:28.351Z"
   },
   {
    "duration": 222,
    "start_time": "2023-10-08T08:39:28.387Z"
   },
   {
    "duration": 34,
    "start_time": "2023-10-08T08:39:28.610Z"
   },
   {
    "duration": 21,
    "start_time": "2023-10-08T08:39:28.645Z"
   },
   {
    "duration": 6,
    "start_time": "2023-10-08T08:39:28.667Z"
   },
   {
    "duration": 13,
    "start_time": "2023-10-08T08:39:28.675Z"
   },
   {
    "duration": 20,
    "start_time": "2023-10-08T08:44:30.922Z"
   },
   {
    "duration": 20,
    "start_time": "2023-10-08T08:44:53.857Z"
   },
   {
    "duration": 21,
    "start_time": "2023-10-08T08:45:33.644Z"
   },
   {
    "duration": 11,
    "start_time": "2023-10-08T08:45:49.037Z"
   },
   {
    "duration": 20,
    "start_time": "2023-10-08T08:45:52.003Z"
   },
   {
    "duration": 14,
    "start_time": "2023-10-08T08:46:03.375Z"
   },
   {
    "duration": 4,
    "start_time": "2023-10-08T08:46:09.026Z"
   },
   {
    "duration": 70,
    "start_time": "2023-10-08T08:46:09.033Z"
   },
   {
    "duration": 18,
    "start_time": "2023-10-08T08:46:09.105Z"
   },
   {
    "duration": 18,
    "start_time": "2023-10-08T08:46:09.126Z"
   },
   {
    "duration": 30,
    "start_time": "2023-10-08T08:46:09.147Z"
   },
   {
    "duration": 159,
    "start_time": "2023-10-08T08:46:09.179Z"
   },
   {
    "duration": 23,
    "start_time": "2023-10-08T08:46:09.340Z"
   },
   {
    "duration": 83,
    "start_time": "2023-10-08T08:46:09.365Z"
   },
   {
    "duration": 57,
    "start_time": "2023-10-08T08:46:09.450Z"
   },
   {
    "duration": 94,
    "start_time": "2023-10-08T08:46:09.508Z"
   },
   {
    "duration": 73,
    "start_time": "2023-10-08T08:46:09.604Z"
   },
   {
    "duration": 49,
    "start_time": "2023-10-08T08:46:09.679Z"
   },
   {
    "duration": 7,
    "start_time": "2023-10-08T08:46:09.741Z"
   },
   {
    "duration": 60,
    "start_time": "2023-10-08T08:46:09.750Z"
   },
   {
    "duration": 252,
    "start_time": "2023-10-08T08:46:09.811Z"
   },
   {
    "duration": 24,
    "start_time": "2023-10-08T08:46:10.065Z"
   },
   {
    "duration": 136,
    "start_time": "2023-10-08T08:46:10.091Z"
   },
   {
    "duration": 114,
    "start_time": "2023-10-08T08:46:10.229Z"
   },
   {
    "duration": 96,
    "start_time": "2023-10-08T08:46:10.345Z"
   },
   {
    "duration": 30,
    "start_time": "2023-10-08T08:46:10.444Z"
   },
   {
    "duration": 30,
    "start_time": "2023-10-08T08:46:10.475Z"
   },
   {
    "duration": 62,
    "start_time": "2023-10-08T08:46:10.506Z"
   },
   {
    "duration": 139,
    "start_time": "2023-10-08T08:46:10.570Z"
   },
   {
    "duration": 409,
    "start_time": "2023-10-08T08:46:10.711Z"
   },
   {
    "duration": 2,
    "start_time": "2023-10-08T08:46:11.123Z"
   },
   {
    "duration": 201,
    "start_time": "2023-10-08T08:46:11.127Z"
   },
   {
    "duration": 137,
    "start_time": "2023-10-08T08:46:11.330Z"
   },
   {
    "duration": 339,
    "start_time": "2023-10-08T08:46:11.469Z"
   },
   {
    "duration": 40,
    "start_time": "2023-10-08T08:46:11.810Z"
   },
   {
    "duration": 283,
    "start_time": "2023-10-08T08:46:11.852Z"
   },
   {
    "duration": 299,
    "start_time": "2023-10-08T08:46:12.138Z"
   },
   {
    "duration": 170,
    "start_time": "2023-10-08T08:46:12.440Z"
   },
   {
    "duration": 19,
    "start_time": "2023-10-08T08:46:12.611Z"
   },
   {
    "duration": 92,
    "start_time": "2023-10-08T08:46:12.636Z"
   },
   {
    "duration": 48,
    "start_time": "2023-10-08T08:46:12.730Z"
   },
   {
    "duration": 9,
    "start_time": "2023-10-08T08:46:12.779Z"
   },
   {
    "duration": 51,
    "start_time": "2023-10-08T08:46:12.792Z"
   },
   {
    "duration": 2,
    "start_time": "2023-10-08T08:46:12.845Z"
   },
   {
    "duration": 135,
    "start_time": "2023-10-08T08:46:12.849Z"
   },
   {
    "duration": 258,
    "start_time": "2023-10-08T08:46:12.986Z"
   },
   {
    "duration": 37,
    "start_time": "2023-10-08T08:46:13.246Z"
   },
   {
    "duration": 60,
    "start_time": "2023-10-08T08:46:13.285Z"
   },
   {
    "duration": 336,
    "start_time": "2023-10-08T08:46:13.346Z"
   },
   {
    "duration": 23,
    "start_time": "2023-10-08T08:46:13.683Z"
   },
   {
    "duration": 54,
    "start_time": "2023-10-08T08:46:13.708Z"
   },
   {
    "duration": 15,
    "start_time": "2023-10-08T08:46:13.764Z"
   },
   {
    "duration": 15,
    "start_time": "2023-10-08T08:46:13.780Z"
   },
   {
    "duration": 174,
    "start_time": "2023-10-08T08:46:13.797Z"
   },
   {
    "duration": 12,
    "start_time": "2023-10-08T08:46:16.797Z"
   },
   {
    "duration": 32,
    "start_time": "2023-10-08T08:46:25.717Z"
   },
   {
    "duration": 218,
    "start_time": "2023-10-08T08:48:06.918Z"
   },
   {
    "duration": 244,
    "start_time": "2023-10-08T08:48:25.993Z"
   },
   {
    "duration": 9,
    "start_time": "2023-10-08T08:57:46.793Z"
   },
   {
    "duration": 5,
    "start_time": "2023-10-08T08:57:51.041Z"
   },
   {
    "duration": 214,
    "start_time": "2023-10-08T08:57:57.136Z"
   },
   {
    "duration": 188,
    "start_time": "2023-10-08T08:59:22.800Z"
   },
   {
    "duration": 191,
    "start_time": "2023-10-08T08:59:31.426Z"
   },
   {
    "duration": 227,
    "start_time": "2023-10-08T08:59:40.262Z"
   },
   {
    "duration": 286,
    "start_time": "2023-10-08T09:00:06.066Z"
   },
   {
    "duration": 130,
    "start_time": "2023-10-08T09:00:32.173Z"
   },
   {
    "duration": 283,
    "start_time": "2023-10-08T09:00:39.995Z"
   },
   {
    "duration": 301,
    "start_time": "2023-10-08T09:01:39.009Z"
   },
   {
    "duration": 397,
    "start_time": "2023-10-08T09:02:17.358Z"
   },
   {
    "duration": 387,
    "start_time": "2023-10-08T09:02:35.615Z"
   },
   {
    "duration": 235,
    "start_time": "2023-10-08T09:03:31.111Z"
   },
   {
    "duration": 338,
    "start_time": "2023-10-08T09:05:02.253Z"
   },
   {
    "duration": 174,
    "start_time": "2023-10-08T09:07:47.060Z"
   },
   {
    "duration": 206,
    "start_time": "2023-10-08T09:08:07.744Z"
   },
   {
    "duration": 170,
    "start_time": "2023-10-08T09:08:29.894Z"
   },
   {
    "duration": 163,
    "start_time": "2023-10-08T09:08:39.095Z"
   },
   {
    "duration": 117,
    "start_time": "2023-10-08T09:09:12.017Z"
   },
   {
    "duration": 5,
    "start_time": "2023-10-08T09:14:38.676Z"
   },
   {
    "duration": 142,
    "start_time": "2023-10-08T09:15:46.906Z"
   },
   {
    "duration": 245,
    "start_time": "2023-10-08T09:16:00.394Z"
   },
   {
    "duration": 102,
    "start_time": "2023-10-08T09:16:29.655Z"
   },
   {
    "duration": 7,
    "start_time": "2023-10-08T09:16:57.397Z"
   },
   {
    "duration": 9,
    "start_time": "2023-10-08T09:17:43.578Z"
   },
   {
    "duration": 9,
    "start_time": "2023-10-08T09:17:56.627Z"
   },
   {
    "duration": 14,
    "start_time": "2023-10-08T09:18:00.615Z"
   },
   {
    "duration": 14,
    "start_time": "2023-10-08T09:18:10.128Z"
   },
   {
    "duration": 2742,
    "start_time": "2023-10-08T09:18:42.309Z"
   },
   {
    "duration": 2985,
    "start_time": "2023-10-08T09:18:47.839Z"
   },
   {
    "duration": 20,
    "start_time": "2023-10-08T09:21:13.872Z"
   },
   {
    "duration": 17,
    "start_time": "2023-10-08T09:21:28.575Z"
   },
   {
    "duration": 17,
    "start_time": "2023-10-08T09:21:37.422Z"
   },
   {
    "duration": 12,
    "start_time": "2023-10-08T09:21:42.869Z"
   },
   {
    "duration": 9,
    "start_time": "2023-10-08T09:22:44.691Z"
   },
   {
    "duration": 14,
    "start_time": "2023-10-08T09:22:54.377Z"
   },
   {
    "duration": 72,
    "start_time": "2023-10-08T09:22:58.926Z"
   },
   {
    "duration": 74,
    "start_time": "2023-10-08T09:23:08.487Z"
   },
   {
    "duration": 74,
    "start_time": "2023-10-08T09:23:15.512Z"
   },
   {
    "duration": 15,
    "start_time": "2023-10-08T09:23:28.591Z"
   },
   {
    "duration": 18,
    "start_time": "2023-10-08T09:24:42.165Z"
   },
   {
    "duration": 20,
    "start_time": "2023-10-08T09:24:49.520Z"
   },
   {
    "duration": 1198,
    "start_time": "2023-10-08T09:25:09.126Z"
   },
   {
    "duration": 1396,
    "start_time": "2023-10-08T09:25:18.863Z"
   },
   {
    "duration": 1441,
    "start_time": "2023-10-08T09:25:38.549Z"
   },
   {
    "duration": 83,
    "start_time": "2023-10-08T09:25:54.063Z"
   },
   {
    "duration": 1755,
    "start_time": "2023-10-08T09:25:57.351Z"
   },
   {
    "duration": 1561,
    "start_time": "2023-10-08T09:26:12.015Z"
   },
   {
    "duration": 128,
    "start_time": "2023-10-08T09:26:50.291Z"
   },
   {
    "duration": 2682,
    "start_time": "2023-10-08T09:27:08.326Z"
   },
   {
    "duration": 77,
    "start_time": "2023-10-08T09:27:25.970Z"
   },
   {
    "duration": 1450,
    "start_time": "2023-10-08T09:27:29.033Z"
   },
   {
    "duration": 1442,
    "start_time": "2023-10-08T09:27:37.035Z"
   },
   {
    "duration": 1646,
    "start_time": "2023-10-08T09:27:52.765Z"
   },
   {
    "duration": 1627,
    "start_time": "2023-10-08T09:28:14.066Z"
   },
   {
    "duration": 1641,
    "start_time": "2023-10-08T09:28:28.138Z"
   },
   {
    "duration": 4,
    "start_time": "2023-10-08T09:30:30.285Z"
   },
   {
    "duration": 1822,
    "start_time": "2023-10-08T09:30:38.976Z"
   },
   {
    "duration": 119,
    "start_time": "2023-10-08T09:31:14.259Z"
   },
   {
    "duration": 1788,
    "start_time": "2023-10-08T09:31:26.232Z"
   },
   {
    "duration": 1766,
    "start_time": "2023-10-08T09:31:54.146Z"
   },
   {
    "duration": 1968,
    "start_time": "2023-10-08T09:32:01.686Z"
   },
   {
    "duration": 1813,
    "start_time": "2023-10-08T09:32:09.641Z"
   },
   {
    "duration": 6,
    "start_time": "2023-10-08T09:32:40.052Z"
   },
   {
    "duration": 792,
    "start_time": "2023-10-08T09:32:48.811Z"
   },
   {
    "duration": 1331,
    "start_time": "2023-10-08T09:33:25.070Z"
   },
   {
    "duration": 112,
    "start_time": "2023-10-08T09:33:48.103Z"
   },
   {
    "duration": 1286,
    "start_time": "2023-10-08T09:33:54.266Z"
   },
   {
    "duration": 1089,
    "start_time": "2023-10-08T09:33:58.669Z"
   },
   {
    "duration": 761,
    "start_time": "2023-10-08T09:34:17.690Z"
   },
   {
    "duration": 755,
    "start_time": "2023-10-08T09:35:38.183Z"
   },
   {
    "duration": 731,
    "start_time": "2023-10-08T09:37:21.454Z"
   },
   {
    "duration": 938,
    "start_time": "2023-10-08T09:37:37.494Z"
   },
   {
    "duration": 79,
    "start_time": "2023-10-08T09:38:41.997Z"
   },
   {
    "duration": 765,
    "start_time": "2023-10-08T09:38:56.513Z"
   },
   {
    "duration": 762,
    "start_time": "2023-10-08T09:39:23.546Z"
   },
   {
    "duration": 740,
    "start_time": "2023-10-08T09:39:54.370Z"
   },
   {
    "duration": 792,
    "start_time": "2023-10-08T09:41:23.704Z"
   },
   {
    "duration": 953,
    "start_time": "2023-10-08T09:41:49.158Z"
   },
   {
    "duration": 787,
    "start_time": "2023-10-08T09:42:08.825Z"
   },
   {
    "duration": 13,
    "start_time": "2023-10-08T09:45:19.972Z"
   },
   {
    "duration": 293,
    "start_time": "2023-10-08T09:46:14.523Z"
   },
   {
    "duration": 316,
    "start_time": "2023-10-08T09:46:20.980Z"
   },
   {
    "duration": 306,
    "start_time": "2023-10-08T09:46:43.674Z"
   },
   {
    "duration": 298,
    "start_time": "2023-10-08T09:46:50.194Z"
   },
   {
    "duration": 20,
    "start_time": "2023-10-08T10:51:27.372Z"
   },
   {
    "duration": 4,
    "start_time": "2023-10-08T10:51:33.942Z"
   },
   {
    "duration": 374,
    "start_time": "2023-10-08T10:51:33.949Z"
   },
   {
    "duration": 65,
    "start_time": "2023-10-08T10:51:34.325Z"
   },
   {
    "duration": 213,
    "start_time": "2023-10-08T10:51:34.392Z"
   },
   {
    "duration": 340,
    "start_time": "2023-10-08T10:51:34.608Z"
   },
   {
    "duration": 148,
    "start_time": "2023-10-08T10:51:34.950Z"
   },
   {
    "duration": 94,
    "start_time": "2023-10-08T10:51:35.100Z"
   },
   {
    "duration": 52,
    "start_time": "2023-10-08T10:51:35.196Z"
   },
   {
    "duration": 10,
    "start_time": "2023-10-08T10:51:35.250Z"
   },
   {
    "duration": 39,
    "start_time": "2023-10-08T10:51:35.262Z"
   },
   {
    "duration": 99,
    "start_time": "2023-10-08T10:51:35.303Z"
   },
   {
    "duration": 90,
    "start_time": "2023-10-08T10:51:35.404Z"
   },
   {
    "duration": 33,
    "start_time": "2023-10-08T10:51:35.497Z"
   },
   {
    "duration": 44,
    "start_time": "2023-10-08T10:51:35.533Z"
   },
   {
    "duration": 410,
    "start_time": "2023-10-08T10:51:35.580Z"
   },
   {
    "duration": 55,
    "start_time": "2023-10-08T10:51:35.992Z"
   },
   {
    "duration": 145,
    "start_time": "2023-10-08T10:51:36.049Z"
   },
   {
    "duration": 351,
    "start_time": "2023-10-08T10:51:36.196Z"
   },
   {
    "duration": 252,
    "start_time": "2023-10-08T10:51:36.549Z"
   },
   {
    "duration": 99,
    "start_time": "2023-10-08T10:51:36.802Z"
   },
   {
    "duration": 193,
    "start_time": "2023-10-08T10:51:36.904Z"
   },
   {
    "duration": 191,
    "start_time": "2023-10-08T10:51:37.099Z"
   },
   {
    "duration": 198,
    "start_time": "2023-10-08T10:51:37.292Z"
   },
   {
    "duration": 420,
    "start_time": "2023-10-08T10:51:37.492Z"
   },
   {
    "duration": 3,
    "start_time": "2023-10-08T10:51:37.913Z"
   },
   {
    "duration": 74,
    "start_time": "2023-10-08T10:51:37.924Z"
   },
   {
    "duration": 102,
    "start_time": "2023-10-08T10:51:38.000Z"
   },
   {
    "duration": 164,
    "start_time": "2023-10-08T10:51:38.104Z"
   },
   {
    "duration": 64,
    "start_time": "2023-10-08T10:51:38.270Z"
   },
   {
    "duration": 429,
    "start_time": "2023-10-08T10:51:38.335Z"
   },
   {
    "duration": 491,
    "start_time": "2023-10-08T10:51:38.766Z"
   },
   {
    "duration": 179,
    "start_time": "2023-10-08T10:51:39.259Z"
   },
   {
    "duration": 17,
    "start_time": "2023-10-08T10:51:39.441Z"
   },
   {
    "duration": 97,
    "start_time": "2023-10-08T10:51:39.460Z"
   },
   {
    "duration": 149,
    "start_time": "2023-10-08T10:51:39.558Z"
   },
   {
    "duration": 34,
    "start_time": "2023-10-08T10:51:39.709Z"
   },
   {
    "duration": 141,
    "start_time": "2023-10-08T10:51:39.747Z"
   },
   {
    "duration": 187,
    "start_time": "2023-10-08T10:51:39.890Z"
   },
   {
    "duration": 249,
    "start_time": "2023-10-08T10:51:40.079Z"
   },
   {
    "duration": 251,
    "start_time": "2023-10-08T10:51:40.330Z"
   },
   {
    "duration": 72,
    "start_time": "2023-10-08T10:51:40.583Z"
   },
   {
    "duration": 36,
    "start_time": "2023-10-08T10:51:40.657Z"
   },
   {
    "duration": 313,
    "start_time": "2023-10-08T10:51:40.694Z"
   },
   {
    "duration": 39,
    "start_time": "2023-10-08T10:51:41.009Z"
   },
   {
    "duration": 103,
    "start_time": "2023-10-08T10:51:41.050Z"
   },
   {
    "duration": 89,
    "start_time": "2023-10-08T10:51:41.155Z"
   },
   {
    "duration": 96,
    "start_time": "2023-10-08T10:51:41.246Z"
   },
   {
    "duration": 242,
    "start_time": "2023-10-08T10:51:41.344Z"
   },
   {
    "duration": 13,
    "start_time": "2023-10-08T10:51:41.588Z"
   },
   {
    "duration": 100,
    "start_time": "2023-10-08T10:51:41.602Z"
   },
   {
    "duration": 220,
    "start_time": "2023-10-08T10:51:41.704Z"
   },
   {
    "duration": 279,
    "start_time": "2023-10-08T10:51:41.926Z"
   },
   {
    "duration": 327,
    "start_time": "2023-10-08T10:51:42.207Z"
   },
   {
    "duration": 320,
    "start_time": "2023-10-08T10:51:42.537Z"
   },
   {
    "duration": 209,
    "start_time": "2023-10-08T10:51:42.859Z"
   },
   {
    "duration": 190,
    "start_time": "2023-10-08T10:51:43.070Z"
   },
   {
    "duration": 31,
    "start_time": "2023-10-08T10:51:43.262Z"
   },
   {
    "duration": 968,
    "start_time": "2023-10-08T10:51:43.295Z"
   },
   {
    "duration": 32,
    "start_time": "2023-10-08T10:51:45.478Z"
   },
   {
    "duration": 22,
    "start_time": "2023-10-08T10:51:51.061Z"
   },
   {
    "duration": 29,
    "start_time": "2023-10-08T10:51:55.012Z"
   },
   {
    "duration": 24,
    "start_time": "2023-10-08T10:52:20.690Z"
   },
   {
    "duration": 22,
    "start_time": "2023-10-08T10:52:30.969Z"
   },
   {
    "duration": 121,
    "start_time": "2023-10-08T10:52:51.719Z"
   },
   {
    "duration": 208,
    "start_time": "2023-10-08T10:53:02.341Z"
   },
   {
    "duration": 21,
    "start_time": "2023-10-08T10:53:26.950Z"
   },
   {
    "duration": 21,
    "start_time": "2023-10-08T10:53:30.596Z"
   },
   {
    "duration": 84,
    "start_time": "2023-10-08T10:53:42.849Z"
   },
   {
    "duration": 27,
    "start_time": "2023-10-08T10:54:03.450Z"
   },
   {
    "duration": 26,
    "start_time": "2023-10-08T10:54:09.832Z"
   },
   {
    "duration": 22,
    "start_time": "2023-10-08T10:54:36.950Z"
   },
   {
    "duration": 31,
    "start_time": "2023-10-08T10:55:16.886Z"
   },
   {
    "duration": 18,
    "start_time": "2023-10-08T10:55:41.246Z"
   },
   {
    "duration": 20,
    "start_time": "2023-10-08T10:55:46.359Z"
   },
   {
    "duration": 4,
    "start_time": "2023-10-08T10:55:58.338Z"
   },
   {
    "duration": 9,
    "start_time": "2023-10-08T10:56:03.271Z"
   },
   {
    "duration": 282,
    "start_time": "2023-10-08T10:57:35.465Z"
   },
   {
    "duration": 89,
    "start_time": "2023-10-08T10:58:58.612Z"
   },
   {
    "duration": 13,
    "start_time": "2023-10-08T10:59:15.240Z"
   },
   {
    "duration": 12,
    "start_time": "2023-10-08T10:59:19.381Z"
   },
   {
    "duration": 9,
    "start_time": "2023-10-08T10:59:27.310Z"
   },
   {
    "duration": 94,
    "start_time": "2023-10-08T10:59:34.711Z"
   },
   {
    "duration": 4,
    "start_time": "2023-10-08T10:59:56.851Z"
   },
   {
    "duration": 6,
    "start_time": "2023-10-08T11:00:09.839Z"
   },
   {
    "duration": 338,
    "start_time": "2023-10-08T11:01:22.115Z"
   },
   {
    "duration": 8,
    "start_time": "2023-10-08T11:03:34.592Z"
   },
   {
    "duration": 9,
    "start_time": "2023-10-08T11:03:38.442Z"
   },
   {
    "duration": 9,
    "start_time": "2023-10-08T11:04:46.439Z"
   },
   {
    "duration": 312,
    "start_time": "2023-10-08T11:05:47.312Z"
   },
   {
    "duration": 325,
    "start_time": "2023-10-08T11:06:01.303Z"
   },
   {
    "duration": 270,
    "start_time": "2023-10-08T11:09:09.419Z"
   },
   {
    "duration": 258,
    "start_time": "2023-10-08T11:09:18.496Z"
   },
   {
    "duration": 299,
    "start_time": "2023-10-08T11:10:38.673Z"
   },
   {
    "duration": 321,
    "start_time": "2023-10-08T11:10:48.213Z"
   },
   {
    "duration": 914,
    "start_time": "2023-10-08T11:20:56.391Z"
   },
   {
    "duration": 783,
    "start_time": "2023-10-08T11:21:06.716Z"
   },
   {
    "duration": 14,
    "start_time": "2023-10-08T11:23:36.535Z"
   },
   {
    "duration": 32,
    "start_time": "2023-10-08T11:23:36.552Z"
   },
   {
    "duration": 283,
    "start_time": "2023-10-08T11:23:36.586Z"
   },
   {
    "duration": 18,
    "start_time": "2023-10-08T11:23:36.871Z"
   },
   {
    "duration": 318,
    "start_time": "2023-10-08T11:23:36.892Z"
   },
   {
    "duration": 257,
    "start_time": "2023-10-08T11:23:37.212Z"
   },
   {
    "duration": 17,
    "start_time": "2023-10-08T11:23:37.471Z"
   },
   {
    "duration": 235,
    "start_time": "2023-10-08T11:23:37.490Z"
   },
   {
    "duration": 15,
    "start_time": "2023-10-08T11:23:37.727Z"
   },
   {
    "duration": 32,
    "start_time": "2023-10-08T11:23:37.744Z"
   },
   {
    "duration": 285,
    "start_time": "2023-10-08T11:23:37.778Z"
   },
   {
    "duration": 17,
    "start_time": "2023-10-08T11:23:38.066Z"
   },
   {
    "duration": 300,
    "start_time": "2023-10-08T11:23:38.085Z"
   },
   {
    "duration": 219,
    "start_time": "2023-10-08T11:23:38.387Z"
   },
   {
    "duration": 25,
    "start_time": "2023-10-08T11:23:38.608Z"
   },
   {
    "duration": 230,
    "start_time": "2023-10-08T11:23:38.634Z"
   },
   {
    "duration": 15,
    "start_time": "2023-10-08T11:23:38.866Z"
   },
   {
    "duration": 29,
    "start_time": "2023-10-08T11:23:38.882Z"
   },
   {
    "duration": 287,
    "start_time": "2023-10-08T11:23:38.923Z"
   },
   {
    "duration": 25,
    "start_time": "2023-10-08T11:23:39.212Z"
   },
   {
    "duration": 328,
    "start_time": "2023-10-08T11:23:39.239Z"
   },
   {
    "duration": 373,
    "start_time": "2023-10-08T11:23:39.569Z"
   },
   {
    "duration": 17,
    "start_time": "2023-10-08T11:23:39.944Z"
   },
   {
    "duration": 24,
    "start_time": "2023-10-08T11:23:39.962Z"
   },
   {
    "duration": 222,
    "start_time": "2023-10-08T11:23:39.988Z"
   },
   {
    "duration": 24,
    "start_time": "2023-10-08T11:23:40.212Z"
   },
   {
    "duration": 27,
    "start_time": "2023-10-08T11:23:40.238Z"
   },
   {
    "duration": 14,
    "start_time": "2023-10-08T11:23:40.267Z"
   },
   {
    "duration": 22,
    "start_time": "2023-10-08T11:23:40.283Z"
   },
   {
    "duration": 13,
    "start_time": "2023-10-08T11:23:40.328Z"
   },
   {
    "duration": 11,
    "start_time": "2023-10-08T11:23:40.343Z"
   },
   {
    "duration": 20,
    "start_time": "2023-10-08T11:23:40.356Z"
   },
   {
    "duration": 264,
    "start_time": "2023-10-08T11:24:33.995Z"
   },
   {
    "duration": 269,
    "start_time": "2023-10-08T11:24:52.635Z"
   },
   {
    "duration": 246,
    "start_time": "2023-10-08T11:25:03.869Z"
   },
   {
    "duration": 264,
    "start_time": "2023-10-08T11:25:26.435Z"
   },
   {
    "duration": 234,
    "start_time": "2023-10-08T11:26:43.602Z"
   },
   {
    "duration": 231,
    "start_time": "2023-10-08T11:27:13.715Z"
   },
   {
    "duration": 270,
    "start_time": "2023-10-08T11:27:34.536Z"
   },
   {
    "duration": 201,
    "start_time": "2023-10-08T11:27:46.875Z"
   },
   {
    "duration": 257,
    "start_time": "2023-10-08T11:27:58.536Z"
   },
   {
    "duration": 240,
    "start_time": "2023-10-08T11:28:09.097Z"
   },
   {
    "duration": 19,
    "start_time": "2023-10-08T11:34:18.816Z"
   },
   {
    "duration": 5,
    "start_time": "2023-10-08T11:34:27.577Z"
   },
   {
    "duration": 302,
    "start_time": "2023-10-08T11:39:51.876Z"
   },
   {
    "duration": 201,
    "start_time": "2023-10-08T11:41:57.015Z"
   },
   {
    "duration": 252,
    "start_time": "2023-10-08T11:48:20.734Z"
   },
   {
    "duration": 397,
    "start_time": "2023-10-08T11:48:24.662Z"
   },
   {
    "duration": 242,
    "start_time": "2023-10-08T11:48:33.595Z"
   },
   {
    "duration": 108,
    "start_time": "2023-10-08T11:49:19.050Z"
   },
   {
    "duration": 12,
    "start_time": "2023-10-08T11:49:49.975Z"
   },
   {
    "duration": 10,
    "start_time": "2023-10-08T11:50:08.455Z"
   },
   {
    "duration": 143,
    "start_time": "2023-10-08T11:50:15.715Z"
   },
   {
    "duration": 118,
    "start_time": "2023-10-08T11:50:23.076Z"
   },
   {
    "duration": 145,
    "start_time": "2023-10-08T11:51:18.393Z"
   },
   {
    "duration": 127,
    "start_time": "2023-10-08T11:52:06.494Z"
   },
   {
    "duration": 131,
    "start_time": "2023-10-08T11:52:43.002Z"
   },
   {
    "duration": 309,
    "start_time": "2023-10-08T11:56:11.627Z"
   },
   {
    "duration": 260,
    "start_time": "2023-10-08T11:56:17.794Z"
   },
   {
    "duration": 23,
    "start_time": "2023-10-08T11:57:58.476Z"
   },
   {
    "duration": 320,
    "start_time": "2023-10-08T11:58:04.374Z"
   },
   {
    "duration": 333,
    "start_time": "2023-10-08T11:58:12.835Z"
   },
   {
    "duration": 238,
    "start_time": "2023-10-08T12:01:37.713Z"
   },
   {
    "duration": 238,
    "start_time": "2023-10-08T12:09:21.913Z"
   },
   {
    "duration": 239,
    "start_time": "2023-10-08T12:10:42.824Z"
   },
   {
    "duration": 202,
    "start_time": "2023-10-08T12:13:15.193Z"
   },
   {
    "duration": 249,
    "start_time": "2023-10-08T12:13:22.472Z"
   },
   {
    "duration": 202,
    "start_time": "2023-10-08T12:16:27.736Z"
   },
   {
    "duration": 409,
    "start_time": "2023-10-08T12:16:37.052Z"
   },
   {
    "duration": 336,
    "start_time": "2023-10-08T12:18:56.551Z"
   },
   {
    "duration": 239,
    "start_time": "2023-10-08T12:19:08.952Z"
   },
   {
    "duration": 301,
    "start_time": "2023-10-08T12:20:00.312Z"
   },
   {
    "duration": 285,
    "start_time": "2023-10-08T12:20:05.479Z"
   },
   {
    "duration": 331,
    "start_time": "2023-10-08T12:26:16.673Z"
   },
   {
    "duration": 268,
    "start_time": "2023-10-08T12:27:12.651Z"
   },
   {
    "duration": 224,
    "start_time": "2023-10-08T12:29:19.479Z"
   },
   {
    "duration": 206,
    "start_time": "2023-10-08T12:32:12.870Z"
   },
   {
    "duration": 192,
    "start_time": "2023-10-08T12:34:58.598Z"
   },
   {
    "duration": 9,
    "start_time": "2023-10-08T12:44:21.051Z"
   },
   {
    "duration": 12,
    "start_time": "2023-10-08T12:45:52.911Z"
   },
   {
    "duration": 5,
    "start_time": "2023-10-08T12:47:43.251Z"
   },
   {
    "duration": 5,
    "start_time": "2023-10-08T12:48:09.611Z"
   },
   {
    "duration": 1502,
    "start_time": "2023-10-08T12:48:42.910Z"
   },
   {
    "duration": 5,
    "start_time": "2023-10-08T12:48:53.770Z"
   },
   {
    "duration": 8,
    "start_time": "2023-10-08T12:49:00.032Z"
   },
   {
    "duration": 5,
    "start_time": "2023-10-08T12:49:11.657Z"
   },
   {
    "duration": 15,
    "start_time": "2023-10-08T12:49:37.212Z"
   },
   {
    "duration": 14,
    "start_time": "2023-10-08T12:51:35.434Z"
   },
   {
    "duration": 12,
    "start_time": "2023-10-08T12:54:38.060Z"
   },
   {
    "duration": 18,
    "start_time": "2023-10-08T12:54:56.733Z"
   },
   {
    "duration": 14,
    "start_time": "2023-10-08T12:55:26.078Z"
   },
   {
    "duration": 73,
    "start_time": "2023-10-08T12:56:40.111Z"
   },
   {
    "duration": 68,
    "start_time": "2023-10-08T12:56:44.721Z"
   },
   {
    "duration": 15,
    "start_time": "2023-10-08T12:56:49.179Z"
   },
   {
    "duration": 15,
    "start_time": "2023-10-08T12:57:15.051Z"
   },
   {
    "duration": 92,
    "start_time": "2023-10-08T12:57:23.420Z"
   },
   {
    "duration": 96,
    "start_time": "2023-10-08T12:57:32.857Z"
   },
   {
    "duration": 87,
    "start_time": "2023-10-08T12:58:24.839Z"
   },
   {
    "duration": 82,
    "start_time": "2023-10-08T13:00:42.085Z"
   },
   {
    "duration": 245,
    "start_time": "2023-10-08T13:00:45.857Z"
   },
   {
    "duration": 14,
    "start_time": "2023-10-08T13:01:21.494Z"
   },
   {
    "duration": 8,
    "start_time": "2023-10-08T13:01:55.092Z"
   },
   {
    "duration": 14,
    "start_time": "2023-10-08T13:02:02.432Z"
   },
   {
    "duration": 18,
    "start_time": "2023-10-08T13:02:10.881Z"
   },
   {
    "duration": 3,
    "start_time": "2023-10-08T13:02:18.052Z"
   },
   {
    "duration": 104,
    "start_time": "2023-10-08T13:02:18.065Z"
   },
   {
    "duration": 15,
    "start_time": "2023-10-08T13:02:18.171Z"
   },
   {
    "duration": 47,
    "start_time": "2023-10-08T13:02:18.188Z"
   },
   {
    "duration": 58,
    "start_time": "2023-10-08T13:02:18.236Z"
   },
   {
    "duration": 52,
    "start_time": "2023-10-08T13:02:18.296Z"
   },
   {
    "duration": 20,
    "start_time": "2023-10-08T13:02:18.350Z"
   },
   {
    "duration": 23,
    "start_time": "2023-10-08T13:02:18.371Z"
   },
   {
    "duration": 24,
    "start_time": "2023-10-08T13:02:18.395Z"
   },
   {
    "duration": 50,
    "start_time": "2023-10-08T13:02:18.421Z"
   },
   {
    "duration": 57,
    "start_time": "2023-10-08T13:02:18.473Z"
   },
   {
    "duration": 27,
    "start_time": "2023-10-08T13:02:18.531Z"
   },
   {
    "duration": 18,
    "start_time": "2023-10-08T13:02:18.559Z"
   },
   {
    "duration": 42,
    "start_time": "2023-10-08T13:02:18.579Z"
   },
   {
    "duration": 233,
    "start_time": "2023-10-08T13:02:18.625Z"
   },
   {
    "duration": 19,
    "start_time": "2023-10-08T13:02:18.860Z"
   },
   {
    "duration": 14,
    "start_time": "2023-10-08T13:02:18.881Z"
   },
   {
    "duration": 59,
    "start_time": "2023-10-08T13:02:18.897Z"
   },
   {
    "duration": 31,
    "start_time": "2023-10-08T13:02:18.957Z"
   },
   {
    "duration": 9,
    "start_time": "2023-10-08T13:02:18.990Z"
   },
   {
    "duration": 19,
    "start_time": "2023-10-08T13:02:19.001Z"
   },
   {
    "duration": 28,
    "start_time": "2023-10-08T13:02:19.022Z"
   },
   {
    "duration": 15,
    "start_time": "2023-10-08T13:02:19.052Z"
   },
   {
    "duration": 236,
    "start_time": "2023-10-08T13:02:19.069Z"
   },
   {
    "duration": 2,
    "start_time": "2023-10-08T13:02:19.307Z"
   },
   {
    "duration": 20,
    "start_time": "2023-10-08T13:02:19.323Z"
   },
   {
    "duration": 41,
    "start_time": "2023-10-08T13:02:19.345Z"
   },
   {
    "duration": 45,
    "start_time": "2023-10-08T13:02:19.388Z"
   },
   {
    "duration": 35,
    "start_time": "2023-10-08T13:02:19.435Z"
   },
   {
    "duration": 302,
    "start_time": "2023-10-08T13:02:19.472Z"
   },
   {
    "duration": 446,
    "start_time": "2023-10-08T13:02:19.776Z"
   },
   {
    "duration": 178,
    "start_time": "2023-10-08T13:02:20.224Z"
   },
   {
    "duration": 20,
    "start_time": "2023-10-08T13:02:20.404Z"
   },
   {
    "duration": 97,
    "start_time": "2023-10-08T13:02:20.426Z"
   },
   {
    "duration": 48,
    "start_time": "2023-10-08T13:02:20.526Z"
   },
   {
    "duration": 134,
    "start_time": "2023-10-08T13:02:20.575Z"
   },
   {
    "duration": 182,
    "start_time": "2023-10-08T13:02:20.712Z"
   },
   {
    "duration": 109,
    "start_time": "2023-10-08T13:02:20.897Z"
   },
   {
    "duration": 169,
    "start_time": "2023-10-08T13:02:21.008Z"
   },
   {
    "duration": 225,
    "start_time": "2023-10-08T13:02:21.179Z"
   },
   {
    "duration": 45,
    "start_time": "2023-10-08T13:02:21.405Z"
   },
   {
    "duration": 100,
    "start_time": "2023-10-08T13:02:21.455Z"
   },
   {
    "duration": 252,
    "start_time": "2023-10-08T13:02:21.557Z"
   },
   {
    "duration": 30,
    "start_time": "2023-10-08T13:02:21.811Z"
   },
   {
    "duration": 23,
    "start_time": "2023-10-08T13:02:21.843Z"
   },
   {
    "duration": 25,
    "start_time": "2023-10-08T13:02:21.868Z"
   },
   {
    "duration": 22,
    "start_time": "2023-10-08T13:02:21.895Z"
   },
   {
    "duration": 173,
    "start_time": "2023-10-08T13:02:21.919Z"
   },
   {
    "duration": 13,
    "start_time": "2023-10-08T13:02:22.094Z"
   },
   {
    "duration": 46,
    "start_time": "2023-10-08T13:02:22.109Z"
   },
   {
    "duration": 239,
    "start_time": "2023-10-08T13:02:22.158Z"
   },
   {
    "duration": 258,
    "start_time": "2023-10-08T13:02:22.399Z"
   },
   {
    "duration": 303,
    "start_time": "2023-10-08T13:02:22.659Z"
   },
   {
    "duration": 326,
    "start_time": "2023-10-08T13:02:22.964Z"
   },
   {
    "duration": 185,
    "start_time": "2023-10-08T13:02:23.291Z"
   },
   {
    "duration": 176,
    "start_time": "2023-10-08T13:02:23.478Z"
   },
   {
    "duration": 40,
    "start_time": "2023-10-08T13:02:23.656Z"
   },
   {
    "duration": 928,
    "start_time": "2023-10-08T13:02:23.698Z"
   },
   {
    "duration": 20,
    "start_time": "2023-10-08T13:02:24.628Z"
   },
   {
    "duration": 122,
    "start_time": "2023-10-08T13:02:24.650Z"
   },
   {
    "duration": 337,
    "start_time": "2023-10-08T13:02:24.773Z"
   },
   {
    "duration": 17,
    "start_time": "2023-10-08T13:02:25.112Z"
   },
   {
    "duration": 473,
    "start_time": "2023-10-08T13:02:25.131Z"
   },
   {
    "duration": 328,
    "start_time": "2023-10-08T13:02:25.606Z"
   },
   {
    "duration": 300,
    "start_time": "2023-10-08T13:02:25.937Z"
   },
   {
    "duration": 13,
    "start_time": "2023-10-08T13:02:26.239Z"
   },
   {
    "duration": 64,
    "start_time": "2023-10-08T13:02:26.254Z"
   },
   {
    "duration": 277,
    "start_time": "2023-10-08T13:02:26.320Z"
   },
   {
    "duration": 27,
    "start_time": "2023-10-08T13:02:26.598Z"
   },
   {
    "duration": 289,
    "start_time": "2023-10-08T13:02:26.627Z"
   },
   {
    "duration": 315,
    "start_time": "2023-10-08T13:02:26.919Z"
   },
   {
    "duration": 227,
    "start_time": "2023-10-08T13:02:27.236Z"
   },
   {
    "duration": 17,
    "start_time": "2023-10-08T13:02:27.465Z"
   },
   {
    "duration": 230,
    "start_time": "2023-10-08T13:02:27.483Z"
   },
   {
    "duration": 4,
    "start_time": "2023-10-08T13:02:27.715Z"
   },
   {
    "duration": 212,
    "start_time": "2023-10-08T13:02:27.723Z"
   },
   {
    "duration": 16,
    "start_time": "2023-10-08T13:02:27.936Z"
   },
   {
    "duration": 31,
    "start_time": "2023-10-08T13:02:27.954Z"
   },
   {
    "duration": 284,
    "start_time": "2023-10-08T13:02:27.987Z"
   },
   {
    "duration": 419,
    "start_time": "2023-10-08T13:02:28.273Z"
   },
   {
    "duration": 151,
    "start_time": "2023-10-08T13:02:28.694Z"
   },
   {
    "duration": 17,
    "start_time": "2023-10-08T13:02:28.846Z"
   },
   {
    "duration": 280,
    "start_time": "2023-10-08T13:02:28.864Z"
   },
   {
    "duration": 313,
    "start_time": "2023-10-08T13:02:29.145Z"
   },
   {
    "duration": 222,
    "start_time": "2023-10-08T13:02:29.460Z"
   },
   {
    "duration": 17,
    "start_time": "2023-10-08T13:02:29.684Z"
   },
   {
    "duration": 205,
    "start_time": "2023-10-08T13:02:29.702Z"
   },
   {
    "duration": 223,
    "start_time": "2023-10-08T13:02:29.908Z"
   },
   {
    "duration": 14,
    "start_time": "2023-10-08T13:02:30.133Z"
   },
   {
    "duration": 99,
    "start_time": "2023-10-08T13:02:30.149Z"
   },
   {
    "duration": 497,
    "start_time": "2023-10-08T13:02:30.250Z"
   },
   {
    "duration": 302,
    "start_time": "2023-10-08T13:02:30.748Z"
   },
   {
    "duration": 16,
    "start_time": "2023-10-08T13:02:31.052Z"
   },
   {
    "duration": 338,
    "start_time": "2023-10-08T13:02:31.070Z"
   },
   {
    "duration": 290,
    "start_time": "2023-10-08T13:02:31.410Z"
   },
   {
    "duration": 228,
    "start_time": "2023-10-08T13:02:31.702Z"
   },
   {
    "duration": 17,
    "start_time": "2023-10-08T13:02:31.932Z"
   },
   {
    "duration": 467,
    "start_time": "2023-10-08T13:02:31.951Z"
   },
   {
    "duration": 442,
    "start_time": "2023-10-08T13:02:32.420Z"
   },
   {
    "duration": 338,
    "start_time": "2023-10-08T13:02:32.863Z"
   },
   {
    "duration": 31,
    "start_time": "2023-10-08T13:02:33.203Z"
   },
   {
    "duration": 23,
    "start_time": "2023-10-08T13:02:36.132Z"
   },
   {
    "duration": 20,
    "start_time": "2023-10-08T13:02:46.894Z"
   },
   {
    "duration": 25,
    "start_time": "2023-10-08T13:02:54.161Z"
   },
   {
    "duration": 25,
    "start_time": "2023-10-08T13:03:00.684Z"
   },
   {
    "duration": 10,
    "start_time": "2023-10-08T13:03:12.452Z"
   },
   {
    "duration": 12,
    "start_time": "2023-10-08T13:03:50.597Z"
   },
   {
    "duration": 18,
    "start_time": "2023-10-08T13:04:06.012Z"
   },
   {
    "duration": 5,
    "start_time": "2023-10-08T13:04:38.899Z"
   },
   {
    "duration": 20,
    "start_time": "2023-10-08T13:04:47.833Z"
   },
   {
    "duration": 14,
    "start_time": "2023-10-08T13:05:00.074Z"
   },
   {
    "duration": 4,
    "start_time": "2023-10-08T13:05:25.261Z"
   },
   {
    "duration": 244,
    "start_time": "2023-10-08T13:05:25.267Z"
   },
   {
    "duration": 110,
    "start_time": "2023-10-08T13:05:25.513Z"
   },
   {
    "duration": 32,
    "start_time": "2023-10-08T13:05:25.625Z"
   },
   {
    "duration": 139,
    "start_time": "2023-10-08T13:05:25.659Z"
   },
   {
    "duration": 67,
    "start_time": "2023-10-08T13:05:25.800Z"
   },
   {
    "duration": 34,
    "start_time": "2023-10-08T13:05:25.869Z"
   },
   {
    "duration": 77,
    "start_time": "2023-10-08T13:05:25.906Z"
   },
   {
    "duration": 33,
    "start_time": "2023-10-08T13:05:25.986Z"
   },
   {
    "duration": 41,
    "start_time": "2023-10-08T13:05:26.021Z"
   },
   {
    "duration": 64,
    "start_time": "2023-10-08T13:05:26.064Z"
   },
   {
    "duration": 58,
    "start_time": "2023-10-08T13:05:26.130Z"
   },
   {
    "duration": 55,
    "start_time": "2023-10-08T13:05:26.190Z"
   },
   {
    "duration": 51,
    "start_time": "2023-10-08T13:05:26.247Z"
   },
   {
    "duration": 294,
    "start_time": "2023-10-08T13:05:26.300Z"
   },
   {
    "duration": 38,
    "start_time": "2023-10-08T13:05:26.596Z"
   },
   {
    "duration": 20,
    "start_time": "2023-10-08T13:05:26.637Z"
   },
   {
    "duration": 190,
    "start_time": "2023-10-08T13:05:26.659Z"
   },
   {
    "duration": 91,
    "start_time": "2023-10-08T13:05:26.851Z"
   },
   {
    "duration": 233,
    "start_time": "2023-10-08T13:05:26.944Z"
   },
   {
    "duration": 167,
    "start_time": "2023-10-08T13:05:27.180Z"
   },
   {
    "duration": 107,
    "start_time": "2023-10-08T13:05:27.350Z"
   },
   {
    "duration": 76,
    "start_time": "2023-10-08T13:05:27.459Z"
   },
   {
    "duration": 436,
    "start_time": "2023-10-08T13:05:27.536Z"
   },
   {
    "duration": 2,
    "start_time": "2023-10-08T13:05:27.974Z"
   },
   {
    "duration": 112,
    "start_time": "2023-10-08T13:05:27.978Z"
   },
   {
    "duration": 176,
    "start_time": "2023-10-08T13:05:28.091Z"
   },
   {
    "duration": 164,
    "start_time": "2023-10-08T13:05:28.269Z"
   },
   {
    "duration": 50,
    "start_time": "2023-10-08T13:05:28.437Z"
   },
   {
    "duration": 311,
    "start_time": "2023-10-08T13:05:28.488Z"
   },
   {
    "duration": 290,
    "start_time": "2023-10-08T13:05:28.802Z"
   },
   {
    "duration": 179,
    "start_time": "2023-10-08T13:05:29.094Z"
   },
   {
    "duration": 11,
    "start_time": "2023-10-08T13:05:29.275Z"
   },
   {
    "duration": 83,
    "start_time": "2023-10-08T13:05:29.288Z"
   },
   {
    "duration": 64,
    "start_time": "2023-10-08T13:05:29.373Z"
   },
   {
    "duration": 11,
    "start_time": "2023-10-08T13:05:29.439Z"
   },
   {
    "duration": 59,
    "start_time": "2023-10-08T13:05:29.452Z"
   },
   {
    "duration": 43,
    "start_time": "2023-10-08T13:05:29.513Z"
   },
   {
    "duration": 141,
    "start_time": "2023-10-08T13:05:29.557Z"
   },
   {
    "duration": 252,
    "start_time": "2023-10-08T13:05:29.700Z"
   },
   {
    "duration": 39,
    "start_time": "2023-10-08T13:05:29.953Z"
   },
   {
    "duration": 320,
    "start_time": "2023-10-08T13:05:29.994Z"
   },
   {
    "duration": 553,
    "start_time": "2023-10-08T13:05:30.316Z"
   },
   {
    "duration": 329,
    "start_time": "2023-10-08T13:05:30.871Z"
   },
   {
    "duration": 50,
    "start_time": "2023-10-08T13:05:31.202Z"
   },
   {
    "duration": 41,
    "start_time": "2023-10-08T13:05:31.255Z"
   },
   {
    "duration": 54,
    "start_time": "2023-10-08T13:05:31.298Z"
   },
   {
    "duration": 270,
    "start_time": "2023-10-08T13:05:31.354Z"
   },
   {
    "duration": 15,
    "start_time": "2023-10-08T13:05:31.626Z"
   },
   {
    "duration": 100,
    "start_time": "2023-10-08T13:05:31.643Z"
   },
   {
    "duration": 363,
    "start_time": "2023-10-08T13:05:31.745Z"
   },
   {
    "duration": 491,
    "start_time": "2023-10-08T13:05:32.110Z"
   },
   {
    "duration": 326,
    "start_time": "2023-10-08T13:05:32.603Z"
   },
   {
    "duration": 495,
    "start_time": "2023-10-08T13:05:32.931Z"
   },
   {
    "duration": 174,
    "start_time": "2023-10-08T13:05:33.429Z"
   },
   {
    "duration": 222,
    "start_time": "2023-10-08T13:05:33.605Z"
   },
   {
    "duration": 29,
    "start_time": "2023-10-08T13:05:33.829Z"
   },
   {
    "duration": 750,
    "start_time": "2023-10-08T13:05:33.859Z"
   },
   {
    "duration": 29,
    "start_time": "2023-10-08T13:05:34.611Z"
   },
   {
    "duration": 82,
    "start_time": "2023-10-08T13:05:34.642Z"
   },
   {
    "duration": 382,
    "start_time": "2023-10-08T13:05:34.726Z"
   },
   {
    "duration": 15,
    "start_time": "2023-10-08T13:05:35.110Z"
   },
   {
    "duration": 343,
    "start_time": "2023-10-08T13:05:35.126Z"
   },
   {
    "duration": 271,
    "start_time": "2023-10-08T13:05:35.471Z"
   },
   {
    "duration": 340,
    "start_time": "2023-10-08T13:05:35.744Z"
   },
   {
    "duration": 15,
    "start_time": "2023-10-08T13:05:36.086Z"
   },
   {
    "duration": 227,
    "start_time": "2023-10-08T13:05:36.103Z"
   },
   {
    "duration": 396,
    "start_time": "2023-10-08T13:05:36.331Z"
   },
   {
    "duration": 16,
    "start_time": "2023-10-08T13:05:36.728Z"
   },
   {
    "duration": 378,
    "start_time": "2023-10-08T13:05:36.746Z"
   },
   {
    "duration": 307,
    "start_time": "2023-10-08T13:05:37.126Z"
   },
   {
    "duration": 223,
    "start_time": "2023-10-08T13:05:37.435Z"
   },
   {
    "duration": 15,
    "start_time": "2023-10-08T13:05:37.660Z"
   },
   {
    "duration": 506,
    "start_time": "2023-10-08T13:05:37.677Z"
   },
   {
    "duration": 4,
    "start_time": "2023-10-08T13:05:38.185Z"
   },
   {
    "duration": 219,
    "start_time": "2023-10-08T13:05:38.191Z"
   },
   {
    "duration": 17,
    "start_time": "2023-10-08T13:05:38.411Z"
   },
   {
    "duration": 124,
    "start_time": "2023-10-08T13:05:38.430Z"
   },
   {
    "duration": 285,
    "start_time": "2023-10-08T13:05:38.556Z"
   },
   {
    "duration": 282,
    "start_time": "2023-10-08T13:05:38.843Z"
   },
   {
    "duration": 143,
    "start_time": "2023-10-08T13:05:39.127Z"
   },
   {
    "duration": 17,
    "start_time": "2023-10-08T13:05:39.272Z"
   },
   {
    "duration": 281,
    "start_time": "2023-10-08T13:05:39.296Z"
   },
   {
    "duration": 327,
    "start_time": "2023-10-08T13:05:39.579Z"
   },
   {
    "duration": 218,
    "start_time": "2023-10-08T13:05:39.908Z"
   },
   {
    "duration": 16,
    "start_time": "2023-10-08T13:05:40.128Z"
   },
   {
    "duration": 274,
    "start_time": "2023-10-08T13:05:40.146Z"
   },
   {
    "duration": 220,
    "start_time": "2023-10-08T13:05:40.425Z"
   },
   {
    "duration": 15,
    "start_time": "2023-10-08T13:05:40.646Z"
   },
   {
    "duration": 38,
    "start_time": "2023-10-08T13:05:40.663Z"
   },
   {
    "duration": 426,
    "start_time": "2023-10-08T13:05:40.704Z"
   },
   {
    "duration": 286,
    "start_time": "2023-10-08T13:05:41.132Z"
   },
   {
    "duration": 20,
    "start_time": "2023-10-08T13:05:41.420Z"
   },
   {
    "duration": 412,
    "start_time": "2023-10-08T13:05:41.442Z"
   },
   {
    "duration": 269,
    "start_time": "2023-10-08T13:05:41.856Z"
   },
   {
    "duration": 216,
    "start_time": "2023-10-08T13:05:42.127Z"
   },
   {
    "duration": 15,
    "start_time": "2023-10-08T13:05:42.345Z"
   },
   {
    "duration": 26,
    "start_time": "2023-10-08T13:05:42.362Z"
   },
   {
    "duration": 388,
    "start_time": "2023-10-08T13:05:42.390Z"
   },
   {
    "duration": 220,
    "start_time": "2023-10-08T13:05:42.779Z"
   },
   {
    "duration": 24,
    "start_time": "2023-10-08T13:05:43.001Z"
   },
   {
    "duration": 15,
    "start_time": "2023-10-08T13:06:05.675Z"
   },
   {
    "duration": 21,
    "start_time": "2023-10-08T13:06:23.293Z"
   },
   {
    "duration": 9,
    "start_time": "2023-10-08T13:06:33.646Z"
   },
   {
    "duration": 9,
    "start_time": "2023-10-08T13:06:44.154Z"
   },
   {
    "duration": 7,
    "start_time": "2023-10-08T13:06:56.960Z"
   },
   {
    "duration": 13,
    "start_time": "2023-10-08T13:07:04.094Z"
   },
   {
    "duration": 15,
    "start_time": "2023-10-08T13:07:07.776Z"
   },
   {
    "duration": 4,
    "start_time": "2023-10-08T13:07:28.592Z"
   },
   {
    "duration": 61,
    "start_time": "2023-10-08T13:07:28.606Z"
   },
   {
    "duration": 15,
    "start_time": "2023-10-08T13:07:28.669Z"
   },
   {
    "duration": 24,
    "start_time": "2023-10-08T13:07:28.686Z"
   },
   {
    "duration": 19,
    "start_time": "2023-10-08T13:07:28.712Z"
   },
   {
    "duration": 32,
    "start_time": "2023-10-08T13:07:28.734Z"
   },
   {
    "duration": 20,
    "start_time": "2023-10-08T13:07:28.768Z"
   },
   {
    "duration": 46,
    "start_time": "2023-10-08T13:07:28.790Z"
   },
   {
    "duration": 32,
    "start_time": "2023-10-08T13:07:28.838Z"
   },
   {
    "duration": 33,
    "start_time": "2023-10-08T13:07:28.873Z"
   },
   {
    "duration": 50,
    "start_time": "2023-10-08T13:07:28.908Z"
   },
   {
    "duration": 75,
    "start_time": "2023-10-08T13:07:28.960Z"
   },
   {
    "duration": 90,
    "start_time": "2023-10-08T13:07:29.037Z"
   },
   {
    "duration": 56,
    "start_time": "2023-10-08T13:07:29.128Z"
   },
   {
    "duration": 218,
    "start_time": "2023-10-08T13:07:29.186Z"
   },
   {
    "duration": 33,
    "start_time": "2023-10-08T13:07:29.406Z"
   },
   {
    "duration": 76,
    "start_time": "2023-10-08T13:07:29.441Z"
   },
   {
    "duration": 35,
    "start_time": "2023-10-08T13:07:29.519Z"
   },
   {
    "duration": 40,
    "start_time": "2023-10-08T13:07:29.557Z"
   },
   {
    "duration": 58,
    "start_time": "2023-10-08T13:07:29.599Z"
   },
   {
    "duration": 31,
    "start_time": "2023-10-08T13:07:29.659Z"
   },
   {
    "duration": 20,
    "start_time": "2023-10-08T13:07:29.692Z"
   },
   {
    "duration": 30,
    "start_time": "2023-10-08T13:07:29.714Z"
   },
   {
    "duration": 265,
    "start_time": "2023-10-08T13:07:29.745Z"
   },
   {
    "duration": 12,
    "start_time": "2023-10-08T13:07:30.012Z"
   },
   {
    "duration": 77,
    "start_time": "2023-10-08T13:07:30.026Z"
   },
   {
    "duration": 106,
    "start_time": "2023-10-08T13:07:30.105Z"
   },
   {
    "duration": 77,
    "start_time": "2023-10-08T13:07:30.213Z"
   },
   {
    "duration": 388,
    "start_time": "2023-10-08T13:07:30.292Z"
   },
   {
    "duration": 393,
    "start_time": "2023-10-08T13:07:30.682Z"
   },
   {
    "duration": 297,
    "start_time": "2023-10-08T13:07:31.077Z"
   },
   {
    "duration": 165,
    "start_time": "2023-10-08T13:07:31.376Z"
   },
   {
    "duration": 8,
    "start_time": "2023-10-08T13:07:31.542Z"
   },
   {
    "duration": 98,
    "start_time": "2023-10-08T13:07:31.552Z"
   },
   {
    "duration": 87,
    "start_time": "2023-10-08T13:07:31.652Z"
   },
   {
    "duration": 62,
    "start_time": "2023-10-08T13:07:31.740Z"
   },
   {
    "duration": 126,
    "start_time": "2023-10-08T13:07:31.804Z"
   },
   {
    "duration": 71,
    "start_time": "2023-10-08T13:07:31.932Z"
   },
   {
    "duration": 229,
    "start_time": "2023-10-08T13:07:32.005Z"
   },
   {
    "duration": 288,
    "start_time": "2023-10-08T13:07:32.236Z"
   },
   {
    "duration": 337,
    "start_time": "2023-10-08T13:07:32.526Z"
   },
   {
    "duration": 163,
    "start_time": "2023-10-08T13:07:32.865Z"
   },
   {
    "duration": 298,
    "start_time": "2023-10-08T13:07:33.029Z"
   },
   {
    "duration": 25,
    "start_time": "2023-10-08T13:07:33.328Z"
   },
   {
    "duration": 41,
    "start_time": "2023-10-08T13:07:33.355Z"
   },
   {
    "duration": 45,
    "start_time": "2023-10-08T13:07:33.402Z"
   },
   {
    "duration": 105,
    "start_time": "2023-10-08T13:07:33.449Z"
   },
   {
    "duration": 238,
    "start_time": "2023-10-08T13:07:33.555Z"
   },
   {
    "duration": 13,
    "start_time": "2023-10-08T13:07:33.795Z"
   },
   {
    "duration": 124,
    "start_time": "2023-10-08T13:07:33.809Z"
   },
   {
    "duration": 342,
    "start_time": "2023-10-08T13:07:33.935Z"
   },
   {
    "duration": 256,
    "start_time": "2023-10-08T13:07:34.279Z"
   },
   {
    "duration": 484,
    "start_time": "2023-10-08T13:07:34.537Z"
   },
   {
    "duration": 281,
    "start_time": "2023-10-08T13:07:35.024Z"
   },
   {
    "duration": 174,
    "start_time": "2023-10-08T13:07:35.307Z"
   },
   {
    "duration": 183,
    "start_time": "2023-10-08T13:07:35.482Z"
   },
   {
    "duration": 39,
    "start_time": "2023-10-08T13:07:35.667Z"
   },
   {
    "duration": 822,
    "start_time": "2023-10-08T13:07:35.708Z"
   },
   {
    "duration": 25,
    "start_time": "2023-10-08T13:07:36.532Z"
   },
   {
    "duration": 12,
    "start_time": "2023-10-08T13:07:36.559Z"
   },
   {
    "duration": 352,
    "start_time": "2023-10-08T13:07:36.574Z"
   },
   {
    "duration": 10,
    "start_time": "2023-10-08T13:07:36.928Z"
   },
   {
    "duration": 419,
    "start_time": "2023-10-08T13:07:36.940Z"
   },
   {
    "duration": 268,
    "start_time": "2023-10-08T13:07:37.361Z"
   },
   {
    "duration": 287,
    "start_time": "2023-10-08T13:07:37.631Z"
   },
   {
    "duration": 15,
    "start_time": "2023-10-08T13:07:37.919Z"
   },
   {
    "duration": 45,
    "start_time": "2023-10-08T13:07:37.936Z"
   },
   {
    "duration": 266,
    "start_time": "2023-10-08T13:07:37.983Z"
   },
   {
    "duration": 18,
    "start_time": "2023-10-08T13:07:38.250Z"
   },
   {
    "duration": 466,
    "start_time": "2023-10-08T13:07:38.269Z"
   },
   {
    "duration": 331,
    "start_time": "2023-10-08T13:07:38.738Z"
   },
   {
    "duration": 245,
    "start_time": "2023-10-08T13:07:39.071Z"
   },
   {
    "duration": 21,
    "start_time": "2023-10-08T13:07:39.318Z"
   },
   {
    "duration": 233,
    "start_time": "2023-10-08T13:07:39.341Z"
   },
   {
    "duration": 5,
    "start_time": "2023-10-08T13:07:39.576Z"
   },
   {
    "duration": 281,
    "start_time": "2023-10-08T13:07:39.582Z"
   },
   {
    "duration": 14,
    "start_time": "2023-10-08T13:07:39.865Z"
   },
   {
    "duration": 132,
    "start_time": "2023-10-08T13:07:39.881Z"
   },
   {
    "duration": 421,
    "start_time": "2023-10-08T13:07:40.015Z"
   },
   {
    "duration": 264,
    "start_time": "2023-10-08T13:07:40.438Z"
   },
   {
    "duration": 247,
    "start_time": "2023-10-08T13:07:40.704Z"
   },
   {
    "duration": 186,
    "start_time": "2023-10-08T13:07:40.953Z"
   },
   {
    "duration": 338,
    "start_time": "2023-10-08T13:07:41.141Z"
   },
   {
    "duration": 300,
    "start_time": "2023-10-08T13:07:41.481Z"
   },
   {
    "duration": 241,
    "start_time": "2023-10-08T13:07:41.783Z"
   },
   {
    "duration": 16,
    "start_time": "2023-10-08T13:07:42.025Z"
   },
   {
    "duration": 311,
    "start_time": "2023-10-08T13:07:42.043Z"
   },
   {
    "duration": 219,
    "start_time": "2023-10-08T13:07:42.356Z"
   },
   {
    "duration": 15,
    "start_time": "2023-10-08T13:07:42.576Z"
   },
   {
    "duration": 106,
    "start_time": "2023-10-08T13:07:42.592Z"
   },
   {
    "duration": 388,
    "start_time": "2023-10-08T13:07:42.700Z"
   },
   {
    "duration": 312,
    "start_time": "2023-10-08T13:07:43.090Z"
   },
   {
    "duration": 29,
    "start_time": "2023-10-08T13:07:43.405Z"
   },
   {
    "duration": 338,
    "start_time": "2023-10-08T13:07:43.436Z"
   },
   {
    "duration": 464,
    "start_time": "2023-10-08T13:07:43.777Z"
   },
   {
    "duration": 217,
    "start_time": "2023-10-08T13:07:44.243Z"
   },
   {
    "duration": 16,
    "start_time": "2023-10-08T13:07:44.462Z"
   },
   {
    "duration": 9,
    "start_time": "2023-10-08T13:07:44.479Z"
   },
   {
    "duration": 216,
    "start_time": "2023-10-08T13:07:44.489Z"
   },
   {
    "duration": 230,
    "start_time": "2023-10-08T13:07:44.707Z"
   },
   {
    "duration": 14,
    "start_time": "2023-10-08T13:07:44.939Z"
   },
   {
    "duration": 34,
    "start_time": "2023-10-08T13:07:44.955Z"
   },
   {
    "duration": 9,
    "start_time": "2023-10-08T13:07:56.712Z"
   },
   {
    "duration": 18,
    "start_time": "2023-10-08T13:08:35.452Z"
   },
   {
    "duration": 20,
    "start_time": "2023-10-08T13:08:54.192Z"
   },
   {
    "duration": 20,
    "start_time": "2023-10-08T13:09:10.396Z"
   },
   {
    "duration": 3,
    "start_time": "2023-10-08T13:09:20.639Z"
   },
   {
    "duration": 80,
    "start_time": "2023-10-08T13:09:20.644Z"
   },
   {
    "duration": 15,
    "start_time": "2023-10-08T13:09:20.725Z"
   },
   {
    "duration": 67,
    "start_time": "2023-10-08T13:09:20.742Z"
   },
   {
    "duration": 63,
    "start_time": "2023-10-08T13:09:20.812Z"
   },
   {
    "duration": 61,
    "start_time": "2023-10-08T13:09:20.877Z"
   },
   {
    "duration": 45,
    "start_time": "2023-10-08T13:09:20.941Z"
   },
   {
    "duration": 56,
    "start_time": "2023-10-08T13:09:20.988Z"
   },
   {
    "duration": 18,
    "start_time": "2023-10-08T13:09:21.046Z"
   },
   {
    "duration": 50,
    "start_time": "2023-10-08T13:09:21.066Z"
   },
   {
    "duration": 26,
    "start_time": "2023-10-08T13:09:21.117Z"
   },
   {
    "duration": 40,
    "start_time": "2023-10-08T13:09:21.145Z"
   },
   {
    "duration": 17,
    "start_time": "2023-10-08T13:09:21.187Z"
   },
   {
    "duration": 21,
    "start_time": "2023-10-08T13:09:21.207Z"
   },
   {
    "duration": 205,
    "start_time": "2023-10-08T13:09:21.229Z"
   },
   {
    "duration": 20,
    "start_time": "2023-10-08T13:09:21.436Z"
   },
   {
    "duration": 39,
    "start_time": "2023-10-08T13:09:21.458Z"
   },
   {
    "duration": 28,
    "start_time": "2023-10-08T13:09:21.499Z"
   },
   {
    "duration": 20,
    "start_time": "2023-10-08T13:09:21.528Z"
   },
   {
    "duration": 15,
    "start_time": "2023-10-08T13:09:21.550Z"
   },
   {
    "duration": 19,
    "start_time": "2023-10-08T13:09:21.567Z"
   },
   {
    "duration": 13,
    "start_time": "2023-10-08T13:09:21.588Z"
   },
   {
    "duration": 12,
    "start_time": "2023-10-08T13:09:21.603Z"
   },
   {
    "duration": 212,
    "start_time": "2023-10-08T13:09:21.617Z"
   },
   {
    "duration": 2,
    "start_time": "2023-10-08T13:09:21.831Z"
   },
   {
    "duration": 90,
    "start_time": "2023-10-08T13:09:21.834Z"
   },
   {
    "duration": 89,
    "start_time": "2023-10-08T13:09:21.926Z"
   },
   {
    "duration": 90,
    "start_time": "2023-10-08T13:09:22.017Z"
   },
   {
    "duration": 79,
    "start_time": "2023-10-08T13:09:22.108Z"
   },
   {
    "duration": 326,
    "start_time": "2023-10-08T13:09:22.189Z"
   },
   {
    "duration": 287,
    "start_time": "2023-10-08T13:09:22.517Z"
   },
   {
    "duration": 185,
    "start_time": "2023-10-08T13:09:22.806Z"
   },
   {
    "duration": 9,
    "start_time": "2023-10-08T13:09:22.993Z"
   },
   {
    "duration": 72,
    "start_time": "2023-10-08T13:09:23.003Z"
   },
   {
    "duration": 64,
    "start_time": "2023-10-08T13:09:23.076Z"
   },
   {
    "duration": 41,
    "start_time": "2023-10-08T13:09:23.142Z"
   },
   {
    "duration": 33,
    "start_time": "2023-10-08T13:09:23.185Z"
   },
   {
    "duration": 3,
    "start_time": "2023-10-08T13:09:23.219Z"
   },
   {
    "duration": 114,
    "start_time": "2023-10-08T13:09:23.224Z"
   },
   {
    "duration": 228,
    "start_time": "2023-10-08T13:09:23.340Z"
   },
   {
    "duration": 37,
    "start_time": "2023-10-08T13:09:23.573Z"
   },
   {
    "duration": 37,
    "start_time": "2023-10-08T13:09:23.624Z"
   },
   {
    "duration": 222,
    "start_time": "2023-10-08T13:09:23.663Z"
   },
   {
    "duration": 24,
    "start_time": "2023-10-08T13:09:23.888Z"
   },
   {
    "duration": 28,
    "start_time": "2023-10-08T13:09:23.924Z"
   },
   {
    "duration": 5,
    "start_time": "2023-10-08T13:09:23.955Z"
   },
   {
    "duration": 16,
    "start_time": "2023-10-08T13:09:23.962Z"
   },
   {
    "duration": 188,
    "start_time": "2023-10-08T13:09:23.979Z"
   },
   {
    "duration": 12,
    "start_time": "2023-10-08T13:09:24.169Z"
   },
   {
    "duration": 60,
    "start_time": "2023-10-08T13:09:24.182Z"
   },
   {
    "duration": 372,
    "start_time": "2023-10-08T13:09:24.243Z"
   },
   {
    "duration": 247,
    "start_time": "2023-10-08T13:09:24.623Z"
   },
   {
    "duration": 307,
    "start_time": "2023-10-08T13:09:24.872Z"
   },
   {
    "duration": 278,
    "start_time": "2023-10-08T13:09:25.181Z"
   },
   {
    "duration": 171,
    "start_time": "2023-10-08T13:09:25.461Z"
   },
   {
    "duration": 205,
    "start_time": "2023-10-08T13:09:25.635Z"
   },
   {
    "duration": 42,
    "start_time": "2023-10-08T13:09:25.843Z"
   },
   {
    "duration": 816,
    "start_time": "2023-10-08T13:09:25.887Z"
   },
   {
    "duration": 31,
    "start_time": "2023-10-08T13:09:26.705Z"
   },
   {
    "duration": 18,
    "start_time": "2023-10-08T13:09:26.738Z"
   },
   {
    "duration": 355,
    "start_time": "2023-10-08T13:09:26.758Z"
   },
   {
    "duration": 11,
    "start_time": "2023-10-08T13:09:27.115Z"
   },
   {
    "duration": 315,
    "start_time": "2023-10-08T13:09:27.127Z"
   },
   {
    "duration": 271,
    "start_time": "2023-10-08T13:09:27.443Z"
   },
   {
    "duration": 473,
    "start_time": "2023-10-08T13:09:27.716Z"
   },
   {
    "duration": 13,
    "start_time": "2023-10-08T13:09:28.191Z"
   },
   {
    "duration": 250,
    "start_time": "2023-10-08T13:09:28.206Z"
   },
   {
    "duration": 312,
    "start_time": "2023-10-08T13:09:28.460Z"
   },
   {
    "duration": 17,
    "start_time": "2023-10-08T13:09:28.774Z"
   },
   {
    "duration": 359,
    "start_time": "2023-10-08T13:09:28.793Z"
   },
   {
    "duration": 316,
    "start_time": "2023-10-08T13:09:29.154Z"
   },
   {
    "duration": 229,
    "start_time": "2023-10-08T13:09:29.472Z"
   },
   {
    "duration": 28,
    "start_time": "2023-10-08T13:09:29.703Z"
   },
   {
    "duration": 217,
    "start_time": "2023-10-08T13:09:29.732Z"
   },
   {
    "duration": 5,
    "start_time": "2023-10-08T13:09:29.950Z"
   },
   {
    "duration": 207,
    "start_time": "2023-10-08T13:09:29.956Z"
   },
   {
    "duration": 15,
    "start_time": "2023-10-08T13:09:30.165Z"
   },
   {
    "duration": 185,
    "start_time": "2023-10-08T13:09:30.182Z"
   },
   {
    "duration": 323,
    "start_time": "2023-10-08T13:09:30.369Z"
   },
   {
    "duration": 259,
    "start_time": "2023-10-08T13:09:30.694Z"
   },
   {
    "duration": 154,
    "start_time": "2023-10-08T13:09:30.955Z"
   },
   {
    "duration": 20,
    "start_time": "2023-10-08T13:09:31.110Z"
   },
   {
    "duration": 325,
    "start_time": "2023-10-08T13:09:31.132Z"
   },
   {
    "duration": 322,
    "start_time": "2023-10-08T13:09:31.459Z"
   },
   {
    "duration": 230,
    "start_time": "2023-10-08T13:09:31.783Z"
   },
   {
    "duration": 24,
    "start_time": "2023-10-08T13:09:32.014Z"
   },
   {
    "duration": 241,
    "start_time": "2023-10-08T13:09:32.040Z"
   },
   {
    "duration": 228,
    "start_time": "2023-10-08T13:09:32.283Z"
   },
   {
    "duration": 19,
    "start_time": "2023-10-08T13:09:32.513Z"
   },
   {
    "duration": 58,
    "start_time": "2023-10-08T13:09:32.534Z"
   },
   {
    "duration": 319,
    "start_time": "2023-10-08T13:09:32.594Z"
   },
   {
    "duration": 492,
    "start_time": "2023-10-08T13:09:32.915Z"
   },
   {
    "duration": 24,
    "start_time": "2023-10-08T13:09:33.408Z"
   },
   {
    "duration": 344,
    "start_time": "2023-10-08T13:09:33.434Z"
   },
   {
    "duration": 286,
    "start_time": "2023-10-08T13:09:33.779Z"
   },
   {
    "duration": 221,
    "start_time": "2023-10-08T13:09:34.067Z"
   },
   {
    "duration": 34,
    "start_time": "2023-10-08T13:09:34.290Z"
   },
   {
    "duration": 12,
    "start_time": "2023-10-08T13:09:34.326Z"
   },
   {
    "duration": 207,
    "start_time": "2023-10-08T13:09:34.339Z"
   },
   {
    "duration": 204,
    "start_time": "2023-10-08T13:09:34.547Z"
   },
   {
    "duration": 14,
    "start_time": "2023-10-08T13:09:34.752Z"
   },
   {
    "duration": 16,
    "start_time": "2023-10-08T13:09:37.651Z"
   },
   {
    "duration": 10,
    "start_time": "2023-10-08T13:10:00.939Z"
   },
   {
    "duration": 9,
    "start_time": "2023-10-08T13:10:07.036Z"
   },
   {
    "duration": 11,
    "start_time": "2023-10-08T13:10:13.231Z"
   },
   {
    "duration": 4,
    "start_time": "2023-10-08T13:10:20.833Z"
   },
   {
    "duration": 9,
    "start_time": "2023-10-08T13:10:25.100Z"
   },
   {
    "duration": 27,
    "start_time": "2023-10-08T13:10:39.392Z"
   },
   {
    "duration": 20,
    "start_time": "2023-10-08T13:10:52.653Z"
   },
   {
    "duration": 7,
    "start_time": "2023-10-08T13:11:59.213Z"
   },
   {
    "duration": 10,
    "start_time": "2023-10-08T13:12:03.692Z"
   },
   {
    "duration": 10,
    "start_time": "2023-10-08T13:12:19.913Z"
   },
   {
    "duration": 12,
    "start_time": "2023-10-08T13:12:26.733Z"
   },
   {
    "duration": 10,
    "start_time": "2023-10-08T13:12:40.134Z"
   },
   {
    "duration": 5,
    "start_time": "2023-10-08T13:13:05.112Z"
   },
   {
    "duration": 6,
    "start_time": "2023-10-08T13:13:13.305Z"
   },
   {
    "duration": 4,
    "start_time": "2023-10-08T13:13:30.613Z"
   },
   {
    "duration": 12,
    "start_time": "2023-10-08T13:13:34.451Z"
   },
   {
    "duration": 11,
    "start_time": "2023-10-08T13:13:49.393Z"
   },
   {
    "duration": 6,
    "start_time": "2023-10-08T13:13:58.478Z"
   },
   {
    "duration": 11,
    "start_time": "2023-10-08T13:14:04.232Z"
   },
   {
    "duration": 6,
    "start_time": "2023-10-08T13:14:12.020Z"
   },
   {
    "duration": 13,
    "start_time": "2023-10-08T13:14:16.883Z"
   },
   {
    "duration": 19,
    "start_time": "2023-10-08T13:14:24.387Z"
   },
   {
    "duration": 3,
    "start_time": "2023-10-08T13:14:47.734Z"
   },
   {
    "duration": 128,
    "start_time": "2023-10-08T13:14:47.740Z"
   },
   {
    "duration": 14,
    "start_time": "2023-10-08T13:14:47.870Z"
   },
   {
    "duration": 28,
    "start_time": "2023-10-08T13:14:47.891Z"
   },
   {
    "duration": 28,
    "start_time": "2023-10-08T13:14:47.923Z"
   },
   {
    "duration": 50,
    "start_time": "2023-10-08T13:14:47.953Z"
   },
   {
    "duration": 29,
    "start_time": "2023-10-08T13:14:48.005Z"
   },
   {
    "duration": 35,
    "start_time": "2023-10-08T13:14:48.036Z"
   },
   {
    "duration": 26,
    "start_time": "2023-10-08T13:14:48.073Z"
   },
   {
    "duration": 37,
    "start_time": "2023-10-08T13:14:48.100Z"
   },
   {
    "duration": 47,
    "start_time": "2023-10-08T13:14:48.139Z"
   },
   {
    "duration": 63,
    "start_time": "2023-10-08T13:14:48.187Z"
   },
   {
    "duration": 43,
    "start_time": "2023-10-08T13:14:48.251Z"
   },
   {
    "duration": 64,
    "start_time": "2023-10-08T13:14:48.296Z"
   },
   {
    "duration": 253,
    "start_time": "2023-10-08T13:14:48.362Z"
   },
   {
    "duration": 23,
    "start_time": "2023-10-08T13:14:48.616Z"
   },
   {
    "duration": 22,
    "start_time": "2023-10-08T13:14:48.642Z"
   },
   {
    "duration": 95,
    "start_time": "2023-10-08T13:14:48.665Z"
   },
   {
    "duration": 45,
    "start_time": "2023-10-08T13:14:48.762Z"
   },
   {
    "duration": 57,
    "start_time": "2023-10-08T13:14:48.809Z"
   },
   {
    "duration": 38,
    "start_time": "2023-10-08T13:14:48.868Z"
   },
   {
    "duration": 60,
    "start_time": "2023-10-08T13:14:48.908Z"
   },
   {
    "duration": 32,
    "start_time": "2023-10-08T13:14:48.970Z"
   },
   {
    "duration": 227,
    "start_time": "2023-10-08T13:14:49.004Z"
   },
   {
    "duration": 3,
    "start_time": "2023-10-08T13:14:49.233Z"
   },
   {
    "duration": 21,
    "start_time": "2023-10-08T13:14:49.238Z"
   },
   {
    "duration": 18,
    "start_time": "2023-10-08T13:14:49.261Z"
   },
   {
    "duration": 33,
    "start_time": "2023-10-08T13:14:49.281Z"
   },
   {
    "duration": 58,
    "start_time": "2023-10-08T13:14:49.316Z"
   },
   {
    "duration": 289,
    "start_time": "2023-10-08T13:14:49.376Z"
   },
   {
    "duration": 276,
    "start_time": "2023-10-08T13:14:49.667Z"
   },
   {
    "duration": 169,
    "start_time": "2023-10-08T13:14:49.945Z"
   },
   {
    "duration": 12,
    "start_time": "2023-10-08T13:14:50.116Z"
   },
   {
    "duration": 58,
    "start_time": "2023-10-08T13:14:50.130Z"
   },
   {
    "duration": 53,
    "start_time": "2023-10-08T13:14:50.190Z"
   },
   {
    "duration": 10,
    "start_time": "2023-10-08T13:14:50.245Z"
   },
   {
    "duration": 27,
    "start_time": "2023-10-08T13:14:50.256Z"
   },
   {
    "duration": 21,
    "start_time": "2023-10-08T13:14:50.285Z"
   },
   {
    "duration": 124,
    "start_time": "2023-10-08T13:14:50.308Z"
   },
   {
    "duration": 240,
    "start_time": "2023-10-08T13:14:50.435Z"
   },
   {
    "duration": 34,
    "start_time": "2023-10-08T13:14:50.677Z"
   },
   {
    "duration": 44,
    "start_time": "2023-10-08T13:14:50.724Z"
   },
   {
    "duration": 397,
    "start_time": "2023-10-08T13:14:50.769Z"
   },
   {
    "duration": 23,
    "start_time": "2023-10-08T13:14:51.171Z"
   },
   {
    "duration": 37,
    "start_time": "2023-10-08T13:14:51.196Z"
   },
   {
    "duration": 4,
    "start_time": "2023-10-08T13:14:51.235Z"
   },
   {
    "duration": 32,
    "start_time": "2023-10-08T13:14:51.240Z"
   },
   {
    "duration": 186,
    "start_time": "2023-10-08T13:14:51.274Z"
   },
   {
    "duration": 13,
    "start_time": "2023-10-08T13:14:51.462Z"
   },
   {
    "duration": 67,
    "start_time": "2023-10-08T13:14:51.476Z"
   },
   {
    "duration": 211,
    "start_time": "2023-10-08T13:14:51.545Z"
   },
   {
    "duration": 248,
    "start_time": "2023-10-08T13:14:51.757Z"
   },
   {
    "duration": 297,
    "start_time": "2023-10-08T13:14:52.007Z"
   },
   {
    "duration": 284,
    "start_time": "2023-10-08T13:14:52.306Z"
   },
   {
    "duration": 175,
    "start_time": "2023-10-08T13:14:52.592Z"
   },
   {
    "duration": 193,
    "start_time": "2023-10-08T13:14:52.768Z"
   },
   {
    "duration": 31,
    "start_time": "2023-10-08T13:14:52.963Z"
   },
   {
    "duration": 787,
    "start_time": "2023-10-08T13:14:52.995Z"
   },
   {
    "duration": 22,
    "start_time": "2023-10-08T13:14:53.784Z"
   },
   {
    "duration": 45,
    "start_time": "2023-10-08T13:14:53.808Z"
   },
   {
    "duration": 349,
    "start_time": "2023-10-08T13:14:53.855Z"
   },
   {
    "duration": 19,
    "start_time": "2023-10-08T13:14:54.206Z"
   },
   {
    "duration": 551,
    "start_time": "2023-10-08T13:14:54.227Z"
   },
   {
    "duration": 273,
    "start_time": "2023-10-08T13:14:54.780Z"
   },
   {
    "duration": 285,
    "start_time": "2023-10-08T13:14:55.054Z"
   },
   {
    "duration": 15,
    "start_time": "2023-10-08T13:14:55.340Z"
   },
   {
    "duration": 92,
    "start_time": "2023-10-08T13:14:55.356Z"
   },
   {
    "duration": 278,
    "start_time": "2023-10-08T13:14:55.450Z"
   },
   {
    "duration": 16,
    "start_time": "2023-10-08T13:14:55.730Z"
   },
   {
    "duration": 363,
    "start_time": "2023-10-08T13:14:55.748Z"
   },
   {
    "duration": 315,
    "start_time": "2023-10-08T13:14:56.113Z"
   },
   {
    "duration": 246,
    "start_time": "2023-10-08T13:14:56.430Z"
   },
   {
    "duration": 15,
    "start_time": "2023-10-08T13:14:56.678Z"
   },
   {
    "duration": 231,
    "start_time": "2023-10-08T13:14:56.695Z"
   },
   {
    "duration": 6,
    "start_time": "2023-10-08T13:14:56.928Z"
   },
   {
    "duration": 311,
    "start_time": "2023-10-08T13:14:56.936Z"
   },
   {
    "duration": 16,
    "start_time": "2023-10-08T13:14:57.249Z"
   },
   {
    "duration": 57,
    "start_time": "2023-10-08T13:14:57.266Z"
   },
   {
    "duration": 298,
    "start_time": "2023-10-08T13:14:57.325Z"
   },
   {
    "duration": 254,
    "start_time": "2023-10-08T13:14:57.625Z"
   },
   {
    "duration": 134,
    "start_time": "2023-10-08T13:14:57.880Z"
   },
   {
    "duration": 23,
    "start_time": "2023-10-08T13:14:58.016Z"
   },
   {
    "duration": 300,
    "start_time": "2023-10-08T13:14:58.040Z"
   },
   {
    "duration": 302,
    "start_time": "2023-10-08T13:14:58.342Z"
   },
   {
    "duration": 225,
    "start_time": "2023-10-08T13:14:58.646Z"
   },
   {
    "duration": 17,
    "start_time": "2023-10-08T13:14:58.872Z"
   },
   {
    "duration": 222,
    "start_time": "2023-10-08T13:14:58.890Z"
   },
   {
    "duration": 396,
    "start_time": "2023-10-08T13:14:59.114Z"
   },
   {
    "duration": 27,
    "start_time": "2023-10-08T13:14:59.512Z"
   },
   {
    "duration": 49,
    "start_time": "2023-10-08T13:14:59.541Z"
   },
   {
    "duration": 307,
    "start_time": "2023-10-08T13:14:59.592Z"
   },
   {
    "duration": 293,
    "start_time": "2023-10-08T13:14:59.900Z"
   },
   {
    "duration": 32,
    "start_time": "2023-10-08T13:15:00.194Z"
   },
   {
    "duration": 447,
    "start_time": "2023-10-08T13:15:00.228Z"
   },
   {
    "duration": 313,
    "start_time": "2023-10-08T13:15:00.677Z"
   },
   {
    "duration": 237,
    "start_time": "2023-10-08T13:15:00.992Z"
   },
   {
    "duration": 17,
    "start_time": "2023-10-08T13:15:01.231Z"
   },
   {
    "duration": 428,
    "start_time": "2023-10-08T13:15:01.250Z"
   },
   {
    "duration": 322,
    "start_time": "2023-10-08T13:15:01.680Z"
   },
   {
    "duration": 248,
    "start_time": "2023-10-08T13:15:02.004Z"
   },
   {
    "duration": 21,
    "start_time": "2023-10-08T13:15:02.254Z"
   },
   {
    "duration": 16,
    "start_time": "2023-10-08T13:15:04.849Z"
   },
   {
    "duration": 11,
    "start_time": "2023-10-08T13:15:24.112Z"
   },
   {
    "duration": 3,
    "start_time": "2023-10-08T13:15:42.233Z"
   },
   {
    "duration": 93,
    "start_time": "2023-10-08T13:15:42.238Z"
   },
   {
    "duration": 15,
    "start_time": "2023-10-08T13:15:42.333Z"
   },
   {
    "duration": 20,
    "start_time": "2023-10-08T13:15:42.349Z"
   },
   {
    "duration": 31,
    "start_time": "2023-10-08T13:15:42.371Z"
   },
   {
    "duration": 59,
    "start_time": "2023-10-08T13:15:42.403Z"
   },
   {
    "duration": 38,
    "start_time": "2023-10-08T13:15:42.464Z"
   },
   {
    "duration": 35,
    "start_time": "2023-10-08T13:15:42.504Z"
   },
   {
    "duration": 10,
    "start_time": "2023-10-08T13:15:42.540Z"
   },
   {
    "duration": 16,
    "start_time": "2023-10-08T13:15:42.551Z"
   },
   {
    "duration": 58,
    "start_time": "2023-10-08T13:15:42.568Z"
   },
   {
    "duration": 34,
    "start_time": "2023-10-08T13:15:42.628Z"
   },
   {
    "duration": 6,
    "start_time": "2023-10-08T13:15:42.663Z"
   },
   {
    "duration": 8,
    "start_time": "2023-10-08T13:15:42.673Z"
   },
   {
    "duration": 205,
    "start_time": "2023-10-08T13:15:42.683Z"
   },
   {
    "duration": 36,
    "start_time": "2023-10-08T13:15:42.890Z"
   },
   {
    "duration": 139,
    "start_time": "2023-10-08T13:15:42.928Z"
   },
   {
    "duration": 95,
    "start_time": "2023-10-08T13:15:43.068Z"
   },
   {
    "duration": 175,
    "start_time": "2023-10-08T13:15:43.165Z"
   },
   {
    "duration": 40,
    "start_time": "2023-10-08T13:15:43.342Z"
   },
   {
    "duration": 5,
    "start_time": "2023-10-08T13:15:43.384Z"
   },
   {
    "duration": 3,
    "start_time": "2023-10-08T13:15:43.391Z"
   },
   {
    "duration": 8,
    "start_time": "2023-10-08T13:15:43.396Z"
   },
   {
    "duration": 201,
    "start_time": "2023-10-08T13:15:43.405Z"
   },
   {
    "duration": 3,
    "start_time": "2023-10-08T13:15:43.608Z"
   },
   {
    "duration": 12,
    "start_time": "2023-10-08T13:15:43.613Z"
   },
   {
    "duration": 11,
    "start_time": "2023-10-08T13:15:43.627Z"
   },
   {
    "duration": 7,
    "start_time": "2023-10-08T13:15:43.640Z"
   },
   {
    "duration": 10,
    "start_time": "2023-10-08T13:15:43.648Z"
   },
   {
    "duration": 266,
    "start_time": "2023-10-08T13:15:43.660Z"
   },
   {
    "duration": 262,
    "start_time": "2023-10-08T13:15:43.928Z"
   },
   {
    "duration": 322,
    "start_time": "2023-10-08T13:15:44.191Z"
   },
   {
    "duration": 15,
    "start_time": "2023-10-08T13:15:44.515Z"
   },
   {
    "duration": 58,
    "start_time": "2023-10-08T13:15:44.532Z"
   },
   {
    "duration": 53,
    "start_time": "2023-10-08T13:15:44.592Z"
   },
   {
    "duration": 19,
    "start_time": "2023-10-08T13:15:44.647Z"
   },
   {
    "duration": 36,
    "start_time": "2023-10-08T13:15:44.668Z"
   },
   {
    "duration": 2,
    "start_time": "2023-10-08T13:15:44.706Z"
   },
   {
    "duration": 90,
    "start_time": "2023-10-08T13:15:44.710Z"
   },
   {
    "duration": 227,
    "start_time": "2023-10-08T13:15:44.802Z"
   },
   {
    "duration": 36,
    "start_time": "2023-10-08T13:15:45.036Z"
   },
   {
    "duration": 51,
    "start_time": "2023-10-08T13:15:45.073Z"
   },
   {
    "duration": 215,
    "start_time": "2023-10-08T13:15:45.125Z"
   },
   {
    "duration": 25,
    "start_time": "2023-10-08T13:15:45.343Z"
   },
   {
    "duration": 31,
    "start_time": "2023-10-08T13:15:45.370Z"
   },
   {
    "duration": 5,
    "start_time": "2023-10-08T13:15:45.402Z"
   },
   {
    "duration": 25,
    "start_time": "2023-10-08T13:15:45.408Z"
   },
   {
    "duration": 176,
    "start_time": "2023-10-08T13:15:45.435Z"
   },
   {
    "duration": 12,
    "start_time": "2023-10-08T13:15:45.623Z"
   },
   {
    "duration": 23,
    "start_time": "2023-10-08T13:15:45.637Z"
   },
   {
    "duration": 220,
    "start_time": "2023-10-08T13:15:45.662Z"
   },
   {
    "duration": 313,
    "start_time": "2023-10-08T13:15:45.884Z"
   },
   {
    "duration": 305,
    "start_time": "2023-10-08T13:15:46.199Z"
   },
   {
    "duration": 296,
    "start_time": "2023-10-08T13:15:46.506Z"
   },
   {
    "duration": 194,
    "start_time": "2023-10-08T13:15:46.804Z"
   },
   {
    "duration": 227,
    "start_time": "2023-10-08T13:15:47.000Z"
   },
   {
    "duration": 29,
    "start_time": "2023-10-08T13:15:47.228Z"
   },
   {
    "duration": 753,
    "start_time": "2023-10-08T13:15:47.258Z"
   },
   {
    "duration": 32,
    "start_time": "2023-10-08T13:15:48.013Z"
   },
   {
    "duration": 8,
    "start_time": "2023-10-08T13:15:48.047Z"
   },
   {
    "duration": 481,
    "start_time": "2023-10-08T13:15:48.057Z"
   },
   {
    "duration": 8,
    "start_time": "2023-10-08T13:15:48.540Z"
   },
   {
    "duration": 310,
    "start_time": "2023-10-08T13:15:48.550Z"
   },
   {
    "duration": 277,
    "start_time": "2023-10-08T13:15:48.862Z"
   },
   {
    "duration": 293,
    "start_time": "2023-10-08T13:15:49.141Z"
   },
   {
    "duration": 13,
    "start_time": "2023-10-08T13:15:49.436Z"
   },
   {
    "duration": 293,
    "start_time": "2023-10-08T13:15:49.451Z"
   },
   {
    "duration": 437,
    "start_time": "2023-10-08T13:15:49.746Z"
   },
   {
    "duration": 18,
    "start_time": "2023-10-08T13:15:50.185Z"
   },
   {
    "duration": 446,
    "start_time": "2023-10-08T13:15:50.205Z"
   },
   {
    "duration": 304,
    "start_time": "2023-10-08T13:15:50.653Z"
   },
   {
    "duration": 229,
    "start_time": "2023-10-08T13:15:50.959Z"
   },
   {
    "duration": 17,
    "start_time": "2023-10-08T13:15:51.189Z"
   },
   {
    "duration": 209,
    "start_time": "2023-10-08T13:15:51.207Z"
   },
   {
    "duration": 8,
    "start_time": "2023-10-08T13:15:51.418Z"
   },
   {
    "duration": 211,
    "start_time": "2023-10-08T13:15:51.428Z"
   },
   {
    "duration": 16,
    "start_time": "2023-10-08T13:15:51.641Z"
   },
   {
    "duration": 37,
    "start_time": "2023-10-08T13:15:51.659Z"
   },
   {
    "duration": 237,
    "start_time": "2023-10-08T13:15:51.698Z"
   },
   {
    "duration": 256,
    "start_time": "2023-10-08T13:15:51.938Z"
   },
   {
    "duration": 157,
    "start_time": "2023-10-08T13:15:52.196Z"
   },
   {
    "duration": 17,
    "start_time": "2023-10-08T13:15:52.355Z"
   },
   {
    "duration": 288,
    "start_time": "2023-10-08T13:15:52.374Z"
   },
   {
    "duration": 315,
    "start_time": "2023-10-08T13:15:52.664Z"
   },
   {
    "duration": 414,
    "start_time": "2023-10-08T13:15:52.982Z"
   },
   {
    "duration": 29,
    "start_time": "2023-10-08T13:15:53.398Z"
   },
   {
    "duration": 205,
    "start_time": "2023-10-08T13:15:53.429Z"
   },
   {
    "duration": 225,
    "start_time": "2023-10-08T13:15:53.635Z"
   },
   {
    "duration": 15,
    "start_time": "2023-10-08T13:15:53.862Z"
   },
   {
    "duration": 31,
    "start_time": "2023-10-08T13:15:53.879Z"
   },
   {
    "duration": 260,
    "start_time": "2023-10-08T13:15:53.912Z"
   },
   {
    "duration": 293,
    "start_time": "2023-10-08T13:15:54.174Z"
   },
   {
    "duration": 17,
    "start_time": "2023-10-08T13:15:54.469Z"
   },
   {
    "duration": 311,
    "start_time": "2023-10-08T13:15:54.487Z"
   },
   {
    "duration": 282,
    "start_time": "2023-10-08T13:15:54.800Z"
   },
   {
    "duration": 226,
    "start_time": "2023-10-08T13:15:55.084Z"
   },
   {
    "duration": 29,
    "start_time": "2023-10-08T13:15:55.312Z"
   },
   {
    "duration": 85,
    "start_time": "2023-10-08T13:15:55.343Z"
   },
   {
    "duration": 260,
    "start_time": "2023-10-08T13:15:55.430Z"
   },
   {
    "duration": 267,
    "start_time": "2023-10-08T13:15:55.692Z"
   },
   {
    "duration": 19,
    "start_time": "2023-10-08T13:15:55.962Z"
   },
   {
    "duration": 13,
    "start_time": "2023-10-08T13:15:58.283Z"
   },
   {
    "duration": 11,
    "start_time": "2023-10-08T13:16:24.289Z"
   },
   {
    "duration": 4,
    "start_time": "2023-10-08T13:16:34.641Z"
   },
   {
    "duration": 84,
    "start_time": "2023-10-08T13:16:34.676Z"
   },
   {
    "duration": 69,
    "start_time": "2023-10-08T13:16:34.762Z"
   },
   {
    "duration": 15,
    "start_time": "2023-10-08T13:16:34.833Z"
   },
   {
    "duration": 21,
    "start_time": "2023-10-08T13:16:34.850Z"
   },
   {
    "duration": 24,
    "start_time": "2023-10-08T13:16:34.873Z"
   },
   {
    "duration": 25,
    "start_time": "2023-10-08T13:16:34.899Z"
   },
   {
    "duration": 15,
    "start_time": "2023-10-08T13:16:34.926Z"
   },
   {
    "duration": 12,
    "start_time": "2023-10-08T13:16:34.942Z"
   },
   {
    "duration": 24,
    "start_time": "2023-10-08T13:16:34.956Z"
   },
   {
    "duration": 27,
    "start_time": "2023-10-08T13:16:36.397Z"
   },
   {
    "duration": 18,
    "start_time": "2023-10-08T13:16:36.427Z"
   },
   {
    "duration": 12,
    "start_time": "2023-10-08T13:16:36.447Z"
   },
   {
    "duration": 20,
    "start_time": "2023-10-08T13:16:36.464Z"
   },
   {
    "duration": 260,
    "start_time": "2023-10-08T13:16:36.486Z"
   },
   {
    "duration": 26,
    "start_time": "2023-10-08T13:16:36.747Z"
   },
   {
    "duration": 7,
    "start_time": "2023-10-08T13:16:36.775Z"
   },
   {
    "duration": 15,
    "start_time": "2023-10-08T13:16:36.784Z"
   },
   {
    "duration": 37,
    "start_time": "2023-10-08T13:16:36.800Z"
   },
   {
    "duration": 11,
    "start_time": "2023-10-08T13:16:36.840Z"
   },
   {
    "duration": 6,
    "start_time": "2023-10-08T13:16:36.853Z"
   },
   {
    "duration": 8,
    "start_time": "2023-10-08T13:16:36.861Z"
   },
   {
    "duration": 16,
    "start_time": "2023-10-08T13:16:36.871Z"
   },
   {
    "duration": 247,
    "start_time": "2023-10-08T13:16:36.888Z"
   },
   {
    "duration": 2,
    "start_time": "2023-10-08T13:16:37.137Z"
   },
   {
    "duration": 322,
    "start_time": "2023-10-08T13:16:37.141Z"
   },
   {
    "duration": 7,
    "start_time": "2023-10-08T13:16:37.465Z"
   },
   {
    "duration": 7,
    "start_time": "2023-10-08T13:16:37.474Z"
   },
   {
    "duration": 10,
    "start_time": "2023-10-08T13:16:37.482Z"
   },
   {
    "duration": 271,
    "start_time": "2023-10-08T13:16:37.494Z"
   },
   {
    "duration": 450,
    "start_time": "2023-10-08T13:16:37.767Z"
   },
   {
    "duration": 190,
    "start_time": "2023-10-08T13:16:38.219Z"
   },
   {
    "duration": 19,
    "start_time": "2023-10-08T13:16:38.411Z"
   },
   {
    "duration": 46,
    "start_time": "2023-10-08T13:16:38.432Z"
   },
   {
    "duration": 64,
    "start_time": "2023-10-08T13:16:38.480Z"
   },
   {
    "duration": 10,
    "start_time": "2023-10-08T13:16:38.546Z"
   },
   {
    "duration": 28,
    "start_time": "2023-10-08T13:16:38.558Z"
   },
   {
    "duration": 2,
    "start_time": "2023-10-08T13:16:38.590Z"
   },
   {
    "duration": 137,
    "start_time": "2023-10-08T13:16:38.595Z"
   },
   {
    "duration": 265,
    "start_time": "2023-10-08T13:16:38.734Z"
   },
   {
    "duration": 43,
    "start_time": "2023-10-08T13:16:39.001Z"
   },
   {
    "duration": 37,
    "start_time": "2023-10-08T13:16:39.046Z"
   },
   {
    "duration": 233,
    "start_time": "2023-10-08T13:16:39.085Z"
   },
   {
    "duration": 26,
    "start_time": "2023-10-08T13:16:39.320Z"
   },
   {
    "duration": 25,
    "start_time": "2023-10-08T13:16:39.347Z"
   },
   {
    "duration": 5,
    "start_time": "2023-10-08T13:16:39.374Z"
   },
   {
    "duration": 28,
    "start_time": "2023-10-08T13:16:39.381Z"
   },
   {
    "duration": 188,
    "start_time": "2023-10-08T13:16:39.423Z"
   },
   {
    "duration": 19,
    "start_time": "2023-10-08T13:16:39.613Z"
   },
   {
    "duration": 23,
    "start_time": "2023-10-08T13:16:39.633Z"
   },
   {
    "duration": 231,
    "start_time": "2023-10-08T13:16:39.658Z"
   },
   {
    "duration": 253,
    "start_time": "2023-10-08T13:16:39.891Z"
   },
   {
    "duration": 334,
    "start_time": "2023-10-08T13:16:40.147Z"
   },
   {
    "duration": 305,
    "start_time": "2023-10-08T13:16:40.483Z"
   },
   {
    "duration": 214,
    "start_time": "2023-10-08T13:16:40.790Z"
   },
   {
    "duration": 198,
    "start_time": "2023-10-08T13:16:41.006Z"
   },
   {
    "duration": 39,
    "start_time": "2023-10-08T13:16:41.206Z"
   },
   {
    "duration": 708,
    "start_time": "2023-10-08T13:16:41.247Z"
   },
   {
    "duration": 21,
    "start_time": "2023-10-08T13:16:41.957Z"
   },
   {
    "duration": 32,
    "start_time": "2023-10-08T13:16:41.979Z"
   },
   {
    "duration": 497,
    "start_time": "2023-10-08T13:16:42.013Z"
   },
   {
    "duration": 13,
    "start_time": "2023-10-08T13:16:42.512Z"
   },
   {
    "duration": 476,
    "start_time": "2023-10-08T13:16:42.526Z"
   },
   {
    "duration": 340,
    "start_time": "2023-10-08T13:16:43.004Z"
   },
   {
    "duration": 323,
    "start_time": "2023-10-08T13:16:43.346Z"
   },
   {
    "duration": 14,
    "start_time": "2023-10-08T13:16:43.671Z"
   },
   {
    "duration": 74,
    "start_time": "2023-10-08T13:16:43.686Z"
   },
   {
    "duration": 343,
    "start_time": "2023-10-08T13:16:43.762Z"
   },
   {
    "duration": 27,
    "start_time": "2023-10-08T13:16:44.107Z"
   },
   {
    "duration": 277,
    "start_time": "2023-10-08T13:16:44.135Z"
   },
   {
    "duration": 318,
    "start_time": "2023-10-08T13:16:44.414Z"
   },
   {
    "duration": 248,
    "start_time": "2023-10-08T13:16:44.734Z"
   },
   {
    "duration": 17,
    "start_time": "2023-10-08T13:16:44.983Z"
   },
   {
    "duration": 332,
    "start_time": "2023-10-08T13:16:45.002Z"
   },
   {
    "duration": 4,
    "start_time": "2023-10-08T13:16:45.336Z"
   },
   {
    "duration": 238,
    "start_time": "2023-10-08T13:16:45.342Z"
   },
   {
    "duration": 14,
    "start_time": "2023-10-08T13:16:45.582Z"
   },
   {
    "duration": 40,
    "start_time": "2023-10-08T13:16:45.597Z"
   },
   {
    "duration": 319,
    "start_time": "2023-10-08T13:16:45.638Z"
   },
   {
    "duration": 292,
    "start_time": "2023-10-08T13:16:45.959Z"
   },
   {
    "duration": 146,
    "start_time": "2023-10-08T13:16:46.253Z"
   },
   {
    "duration": 26,
    "start_time": "2023-10-08T13:16:46.401Z"
   },
   {
    "duration": 434,
    "start_time": "2023-10-08T13:16:46.428Z"
   },
   {
    "duration": 339,
    "start_time": "2023-10-08T13:16:46.864Z"
   },
   {
    "duration": 461,
    "start_time": "2023-10-08T13:16:47.206Z"
   },
   {
    "duration": 20,
    "start_time": "2023-10-08T13:16:47.669Z"
   },
   {
    "duration": 206,
    "start_time": "2023-10-08T13:16:47.691Z"
   },
   {
    "duration": 216,
    "start_time": "2023-10-08T13:16:47.899Z"
   },
   {
    "duration": 19,
    "start_time": "2023-10-08T13:16:48.116Z"
   },
   {
    "duration": 241,
    "start_time": "2023-10-08T13:16:48.137Z"
   },
   {
    "duration": 348,
    "start_time": "2023-10-08T13:16:48.379Z"
   },
   {
    "duration": 301,
    "start_time": "2023-10-08T13:16:48.733Z"
   },
   {
    "duration": 17,
    "start_time": "2023-10-08T13:16:49.035Z"
   },
   {
    "duration": 397,
    "start_time": "2023-10-08T13:16:49.054Z"
   },
   {
    "duration": 283,
    "start_time": "2023-10-08T13:16:49.453Z"
   },
   {
    "duration": 269,
    "start_time": "2023-10-08T13:16:49.738Z"
   },
   {
    "duration": 22,
    "start_time": "2023-10-08T13:16:50.009Z"
   },
   {
    "duration": 65,
    "start_time": "2023-10-08T13:16:50.032Z"
   },
   {
    "duration": 254,
    "start_time": "2023-10-08T13:16:50.099Z"
   },
   {
    "duration": 217,
    "start_time": "2023-10-08T13:16:50.356Z"
   },
   {
    "duration": 14,
    "start_time": "2023-10-08T13:16:50.574Z"
   },
   {
    "duration": 13,
    "start_time": "2023-10-08T13:17:06.833Z"
   },
   {
    "duration": 16,
    "start_time": "2023-10-08T13:17:49.286Z"
   },
   {
    "duration": 10,
    "start_time": "2023-10-08T13:17:53.731Z"
   },
   {
    "duration": 17,
    "start_time": "2023-10-08T13:18:10.995Z"
   },
   {
    "duration": 13,
    "start_time": "2023-10-08T13:18:16.133Z"
   },
   {
    "duration": 3,
    "start_time": "2023-10-08T13:18:23.854Z"
   },
   {
    "duration": 82,
    "start_time": "2023-10-08T13:18:23.860Z"
   },
   {
    "duration": 14,
    "start_time": "2023-10-08T13:18:23.944Z"
   },
   {
    "duration": 15,
    "start_time": "2023-10-08T13:18:23.960Z"
   },
   {
    "duration": 21,
    "start_time": "2023-10-08T13:18:23.978Z"
   },
   {
    "duration": 39,
    "start_time": "2023-10-08T13:18:24.001Z"
   },
   {
    "duration": 9,
    "start_time": "2023-10-08T13:18:24.042Z"
   },
   {
    "duration": 19,
    "start_time": "2023-10-08T13:18:24.052Z"
   },
   {
    "duration": 7,
    "start_time": "2023-10-08T13:18:24.073Z"
   },
   {
    "duration": 11,
    "start_time": "2023-10-08T13:18:24.081Z"
   },
   {
    "duration": 40,
    "start_time": "2023-10-08T13:18:24.094Z"
   },
   {
    "duration": 16,
    "start_time": "2023-10-08T13:18:24.136Z"
   },
   {
    "duration": 5,
    "start_time": "2023-10-08T13:18:24.154Z"
   },
   {
    "duration": 7,
    "start_time": "2023-10-08T13:18:24.161Z"
   },
   {
    "duration": 239,
    "start_time": "2023-10-08T13:18:24.170Z"
   },
   {
    "duration": 27,
    "start_time": "2023-10-08T13:18:24.410Z"
   },
   {
    "duration": 8,
    "start_time": "2023-10-08T13:18:24.439Z"
   },
   {
    "duration": 18,
    "start_time": "2023-10-08T13:18:24.449Z"
   },
   {
    "duration": 24,
    "start_time": "2023-10-08T13:18:24.468Z"
   },
   {
    "duration": 8,
    "start_time": "2023-10-08T13:18:24.494Z"
   },
   {
    "duration": 21,
    "start_time": "2023-10-08T13:18:24.504Z"
   },
   {
    "duration": 2,
    "start_time": "2023-10-08T13:18:24.526Z"
   },
   {
    "duration": 15,
    "start_time": "2023-10-08T13:18:24.529Z"
   },
   {
    "duration": 219,
    "start_time": "2023-10-08T13:18:24.545Z"
   },
   {
    "duration": 2,
    "start_time": "2023-10-08T13:18:24.766Z"
   },
   {
    "duration": 39,
    "start_time": "2023-10-08T13:18:24.770Z"
   },
   {
    "duration": 8,
    "start_time": "2023-10-08T13:18:24.811Z"
   },
   {
    "duration": 8,
    "start_time": "2023-10-08T13:18:24.820Z"
   },
   {
    "duration": 28,
    "start_time": "2023-10-08T13:18:24.830Z"
   },
   {
    "duration": 258,
    "start_time": "2023-10-08T13:18:24.860Z"
   },
   {
    "duration": 440,
    "start_time": "2023-10-08T13:18:25.120Z"
   },
   {
    "duration": 162,
    "start_time": "2023-10-08T13:18:25.562Z"
   },
   {
    "duration": 8,
    "start_time": "2023-10-08T13:18:25.725Z"
   },
   {
    "duration": 70,
    "start_time": "2023-10-08T13:18:25.735Z"
   },
   {
    "duration": 63,
    "start_time": "2023-10-08T13:18:25.807Z"
   },
   {
    "duration": 12,
    "start_time": "2023-10-08T13:18:25.871Z"
   },
   {
    "duration": 41,
    "start_time": "2023-10-08T13:18:25.890Z"
   },
   {
    "duration": 3,
    "start_time": "2023-10-08T13:18:25.933Z"
   },
   {
    "duration": 105,
    "start_time": "2023-10-08T13:18:25.938Z"
   },
   {
    "duration": 235,
    "start_time": "2023-10-08T13:18:26.045Z"
   },
   {
    "duration": 44,
    "start_time": "2023-10-08T13:18:26.282Z"
   },
   {
    "duration": 39,
    "start_time": "2023-10-08T13:18:26.327Z"
   },
   {
    "duration": 261,
    "start_time": "2023-10-08T13:18:26.367Z"
   },
   {
    "duration": 26,
    "start_time": "2023-10-08T13:18:26.630Z"
   },
   {
    "duration": 22,
    "start_time": "2023-10-08T13:18:26.658Z"
   },
   {
    "duration": 4,
    "start_time": "2023-10-08T13:18:26.681Z"
   },
   {
    "duration": 38,
    "start_time": "2023-10-08T13:18:26.687Z"
   },
   {
    "duration": 177,
    "start_time": "2023-10-08T13:18:26.727Z"
   },
   {
    "duration": 21,
    "start_time": "2023-10-08T13:18:26.906Z"
   },
   {
    "duration": 32,
    "start_time": "2023-10-08T13:18:26.929Z"
   },
   {
    "duration": 244,
    "start_time": "2023-10-08T13:18:26.964Z"
   },
   {
    "duration": 271,
    "start_time": "2023-10-08T13:18:27.209Z"
   },
   {
    "duration": 298,
    "start_time": "2023-10-08T13:18:27.482Z"
   },
   {
    "duration": 275,
    "start_time": "2023-10-08T13:18:27.782Z"
   },
   {
    "duration": 177,
    "start_time": "2023-10-08T13:18:28.059Z"
   },
   {
    "duration": 193,
    "start_time": "2023-10-08T13:18:28.238Z"
   },
   {
    "duration": 102,
    "start_time": "2023-10-08T13:18:28.433Z"
   },
   {
    "duration": 736,
    "start_time": "2023-10-08T13:18:28.536Z"
   },
   {
    "duration": 22,
    "start_time": "2023-10-08T13:18:29.273Z"
   },
   {
    "duration": 33,
    "start_time": "2023-10-08T13:18:29.297Z"
   },
   {
    "duration": 463,
    "start_time": "2023-10-08T13:18:29.332Z"
   },
   {
    "duration": 10,
    "start_time": "2023-10-08T13:18:29.797Z"
   },
   {
    "duration": 325,
    "start_time": "2023-10-08T13:18:29.809Z"
   },
   {
    "duration": 297,
    "start_time": "2023-10-08T13:18:30.136Z"
   },
   {
    "duration": 282,
    "start_time": "2023-10-08T13:18:30.434Z"
   },
   {
    "duration": 17,
    "start_time": "2023-10-08T13:18:30.718Z"
   },
   {
    "duration": 46,
    "start_time": "2023-10-08T13:18:30.737Z"
   },
   {
    "duration": 276,
    "start_time": "2023-10-08T13:18:30.785Z"
   },
   {
    "duration": 15,
    "start_time": "2023-10-08T13:18:31.063Z"
   },
   {
    "duration": 302,
    "start_time": "2023-10-08T13:18:31.080Z"
   },
   {
    "duration": 323,
    "start_time": "2023-10-08T13:18:31.384Z"
   },
   {
    "duration": 245,
    "start_time": "2023-10-08T13:18:31.709Z"
   },
   {
    "duration": 80,
    "start_time": "2023-10-08T13:18:31.957Z"
   },
   {
    "duration": 334,
    "start_time": "2023-10-08T13:18:32.039Z"
   },
   {
    "duration": 6,
    "start_time": "2023-10-08T13:18:32.375Z"
   },
   {
    "duration": 337,
    "start_time": "2023-10-08T13:18:32.383Z"
   },
   {
    "duration": 126,
    "start_time": "2023-10-08T13:18:32.724Z"
   },
   {
    "duration": 273,
    "start_time": "2023-10-08T13:18:32.852Z"
   },
   {
    "duration": 440,
    "start_time": "2023-10-08T13:18:33.127Z"
   },
   {
    "duration": 254,
    "start_time": "2023-10-08T13:18:33.568Z"
   },
   {
    "duration": 131,
    "start_time": "2023-10-08T13:18:33.824Z"
   },
   {
    "duration": 16,
    "start_time": "2023-10-08T13:18:33.957Z"
   },
   {
    "duration": 268,
    "start_time": "2023-10-08T13:18:33.974Z"
   },
   {
    "duration": 306,
    "start_time": "2023-10-08T13:18:34.243Z"
   },
   {
    "duration": 410,
    "start_time": "2023-10-08T13:18:34.550Z"
   },
   {
    "duration": 17,
    "start_time": "2023-10-08T13:18:34.962Z"
   },
   {
    "duration": 204,
    "start_time": "2023-10-08T13:18:34.980Z"
   },
   {
    "duration": 221,
    "start_time": "2023-10-08T13:18:35.186Z"
   },
   {
    "duration": 16,
    "start_time": "2023-10-08T13:18:35.409Z"
   },
   {
    "duration": 17,
    "start_time": "2023-10-08T13:18:35.427Z"
   },
   {
    "duration": 279,
    "start_time": "2023-10-08T13:18:35.445Z"
   },
   {
    "duration": 346,
    "start_time": "2023-10-08T13:18:35.726Z"
   },
   {
    "duration": 16,
    "start_time": "2023-10-08T13:18:36.074Z"
   },
   {
    "duration": 337,
    "start_time": "2023-10-08T13:18:36.091Z"
   },
   {
    "duration": 280,
    "start_time": "2023-10-08T13:18:36.430Z"
   },
   {
    "duration": 237,
    "start_time": "2023-10-08T13:18:36.712Z"
   },
   {
    "duration": 17,
    "start_time": "2023-10-08T13:18:36.952Z"
   },
   {
    "duration": 48,
    "start_time": "2023-10-08T13:18:36.971Z"
   },
   {
    "duration": 213,
    "start_time": "2023-10-08T13:18:37.021Z"
   },
   {
    "duration": 215,
    "start_time": "2023-10-08T13:18:37.236Z"
   },
   {
    "duration": 13,
    "start_time": "2023-10-08T13:18:37.453Z"
   },
   {
    "duration": 22,
    "start_time": "2023-10-08T13:18:40.360Z"
   },
   {
    "duration": 10,
    "start_time": "2023-10-08T13:18:47.472Z"
   },
   {
    "duration": 16,
    "start_time": "2023-10-08T13:19:14.213Z"
   },
   {
    "duration": 4,
    "start_time": "2023-10-08T13:19:33.133Z"
   },
   {
    "duration": 127,
    "start_time": "2023-10-08T13:19:33.139Z"
   },
   {
    "duration": 15,
    "start_time": "2023-10-08T13:19:33.267Z"
   },
   {
    "duration": 15,
    "start_time": "2023-10-08T13:19:33.284Z"
   },
   {
    "duration": 16,
    "start_time": "2023-10-08T13:19:33.325Z"
   },
   {
    "duration": 26,
    "start_time": "2023-10-08T13:19:33.342Z"
   },
   {
    "duration": 10,
    "start_time": "2023-10-08T13:19:33.369Z"
   },
   {
    "duration": 49,
    "start_time": "2023-10-08T13:19:33.380Z"
   },
   {
    "duration": 29,
    "start_time": "2023-10-08T13:19:33.430Z"
   },
   {
    "duration": 43,
    "start_time": "2023-10-08T13:19:33.461Z"
   },
   {
    "duration": 26,
    "start_time": "2023-10-08T13:19:33.506Z"
   },
   {
    "duration": 62,
    "start_time": "2023-10-08T13:19:33.534Z"
   },
   {
    "duration": 20,
    "start_time": "2023-10-08T13:19:33.600Z"
   },
   {
    "duration": 30,
    "start_time": "2023-10-08T13:19:33.622Z"
   },
   {
    "duration": 238,
    "start_time": "2023-10-08T13:19:33.654Z"
   },
   {
    "duration": 35,
    "start_time": "2023-10-08T13:19:33.895Z"
   },
   {
    "duration": 11,
    "start_time": "2023-10-08T13:19:33.932Z"
   },
   {
    "duration": 28,
    "start_time": "2023-10-08T13:19:33.944Z"
   },
   {
    "duration": 33,
    "start_time": "2023-10-08T13:19:33.973Z"
   },
   {
    "duration": 98,
    "start_time": "2023-10-08T13:19:34.008Z"
   },
   {
    "duration": 34,
    "start_time": "2023-10-08T13:19:34.108Z"
   },
   {
    "duration": 13,
    "start_time": "2023-10-08T13:19:34.144Z"
   },
   {
    "duration": 40,
    "start_time": "2023-10-08T13:19:34.159Z"
   },
   {
    "duration": 238,
    "start_time": "2023-10-08T13:19:34.201Z"
   },
   {
    "duration": 3,
    "start_time": "2023-10-08T13:19:34.440Z"
   },
   {
    "duration": 25,
    "start_time": "2023-10-08T13:19:34.445Z"
   },
   {
    "duration": 18,
    "start_time": "2023-10-08T13:19:34.472Z"
   },
   {
    "duration": 23,
    "start_time": "2023-10-08T13:19:34.492Z"
   },
   {
    "duration": 55,
    "start_time": "2023-10-08T13:19:34.517Z"
   },
   {
    "duration": 301,
    "start_time": "2023-10-08T13:19:34.574Z"
   },
   {
    "duration": 537,
    "start_time": "2023-10-08T13:19:34.877Z"
   },
   {
    "duration": 171,
    "start_time": "2023-10-08T13:19:35.417Z"
   },
   {
    "duration": 9,
    "start_time": "2023-10-08T13:19:35.589Z"
   },
   {
    "duration": 167,
    "start_time": "2023-10-08T13:19:35.600Z"
   },
   {
    "duration": 125,
    "start_time": "2023-10-08T13:19:35.768Z"
   },
   {
    "duration": 13,
    "start_time": "2023-10-08T13:19:35.896Z"
   },
   {
    "duration": 78,
    "start_time": "2023-10-08T13:19:35.916Z"
   },
   {
    "duration": 26,
    "start_time": "2023-10-08T13:19:35.996Z"
   },
   {
    "duration": 245,
    "start_time": "2023-10-08T13:19:36.025Z"
   },
   {
    "duration": 261,
    "start_time": "2023-10-08T13:19:36.272Z"
   },
   {
    "duration": 37,
    "start_time": "2023-10-08T13:19:36.534Z"
   },
   {
    "duration": 193,
    "start_time": "2023-10-08T13:19:36.573Z"
   },
   {
    "duration": 477,
    "start_time": "2023-10-08T13:19:36.767Z"
   },
   {
    "duration": 24,
    "start_time": "2023-10-08T13:19:37.246Z"
   },
   {
    "duration": 124,
    "start_time": "2023-10-08T13:19:37.272Z"
   },
   {
    "duration": 71,
    "start_time": "2023-10-08T13:19:37.398Z"
   },
   {
    "duration": 48,
    "start_time": "2023-10-08T13:19:37.470Z"
   },
   {
    "duration": 180,
    "start_time": "2023-10-08T13:19:37.519Z"
   },
   {
    "duration": 16,
    "start_time": "2023-10-08T13:19:37.701Z"
   },
   {
    "duration": 30,
    "start_time": "2023-10-08T13:19:37.724Z"
   },
   {
    "duration": 245,
    "start_time": "2023-10-08T13:19:37.756Z"
   },
   {
    "duration": 280,
    "start_time": "2023-10-08T13:19:38.003Z"
   },
   {
    "duration": 302,
    "start_time": "2023-10-08T13:19:38.284Z"
   },
   {
    "duration": 280,
    "start_time": "2023-10-08T13:19:38.588Z"
   },
   {
    "duration": 186,
    "start_time": "2023-10-08T13:19:38.870Z"
   },
   {
    "duration": 186,
    "start_time": "2023-10-08T13:19:39.057Z"
   },
   {
    "duration": 34,
    "start_time": "2023-10-08T13:19:39.246Z"
   },
   {
    "duration": 763,
    "start_time": "2023-10-08T13:19:39.282Z"
   },
   {
    "duration": 23,
    "start_time": "2023-10-08T13:19:40.048Z"
   },
   {
    "duration": 49,
    "start_time": "2023-10-08T13:19:40.073Z"
   },
   {
    "duration": 555,
    "start_time": "2023-10-08T13:19:40.124Z"
   },
   {
    "duration": 9,
    "start_time": "2023-10-08T13:19:40.681Z"
   },
   {
    "duration": 444,
    "start_time": "2023-10-08T13:19:40.692Z"
   },
   {
    "duration": 282,
    "start_time": "2023-10-08T13:19:41.138Z"
   },
   {
    "duration": 295,
    "start_time": "2023-10-08T13:19:41.424Z"
   },
   {
    "duration": 18,
    "start_time": "2023-10-08T13:19:41.723Z"
   },
   {
    "duration": 246,
    "start_time": "2023-10-08T13:19:41.743Z"
   },
   {
    "duration": 374,
    "start_time": "2023-10-08T13:19:41.991Z"
   },
   {
    "duration": 23,
    "start_time": "2023-10-08T13:19:42.368Z"
   },
   {
    "duration": 303,
    "start_time": "2023-10-08T13:19:42.393Z"
   },
   {
    "duration": 441,
    "start_time": "2023-10-08T13:19:42.698Z"
   },
   {
    "duration": 249,
    "start_time": "2023-10-08T13:19:43.148Z"
   },
   {
    "duration": 27,
    "start_time": "2023-10-08T13:19:43.400Z"
   },
   {
    "duration": 411,
    "start_time": "2023-10-08T13:19:43.429Z"
   },
   {
    "duration": 6,
    "start_time": "2023-10-08T13:19:43.842Z"
   },
   {
    "duration": 382,
    "start_time": "2023-10-08T13:19:43.851Z"
   },
   {
    "duration": 95,
    "start_time": "2023-10-08T13:19:44.235Z"
   },
   {
    "duration": 140,
    "start_time": "2023-10-08T13:19:44.332Z"
   },
   {
    "duration": 290,
    "start_time": "2023-10-08T13:19:44.474Z"
   },
   {
    "duration": 283,
    "start_time": "2023-10-08T13:19:44.766Z"
   },
   {
    "duration": 138,
    "start_time": "2023-10-08T13:19:45.051Z"
   },
   {
    "duration": 63,
    "start_time": "2023-10-08T13:19:45.191Z"
   },
   {
    "duration": 394,
    "start_time": "2023-10-08T13:19:45.256Z"
   },
   {
    "duration": 381,
    "start_time": "2023-10-08T13:19:45.653Z"
   },
   {
    "duration": 504,
    "start_time": "2023-10-08T13:19:46.036Z"
   },
   {
    "duration": 17,
    "start_time": "2023-10-08T13:19:46.543Z"
   },
   {
    "duration": 251,
    "start_time": "2023-10-08T13:19:46.565Z"
   },
   {
    "duration": 259,
    "start_time": "2023-10-08T13:19:46.817Z"
   },
   {
    "duration": 15,
    "start_time": "2023-10-08T13:19:47.078Z"
   },
   {
    "duration": 67,
    "start_time": "2023-10-08T13:19:47.094Z"
   },
   {
    "duration": 336,
    "start_time": "2023-10-08T13:19:47.163Z"
   },
   {
    "duration": 318,
    "start_time": "2023-10-08T13:19:47.500Z"
   },
   {
    "duration": 20,
    "start_time": "2023-10-08T13:19:47.820Z"
   },
   {
    "duration": 409,
    "start_time": "2023-10-08T13:19:47.843Z"
   },
   {
    "duration": 455,
    "start_time": "2023-10-08T13:19:48.253Z"
   },
   {
    "duration": 264,
    "start_time": "2023-10-08T13:19:48.710Z"
   },
   {
    "duration": 17,
    "start_time": "2023-10-08T13:19:48.976Z"
   },
   {
    "duration": 8,
    "start_time": "2023-10-08T13:19:48.995Z"
   },
   {
    "duration": 223,
    "start_time": "2023-10-08T13:19:49.004Z"
   },
   {
    "duration": 243,
    "start_time": "2023-10-08T13:19:49.229Z"
   },
   {
    "duration": 14,
    "start_time": "2023-10-08T13:19:49.474Z"
   },
   {
    "duration": 18,
    "start_time": "2023-10-08T13:20:34.312Z"
   },
   {
    "duration": 14,
    "start_time": "2023-10-08T13:21:11.116Z"
   },
   {
    "duration": 21,
    "start_time": "2023-10-08T13:21:24.513Z"
   },
   {
    "duration": 4,
    "start_time": "2023-10-08T13:22:01.828Z"
   },
   {
    "duration": 105,
    "start_time": "2023-10-08T13:22:01.835Z"
   },
   {
    "duration": 16,
    "start_time": "2023-10-08T13:22:01.942Z"
   },
   {
    "duration": 37,
    "start_time": "2023-10-08T13:22:01.959Z"
   },
   {
    "duration": 50,
    "start_time": "2023-10-08T13:22:01.999Z"
   },
   {
    "duration": 77,
    "start_time": "2023-10-08T13:22:02.051Z"
   },
   {
    "duration": 44,
    "start_time": "2023-10-08T13:22:02.130Z"
   },
   {
    "duration": 39,
    "start_time": "2023-10-08T13:22:02.175Z"
   },
   {
    "duration": 32,
    "start_time": "2023-10-08T13:22:02.216Z"
   },
   {
    "duration": 32,
    "start_time": "2023-10-08T13:22:02.249Z"
   },
   {
    "duration": 37,
    "start_time": "2023-10-08T13:22:02.284Z"
   },
   {
    "duration": 36,
    "start_time": "2023-10-08T13:22:02.323Z"
   },
   {
    "duration": 19,
    "start_time": "2023-10-08T13:22:02.361Z"
   },
   {
    "duration": 85,
    "start_time": "2023-10-08T13:22:02.382Z"
   },
   {
    "duration": 247,
    "start_time": "2023-10-08T13:22:02.469Z"
   },
   {
    "duration": 20,
    "start_time": "2023-10-08T13:22:02.724Z"
   },
   {
    "duration": 49,
    "start_time": "2023-10-08T13:22:02.746Z"
   },
   {
    "duration": 364,
    "start_time": "2023-10-08T13:22:02.797Z"
   },
   {
    "duration": 387,
    "start_time": "2023-10-08T13:22:03.163Z"
   },
   {
    "duration": 113,
    "start_time": "2023-10-08T13:22:03.552Z"
   },
   {
    "duration": 111,
    "start_time": "2023-10-08T13:22:03.667Z"
   },
   {
    "duration": 77,
    "start_time": "2023-10-08T13:22:03.779Z"
   },
   {
    "duration": 167,
    "start_time": "2023-10-08T13:22:03.858Z"
   },
   {
    "duration": 315,
    "start_time": "2023-10-08T13:22:04.027Z"
   },
   {
    "duration": 3,
    "start_time": "2023-10-08T13:22:04.344Z"
   },
   {
    "duration": 162,
    "start_time": "2023-10-08T13:22:04.349Z"
   },
   {
    "duration": 76,
    "start_time": "2023-10-08T13:22:04.513Z"
   },
   {
    "duration": 23,
    "start_time": "2023-10-08T13:22:04.591Z"
   },
   {
    "duration": 18,
    "start_time": "2023-10-08T13:22:04.619Z"
   },
   {
    "duration": 274,
    "start_time": "2023-10-08T13:22:04.639Z"
   },
   {
    "duration": 459,
    "start_time": "2023-10-08T13:22:04.915Z"
   },
   {
    "duration": 160,
    "start_time": "2023-10-08T13:22:05.376Z"
   },
   {
    "duration": 7,
    "start_time": "2023-10-08T13:22:05.538Z"
   },
   {
    "duration": 164,
    "start_time": "2023-10-08T13:22:05.547Z"
   },
   {
    "duration": 140,
    "start_time": "2023-10-08T13:22:05.713Z"
   },
   {
    "duration": 37,
    "start_time": "2023-10-08T13:22:05.855Z"
   },
   {
    "duration": 45,
    "start_time": "2023-10-08T13:22:05.895Z"
   },
   {
    "duration": 65,
    "start_time": "2023-10-08T13:22:05.943Z"
   },
   {
    "duration": 255,
    "start_time": "2023-10-08T13:22:06.010Z"
   },
   {
    "duration": 313,
    "start_time": "2023-10-08T13:22:06.267Z"
   },
   {
    "duration": 49,
    "start_time": "2023-10-08T13:22:06.582Z"
   },
   {
    "duration": 39,
    "start_time": "2023-10-08T13:22:06.632Z"
   },
   {
    "duration": 240,
    "start_time": "2023-10-08T13:22:06.673Z"
   },
   {
    "duration": 33,
    "start_time": "2023-10-08T13:22:06.915Z"
   },
   {
    "duration": 102,
    "start_time": "2023-10-08T13:22:06.950Z"
   },
   {
    "duration": 143,
    "start_time": "2023-10-08T13:22:07.054Z"
   },
   {
    "duration": 84,
    "start_time": "2023-10-08T13:22:07.199Z"
   },
   {
    "duration": 331,
    "start_time": "2023-10-08T13:22:07.284Z"
   },
   {
    "duration": 14,
    "start_time": "2023-10-08T13:22:07.623Z"
   },
   {
    "duration": 379,
    "start_time": "2023-10-08T13:22:07.639Z"
   },
   {
    "duration": 218,
    "start_time": "2023-10-08T13:22:08.019Z"
   },
   {
    "duration": 257,
    "start_time": "2023-10-08T13:22:08.238Z"
   },
   {
    "duration": 331,
    "start_time": "2023-10-08T13:22:08.498Z"
   },
   {
    "duration": 309,
    "start_time": "2023-10-08T13:22:08.830Z"
   },
   {
    "duration": 198,
    "start_time": "2023-10-08T13:22:09.141Z"
   },
   {
    "duration": 198,
    "start_time": "2023-10-08T13:22:09.341Z"
   },
   {
    "duration": 29,
    "start_time": "2023-10-08T13:22:09.541Z"
   },
   {
    "duration": 787,
    "start_time": "2023-10-08T13:22:09.572Z"
   },
   {
    "duration": 37,
    "start_time": "2023-10-08T13:22:10.362Z"
   },
   {
    "duration": 26,
    "start_time": "2023-10-08T13:22:10.402Z"
   },
   {
    "duration": 551,
    "start_time": "2023-10-08T13:22:10.430Z"
   },
   {
    "duration": 9,
    "start_time": "2023-10-08T13:22:10.983Z"
   },
   {
    "duration": 374,
    "start_time": "2023-10-08T13:22:10.994Z"
   },
   {
    "duration": 277,
    "start_time": "2023-10-08T13:22:11.370Z"
   },
   {
    "duration": 293,
    "start_time": "2023-10-08T13:22:11.649Z"
   },
   {
    "duration": 24,
    "start_time": "2023-10-08T13:22:11.945Z"
   },
   {
    "duration": 46,
    "start_time": "2023-10-08T13:22:11.972Z"
   },
   {
    "duration": 276,
    "start_time": "2023-10-08T13:22:12.021Z"
   },
   {
    "duration": 17,
    "start_time": "2023-10-08T13:22:12.298Z"
   },
   {
    "duration": 271,
    "start_time": "2023-10-08T13:22:12.324Z"
   },
   {
    "duration": 309,
    "start_time": "2023-10-08T13:22:12.597Z"
   },
   {
    "duration": 237,
    "start_time": "2023-10-08T13:22:12.907Z"
   },
   {
    "duration": 16,
    "start_time": "2023-10-08T13:22:13.145Z"
   },
   {
    "duration": 260,
    "start_time": "2023-10-08T13:22:13.163Z"
   },
   {
    "duration": 4,
    "start_time": "2023-10-08T13:22:13.425Z"
   },
   {
    "duration": 243,
    "start_time": "2023-10-08T13:22:13.431Z"
   },
   {
    "duration": 14,
    "start_time": "2023-10-08T13:22:13.675Z"
   },
   {
    "duration": 37,
    "start_time": "2023-10-08T13:22:13.691Z"
   },
   {
    "duration": 269,
    "start_time": "2023-10-08T13:22:13.730Z"
   },
   {
    "duration": 260,
    "start_time": "2023-10-08T13:22:14.000Z"
   },
   {
    "duration": 134,
    "start_time": "2023-10-08T13:22:14.262Z"
   },
   {
    "duration": 41,
    "start_time": "2023-10-08T13:22:14.398Z"
   },
   {
    "duration": 256,
    "start_time": "2023-10-08T13:22:14.445Z"
   },
   {
    "duration": 316,
    "start_time": "2023-10-08T13:22:14.703Z"
   },
   {
    "duration": 408,
    "start_time": "2023-10-08T13:22:15.021Z"
   },
   {
    "duration": 16,
    "start_time": "2023-10-08T13:22:15.431Z"
   },
   {
    "duration": 234,
    "start_time": "2023-10-08T13:22:15.449Z"
   },
   {
    "duration": 522,
    "start_time": "2023-10-08T13:22:15.684Z"
   },
   {
    "duration": 23,
    "start_time": "2023-10-08T13:22:16.208Z"
   },
   {
    "duration": 207,
    "start_time": "2023-10-08T13:22:16.232Z"
   },
   {
    "duration": 371,
    "start_time": "2023-10-08T13:22:16.441Z"
   },
   {
    "duration": 322,
    "start_time": "2023-10-08T13:22:16.814Z"
   },
   {
    "duration": 17,
    "start_time": "2023-10-08T13:22:17.137Z"
   },
   {
    "duration": 555,
    "start_time": "2023-10-08T13:22:17.156Z"
   },
   {
    "duration": 274,
    "start_time": "2023-10-08T13:22:17.713Z"
   },
   {
    "duration": 227,
    "start_time": "2023-10-08T13:22:17.989Z"
   },
   {
    "duration": 21,
    "start_time": "2023-10-08T13:22:18.218Z"
   },
   {
    "duration": 27,
    "start_time": "2023-10-08T13:22:18.241Z"
   },
   {
    "duration": 209,
    "start_time": "2023-10-08T13:22:18.269Z"
   },
   {
    "duration": 204,
    "start_time": "2023-10-08T13:22:18.480Z"
   },
   {
    "duration": 33,
    "start_time": "2023-10-08T13:22:18.686Z"
   },
   {
    "duration": 16,
    "start_time": "2023-10-08T13:22:22.307Z"
   },
   {
    "duration": 1317,
    "start_time": "2023-10-08T13:24:05.436Z"
   },
   {
    "duration": 11,
    "start_time": "2023-10-08T13:24:34.841Z"
   },
   {
    "duration": 22,
    "start_time": "2023-10-08T13:24:56.299Z"
   },
   {
    "duration": 10,
    "start_time": "2023-10-08T13:25:14.852Z"
   },
   {
    "duration": 24,
    "start_time": "2023-10-08T13:25:42.853Z"
   },
   {
    "duration": 21,
    "start_time": "2023-10-08T13:28:02.542Z"
   },
   {
    "duration": 21,
    "start_time": "2023-10-08T13:30:38.188Z"
   },
   {
    "duration": 4,
    "start_time": "2023-10-08T13:31:06.886Z"
   },
   {
    "duration": 102,
    "start_time": "2023-10-08T13:31:06.902Z"
   },
   {
    "duration": 15,
    "start_time": "2023-10-08T13:31:07.006Z"
   },
   {
    "duration": 43,
    "start_time": "2023-10-08T13:31:07.022Z"
   },
   {
    "duration": 25,
    "start_time": "2023-10-08T13:31:07.067Z"
   },
   {
    "duration": 53,
    "start_time": "2023-10-08T13:31:07.094Z"
   },
   {
    "duration": 29,
    "start_time": "2023-10-08T13:31:07.149Z"
   },
   {
    "duration": 50,
    "start_time": "2023-10-08T13:31:07.179Z"
   },
   {
    "duration": 12,
    "start_time": "2023-10-08T13:31:07.231Z"
   },
   {
    "duration": 9,
    "start_time": "2023-10-08T13:31:07.245Z"
   },
   {
    "duration": 31,
    "start_time": "2023-10-08T13:31:07.255Z"
   },
   {
    "duration": 21,
    "start_time": "2023-10-08T13:31:07.288Z"
   },
   {
    "duration": 5,
    "start_time": "2023-10-08T13:31:07.311Z"
   },
   {
    "duration": 6,
    "start_time": "2023-10-08T13:31:07.324Z"
   },
   {
    "duration": 224,
    "start_time": "2023-10-08T13:31:07.333Z"
   },
   {
    "duration": 21,
    "start_time": "2023-10-08T13:31:07.559Z"
   },
   {
    "duration": 27,
    "start_time": "2023-10-08T13:31:07.582Z"
   },
   {
    "duration": 16,
    "start_time": "2023-10-08T13:31:07.611Z"
   },
   {
    "duration": 14,
    "start_time": "2023-10-08T13:31:07.629Z"
   },
   {
    "duration": 17,
    "start_time": "2023-10-08T13:31:07.645Z"
   },
   {
    "duration": 7,
    "start_time": "2023-10-08T13:31:07.664Z"
   },
   {
    "duration": 3,
    "start_time": "2023-10-08T13:31:07.675Z"
   },
   {
    "duration": 13,
    "start_time": "2023-10-08T13:31:07.679Z"
   },
   {
    "duration": 247,
    "start_time": "2023-10-08T13:31:07.693Z"
   },
   {
    "duration": 3,
    "start_time": "2023-10-08T13:31:07.941Z"
   },
   {
    "duration": 12,
    "start_time": "2023-10-08T13:31:07.946Z"
   },
   {
    "duration": 9,
    "start_time": "2023-10-08T13:31:07.960Z"
   },
   {
    "duration": 10,
    "start_time": "2023-10-08T13:31:07.971Z"
   },
   {
    "duration": 24,
    "start_time": "2023-10-08T13:31:07.983Z"
   },
   {
    "duration": 267,
    "start_time": "2023-10-08T13:31:08.009Z"
   },
   {
    "duration": 524,
    "start_time": "2023-10-08T13:31:08.278Z"
   },
   {
    "duration": 175,
    "start_time": "2023-10-08T13:31:08.804Z"
   },
   {
    "duration": 8,
    "start_time": "2023-10-08T13:31:08.981Z"
   },
   {
    "duration": 58,
    "start_time": "2023-10-08T13:31:08.991Z"
   },
   {
    "duration": 81,
    "start_time": "2023-10-08T13:31:09.051Z"
   },
   {
    "duration": 9,
    "start_time": "2023-10-08T13:31:09.134Z"
   },
   {
    "duration": 79,
    "start_time": "2023-10-08T13:31:09.145Z"
   },
   {
    "duration": 3,
    "start_time": "2023-10-08T13:31:09.226Z"
   },
   {
    "duration": 216,
    "start_time": "2023-10-08T13:31:09.231Z"
   },
   {
    "duration": 287,
    "start_time": "2023-10-08T13:31:09.449Z"
   },
   {
    "duration": 37,
    "start_time": "2023-10-08T13:31:09.737Z"
   },
   {
    "duration": 36,
    "start_time": "2023-10-08T13:31:09.778Z"
   },
   {
    "duration": 342,
    "start_time": "2023-10-08T13:31:09.824Z"
   },
   {
    "duration": 89,
    "start_time": "2023-10-08T13:31:10.168Z"
   },
   {
    "duration": 39,
    "start_time": "2023-10-08T13:31:10.259Z"
   },
   {
    "duration": 9,
    "start_time": "2023-10-08T13:31:10.300Z"
   },
   {
    "duration": 20,
    "start_time": "2023-10-08T13:31:10.325Z"
   },
   {
    "duration": 197,
    "start_time": "2023-10-08T13:31:10.347Z"
   },
   {
    "duration": 14,
    "start_time": "2023-10-08T13:31:10.546Z"
   },
   {
    "duration": 25,
    "start_time": "2023-10-08T13:31:10.562Z"
   },
   {
    "duration": 228,
    "start_time": "2023-10-08T13:31:10.589Z"
   },
   {
    "duration": 263,
    "start_time": "2023-10-08T13:31:10.819Z"
   },
   {
    "duration": 315,
    "start_time": "2023-10-08T13:31:11.084Z"
   },
   {
    "duration": 282,
    "start_time": "2023-10-08T13:31:11.401Z"
   },
   {
    "duration": 181,
    "start_time": "2023-10-08T13:31:11.685Z"
   },
   {
    "duration": 192,
    "start_time": "2023-10-08T13:31:11.868Z"
   },
   {
    "duration": 37,
    "start_time": "2023-10-08T13:31:12.061Z"
   },
   {
    "duration": 769,
    "start_time": "2023-10-08T13:31:12.099Z"
   },
   {
    "duration": 23,
    "start_time": "2023-10-08T13:31:12.869Z"
   },
   {
    "duration": 44,
    "start_time": "2023-10-08T13:31:12.894Z"
   },
   {
    "duration": 503,
    "start_time": "2023-10-08T13:31:12.939Z"
   },
   {
    "duration": 8,
    "start_time": "2023-10-08T13:31:13.444Z"
   },
   {
    "duration": 372,
    "start_time": "2023-10-08T13:31:13.454Z"
   },
   {
    "duration": 269,
    "start_time": "2023-10-08T13:31:13.827Z"
   },
   {
    "duration": 287,
    "start_time": "2023-10-08T13:31:14.098Z"
   },
   {
    "duration": 14,
    "start_time": "2023-10-08T13:31:14.387Z"
   },
   {
    "duration": 63,
    "start_time": "2023-10-08T13:31:14.402Z"
   },
   {
    "duration": 273,
    "start_time": "2023-10-08T13:31:14.467Z"
   },
   {
    "duration": 17,
    "start_time": "2023-10-08T13:31:14.742Z"
   },
   {
    "duration": 299,
    "start_time": "2023-10-08T13:31:14.761Z"
   },
   {
    "duration": 305,
    "start_time": "2023-10-08T13:31:15.062Z"
   },
   {
    "duration": 240,
    "start_time": "2023-10-08T13:31:15.369Z"
   },
   {
    "duration": 27,
    "start_time": "2023-10-08T13:31:15.611Z"
   },
   {
    "duration": 399,
    "start_time": "2023-10-08T13:31:15.639Z"
   },
   {
    "duration": 5,
    "start_time": "2023-10-08T13:31:16.039Z"
   },
   {
    "duration": 344,
    "start_time": "2023-10-08T13:31:16.045Z"
   },
   {
    "duration": 63,
    "start_time": "2023-10-08T13:31:16.391Z"
   },
   {
    "duration": 115,
    "start_time": "2023-10-08T13:31:16.456Z"
   },
   {
    "duration": 343,
    "start_time": "2023-10-08T13:31:16.573Z"
   },
   {
    "duration": 268,
    "start_time": "2023-10-08T13:31:16.923Z"
   },
   {
    "duration": 148,
    "start_time": "2023-10-08T13:31:17.193Z"
   },
   {
    "duration": 18,
    "start_time": "2023-10-08T13:31:17.343Z"
   },
   {
    "duration": 304,
    "start_time": "2023-10-08T13:31:17.364Z"
   },
   {
    "duration": 307,
    "start_time": "2023-10-08T13:31:17.670Z"
   },
   {
    "duration": 429,
    "start_time": "2023-10-08T13:31:17.979Z"
   },
   {
    "duration": 22,
    "start_time": "2023-10-08T13:31:18.410Z"
   },
   {
    "duration": 422,
    "start_time": "2023-10-08T13:31:18.434Z"
   },
   {
    "duration": 228,
    "start_time": "2023-10-08T13:31:18.857Z"
   },
   {
    "duration": 14,
    "start_time": "2023-10-08T13:31:19.086Z"
   },
   {
    "duration": 155,
    "start_time": "2023-10-08T13:31:19.101Z"
   },
   {
    "duration": 472,
    "start_time": "2023-10-08T13:31:19.258Z"
   },
   {
    "duration": 292,
    "start_time": "2023-10-08T13:31:19.732Z"
   },
   {
    "duration": 235,
    "start_time": "2023-10-08T13:31:20.026Z"
   },
   {
    "duration": 662,
    "start_time": "2023-10-08T13:31:20.262Z"
   },
   {
    "duration": 278,
    "start_time": "2023-10-08T13:31:20.926Z"
   },
   {
    "duration": 218,
    "start_time": "2023-10-08T13:31:21.206Z"
   },
   {
    "duration": 42,
    "start_time": "2023-10-08T13:31:21.425Z"
   },
   {
    "duration": 41,
    "start_time": "2023-10-08T13:31:21.469Z"
   },
   {
    "duration": 211,
    "start_time": "2023-10-08T13:31:21.513Z"
   },
   {
    "duration": 209,
    "start_time": "2023-10-08T13:31:21.726Z"
   },
   {
    "duration": 14,
    "start_time": "2023-10-08T13:31:21.937Z"
   },
   {
    "duration": 36,
    "start_time": "2023-10-08T13:31:25.851Z"
   },
   {
    "duration": 117,
    "start_time": "2023-10-08T13:32:09.675Z"
   },
   {
    "duration": 66,
    "start_time": "2023-10-08T13:32:30.792Z"
   },
   {
    "duration": 146,
    "start_time": "2023-10-08T13:33:00.271Z"
   },
   {
    "duration": 144,
    "start_time": "2023-10-08T13:33:10.255Z"
   },
   {
    "duration": 108,
    "start_time": "2023-10-08T13:33:18.655Z"
   },
   {
    "duration": 108,
    "start_time": "2023-10-08T13:33:33.853Z"
   },
   {
    "duration": 108,
    "start_time": "2023-10-08T13:34:03.992Z"
   },
   {
    "duration": 107,
    "start_time": "2023-10-08T13:34:28.193Z"
   },
   {
    "duration": 197,
    "start_time": "2023-10-08T13:35:31.052Z"
   },
   {
    "duration": 10,
    "start_time": "2023-10-08T13:46:56.173Z"
   },
   {
    "duration": 330,
    "start_time": "2023-10-08T13:47:22.569Z"
   },
   {
    "duration": 224,
    "start_time": "2023-10-08T13:48:33.207Z"
   },
   {
    "duration": 282,
    "start_time": "2023-10-08T13:48:44.764Z"
   },
   {
    "duration": 87,
    "start_time": "2023-10-08T13:49:37.287Z"
   },
   {
    "duration": 233,
    "start_time": "2023-10-08T13:50:48.300Z"
   },
   {
    "duration": 241,
    "start_time": "2023-10-08T13:51:08.587Z"
   },
   {
    "duration": 351,
    "start_time": "2023-10-08T13:51:44.688Z"
   },
   {
    "duration": 1494,
    "start_time": "2023-10-08T13:54:52.492Z"
   },
   {
    "duration": 1536,
    "start_time": "2023-10-08T13:55:07.674Z"
   },
   {
    "duration": 9,
    "start_time": "2023-10-08T13:55:21.652Z"
   },
   {
    "duration": 20,
    "start_time": "2023-10-08T13:55:41.040Z"
   },
   {
    "duration": 321,
    "start_time": "2023-10-08T13:55:45.474Z"
   },
   {
    "duration": 398,
    "start_time": "2023-10-08T13:55:59.940Z"
   },
   {
    "duration": 325,
    "start_time": "2023-10-08T13:56:05.139Z"
   },
   {
    "duration": 1431,
    "start_time": "2023-10-08T13:57:55.856Z"
   },
   {
    "duration": 211,
    "start_time": "2023-10-08T13:58:06.597Z"
   },
   {
    "duration": 281,
    "start_time": "2023-10-08T13:58:09.913Z"
   },
   {
    "duration": 20,
    "start_time": "2023-10-08T13:58:34.674Z"
   },
   {
    "duration": 21,
    "start_time": "2023-10-08T14:01:08.455Z"
   },
   {
    "duration": 24,
    "start_time": "2023-10-08T14:01:12.762Z"
   },
   {
    "duration": 1138,
    "start_time": "2023-10-08T14:17:20.854Z"
   },
   {
    "duration": 74,
    "start_time": "2023-10-08T14:17:21.994Z"
   },
   {
    "duration": 15,
    "start_time": "2023-10-08T14:17:22.070Z"
   },
   {
    "duration": 29,
    "start_time": "2023-10-08T14:17:22.087Z"
   },
   {
    "duration": 34,
    "start_time": "2023-10-08T14:17:22.118Z"
   },
   {
    "duration": 52,
    "start_time": "2023-10-08T14:17:22.155Z"
   },
   {
    "duration": 15,
    "start_time": "2023-10-08T14:17:22.208Z"
   },
   {
    "duration": 44,
    "start_time": "2023-10-08T14:17:22.224Z"
   },
   {
    "duration": 27,
    "start_time": "2023-10-08T14:17:22.270Z"
   },
   {
    "duration": 22,
    "start_time": "2023-10-08T14:17:22.301Z"
   },
   {
    "duration": 51,
    "start_time": "2023-10-08T14:17:22.325Z"
   },
   {
    "duration": 19,
    "start_time": "2023-10-08T14:17:22.378Z"
   },
   {
    "duration": 9,
    "start_time": "2023-10-08T14:17:22.399Z"
   },
   {
    "duration": 19,
    "start_time": "2023-10-08T14:17:22.410Z"
   },
   {
    "duration": 240,
    "start_time": "2023-10-08T14:17:22.432Z"
   },
   {
    "duration": 22,
    "start_time": "2023-10-08T14:17:22.674Z"
   },
   {
    "duration": 27,
    "start_time": "2023-10-08T14:17:22.698Z"
   },
   {
    "duration": 41,
    "start_time": "2023-10-08T14:17:22.728Z"
   },
   {
    "duration": 46,
    "start_time": "2023-10-08T14:17:22.772Z"
   },
   {
    "duration": 36,
    "start_time": "2023-10-08T14:17:22.820Z"
   },
   {
    "duration": 12,
    "start_time": "2023-10-08T14:17:22.858Z"
   },
   {
    "duration": 20,
    "start_time": "2023-10-08T14:17:22.872Z"
   },
   {
    "duration": 53,
    "start_time": "2023-10-08T14:17:22.895Z"
   },
   {
    "duration": 239,
    "start_time": "2023-10-08T14:17:22.951Z"
   },
   {
    "duration": 2,
    "start_time": "2023-10-08T14:17:23.192Z"
   },
   {
    "duration": 39,
    "start_time": "2023-10-08T14:17:23.196Z"
   },
   {
    "duration": 21,
    "start_time": "2023-10-08T14:17:23.237Z"
   },
   {
    "duration": 28,
    "start_time": "2023-10-08T14:17:23.264Z"
   },
   {
    "duration": 32,
    "start_time": "2023-10-08T14:17:23.294Z"
   },
   {
    "duration": 291,
    "start_time": "2023-10-08T14:17:23.328Z"
   },
   {
    "duration": 266,
    "start_time": "2023-10-08T14:17:23.620Z"
   },
   {
    "duration": 189,
    "start_time": "2023-10-08T14:17:23.887Z"
   },
   {
    "duration": 7,
    "start_time": "2023-10-08T14:17:24.078Z"
   },
   {
    "duration": 87,
    "start_time": "2023-10-08T14:17:24.087Z"
   },
   {
    "duration": 54,
    "start_time": "2023-10-08T14:17:24.176Z"
   },
   {
    "duration": 9,
    "start_time": "2023-10-08T14:17:24.232Z"
   },
   {
    "duration": 24,
    "start_time": "2023-10-08T14:17:24.243Z"
   },
   {
    "duration": 3,
    "start_time": "2023-10-08T14:17:24.268Z"
   },
   {
    "duration": 97,
    "start_time": "2023-10-08T14:17:24.272Z"
   },
   {
    "duration": 317,
    "start_time": "2023-10-08T14:17:24.370Z"
   },
   {
    "duration": 51,
    "start_time": "2023-10-08T14:17:24.689Z"
   },
   {
    "duration": 39,
    "start_time": "2023-10-08T14:17:24.742Z"
   },
   {
    "duration": 244,
    "start_time": "2023-10-08T14:17:24.783Z"
   },
   {
    "duration": 25,
    "start_time": "2023-10-08T14:17:25.029Z"
   },
   {
    "duration": 32,
    "start_time": "2023-10-08T14:17:25.055Z"
   },
   {
    "duration": 26,
    "start_time": "2023-10-08T14:17:25.089Z"
   },
   {
    "duration": 31,
    "start_time": "2023-10-08T14:17:25.117Z"
   },
   {
    "duration": 180,
    "start_time": "2023-10-08T14:17:25.150Z"
   },
   {
    "duration": 14,
    "start_time": "2023-10-08T14:17:25.332Z"
   },
   {
    "duration": 33,
    "start_time": "2023-10-08T14:17:25.347Z"
   },
   {
    "duration": 218,
    "start_time": "2023-10-08T14:17:25.382Z"
   },
   {
    "duration": 293,
    "start_time": "2023-10-08T14:17:25.602Z"
   },
   {
    "duration": 428,
    "start_time": "2023-10-08T14:17:25.897Z"
   },
   {
    "duration": 283,
    "start_time": "2023-10-08T14:17:26.328Z"
   },
   {
    "duration": 185,
    "start_time": "2023-10-08T14:17:26.613Z"
   },
   {
    "duration": 291,
    "start_time": "2023-10-08T14:17:26.800Z"
   },
   {
    "duration": 156,
    "start_time": "2023-10-08T14:17:27.093Z"
   },
   {
    "duration": 1005,
    "start_time": "2023-10-08T14:17:27.250Z"
   },
   {
    "duration": 82,
    "start_time": "2023-10-08T14:17:28.258Z"
   },
   {
    "duration": 11,
    "start_time": "2023-10-08T14:17:28.342Z"
   },
   {
    "duration": 370,
    "start_time": "2023-10-08T14:17:28.354Z"
   },
   {
    "duration": 7,
    "start_time": "2023-10-08T14:17:28.726Z"
   },
   {
    "duration": 321,
    "start_time": "2023-10-08T14:17:28.735Z"
   },
   {
    "duration": 275,
    "start_time": "2023-10-08T14:17:29.058Z"
   },
   {
    "duration": 306,
    "start_time": "2023-10-08T14:17:29.335Z"
   },
   {
    "duration": 15,
    "start_time": "2023-10-08T14:17:29.643Z"
   },
   {
    "duration": 19,
    "start_time": "2023-10-08T14:17:29.659Z"
   },
   {
    "duration": 380,
    "start_time": "2023-10-08T14:17:29.680Z"
   },
   {
    "duration": 18,
    "start_time": "2023-10-08T14:17:30.061Z"
   },
   {
    "duration": 340,
    "start_time": "2023-10-08T14:17:30.081Z"
   },
   {
    "duration": 323,
    "start_time": "2023-10-08T14:17:30.423Z"
   },
   {
    "duration": 242,
    "start_time": "2023-10-08T14:17:30.748Z"
   },
   {
    "duration": 16,
    "start_time": "2023-10-08T14:17:30.992Z"
   },
   {
    "duration": 215,
    "start_time": "2023-10-08T14:17:31.024Z"
   },
   {
    "duration": 5,
    "start_time": "2023-10-08T14:17:31.242Z"
   },
   {
    "duration": 227,
    "start_time": "2023-10-08T14:17:31.249Z"
   },
   {
    "duration": 15,
    "start_time": "2023-10-08T14:17:31.478Z"
   },
   {
    "duration": 42,
    "start_time": "2023-10-08T14:17:31.494Z"
   },
   {
    "duration": 291,
    "start_time": "2023-10-08T14:17:31.538Z"
   },
   {
    "duration": 262,
    "start_time": "2023-10-08T14:17:31.831Z"
   },
   {
    "duration": 148,
    "start_time": "2023-10-08T14:17:32.095Z"
   },
   {
    "duration": 25,
    "start_time": "2023-10-08T14:17:32.250Z"
   },
   {
    "duration": 346,
    "start_time": "2023-10-08T14:17:32.277Z"
   },
   {
    "duration": 296,
    "start_time": "2023-10-08T14:17:32.625Z"
   },
   {
    "duration": 335,
    "start_time": "2023-10-08T14:17:32.923Z"
   },
   {
    "duration": 16,
    "start_time": "2023-10-08T14:17:33.259Z"
   },
   {
    "duration": 213,
    "start_time": "2023-10-08T14:17:33.277Z"
   },
   {
    "duration": 219,
    "start_time": "2023-10-08T14:17:33.492Z"
   },
   {
    "duration": 21,
    "start_time": "2023-10-08T14:17:33.713Z"
   },
   {
    "duration": 17,
    "start_time": "2023-10-08T14:17:33.736Z"
   },
   {
    "duration": 258,
    "start_time": "2023-10-08T14:17:33.755Z"
   },
   {
    "duration": 285,
    "start_time": "2023-10-08T14:17:34.015Z"
   },
   {
    "duration": 32,
    "start_time": "2023-10-08T14:17:34.302Z"
   },
   {
    "duration": 354,
    "start_time": "2023-10-08T14:17:34.335Z"
   },
   {
    "duration": 279,
    "start_time": "2023-10-08T14:17:34.691Z"
   },
   {
    "duration": 217,
    "start_time": "2023-10-08T14:17:34.971Z"
   },
   {
    "duration": 16,
    "start_time": "2023-10-08T14:17:35.189Z"
   },
   {
    "duration": 37,
    "start_time": "2023-10-08T14:17:35.207Z"
   },
   {
    "duration": 358,
    "start_time": "2023-10-08T14:17:35.246Z"
   },
   {
    "duration": 224,
    "start_time": "2023-10-08T14:17:35.606Z"
   },
   {
    "duration": 20,
    "start_time": "2023-10-08T14:17:35.832Z"
   },
   {
    "duration": 96,
    "start_time": "2023-10-08T14:17:35.854Z"
   },
   {
    "duration": 725,
    "start_time": "2023-10-08T14:17:35.952Z"
   },
   {
    "duration": 22,
    "start_time": "2023-10-08T14:17:36.679Z"
   },
   {
    "duration": 374,
    "start_time": "2023-10-08T14:17:36.703Z"
   },
   {
    "duration": 21,
    "start_time": "2023-10-08T14:17:37.079Z"
   },
   {
    "duration": 450,
    "start_time": "2023-10-08T14:17:37.102Z"
   },
   {
    "duration": 21,
    "start_time": "2023-10-08T14:17:37.553Z"
   },
   {
    "duration": 115,
    "start_time": "2023-10-08T14:17:37.576Z"
   },
   {
    "duration": 10,
    "start_time": "2023-10-08T14:17:37.694Z"
   },
   {
    "duration": 9,
    "start_time": "2023-10-08T14:17:37.706Z"
   },
   {
    "duration": 7,
    "start_time": "2023-10-08T14:17:37.716Z"
   },
   {
    "duration": 7,
    "start_time": "2023-10-08T14:17:37.724Z"
   },
   {
    "duration": 1429,
    "start_time": "2023-10-08T21:23:18.314Z"
   },
   {
    "duration": 87,
    "start_time": "2023-10-08T21:23:19.745Z"
   },
   {
    "duration": 19,
    "start_time": "2023-10-08T21:23:19.834Z"
   },
   {
    "duration": 12,
    "start_time": "2023-10-08T21:23:19.855Z"
   },
   {
    "duration": 42,
    "start_time": "2023-10-08T21:23:19.869Z"
   },
   {
    "duration": 39,
    "start_time": "2023-10-08T21:23:19.913Z"
   },
   {
    "duration": 29,
    "start_time": "2023-10-08T21:23:19.954Z"
   },
   {
    "duration": 51,
    "start_time": "2023-10-08T21:23:19.985Z"
   },
   {
    "duration": 32,
    "start_time": "2023-10-08T21:23:20.038Z"
   },
   {
    "duration": 42,
    "start_time": "2023-10-08T21:23:20.072Z"
   },
   {
    "duration": 39,
    "start_time": "2023-10-08T21:23:20.115Z"
   },
   {
    "duration": 36,
    "start_time": "2023-10-08T21:23:20.156Z"
   },
   {
    "duration": 44,
    "start_time": "2023-10-08T21:23:20.193Z"
   },
   {
    "duration": 32,
    "start_time": "2023-10-08T21:23:20.240Z"
   },
   {
    "duration": 218,
    "start_time": "2023-10-08T21:23:20.273Z"
   },
   {
    "duration": 19,
    "start_time": "2023-10-08T21:23:20.492Z"
   },
   {
    "duration": 9,
    "start_time": "2023-10-08T21:23:20.512Z"
   },
   {
    "duration": 24,
    "start_time": "2023-10-08T21:23:20.522Z"
   },
   {
    "duration": 40,
    "start_time": "2023-10-08T21:23:20.548Z"
   },
   {
    "duration": 11,
    "start_time": "2023-10-08T21:23:20.590Z"
   },
   {
    "duration": 8,
    "start_time": "2023-10-08T21:23:20.603Z"
   },
   {
    "duration": 16,
    "start_time": "2023-10-08T21:23:20.612Z"
   },
   {
    "duration": 23,
    "start_time": "2023-10-08T21:23:20.629Z"
   },
   {
    "duration": 190,
    "start_time": "2023-10-08T21:23:20.654Z"
   },
   {
    "duration": 2,
    "start_time": "2023-10-08T21:23:20.846Z"
   },
   {
    "duration": 4,
    "start_time": "2023-10-08T21:23:20.850Z"
   },
   {
    "duration": 15,
    "start_time": "2023-10-08T21:23:20.856Z"
   },
   {
    "duration": 10,
    "start_time": "2023-10-08T21:23:20.873Z"
   },
   {
    "duration": 10,
    "start_time": "2023-10-08T21:23:20.884Z"
   },
   {
    "duration": 231,
    "start_time": "2023-10-08T21:23:20.895Z"
   },
   {
    "duration": 243,
    "start_time": "2023-10-08T21:23:21.127Z"
   },
   {
    "duration": 152,
    "start_time": "2023-10-08T21:23:21.372Z"
   },
   {
    "duration": 20,
    "start_time": "2023-10-08T21:23:21.525Z"
   },
   {
    "duration": 120,
    "start_time": "2023-10-08T21:23:21.547Z"
   },
   {
    "duration": 73,
    "start_time": "2023-10-08T21:23:21.669Z"
   },
   {
    "duration": 10,
    "start_time": "2023-10-08T21:23:21.743Z"
   },
   {
    "duration": 35,
    "start_time": "2023-10-08T21:23:21.755Z"
   },
   {
    "duration": 2,
    "start_time": "2023-10-08T21:23:21.792Z"
   },
   {
    "duration": 92,
    "start_time": "2023-10-08T21:23:21.796Z"
   },
   {
    "duration": 259,
    "start_time": "2023-10-08T21:23:21.890Z"
   },
   {
    "duration": 30,
    "start_time": "2023-10-08T21:23:22.155Z"
   },
   {
    "duration": 62,
    "start_time": "2023-10-08T21:23:22.187Z"
   },
   {
    "duration": 237,
    "start_time": "2023-10-08T21:23:22.251Z"
   },
   {
    "duration": 33,
    "start_time": "2023-10-08T21:23:22.490Z"
   },
   {
    "duration": 39,
    "start_time": "2023-10-08T21:23:22.525Z"
   },
   {
    "duration": 5,
    "start_time": "2023-10-08T21:23:22.566Z"
   },
   {
    "duration": 18,
    "start_time": "2023-10-08T21:23:22.572Z"
   },
   {
    "duration": 203,
    "start_time": "2023-10-08T21:23:22.592Z"
   },
   {
    "duration": 11,
    "start_time": "2023-10-08T21:23:22.796Z"
   },
   {
    "duration": 35,
    "start_time": "2023-10-08T21:23:22.808Z"
   },
   {
    "duration": 182,
    "start_time": "2023-10-08T21:23:22.844Z"
   },
   {
    "duration": 219,
    "start_time": "2023-10-08T21:23:23.028Z"
   },
   {
    "duration": 263,
    "start_time": "2023-10-08T21:23:23.249Z"
   },
   {
    "duration": 286,
    "start_time": "2023-10-08T21:23:23.514Z"
   },
   {
    "duration": 156,
    "start_time": "2023-10-08T21:23:23.801Z"
   },
   {
    "duration": 161,
    "start_time": "2023-10-08T21:23:23.959Z"
   },
   {
    "duration": 92,
    "start_time": "2023-10-08T21:23:24.121Z"
   },
   {
    "duration": 632,
    "start_time": "2023-10-08T21:23:24.214Z"
   },
   {
    "duration": 18,
    "start_time": "2023-10-08T21:23:24.847Z"
   },
   {
    "duration": 13,
    "start_time": "2023-10-08T21:23:24.867Z"
   },
   {
    "duration": 270,
    "start_time": "2023-10-08T21:23:24.882Z"
   },
   {
    "duration": 8,
    "start_time": "2023-10-08T21:23:25.153Z"
   },
   {
    "duration": 282,
    "start_time": "2023-10-08T21:23:25.163Z"
   },
   {
    "duration": 245,
    "start_time": "2023-10-08T21:23:25.446Z"
   },
   {
    "duration": 254,
    "start_time": "2023-10-08T21:23:25.693Z"
   },
   {
    "duration": 17,
    "start_time": "2023-10-08T21:23:25.949Z"
   },
   {
    "duration": 69,
    "start_time": "2023-10-08T21:23:25.967Z"
   },
   {
    "duration": 340,
    "start_time": "2023-10-08T21:23:26.037Z"
   },
   {
    "duration": 19,
    "start_time": "2023-10-08T21:23:26.379Z"
   },
   {
    "duration": 248,
    "start_time": "2023-10-08T21:23:26.400Z"
   },
   {
    "duration": 270,
    "start_time": "2023-10-08T21:23:26.650Z"
   },
   {
    "duration": 207,
    "start_time": "2023-10-08T21:23:26.922Z"
   },
   {
    "duration": 18,
    "start_time": "2023-10-08T21:23:27.130Z"
   },
   {
    "duration": 206,
    "start_time": "2023-10-08T21:23:27.150Z"
   },
   {
    "duration": 4,
    "start_time": "2023-10-08T21:23:27.358Z"
   },
   {
    "duration": 208,
    "start_time": "2023-10-08T21:23:27.364Z"
   },
   {
    "duration": 21,
    "start_time": "2023-10-08T21:23:27.575Z"
   },
   {
    "duration": 22,
    "start_time": "2023-10-08T21:23:27.598Z"
   },
   {
    "duration": 250,
    "start_time": "2023-10-08T21:23:27.622Z"
   },
   {
    "duration": 248,
    "start_time": "2023-10-08T21:23:27.874Z"
   },
   {
    "duration": 173,
    "start_time": "2023-10-08T21:23:28.124Z"
   },
   {
    "duration": 18,
    "start_time": "2023-10-08T21:23:28.298Z"
   },
   {
    "duration": 238,
    "start_time": "2023-10-08T21:23:28.318Z"
   },
   {
    "duration": 266,
    "start_time": "2023-10-08T21:23:28.558Z"
   },
   {
    "duration": 276,
    "start_time": "2023-10-08T21:23:28.826Z"
   },
   {
    "duration": 14,
    "start_time": "2023-10-08T21:23:29.104Z"
   },
   {
    "duration": 197,
    "start_time": "2023-10-08T21:23:29.120Z"
   },
   {
    "duration": 197,
    "start_time": "2023-10-08T21:23:29.318Z"
   },
   {
    "duration": 26,
    "start_time": "2023-10-08T21:23:29.517Z"
   },
   {
    "duration": 16,
    "start_time": "2023-10-08T21:23:29.545Z"
   },
   {
    "duration": 234,
    "start_time": "2023-10-08T21:23:29.564Z"
   },
   {
    "duration": 248,
    "start_time": "2023-10-08T21:23:29.799Z"
   },
   {
    "duration": 23,
    "start_time": "2023-10-08T21:23:30.049Z"
   },
   {
    "duration": 356,
    "start_time": "2023-10-08T21:23:30.074Z"
   },
   {
    "duration": 262,
    "start_time": "2023-10-08T21:23:30.432Z"
   },
   {
    "duration": 286,
    "start_time": "2023-10-08T21:23:30.696Z"
   },
   {
    "duration": 22,
    "start_time": "2023-10-08T21:23:30.983Z"
   },
   {
    "duration": 33,
    "start_time": "2023-10-08T21:23:31.007Z"
   },
   {
    "duration": 249,
    "start_time": "2023-10-08T21:23:31.041Z"
   },
   {
    "duration": 183,
    "start_time": "2023-10-08T21:23:31.291Z"
   },
   {
    "duration": 11,
    "start_time": "2023-10-08T21:23:31.475Z"
   },
   {
    "duration": 30,
    "start_time": "2023-10-08T21:23:31.488Z"
   },
   {
    "duration": 364,
    "start_time": "2023-10-08T21:23:31.519Z"
   },
   {
    "duration": 25,
    "start_time": "2023-10-08T21:23:31.885Z"
   },
   {
    "duration": 345,
    "start_time": "2023-10-08T21:23:31.912Z"
   },
   {
    "duration": 22,
    "start_time": "2023-10-08T21:23:32.259Z"
   },
   {
    "duration": 342,
    "start_time": "2023-10-08T21:23:32.282Z"
   },
   {
    "duration": 32,
    "start_time": "2023-10-08T21:23:32.626Z"
   },
   {
    "duration": 26,
    "start_time": "2023-10-08T21:23:32.660Z"
   },
   {
    "duration": 19,
    "start_time": "2023-10-08T21:23:32.688Z"
   },
   {
    "duration": 8,
    "start_time": "2023-10-08T21:23:32.709Z"
   },
   {
    "duration": 5,
    "start_time": "2023-10-08T21:23:32.719Z"
   },
   {
    "duration": 13,
    "start_time": "2023-10-08T21:23:32.726Z"
   },
   {
    "duration": 11,
    "start_time": "2023-10-08T21:31:26.842Z"
   },
   {
    "duration": 1034,
    "start_time": "2023-10-08T21:31:38.575Z"
   },
   {
    "duration": 63,
    "start_time": "2023-10-08T21:31:39.611Z"
   },
   {
    "duration": 13,
    "start_time": "2023-10-08T21:31:39.675Z"
   },
   {
    "duration": 15,
    "start_time": "2023-10-08T21:31:39.690Z"
   },
   {
    "duration": 27,
    "start_time": "2023-10-08T21:31:39.707Z"
   },
   {
    "duration": 33,
    "start_time": "2023-10-08T21:31:39.736Z"
   },
   {
    "duration": 26,
    "start_time": "2023-10-08T21:31:39.770Z"
   },
   {
    "duration": 16,
    "start_time": "2023-10-08T21:31:39.797Z"
   },
   {
    "duration": 10,
    "start_time": "2023-10-08T21:31:39.814Z"
   },
   {
    "duration": 14,
    "start_time": "2023-10-08T21:31:39.827Z"
   },
   {
    "duration": 26,
    "start_time": "2023-10-08T21:31:39.842Z"
   },
   {
    "duration": 17,
    "start_time": "2023-10-08T21:31:39.870Z"
   },
   {
    "duration": 12,
    "start_time": "2023-10-08T21:31:39.888Z"
   },
   {
    "duration": 8,
    "start_time": "2023-10-08T21:31:39.902Z"
   },
   {
    "duration": 28,
    "start_time": "2023-10-08T21:31:39.911Z"
   },
   {
    "duration": 194,
    "start_time": "2023-10-08T21:31:39.941Z"
   },
   {
    "duration": 18,
    "start_time": "2023-10-08T21:31:40.139Z"
   },
   {
    "duration": 6,
    "start_time": "2023-10-08T21:31:40.159Z"
   },
   {
    "duration": 39,
    "start_time": "2023-10-08T21:31:40.166Z"
   },
   {
    "duration": 25,
    "start_time": "2023-10-08T21:31:40.206Z"
   },
   {
    "duration": 22,
    "start_time": "2023-10-08T21:31:40.233Z"
   },
   {
    "duration": 4,
    "start_time": "2023-10-08T21:31:40.257Z"
   },
   {
    "duration": 13,
    "start_time": "2023-10-08T21:31:40.262Z"
   },
   {
    "duration": 9,
    "start_time": "2023-10-08T21:31:40.277Z"
   },
   {
    "duration": 213,
    "start_time": "2023-10-08T21:31:40.288Z"
   },
   {
    "duration": 2,
    "start_time": "2023-10-08T21:31:40.503Z"
   },
   {
    "duration": 15,
    "start_time": "2023-10-08T21:31:40.506Z"
   },
   {
    "duration": 19,
    "start_time": "2023-10-08T21:31:40.525Z"
   },
   {
    "duration": 12,
    "start_time": "2023-10-08T21:31:40.545Z"
   },
   {
    "duration": 18,
    "start_time": "2023-10-08T21:31:40.558Z"
   },
   {
    "duration": 220,
    "start_time": "2023-10-08T21:31:40.577Z"
   },
   {
    "duration": 221,
    "start_time": "2023-10-08T21:31:40.799Z"
   },
   {
    "duration": 145,
    "start_time": "2023-10-08T21:31:41.022Z"
   },
   {
    "duration": 7,
    "start_time": "2023-10-08T21:31:41.169Z"
   },
   {
    "duration": 86,
    "start_time": "2023-10-08T21:31:41.177Z"
   },
   {
    "duration": 56,
    "start_time": "2023-10-08T21:31:41.265Z"
   },
   {
    "duration": 19,
    "start_time": "2023-10-08T21:31:41.322Z"
   },
   {
    "duration": 22,
    "start_time": "2023-10-08T21:31:41.343Z"
   },
   {
    "duration": 2,
    "start_time": "2023-10-08T21:31:41.366Z"
   },
   {
    "duration": 109,
    "start_time": "2023-10-08T21:31:41.369Z"
   },
   {
    "duration": 247,
    "start_time": "2023-10-08T21:31:41.479Z"
   },
   {
    "duration": 36,
    "start_time": "2023-10-08T21:31:41.728Z"
   },
   {
    "duration": 29,
    "start_time": "2023-10-08T21:31:41.766Z"
   },
   {
    "duration": 213,
    "start_time": "2023-10-08T21:31:41.797Z"
   },
   {
    "duration": 29,
    "start_time": "2023-10-08T21:31:42.011Z"
   },
   {
    "duration": 18,
    "start_time": "2023-10-08T21:31:42.041Z"
   },
   {
    "duration": 3,
    "start_time": "2023-10-08T21:31:42.061Z"
   },
   {
    "duration": 23,
    "start_time": "2023-10-08T21:31:42.066Z"
   },
   {
    "duration": 141,
    "start_time": "2023-10-08T21:31:42.090Z"
   },
   {
    "duration": 14,
    "start_time": "2023-10-08T21:31:42.240Z"
   },
   {
    "duration": 21,
    "start_time": "2023-10-08T21:31:42.255Z"
   },
   {
    "duration": 206,
    "start_time": "2023-10-08T21:31:42.277Z"
   },
   {
    "duration": 262,
    "start_time": "2023-10-08T21:31:42.485Z"
   },
   {
    "duration": 255,
    "start_time": "2023-10-08T21:31:42.749Z"
   },
   {
    "duration": 235,
    "start_time": "2023-10-08T21:31:43.005Z"
   },
   {
    "duration": 154,
    "start_time": "2023-10-08T21:31:43.242Z"
   },
   {
    "duration": 161,
    "start_time": "2023-10-08T21:31:43.397Z"
   },
   {
    "duration": 106,
    "start_time": "2023-10-08T21:31:43.560Z"
   },
   {
    "duration": 626,
    "start_time": "2023-10-08T21:31:43.667Z"
   },
   {
    "duration": 19,
    "start_time": "2023-10-08T21:31:44.294Z"
   },
   {
    "duration": 8,
    "start_time": "2023-10-08T21:31:44.314Z"
   },
   {
    "duration": 260,
    "start_time": "2023-10-08T21:31:44.340Z"
   },
   {
    "duration": 7,
    "start_time": "2023-10-08T21:31:44.601Z"
   },
   {
    "duration": 261,
    "start_time": "2023-10-08T21:31:44.609Z"
   },
   {
    "duration": 223,
    "start_time": "2023-10-08T21:31:44.872Z"
   },
   {
    "duration": 265,
    "start_time": "2023-10-08T21:31:45.096Z"
   },
   {
    "duration": 12,
    "start_time": "2023-10-08T21:31:45.363Z"
   },
   {
    "duration": 27,
    "start_time": "2023-10-08T21:31:45.377Z"
   },
   {
    "duration": 365,
    "start_time": "2023-10-08T21:31:45.405Z"
   },
   {
    "duration": 13,
    "start_time": "2023-10-08T21:31:45.772Z"
   },
   {
    "duration": 488,
    "start_time": "2023-10-08T21:31:45.786Z"
   },
   {
    "duration": 570,
    "start_time": "2023-10-08T21:31:46.275Z"
   },
   {
    "duration": 349,
    "start_time": "2023-10-08T21:31:46.846Z"
   },
   {
    "duration": 13,
    "start_time": "2023-10-08T21:31:47.239Z"
   },
   {
    "duration": 182,
    "start_time": "2023-10-08T21:31:47.253Z"
   },
   {
    "duration": 4,
    "start_time": "2023-10-08T21:31:47.440Z"
   },
   {
    "duration": 181,
    "start_time": "2023-10-08T21:31:47.445Z"
   },
   {
    "duration": 22,
    "start_time": "2023-10-08T21:31:47.628Z"
   },
   {
    "duration": 14,
    "start_time": "2023-10-08T21:31:47.651Z"
   },
   {
    "duration": 224,
    "start_time": "2023-10-08T21:31:47.667Z"
   },
   {
    "duration": 209,
    "start_time": "2023-10-08T21:31:47.893Z"
   },
   {
    "duration": 142,
    "start_time": "2023-10-08T21:31:48.106Z"
   },
   {
    "duration": 14,
    "start_time": "2023-10-08T21:31:48.249Z"
   },
   {
    "duration": 229,
    "start_time": "2023-10-08T21:31:48.265Z"
   },
   {
    "duration": 264,
    "start_time": "2023-10-08T21:31:48.496Z"
   },
   {
    "duration": 280,
    "start_time": "2023-10-08T21:31:48.762Z"
   },
   {
    "duration": 14,
    "start_time": "2023-10-08T21:31:49.044Z"
   },
   {
    "duration": 182,
    "start_time": "2023-10-08T21:31:49.060Z"
   },
   {
    "duration": 189,
    "start_time": "2023-10-08T21:31:49.244Z"
   },
   {
    "duration": 14,
    "start_time": "2023-10-08T21:31:49.435Z"
   },
   {
    "duration": 14,
    "start_time": "2023-10-08T21:31:49.450Z"
   },
   {
    "duration": 235,
    "start_time": "2023-10-08T21:31:49.465Z"
   },
   {
    "duration": 241,
    "start_time": "2023-10-08T21:31:49.701Z"
   },
   {
    "duration": 13,
    "start_time": "2023-10-08T21:31:49.943Z"
   },
   {
    "duration": 291,
    "start_time": "2023-10-08T21:31:49.957Z"
   },
   {
    "duration": 237,
    "start_time": "2023-10-08T21:31:50.249Z"
   },
   {
    "duration": 202,
    "start_time": "2023-10-08T21:31:50.487Z"
   },
   {
    "duration": 13,
    "start_time": "2023-10-08T21:31:50.690Z"
   },
   {
    "duration": 16,
    "start_time": "2023-10-08T21:31:50.705Z"
   },
   {
    "duration": 212,
    "start_time": "2023-10-08T21:31:50.723Z"
   },
   {
    "duration": 179,
    "start_time": "2023-10-08T21:31:50.936Z"
   },
   {
    "duration": 11,
    "start_time": "2023-10-08T21:31:51.116Z"
   },
   {
    "duration": 32,
    "start_time": "2023-10-08T21:31:51.128Z"
   },
   {
    "duration": 321,
    "start_time": "2023-10-08T21:31:51.161Z"
   },
   {
    "duration": 16,
    "start_time": "2023-10-08T21:31:51.484Z"
   },
   {
    "duration": 323,
    "start_time": "2023-10-08T21:31:51.501Z"
   },
   {
    "duration": 27,
    "start_time": "2023-10-08T21:31:51.826Z"
   },
   {
    "duration": 276,
    "start_time": "2023-10-08T21:31:51.855Z"
   },
   {
    "duration": 18,
    "start_time": "2023-10-08T21:31:52.139Z"
   },
   {
    "duration": 34,
    "start_time": "2023-10-08T21:31:52.158Z"
   },
   {
    "duration": 27,
    "start_time": "2023-10-08T21:31:52.193Z"
   },
   {
    "duration": 43,
    "start_time": "2023-10-08T21:31:52.221Z"
   },
   {
    "duration": 37,
    "start_time": "2023-10-08T21:31:52.265Z"
   },
   {
    "duration": 37,
    "start_time": "2023-10-08T21:31:52.304Z"
   },
   {
    "duration": 56,
    "start_time": "2023-10-09T14:51:03.386Z"
   },
   {
    "duration": 1633,
    "start_time": "2023-10-09T14:51:14.877Z"
   },
   {
    "duration": 213,
    "start_time": "2023-10-09T14:51:16.513Z"
   },
   {
    "duration": 17,
    "start_time": "2023-10-09T14:51:16.728Z"
   },
   {
    "duration": 31,
    "start_time": "2023-10-09T14:51:16.748Z"
   },
   {
    "duration": 23,
    "start_time": "2023-10-09T14:51:16.781Z"
   },
   {
    "duration": 68,
    "start_time": "2023-10-09T14:51:16.808Z"
   },
   {
    "duration": 13,
    "start_time": "2023-10-09T14:51:16.878Z"
   },
   {
    "duration": 19,
    "start_time": "2023-10-09T14:51:16.894Z"
   },
   {
    "duration": 18,
    "start_time": "2023-10-09T14:51:16.915Z"
   },
   {
    "duration": 39,
    "start_time": "2023-10-09T14:51:16.955Z"
   },
   {
    "duration": 39,
    "start_time": "2023-10-09T14:51:16.996Z"
   },
   {
    "duration": 2236,
    "start_time": "2023-10-09T14:51:17.038Z"
   },
   {
    "duration": 0,
    "start_time": "2023-10-09T14:51:19.279Z"
   },
   {
    "duration": 0,
    "start_time": "2023-10-09T14:51:19.281Z"
   },
   {
    "duration": 0,
    "start_time": "2023-10-09T14:51:19.282Z"
   },
   {
    "duration": 0,
    "start_time": "2023-10-09T14:51:19.284Z"
   },
   {
    "duration": 0,
    "start_time": "2023-10-09T14:51:19.285Z"
   },
   {
    "duration": 0,
    "start_time": "2023-10-09T14:51:19.286Z"
   },
   {
    "duration": 0,
    "start_time": "2023-10-09T14:51:19.287Z"
   },
   {
    "duration": 0,
    "start_time": "2023-10-09T14:51:19.289Z"
   },
   {
    "duration": 0,
    "start_time": "2023-10-09T14:51:19.290Z"
   },
   {
    "duration": 0,
    "start_time": "2023-10-09T14:51:19.291Z"
   },
   {
    "duration": 0,
    "start_time": "2023-10-09T14:51:19.293Z"
   },
   {
    "duration": 0,
    "start_time": "2023-10-09T14:51:19.294Z"
   },
   {
    "duration": 0,
    "start_time": "2023-10-09T14:51:19.295Z"
   },
   {
    "duration": 0,
    "start_time": "2023-10-09T14:51:19.296Z"
   },
   {
    "duration": 0,
    "start_time": "2023-10-09T14:51:19.297Z"
   },
   {
    "duration": 0,
    "start_time": "2023-10-09T14:51:19.299Z"
   },
   {
    "duration": 0,
    "start_time": "2023-10-09T14:51:19.300Z"
   },
   {
    "duration": 0,
    "start_time": "2023-10-09T14:51:19.301Z"
   },
   {
    "duration": 0,
    "start_time": "2023-10-09T14:51:19.302Z"
   },
   {
    "duration": 0,
    "start_time": "2023-10-09T14:51:19.303Z"
   },
   {
    "duration": 0,
    "start_time": "2023-10-09T14:51:19.304Z"
   },
   {
    "duration": 0,
    "start_time": "2023-10-09T14:51:19.306Z"
   },
   {
    "duration": 0,
    "start_time": "2023-10-09T14:51:19.307Z"
   },
   {
    "duration": 0,
    "start_time": "2023-10-09T14:51:19.308Z"
   },
   {
    "duration": 0,
    "start_time": "2023-10-09T14:51:19.309Z"
   },
   {
    "duration": 0,
    "start_time": "2023-10-09T14:51:19.311Z"
   },
   {
    "duration": 0,
    "start_time": "2023-10-09T14:51:19.312Z"
   },
   {
    "duration": 0,
    "start_time": "2023-10-09T14:51:19.313Z"
   },
   {
    "duration": 0,
    "start_time": "2023-10-09T14:51:19.314Z"
   },
   {
    "duration": 0,
    "start_time": "2023-10-09T14:51:19.315Z"
   },
   {
    "duration": 0,
    "start_time": "2023-10-09T14:51:19.357Z"
   },
   {
    "duration": 0,
    "start_time": "2023-10-09T14:51:19.359Z"
   },
   {
    "duration": 0,
    "start_time": "2023-10-09T14:51:19.360Z"
   },
   {
    "duration": 0,
    "start_time": "2023-10-09T14:51:19.361Z"
   },
   {
    "duration": 0,
    "start_time": "2023-10-09T14:51:19.363Z"
   },
   {
    "duration": 0,
    "start_time": "2023-10-09T14:51:19.364Z"
   },
   {
    "duration": 0,
    "start_time": "2023-10-09T14:51:19.365Z"
   },
   {
    "duration": 0,
    "start_time": "2023-10-09T14:51:19.366Z"
   },
   {
    "duration": 0,
    "start_time": "2023-10-09T14:51:19.367Z"
   },
   {
    "duration": 0,
    "start_time": "2023-10-09T14:51:19.368Z"
   },
   {
    "duration": 0,
    "start_time": "2023-10-09T14:51:19.370Z"
   },
   {
    "duration": 0,
    "start_time": "2023-10-09T14:51:19.371Z"
   },
   {
    "duration": 0,
    "start_time": "2023-10-09T14:51:19.372Z"
   },
   {
    "duration": 0,
    "start_time": "2023-10-09T14:51:19.373Z"
   },
   {
    "duration": 0,
    "start_time": "2023-10-09T14:51:19.374Z"
   },
   {
    "duration": 0,
    "start_time": "2023-10-09T14:51:19.376Z"
   },
   {
    "duration": 0,
    "start_time": "2023-10-09T14:51:19.377Z"
   },
   {
    "duration": 0,
    "start_time": "2023-10-09T14:51:19.378Z"
   },
   {
    "duration": 0,
    "start_time": "2023-10-09T14:51:19.379Z"
   },
   {
    "duration": 0,
    "start_time": "2023-10-09T14:51:19.380Z"
   },
   {
    "duration": 0,
    "start_time": "2023-10-09T14:51:19.381Z"
   },
   {
    "duration": 0,
    "start_time": "2023-10-09T14:51:19.382Z"
   },
   {
    "duration": 0,
    "start_time": "2023-10-09T14:51:19.384Z"
   },
   {
    "duration": 0,
    "start_time": "2023-10-09T14:51:19.385Z"
   },
   {
    "duration": 0,
    "start_time": "2023-10-09T14:51:19.386Z"
   },
   {
    "duration": 0,
    "start_time": "2023-10-09T14:51:19.387Z"
   },
   {
    "duration": 0,
    "start_time": "2023-10-09T14:51:19.388Z"
   },
   {
    "duration": 0,
    "start_time": "2023-10-09T14:51:19.389Z"
   },
   {
    "duration": 0,
    "start_time": "2023-10-09T14:51:19.390Z"
   },
   {
    "duration": 0,
    "start_time": "2023-10-09T14:51:19.391Z"
   },
   {
    "duration": 0,
    "start_time": "2023-10-09T14:51:19.457Z"
   },
   {
    "duration": 0,
    "start_time": "2023-10-09T14:51:19.458Z"
   },
   {
    "duration": 0,
    "start_time": "2023-10-09T14:51:19.460Z"
   },
   {
    "duration": 0,
    "start_time": "2023-10-09T14:51:19.461Z"
   },
   {
    "duration": 0,
    "start_time": "2023-10-09T14:51:19.464Z"
   },
   {
    "duration": 0,
    "start_time": "2023-10-09T14:51:19.465Z"
   },
   {
    "duration": 0,
    "start_time": "2023-10-09T14:51:19.466Z"
   },
   {
    "duration": 0,
    "start_time": "2023-10-09T14:51:19.467Z"
   },
   {
    "duration": 0,
    "start_time": "2023-10-09T14:51:19.469Z"
   },
   {
    "duration": 0,
    "start_time": "2023-10-09T14:51:19.470Z"
   },
   {
    "duration": 0,
    "start_time": "2023-10-09T14:51:19.471Z"
   },
   {
    "duration": 0,
    "start_time": "2023-10-09T14:51:19.472Z"
   },
   {
    "duration": 0,
    "start_time": "2023-10-09T14:51:19.473Z"
   },
   {
    "duration": 0,
    "start_time": "2023-10-09T14:51:19.474Z"
   },
   {
    "duration": 0,
    "start_time": "2023-10-09T14:51:19.475Z"
   },
   {
    "duration": 0,
    "start_time": "2023-10-09T14:51:19.476Z"
   },
   {
    "duration": 0,
    "start_time": "2023-10-09T14:51:19.477Z"
   },
   {
    "duration": 0,
    "start_time": "2023-10-09T14:51:19.478Z"
   },
   {
    "duration": 0,
    "start_time": "2023-10-09T14:51:19.480Z"
   },
   {
    "duration": 0,
    "start_time": "2023-10-09T14:51:19.481Z"
   },
   {
    "duration": 0,
    "start_time": "2023-10-09T14:51:19.482Z"
   },
   {
    "duration": 0,
    "start_time": "2023-10-09T14:51:19.483Z"
   },
   {
    "duration": 1,
    "start_time": "2023-10-09T14:51:19.484Z"
   },
   {
    "duration": 0,
    "start_time": "2023-10-09T14:51:19.485Z"
   },
   {
    "duration": 0,
    "start_time": "2023-10-09T14:51:19.486Z"
   },
   {
    "duration": 0,
    "start_time": "2023-10-09T14:51:19.488Z"
   },
   {
    "duration": 0,
    "start_time": "2023-10-09T14:51:19.489Z"
   },
   {
    "duration": 0,
    "start_time": "2023-10-09T14:51:19.490Z"
   },
   {
    "duration": 0,
    "start_time": "2023-10-09T14:51:19.491Z"
   },
   {
    "duration": 0,
    "start_time": "2023-10-09T14:51:19.492Z"
   },
   {
    "duration": 0,
    "start_time": "2023-10-09T14:51:19.494Z"
   },
   {
    "duration": 0,
    "start_time": "2023-10-09T14:51:19.556Z"
   },
   {
    "duration": 0,
    "start_time": "2023-10-09T14:51:19.558Z"
   },
   {
    "duration": 0,
    "start_time": "2023-10-09T14:51:19.560Z"
   },
   {
    "duration": 0,
    "start_time": "2023-10-09T14:51:19.561Z"
   },
   {
    "duration": 0,
    "start_time": "2023-10-09T14:51:19.563Z"
   },
   {
    "duration": 0,
    "start_time": "2023-10-09T14:51:19.565Z"
   },
   {
    "duration": 0,
    "start_time": "2023-10-09T14:51:19.566Z"
   },
   {
    "duration": 0,
    "start_time": "2023-10-09T14:51:19.568Z"
   },
   {
    "duration": 0,
    "start_time": "2023-10-09T14:51:19.569Z"
   },
   {
    "duration": 0,
    "start_time": "2023-10-09T14:51:19.571Z"
   },
   {
    "duration": 0,
    "start_time": "2023-10-09T14:51:19.572Z"
   },
   {
    "duration": 0,
    "start_time": "2023-10-09T14:51:19.574Z"
   },
   {
    "duration": 1689,
    "start_time": "2023-10-09T14:52:40.772Z"
   },
   {
    "duration": 1826,
    "start_time": "2023-10-09T14:52:54.493Z"
   },
   {
    "duration": 3,
    "start_time": "2023-10-09T14:53:04.235Z"
   },
   {
    "duration": 88,
    "start_time": "2023-10-09T14:53:04.240Z"
   },
   {
    "duration": 16,
    "start_time": "2023-10-09T14:53:04.330Z"
   },
   {
    "duration": 42,
    "start_time": "2023-10-09T14:53:04.348Z"
   },
   {
    "duration": 39,
    "start_time": "2023-10-09T14:53:04.393Z"
   },
   {
    "duration": 37,
    "start_time": "2023-10-09T14:53:04.434Z"
   },
   {
    "duration": 1699,
    "start_time": "2023-10-09T14:53:15.332Z"
   },
   {
    "duration": 1506,
    "start_time": "2023-10-09T14:53:18.813Z"
   },
   {
    "duration": 11,
    "start_time": "2023-10-09T14:54:03.688Z"
   },
   {
    "duration": 24,
    "start_time": "2023-10-09T14:54:16.195Z"
   },
   {
    "duration": 27,
    "start_time": "2023-10-09T14:56:18.752Z"
   },
   {
    "duration": 14,
    "start_time": "2023-10-09T14:59:12.303Z"
   },
   {
    "duration": 26,
    "start_time": "2023-10-09T14:59:25.177Z"
   },
   {
    "duration": 3,
    "start_time": "2023-10-09T15:04:05.994Z"
   },
   {
    "duration": 3,
    "start_time": "2023-10-09T15:04:07.207Z"
   },
   {
    "duration": 3,
    "start_time": "2023-10-09T15:04:08.533Z"
   },
   {
    "duration": 3,
    "start_time": "2023-10-09T15:04:11.158Z"
   },
   {
    "duration": 32,
    "start_time": "2023-10-09T15:07:36.739Z"
   },
   {
    "duration": 12,
    "start_time": "2023-10-09T15:09:24.022Z"
   },
   {
    "duration": 26,
    "start_time": "2023-10-09T15:09:31.144Z"
   },
   {
    "duration": 17,
    "start_time": "2023-10-09T15:10:07.684Z"
   },
   {
    "duration": 17,
    "start_time": "2023-10-09T15:10:16.752Z"
   },
   {
    "duration": 1339,
    "start_time": "2023-10-09T15:10:23.485Z"
   },
   {
    "duration": 79,
    "start_time": "2023-10-09T15:10:24.826Z"
   },
   {
    "duration": 18,
    "start_time": "2023-10-09T15:10:24.908Z"
   },
   {
    "duration": 37,
    "start_time": "2023-10-09T15:10:24.928Z"
   },
   {
    "duration": 42,
    "start_time": "2023-10-09T15:10:24.966Z"
   },
   {
    "duration": 54,
    "start_time": "2023-10-09T15:10:25.010Z"
   },
   {
    "duration": 17,
    "start_time": "2023-10-09T15:10:25.066Z"
   },
   {
    "duration": 21,
    "start_time": "2023-10-09T15:10:25.085Z"
   },
   {
    "duration": 44,
    "start_time": "2023-10-09T15:10:25.108Z"
   },
   {
    "duration": 56,
    "start_time": "2023-10-09T15:10:25.156Z"
   },
   {
    "duration": 89,
    "start_time": "2023-10-09T15:10:25.214Z"
   },
   {
    "duration": 58,
    "start_time": "2023-10-09T15:10:25.305Z"
   },
   {
    "duration": 70,
    "start_time": "2023-10-09T15:10:25.365Z"
   },
   {
    "duration": 34,
    "start_time": "2023-10-09T15:10:25.438Z"
   },
   {
    "duration": 33,
    "start_time": "2023-10-09T15:10:25.474Z"
   },
   {
    "duration": 35,
    "start_time": "2023-10-09T15:10:25.510Z"
   },
   {
    "duration": 26,
    "start_time": "2023-10-09T15:10:25.547Z"
   },
   {
    "duration": 255,
    "start_time": "2023-10-09T15:10:25.574Z"
   },
   {
    "duration": 32,
    "start_time": "2023-10-09T15:10:25.831Z"
   },
   {
    "duration": 72,
    "start_time": "2023-10-09T15:10:25.865Z"
   },
   {
    "duration": 42,
    "start_time": "2023-10-09T15:10:25.939Z"
   },
   {
    "duration": 21,
    "start_time": "2023-10-09T15:10:25.983Z"
   },
   {
    "duration": 27,
    "start_time": "2023-10-09T15:10:26.007Z"
   },
   {
    "duration": 25,
    "start_time": "2023-10-09T15:10:26.036Z"
   },
   {
    "duration": 23,
    "start_time": "2023-10-09T15:10:26.062Z"
   },
   {
    "duration": 32,
    "start_time": "2023-10-09T15:10:26.087Z"
   },
   {
    "duration": 255,
    "start_time": "2023-10-09T15:10:26.121Z"
   },
   {
    "duration": 2,
    "start_time": "2023-10-09T15:10:26.383Z"
   },
   {
    "duration": 65,
    "start_time": "2023-10-09T15:10:26.388Z"
   },
   {
    "duration": 33,
    "start_time": "2023-10-09T15:10:26.455Z"
   },
   {
    "duration": 42,
    "start_time": "2023-10-09T15:10:26.490Z"
   },
   {
    "duration": 40,
    "start_time": "2023-10-09T15:10:26.534Z"
   },
   {
    "duration": 321,
    "start_time": "2023-10-09T15:10:26.576Z"
   },
   {
    "duration": 312,
    "start_time": "2023-10-09T15:10:26.899Z"
   },
   {
    "duration": 232,
    "start_time": "2023-10-09T15:10:27.213Z"
   },
   {
    "duration": 9,
    "start_time": "2023-10-09T15:10:27.447Z"
   },
   {
    "duration": 115,
    "start_time": "2023-10-09T15:10:27.458Z"
   },
   {
    "duration": 50,
    "start_time": "2023-10-09T15:10:27.575Z"
   },
   {
    "duration": 32,
    "start_time": "2023-10-09T15:10:27.626Z"
   },
   {
    "duration": 58,
    "start_time": "2023-10-09T15:10:27.661Z"
   },
   {
    "duration": 6,
    "start_time": "2023-10-09T15:10:27.721Z"
   },
   {
    "duration": 104,
    "start_time": "2023-10-09T15:10:27.729Z"
   },
   {
    "duration": 378,
    "start_time": "2023-10-09T15:10:27.835Z"
   },
   {
    "duration": 64,
    "start_time": "2023-10-09T15:10:28.215Z"
   },
   {
    "duration": 48,
    "start_time": "2023-10-09T15:10:28.282Z"
   },
   {
    "duration": 254,
    "start_time": "2023-10-09T15:10:28.332Z"
   },
   {
    "duration": 28,
    "start_time": "2023-10-09T15:10:28.588Z"
   },
   {
    "duration": 47,
    "start_time": "2023-10-09T15:10:28.618Z"
   },
   {
    "duration": 5,
    "start_time": "2023-10-09T15:10:28.667Z"
   },
   {
    "duration": 19,
    "start_time": "2023-10-09T15:10:28.674Z"
   },
   {
    "duration": 223,
    "start_time": "2023-10-09T15:10:28.695Z"
   },
   {
    "duration": 19,
    "start_time": "2023-10-09T15:10:28.920Z"
   },
   {
    "duration": 32,
    "start_time": "2023-10-09T15:10:28.957Z"
   },
   {
    "duration": 268,
    "start_time": "2023-10-09T15:10:28.992Z"
   },
   {
    "duration": 281,
    "start_time": "2023-10-09T15:10:29.262Z"
   },
   {
    "duration": 345,
    "start_time": "2023-10-09T15:10:29.544Z"
   },
   {
    "duration": 302,
    "start_time": "2023-10-09T15:10:29.891Z"
   },
   {
    "duration": 193,
    "start_time": "2023-10-09T15:10:30.196Z"
   },
   {
    "duration": 207,
    "start_time": "2023-10-09T15:10:30.391Z"
   },
   {
    "duration": 151,
    "start_time": "2023-10-09T15:10:30.601Z"
   },
   {
    "duration": 1134,
    "start_time": "2023-10-09T15:10:30.755Z"
   },
   {
    "duration": 71,
    "start_time": "2023-10-09T15:10:31.891Z"
   },
   {
    "duration": 43,
    "start_time": "2023-10-09T15:10:31.964Z"
   },
   {
    "duration": 677,
    "start_time": "2023-10-09T15:10:32.009Z"
   },
   {
    "duration": 9,
    "start_time": "2023-10-09T15:10:32.688Z"
   },
   {
    "duration": 557,
    "start_time": "2023-10-09T15:10:32.699Z"
   },
   {
    "duration": 295,
    "start_time": "2023-10-09T15:10:33.258Z"
   },
   {
    "duration": 326,
    "start_time": "2023-10-09T15:10:33.556Z"
   },
   {
    "duration": 16,
    "start_time": "2023-10-09T15:10:33.884Z"
   },
   {
    "duration": 28,
    "start_time": "2023-10-09T15:10:33.902Z"
   },
   {
    "duration": 417,
    "start_time": "2023-10-09T15:10:33.932Z"
   },
   {
    "duration": 20,
    "start_time": "2023-10-09T15:10:34.351Z"
   },
   {
    "duration": 311,
    "start_time": "2023-10-09T15:10:34.373Z"
   },
   {
    "duration": 353,
    "start_time": "2023-10-09T15:10:34.686Z"
   },
   {
    "duration": 250,
    "start_time": "2023-10-09T15:10:35.040Z"
   },
   {
    "duration": 193,
    "start_time": "2023-10-09T15:10:35.292Z"
   },
   {
    "duration": 239,
    "start_time": "2023-10-09T15:10:35.487Z"
   },
   {
    "duration": 5,
    "start_time": "2023-10-09T15:10:35.728Z"
   },
   {
    "duration": 251,
    "start_time": "2023-10-09T15:10:35.735Z"
   },
   {
    "duration": 16,
    "start_time": "2023-10-09T15:10:35.988Z"
   },
   {
    "duration": 31,
    "start_time": "2023-10-09T15:10:36.006Z"
   },
   {
    "duration": 266,
    "start_time": "2023-10-09T15:10:36.056Z"
   },
   {
    "duration": 266,
    "start_time": "2023-10-09T15:10:36.324Z"
   },
   {
    "duration": 152,
    "start_time": "2023-10-09T15:10:36.592Z"
   },
   {
    "duration": 28,
    "start_time": "2023-10-09T15:10:36.746Z"
   },
   {
    "duration": 322,
    "start_time": "2023-10-09T15:10:36.775Z"
   },
   {
    "duration": 340,
    "start_time": "2023-10-09T15:10:37.099Z"
   },
   {
    "duration": 404,
    "start_time": "2023-10-09T15:10:37.441Z"
   },
   {
    "duration": 22,
    "start_time": "2023-10-09T15:10:37.847Z"
   },
   {
    "duration": 244,
    "start_time": "2023-10-09T15:10:37.871Z"
   },
   {
    "duration": 239,
    "start_time": "2023-10-09T15:10:38.117Z"
   },
   {
    "duration": 15,
    "start_time": "2023-10-09T15:10:38.358Z"
   },
   {
    "duration": 41,
    "start_time": "2023-10-09T15:10:38.375Z"
   },
   {
    "duration": 303,
    "start_time": "2023-10-09T15:10:38.418Z"
   },
   {
    "duration": 394,
    "start_time": "2023-10-09T15:10:38.723Z"
   },
   {
    "duration": 19,
    "start_time": "2023-10-09T15:10:39.119Z"
   },
   {
    "duration": 340,
    "start_time": "2023-10-09T15:10:39.140Z"
   },
   {
    "duration": 294,
    "start_time": "2023-10-09T15:10:39.482Z"
   },
   {
    "duration": 247,
    "start_time": "2023-10-09T15:10:39.777Z"
   },
   {
    "duration": 31,
    "start_time": "2023-10-09T15:10:40.027Z"
   },
   {
    "duration": 30,
    "start_time": "2023-10-09T15:10:40.060Z"
   },
   {
    "duration": 239,
    "start_time": "2023-10-09T15:10:40.092Z"
   },
   {
    "duration": 236,
    "start_time": "2023-10-09T15:10:40.333Z"
   },
   {
    "duration": 15,
    "start_time": "2023-10-09T15:10:40.571Z"
   },
   {
    "duration": 46,
    "start_time": "2023-10-09T15:10:40.588Z"
   },
   {
    "duration": 480,
    "start_time": "2023-10-09T15:10:40.636Z"
   },
   {
    "duration": 39,
    "start_time": "2023-10-09T15:10:41.117Z"
   },
   {
    "duration": 361,
    "start_time": "2023-10-09T15:10:41.158Z"
   },
   {
    "duration": 22,
    "start_time": "2023-10-09T15:10:41.521Z"
   },
   {
    "duration": 291,
    "start_time": "2023-10-09T15:10:41.557Z"
   },
   {
    "duration": 30,
    "start_time": "2023-10-09T15:10:41.850Z"
   },
   {
    "duration": 11,
    "start_time": "2023-10-09T15:10:41.883Z"
   },
   {
    "duration": 20,
    "start_time": "2023-10-09T15:10:41.896Z"
   },
   {
    "duration": 17,
    "start_time": "2023-10-09T15:10:41.918Z"
   },
   {
    "duration": 22,
    "start_time": "2023-10-09T15:10:41.937Z"
   },
   {
    "duration": 14,
    "start_time": "2023-10-09T15:10:41.961Z"
   },
   {
    "duration": 4,
    "start_time": "2023-10-09T15:17:39.443Z"
   },
   {
    "duration": 12,
    "start_time": "2023-10-09T15:17:50.984Z"
   },
   {
    "duration": 224,
    "start_time": "2023-10-09T15:35:28.238Z"
   },
   {
    "duration": 122,
    "start_time": "2023-10-09T15:35:34.065Z"
   },
   {
    "duration": 140,
    "start_time": "2023-10-09T15:35:43.293Z"
   },
   {
    "duration": 38215,
    "start_time": "2023-10-09T15:35:54.455Z"
   },
   {
    "duration": 45699,
    "start_time": "2023-10-09T15:37:28.407Z"
   },
   {
    "duration": 3,
    "start_time": "2023-10-09T15:38:16.967Z"
   },
   {
    "duration": 85,
    "start_time": "2023-10-09T15:38:16.972Z"
   },
   {
    "duration": 17,
    "start_time": "2023-10-09T15:38:17.059Z"
   },
   {
    "duration": 14,
    "start_time": "2023-10-09T15:38:17.078Z"
   },
   {
    "duration": 18,
    "start_time": "2023-10-09T15:38:17.095Z"
   },
   {
    "duration": 55,
    "start_time": "2023-10-09T15:38:17.115Z"
   },
   {
    "duration": 2,
    "start_time": "2023-10-09T15:38:17.172Z"
   },
   {
    "duration": 31,
    "start_time": "2023-10-09T15:38:17.175Z"
   },
   {
    "duration": 28,
    "start_time": "2023-10-09T15:38:17.207Z"
   },
   {
    "duration": 6,
    "start_time": "2023-10-09T15:38:17.237Z"
   },
   {
    "duration": 27,
    "start_time": "2023-10-09T15:38:17.246Z"
   },
   {
    "duration": 25,
    "start_time": "2023-10-09T15:38:17.275Z"
   },
   {
    "duration": 24,
    "start_time": "2023-10-09T15:38:17.302Z"
   },
   {
    "duration": 37,
    "start_time": "2023-10-09T15:38:17.328Z"
   },
   {
    "duration": 17,
    "start_time": "2023-10-09T15:38:17.367Z"
   },
   {
    "duration": 5,
    "start_time": "2023-10-09T15:38:17.386Z"
   },
   {
    "duration": 39,
    "start_time": "2023-10-09T15:38:17.393Z"
   },
   {
    "duration": 223,
    "start_time": "2023-10-09T15:38:17.434Z"
   },
   {
    "duration": 22,
    "start_time": "2023-10-09T15:38:17.660Z"
   },
   {
    "duration": 8,
    "start_time": "2023-10-09T15:38:17.685Z"
   },
   {
    "duration": 30,
    "start_time": "2023-10-09T15:38:17.695Z"
   },
   {
    "duration": 30,
    "start_time": "2023-10-09T15:38:17.726Z"
   },
   {
    "duration": 12,
    "start_time": "2023-10-09T15:38:17.758Z"
   },
   {
    "duration": 6,
    "start_time": "2023-10-09T15:38:17.772Z"
   },
   {
    "duration": 10,
    "start_time": "2023-10-09T15:38:17.780Z"
   },
   {
    "duration": 15,
    "start_time": "2023-10-09T15:38:17.791Z"
   },
   {
    "duration": 267,
    "start_time": "2023-10-09T15:38:17.808Z"
   },
   {
    "duration": 3,
    "start_time": "2023-10-09T15:38:18.078Z"
   },
   {
    "duration": 7,
    "start_time": "2023-10-09T15:38:18.085Z"
   },
   {
    "duration": 12,
    "start_time": "2023-10-09T15:38:18.094Z"
   },
   {
    "duration": 16,
    "start_time": "2023-10-09T15:38:18.108Z"
   },
   {
    "duration": 35,
    "start_time": "2023-10-09T15:38:18.126Z"
   },
   {
    "duration": 284,
    "start_time": "2023-10-09T15:38:18.163Z"
   },
   {
    "duration": 281,
    "start_time": "2023-10-09T15:38:18.457Z"
   },
   {
    "duration": 219,
    "start_time": "2023-10-09T15:38:18.740Z"
   },
   {
    "duration": 12,
    "start_time": "2023-10-09T15:38:18.961Z"
   },
   {
    "duration": 88,
    "start_time": "2023-10-09T15:38:18.975Z"
   },
   {
    "duration": 49,
    "start_time": "2023-10-09T15:38:19.065Z"
   },
   {
    "duration": 9,
    "start_time": "2023-10-09T15:38:19.116Z"
   },
   {
    "duration": 40,
    "start_time": "2023-10-09T15:38:19.127Z"
   },
   {
    "duration": 3,
    "start_time": "2023-10-09T15:38:19.169Z"
   },
   {
    "duration": 107,
    "start_time": "2023-10-09T15:38:19.174Z"
   },
   {
    "duration": 247,
    "start_time": "2023-10-09T15:38:19.283Z"
   },
   {
    "duration": 51,
    "start_time": "2023-10-09T15:38:19.532Z"
   },
   {
    "duration": 1383,
    "start_time": "2023-10-09T15:42:40.836Z"
   },
   {
    "duration": 212,
    "start_time": "2023-10-09T15:42:42.221Z"
   },
   {
    "duration": 16,
    "start_time": "2023-10-09T15:42:42.434Z"
   },
   {
    "duration": 23,
    "start_time": "2023-10-09T15:42:42.451Z"
   },
   {
    "duration": 56,
    "start_time": "2023-10-09T15:42:42.476Z"
   },
   {
    "duration": 31,
    "start_time": "2023-10-09T15:42:42.533Z"
   },
   {
    "duration": 10,
    "start_time": "2023-10-09T15:42:42.566Z"
   },
   {
    "duration": 8,
    "start_time": "2023-10-09T15:42:42.577Z"
   },
   {
    "duration": 14,
    "start_time": "2023-10-09T15:42:42.586Z"
   },
   {
    "duration": 8,
    "start_time": "2023-10-09T15:42:42.602Z"
   },
   {
    "duration": 31,
    "start_time": "2023-10-09T15:42:42.612Z"
   },
   {
    "duration": 24,
    "start_time": "2023-10-09T15:42:42.645Z"
   },
   {
    "duration": 24,
    "start_time": "2023-10-09T15:42:42.671Z"
   },
   {
    "duration": 14,
    "start_time": "2023-10-09T15:42:42.698Z"
   },
   {
    "duration": 42,
    "start_time": "2023-10-09T15:42:42.714Z"
   },
   {
    "duration": 5,
    "start_time": "2023-10-09T15:42:42.759Z"
   },
   {
    "duration": 24,
    "start_time": "2023-10-09T15:42:42.766Z"
   },
   {
    "duration": 234,
    "start_time": "2023-10-09T15:42:42.792Z"
   },
   {
    "duration": 36,
    "start_time": "2023-10-09T15:42:43.027Z"
   },
   {
    "duration": 7,
    "start_time": "2023-10-09T15:42:43.065Z"
   },
   {
    "duration": 18,
    "start_time": "2023-10-09T15:42:43.073Z"
   },
   {
    "duration": 16,
    "start_time": "2023-10-09T15:42:43.093Z"
   },
   {
    "duration": 10,
    "start_time": "2023-10-09T15:42:43.111Z"
   },
   {
    "duration": 39,
    "start_time": "2023-10-09T15:42:43.122Z"
   },
   {
    "duration": 10,
    "start_time": "2023-10-09T15:42:43.163Z"
   },
   {
    "duration": 10,
    "start_time": "2023-10-09T15:42:43.175Z"
   },
   {
    "duration": 244,
    "start_time": "2023-10-09T15:42:43.187Z"
   },
   {
    "duration": 2,
    "start_time": "2023-10-09T15:42:43.433Z"
   },
   {
    "duration": 28,
    "start_time": "2023-10-09T15:42:43.437Z"
   },
   {
    "duration": 32,
    "start_time": "2023-10-09T15:42:43.466Z"
   },
   {
    "duration": 32,
    "start_time": "2023-10-09T15:42:43.500Z"
   },
   {
    "duration": 23,
    "start_time": "2023-10-09T15:42:43.534Z"
   },
   {
    "duration": 286,
    "start_time": "2023-10-09T15:42:43.558Z"
   },
   {
    "duration": 290,
    "start_time": "2023-10-09T15:42:43.846Z"
   },
   {
    "duration": 187,
    "start_time": "2023-10-09T15:42:44.138Z"
   },
   {
    "duration": 10,
    "start_time": "2023-10-09T15:42:44.328Z"
   },
   {
    "duration": 98,
    "start_time": "2023-10-09T15:42:44.340Z"
   },
   {
    "duration": 50,
    "start_time": "2023-10-09T15:42:44.440Z"
   },
   {
    "duration": 14,
    "start_time": "2023-10-09T15:42:44.492Z"
   },
   {
    "duration": 33,
    "start_time": "2023-10-09T15:42:44.508Z"
   },
   {
    "duration": 22,
    "start_time": "2023-10-09T15:42:44.545Z"
   },
   {
    "duration": 99,
    "start_time": "2023-10-09T15:42:44.569Z"
   },
   {
    "duration": 370,
    "start_time": "2023-10-09T15:42:44.669Z"
   },
   {
    "duration": 47,
    "start_time": "2023-10-09T15:42:45.041Z"
   },
   {
    "duration": 544,
    "start_time": "2023-10-09T15:42:50.151Z"
   },
   {
    "duration": 1290,
    "start_time": "2023-10-09T16:07:01.026Z"
   },
   {
    "duration": 213,
    "start_time": "2023-10-09T16:07:02.318Z"
   },
   {
    "duration": 19,
    "start_time": "2023-10-09T16:07:02.533Z"
   },
   {
    "duration": 40,
    "start_time": "2023-10-09T16:07:02.554Z"
   },
   {
    "duration": 67,
    "start_time": "2023-10-09T16:07:02.597Z"
   },
   {
    "duration": 43,
    "start_time": "2023-10-09T16:07:02.665Z"
   },
   {
    "duration": 16,
    "start_time": "2023-10-09T16:07:02.710Z"
   },
   {
    "duration": 18,
    "start_time": "2023-10-09T16:07:02.728Z"
   },
   {
    "duration": 21,
    "start_time": "2023-10-09T16:07:02.748Z"
   },
   {
    "duration": 31,
    "start_time": "2023-10-09T16:07:02.771Z"
   },
   {
    "duration": 54,
    "start_time": "2023-10-09T16:07:02.804Z"
   },
   {
    "duration": 31,
    "start_time": "2023-10-09T16:07:02.860Z"
   },
   {
    "duration": 61,
    "start_time": "2023-10-09T16:07:02.893Z"
   },
   {
    "duration": 114,
    "start_time": "2023-10-09T16:07:02.957Z"
   },
   {
    "duration": 55,
    "start_time": "2023-10-09T16:07:03.072Z"
   },
   {
    "duration": 83,
    "start_time": "2023-10-09T16:07:03.129Z"
   },
   {
    "duration": 73,
    "start_time": "2023-10-09T16:07:03.213Z"
   },
   {
    "duration": 251,
    "start_time": "2023-10-09T16:07:03.288Z"
   },
   {
    "duration": 32,
    "start_time": "2023-10-09T16:07:03.542Z"
   },
   {
    "duration": 24,
    "start_time": "2023-10-09T16:07:03.576Z"
   },
   {
    "duration": 33,
    "start_time": "2023-10-09T16:07:03.602Z"
   },
   {
    "duration": 19,
    "start_time": "2023-10-09T16:07:03.636Z"
   },
   {
    "duration": 11,
    "start_time": "2023-10-09T16:07:03.658Z"
   },
   {
    "duration": 5,
    "start_time": "2023-10-09T16:07:03.670Z"
   },
   {
    "duration": 14,
    "start_time": "2023-10-09T16:07:03.677Z"
   },
   {
    "duration": 30,
    "start_time": "2023-10-09T16:07:03.693Z"
   },
   {
    "duration": 245,
    "start_time": "2023-10-09T16:07:03.725Z"
   },
   {
    "duration": 2,
    "start_time": "2023-10-09T16:07:03.972Z"
   },
   {
    "duration": 14,
    "start_time": "2023-10-09T16:07:03.975Z"
   },
   {
    "duration": 31,
    "start_time": "2023-10-09T16:07:03.991Z"
   },
   {
    "duration": 20,
    "start_time": "2023-10-09T16:07:04.024Z"
   },
   {
    "duration": 12,
    "start_time": "2023-10-09T16:07:04.046Z"
   },
   {
    "duration": 315,
    "start_time": "2023-10-09T16:07:04.060Z"
   },
   {
    "duration": 294,
    "start_time": "2023-10-09T16:07:04.376Z"
   },
   {
    "duration": 201,
    "start_time": "2023-10-09T16:07:04.672Z"
   },
   {
    "duration": 9,
    "start_time": "2023-10-09T16:07:04.876Z"
   },
   {
    "duration": 104,
    "start_time": "2023-10-09T16:07:04.887Z"
   },
   {
    "duration": 46,
    "start_time": "2023-10-09T16:07:04.993Z"
   },
   {
    "duration": 21,
    "start_time": "2023-10-09T16:07:05.041Z"
   },
   {
    "duration": 28,
    "start_time": "2023-10-09T16:07:05.064Z"
   },
   {
    "duration": 19,
    "start_time": "2023-10-09T16:07:05.096Z"
   },
   {
    "duration": 106,
    "start_time": "2023-10-09T16:07:05.117Z"
   },
   {
    "duration": 345,
    "start_time": "2023-10-09T16:07:08.525Z"
   },
   {
    "duration": 48,
    "start_time": "2023-10-09T16:07:15.645Z"
   },
   {
    "duration": 1414,
    "start_time": "2023-10-09T16:11:55.204Z"
   },
   {
    "duration": 250,
    "start_time": "2023-10-09T16:11:56.620Z"
   },
   {
    "duration": 19,
    "start_time": "2023-10-09T16:11:56.873Z"
   },
   {
    "duration": 41,
    "start_time": "2023-10-09T16:11:56.894Z"
   },
   {
    "duration": 53,
    "start_time": "2023-10-09T16:11:56.937Z"
   },
   {
    "duration": 72,
    "start_time": "2023-10-09T16:11:56.992Z"
   },
   {
    "duration": 3,
    "start_time": "2023-10-09T16:11:57.067Z"
   },
   {
    "duration": 13,
    "start_time": "2023-10-09T16:11:57.072Z"
   },
   {
    "duration": 33,
    "start_time": "2023-10-09T16:11:57.087Z"
   },
   {
    "duration": 4,
    "start_time": "2023-10-09T16:11:57.123Z"
   },
   {
    "duration": 45,
    "start_time": "2023-10-09T16:11:57.129Z"
   },
   {
    "duration": 25,
    "start_time": "2023-10-09T16:11:57.176Z"
   },
   {
    "duration": 24,
    "start_time": "2023-10-09T16:11:57.202Z"
   },
   {
    "duration": 47,
    "start_time": "2023-10-09T16:11:57.228Z"
   },
   {
    "duration": 24,
    "start_time": "2023-10-09T16:11:57.277Z"
   },
   {
    "duration": 8,
    "start_time": "2023-10-09T16:11:57.303Z"
   },
   {
    "duration": 14,
    "start_time": "2023-10-09T16:11:57.312Z"
   },
   {
    "duration": 283,
    "start_time": "2023-10-09T16:11:57.328Z"
   },
   {
    "duration": 24,
    "start_time": "2023-10-09T16:11:57.613Z"
   },
   {
    "duration": 24,
    "start_time": "2023-10-09T16:11:57.639Z"
   },
   {
    "duration": 21,
    "start_time": "2023-10-09T16:11:57.665Z"
   },
   {
    "duration": 18,
    "start_time": "2023-10-09T16:11:57.689Z"
   },
   {
    "duration": 18,
    "start_time": "2023-10-09T16:11:57.709Z"
   },
   {
    "duration": 13,
    "start_time": "2023-10-09T16:11:57.729Z"
   },
   {
    "duration": 4,
    "start_time": "2023-10-09T16:11:57.759Z"
   },
   {
    "duration": 23,
    "start_time": "2023-10-09T16:11:57.766Z"
   },
   {
    "duration": 262,
    "start_time": "2023-10-09T16:11:57.791Z"
   },
   {
    "duration": 3,
    "start_time": "2023-10-09T16:11:58.062Z"
   },
   {
    "duration": 17,
    "start_time": "2023-10-09T16:11:58.068Z"
   },
   {
    "duration": 14,
    "start_time": "2023-10-09T16:11:58.087Z"
   },
   {
    "duration": 9,
    "start_time": "2023-10-09T16:11:58.103Z"
   },
   {
    "duration": 13,
    "start_time": "2023-10-09T16:11:58.113Z"
   },
   {
    "duration": 337,
    "start_time": "2023-10-09T16:11:58.128Z"
   },
   {
    "duration": 357,
    "start_time": "2023-10-09T16:11:58.468Z"
   },
   {
    "duration": 265,
    "start_time": "2023-10-09T16:11:58.828Z"
   },
   {
    "duration": 10,
    "start_time": "2023-10-09T16:11:59.096Z"
   },
   {
    "duration": 125,
    "start_time": "2023-10-09T16:11:59.109Z"
   },
   {
    "duration": 55,
    "start_time": "2023-10-09T16:11:59.236Z"
   },
   {
    "duration": 12,
    "start_time": "2023-10-09T16:11:59.293Z"
   },
   {
    "duration": 43,
    "start_time": "2023-10-09T16:11:59.307Z"
   },
   {
    "duration": 2,
    "start_time": "2023-10-09T16:11:59.352Z"
   },
   {
    "duration": 112,
    "start_time": "2023-10-09T16:11:59.356Z"
   },
   {
    "duration": 379,
    "start_time": "2023-10-09T16:11:59.471Z"
   },
   {
    "duration": 48,
    "start_time": "2023-10-09T16:11:59.856Z"
   },
   {
    "duration": 1406,
    "start_time": "2023-10-09T16:14:09.729Z"
   },
   {
    "duration": 77,
    "start_time": "2023-10-09T16:14:11.138Z"
   },
   {
    "duration": 16,
    "start_time": "2023-10-09T16:14:11.217Z"
   },
   {
    "duration": 34,
    "start_time": "2023-10-09T16:14:11.236Z"
   },
   {
    "duration": 23,
    "start_time": "2023-10-09T16:14:11.273Z"
   },
   {
    "duration": 38,
    "start_time": "2023-10-09T16:14:11.297Z"
   },
   {
    "duration": 4,
    "start_time": "2023-10-09T16:14:11.337Z"
   },
   {
    "duration": 12,
    "start_time": "2023-10-09T16:14:11.343Z"
   },
   {
    "duration": 20,
    "start_time": "2023-10-09T16:14:11.357Z"
   },
   {
    "duration": 31,
    "start_time": "2023-10-09T16:14:11.380Z"
   },
   {
    "duration": 24,
    "start_time": "2023-10-09T16:14:11.413Z"
   },
   {
    "duration": 36,
    "start_time": "2023-10-09T16:14:11.438Z"
   },
   {
    "duration": 28,
    "start_time": "2023-10-09T16:14:11.476Z"
   },
   {
    "duration": 22,
    "start_time": "2023-10-09T16:14:11.507Z"
   },
   {
    "duration": 47,
    "start_time": "2023-10-09T16:14:11.531Z"
   },
   {
    "duration": 16,
    "start_time": "2023-10-09T16:14:11.580Z"
   },
   {
    "duration": 12,
    "start_time": "2023-10-09T16:14:11.599Z"
   },
   {
    "duration": 266,
    "start_time": "2023-10-09T16:14:11.613Z"
   },
   {
    "duration": 24,
    "start_time": "2023-10-09T16:14:11.881Z"
   },
   {
    "duration": 45,
    "start_time": "2023-10-09T16:14:11.907Z"
   },
   {
    "duration": 67,
    "start_time": "2023-10-09T16:14:11.954Z"
   },
   {
    "duration": 40,
    "start_time": "2023-10-09T16:14:12.023Z"
   },
   {
    "duration": 42,
    "start_time": "2023-10-09T16:14:12.065Z"
   },
   {
    "duration": 45,
    "start_time": "2023-10-09T16:14:12.109Z"
   },
   {
    "duration": 43,
    "start_time": "2023-10-09T16:14:12.156Z"
   },
   {
    "duration": 18,
    "start_time": "2023-10-09T16:14:12.201Z"
   },
   {
    "duration": 254,
    "start_time": "2023-10-09T16:14:12.221Z"
   },
   {
    "duration": 2,
    "start_time": "2023-10-09T16:14:12.482Z"
   },
   {
    "duration": 44,
    "start_time": "2023-10-09T16:14:12.487Z"
   },
   {
    "duration": 71,
    "start_time": "2023-10-09T16:14:12.533Z"
   },
   {
    "duration": 7,
    "start_time": "2023-10-09T16:14:12.606Z"
   },
   {
    "duration": 28,
    "start_time": "2023-10-09T16:14:12.615Z"
   },
   {
    "duration": 291,
    "start_time": "2023-10-09T16:14:12.645Z"
   },
   {
    "duration": 304,
    "start_time": "2023-10-09T16:14:12.938Z"
   },
   {
    "duration": 213,
    "start_time": "2023-10-09T16:14:13.244Z"
   },
   {
    "duration": 9,
    "start_time": "2023-10-09T16:14:13.459Z"
   },
   {
    "duration": 111,
    "start_time": "2023-10-09T16:14:13.470Z"
   },
   {
    "duration": 47,
    "start_time": "2023-10-09T16:14:13.583Z"
   },
   {
    "duration": 37,
    "start_time": "2023-10-09T16:14:13.632Z"
   },
   {
    "duration": 25,
    "start_time": "2023-10-09T16:14:13.671Z"
   },
   {
    "duration": 17,
    "start_time": "2023-10-09T16:14:13.698Z"
   },
   {
    "duration": 114,
    "start_time": "2023-10-09T16:14:13.718Z"
   },
   {
    "duration": 409,
    "start_time": "2023-10-09T16:14:13.835Z"
   },
   {
    "duration": 51,
    "start_time": "2023-10-09T16:14:14.247Z"
   },
   {
    "duration": 1335,
    "start_time": "2023-10-09T16:16:22.388Z"
   },
   {
    "duration": 82,
    "start_time": "2023-10-09T16:16:23.725Z"
   },
   {
    "duration": 71,
    "start_time": "2023-10-09T16:16:23.809Z"
   },
   {
    "duration": 166,
    "start_time": "2023-10-09T16:16:23.882Z"
   },
   {
    "duration": 38,
    "start_time": "2023-10-09T16:16:24.050Z"
   },
   {
    "duration": 42,
    "start_time": "2023-10-09T16:16:24.090Z"
   },
   {
    "duration": 32,
    "start_time": "2023-10-09T16:16:24.134Z"
   },
   {
    "duration": 35,
    "start_time": "2023-10-09T16:16:24.168Z"
   },
   {
    "duration": 24,
    "start_time": "2023-10-09T16:16:24.205Z"
   },
   {
    "duration": 21,
    "start_time": "2023-10-09T16:16:24.232Z"
   },
   {
    "duration": 58,
    "start_time": "2023-10-09T16:16:24.255Z"
   },
   {
    "duration": 45,
    "start_time": "2023-10-09T16:16:24.316Z"
   },
   {
    "duration": 39,
    "start_time": "2023-10-09T16:16:24.364Z"
   },
   {
    "duration": 38,
    "start_time": "2023-10-09T16:16:24.406Z"
   },
   {
    "duration": 41,
    "start_time": "2023-10-09T16:16:24.446Z"
   },
   {
    "duration": 6,
    "start_time": "2023-10-09T16:16:24.490Z"
   },
   {
    "duration": 41,
    "start_time": "2023-10-09T16:16:24.498Z"
   },
   {
    "duration": 265,
    "start_time": "2023-10-09T16:16:24.542Z"
   },
   {
    "duration": 45,
    "start_time": "2023-10-09T16:16:24.811Z"
   },
   {
    "duration": 7,
    "start_time": "2023-10-09T16:16:24.858Z"
   },
   {
    "duration": 36,
    "start_time": "2023-10-09T16:16:24.867Z"
   },
   {
    "duration": 25,
    "start_time": "2023-10-09T16:16:24.904Z"
   },
   {
    "duration": 26,
    "start_time": "2023-10-09T16:16:24.931Z"
   },
   {
    "duration": 25,
    "start_time": "2023-10-09T16:16:24.960Z"
   },
   {
    "duration": 23,
    "start_time": "2023-10-09T16:16:24.988Z"
   },
   {
    "duration": 26,
    "start_time": "2023-10-09T16:16:25.013Z"
   },
   {
    "duration": 245,
    "start_time": "2023-10-09T16:16:25.041Z"
   },
   {
    "duration": 3,
    "start_time": "2023-10-09T16:16:25.290Z"
   },
   {
    "duration": 26,
    "start_time": "2023-10-09T16:16:25.295Z"
   },
   {
    "duration": 69,
    "start_time": "2023-10-09T16:16:25.324Z"
   },
   {
    "duration": 31,
    "start_time": "2023-10-09T16:16:25.396Z"
   },
   {
    "duration": 47,
    "start_time": "2023-10-09T16:16:25.429Z"
   },
   {
    "duration": 296,
    "start_time": "2023-10-09T16:16:25.478Z"
   },
   {
    "duration": 303,
    "start_time": "2023-10-09T16:16:25.776Z"
   },
   {
    "duration": 213,
    "start_time": "2023-10-09T16:16:26.081Z"
   },
   {
    "duration": 9,
    "start_time": "2023-10-09T16:16:26.297Z"
   },
   {
    "duration": 112,
    "start_time": "2023-10-09T16:16:26.308Z"
   },
   {
    "duration": 51,
    "start_time": "2023-10-09T16:16:26.423Z"
   },
   {
    "duration": 20,
    "start_time": "2023-10-09T16:16:26.476Z"
   },
   {
    "duration": 24,
    "start_time": "2023-10-09T16:16:26.499Z"
   },
   {
    "duration": 3,
    "start_time": "2023-10-09T16:16:26.525Z"
   },
   {
    "duration": 138,
    "start_time": "2023-10-09T16:16:26.530Z"
   },
   {
    "duration": 396,
    "start_time": "2023-10-09T16:16:26.670Z"
   },
   {
    "duration": 43,
    "start_time": "2023-10-09T16:16:34.483Z"
   },
   {
    "duration": 25918,
    "start_time": "2023-10-09T16:16:40.145Z"
   },
   {
    "duration": 54,
    "start_time": "2023-10-09T16:23:04.380Z"
   },
   {
    "duration": 1380,
    "start_time": "2023-10-09T16:23:14.723Z"
   },
   {
    "duration": 218,
    "start_time": "2023-10-09T16:23:16.106Z"
   },
   {
    "duration": 18,
    "start_time": "2023-10-09T16:23:16.327Z"
   },
   {
    "duration": 16,
    "start_time": "2023-10-09T16:23:16.348Z"
   },
   {
    "duration": 32,
    "start_time": "2023-10-09T16:23:16.367Z"
   },
   {
    "duration": 31,
    "start_time": "2023-10-09T16:23:16.402Z"
   },
   {
    "duration": 3,
    "start_time": "2023-10-09T16:23:16.435Z"
   },
   {
    "duration": 19,
    "start_time": "2023-10-09T16:23:16.440Z"
   },
   {
    "duration": 28,
    "start_time": "2023-10-09T16:23:16.462Z"
   },
   {
    "duration": 21,
    "start_time": "2023-10-09T16:23:16.494Z"
   },
   {
    "duration": 27,
    "start_time": "2023-10-09T16:23:16.517Z"
   },
   {
    "duration": 204,
    "start_time": "2023-10-09T16:23:16.545Z"
   },
   {
    "duration": 23,
    "start_time": "2023-10-09T16:23:16.751Z"
   },
   {
    "duration": 15,
    "start_time": "2023-10-09T16:23:16.775Z"
   },
   {
    "duration": 26,
    "start_time": "2023-10-09T16:23:16.792Z"
   },
   {
    "duration": 11,
    "start_time": "2023-10-09T16:23:16.820Z"
   },
   {
    "duration": 26,
    "start_time": "2023-10-09T16:23:16.833Z"
   },
   {
    "duration": 306,
    "start_time": "2023-10-09T16:23:16.861Z"
   },
   {
    "duration": 45,
    "start_time": "2023-10-09T16:23:17.169Z"
   },
   {
    "duration": 39,
    "start_time": "2023-10-09T16:23:17.216Z"
   },
   {
    "duration": 26,
    "start_time": "2023-10-09T16:23:17.257Z"
   },
   {
    "duration": 26,
    "start_time": "2023-10-09T16:23:17.286Z"
   },
   {
    "duration": 11,
    "start_time": "2023-10-09T16:23:17.314Z"
   },
   {
    "duration": 52,
    "start_time": "2023-10-09T16:23:17.328Z"
   },
   {
    "duration": 28,
    "start_time": "2023-10-09T16:23:17.383Z"
   },
   {
    "duration": 17,
    "start_time": "2023-10-09T16:23:17.413Z"
   },
   {
    "duration": 239,
    "start_time": "2023-10-09T16:23:17.432Z"
   },
   {
    "duration": 5,
    "start_time": "2023-10-09T16:23:17.675Z"
   },
   {
    "duration": 31,
    "start_time": "2023-10-09T16:23:17.682Z"
   },
   {
    "duration": 33,
    "start_time": "2023-10-09T16:23:17.715Z"
   },
   {
    "duration": 51,
    "start_time": "2023-10-09T16:23:17.750Z"
   },
   {
    "duration": 94,
    "start_time": "2023-10-09T16:23:17.803Z"
   },
   {
    "duration": 380,
    "start_time": "2023-10-09T16:23:17.899Z"
   },
   {
    "duration": 309,
    "start_time": "2023-10-09T16:23:18.281Z"
   },
   {
    "duration": 241,
    "start_time": "2023-10-09T16:23:18.592Z"
   },
   {
    "duration": 12,
    "start_time": "2023-10-09T16:23:18.835Z"
   },
   {
    "duration": 143,
    "start_time": "2023-10-09T16:23:18.849Z"
   },
   {
    "duration": 70,
    "start_time": "2023-10-09T16:23:18.994Z"
   },
   {
    "duration": 45,
    "start_time": "2023-10-09T16:23:19.068Z"
   },
   {
    "duration": 32,
    "start_time": "2023-10-09T16:23:19.115Z"
   },
   {
    "duration": 43,
    "start_time": "2023-10-09T16:23:19.149Z"
   },
   {
    "duration": 134,
    "start_time": "2023-10-09T16:23:19.193Z"
   },
   {
    "duration": 361,
    "start_time": "2023-10-09T16:23:19.329Z"
   },
   {
    "duration": 71,
    "start_time": "2023-10-09T16:23:19.692Z"
   },
   {
    "duration": 3,
    "start_time": "2023-10-09T16:23:19.765Z"
   },
   {
    "duration": 461,
    "start_time": "2023-10-09T16:23:23.035Z"
   },
   {
    "duration": 465,
    "start_time": "2023-10-09T16:23:37.498Z"
   },
   {
    "duration": 76,
    "start_time": "2023-10-09T16:23:55.796Z"
   },
   {
    "duration": 4,
    "start_time": "2023-10-09T16:24:41.681Z"
   },
   {
    "duration": 11,
    "start_time": "2023-10-09T16:24:45.022Z"
   },
   {
    "duration": 13,
    "start_time": "2023-10-09T16:26:47.982Z"
   },
   {
    "duration": 37,
    "start_time": "2023-10-09T16:28:09.718Z"
   },
   {
    "duration": 27,
    "start_time": "2023-10-09T16:28:33.119Z"
   },
   {
    "duration": 20,
    "start_time": "2023-10-09T16:29:34.872Z"
   },
   {
    "duration": 14,
    "start_time": "2023-10-09T16:30:42.685Z"
   },
   {
    "duration": 15,
    "start_time": "2023-10-09T16:31:14.092Z"
   },
   {
    "duration": 6,
    "start_time": "2023-10-09T16:31:15.801Z"
   },
   {
    "duration": 8,
    "start_time": "2023-10-09T16:31:18.107Z"
   },
   {
    "duration": 12,
    "start_time": "2023-10-09T16:31:20.479Z"
   },
   {
    "duration": 11,
    "start_time": "2023-10-09T16:31:32.608Z"
   },
   {
    "duration": 4,
    "start_time": "2023-10-09T16:31:40.344Z"
   },
   {
    "duration": 72,
    "start_time": "2023-10-09T16:31:40.385Z"
   },
   {
    "duration": 15,
    "start_time": "2023-10-09T16:31:40.459Z"
   },
   {
    "duration": 24,
    "start_time": "2023-10-09T16:31:40.476Z"
   },
   {
    "duration": 18,
    "start_time": "2023-10-09T16:31:40.501Z"
   },
   {
    "duration": 50,
    "start_time": "2023-10-09T16:31:40.522Z"
   },
   {
    "duration": 4,
    "start_time": "2023-10-09T16:31:40.574Z"
   },
   {
    "duration": 12,
    "start_time": "2023-10-09T16:31:40.580Z"
   },
   {
    "duration": 6,
    "start_time": "2023-10-09T16:31:40.594Z"
   },
   {
    "duration": 10,
    "start_time": "2023-10-09T16:31:40.602Z"
   },
   {
    "duration": 31,
    "start_time": "2023-10-09T16:31:40.614Z"
   },
   {
    "duration": 26,
    "start_time": "2023-10-09T16:31:40.647Z"
   },
   {
    "duration": 26,
    "start_time": "2023-10-09T16:31:40.675Z"
   },
   {
    "duration": 15,
    "start_time": "2023-10-09T16:31:40.703Z"
   },
   {
    "duration": 43,
    "start_time": "2023-10-09T16:31:40.722Z"
   },
   {
    "duration": 6,
    "start_time": "2023-10-09T16:31:40.767Z"
   },
   {
    "duration": 16,
    "start_time": "2023-10-09T16:31:40.774Z"
   },
   {
    "duration": 246,
    "start_time": "2023-10-09T16:31:40.792Z"
   },
   {
    "duration": 28,
    "start_time": "2023-10-09T16:31:41.040Z"
   },
   {
    "duration": 8,
    "start_time": "2023-10-09T16:31:41.070Z"
   },
   {
    "duration": 32,
    "start_time": "2023-10-09T16:31:41.080Z"
   },
   {
    "duration": 19,
    "start_time": "2023-10-09T16:31:41.114Z"
   },
   {
    "duration": 24,
    "start_time": "2023-10-09T16:31:41.135Z"
   },
   {
    "duration": 5,
    "start_time": "2023-10-09T16:31:41.161Z"
   },
   {
    "duration": 6,
    "start_time": "2023-10-09T16:31:41.168Z"
   },
   {
    "duration": 31,
    "start_time": "2023-10-09T16:31:41.176Z"
   },
   {
    "duration": 227,
    "start_time": "2023-10-09T16:31:41.209Z"
   },
   {
    "duration": 2,
    "start_time": "2023-10-09T16:31:41.439Z"
   },
   {
    "duration": 21,
    "start_time": "2023-10-09T16:31:41.443Z"
   },
   {
    "duration": 19,
    "start_time": "2023-10-09T16:31:41.465Z"
   },
   {
    "duration": 26,
    "start_time": "2023-10-09T16:31:41.485Z"
   },
   {
    "duration": 32,
    "start_time": "2023-10-09T16:31:41.513Z"
   },
   {
    "duration": 340,
    "start_time": "2023-10-09T16:31:41.547Z"
   },
   {
    "duration": 306,
    "start_time": "2023-10-09T16:31:41.889Z"
   },
   {
    "duration": 170,
    "start_time": "2023-10-09T16:31:42.197Z"
   },
   {
    "duration": 9,
    "start_time": "2023-10-09T16:31:42.369Z"
   },
   {
    "duration": 47,
    "start_time": "2023-10-09T16:31:42.380Z"
   },
   {
    "duration": 72,
    "start_time": "2023-10-09T16:31:42.428Z"
   },
   {
    "duration": 11,
    "start_time": "2023-10-09T16:31:42.502Z"
   },
   {
    "duration": 19,
    "start_time": "2023-10-09T16:31:42.514Z"
   },
   {
    "duration": 3,
    "start_time": "2023-10-09T16:31:42.559Z"
   },
   {
    "duration": 109,
    "start_time": "2023-10-09T16:31:42.567Z"
   },
   {
    "duration": 267,
    "start_time": "2023-10-09T16:31:42.678Z"
   },
   {
    "duration": 45,
    "start_time": "2023-10-09T16:31:42.948Z"
   },
   {
    "duration": 3,
    "start_time": "2023-10-09T16:31:42.996Z"
   },
   {
    "duration": 77,
    "start_time": "2023-10-09T16:31:43.000Z"
   },
   {
    "duration": 5,
    "start_time": "2023-10-09T16:31:43.079Z"
   },
   {
    "duration": 21,
    "start_time": "2023-10-09T16:31:49.638Z"
   },
   {
    "duration": 19,
    "start_time": "2023-10-09T16:32:35.128Z"
   },
   {
    "duration": 11,
    "start_time": "2023-10-09T16:32:39.790Z"
   },
   {
    "duration": 72,
    "start_time": "2023-10-09T16:32:46.478Z"
   },
   {
    "duration": 21,
    "start_time": "2023-10-09T16:33:33.947Z"
   },
   {
    "duration": 14,
    "start_time": "2023-10-09T16:33:53.075Z"
   },
   {
    "duration": 4,
    "start_time": "2023-10-09T16:34:02.717Z"
   },
   {
    "duration": 143,
    "start_time": "2023-10-09T16:34:02.724Z"
   },
   {
    "duration": 18,
    "start_time": "2023-10-09T16:34:02.869Z"
   },
   {
    "duration": 132,
    "start_time": "2023-10-09T16:34:02.889Z"
   },
   {
    "duration": 121,
    "start_time": "2023-10-09T16:34:03.023Z"
   },
   {
    "duration": 98,
    "start_time": "2023-10-09T16:34:03.146Z"
   },
   {
    "duration": 29,
    "start_time": "2023-10-09T16:34:03.246Z"
   },
   {
    "duration": 173,
    "start_time": "2023-10-09T16:34:03.277Z"
   },
   {
    "duration": 51,
    "start_time": "2023-10-09T16:34:03.452Z"
   },
   {
    "duration": 43,
    "start_time": "2023-10-09T16:34:03.506Z"
   },
   {
    "duration": 43,
    "start_time": "2023-10-09T16:34:03.552Z"
   },
   {
    "duration": 26,
    "start_time": "2023-10-09T16:34:03.597Z"
   },
   {
    "duration": 50,
    "start_time": "2023-10-09T16:34:03.625Z"
   },
   {
    "duration": 15,
    "start_time": "2023-10-09T16:34:03.678Z"
   },
   {
    "duration": 35,
    "start_time": "2023-10-09T16:34:03.695Z"
   },
   {
    "duration": 10,
    "start_time": "2023-10-09T16:34:03.732Z"
   },
   {
    "duration": 25,
    "start_time": "2023-10-09T16:34:03.744Z"
   },
   {
    "duration": 260,
    "start_time": "2023-10-09T16:34:03.771Z"
   },
   {
    "duration": 30,
    "start_time": "2023-10-09T16:34:04.033Z"
   },
   {
    "duration": 13,
    "start_time": "2023-10-09T16:34:04.066Z"
   },
   {
    "duration": 25,
    "start_time": "2023-10-09T16:34:04.081Z"
   },
   {
    "duration": 34,
    "start_time": "2023-10-09T16:34:04.108Z"
   },
   {
    "duration": 16,
    "start_time": "2023-10-09T16:34:04.144Z"
   },
   {
    "duration": 7,
    "start_time": "2023-10-09T16:34:04.163Z"
   },
   {
    "duration": 31,
    "start_time": "2023-10-09T16:34:04.172Z"
   },
   {
    "duration": 24,
    "start_time": "2023-10-09T16:34:04.206Z"
   },
   {
    "duration": 243,
    "start_time": "2023-10-09T16:34:04.232Z"
   },
   {
    "duration": 2,
    "start_time": "2023-10-09T16:34:04.477Z"
   },
   {
    "duration": 20,
    "start_time": "2023-10-09T16:34:04.483Z"
   },
   {
    "duration": 6,
    "start_time": "2023-10-09T16:34:04.505Z"
   },
   {
    "duration": 18,
    "start_time": "2023-10-09T16:34:04.513Z"
   },
   {
    "duration": 21,
    "start_time": "2023-10-09T16:34:04.533Z"
   },
   {
    "duration": 448,
    "start_time": "2023-10-09T16:34:04.556Z"
   },
   {
    "duration": 307,
    "start_time": "2023-10-09T16:34:05.006Z"
   },
   {
    "duration": 174,
    "start_time": "2023-10-09T16:34:05.315Z"
   },
   {
    "duration": 9,
    "start_time": "2023-10-09T16:34:05.491Z"
   },
   {
    "duration": 89,
    "start_time": "2023-10-09T16:34:05.501Z"
   },
   {
    "duration": 51,
    "start_time": "2023-10-09T16:34:05.591Z"
   },
   {
    "duration": 43,
    "start_time": "2023-10-09T16:34:05.643Z"
   },
   {
    "duration": 44,
    "start_time": "2023-10-09T16:34:05.688Z"
   },
   {
    "duration": 16,
    "start_time": "2023-10-09T16:34:05.734Z"
   },
   {
    "duration": 106,
    "start_time": "2023-10-09T16:34:05.753Z"
   },
   {
    "duration": 249,
    "start_time": "2023-10-09T16:34:05.861Z"
   },
   {
    "duration": 53,
    "start_time": "2023-10-09T16:34:06.111Z"
   },
   {
    "duration": 3,
    "start_time": "2023-10-09T16:34:06.166Z"
   },
   {
    "duration": 50,
    "start_time": "2023-10-09T16:34:06.172Z"
   },
   {
    "duration": 6,
    "start_time": "2023-10-09T16:34:06.224Z"
   },
   {
    "duration": 23,
    "start_time": "2023-10-09T16:34:11.007Z"
   },
   {
    "duration": 12,
    "start_time": "2023-10-09T16:34:34.476Z"
   },
   {
    "duration": 4,
    "start_time": "2023-10-09T16:36:35.733Z"
   },
   {
    "duration": 100,
    "start_time": "2023-10-09T16:36:35.739Z"
   },
   {
    "duration": 15,
    "start_time": "2023-10-09T16:36:35.841Z"
   },
   {
    "duration": 17,
    "start_time": "2023-10-09T16:36:35.858Z"
   },
   {
    "duration": 40,
    "start_time": "2023-10-09T16:36:35.877Z"
   },
   {
    "duration": 49,
    "start_time": "2023-10-09T16:36:35.919Z"
   },
   {
    "duration": 21,
    "start_time": "2023-10-09T16:36:35.970Z"
   },
   {
    "duration": 32,
    "start_time": "2023-10-09T16:36:35.994Z"
   },
   {
    "duration": 39,
    "start_time": "2023-10-09T16:36:36.028Z"
   },
   {
    "duration": 17,
    "start_time": "2023-10-09T16:36:36.070Z"
   },
   {
    "duration": 51,
    "start_time": "2023-10-09T16:36:36.091Z"
   },
   {
    "duration": 30,
    "start_time": "2023-10-09T16:36:36.144Z"
   },
   {
    "duration": 55,
    "start_time": "2023-10-09T16:36:36.175Z"
   },
   {
    "duration": 16,
    "start_time": "2023-10-09T16:36:36.232Z"
   },
   {
    "duration": 36,
    "start_time": "2023-10-09T16:36:36.250Z"
   },
   {
    "duration": 10,
    "start_time": "2023-10-09T16:36:36.288Z"
   },
   {
    "duration": 11,
    "start_time": "2023-10-09T16:36:36.300Z"
   },
   {
    "duration": 238,
    "start_time": "2023-10-09T16:36:36.312Z"
   },
   {
    "duration": 23,
    "start_time": "2023-10-09T16:36:36.556Z"
   },
   {
    "duration": 15,
    "start_time": "2023-10-09T16:36:36.580Z"
   },
   {
    "duration": 21,
    "start_time": "2023-10-09T16:36:36.597Z"
   },
   {
    "duration": 53,
    "start_time": "2023-10-09T16:36:36.620Z"
   },
   {
    "duration": 13,
    "start_time": "2023-10-09T16:36:36.675Z"
   },
   {
    "duration": 10,
    "start_time": "2023-10-09T16:36:36.690Z"
   },
   {
    "duration": 22,
    "start_time": "2023-10-09T16:36:36.702Z"
   },
   {
    "duration": 35,
    "start_time": "2023-10-09T16:36:36.727Z"
   },
   {
    "duration": 267,
    "start_time": "2023-10-09T16:36:36.764Z"
   },
   {
    "duration": 2,
    "start_time": "2023-10-09T16:36:37.033Z"
   },
   {
    "duration": 22,
    "start_time": "2023-10-09T16:36:37.039Z"
   },
   {
    "duration": 29,
    "start_time": "2023-10-09T16:36:37.063Z"
   },
   {
    "duration": 20,
    "start_time": "2023-10-09T16:36:37.094Z"
   },
   {
    "duration": 30,
    "start_time": "2023-10-09T16:36:37.117Z"
   },
   {
    "duration": 276,
    "start_time": "2023-10-09T16:36:37.149Z"
   },
   {
    "duration": 408,
    "start_time": "2023-10-09T16:36:37.427Z"
   },
   {
    "duration": 183,
    "start_time": "2023-10-09T16:36:37.837Z"
   },
   {
    "duration": 9,
    "start_time": "2023-10-09T16:36:38.022Z"
   },
   {
    "duration": 90,
    "start_time": "2023-10-09T16:36:38.035Z"
   },
   {
    "duration": 51,
    "start_time": "2023-10-09T16:36:38.127Z"
   },
   {
    "duration": 15,
    "start_time": "2023-10-09T16:36:38.180Z"
   },
   {
    "duration": 49,
    "start_time": "2023-10-09T16:36:38.197Z"
   },
   {
    "duration": 39,
    "start_time": "2023-10-09T16:36:38.248Z"
   },
   {
    "duration": 136,
    "start_time": "2023-10-09T16:36:38.289Z"
   },
   {
    "duration": 238,
    "start_time": "2023-10-09T16:36:38.427Z"
   },
   {
    "duration": 41,
    "start_time": "2023-10-09T16:36:38.667Z"
   },
   {
    "duration": 3,
    "start_time": "2023-10-09T16:36:38.710Z"
   },
   {
    "duration": 42,
    "start_time": "2023-10-09T16:36:38.715Z"
   },
   {
    "duration": 8,
    "start_time": "2023-10-09T16:36:38.759Z"
   },
   {
    "duration": 428,
    "start_time": "2023-10-09T16:37:15.697Z"
   },
   {
    "duration": 62,
    "start_time": "2023-10-09T16:38:14.267Z"
   },
   {
    "duration": 11,
    "start_time": "2023-10-09T16:38:32.246Z"
   },
   {
    "duration": 11,
    "start_time": "2023-10-09T16:38:44.706Z"
   },
   {
    "duration": 23,
    "start_time": "2023-10-09T16:38:50.810Z"
   },
   {
    "duration": 18,
    "start_time": "2023-10-09T16:39:07.699Z"
   },
   {
    "duration": 39,
    "start_time": "2023-10-09T16:39:58.542Z"
   },
   {
    "duration": 43,
    "start_time": "2023-10-09T16:40:16.572Z"
   },
   {
    "duration": 5,
    "start_time": "2023-10-09T16:43:19.344Z"
   },
   {
    "duration": 103,
    "start_time": "2023-10-09T16:43:19.351Z"
   },
   {
    "duration": 18,
    "start_time": "2023-10-09T16:43:19.456Z"
   },
   {
    "duration": 14,
    "start_time": "2023-10-09T16:43:19.476Z"
   },
   {
    "duration": 33,
    "start_time": "2023-10-09T16:43:19.492Z"
   },
   {
    "duration": 39,
    "start_time": "2023-10-09T16:43:19.527Z"
   },
   {
    "duration": 2,
    "start_time": "2023-10-09T16:43:19.568Z"
   },
   {
    "duration": 15,
    "start_time": "2023-10-09T16:43:19.573Z"
   },
   {
    "duration": 9,
    "start_time": "2023-10-09T16:43:19.590Z"
   },
   {
    "duration": 20,
    "start_time": "2023-10-09T16:43:19.600Z"
   },
   {
    "duration": 28,
    "start_time": "2023-10-09T16:43:19.623Z"
   },
   {
    "duration": 26,
    "start_time": "2023-10-09T16:43:19.657Z"
   },
   {
    "duration": 33,
    "start_time": "2023-10-09T16:43:19.685Z"
   },
   {
    "duration": 39,
    "start_time": "2023-10-09T16:43:19.720Z"
   },
   {
    "duration": 28,
    "start_time": "2023-10-09T16:43:19.761Z"
   },
   {
    "duration": 7,
    "start_time": "2023-10-09T16:43:19.791Z"
   },
   {
    "duration": 10,
    "start_time": "2023-10-09T16:43:19.800Z"
   },
   {
    "duration": 248,
    "start_time": "2023-10-09T16:43:19.812Z"
   },
   {
    "duration": 23,
    "start_time": "2023-10-09T16:43:20.061Z"
   },
   {
    "duration": 28,
    "start_time": "2023-10-09T16:43:20.085Z"
   },
   {
    "duration": 38,
    "start_time": "2023-10-09T16:43:20.115Z"
   },
   {
    "duration": 47,
    "start_time": "2023-10-09T16:43:20.155Z"
   },
   {
    "duration": 19,
    "start_time": "2023-10-09T16:43:20.205Z"
   },
   {
    "duration": 14,
    "start_time": "2023-10-09T16:43:20.226Z"
   },
   {
    "duration": 8,
    "start_time": "2023-10-09T16:43:20.242Z"
   },
   {
    "duration": 10,
    "start_time": "2023-10-09T16:43:20.252Z"
   },
   {
    "duration": 257,
    "start_time": "2023-10-09T16:43:20.264Z"
   },
   {
    "duration": 2,
    "start_time": "2023-10-09T16:43:20.524Z"
   },
   {
    "duration": 13,
    "start_time": "2023-10-09T16:43:20.530Z"
   },
   {
    "duration": 57,
    "start_time": "2023-10-09T16:43:20.545Z"
   },
   {
    "duration": 34,
    "start_time": "2023-10-09T16:43:20.604Z"
   },
   {
    "duration": 17,
    "start_time": "2023-10-09T16:43:20.641Z"
   },
   {
    "duration": 306,
    "start_time": "2023-10-09T16:43:20.661Z"
   },
   {
    "duration": 303,
    "start_time": "2023-10-09T16:43:20.969Z"
   },
   {
    "duration": 313,
    "start_time": "2023-10-09T16:43:21.275Z"
   },
   {
    "duration": 10,
    "start_time": "2023-10-09T16:43:21.591Z"
   },
   {
    "duration": 77,
    "start_time": "2023-10-09T16:43:21.603Z"
   },
   {
    "duration": 52,
    "start_time": "2023-10-09T16:43:21.683Z"
   },
   {
    "duration": 25,
    "start_time": "2023-10-09T16:43:21.737Z"
   },
   {
    "duration": 17,
    "start_time": "2023-10-09T16:43:21.764Z"
   },
   {
    "duration": 3,
    "start_time": "2023-10-09T16:43:21.782Z"
   },
   {
    "duration": 123,
    "start_time": "2023-10-09T16:43:21.786Z"
   },
   {
    "duration": 256,
    "start_time": "2023-10-09T16:43:21.911Z"
   },
   {
    "duration": 43,
    "start_time": "2023-10-09T16:43:22.169Z"
   },
   {
    "duration": 11,
    "start_time": "2023-10-09T16:43:22.214Z"
   },
   {
    "duration": 32,
    "start_time": "2023-10-09T16:43:22.227Z"
   },
   {
    "duration": 37,
    "start_time": "2023-10-09T16:43:22.262Z"
   },
   {
    "duration": 39,
    "start_time": "2023-10-09T16:43:22.302Z"
   },
   {
    "duration": 251,
    "start_time": "2023-10-09T16:43:22.343Z"
   },
   {
    "duration": 29,
    "start_time": "2023-10-09T16:43:22.595Z"
   },
   {
    "duration": 46,
    "start_time": "2023-10-09T16:43:22.626Z"
   },
   {
    "duration": 4,
    "start_time": "2023-10-09T16:43:22.674Z"
   },
   {
    "duration": 19,
    "start_time": "2023-10-09T16:43:22.680Z"
   },
   {
    "duration": 207,
    "start_time": "2023-10-09T16:43:22.701Z"
   },
   {
    "duration": 15,
    "start_time": "2023-10-09T16:43:22.909Z"
   },
   {
    "duration": 43,
    "start_time": "2023-10-09T16:43:22.925Z"
   },
   {
    "duration": 250,
    "start_time": "2023-10-09T16:43:22.970Z"
   },
   {
    "duration": 284,
    "start_time": "2023-10-09T16:43:23.223Z"
   },
   {
    "duration": 338,
    "start_time": "2023-10-09T16:43:23.509Z"
   },
   {
    "duration": 364,
    "start_time": "2023-10-09T16:44:08.833Z"
   },
   {
    "duration": 310,
    "start_time": "2023-10-09T16:51:12.379Z"
   },
   {
    "duration": 201,
    "start_time": "2023-10-09T16:51:16.669Z"
   },
   {
    "duration": 32,
    "start_time": "2023-10-09T16:51:19.680Z"
   },
   {
    "duration": 861,
    "start_time": "2023-10-09T16:51:24.045Z"
   },
   {
    "duration": 3,
    "start_time": "2023-10-09T16:52:15.145Z"
   },
   {
    "duration": 79,
    "start_time": "2023-10-09T16:52:32.578Z"
   },
   {
    "duration": 904,
    "start_time": "2023-10-09T16:52:37.537Z"
   },
   {
    "duration": 1507,
    "start_time": "2023-10-09T16:53:02.354Z"
   },
   {
    "duration": 841,
    "start_time": "2023-10-09T16:53:30.678Z"
   },
   {
    "duration": 919,
    "start_time": "2023-10-09T16:54:34.659Z"
   },
   {
    "duration": 949,
    "start_time": "2023-10-09T16:54:42.582Z"
   },
   {
    "duration": 812,
    "start_time": "2023-10-09T16:54:50.074Z"
   },
   {
    "duration": 956,
    "start_time": "2023-10-09T16:55:05.551Z"
   },
   {
    "duration": 133,
    "start_time": "2023-10-09T16:56:04.393Z"
   },
   {
    "duration": 150,
    "start_time": "2023-10-09T16:56:17.354Z"
   },
   {
    "duration": 1126,
    "start_time": "2023-10-09T16:56:32.679Z"
   },
   {
    "duration": 187,
    "start_time": "2023-10-09T16:57:00.974Z"
   },
   {
    "duration": 65,
    "start_time": "2023-10-09T16:57:17.018Z"
   },
   {
    "duration": 1394,
    "start_time": "2023-10-09T16:57:19.379Z"
   },
   {
    "duration": 1148,
    "start_time": "2023-10-09T16:57:27.536Z"
   },
   {
    "duration": 1362,
    "start_time": "2023-10-09T16:57:36.148Z"
   },
   {
    "duration": 1241,
    "start_time": "2023-10-09T16:58:02.592Z"
   },
   {
    "duration": 1497,
    "start_time": "2023-10-09T16:58:19.644Z"
   },
   {
    "duration": 1461,
    "start_time": "2023-10-09T16:58:28.255Z"
   },
   {
    "duration": 1492,
    "start_time": "2023-10-09T16:58:36.283Z"
   },
   {
    "duration": 29,
    "start_time": "2023-10-09T16:58:53.681Z"
   },
   {
    "duration": 1350,
    "start_time": "2023-10-09T16:59:33.310Z"
   },
   {
    "duration": 1410,
    "start_time": "2023-10-09T16:59:55.291Z"
   },
   {
    "duration": 401,
    "start_time": "2023-10-09T17:02:36.013Z"
   },
   {
    "duration": 270,
    "start_time": "2023-10-09T17:02:46.375Z"
   },
   {
    "duration": 255,
    "start_time": "2023-10-09T17:03:23.373Z"
   },
   {
    "duration": 1378,
    "start_time": "2023-10-09T17:04:02.991Z"
   },
   {
    "duration": 262,
    "start_time": "2023-10-09T17:04:14.036Z"
   },
   {
    "duration": 1676,
    "start_time": "2023-10-09T17:04:18.188Z"
   },
   {
    "duration": 272,
    "start_time": "2023-10-09T17:04:37.422Z"
   },
   {
    "duration": 1508,
    "start_time": "2023-10-09T17:04:43.496Z"
   },
   {
    "duration": 1671,
    "start_time": "2023-10-09T17:04:57.830Z"
   },
   {
    "duration": 1535,
    "start_time": "2023-10-09T17:05:17.724Z"
   },
   {
    "duration": 1649,
    "start_time": "2023-10-09T17:05:32.371Z"
   },
   {
    "duration": 1410,
    "start_time": "2023-10-09T17:05:49.796Z"
   },
   {
    "duration": 1838,
    "start_time": "2023-10-09T17:07:37.834Z"
   },
   {
    "duration": 208,
    "start_time": "2023-10-09T17:09:50.872Z"
   },
   {
    "duration": 1803,
    "start_time": "2023-10-09T17:10:11.187Z"
   },
   {
    "duration": 1663,
    "start_time": "2023-10-09T17:10:19.835Z"
   },
   {
    "duration": 1856,
    "start_time": "2023-10-09T17:10:26.128Z"
   },
   {
    "duration": 1813,
    "start_time": "2023-10-09T17:10:48.876Z"
   },
   {
    "duration": 1735,
    "start_time": "2023-10-09T17:12:04.485Z"
   },
   {
    "duration": 1852,
    "start_time": "2023-10-09T17:12:54.373Z"
   },
   {
    "duration": 1817,
    "start_time": "2023-10-09T17:13:20.771Z"
   },
   {
    "duration": 25,
    "start_time": "2023-10-09T17:13:44.126Z"
   },
   {
    "duration": 10,
    "start_time": "2023-10-09T17:13:46.538Z"
   },
   {
    "duration": 344,
    "start_time": "2023-10-09T17:13:52.676Z"
   },
   {
    "duration": 11,
    "start_time": "2023-10-09T17:13:59.177Z"
   },
   {
    "duration": 361,
    "start_time": "2023-10-09T17:14:01.373Z"
   },
   {
    "duration": 323,
    "start_time": "2023-10-09T17:36:31.280Z"
   },
   {
    "duration": 313,
    "start_time": "2023-10-09T17:38:44.154Z"
   },
   {
    "duration": 4,
    "start_time": "2023-10-09T17:39:37.909Z"
   },
   {
    "duration": 98,
    "start_time": "2023-10-09T17:39:37.916Z"
   },
   {
    "duration": 41,
    "start_time": "2023-10-09T17:39:38.016Z"
   },
   {
    "duration": 21,
    "start_time": "2023-10-09T17:39:38.060Z"
   },
   {
    "duration": 26,
    "start_time": "2023-10-09T17:39:38.084Z"
   },
   {
    "duration": 63,
    "start_time": "2023-10-09T17:39:38.112Z"
   },
   {
    "duration": 3,
    "start_time": "2023-10-09T17:39:38.178Z"
   },
   {
    "duration": 12,
    "start_time": "2023-10-09T17:39:38.183Z"
   },
   {
    "duration": 6,
    "start_time": "2023-10-09T17:39:38.199Z"
   },
   {
    "duration": 4,
    "start_time": "2023-10-09T17:39:38.207Z"
   },
   {
    "duration": 63,
    "start_time": "2023-10-09T17:39:38.213Z"
   },
   {
    "duration": 25,
    "start_time": "2023-10-09T17:39:38.278Z"
   },
   {
    "duration": 52,
    "start_time": "2023-10-09T17:39:38.305Z"
   },
   {
    "duration": 19,
    "start_time": "2023-10-09T17:39:38.360Z"
   },
   {
    "duration": 18,
    "start_time": "2023-10-09T17:39:38.381Z"
   },
   {
    "duration": 7,
    "start_time": "2023-10-09T17:39:38.402Z"
   },
   {
    "duration": 8,
    "start_time": "2023-10-09T17:39:38.412Z"
   },
   {
    "duration": 232,
    "start_time": "2023-10-09T17:39:38.457Z"
   },
   {
    "duration": 24,
    "start_time": "2023-10-09T17:39:38.692Z"
   },
   {
    "duration": 9,
    "start_time": "2023-10-09T17:39:38.718Z"
   },
   {
    "duration": 38,
    "start_time": "2023-10-09T17:39:38.729Z"
   },
   {
    "duration": 19,
    "start_time": "2023-10-09T17:39:38.769Z"
   },
   {
    "duration": 17,
    "start_time": "2023-10-09T17:39:38.791Z"
   },
   {
    "duration": 10,
    "start_time": "2023-10-09T17:39:38.815Z"
   },
   {
    "duration": 5,
    "start_time": "2023-10-09T17:39:38.858Z"
   },
   {
    "duration": 23,
    "start_time": "2023-10-09T17:39:38.866Z"
   },
   {
    "duration": 336,
    "start_time": "2023-10-09T17:39:38.892Z"
   },
   {
    "duration": 3,
    "start_time": "2023-10-09T17:39:39.231Z"
   },
   {
    "duration": 19,
    "start_time": "2023-10-09T17:39:39.236Z"
   },
   {
    "duration": 16,
    "start_time": "2023-10-09T17:39:39.257Z"
   },
   {
    "duration": 25,
    "start_time": "2023-10-09T17:39:39.275Z"
   },
   {
    "duration": 18,
    "start_time": "2023-10-09T17:39:39.302Z"
   },
   {
    "duration": 463,
    "start_time": "2023-10-09T17:39:39.322Z"
   },
   {
    "duration": 297,
    "start_time": "2023-10-09T17:39:39.787Z"
   },
   {
    "duration": 183,
    "start_time": "2023-10-09T17:39:40.086Z"
   },
   {
    "duration": 12,
    "start_time": "2023-10-09T17:39:40.272Z"
   },
   {
    "duration": 88,
    "start_time": "2023-10-09T17:39:40.286Z"
   },
   {
    "duration": 50,
    "start_time": "2023-10-09T17:39:40.377Z"
   },
   {
    "duration": 29,
    "start_time": "2023-10-09T17:39:40.429Z"
   },
   {
    "duration": 18,
    "start_time": "2023-10-09T17:39:40.460Z"
   },
   {
    "duration": 3,
    "start_time": "2023-10-09T17:39:40.480Z"
   },
   {
    "duration": 114,
    "start_time": "2023-10-09T17:39:40.485Z"
   },
   {
    "duration": 261,
    "start_time": "2023-10-09T17:39:40.601Z"
   },
   {
    "duration": 42,
    "start_time": "2023-10-09T17:39:40.865Z"
   },
   {
    "duration": 3,
    "start_time": "2023-10-09T17:39:40.909Z"
   },
   {
    "duration": 42,
    "start_time": "2023-10-09T17:39:40.915Z"
   },
   {
    "duration": 30,
    "start_time": "2023-10-09T17:39:40.959Z"
   },
   {
    "duration": 68,
    "start_time": "2023-10-09T17:39:40.991Z"
   },
   {
    "duration": 276,
    "start_time": "2023-10-09T17:39:41.061Z"
   },
   {
    "duration": 36,
    "start_time": "2023-10-09T17:39:41.339Z"
   },
   {
    "duration": 25,
    "start_time": "2023-10-09T17:39:41.376Z"
   },
   {
    "duration": 10,
    "start_time": "2023-10-09T17:39:41.403Z"
   },
   {
    "duration": 29,
    "start_time": "2023-10-09T17:39:41.414Z"
   },
   {
    "duration": 211,
    "start_time": "2023-10-09T17:39:41.445Z"
   },
   {
    "duration": 17,
    "start_time": "2023-10-09T17:39:41.659Z"
   },
   {
    "duration": 26,
    "start_time": "2023-10-09T17:39:41.678Z"
   },
   {
    "duration": 266,
    "start_time": "2023-10-09T17:39:41.706Z"
   },
   {
    "duration": 292,
    "start_time": "2023-10-09T17:39:41.974Z"
   },
   {
    "duration": 491,
    "start_time": "2023-10-09T17:39:42.268Z"
   },
   {
    "duration": 343,
    "start_time": "2023-10-09T17:39:42.761Z"
   },
   {
    "duration": 198,
    "start_time": "2023-10-09T17:39:43.106Z"
   },
   {
    "duration": 219,
    "start_time": "2023-10-09T17:39:43.306Z"
   },
   {
    "duration": 48,
    "start_time": "2023-10-09T17:39:43.527Z"
   },
   {
    "duration": 14,
    "start_time": "2023-10-09T17:39:43.577Z"
   },
   {
    "duration": 1818,
    "start_time": "2023-10-09T17:39:43.593Z"
   },
   {
    "duration": 26,
    "start_time": "2023-10-09T17:39:45.414Z"
   },
   {
    "duration": 12,
    "start_time": "2023-10-09T17:39:45.455Z"
   },
   {
    "duration": 345,
    "start_time": "2023-10-09T17:39:45.469Z"
   },
   {
    "duration": 12,
    "start_time": "2023-10-09T17:39:45.824Z"
   },
   {
    "duration": 358,
    "start_time": "2023-10-09T17:39:45.838Z"
   },
   {
    "duration": 322,
    "start_time": "2023-10-09T17:39:46.199Z"
   },
   {
    "duration": 327,
    "start_time": "2023-10-09T17:39:46.523Z"
   },
   {
    "duration": 17,
    "start_time": "2023-10-09T17:39:46.855Z"
   },
   {
    "duration": 31,
    "start_time": "2023-10-09T17:39:46.874Z"
   },
   {
    "duration": 304,
    "start_time": "2023-10-09T17:39:46.908Z"
   },
   {
    "duration": 20,
    "start_time": "2023-10-09T17:39:47.214Z"
   },
   {
    "duration": 436,
    "start_time": "2023-10-09T17:39:47.236Z"
   },
   {
    "duration": 362,
    "start_time": "2023-10-09T17:39:47.674Z"
   },
   {
    "duration": 274,
    "start_time": "2023-10-09T17:39:48.038Z"
   },
   {
    "duration": 21,
    "start_time": "2023-10-09T17:39:48.314Z"
   },
   {
    "duration": 259,
    "start_time": "2023-10-09T17:39:48.337Z"
   },
   {
    "duration": 6,
    "start_time": "2023-10-09T17:39:48.598Z"
   },
   {
    "duration": 260,
    "start_time": "2023-10-09T17:39:48.607Z"
   },
   {
    "duration": 22,
    "start_time": "2023-10-09T17:39:48.870Z"
   },
   {
    "duration": 51,
    "start_time": "2023-10-09T17:39:48.894Z"
   },
   {
    "duration": 390,
    "start_time": "2023-10-09T17:39:48.948Z"
   },
   {
    "duration": 306,
    "start_time": "2023-10-09T17:39:49.340Z"
   },
   {
    "duration": 167,
    "start_time": "2023-10-09T17:39:49.649Z"
   },
   {
    "duration": 21,
    "start_time": "2023-10-09T17:39:49.818Z"
   },
   {
    "duration": 297,
    "start_time": "2023-10-09T17:39:49.856Z"
   },
   {
    "duration": 342,
    "start_time": "2023-10-09T17:39:50.156Z"
   },
   {
    "duration": 286,
    "start_time": "2023-10-09T17:39:50.500Z"
   },
   {
    "duration": 21,
    "start_time": "2023-10-09T17:39:50.788Z"
   },
   {
    "duration": 404,
    "start_time": "2023-10-09T17:39:50.810Z"
   },
   {
    "duration": 256,
    "start_time": "2023-10-09T17:39:51.217Z"
   },
   {
    "duration": 23,
    "start_time": "2023-10-09T17:39:51.476Z"
   },
   {
    "duration": 48,
    "start_time": "2023-10-09T17:39:51.501Z"
   },
   {
    "duration": 285,
    "start_time": "2023-10-09T17:39:51.551Z"
   },
   {
    "duration": 328,
    "start_time": "2023-10-09T17:39:51.839Z"
   },
   {
    "duration": 25,
    "start_time": "2023-10-09T17:39:52.170Z"
   },
   {
    "duration": 336,
    "start_time": "2023-10-09T17:40:25.131Z"
   },
   {
    "duration": 393,
    "start_time": "2023-10-09T17:40:28.852Z"
   },
   {
    "duration": 242,
    "start_time": "2023-10-09T17:40:37.035Z"
   },
   {
    "duration": 22,
    "start_time": "2023-10-09T17:40:37.280Z"
   },
   {
    "duration": 16,
    "start_time": "2023-10-09T17:40:37.305Z"
   },
   {
    "duration": 247,
    "start_time": "2023-10-09T17:40:37.324Z"
   },
   {
    "duration": 247,
    "start_time": "2023-10-09T17:40:37.574Z"
   },
   {
    "duration": 18,
    "start_time": "2023-10-09T17:40:37.823Z"
   },
   {
    "duration": 25,
    "start_time": "2023-10-09T17:40:37.857Z"
   },
   {
    "duration": 362,
    "start_time": "2023-10-09T17:40:37.885Z"
   },
   {
    "duration": 178,
    "start_time": "2023-10-09T17:40:38.257Z"
   },
   {
    "duration": 389,
    "start_time": "2023-10-09T17:40:38.438Z"
   },
   {
    "duration": 41,
    "start_time": "2023-10-09T17:40:38.829Z"
   },
   {
    "duration": 384,
    "start_time": "2023-10-09T17:40:38.873Z"
   },
   {
    "duration": 25,
    "start_time": "2023-10-09T17:40:39.258Z"
   },
   {
    "duration": 31,
    "start_time": "2023-10-09T17:40:39.285Z"
   },
   {
    "duration": 20,
    "start_time": "2023-10-09T17:40:39.318Z"
   },
   {
    "duration": 26,
    "start_time": "2023-10-09T17:40:39.341Z"
   },
   {
    "duration": 17,
    "start_time": "2023-10-09T17:40:39.369Z"
   },
   {
    "duration": 20,
    "start_time": "2023-10-09T17:40:39.388Z"
   },
   {
    "duration": 315,
    "start_time": "2023-10-09T17:42:34.615Z"
   },
   {
    "duration": 277,
    "start_time": "2023-10-09T17:43:19.902Z"
   },
   {
    "duration": 251,
    "start_time": "2023-10-09T17:43:35.667Z"
   },
   {
    "duration": 391,
    "start_time": "2023-10-09T17:43:51.539Z"
   },
   {
    "duration": 443,
    "start_time": "2023-10-09T17:44:05.333Z"
   },
   {
    "duration": 309,
    "start_time": "2023-10-09T17:44:15.332Z"
   },
   {
    "duration": 37,
    "start_time": "2023-10-09T17:44:15.643Z"
   },
   {
    "duration": 13312,
    "start_time": "2023-10-09T17:48:42.972Z"
   },
   {
    "duration": 14413,
    "start_time": "2023-10-09T17:49:55.150Z"
   },
   {
    "duration": 65,
    "start_time": "2023-10-09T17:50:32.477Z"
   },
   {
    "duration": 1447,
    "start_time": "2023-10-09T17:50:38.723Z"
   },
   {
    "duration": 213,
    "start_time": "2023-10-09T17:50:40.172Z"
   },
   {
    "duration": 17,
    "start_time": "2023-10-09T17:50:40.387Z"
   },
   {
    "duration": 12,
    "start_time": "2023-10-09T17:50:40.406Z"
   },
   {
    "duration": 17,
    "start_time": "2023-10-09T17:50:40.420Z"
   },
   {
    "duration": 35,
    "start_time": "2023-10-09T17:50:40.439Z"
   },
   {
    "duration": 3,
    "start_time": "2023-10-09T17:50:40.476Z"
   },
   {
    "duration": 22,
    "start_time": "2023-10-09T17:50:40.480Z"
   },
   {
    "duration": 6,
    "start_time": "2023-10-09T17:50:40.504Z"
   },
   {
    "duration": 12,
    "start_time": "2023-10-09T17:50:40.512Z"
   },
   {
    "duration": 25,
    "start_time": "2023-10-09T17:50:40.526Z"
   },
   {
    "duration": 26,
    "start_time": "2023-10-09T17:50:40.557Z"
   },
   {
    "duration": 24,
    "start_time": "2023-10-09T17:50:40.585Z"
   },
   {
    "duration": 13,
    "start_time": "2023-10-09T17:50:40.611Z"
   },
   {
    "duration": 53,
    "start_time": "2023-10-09T17:50:40.626Z"
   },
   {
    "duration": 5,
    "start_time": "2023-10-09T17:50:40.681Z"
   },
   {
    "duration": 11,
    "start_time": "2023-10-09T17:50:40.688Z"
   },
   {
    "duration": 243,
    "start_time": "2023-10-09T17:50:40.701Z"
   },
   {
    "duration": 31,
    "start_time": "2023-10-09T17:50:40.946Z"
   },
   {
    "duration": 8,
    "start_time": "2023-10-09T17:50:40.979Z"
   },
   {
    "duration": 22,
    "start_time": "2023-10-09T17:50:40.989Z"
   },
   {
    "duration": 15,
    "start_time": "2023-10-09T17:50:41.013Z"
   },
   {
    "duration": 32,
    "start_time": "2023-10-09T17:50:41.030Z"
   },
   {
    "duration": 15,
    "start_time": "2023-10-09T17:50:41.064Z"
   },
   {
    "duration": 9,
    "start_time": "2023-10-09T17:50:41.081Z"
   },
   {
    "duration": 12,
    "start_time": "2023-10-09T17:50:41.092Z"
   },
   {
    "duration": 218,
    "start_time": "2023-10-09T17:50:41.105Z"
   },
   {
    "duration": 3,
    "start_time": "2023-10-09T17:50:41.327Z"
   },
   {
    "duration": 5,
    "start_time": "2023-10-09T17:50:41.332Z"
   },
   {
    "duration": 30,
    "start_time": "2023-10-09T17:50:41.339Z"
   },
   {
    "duration": 20,
    "start_time": "2023-10-09T17:50:41.370Z"
   },
   {
    "duration": 17,
    "start_time": "2023-10-09T17:50:41.392Z"
   },
   {
    "duration": 277,
    "start_time": "2023-10-09T17:50:41.411Z"
   },
   {
    "duration": 293,
    "start_time": "2023-10-09T17:50:41.690Z"
   },
   {
    "duration": 200,
    "start_time": "2023-10-09T17:50:41.985Z"
   },
   {
    "duration": 9,
    "start_time": "2023-10-09T17:50:42.187Z"
   },
   {
    "duration": 94,
    "start_time": "2023-10-09T17:50:42.198Z"
   },
   {
    "duration": 46,
    "start_time": "2023-10-09T17:50:42.294Z"
   },
   {
    "duration": 13,
    "start_time": "2023-10-09T17:50:42.357Z"
   },
   {
    "duration": 38,
    "start_time": "2023-10-09T17:50:42.372Z"
   },
   {
    "duration": 3,
    "start_time": "2023-10-09T17:50:42.412Z"
   },
   {
    "duration": 132,
    "start_time": "2023-10-09T17:50:42.417Z"
   },
   {
    "duration": 339,
    "start_time": "2023-10-09T17:50:42.557Z"
   },
   {
    "duration": 58,
    "start_time": "2023-10-09T17:50:42.899Z"
   },
   {
    "duration": 3,
    "start_time": "2023-10-09T17:50:42.959Z"
   },
   {
    "duration": 32,
    "start_time": "2023-10-09T17:50:42.964Z"
   },
   {
    "duration": 25,
    "start_time": "2023-10-09T17:50:42.999Z"
   },
   {
    "duration": 61,
    "start_time": "2023-10-09T17:50:43.026Z"
   },
   {
    "duration": 233,
    "start_time": "2023-10-09T17:50:43.089Z"
   },
   {
    "duration": 35,
    "start_time": "2023-10-09T17:50:43.324Z"
   },
   {
    "duration": 24,
    "start_time": "2023-10-09T17:50:43.361Z"
   },
   {
    "duration": 4,
    "start_time": "2023-10-09T17:50:43.387Z"
   },
   {
    "duration": 30,
    "start_time": "2023-10-09T17:50:43.393Z"
   },
   {
    "duration": 195,
    "start_time": "2023-10-09T17:50:43.425Z"
   },
   {
    "duration": 15,
    "start_time": "2023-10-09T17:50:43.622Z"
   },
   {
    "duration": 46,
    "start_time": "2023-10-09T17:50:43.639Z"
   },
   {
    "duration": 242,
    "start_time": "2023-10-09T17:50:43.687Z"
   },
   {
    "duration": 279,
    "start_time": "2023-10-09T17:50:43.931Z"
   },
   {
    "duration": 333,
    "start_time": "2023-10-09T17:50:44.211Z"
   },
   {
    "duration": 323,
    "start_time": "2023-10-09T17:50:44.546Z"
   },
   {
    "duration": 193,
    "start_time": "2023-10-09T17:50:44.870Z"
   },
   {
    "duration": 198,
    "start_time": "2023-10-09T17:50:45.065Z"
   },
   {
    "duration": 157,
    "start_time": "2023-10-09T17:50:45.265Z"
   },
   {
    "duration": 3,
    "start_time": "2023-10-09T17:50:45.424Z"
   },
   {
    "duration": 1705,
    "start_time": "2023-10-09T17:50:45.430Z"
   },
   {
    "duration": 40,
    "start_time": "2023-10-09T17:50:47.137Z"
   },
   {
    "duration": 11,
    "start_time": "2023-10-09T17:50:47.180Z"
   },
   {
    "duration": 370,
    "start_time": "2023-10-09T17:50:47.194Z"
   },
   {
    "duration": 13,
    "start_time": "2023-10-09T17:50:47.567Z"
   },
   {
    "duration": 531,
    "start_time": "2023-10-09T17:50:47.582Z"
   },
   {
    "duration": 292,
    "start_time": "2023-10-09T17:50:48.116Z"
   },
   {
    "duration": 346,
    "start_time": "2023-10-09T17:50:48.410Z"
   },
   {
    "duration": 28,
    "start_time": "2023-10-09T17:50:48.758Z"
   },
   {
    "duration": 50,
    "start_time": "2023-10-09T17:50:48.788Z"
   },
   {
    "duration": 394,
    "start_time": "2023-10-09T17:50:48.841Z"
   },
   {
    "duration": 30,
    "start_time": "2023-10-09T17:50:49.238Z"
   },
   {
    "duration": 295,
    "start_time": "2023-10-09T17:50:49.271Z"
   },
   {
    "duration": 402,
    "start_time": "2023-10-09T17:50:49.568Z"
   },
   {
    "duration": 260,
    "start_time": "2023-10-09T17:50:49.972Z"
   },
   {
    "duration": 31,
    "start_time": "2023-10-09T17:50:50.234Z"
   },
   {
    "duration": 232,
    "start_time": "2023-10-09T17:50:50.267Z"
   },
   {
    "duration": 5,
    "start_time": "2023-10-09T17:50:50.506Z"
   },
   {
    "duration": 250,
    "start_time": "2023-10-09T17:50:50.513Z"
   },
   {
    "duration": 16,
    "start_time": "2023-10-09T17:50:50.765Z"
   },
   {
    "duration": 41,
    "start_time": "2023-10-09T17:50:50.782Z"
   },
   {
    "duration": 280,
    "start_time": "2023-10-09T17:50:50.825Z"
   },
   {
    "duration": 310,
    "start_time": "2023-10-09T17:50:51.107Z"
   },
   {
    "duration": 283,
    "start_time": "2023-10-09T17:50:51.419Z"
   },
   {
    "duration": 18,
    "start_time": "2023-10-09T17:50:51.704Z"
   },
   {
    "duration": 301,
    "start_time": "2023-10-09T17:50:51.723Z"
   },
   {
    "duration": 330,
    "start_time": "2023-10-09T17:50:52.026Z"
   },
   {
    "duration": 247,
    "start_time": "2023-10-09T17:50:52.359Z"
   },
   {
    "duration": 20,
    "start_time": "2023-10-09T17:50:52.608Z"
   },
   {
    "duration": 233,
    "start_time": "2023-10-09T17:50:52.630Z"
   },
   {
    "duration": 249,
    "start_time": "2023-10-09T17:50:52.866Z"
   },
   {
    "duration": 17,
    "start_time": "2023-10-09T17:50:53.116Z"
   },
   {
    "duration": 49,
    "start_time": "2023-10-09T17:50:53.135Z"
   },
   {
    "duration": 262,
    "start_time": "2023-10-09T17:50:53.185Z"
   },
   {
    "duration": 320,
    "start_time": "2023-10-09T17:50:53.456Z"
   },
   {
    "duration": 20,
    "start_time": "2023-10-09T17:50:53.778Z"
   },
   {
    "duration": 350,
    "start_time": "2023-10-09T17:50:53.800Z"
   },
   {
    "duration": 322,
    "start_time": "2023-10-09T17:50:54.152Z"
   },
   {
    "duration": 240,
    "start_time": "2023-10-09T17:50:54.476Z"
   },
   {
    "duration": 20,
    "start_time": "2023-10-09T17:50:54.718Z"
   },
   {
    "duration": 25,
    "start_time": "2023-10-09T17:50:54.740Z"
   },
   {
    "duration": 354,
    "start_time": "2023-10-09T17:50:54.767Z"
   },
   {
    "duration": 241,
    "start_time": "2023-10-09T17:50:55.123Z"
   },
   {
    "duration": 16,
    "start_time": "2023-10-09T17:50:55.366Z"
   },
   {
    "duration": 56,
    "start_time": "2023-10-09T17:50:55.384Z"
   },
   {
    "duration": 219,
    "start_time": "2023-10-09T17:50:59.212Z"
   },
   {
    "duration": 314,
    "start_time": "2023-10-09T17:51:07.894Z"
   },
   {
    "duration": 256,
    "start_time": "2023-10-09T17:51:27.416Z"
   },
   {
    "duration": 154,
    "start_time": "2023-10-09T17:51:32.445Z"
   },
   {
    "duration": 257,
    "start_time": "2023-10-09T17:51:46.114Z"
   },
   {
    "duration": 221,
    "start_time": "2023-10-09T17:52:11.587Z"
   },
   {
    "duration": 389,
    "start_time": "2023-10-09T17:53:31.118Z"
   },
   {
    "duration": 275,
    "start_time": "2023-10-09T17:53:46.676Z"
   },
   {
    "duration": 289,
    "start_time": "2023-10-09T17:54:37.005Z"
   },
   {
    "duration": 298,
    "start_time": "2023-10-09T17:54:55.173Z"
   },
   {
    "duration": 253,
    "start_time": "2023-10-09T17:55:26.698Z"
   },
   {
    "duration": 263,
    "start_time": "2023-10-09T17:55:35.057Z"
   },
   {
    "duration": 358,
    "start_time": "2023-10-09T17:55:40.667Z"
   },
   {
    "duration": 261,
    "start_time": "2023-10-09T17:55:57.698Z"
   },
   {
    "duration": 508,
    "start_time": "2023-10-09T17:56:08.394Z"
   },
   {
    "duration": 459,
    "start_time": "2023-10-09T17:56:59.347Z"
   },
   {
    "duration": 273,
    "start_time": "2023-10-09T17:58:11.929Z"
   },
   {
    "duration": 418,
    "start_time": "2023-10-09T17:58:34.552Z"
   },
   {
    "duration": 282,
    "start_time": "2023-10-09T17:58:57.016Z"
   },
   {
    "duration": 258,
    "start_time": "2023-10-09T17:59:01.734Z"
   },
   {
    "duration": 250,
    "start_time": "2023-10-09T17:59:16.197Z"
   },
   {
    "duration": 231,
    "start_time": "2023-10-09T17:59:43.233Z"
   },
   {
    "duration": 304,
    "start_time": "2023-10-09T17:59:55.338Z"
   },
   {
    "duration": 523,
    "start_time": "2023-10-09T18:00:18.620Z"
   },
   {
    "duration": 271,
    "start_time": "2023-10-09T18:00:57.241Z"
   },
   {
    "duration": 292,
    "start_time": "2023-10-09T18:01:03.370Z"
   },
   {
    "duration": 279,
    "start_time": "2023-10-09T18:01:40.550Z"
   },
   {
    "duration": 318,
    "start_time": "2023-10-09T18:01:46.889Z"
   },
   {
    "duration": 301,
    "start_time": "2023-10-09T18:01:53.402Z"
   },
   {
    "duration": 413,
    "start_time": "2023-10-09T18:02:15.573Z"
   },
   {
    "duration": 302,
    "start_time": "2023-10-09T18:02:21.347Z"
   },
   {
    "duration": 288,
    "start_time": "2023-10-09T18:02:32.562Z"
   },
   {
    "duration": 294,
    "start_time": "2023-10-09T18:02:36.405Z"
   },
   {
    "duration": 277,
    "start_time": "2023-10-09T18:02:42.500Z"
   },
   {
    "duration": 1958,
    "start_time": "2023-10-09T18:05:06.567Z"
   },
   {
    "duration": 2001,
    "start_time": "2023-10-09T18:06:33.964Z"
   },
   {
    "duration": 294,
    "start_time": "2023-10-09T18:07:15.470Z"
   },
   {
    "duration": 23,
    "start_time": "2023-10-09T18:07:19.242Z"
   },
   {
    "duration": 336,
    "start_time": "2023-10-09T18:07:21.514Z"
   },
   {
    "duration": 316,
    "start_time": "2023-10-09T18:07:52.503Z"
   },
   {
    "duration": 285,
    "start_time": "2023-10-09T18:08:05.501Z"
   },
   {
    "duration": 455,
    "start_time": "2023-10-09T18:08:10.501Z"
   },
   {
    "duration": 332,
    "start_time": "2023-10-09T18:08:28.114Z"
   },
   {
    "duration": 353,
    "start_time": "2023-10-09T18:08:38.423Z"
   },
   {
    "duration": 333,
    "start_time": "2023-10-09T18:08:49.168Z"
   },
   {
    "duration": 380,
    "start_time": "2023-10-09T18:08:55.030Z"
   },
   {
    "duration": 336,
    "start_time": "2023-10-09T18:09:04.132Z"
   },
   {
    "duration": 412,
    "start_time": "2023-10-09T18:09:24.207Z"
   },
   {
    "duration": 25,
    "start_time": "2023-10-09T18:09:32.733Z"
   },
   {
    "duration": 263,
    "start_time": "2023-10-09T18:11:07.076Z"
   },
   {
    "duration": 260,
    "start_time": "2023-10-09T18:11:19.504Z"
   },
   {
    "duration": 12,
    "start_time": "2023-10-09T18:20:46.927Z"
   },
   {
    "duration": 10,
    "start_time": "2023-10-09T18:21:01.791Z"
   },
   {
    "duration": 11,
    "start_time": "2023-10-09T18:21:08.151Z"
   },
   {
    "duration": 10,
    "start_time": "2023-10-09T18:21:51.331Z"
   },
   {
    "duration": 11,
    "start_time": "2023-10-09T18:21:58.574Z"
   },
   {
    "duration": 10,
    "start_time": "2023-10-09T18:22:04.680Z"
   },
   {
    "duration": 11,
    "start_time": "2023-10-09T18:22:07.112Z"
   },
   {
    "duration": 13,
    "start_time": "2023-10-09T18:22:17.196Z"
   },
   {
    "duration": 11,
    "start_time": "2023-10-09T18:22:27.170Z"
   },
   {
    "duration": 11,
    "start_time": "2023-10-09T18:22:33.174Z"
   },
   {
    "duration": 10,
    "start_time": "2023-10-09T18:22:40.703Z"
   },
   {
    "duration": 9,
    "start_time": "2023-10-09T18:22:42.907Z"
   },
   {
    "duration": 10,
    "start_time": "2023-10-09T18:22:53.156Z"
   },
   {
    "duration": 1385,
    "start_time": "2023-10-09T18:23:59.583Z"
   },
   {
    "duration": 76,
    "start_time": "2023-10-09T18:24:00.970Z"
   },
   {
    "duration": 35,
    "start_time": "2023-10-09T18:24:01.048Z"
   },
   {
    "duration": 57,
    "start_time": "2023-10-09T18:24:01.086Z"
   },
   {
    "duration": 67,
    "start_time": "2023-10-09T18:24:01.146Z"
   },
   {
    "duration": 91,
    "start_time": "2023-10-09T18:24:01.215Z"
   },
   {
    "duration": 43,
    "start_time": "2023-10-09T18:24:01.308Z"
   },
   {
    "duration": 115,
    "start_time": "2023-10-09T18:24:01.353Z"
   },
   {
    "duration": 49,
    "start_time": "2023-10-09T18:24:01.470Z"
   },
   {
    "duration": 45,
    "start_time": "2023-10-09T18:24:01.522Z"
   },
   {
    "duration": 75,
    "start_time": "2023-10-09T18:24:01.569Z"
   },
   {
    "duration": 59,
    "start_time": "2023-10-09T18:24:01.646Z"
   },
   {
    "duration": 65,
    "start_time": "2023-10-09T18:24:01.707Z"
   },
   {
    "duration": 81,
    "start_time": "2023-10-09T18:24:01.774Z"
   },
   {
    "duration": 71,
    "start_time": "2023-10-09T18:24:01.857Z"
   },
   {
    "duration": 21,
    "start_time": "2023-10-09T18:24:01.930Z"
   },
   {
    "duration": 51,
    "start_time": "2023-10-09T18:24:01.953Z"
   },
   {
    "duration": 250,
    "start_time": "2023-10-09T18:24:02.006Z"
   },
   {
    "duration": 25,
    "start_time": "2023-10-09T18:24:02.259Z"
   },
   {
    "duration": 10,
    "start_time": "2023-10-09T18:24:02.285Z"
   },
   {
    "duration": 69,
    "start_time": "2023-10-09T18:24:02.297Z"
   },
   {
    "duration": 45,
    "start_time": "2023-10-09T18:24:02.367Z"
   },
   {
    "duration": 66,
    "start_time": "2023-10-09T18:24:02.414Z"
   },
   {
    "duration": 37,
    "start_time": "2023-10-09T18:24:02.482Z"
   },
   {
    "duration": 26,
    "start_time": "2023-10-09T18:24:02.521Z"
   },
   {
    "duration": 53,
    "start_time": "2023-10-09T18:24:02.549Z"
   },
   {
    "duration": 258,
    "start_time": "2023-10-09T18:24:02.604Z"
   },
   {
    "duration": 101,
    "start_time": "2023-10-09T18:24:02.869Z"
   },
   {
    "duration": 70,
    "start_time": "2023-10-09T18:24:02.973Z"
   },
   {
    "duration": 17,
    "start_time": "2023-10-09T18:24:03.045Z"
   },
   {
    "duration": 28,
    "start_time": "2023-10-09T18:24:03.064Z"
   },
   {
    "duration": 12,
    "start_time": "2023-10-09T18:24:03.094Z"
   },
   {
    "duration": 281,
    "start_time": "2023-10-09T18:24:03.108Z"
   },
   {
    "duration": 303,
    "start_time": "2023-10-09T18:24:03.391Z"
   },
   {
    "duration": 201,
    "start_time": "2023-10-09T18:24:03.696Z"
   },
   {
    "duration": 9,
    "start_time": "2023-10-09T18:24:03.899Z"
   },
   {
    "duration": 130,
    "start_time": "2023-10-09T18:24:03.909Z"
   },
   {
    "duration": 53,
    "start_time": "2023-10-09T18:24:04.040Z"
   },
   {
    "duration": 10,
    "start_time": "2023-10-09T18:24:04.095Z"
   },
   {
    "duration": 51,
    "start_time": "2023-10-09T18:24:04.107Z"
   },
   {
    "duration": 24,
    "start_time": "2023-10-09T18:24:04.160Z"
   },
   {
    "duration": 98,
    "start_time": "2023-10-09T18:24:04.185Z"
   },
   {
    "duration": 341,
    "start_time": "2023-10-09T18:24:04.285Z"
   },
   {
    "duration": 53,
    "start_time": "2023-10-09T18:24:04.629Z"
   },
   {
    "duration": 2,
    "start_time": "2023-10-09T18:24:04.684Z"
   },
   {
    "duration": 26,
    "start_time": "2023-10-09T18:24:04.688Z"
   },
   {
    "duration": 41,
    "start_time": "2023-10-09T18:24:04.716Z"
   },
   {
    "duration": 45,
    "start_time": "2023-10-09T18:24:04.759Z"
   },
   {
    "duration": 253,
    "start_time": "2023-10-09T18:24:04.806Z"
   },
   {
    "duration": 28,
    "start_time": "2023-10-09T18:24:05.060Z"
   },
   {
    "duration": 23,
    "start_time": "2023-10-09T18:24:05.090Z"
   },
   {
    "duration": 4,
    "start_time": "2023-10-09T18:24:05.115Z"
   },
   {
    "duration": 42,
    "start_time": "2023-10-09T18:24:05.121Z"
   },
   {
    "duration": 185,
    "start_time": "2023-10-09T18:24:05.165Z"
   },
   {
    "duration": 14,
    "start_time": "2023-10-09T18:24:05.356Z"
   },
   {
    "duration": 38,
    "start_time": "2023-10-09T18:24:05.371Z"
   },
   {
    "duration": 231,
    "start_time": "2023-10-09T18:24:05.410Z"
   },
   {
    "duration": 273,
    "start_time": "2023-10-09T18:24:05.643Z"
   },
   {
    "duration": 329,
    "start_time": "2023-10-09T18:24:05.918Z"
   },
   {
    "duration": 307,
    "start_time": "2023-10-09T18:24:06.256Z"
   },
   {
    "duration": 194,
    "start_time": "2023-10-09T18:24:06.565Z"
   },
   {
    "duration": 219,
    "start_time": "2023-10-09T18:24:06.761Z"
   },
   {
    "duration": 159,
    "start_time": "2023-10-09T18:24:06.983Z"
   },
   {
    "duration": 12,
    "start_time": "2023-10-09T18:24:07.145Z"
   },
   {
    "duration": 1659,
    "start_time": "2023-10-09T18:24:07.159Z"
   },
   {
    "duration": 48,
    "start_time": "2023-10-09T18:24:08.820Z"
   },
   {
    "duration": 13,
    "start_time": "2023-10-09T18:24:08.870Z"
   },
   {
    "duration": 379,
    "start_time": "2023-10-09T18:24:08.886Z"
   },
   {
    "duration": 12,
    "start_time": "2023-10-09T18:24:09.267Z"
   },
   {
    "duration": 479,
    "start_time": "2023-10-09T18:24:09.280Z"
   },
   {
    "duration": 306,
    "start_time": "2023-10-09T18:24:09.761Z"
   },
   {
    "duration": 305,
    "start_time": "2023-10-09T18:24:10.068Z"
   },
   {
    "duration": 16,
    "start_time": "2023-10-09T18:24:10.374Z"
   },
   {
    "duration": 26,
    "start_time": "2023-10-09T18:24:10.392Z"
   },
   {
    "duration": 305,
    "start_time": "2023-10-09T18:24:10.420Z"
   },
   {
    "duration": 30,
    "start_time": "2023-10-09T18:24:10.726Z"
   },
   {
    "duration": 309,
    "start_time": "2023-10-09T18:24:10.758Z"
   },
   {
    "duration": 338,
    "start_time": "2023-10-09T18:24:11.069Z"
   },
   {
    "duration": 253,
    "start_time": "2023-10-09T18:24:11.409Z"
   },
   {
    "duration": 19,
    "start_time": "2023-10-09T18:24:11.664Z"
   },
   {
    "duration": 234,
    "start_time": "2023-10-09T18:24:11.684Z"
   },
   {
    "duration": 4,
    "start_time": "2023-10-09T18:24:11.925Z"
   },
   {
    "duration": 225,
    "start_time": "2023-10-09T18:24:11.931Z"
   },
   {
    "duration": 15,
    "start_time": "2023-10-09T18:24:12.158Z"
   },
   {
    "duration": 49,
    "start_time": "2023-10-09T18:24:12.175Z"
   },
   {
    "duration": 275,
    "start_time": "2023-10-09T18:24:12.226Z"
   },
   {
    "duration": 280,
    "start_time": "2023-10-09T18:24:12.503Z"
   },
   {
    "duration": 276,
    "start_time": "2023-10-09T18:24:12.785Z"
   },
   {
    "duration": 18,
    "start_time": "2023-10-09T18:24:13.063Z"
   },
   {
    "duration": 289,
    "start_time": "2023-10-09T18:24:13.083Z"
   },
   {
    "duration": 339,
    "start_time": "2023-10-09T18:24:13.374Z"
   },
   {
    "duration": 247,
    "start_time": "2023-10-09T18:24:13.715Z"
   },
   {
    "duration": 19,
    "start_time": "2023-10-09T18:24:13.964Z"
   },
   {
    "duration": 228,
    "start_time": "2023-10-09T18:24:13.984Z"
   },
   {
    "duration": 242,
    "start_time": "2023-10-09T18:24:14.214Z"
   },
   {
    "duration": 15,
    "start_time": "2023-10-09T18:24:14.459Z"
   },
   {
    "duration": 34,
    "start_time": "2023-10-09T18:24:14.476Z"
   },
   {
    "duration": 281,
    "start_time": "2023-10-09T18:24:14.512Z"
   },
   {
    "duration": 325,
    "start_time": "2023-10-09T18:24:14.796Z"
   },
   {
    "duration": 18,
    "start_time": "2023-10-09T18:24:15.123Z"
   },
   {
    "duration": 340,
    "start_time": "2023-10-09T18:24:15.156Z"
   },
   {
    "duration": 314,
    "start_time": "2023-10-09T18:24:15.498Z"
   },
   {
    "duration": 230,
    "start_time": "2023-10-09T18:24:15.814Z"
   },
   {
    "duration": 24,
    "start_time": "2023-10-09T18:24:16.046Z"
   },
   {
    "duration": 9,
    "start_time": "2023-10-09T18:24:16.072Z"
   },
   {
    "duration": 347,
    "start_time": "2023-10-09T18:24:16.083Z"
   },
   {
    "duration": 227,
    "start_time": "2023-10-09T18:24:16.432Z"
   },
   {
    "duration": 15,
    "start_time": "2023-10-09T18:24:16.661Z"
   },
   {
    "duration": 29,
    "start_time": "2023-10-09T18:24:16.679Z"
   },
   {
    "duration": 320,
    "start_time": "2023-10-09T18:24:16.710Z"
   },
   {
    "duration": 32,
    "start_time": "2023-10-09T18:24:17.032Z"
   },
   {
    "duration": 320,
    "start_time": "2023-10-09T18:24:17.066Z"
   },
   {
    "duration": 22,
    "start_time": "2023-10-09T18:24:17.388Z"
   },
   {
    "duration": 278,
    "start_time": "2023-10-09T18:24:17.412Z"
   },
   {
    "duration": 22,
    "start_time": "2023-10-09T18:24:17.692Z"
   },
   {
    "duration": 17,
    "start_time": "2023-10-09T18:24:17.716Z"
   },
   {
    "duration": 28,
    "start_time": "2023-10-09T18:24:17.734Z"
   },
   {
    "duration": 29,
    "start_time": "2023-10-09T18:24:17.765Z"
   },
   {
    "duration": 14,
    "start_time": "2023-10-09T18:24:17.796Z"
   },
   {
    "duration": 11,
    "start_time": "2023-10-09T18:24:17.812Z"
   },
   {
    "duration": 323,
    "start_time": "2023-10-09T18:25:40.500Z"
   },
   {
    "duration": 439,
    "start_time": "2023-10-09T18:26:34.761Z"
   },
   {
    "duration": 245,
    "start_time": "2023-10-09T18:27:24.311Z"
   },
   {
    "duration": 242,
    "start_time": "2023-10-09T18:28:32.775Z"
   },
   {
    "duration": 227,
    "start_time": "2023-10-09T18:30:17.184Z"
   },
   {
    "duration": 1395,
    "start_time": "2023-10-09T18:30:52.242Z"
   },
   {
    "duration": 81,
    "start_time": "2023-10-09T18:30:53.639Z"
   },
   {
    "duration": 22,
    "start_time": "2023-10-09T18:30:53.722Z"
   },
   {
    "duration": 25,
    "start_time": "2023-10-09T18:30:53.746Z"
   },
   {
    "duration": 63,
    "start_time": "2023-10-09T18:30:53.773Z"
   },
   {
    "duration": 38,
    "start_time": "2023-10-09T18:30:53.838Z"
   },
   {
    "duration": 5,
    "start_time": "2023-10-09T18:30:53.877Z"
   },
   {
    "duration": 8,
    "start_time": "2023-10-09T18:30:53.884Z"
   },
   {
    "duration": 7,
    "start_time": "2023-10-09T18:30:53.893Z"
   },
   {
    "duration": 19,
    "start_time": "2023-10-09T18:30:53.903Z"
   },
   {
    "duration": 25,
    "start_time": "2023-10-09T18:30:53.924Z"
   },
   {
    "duration": 24,
    "start_time": "2023-10-09T18:30:53.950Z"
   },
   {
    "duration": 24,
    "start_time": "2023-10-09T18:30:53.976Z"
   },
   {
    "duration": 18,
    "start_time": "2023-10-09T18:30:54.001Z"
   },
   {
    "duration": 38,
    "start_time": "2023-10-09T18:30:54.021Z"
   },
   {
    "duration": 5,
    "start_time": "2023-10-09T18:30:54.061Z"
   },
   {
    "duration": 9,
    "start_time": "2023-10-09T18:30:54.068Z"
   },
   {
    "duration": 247,
    "start_time": "2023-10-09T18:30:54.079Z"
   },
   {
    "duration": 36,
    "start_time": "2023-10-09T18:30:54.328Z"
   },
   {
    "duration": 8,
    "start_time": "2023-10-09T18:30:54.366Z"
   },
   {
    "duration": 35,
    "start_time": "2023-10-09T18:30:54.375Z"
   },
   {
    "duration": 33,
    "start_time": "2023-10-09T18:30:54.412Z"
   },
   {
    "duration": 15,
    "start_time": "2023-10-09T18:30:54.447Z"
   },
   {
    "duration": 17,
    "start_time": "2023-10-09T18:30:54.464Z"
   },
   {
    "duration": 18,
    "start_time": "2023-10-09T18:30:54.483Z"
   },
   {
    "duration": 10,
    "start_time": "2023-10-09T18:30:54.503Z"
   },
   {
    "duration": 244,
    "start_time": "2023-10-09T18:30:54.515Z"
   },
   {
    "duration": 3,
    "start_time": "2023-10-09T18:30:54.764Z"
   },
   {
    "duration": 15,
    "start_time": "2023-10-09T18:30:54.769Z"
   },
   {
    "duration": 18,
    "start_time": "2023-10-09T18:30:54.786Z"
   },
   {
    "duration": 7,
    "start_time": "2023-10-09T18:30:54.806Z"
   },
   {
    "duration": 11,
    "start_time": "2023-10-09T18:30:54.816Z"
   },
   {
    "duration": 295,
    "start_time": "2023-10-09T18:30:54.829Z"
   },
   {
    "duration": 282,
    "start_time": "2023-10-09T18:30:55.125Z"
   },
   {
    "duration": 196,
    "start_time": "2023-10-09T18:30:55.409Z"
   },
   {
    "duration": 8,
    "start_time": "2023-10-09T18:30:55.607Z"
   },
   {
    "duration": 126,
    "start_time": "2023-10-09T18:30:55.617Z"
   },
   {
    "duration": 45,
    "start_time": "2023-10-09T18:30:55.745Z"
   },
   {
    "duration": 32,
    "start_time": "2023-10-09T18:30:55.791Z"
   },
   {
    "duration": 53,
    "start_time": "2023-10-09T18:30:55.824Z"
   },
   {
    "duration": 41,
    "start_time": "2023-10-09T18:30:55.878Z"
   },
   {
    "duration": 95,
    "start_time": "2023-10-09T18:30:55.921Z"
   },
   {
    "duration": 360,
    "start_time": "2023-10-09T18:30:56.019Z"
   },
   {
    "duration": 40,
    "start_time": "2023-10-09T18:30:56.381Z"
   },
   {
    "duration": 5,
    "start_time": "2023-10-09T18:30:56.422Z"
   },
   {
    "duration": 39,
    "start_time": "2023-10-09T18:30:56.429Z"
   },
   {
    "duration": 48,
    "start_time": "2023-10-09T18:30:56.470Z"
   },
   {
    "duration": 38,
    "start_time": "2023-10-09T18:30:56.520Z"
   },
   {
    "duration": 223,
    "start_time": "2023-10-09T18:30:56.560Z"
   },
   {
    "duration": 29,
    "start_time": "2023-10-09T18:30:56.785Z"
   },
   {
    "duration": 47,
    "start_time": "2023-10-09T18:30:56.816Z"
   },
   {
    "duration": 5,
    "start_time": "2023-10-09T18:30:56.866Z"
   },
   {
    "duration": 26,
    "start_time": "2023-10-09T18:30:56.873Z"
   },
   {
    "duration": 225,
    "start_time": "2023-10-09T18:30:56.901Z"
   },
   {
    "duration": 13,
    "start_time": "2023-10-09T18:30:57.128Z"
   },
   {
    "duration": 30,
    "start_time": "2023-10-09T18:30:57.156Z"
   },
   {
    "duration": 227,
    "start_time": "2023-10-09T18:30:57.188Z"
   },
   {
    "duration": 270,
    "start_time": "2023-10-09T18:30:57.417Z"
   },
   {
    "duration": 332,
    "start_time": "2023-10-09T18:30:57.689Z"
   },
   {
    "duration": 311,
    "start_time": "2023-10-09T18:30:58.023Z"
   },
   {
    "duration": 183,
    "start_time": "2023-10-09T18:30:58.335Z"
   },
   {
    "duration": 199,
    "start_time": "2023-10-09T18:30:58.520Z"
   },
   {
    "duration": 173,
    "start_time": "2023-10-09T18:30:58.721Z"
   },
   {
    "duration": 3,
    "start_time": "2023-10-09T18:30:58.896Z"
   },
   {
    "duration": 1682,
    "start_time": "2023-10-09T18:30:58.901Z"
   },
   {
    "duration": 24,
    "start_time": "2023-10-09T18:31:00.584Z"
   },
   {
    "duration": 17,
    "start_time": "2023-10-09T18:31:00.609Z"
   },
   {
    "duration": 373,
    "start_time": "2023-10-09T18:31:00.628Z"
   },
   {
    "duration": 10,
    "start_time": "2023-10-09T18:31:01.003Z"
   },
   {
    "duration": 526,
    "start_time": "2023-10-09T18:31:01.015Z"
   },
   {
    "duration": 298,
    "start_time": "2023-10-09T18:31:01.543Z"
   },
   {
    "duration": 314,
    "start_time": "2023-10-09T18:31:01.842Z"
   },
   {
    "duration": 15,
    "start_time": "2023-10-09T18:31:02.158Z"
   },
   {
    "duration": 143,
    "start_time": "2023-10-09T18:31:02.175Z"
   },
   {
    "duration": 319,
    "start_time": "2023-10-09T18:31:02.321Z"
   },
   {
    "duration": 27,
    "start_time": "2023-10-09T18:31:02.642Z"
   },
   {
    "duration": 404,
    "start_time": "2023-10-09T18:31:02.671Z"
   },
   {
    "duration": 329,
    "start_time": "2023-10-09T18:31:03.077Z"
   },
   {
    "duration": 249,
    "start_time": "2023-10-09T18:31:03.407Z"
   },
   {
    "duration": 19,
    "start_time": "2023-10-09T18:31:03.658Z"
   },
   {
    "duration": 249,
    "start_time": "2023-10-09T18:31:03.679Z"
   },
   {
    "duration": 5,
    "start_time": "2023-10-09T18:31:03.936Z"
   },
   {
    "duration": 230,
    "start_time": "2023-10-09T18:31:03.942Z"
   },
   {
    "duration": 15,
    "start_time": "2023-10-09T18:31:04.175Z"
   },
   {
    "duration": 32,
    "start_time": "2023-10-09T18:31:04.191Z"
   },
   {
    "duration": 270,
    "start_time": "2023-10-09T18:31:04.225Z"
   },
   {
    "duration": 263,
    "start_time": "2023-10-09T18:31:04.497Z"
   },
   {
    "duration": 280,
    "start_time": "2023-10-09T18:31:04.762Z"
   },
   {
    "duration": 22,
    "start_time": "2023-10-09T18:31:05.044Z"
   },
   {
    "duration": 281,
    "start_time": "2023-10-09T18:31:05.068Z"
   },
   {
    "duration": 325,
    "start_time": "2023-10-09T18:31:05.351Z"
   },
   {
    "duration": 239,
    "start_time": "2023-10-09T18:31:05.678Z"
   },
   {
    "duration": 17,
    "start_time": "2023-10-09T18:31:05.919Z"
   },
   {
    "duration": 221,
    "start_time": "2023-10-09T18:31:05.938Z"
   },
   {
    "duration": 247,
    "start_time": "2023-10-09T18:31:06.161Z"
   },
   {
    "duration": 15,
    "start_time": "2023-10-09T18:31:06.410Z"
   },
   {
    "duration": 51,
    "start_time": "2023-10-09T18:31:06.427Z"
   },
   {
    "duration": 355,
    "start_time": "2023-10-09T18:31:06.480Z"
   },
   {
    "duration": 346,
    "start_time": "2023-10-09T18:31:06.838Z"
   },
   {
    "duration": 18,
    "start_time": "2023-10-09T18:31:07.186Z"
   },
   {
    "duration": 378,
    "start_time": "2023-10-09T18:31:07.205Z"
   },
   {
    "duration": 303,
    "start_time": "2023-10-09T18:31:07.585Z"
   },
   {
    "duration": 251,
    "start_time": "2023-10-09T18:31:07.890Z"
   },
   {
    "duration": 28,
    "start_time": "2023-10-09T18:31:08.143Z"
   },
   {
    "duration": 35,
    "start_time": "2023-10-09T18:31:08.173Z"
   },
   {
    "duration": 338,
    "start_time": "2023-10-09T18:31:08.210Z"
   },
   {
    "duration": 227,
    "start_time": "2023-10-09T18:31:08.550Z"
   },
   {
    "duration": 13,
    "start_time": "2023-10-09T18:31:08.779Z"
   },
   {
    "duration": 58,
    "start_time": "2023-10-09T18:31:08.794Z"
   },
   {
    "duration": 366,
    "start_time": "2023-10-09T18:31:08.854Z"
   },
   {
    "duration": 34,
    "start_time": "2023-10-09T18:31:09.222Z"
   },
   {
    "duration": 352,
    "start_time": "2023-10-09T18:31:09.258Z"
   },
   {
    "duration": 23,
    "start_time": "2023-10-09T18:31:09.612Z"
   },
   {
    "duration": 300,
    "start_time": "2023-10-09T18:31:09.637Z"
   },
   {
    "duration": 34,
    "start_time": "2023-10-09T18:31:09.939Z"
   },
   {
    "duration": 21,
    "start_time": "2023-10-09T18:31:09.975Z"
   },
   {
    "duration": 59,
    "start_time": "2023-10-09T18:31:09.998Z"
   },
   {
    "duration": 36,
    "start_time": "2023-10-09T18:31:10.059Z"
   },
   {
    "duration": 16,
    "start_time": "2023-10-09T18:31:10.097Z"
   },
   {
    "duration": 33,
    "start_time": "2023-10-09T18:31:10.115Z"
   },
   {
    "duration": 1233,
    "start_time": "2023-10-09T20:01:03.601Z"
   },
   {
    "duration": 67,
    "start_time": "2023-10-09T20:01:04.835Z"
   },
   {
    "duration": 15,
    "start_time": "2023-10-09T20:01:04.904Z"
   },
   {
    "duration": 14,
    "start_time": "2023-10-09T20:01:04.921Z"
   },
   {
    "duration": 16,
    "start_time": "2023-10-09T20:01:04.938Z"
   },
   {
    "duration": 23,
    "start_time": "2023-10-09T20:01:04.955Z"
   },
   {
    "duration": 19,
    "start_time": "2023-10-09T20:01:04.979Z"
   },
   {
    "duration": 9,
    "start_time": "2023-10-09T20:01:05.000Z"
   },
   {
    "duration": 6,
    "start_time": "2023-10-09T20:01:05.010Z"
   },
   {
    "duration": 21,
    "start_time": "2023-10-09T20:01:05.017Z"
   },
   {
    "duration": 43,
    "start_time": "2023-10-09T20:01:05.040Z"
   },
   {
    "duration": 22,
    "start_time": "2023-10-09T20:01:05.085Z"
   },
   {
    "duration": 20,
    "start_time": "2023-10-09T20:01:05.108Z"
   },
   {
    "duration": 20,
    "start_time": "2023-10-09T20:01:05.131Z"
   },
   {
    "duration": 46,
    "start_time": "2023-10-09T20:01:05.153Z"
   },
   {
    "duration": 22,
    "start_time": "2023-10-09T20:01:05.201Z"
   },
   {
    "duration": 23,
    "start_time": "2023-10-09T20:01:05.225Z"
   },
   {
    "duration": 234,
    "start_time": "2023-10-09T20:01:05.250Z"
   },
   {
    "duration": 20,
    "start_time": "2023-10-09T20:01:05.485Z"
   },
   {
    "duration": 13,
    "start_time": "2023-10-09T20:01:05.506Z"
   },
   {
    "duration": 24,
    "start_time": "2023-10-09T20:01:05.521Z"
   },
   {
    "duration": 13,
    "start_time": "2023-10-09T20:01:05.546Z"
   },
   {
    "duration": 43,
    "start_time": "2023-10-09T20:01:05.560Z"
   },
   {
    "duration": 245,
    "start_time": "2023-10-09T20:01:05.605Z"
   },
   {
    "duration": 258,
    "start_time": "2023-10-09T20:01:05.852Z"
   },
   {
    "duration": 139,
    "start_time": "2023-10-09T20:01:06.111Z"
   },
   {
    "duration": 233,
    "start_time": "2023-10-09T20:01:06.252Z"
   },
   {
    "duration": 2,
    "start_time": "2023-10-09T20:01:06.487Z"
   },
   {
    "duration": 12,
    "start_time": "2023-10-09T20:01:06.491Z"
   },
   {
    "duration": 12,
    "start_time": "2023-10-09T20:01:06.505Z"
   },
   {
    "duration": 22,
    "start_time": "2023-10-09T20:01:06.519Z"
   },
   {
    "duration": 14,
    "start_time": "2023-10-09T20:01:06.542Z"
   },
   {
    "duration": 266,
    "start_time": "2023-10-09T20:01:06.557Z"
   },
   {
    "duration": 291,
    "start_time": "2023-10-09T20:01:06.825Z"
   },
   {
    "duration": 177,
    "start_time": "2023-10-09T20:01:07.118Z"
   },
   {
    "duration": 9,
    "start_time": "2023-10-09T20:01:07.297Z"
   },
   {
    "duration": 103,
    "start_time": "2023-10-09T20:01:07.307Z"
   },
   {
    "duration": 52,
    "start_time": "2023-10-09T20:01:07.412Z"
   },
   {
    "duration": 11,
    "start_time": "2023-10-09T20:01:07.466Z"
   },
   {
    "duration": 38,
    "start_time": "2023-10-09T20:01:07.479Z"
   },
   {
    "duration": 3,
    "start_time": "2023-10-09T20:01:07.524Z"
   },
   {
    "duration": 173,
    "start_time": "2023-10-09T20:01:07.529Z"
   },
   {
    "duration": 222,
    "start_time": "2023-10-09T20:01:07.704Z"
   },
   {
    "duration": 51,
    "start_time": "2023-10-09T20:01:07.928Z"
   },
   {
    "duration": 2,
    "start_time": "2023-10-09T20:01:07.981Z"
   },
   {
    "duration": 24,
    "start_time": "2023-10-09T20:01:07.985Z"
   },
   {
    "duration": 42,
    "start_time": "2023-10-09T20:01:08.011Z"
   },
   {
    "duration": 38,
    "start_time": "2023-10-09T20:01:08.054Z"
   },
   {
    "duration": 230,
    "start_time": "2023-10-09T20:01:08.094Z"
   },
   {
    "duration": 36,
    "start_time": "2023-10-09T20:01:08.326Z"
   },
   {
    "duration": 25,
    "start_time": "2023-10-09T20:01:08.364Z"
   },
   {
    "duration": 4,
    "start_time": "2023-10-09T20:01:08.392Z"
   },
   {
    "duration": 22,
    "start_time": "2023-10-09T20:01:08.398Z"
   },
   {
    "duration": 170,
    "start_time": "2023-10-09T20:01:08.422Z"
   },
   {
    "duration": 12,
    "start_time": "2023-10-09T20:01:08.593Z"
   },
   {
    "duration": 60,
    "start_time": "2023-10-09T20:01:08.607Z"
   },
   {
    "duration": 206,
    "start_time": "2023-10-09T20:01:08.669Z"
   },
   {
    "duration": 247,
    "start_time": "2023-10-09T20:01:08.877Z"
   },
   {
    "duration": 309,
    "start_time": "2023-10-09T20:01:09.126Z"
   },
   {
    "duration": 270,
    "start_time": "2023-10-09T20:01:09.437Z"
   },
   {
    "duration": 169,
    "start_time": "2023-10-09T20:01:09.709Z"
   },
   {
    "duration": 185,
    "start_time": "2023-10-09T20:01:09.880Z"
   },
   {
    "duration": 124,
    "start_time": "2023-10-09T20:01:10.067Z"
   },
   {
    "duration": 3,
    "start_time": "2023-10-09T20:01:10.192Z"
   },
   {
    "duration": 1402,
    "start_time": "2023-10-09T20:01:10.197Z"
   },
   {
    "duration": 22,
    "start_time": "2023-10-09T20:01:11.600Z"
   },
   {
    "duration": 24,
    "start_time": "2023-10-09T20:01:11.624Z"
   },
   {
    "duration": 310,
    "start_time": "2023-10-09T20:01:11.650Z"
   },
   {
    "duration": 9,
    "start_time": "2023-10-09T20:01:11.962Z"
   },
   {
    "duration": 451,
    "start_time": "2023-10-09T20:01:11.973Z"
   },
   {
    "duration": 318,
    "start_time": "2023-10-09T20:01:12.426Z"
   },
   {
    "duration": 313,
    "start_time": "2023-10-09T20:01:12.746Z"
   },
   {
    "duration": 14,
    "start_time": "2023-10-09T20:01:13.062Z"
   },
   {
    "duration": 39,
    "start_time": "2023-10-09T20:01:13.077Z"
   },
   {
    "duration": 297,
    "start_time": "2023-10-09T20:01:13.117Z"
   },
   {
    "duration": 17,
    "start_time": "2023-10-09T20:01:13.415Z"
   },
   {
    "duration": 304,
    "start_time": "2023-10-09T20:01:13.433Z"
   },
   {
    "duration": 296,
    "start_time": "2023-10-09T20:01:13.739Z"
   },
   {
    "duration": 292,
    "start_time": "2023-10-09T20:01:14.037Z"
   },
   {
    "duration": 27,
    "start_time": "2023-10-09T20:01:14.331Z"
   },
   {
    "duration": 236,
    "start_time": "2023-10-09T20:01:14.360Z"
   },
   {
    "duration": 4,
    "start_time": "2023-10-09T20:01:14.598Z"
   },
   {
    "duration": 212,
    "start_time": "2023-10-09T20:01:14.603Z"
   },
   {
    "duration": 14,
    "start_time": "2023-10-09T20:01:14.817Z"
   },
   {
    "duration": 26,
    "start_time": "2023-10-09T20:01:14.833Z"
   },
   {
    "duration": 258,
    "start_time": "2023-10-09T20:01:14.860Z"
   },
   {
    "duration": 250,
    "start_time": "2023-10-09T20:01:15.120Z"
   },
   {
    "duration": 235,
    "start_time": "2023-10-09T20:01:15.372Z"
   },
   {
    "duration": 17,
    "start_time": "2023-10-09T20:01:15.609Z"
   },
   {
    "duration": 265,
    "start_time": "2023-10-09T20:01:15.628Z"
   },
   {
    "duration": 298,
    "start_time": "2023-10-09T20:01:15.895Z"
   },
   {
    "duration": 243,
    "start_time": "2023-10-09T20:01:16.194Z"
   },
   {
    "duration": 18,
    "start_time": "2023-10-09T20:01:16.439Z"
   },
   {
    "duration": 274,
    "start_time": "2023-10-09T20:01:16.459Z"
   },
   {
    "duration": 213,
    "start_time": "2023-10-09T20:01:16.735Z"
   },
   {
    "duration": 14,
    "start_time": "2023-10-09T20:01:16.949Z"
   },
   {
    "duration": 42,
    "start_time": "2023-10-09T20:01:16.965Z"
   },
   {
    "duration": 222,
    "start_time": "2023-10-09T20:01:17.009Z"
   },
   {
    "duration": 274,
    "start_time": "2023-10-09T20:01:17.233Z"
   },
   {
    "duration": 15,
    "start_time": "2023-10-09T20:01:17.509Z"
   },
   {
    "duration": 302,
    "start_time": "2023-10-09T20:01:17.525Z"
   },
   {
    "duration": 267,
    "start_time": "2023-10-09T20:01:17.828Z"
   },
   {
    "duration": 210,
    "start_time": "2023-10-09T20:01:18.097Z"
   },
   {
    "duration": 16,
    "start_time": "2023-10-09T20:01:18.309Z"
   },
   {
    "duration": 21,
    "start_time": "2023-10-09T20:01:18.327Z"
   },
   {
    "duration": 305,
    "start_time": "2023-10-09T20:01:18.350Z"
   },
   {
    "duration": 201,
    "start_time": "2023-10-09T20:01:18.657Z"
   },
   {
    "duration": 14,
    "start_time": "2023-10-09T20:01:18.860Z"
   },
   {
    "duration": 19,
    "start_time": "2023-10-09T20:01:18.875Z"
   },
   {
    "duration": 281,
    "start_time": "2023-10-09T20:01:18.896Z"
   },
   {
    "duration": 19,
    "start_time": "2023-10-09T20:01:19.178Z"
   },
   {
    "duration": 308,
    "start_time": "2023-10-09T20:01:19.198Z"
   },
   {
    "duration": 20,
    "start_time": "2023-10-09T20:01:19.507Z"
   },
   {
    "duration": 257,
    "start_time": "2023-10-09T20:01:19.528Z"
   },
   {
    "duration": 21,
    "start_time": "2023-10-09T20:01:19.787Z"
   },
   {
    "duration": 73,
    "start_time": "2023-10-09T20:01:19.810Z"
   },
   {
    "duration": 38,
    "start_time": "2023-10-09T20:01:19.884Z"
   },
   {
    "duration": 80,
    "start_time": "2023-10-09T20:01:19.923Z"
   },
   {
    "duration": 48,
    "start_time": "2023-10-09T20:01:20.005Z"
   },
   {
    "duration": 87,
    "start_time": "2023-10-09T20:01:20.054Z"
   },
   {
    "duration": 4,
    "start_time": "2023-10-09T20:39:48.681Z"
   },
   {
    "duration": 1327,
    "start_time": "2023-10-09T20:39:55.549Z"
   },
   {
    "duration": 116,
    "start_time": "2023-10-09T20:39:56.878Z"
   },
   {
    "duration": 18,
    "start_time": "2023-10-09T20:39:56.996Z"
   },
   {
    "duration": 12,
    "start_time": "2023-10-09T20:39:57.017Z"
   },
   {
    "duration": 15,
    "start_time": "2023-10-09T20:39:57.031Z"
   },
   {
    "duration": 29,
    "start_time": "2023-10-09T20:39:57.048Z"
   },
   {
    "duration": 3,
    "start_time": "2023-10-09T20:39:57.078Z"
   },
   {
    "duration": 14,
    "start_time": "2023-10-09T20:39:57.082Z"
   },
   {
    "duration": 13,
    "start_time": "2023-10-09T20:39:57.098Z"
   },
   {
    "duration": 8,
    "start_time": "2023-10-09T20:39:57.114Z"
   },
   {
    "duration": 20,
    "start_time": "2023-10-09T20:39:57.124Z"
   },
   {
    "duration": 5,
    "start_time": "2023-10-09T20:40:41.631Z"
   },
   {
    "duration": 3,
    "start_time": "2023-10-09T20:40:42.862Z"
   },
   {
    "duration": 29,
    "start_time": "2023-10-09T20:40:52.138Z"
   },
   {
    "duration": 38,
    "start_time": "2023-10-09T20:41:28.429Z"
   },
   {
    "duration": 3,
    "start_time": "2023-10-09T20:58:07.009Z"
   },
   {
    "duration": 1530,
    "start_time": "2023-10-09T20:59:08.498Z"
   },
   {
    "duration": 4,
    "start_time": "2023-10-09T20:59:15.712Z"
   },
   {
    "duration": 69,
    "start_time": "2023-10-09T20:59:15.718Z"
   },
   {
    "duration": 13,
    "start_time": "2023-10-09T20:59:15.788Z"
   },
   {
    "duration": 14,
    "start_time": "2023-10-09T20:59:15.802Z"
   },
   {
    "duration": 23,
    "start_time": "2023-10-09T20:59:15.818Z"
   },
   {
    "duration": 35,
    "start_time": "2023-10-09T20:59:15.842Z"
   },
   {
    "duration": 2,
    "start_time": "2023-10-09T20:59:15.879Z"
   },
   {
    "duration": 15,
    "start_time": "2023-10-09T20:59:15.882Z"
   },
   {
    "duration": 7,
    "start_time": "2023-10-09T20:59:15.900Z"
   },
   {
    "duration": 10,
    "start_time": "2023-10-09T20:59:15.909Z"
   },
   {
    "duration": 39,
    "start_time": "2023-10-09T20:59:15.921Z"
   },
   {
    "duration": 2,
    "start_time": "2023-10-09T20:59:15.962Z"
   },
   {
    "duration": 4,
    "start_time": "2023-10-09T20:59:15.968Z"
   },
   {
    "duration": 19,
    "start_time": "2023-10-09T20:59:15.974Z"
   },
   {
    "duration": 18,
    "start_time": "2023-10-09T20:59:15.995Z"
   },
   {
    "duration": 35,
    "start_time": "2023-10-09T20:59:16.015Z"
   },
   {
    "duration": 31,
    "start_time": "2023-10-09T20:59:16.052Z"
   },
   {
    "duration": 5,
    "start_time": "2023-10-09T20:59:16.085Z"
   },
   {
    "duration": 8,
    "start_time": "2023-10-09T20:59:16.092Z"
   },
   {
    "duration": 217,
    "start_time": "2023-10-09T20:59:16.102Z"
   },
   {
    "duration": 32,
    "start_time": "2023-10-09T20:59:16.321Z"
   },
   {
    "duration": 9,
    "start_time": "2023-10-09T20:59:16.354Z"
   },
   {
    "duration": 12,
    "start_time": "2023-10-09T20:59:16.369Z"
   },
   {
    "duration": 17,
    "start_time": "2023-10-09T20:59:16.383Z"
   },
   {
    "duration": 12,
    "start_time": "2023-10-09T20:59:16.402Z"
   },
   {
    "duration": 26,
    "start_time": "2023-10-09T20:59:16.416Z"
   },
   {
    "duration": 3,
    "start_time": "2023-10-09T20:59:16.443Z"
   },
   {
    "duration": 12,
    "start_time": "2023-10-09T20:59:16.447Z"
   },
   {
    "duration": 211,
    "start_time": "2023-10-09T20:59:16.461Z"
   },
   {
    "duration": 2,
    "start_time": "2023-10-09T20:59:16.674Z"
   },
   {
    "duration": 12,
    "start_time": "2023-10-09T20:59:16.678Z"
   },
   {
    "duration": 16,
    "start_time": "2023-10-09T20:59:16.692Z"
   },
   {
    "duration": 9,
    "start_time": "2023-10-09T20:59:16.710Z"
   },
   {
    "duration": 18,
    "start_time": "2023-10-09T20:59:16.721Z"
   },
   {
    "duration": 245,
    "start_time": "2023-10-09T20:59:16.741Z"
   },
   {
    "duration": 243,
    "start_time": "2023-10-09T20:59:16.988Z"
   },
   {
    "duration": 179,
    "start_time": "2023-10-09T20:59:17.242Z"
   },
   {
    "duration": 8,
    "start_time": "2023-10-09T20:59:17.423Z"
   },
   {
    "duration": 87,
    "start_time": "2023-10-09T20:59:17.432Z"
   },
   {
    "duration": 40,
    "start_time": "2023-10-09T20:59:17.521Z"
   },
   {
    "duration": 7,
    "start_time": "2023-10-09T20:59:17.563Z"
   },
   {
    "duration": 12,
    "start_time": "2023-10-09T20:59:17.572Z"
   },
   {
    "duration": 3,
    "start_time": "2023-10-09T20:59:17.586Z"
   },
   {
    "duration": 136,
    "start_time": "2023-10-09T20:59:17.590Z"
   },
   {
    "duration": 266,
    "start_time": "2023-10-09T20:59:17.728Z"
   },
   {
    "duration": 32,
    "start_time": "2023-10-09T20:59:17.996Z"
   },
   {
    "duration": 10,
    "start_time": "2023-10-09T20:59:18.029Z"
   },
   {
    "duration": 41,
    "start_time": "2023-10-09T20:59:18.040Z"
   },
   {
    "duration": 86,
    "start_time": "2023-10-09T20:59:18.082Z"
   },
   {
    "duration": 36,
    "start_time": "2023-10-09T20:59:18.169Z"
   },
   {
    "duration": 188,
    "start_time": "2023-10-09T20:59:18.206Z"
   },
   {
    "duration": 25,
    "start_time": "2023-10-09T20:59:18.395Z"
   },
   {
    "duration": 39,
    "start_time": "2023-10-09T20:59:18.421Z"
   },
   {
    "duration": 4,
    "start_time": "2023-10-09T20:59:18.461Z"
   },
   {
    "duration": 19,
    "start_time": "2023-10-09T20:59:18.467Z"
   },
   {
    "duration": 162,
    "start_time": "2023-10-09T20:59:18.487Z"
   },
   {
    "duration": 11,
    "start_time": "2023-10-09T20:59:18.650Z"
   },
   {
    "duration": 19,
    "start_time": "2023-10-09T20:59:18.662Z"
   },
   {
    "duration": 208,
    "start_time": "2023-10-09T20:59:18.682Z"
   },
   {
    "duration": 231,
    "start_time": "2023-10-09T20:59:18.891Z"
   },
   {
    "duration": 271,
    "start_time": "2023-10-09T20:59:19.123Z"
   },
   {
    "duration": 266,
    "start_time": "2023-10-09T20:59:19.395Z"
   },
   {
    "duration": 161,
    "start_time": "2023-10-09T20:59:19.663Z"
   },
   {
    "duration": 173,
    "start_time": "2023-10-09T20:59:19.825Z"
   },
   {
    "duration": 105,
    "start_time": "2023-10-09T20:59:20.000Z"
   },
   {
    "duration": 3,
    "start_time": "2023-10-09T20:59:20.106Z"
   },
   {
    "duration": 32,
    "start_time": "2023-10-09T20:59:20.111Z"
   },
   {
    "duration": 1440,
    "start_time": "2023-10-09T20:59:21.272Z"
   },
   {
    "duration": 1361,
    "start_time": "2023-10-09T20:59:40.712Z"
   },
   {
    "duration": 1361,
    "start_time": "2023-10-09T20:59:50.080Z"
   },
   {
    "duration": 102,
    "start_time": "2023-10-09T21:00:07.507Z"
   },
   {
    "duration": 137,
    "start_time": "2023-10-09T21:02:33.589Z"
   },
   {
    "duration": 98,
    "start_time": "2023-10-09T21:02:54.738Z"
   },
   {
    "duration": 89,
    "start_time": "2023-10-09T21:03:01.409Z"
   },
   {
    "duration": 116,
    "start_time": "2023-10-09T21:03:19.993Z"
   },
   {
    "duration": 810,
    "start_time": "2023-10-09T21:04:20.181Z"
   },
   {
    "duration": 891,
    "start_time": "2023-10-09T21:04:34.423Z"
   },
   {
    "duration": 832,
    "start_time": "2023-10-09T21:04:49.308Z"
   },
   {
    "duration": 1513,
    "start_time": "2023-10-09T21:05:10.634Z"
   },
   {
    "duration": 866,
    "start_time": "2023-10-09T21:05:37.629Z"
   },
   {
    "duration": 935,
    "start_time": "2023-10-09T21:06:38.545Z"
   },
   {
    "duration": 820,
    "start_time": "2023-10-09T21:06:53.480Z"
   },
   {
    "duration": 855,
    "start_time": "2023-10-09T21:07:19.237Z"
   },
   {
    "duration": 903,
    "start_time": "2023-10-09T21:08:45.873Z"
   },
   {
    "duration": 275,
    "start_time": "2023-10-09T21:09:22.672Z"
   },
   {
    "duration": 870,
    "start_time": "2023-10-09T21:09:27.477Z"
   },
   {
    "duration": 311,
    "start_time": "2023-10-09T21:10:01.507Z"
   },
   {
    "duration": 324,
    "start_time": "2023-10-09T21:10:08.399Z"
   },
   {
    "duration": 311,
    "start_time": "2023-10-09T21:11:09.708Z"
   },
   {
    "duration": 285,
    "start_time": "2023-10-09T21:11:39.716Z"
   },
   {
    "duration": 337,
    "start_time": "2023-10-09T21:11:48.710Z"
   },
   {
    "duration": 352,
    "start_time": "2023-10-09T21:12:00.912Z"
   },
   {
    "duration": 746,
    "start_time": "2023-10-09T21:17:22.700Z"
   },
   {
    "duration": 736,
    "start_time": "2023-10-09T21:17:31.641Z"
   },
   {
    "duration": 729,
    "start_time": "2023-10-09T21:17:48.599Z"
   },
   {
    "duration": 675,
    "start_time": "2023-10-09T21:18:03.649Z"
   },
   {
    "duration": 996,
    "start_time": "2023-10-09T21:18:21.909Z"
   },
   {
    "duration": 650,
    "start_time": "2023-10-09T21:22:46.380Z"
   },
   {
    "duration": 93,
    "start_time": "2023-10-09T21:23:59.935Z"
   },
   {
    "duration": 142,
    "start_time": "2023-10-09T21:24:06.579Z"
   },
   {
    "duration": 142,
    "start_time": "2023-10-09T21:24:22.035Z"
   },
   {
    "duration": 134,
    "start_time": "2023-10-09T21:24:46.191Z"
   },
   {
    "duration": 141,
    "start_time": "2023-10-09T21:25:06.539Z"
   },
   {
    "duration": 905,
    "start_time": "2023-10-09T21:25:20.225Z"
   },
   {
    "duration": 329,
    "start_time": "2023-10-09T21:25:38.394Z"
   },
   {
    "duration": 313,
    "start_time": "2023-10-09T21:25:53.465Z"
   },
   {
    "duration": 715,
    "start_time": "2023-10-09T21:26:08.064Z"
   },
   {
    "duration": 322,
    "start_time": "2023-10-09T21:26:17.728Z"
   },
   {
    "duration": 320,
    "start_time": "2023-10-09T21:26:40.909Z"
   },
   {
    "duration": 364,
    "start_time": "2023-10-09T21:26:47.185Z"
   },
   {
    "duration": 150,
    "start_time": "2023-10-09T21:27:36.065Z"
   },
   {
    "duration": 180,
    "start_time": "2023-10-09T21:27:42.482Z"
   },
   {
    "duration": 142,
    "start_time": "2023-10-09T21:28:50.801Z"
   },
   {
    "duration": 336,
    "start_time": "2023-10-09T21:28:57.437Z"
   },
   {
    "duration": 428,
    "start_time": "2023-10-09T21:30:09.833Z"
   },
   {
    "duration": 204,
    "start_time": "2023-10-09T21:30:20.725Z"
   },
   {
    "duration": 361,
    "start_time": "2023-10-09T21:30:31.758Z"
   },
   {
    "duration": 92,
    "start_time": "2023-10-09T21:30:47.479Z"
   },
   {
    "duration": 357,
    "start_time": "2023-10-09T21:30:52.797Z"
   },
   {
    "duration": 702,
    "start_time": "2023-10-09T21:31:00.885Z"
   },
   {
    "duration": 758,
    "start_time": "2023-10-09T21:31:11.468Z"
   },
   {
    "duration": 690,
    "start_time": "2023-10-09T21:31:18.737Z"
   },
   {
    "duration": 424,
    "start_time": "2023-10-09T21:31:29.464Z"
   },
   {
    "duration": 430,
    "start_time": "2023-10-09T21:32:07.198Z"
   },
   {
    "duration": 361,
    "start_time": "2023-10-09T21:32:28.489Z"
   },
   {
    "duration": 367,
    "start_time": "2023-10-09T21:32:33.463Z"
   },
   {
    "duration": 377,
    "start_time": "2023-10-09T21:35:10.090Z"
   },
   {
    "duration": 1131,
    "start_time": "2023-10-09T21:39:26.651Z"
   },
   {
    "duration": 130,
    "start_time": "2023-10-09T21:39:45.190Z"
   },
   {
    "duration": 992,
    "start_time": "2023-10-09T21:39:54.415Z"
   },
   {
    "duration": 434,
    "start_time": "2023-10-09T21:40:06.093Z"
   },
   {
    "duration": 375,
    "start_time": "2023-10-09T21:40:15.537Z"
   },
   {
    "duration": 446,
    "start_time": "2023-10-09T21:41:06.032Z"
   },
   {
    "duration": 274,
    "start_time": "2023-10-09T21:41:17.948Z"
   },
   {
    "duration": 310,
    "start_time": "2023-10-09T21:41:35.278Z"
   },
   {
    "duration": 302,
    "start_time": "2023-10-09T21:41:41.744Z"
   },
   {
    "duration": 359,
    "start_time": "2023-10-09T21:41:55.494Z"
   },
   {
    "duration": 413,
    "start_time": "2023-10-09T21:42:04.043Z"
   },
   {
    "duration": 8,
    "start_time": "2023-10-09T21:45:08.577Z"
   },
   {
    "duration": 4,
    "start_time": "2023-10-09T21:46:44.098Z"
   },
   {
    "duration": 360,
    "start_time": "2023-10-09T21:47:16.391Z"
   },
   {
    "duration": 448,
    "start_time": "2023-10-09T21:47:33.404Z"
   },
   {
    "duration": 209,
    "start_time": "2023-10-09T21:47:58.705Z"
   },
   {
    "duration": 24,
    "start_time": "2023-10-09T21:48:11.168Z"
   },
   {
    "duration": 356,
    "start_time": "2023-10-09T21:48:29.448Z"
   },
   {
    "duration": 303,
    "start_time": "2023-10-09T21:51:13.779Z"
   },
   {
    "duration": 671,
    "start_time": "2023-10-09T21:51:25.626Z"
   },
   {
    "duration": 623,
    "start_time": "2023-10-09T21:51:39.211Z"
   },
   {
    "duration": 577,
    "start_time": "2023-10-09T21:52:01.214Z"
   },
   {
    "duration": 507,
    "start_time": "2023-10-09T21:52:08.389Z"
   },
   {
    "duration": 419,
    "start_time": "2023-10-09T21:52:18.688Z"
   },
   {
    "duration": 500,
    "start_time": "2023-10-09T21:52:36.888Z"
   },
   {
    "duration": 427,
    "start_time": "2023-10-09T21:52:46.992Z"
   },
   {
    "duration": 468,
    "start_time": "2023-10-09T21:52:52.386Z"
   },
   {
    "duration": 519,
    "start_time": "2023-10-09T21:53:12.308Z"
   },
   {
    "duration": 449,
    "start_time": "2023-10-09T21:53:33.319Z"
   },
   {
    "duration": 636,
    "start_time": "2023-10-09T21:54:04.899Z"
   },
   {
    "duration": 607,
    "start_time": "2023-10-09T21:54:29.881Z"
   },
   {
    "duration": 516,
    "start_time": "2023-10-09T21:54:37.579Z"
   },
   {
    "duration": 645,
    "start_time": "2023-10-09T21:55:10.758Z"
   },
   {
    "duration": 531,
    "start_time": "2023-10-09T21:55:37.033Z"
   },
   {
    "duration": 515,
    "start_time": "2023-10-09T21:55:54.810Z"
   },
   {
    "duration": 520,
    "start_time": "2023-10-09T21:56:17.556Z"
   },
   {
    "duration": 530,
    "start_time": "2023-10-09T21:56:26.935Z"
   },
   {
    "duration": 1216,
    "start_time": "2023-10-09T22:01:37.280Z"
   },
   {
    "duration": 534,
    "start_time": "2023-10-09T22:02:27.570Z"
   },
   {
    "duration": 541,
    "start_time": "2023-10-09T22:02:39.653Z"
   },
   {
    "duration": 4,
    "start_time": "2023-10-09T22:04:41.309Z"
   },
   {
    "duration": 312,
    "start_time": "2023-10-09T22:06:36.037Z"
   },
   {
    "duration": 322,
    "start_time": "2023-10-09T22:07:48.040Z"
   },
   {
    "duration": 364,
    "start_time": "2023-10-09T22:08:12.283Z"
   },
   {
    "duration": 603,
    "start_time": "2023-10-09T22:08:26.030Z"
   },
   {
    "duration": 104,
    "start_time": "2023-10-09T22:11:30.394Z"
   },
   {
    "duration": 470,
    "start_time": "2023-10-09T22:11:54.978Z"
   },
   {
    "duration": 534,
    "start_time": "2023-10-09T22:12:09.810Z"
   },
   {
    "duration": 519,
    "start_time": "2023-10-09T22:12:24.887Z"
   },
   {
    "duration": 448,
    "start_time": "2023-10-09T22:12:49.056Z"
   },
   {
    "duration": 527,
    "start_time": "2023-10-09T22:12:57.001Z"
   },
   {
    "duration": 656,
    "start_time": "2023-10-09T22:13:16.110Z"
   },
   {
    "duration": 562,
    "start_time": "2023-10-09T22:13:32.719Z"
   },
   {
    "duration": 581,
    "start_time": "2023-10-09T22:13:40.482Z"
   },
   {
    "duration": 536,
    "start_time": "2023-10-09T22:13:51.383Z"
   },
   {
    "duration": 548,
    "start_time": "2023-10-09T22:13:55.001Z"
   },
   {
    "duration": 697,
    "start_time": "2023-10-09T22:14:32.135Z"
   },
   {
    "duration": 542,
    "start_time": "2023-10-09T22:15:32.563Z"
   },
   {
    "duration": 530,
    "start_time": "2023-10-09T22:15:53.522Z"
   },
   {
    "duration": 532,
    "start_time": "2023-10-09T22:16:11.490Z"
   },
   {
    "duration": 530,
    "start_time": "2023-10-09T22:16:39.309Z"
   },
   {
    "duration": 1301,
    "start_time": "2023-10-10T00:15:54.576Z"
   },
   {
    "duration": 70,
    "start_time": "2023-10-10T00:15:55.879Z"
   },
   {
    "duration": 16,
    "start_time": "2023-10-10T00:15:55.951Z"
   },
   {
    "duration": 29,
    "start_time": "2023-10-10T00:15:55.969Z"
   },
   {
    "duration": 21,
    "start_time": "2023-10-10T00:15:56.000Z"
   },
   {
    "duration": 52,
    "start_time": "2023-10-10T00:15:56.022Z"
   },
   {
    "duration": 12,
    "start_time": "2023-10-10T00:15:56.075Z"
   },
   {
    "duration": 19,
    "start_time": "2023-10-10T00:15:56.089Z"
   },
   {
    "duration": 22,
    "start_time": "2023-10-10T00:15:56.109Z"
   },
   {
    "duration": 8,
    "start_time": "2023-10-10T00:15:56.134Z"
   },
   {
    "duration": 47,
    "start_time": "2023-10-10T00:15:56.144Z"
   },
   {
    "duration": 6,
    "start_time": "2023-10-10T00:15:56.193Z"
   },
   {
    "duration": 34,
    "start_time": "2023-10-10T00:15:56.201Z"
   },
   {
    "duration": 71,
    "start_time": "2023-10-10T00:15:56.236Z"
   },
   {
    "duration": 64,
    "start_time": "2023-10-10T00:15:56.310Z"
   },
   {
    "duration": 20,
    "start_time": "2023-10-10T00:15:56.376Z"
   },
   {
    "duration": 94,
    "start_time": "2023-10-10T00:15:56.397Z"
   },
   {
    "duration": 28,
    "start_time": "2023-10-10T00:15:56.492Z"
   },
   {
    "duration": 43,
    "start_time": "2023-10-10T00:15:56.522Z"
   },
   {
    "duration": 234,
    "start_time": "2023-10-10T00:15:56.567Z"
   },
   {
    "duration": 23,
    "start_time": "2023-10-10T00:15:56.803Z"
   },
   {
    "duration": 22,
    "start_time": "2023-10-10T00:15:56.828Z"
   },
   {
    "duration": 30,
    "start_time": "2023-10-10T00:15:56.851Z"
   },
   {
    "duration": 14,
    "start_time": "2023-10-10T00:15:56.883Z"
   },
   {
    "duration": 24,
    "start_time": "2023-10-10T00:15:56.898Z"
   },
   {
    "duration": 24,
    "start_time": "2023-10-10T00:15:56.924Z"
   },
   {
    "duration": 35,
    "start_time": "2023-10-10T00:15:56.950Z"
   },
   {
    "duration": 19,
    "start_time": "2023-10-10T00:15:56.989Z"
   },
   {
    "duration": 224,
    "start_time": "2023-10-10T00:15:57.010Z"
   },
   {
    "duration": 9,
    "start_time": "2023-10-10T00:15:57.235Z"
   },
   {
    "duration": 10,
    "start_time": "2023-10-10T00:15:57.245Z"
   },
   {
    "duration": 19,
    "start_time": "2023-10-10T00:15:57.257Z"
   },
   {
    "duration": 28,
    "start_time": "2023-10-10T00:15:57.278Z"
   },
   {
    "duration": 27,
    "start_time": "2023-10-10T00:15:57.308Z"
   },
   {
    "duration": 254,
    "start_time": "2023-10-10T00:15:57.337Z"
   },
   {
    "duration": 267,
    "start_time": "2023-10-10T00:15:57.593Z"
   },
   {
    "duration": 148,
    "start_time": "2023-10-10T00:15:57.862Z"
   },
   {
    "duration": 7,
    "start_time": "2023-10-10T00:15:58.012Z"
   },
   {
    "duration": 171,
    "start_time": "2023-10-10T00:15:58.021Z"
   },
   {
    "duration": 54,
    "start_time": "2023-10-10T00:15:58.193Z"
   },
   {
    "duration": 9,
    "start_time": "2023-10-10T00:15:58.249Z"
   },
   {
    "duration": 49,
    "start_time": "2023-10-10T00:15:58.259Z"
   },
   {
    "duration": 10,
    "start_time": "2023-10-10T00:15:58.310Z"
   },
   {
    "duration": 97,
    "start_time": "2023-10-10T00:15:58.322Z"
   },
   {
    "duration": 216,
    "start_time": "2023-10-10T00:15:58.421Z"
   },
   {
    "duration": 37,
    "start_time": "2023-10-10T00:15:58.639Z"
   },
   {
    "duration": 66,
    "start_time": "2023-10-10T00:15:58.678Z"
   },
   {
    "duration": 193,
    "start_time": "2023-10-10T00:15:58.746Z"
   },
   {
    "duration": 47,
    "start_time": "2023-10-10T00:15:58.941Z"
   },
   {
    "duration": 34,
    "start_time": "2023-10-10T00:15:58.990Z"
   },
   {
    "duration": 201,
    "start_time": "2023-10-10T00:15:59.026Z"
   },
   {
    "duration": 33,
    "start_time": "2023-10-10T00:15:59.229Z"
   },
   {
    "duration": 22,
    "start_time": "2023-10-10T00:15:59.263Z"
   },
   {
    "duration": 5,
    "start_time": "2023-10-10T00:15:59.286Z"
   },
   {
    "duration": 22,
    "start_time": "2023-10-10T00:15:59.292Z"
   },
   {
    "duration": 177,
    "start_time": "2023-10-10T00:15:59.315Z"
   },
   {
    "duration": 12,
    "start_time": "2023-10-10T00:15:59.494Z"
   },
   {
    "duration": 37,
    "start_time": "2023-10-10T00:15:59.508Z"
   },
   {
    "duration": 200,
    "start_time": "2023-10-10T00:15:59.547Z"
   },
   {
    "duration": 238,
    "start_time": "2023-10-10T00:15:59.749Z"
   },
   {
    "duration": 305,
    "start_time": "2023-10-10T00:15:59.988Z"
   },
   {
    "duration": 277,
    "start_time": "2023-10-10T00:16:00.295Z"
   },
   {
    "duration": 177,
    "start_time": "2023-10-10T00:16:00.573Z"
   },
   {
    "duration": 278,
    "start_time": "2023-10-10T00:16:00.752Z"
   },
   {
    "duration": 36,
    "start_time": "2023-10-10T00:16:01.031Z"
   },
   {
    "duration": 15,
    "start_time": "2023-10-10T00:16:01.069Z"
   },
   {
    "duration": 72,
    "start_time": "2023-10-10T00:16:01.086Z"
   },
   {
    "duration": 660,
    "start_time": "2023-10-10T00:16:01.159Z"
   },
   {
    "duration": 28,
    "start_time": "2023-10-10T00:16:01.821Z"
   },
   {
    "duration": 127,
    "start_time": "2023-10-10T00:16:01.851Z"
   },
   {
    "duration": 310,
    "start_time": "2023-10-10T00:16:01.979Z"
   },
   {
    "duration": 9,
    "start_time": "2023-10-10T00:16:02.291Z"
   },
   {
    "duration": 330,
    "start_time": "2023-10-10T00:16:02.302Z"
   },
   {
    "duration": 263,
    "start_time": "2023-10-10T00:16:02.633Z"
   },
   {
    "duration": 280,
    "start_time": "2023-10-10T00:16:02.897Z"
   },
   {
    "duration": 13,
    "start_time": "2023-10-10T00:16:03.179Z"
   },
   {
    "duration": 41,
    "start_time": "2023-10-10T00:16:03.193Z"
   },
   {
    "duration": 252,
    "start_time": "2023-10-10T00:16:03.236Z"
   },
   {
    "duration": 15,
    "start_time": "2023-10-10T00:16:03.489Z"
   },
   {
    "duration": 367,
    "start_time": "2023-10-10T00:16:03.505Z"
   },
   {
    "duration": 368,
    "start_time": "2023-10-10T00:16:03.874Z"
   },
   {
    "duration": 234,
    "start_time": "2023-10-10T00:16:04.248Z"
   },
   {
    "duration": 15,
    "start_time": "2023-10-10T00:16:04.484Z"
   },
   {
    "duration": 221,
    "start_time": "2023-10-10T00:16:04.501Z"
   },
   {
    "duration": 4,
    "start_time": "2023-10-10T00:16:04.724Z"
   },
   {
    "duration": 217,
    "start_time": "2023-10-10T00:16:04.730Z"
   },
   {
    "duration": 14,
    "start_time": "2023-10-10T00:16:04.948Z"
   },
   {
    "duration": 35,
    "start_time": "2023-10-10T00:16:04.964Z"
   },
   {
    "duration": 261,
    "start_time": "2023-10-10T00:16:05.000Z"
   },
   {
    "duration": 249,
    "start_time": "2023-10-10T00:16:05.262Z"
   },
   {
    "duration": 134,
    "start_time": "2023-10-10T00:16:05.513Z"
   },
   {
    "duration": 17,
    "start_time": "2023-10-10T00:16:05.649Z"
   },
   {
    "duration": 293,
    "start_time": "2023-10-10T00:16:05.668Z"
   },
   {
    "duration": 332,
    "start_time": "2023-10-10T00:16:05.963Z"
   },
   {
    "duration": 262,
    "start_time": "2023-10-10T00:16:06.297Z"
   },
   {
    "duration": 17,
    "start_time": "2023-10-10T00:16:06.561Z"
   },
   {
    "duration": 351,
    "start_time": "2023-10-10T00:16:06.580Z"
   },
   {
    "duration": 238,
    "start_time": "2023-10-10T00:16:06.933Z"
   },
   {
    "duration": 14,
    "start_time": "2023-10-10T00:16:07.173Z"
   },
   {
    "duration": 49,
    "start_time": "2023-10-10T00:16:07.188Z"
   },
   {
    "duration": 273,
    "start_time": "2023-10-10T00:16:07.238Z"
   },
   {
    "duration": 279,
    "start_time": "2023-10-10T00:16:07.513Z"
   },
   {
    "duration": 16,
    "start_time": "2023-10-10T00:16:07.794Z"
   },
   {
    "duration": 329,
    "start_time": "2023-10-10T00:16:07.812Z"
   },
   {
    "duration": 277,
    "start_time": "2023-10-10T00:16:08.144Z"
   },
   {
    "duration": 225,
    "start_time": "2023-10-10T00:16:08.423Z"
   },
   {
    "duration": 18,
    "start_time": "2023-10-10T00:16:08.650Z"
   },
   {
    "duration": 9,
    "start_time": "2023-10-10T00:16:08.670Z"
   },
   {
    "duration": 224,
    "start_time": "2023-10-10T00:16:08.681Z"
   },
   {
    "duration": 220,
    "start_time": "2023-10-10T00:16:08.907Z"
   },
   {
    "duration": 23,
    "start_time": "2023-10-10T00:16:09.129Z"
   },
   {
    "duration": 22,
    "start_time": "2023-10-10T00:16:09.155Z"
   },
   {
    "duration": 478,
    "start_time": "2023-10-10T00:16:09.179Z"
   },
   {
    "duration": 126,
    "start_time": "2023-10-10T00:16:09.658Z"
   },
   {
    "duration": 333,
    "start_time": "2023-10-10T00:16:09.786Z"
   },
   {
    "duration": 32,
    "start_time": "2023-10-10T00:16:10.121Z"
   },
   {
    "duration": 273,
    "start_time": "2023-10-10T00:16:10.155Z"
   },
   {
    "duration": 30,
    "start_time": "2023-10-10T00:16:10.430Z"
   },
   {
    "duration": 9,
    "start_time": "2023-10-10T00:16:10.462Z"
   },
   {
    "duration": 36,
    "start_time": "2023-10-10T00:16:10.473Z"
   },
   {
    "duration": 36,
    "start_time": "2023-10-10T00:16:10.511Z"
   },
   {
    "duration": 20,
    "start_time": "2023-10-10T00:16:10.549Z"
   },
   {
    "duration": 27,
    "start_time": "2023-10-10T00:16:10.571Z"
   },
   {
    "duration": 4,
    "start_time": "2023-10-10T06:23:02.120Z"
   },
   {
    "duration": 47,
    "start_time": "2023-10-10T06:27:36.924Z"
   },
   {
    "duration": 1328,
    "start_time": "2023-10-10T06:27:41.164Z"
   },
   {
    "duration": 197,
    "start_time": "2023-10-10T06:27:42.494Z"
   },
   {
    "duration": 14,
    "start_time": "2023-10-10T06:27:42.692Z"
   },
   {
    "duration": 11,
    "start_time": "2023-10-10T06:27:42.708Z"
   },
   {
    "duration": 15,
    "start_time": "2023-10-10T06:27:42.721Z"
   },
   {
    "duration": 50,
    "start_time": "2023-10-10T06:27:42.738Z"
   },
   {
    "duration": 3,
    "start_time": "2023-10-10T06:27:42.789Z"
   },
   {
    "duration": 6,
    "start_time": "2023-10-10T06:27:42.793Z"
   },
   {
    "duration": 14,
    "start_time": "2023-10-10T06:27:42.800Z"
   },
   {
    "duration": 5,
    "start_time": "2023-10-10T06:27:42.817Z"
   },
   {
    "duration": 21,
    "start_time": "2023-10-10T06:27:42.823Z"
   },
   {
    "duration": 2,
    "start_time": "2023-10-10T06:27:42.845Z"
   },
   {
    "duration": 3,
    "start_time": "2023-10-10T06:27:42.849Z"
   },
   {
    "duration": 23,
    "start_time": "2023-10-10T06:27:42.854Z"
   },
   {
    "duration": 16,
    "start_time": "2023-10-10T06:27:42.879Z"
   },
   {
    "duration": 12,
    "start_time": "2023-10-10T06:27:42.897Z"
   },
   {
    "duration": 41,
    "start_time": "2023-10-10T06:27:42.911Z"
   },
   {
    "duration": 5,
    "start_time": "2023-10-10T06:27:42.953Z"
   },
   {
    "duration": 8,
    "start_time": "2023-10-10T06:27:42.959Z"
   },
   {
    "duration": 213,
    "start_time": "2023-10-10T06:27:42.968Z"
   },
   {
    "duration": 19,
    "start_time": "2023-10-10T06:27:43.182Z"
   },
   {
    "duration": 15,
    "start_time": "2023-10-10T06:27:43.203Z"
   },
   {
    "duration": 22,
    "start_time": "2023-10-10T06:27:43.220Z"
   },
   {
    "duration": 13,
    "start_time": "2023-10-10T06:27:43.244Z"
   },
   {
    "duration": 27,
    "start_time": "2023-10-10T06:27:43.259Z"
   },
   {
    "duration": 30,
    "start_time": "2023-10-10T06:27:43.287Z"
   },
   {
    "duration": 8,
    "start_time": "2023-10-10T06:27:43.318Z"
   },
   {
    "duration": 12,
    "start_time": "2023-10-10T06:27:43.330Z"
   },
   {
    "duration": 211,
    "start_time": "2023-10-10T06:27:43.344Z"
   },
   {
    "duration": 2,
    "start_time": "2023-10-10T06:27:43.557Z"
   },
   {
    "duration": 18,
    "start_time": "2023-10-10T06:27:43.560Z"
   },
   {
    "duration": 18,
    "start_time": "2023-10-10T06:27:43.580Z"
   },
   {
    "duration": 8,
    "start_time": "2023-10-10T06:27:43.599Z"
   },
   {
    "duration": 9,
    "start_time": "2023-10-10T06:27:43.608Z"
   },
   {
    "duration": 232,
    "start_time": "2023-10-10T06:27:43.618Z"
   },
   {
    "duration": 269,
    "start_time": "2023-10-10T06:27:43.852Z"
   },
   {
    "duration": 267,
    "start_time": "2023-10-10T06:27:44.123Z"
   },
   {
    "duration": 7,
    "start_time": "2023-10-10T06:27:44.391Z"
   },
   {
    "duration": 135,
    "start_time": "2023-10-10T06:27:44.399Z"
   },
   {
    "duration": 39,
    "start_time": "2023-10-10T06:27:44.535Z"
   },
   {
    "duration": 24,
    "start_time": "2023-10-10T06:27:44.576Z"
   },
   {
    "duration": 45,
    "start_time": "2023-10-10T06:27:44.602Z"
   },
   {
    "duration": 2,
    "start_time": "2023-10-10T06:27:44.649Z"
   },
   {
    "duration": 86,
    "start_time": "2023-10-10T06:27:44.653Z"
   },
   {
    "duration": 214,
    "start_time": "2023-10-10T06:27:44.745Z"
   },
   {
    "duration": 36,
    "start_time": "2023-10-10T06:27:44.961Z"
   },
   {
    "duration": 2,
    "start_time": "2023-10-10T06:27:44.998Z"
   },
   {
    "duration": 163,
    "start_time": "2023-10-10T06:27:45.002Z"
   },
   {
    "duration": 53,
    "start_time": "2023-10-10T06:27:45.167Z"
   },
   {
    "duration": 40,
    "start_time": "2023-10-10T06:27:45.222Z"
   },
   {
    "duration": 183,
    "start_time": "2023-10-10T06:27:45.263Z"
   },
   {
    "duration": 22,
    "start_time": "2023-10-10T06:27:45.448Z"
   },
   {
    "duration": 20,
    "start_time": "2023-10-10T06:27:45.471Z"
   },
   {
    "duration": 7,
    "start_time": "2023-10-10T06:27:45.492Z"
   },
   {
    "duration": 44,
    "start_time": "2023-10-10T06:27:45.500Z"
   },
   {
    "duration": 158,
    "start_time": "2023-10-10T06:27:45.545Z"
   },
   {
    "duration": 11,
    "start_time": "2023-10-10T06:27:45.704Z"
   },
   {
    "duration": 33,
    "start_time": "2023-10-10T06:27:45.716Z"
   },
   {
    "duration": 190,
    "start_time": "2023-10-10T06:27:45.751Z"
   },
   {
    "duration": 225,
    "start_time": "2023-10-10T06:27:45.943Z"
   },
   {
    "duration": 293,
    "start_time": "2023-10-10T06:27:46.170Z"
   },
   {
    "duration": 328,
    "start_time": "2023-10-10T06:27:46.465Z"
   },
   {
    "duration": 167,
    "start_time": "2023-10-10T06:27:46.795Z"
   },
   {
    "duration": 173,
    "start_time": "2023-10-10T06:27:46.963Z"
   },
   {
    "duration": 28,
    "start_time": "2023-10-10T06:27:47.138Z"
   },
   {
    "duration": 13,
    "start_time": "2023-10-10T06:27:47.168Z"
   },
   {
    "duration": 28,
    "start_time": "2023-10-10T06:27:47.182Z"
   },
   {
    "duration": 13,
    "start_time": "2023-10-10T06:27:47.212Z"
   },
   {
    "duration": 584,
    "start_time": "2023-10-10T06:27:49.377Z"
   },
   {
    "duration": 203,
    "start_time": "2023-10-10T06:30:01.470Z"
   },
   {
    "duration": 76,
    "start_time": "2023-10-10T06:30:17.362Z"
   },
   {
    "duration": 80,
    "start_time": "2023-10-10T06:30:27.821Z"
   },
   {
    "duration": 74,
    "start_time": "2023-10-10T06:31:03.143Z"
   },
   {
    "duration": 146,
    "start_time": "2023-10-10T06:31:16.451Z"
   },
   {
    "duration": 1117,
    "start_time": "2023-10-10T06:31:31.768Z"
   },
   {
    "duration": 1124,
    "start_time": "2023-10-10T06:35:37.817Z"
   },
   {
    "duration": 1037,
    "start_time": "2023-10-10T06:36:36.571Z"
   },
   {
    "duration": 974,
    "start_time": "2023-10-10T06:36:49.904Z"
   },
   {
    "duration": 1022,
    "start_time": "2023-10-10T06:37:00.377Z"
   },
   {
    "duration": 1129,
    "start_time": "2023-10-10T06:37:09.254Z"
   },
   {
    "duration": 113,
    "start_time": "2023-10-10T06:37:18.350Z"
   },
   {
    "duration": 6,
    "start_time": "2023-10-10T06:37:23.881Z"
   },
   {
    "duration": 937,
    "start_time": "2023-10-10T06:37:30.499Z"
   },
   {
    "duration": 884,
    "start_time": "2023-10-10T06:38:43.064Z"
   },
   {
    "duration": 1074,
    "start_time": "2023-10-10T06:38:59.333Z"
   },
   {
    "duration": 861,
    "start_time": "2023-10-10T06:39:16.299Z"
   },
   {
    "duration": 1442,
    "start_time": "2023-10-10T06:39:57.393Z"
   },
   {
    "duration": 1513,
    "start_time": "2023-10-10T06:40:06.566Z"
   },
   {
    "duration": 1536,
    "start_time": "2023-10-10T06:42:11.447Z"
   },
   {
    "duration": 196,
    "start_time": "2023-10-10T06:55:16.567Z"
   },
   {
    "duration": 198,
    "start_time": "2023-10-10T06:57:30.421Z"
   },
   {
    "duration": 174,
    "start_time": "2023-10-10T06:58:45.058Z"
   },
   {
    "duration": 194,
    "start_time": "2023-10-10T06:59:29.032Z"
   },
   {
    "duration": 173,
    "start_time": "2023-10-10T06:59:53.679Z"
   },
   {
    "duration": 167,
    "start_time": "2023-10-10T07:00:12.669Z"
   },
   {
    "duration": 187,
    "start_time": "2023-10-10T07:00:38.122Z"
   },
   {
    "duration": 252,
    "start_time": "2023-10-10T07:00:43.751Z"
   },
   {
    "duration": 174,
    "start_time": "2023-10-10T07:01:49.638Z"
   },
   {
    "duration": 170,
    "start_time": "2023-10-10T07:02:57.663Z"
   },
   {
    "duration": 259,
    "start_time": "2023-10-10T07:03:14.108Z"
   },
   {
    "duration": 928,
    "start_time": "2023-10-10T07:03:25.650Z"
   },
   {
    "duration": 1023,
    "start_time": "2023-10-10T07:04:01.737Z"
   },
   {
    "duration": 940,
    "start_time": "2023-10-10T07:04:25.471Z"
   },
   {
    "duration": 1122,
    "start_time": "2023-10-10T07:04:37.371Z"
   },
   {
    "duration": 1016,
    "start_time": "2023-10-10T07:09:46.432Z"
   },
   {
    "duration": 1084,
    "start_time": "2023-10-10T07:09:55.662Z"
   },
   {
    "duration": 1067,
    "start_time": "2023-10-10T07:10:10.946Z"
   },
   {
    "duration": 1030,
    "start_time": "2023-10-10T07:10:29.823Z"
   },
   {
    "duration": 281,
    "start_time": "2023-10-10T07:11:03.502Z"
   },
   {
    "duration": 190,
    "start_time": "2023-10-10T07:11:08.154Z"
   },
   {
    "duration": 1092,
    "start_time": "2023-10-10T07:11:13.579Z"
   },
   {
    "duration": 1135,
    "start_time": "2023-10-10T07:11:25.758Z"
   },
   {
    "duration": 1025,
    "start_time": "2023-10-10T07:11:32.626Z"
   },
   {
    "duration": 1075,
    "start_time": "2023-10-10T07:12:31.983Z"
   },
   {
    "duration": 1115,
    "start_time": "2023-10-10T07:12:37.206Z"
   },
   {
    "duration": 1364,
    "start_time": "2023-10-10T07:12:54.186Z"
   },
   {
    "duration": 1197,
    "start_time": "2023-10-10T07:23:24.344Z"
   },
   {
    "duration": 65,
    "start_time": "2023-10-10T07:23:25.544Z"
   },
   {
    "duration": 13,
    "start_time": "2023-10-10T07:23:25.611Z"
   },
   {
    "duration": 22,
    "start_time": "2023-10-10T07:23:25.626Z"
   },
   {
    "duration": 31,
    "start_time": "2023-10-10T07:23:25.650Z"
   },
   {
    "duration": 48,
    "start_time": "2023-10-10T07:23:25.683Z"
   },
   {
    "duration": 7,
    "start_time": "2023-10-10T07:23:25.733Z"
   },
   {
    "duration": 31,
    "start_time": "2023-10-10T07:23:25.742Z"
   },
   {
    "duration": 41,
    "start_time": "2023-10-10T07:23:25.775Z"
   },
   {
    "duration": 26,
    "start_time": "2023-10-10T07:23:25.819Z"
   },
   {
    "duration": 51,
    "start_time": "2023-10-10T07:23:25.846Z"
   },
   {
    "duration": 25,
    "start_time": "2023-10-10T07:23:25.898Z"
   },
   {
    "duration": 36,
    "start_time": "2023-10-10T07:23:25.925Z"
   },
   {
    "duration": 38,
    "start_time": "2023-10-10T07:23:25.962Z"
   },
   {
    "duration": 31,
    "start_time": "2023-10-10T07:23:26.001Z"
   },
   {
    "duration": 21,
    "start_time": "2023-10-10T07:23:26.034Z"
   },
   {
    "duration": 31,
    "start_time": "2023-10-10T07:23:26.057Z"
   },
   {
    "duration": 24,
    "start_time": "2023-10-10T07:23:26.090Z"
   },
   {
    "duration": 30,
    "start_time": "2023-10-10T07:23:26.116Z"
   },
   {
    "duration": 235,
    "start_time": "2023-10-10T07:23:26.148Z"
   },
   {
    "duration": 20,
    "start_time": "2023-10-10T07:23:26.385Z"
   },
   {
    "duration": 14,
    "start_time": "2023-10-10T07:23:26.407Z"
   },
   {
    "duration": 49,
    "start_time": "2023-10-10T07:23:26.423Z"
   },
   {
    "duration": 12,
    "start_time": "2023-10-10T07:23:26.474Z"
   },
   {
    "duration": 16,
    "start_time": "2023-10-10T07:23:26.487Z"
   },
   {
    "duration": 22,
    "start_time": "2023-10-10T07:23:26.504Z"
   },
   {
    "duration": 8,
    "start_time": "2023-10-10T07:23:26.528Z"
   },
   {
    "duration": 11,
    "start_time": "2023-10-10T07:23:26.539Z"
   },
   {
    "duration": 205,
    "start_time": "2023-10-10T07:23:26.551Z"
   },
   {
    "duration": 2,
    "start_time": "2023-10-10T07:23:26.757Z"
   },
   {
    "duration": 18,
    "start_time": "2023-10-10T07:23:26.761Z"
   },
   {
    "duration": 7,
    "start_time": "2023-10-10T07:23:26.781Z"
   },
   {
    "duration": 9,
    "start_time": "2023-10-10T07:23:26.790Z"
   },
   {
    "duration": 52,
    "start_time": "2023-10-10T07:23:26.800Z"
   },
   {
    "duration": 250,
    "start_time": "2023-10-10T07:23:26.854Z"
   },
   {
    "duration": 280,
    "start_time": "2023-10-10T07:23:27.105Z"
   },
   {
    "duration": 178,
    "start_time": "2023-10-10T07:23:27.388Z"
   },
   {
    "duration": 8,
    "start_time": "2023-10-10T07:23:27.567Z"
   },
   {
    "duration": 209,
    "start_time": "2023-10-10T07:23:27.576Z"
   },
   {
    "duration": 41,
    "start_time": "2023-10-10T07:23:27.787Z"
   },
   {
    "duration": 17,
    "start_time": "2023-10-10T07:23:27.830Z"
   },
   {
    "duration": 26,
    "start_time": "2023-10-10T07:23:27.848Z"
   },
   {
    "duration": 2,
    "start_time": "2023-10-10T07:23:27.875Z"
   },
   {
    "duration": 83,
    "start_time": "2023-10-10T07:23:27.879Z"
   },
   {
    "duration": 208,
    "start_time": "2023-10-10T07:23:27.964Z"
   },
   {
    "duration": 34,
    "start_time": "2023-10-10T07:23:28.174Z"
   },
   {
    "duration": 2,
    "start_time": "2023-10-10T07:23:28.210Z"
   },
   {
    "duration": 31,
    "start_time": "2023-10-10T07:23:28.214Z"
   },
   {
    "duration": 23,
    "start_time": "2023-10-10T07:23:28.247Z"
   },
   {
    "duration": 36,
    "start_time": "2023-10-10T07:23:28.272Z"
   },
   {
    "duration": 220,
    "start_time": "2023-10-10T07:23:28.310Z"
   },
   {
    "duration": 35,
    "start_time": "2023-10-10T07:23:28.532Z"
   },
   {
    "duration": 22,
    "start_time": "2023-10-10T07:23:28.569Z"
   },
   {
    "duration": 5,
    "start_time": "2023-10-10T07:23:28.593Z"
   },
   {
    "duration": 14,
    "start_time": "2023-10-10T07:23:28.599Z"
   },
   {
    "duration": 191,
    "start_time": "2023-10-10T07:23:28.614Z"
   },
   {
    "duration": 13,
    "start_time": "2023-10-10T07:23:28.808Z"
   },
   {
    "duration": 36,
    "start_time": "2023-10-10T07:23:28.823Z"
   },
   {
    "duration": 232,
    "start_time": "2023-10-10T07:23:28.861Z"
   },
   {
    "duration": 250,
    "start_time": "2023-10-10T07:23:29.095Z"
   },
   {
    "duration": 303,
    "start_time": "2023-10-10T07:23:29.347Z"
   },
   {
    "duration": 306,
    "start_time": "2023-10-10T07:23:29.651Z"
   },
   {
    "duration": 212,
    "start_time": "2023-10-10T07:23:29.959Z"
   },
   {
    "duration": 308,
    "start_time": "2023-10-10T07:23:30.173Z"
   },
   {
    "duration": 28,
    "start_time": "2023-10-10T07:23:30.483Z"
   },
   {
    "duration": 114,
    "start_time": "2023-10-10T07:23:30.513Z"
   },
   {
    "duration": 103,
    "start_time": "2023-10-10T07:23:30.629Z"
   },
   {
    "duration": 119,
    "start_time": "2023-10-10T07:23:30.734Z"
   },
   {
    "duration": 1122,
    "start_time": "2023-10-10T07:23:30.855Z"
   },
   {
    "duration": 20,
    "start_time": "2023-10-10T07:23:31.979Z"
   },
   {
    "duration": 59,
    "start_time": "2023-10-10T07:23:32.000Z"
   },
   {
    "duration": 376,
    "start_time": "2023-10-10T07:23:32.060Z"
   },
   {
    "duration": 17,
    "start_time": "2023-10-10T07:23:32.438Z"
   },
   {
    "duration": 368,
    "start_time": "2023-10-10T07:23:32.457Z"
   },
   {
    "duration": 277,
    "start_time": "2023-10-10T07:23:32.827Z"
   },
   {
    "duration": 380,
    "start_time": "2023-10-10T07:23:33.106Z"
   },
   {
    "duration": 15,
    "start_time": "2023-10-10T07:23:33.489Z"
   },
   {
    "duration": 53,
    "start_time": "2023-10-10T07:23:33.506Z"
   },
   {
    "duration": 263,
    "start_time": "2023-10-10T07:23:33.561Z"
   },
   {
    "duration": 25,
    "start_time": "2023-10-10T07:23:33.825Z"
   },
   {
    "duration": 317,
    "start_time": "2023-10-10T07:23:33.851Z"
   },
   {
    "duration": 326,
    "start_time": "2023-10-10T07:23:34.175Z"
   },
   {
    "duration": 228,
    "start_time": "2023-10-10T07:23:34.503Z"
   },
   {
    "duration": 26,
    "start_time": "2023-10-10T07:23:34.733Z"
   },
   {
    "duration": 200,
    "start_time": "2023-10-10T07:23:34.761Z"
   },
   {
    "duration": 13,
    "start_time": "2023-10-10T07:23:34.962Z"
   },
   {
    "duration": 207,
    "start_time": "2023-10-10T07:23:34.977Z"
   },
   {
    "duration": 14,
    "start_time": "2023-10-10T07:23:35.186Z"
   },
   {
    "duration": 43,
    "start_time": "2023-10-10T07:23:35.202Z"
   },
   {
    "duration": 236,
    "start_time": "2023-10-10T07:23:35.247Z"
   },
   {
    "duration": 265,
    "start_time": "2023-10-10T07:23:35.485Z"
   },
   {
    "duration": 129,
    "start_time": "2023-10-10T07:23:35.752Z"
   },
   {
    "duration": 15,
    "start_time": "2023-10-10T07:23:35.883Z"
   },
   {
    "duration": 264,
    "start_time": "2023-10-10T07:23:35.899Z"
   },
   {
    "duration": 398,
    "start_time": "2023-10-10T07:23:36.164Z"
   },
   {
    "duration": 230,
    "start_time": "2023-10-10T07:23:36.564Z"
   },
   {
    "duration": 16,
    "start_time": "2023-10-10T07:23:36.795Z"
   },
   {
    "duration": 198,
    "start_time": "2023-10-10T07:23:36.813Z"
   },
   {
    "duration": 207,
    "start_time": "2023-10-10T07:23:37.013Z"
   },
   {
    "duration": 13,
    "start_time": "2023-10-10T07:23:37.222Z"
   },
   {
    "duration": 16,
    "start_time": "2023-10-10T07:23:37.244Z"
   },
   {
    "duration": 236,
    "start_time": "2023-10-10T07:23:37.261Z"
   },
   {
    "duration": 319,
    "start_time": "2023-10-10T07:23:37.498Z"
   },
   {
    "duration": 27,
    "start_time": "2023-10-10T07:23:37.819Z"
   },
   {
    "duration": 454,
    "start_time": "2023-10-10T07:23:37.847Z"
   },
   {
    "duration": 281,
    "start_time": "2023-10-10T07:23:38.303Z"
   },
   {
    "duration": 218,
    "start_time": "2023-10-10T07:23:38.586Z"
   },
   {
    "duration": 16,
    "start_time": "2023-10-10T07:23:38.806Z"
   },
   {
    "duration": 24,
    "start_time": "2023-10-10T07:23:38.825Z"
   },
   {
    "duration": 212,
    "start_time": "2023-10-10T07:23:38.851Z"
   },
   {
    "duration": 204,
    "start_time": "2023-10-10T07:23:39.065Z"
   },
   {
    "duration": 14,
    "start_time": "2023-10-10T07:23:39.272Z"
   },
   {
    "duration": 134,
    "start_time": "2023-10-10T07:23:39.288Z"
   },
   {
    "duration": 279,
    "start_time": "2023-10-10T07:23:39.424Z"
   },
   {
    "duration": 19,
    "start_time": "2023-10-10T07:23:39.705Z"
   },
   {
    "duration": 315,
    "start_time": "2023-10-10T07:23:39.726Z"
   },
   {
    "duration": 20,
    "start_time": "2023-10-10T07:23:40.043Z"
   },
   {
    "duration": 284,
    "start_time": "2023-10-10T07:23:40.064Z"
   },
   {
    "duration": 20,
    "start_time": "2023-10-10T07:23:40.350Z"
   },
   {
    "duration": 53,
    "start_time": "2023-10-10T07:23:40.372Z"
   },
   {
    "duration": 51,
    "start_time": "2023-10-10T07:23:40.427Z"
   },
   {
    "duration": 25,
    "start_time": "2023-10-10T07:23:40.480Z"
   },
   {
    "duration": 33,
    "start_time": "2023-10-10T07:23:40.506Z"
   },
   {
    "duration": 17,
    "start_time": "2023-10-10T07:23:40.541Z"
   },
   {
    "duration": 1335,
    "start_time": "2023-10-10T15:35:06.404Z"
   },
   {
    "duration": 210,
    "start_time": "2023-10-10T15:35:07.741Z"
   },
   {
    "duration": 14,
    "start_time": "2023-10-10T15:35:07.953Z"
   },
   {
    "duration": 17,
    "start_time": "2023-10-10T15:35:07.969Z"
   },
   {
    "duration": 32,
    "start_time": "2023-10-10T15:35:07.988Z"
   },
   {
    "duration": 43,
    "start_time": "2023-10-10T15:35:08.023Z"
   },
   {
    "duration": 14,
    "start_time": "2023-10-10T15:35:08.068Z"
   },
   {
    "duration": 14,
    "start_time": "2023-10-10T15:35:08.083Z"
   },
   {
    "duration": 10,
    "start_time": "2023-10-10T15:35:08.099Z"
   },
   {
    "duration": 20,
    "start_time": "2023-10-10T15:35:08.112Z"
   },
   {
    "duration": 23,
    "start_time": "2023-10-10T15:35:08.133Z"
   },
   {
    "duration": 8,
    "start_time": "2023-10-10T15:35:08.158Z"
   },
   {
    "duration": 25,
    "start_time": "2023-10-10T15:35:08.167Z"
   },
   {
    "duration": 31,
    "start_time": "2023-10-10T15:35:08.193Z"
   },
   {
    "duration": 28,
    "start_time": "2023-10-10T15:35:08.226Z"
   },
   {
    "duration": 34,
    "start_time": "2023-10-10T15:35:08.256Z"
   },
   {
    "duration": 35,
    "start_time": "2023-10-10T15:35:08.292Z"
   },
   {
    "duration": 17,
    "start_time": "2023-10-10T15:35:08.329Z"
   },
   {
    "duration": 41,
    "start_time": "2023-10-10T15:35:08.347Z"
   },
   {
    "duration": 220,
    "start_time": "2023-10-10T15:35:08.390Z"
   },
   {
    "duration": 20,
    "start_time": "2023-10-10T15:35:08.612Z"
   },
   {
    "duration": 34,
    "start_time": "2023-10-10T15:35:08.644Z"
   },
   {
    "duration": 40,
    "start_time": "2023-10-10T15:35:08.680Z"
   },
   {
    "duration": 55,
    "start_time": "2023-10-10T15:35:08.722Z"
   },
   {
    "duration": 32,
    "start_time": "2023-10-10T15:35:08.779Z"
   },
   {
    "duration": 22,
    "start_time": "2023-10-10T15:35:08.813Z"
   },
   {
    "duration": 20,
    "start_time": "2023-10-10T15:35:08.836Z"
   },
   {
    "duration": 19,
    "start_time": "2023-10-10T15:35:08.859Z"
   },
   {
    "duration": 225,
    "start_time": "2023-10-10T15:35:08.880Z"
   },
   {
    "duration": 3,
    "start_time": "2023-10-10T15:35:09.106Z"
   },
   {
    "duration": 18,
    "start_time": "2023-10-10T15:35:09.110Z"
   },
   {
    "duration": 43,
    "start_time": "2023-10-10T15:35:09.130Z"
   },
   {
    "duration": 31,
    "start_time": "2023-10-10T15:35:09.175Z"
   },
   {
    "duration": 32,
    "start_time": "2023-10-10T15:35:09.207Z"
   },
   {
    "duration": 272,
    "start_time": "2023-10-10T15:35:09.241Z"
   },
   {
    "duration": 259,
    "start_time": "2023-10-10T15:35:09.515Z"
   },
   {
    "duration": 162,
    "start_time": "2023-10-10T15:35:09.776Z"
   },
   {
    "duration": 8,
    "start_time": "2023-10-10T15:35:09.939Z"
   },
   {
    "duration": 178,
    "start_time": "2023-10-10T15:35:09.949Z"
   },
   {
    "duration": 44,
    "start_time": "2023-10-10T15:35:10.128Z"
   },
   {
    "duration": 50,
    "start_time": "2023-10-10T15:35:10.174Z"
   },
   {
    "duration": 46,
    "start_time": "2023-10-10T15:35:10.226Z"
   },
   {
    "duration": 51,
    "start_time": "2023-10-10T15:35:10.274Z"
   },
   {
    "duration": 93,
    "start_time": "2023-10-10T15:35:10.326Z"
   },
   {
    "duration": 223,
    "start_time": "2023-10-10T15:35:10.421Z"
   },
   {
    "duration": 36,
    "start_time": "2023-10-10T15:35:10.646Z"
   },
   {
    "duration": 3,
    "start_time": "2023-10-10T15:35:10.684Z"
   },
   {
    "duration": 63,
    "start_time": "2023-10-10T15:35:10.688Z"
   },
   {
    "duration": 45,
    "start_time": "2023-10-10T15:35:10.753Z"
   },
   {
    "duration": 56,
    "start_time": "2023-10-10T15:35:10.799Z"
   },
   {
    "duration": 213,
    "start_time": "2023-10-10T15:35:10.857Z"
   },
   {
    "duration": 23,
    "start_time": "2023-10-10T15:35:11.071Z"
   },
   {
    "duration": 53,
    "start_time": "2023-10-10T15:35:11.096Z"
   },
   {
    "duration": 21,
    "start_time": "2023-10-10T15:35:11.150Z"
   },
   {
    "duration": 42,
    "start_time": "2023-10-10T15:35:11.172Z"
   },
   {
    "duration": 170,
    "start_time": "2023-10-10T15:35:11.216Z"
   },
   {
    "duration": 10,
    "start_time": "2023-10-10T15:35:11.388Z"
   },
   {
    "duration": 32,
    "start_time": "2023-10-10T15:35:11.400Z"
   },
   {
    "duration": 225,
    "start_time": "2023-10-10T15:35:11.433Z"
   },
   {
    "duration": 254,
    "start_time": "2023-10-10T15:35:11.659Z"
   },
   {
    "duration": 294,
    "start_time": "2023-10-10T15:35:11.915Z"
   },
   {
    "duration": 291,
    "start_time": "2023-10-10T15:35:12.210Z"
   },
   {
    "duration": 198,
    "start_time": "2023-10-10T15:35:12.503Z"
   },
   {
    "duration": 279,
    "start_time": "2023-10-10T15:35:12.703Z"
   },
   {
    "duration": 28,
    "start_time": "2023-10-10T15:35:12.984Z"
   },
   {
    "duration": 25,
    "start_time": "2023-10-10T15:35:13.013Z"
   },
   {
    "duration": 43,
    "start_time": "2023-10-10T15:35:13.040Z"
   },
   {
    "duration": 50,
    "start_time": "2023-10-10T15:35:13.085Z"
   },
   {
    "duration": 1140,
    "start_time": "2023-10-10T15:35:13.137Z"
   },
   {
    "duration": 23,
    "start_time": "2023-10-10T15:35:14.279Z"
   },
   {
    "duration": 49,
    "start_time": "2023-10-10T15:35:14.304Z"
   },
   {
    "duration": 268,
    "start_time": "2023-10-10T15:35:14.355Z"
   },
   {
    "duration": 7,
    "start_time": "2023-10-10T15:35:14.625Z"
   },
   {
    "duration": 301,
    "start_time": "2023-10-10T15:35:14.634Z"
   },
   {
    "duration": 253,
    "start_time": "2023-10-10T15:35:14.936Z"
   },
   {
    "duration": 345,
    "start_time": "2023-10-10T15:35:15.191Z"
   },
   {
    "duration": 16,
    "start_time": "2023-10-10T15:35:15.537Z"
   },
   {
    "duration": 53,
    "start_time": "2023-10-10T15:35:15.554Z"
   },
   {
    "duration": 236,
    "start_time": "2023-10-10T15:35:15.609Z"
   },
   {
    "duration": 15,
    "start_time": "2023-10-10T15:35:15.847Z"
   },
   {
    "duration": 255,
    "start_time": "2023-10-10T15:35:15.864Z"
   },
   {
    "duration": 301,
    "start_time": "2023-10-10T15:35:16.127Z"
   },
   {
    "duration": 214,
    "start_time": "2023-10-10T15:35:16.430Z"
   },
   {
    "duration": 16,
    "start_time": "2023-10-10T15:35:16.646Z"
   },
   {
    "duration": 207,
    "start_time": "2023-10-10T15:35:16.664Z"
   },
   {
    "duration": 4,
    "start_time": "2023-10-10T15:35:16.873Z"
   },
   {
    "duration": 197,
    "start_time": "2023-10-10T15:35:16.878Z"
   },
   {
    "duration": 13,
    "start_time": "2023-10-10T15:35:17.077Z"
   },
   {
    "duration": 19,
    "start_time": "2023-10-10T15:35:17.092Z"
   },
   {
    "duration": 237,
    "start_time": "2023-10-10T15:35:17.113Z"
   },
   {
    "duration": 236,
    "start_time": "2023-10-10T15:35:17.352Z"
   },
   {
    "duration": 145,
    "start_time": "2023-10-10T15:35:17.590Z"
   },
   {
    "duration": 18,
    "start_time": "2023-10-10T15:35:17.744Z"
   },
   {
    "duration": 251,
    "start_time": "2023-10-10T15:35:17.763Z"
   },
   {
    "duration": 386,
    "start_time": "2023-10-10T15:35:18.016Z"
   },
   {
    "duration": 208,
    "start_time": "2023-10-10T15:35:18.403Z"
   },
   {
    "duration": 14,
    "start_time": "2023-10-10T15:35:18.613Z"
   },
   {
    "duration": 193,
    "start_time": "2023-10-10T15:35:18.628Z"
   },
   {
    "duration": 217,
    "start_time": "2023-10-10T15:35:18.823Z"
   },
   {
    "duration": 15,
    "start_time": "2023-10-10T15:35:19.041Z"
   },
   {
    "duration": 16,
    "start_time": "2023-10-10T15:35:19.058Z"
   },
   {
    "duration": 232,
    "start_time": "2023-10-10T15:35:19.075Z"
   },
   {
    "duration": 262,
    "start_time": "2023-10-10T15:35:19.309Z"
   },
   {
    "duration": 15,
    "start_time": "2023-10-10T15:35:19.572Z"
   },
   {
    "duration": 298,
    "start_time": "2023-10-10T15:35:19.589Z"
   },
   {
    "duration": 262,
    "start_time": "2023-10-10T15:35:19.888Z"
   },
   {
    "duration": 203,
    "start_time": "2023-10-10T15:35:20.151Z"
   },
   {
    "duration": 15,
    "start_time": "2023-10-10T15:35:20.356Z"
   },
   {
    "duration": 39,
    "start_time": "2023-10-10T15:35:20.373Z"
   },
   {
    "duration": 175,
    "start_time": "2023-10-10T15:35:20.414Z"
   },
   {
    "duration": 194,
    "start_time": "2023-10-10T15:35:20.591Z"
   },
   {
    "duration": 14,
    "start_time": "2023-10-10T15:35:20.787Z"
   },
   {
    "duration": 118,
    "start_time": "2023-10-10T15:35:20.802Z"
   },
   {
    "duration": 268,
    "start_time": "2023-10-10T15:35:20.922Z"
   },
   {
    "duration": 19,
    "start_time": "2023-10-10T15:35:21.191Z"
   },
   {
    "duration": 295,
    "start_time": "2023-10-10T15:35:21.212Z"
   },
   {
    "duration": 18,
    "start_time": "2023-10-10T15:35:21.508Z"
   },
   {
    "duration": 238,
    "start_time": "2023-10-10T15:35:21.527Z"
   },
   {
    "duration": 19,
    "start_time": "2023-10-10T15:35:21.766Z"
   },
   {
    "duration": 17,
    "start_time": "2023-10-10T15:35:21.787Z"
   },
   {
    "duration": 13,
    "start_time": "2023-10-10T15:35:21.806Z"
   },
   {
    "duration": 12,
    "start_time": "2023-10-10T15:35:21.821Z"
   },
   {
    "duration": 11,
    "start_time": "2023-10-10T15:35:21.835Z"
   },
   {
    "duration": 10,
    "start_time": "2023-10-10T15:35:21.848Z"
   }
  ],
  "kernelspec": {
   "display_name": "Python 3 (ipykernel)",
   "language": "python",
   "name": "python3"
  },
  "language_info": {
   "codemirror_mode": {
    "name": "ipython",
    "version": 3
   },
   "file_extension": ".py",
   "mimetype": "text/x-python",
   "name": "python",
   "nbconvert_exporter": "python",
   "pygments_lexer": "ipython3",
   "version": "3.9.5"
  },
  "toc": {
   "base_numbering": 1,
   "nav_menu": {},
   "number_sections": true,
   "sideBar": true,
   "skip_h1_title": true,
   "title_cell": "Table of Contents",
   "title_sidebar": "Contents",
   "toc_cell": false,
   "toc_position": {
    "height": "450px",
    "left": "39px",
    "top": "111.141px",
    "width": "245px"
   },
   "toc_section_display": true,
   "toc_window_display": true
  }
 },
 "nbformat": 4,
 "nbformat_minor": 4
}
